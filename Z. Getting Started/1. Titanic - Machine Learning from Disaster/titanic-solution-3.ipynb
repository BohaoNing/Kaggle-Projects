{
 "cells": [
  {
   "cell_type": "code",
   "execution_count": 1,
   "id": "862ca82c",
   "metadata": {
    "_cell_guid": "b1076dfc-b9ad-4769-8c92-a6c4dae69d19",
    "_uuid": "8f2839f25d086af736a60e9eeb907d3b93b6e0e5",
    "execution": {
     "iopub.execute_input": "2022-10-02T14:30:15.366408Z",
     "iopub.status.busy": "2022-10-02T14:30:15.365659Z",
     "iopub.status.idle": "2022-10-02T14:30:15.385074Z",
     "shell.execute_reply": "2022-10-02T14:30:15.383925Z"
    },
    "papermill": {
     "duration": 0.032149,
     "end_time": "2022-10-02T14:30:15.388303",
     "exception": false,
     "start_time": "2022-10-02T14:30:15.356154",
     "status": "completed"
    },
    "tags": []
   },
   "outputs": [
    {
     "name": "stdout",
     "output_type": "stream",
     "text": [
      "/kaggle/input/titanic/train.csv\n",
      "/kaggle/input/titanic/test.csv\n",
      "/kaggle/input/titanic/gender_submission.csv\n"
     ]
    }
   ],
   "source": [
    "# This Python 3 environment comes with many helpful analytics libraries installed\n",
    "# It is defined by the kaggle/python Docker image: https://github.com/kaggle/docker-python\n",
    "# For example, here's several helpful packages to load\n",
    "\n",
    "import numpy as np # linear algebra\n",
    "import pandas as pd # data processing, CSV file I/O (e.g. pd.read_csv)\n",
    "\n",
    "# Input data files are available in the read-only \"../input/\" directory\n",
    "# For example, running this (by clicking run or pressing Shift+Enter) will list all files under the input directory\n",
    "\n",
    "import os\n",
    "for dirname, _, filenames in os.walk('/kaggle/input'):\n",
    "    for filename in filenames:\n",
    "        print(os.path.join(dirname, filename))\n",
    "\n",
    "# You can write up to 20GB to the current directory (/kaggle/working/) that gets preserved as output when you create a version using \"Save & Run All\" \n",
    "# You can also write temporary files to /kaggle/temp/, but they won't be saved outside of the current session"
   ]
  },
  {
   "cell_type": "code",
   "execution_count": 2,
   "id": "64df1068",
   "metadata": {
    "execution": {
     "iopub.execute_input": "2022-10-02T14:30:15.403478Z",
     "iopub.status.busy": "2022-10-02T14:30:15.401820Z",
     "iopub.status.idle": "2022-10-02T14:30:15.441743Z",
     "shell.execute_reply": "2022-10-02T14:30:15.440759Z"
    },
    "papermill": {
     "duration": 0.049755,
     "end_time": "2022-10-02T14:30:15.444533",
     "exception": false,
     "start_time": "2022-10-02T14:30:15.394778",
     "status": "completed"
    },
    "tags": []
   },
   "outputs": [],
   "source": [
    "# Data Input\n",
    "data_train = pd.read_csv('/kaggle/input/titanic/train.csv')\n",
    "data_test = pd.read_csv('/kaggle/input/titanic/test.csv')\n",
    "sub_example = pd.read_csv('/kaggle/input/titanic/gender_submission.csv')"
   ]
  },
  {
   "cell_type": "code",
   "execution_count": 3,
   "id": "5cf8aa14",
   "metadata": {
    "execution": {
     "iopub.execute_input": "2022-10-02T14:30:15.459401Z",
     "iopub.status.busy": "2022-10-02T14:30:15.457586Z",
     "iopub.status.idle": "2022-10-02T14:30:15.476217Z",
     "shell.execute_reply": "2022-10-02T14:30:15.474643Z"
    },
    "papermill": {
     "duration": 0.028814,
     "end_time": "2022-10-02T14:30:15.479219",
     "exception": false,
     "start_time": "2022-10-02T14:30:15.450405",
     "status": "completed"
    },
    "tags": []
   },
   "outputs": [],
   "source": [
    "X_train = data_train.drop('Survived',axis=1)\n",
    "y_train = data_train['Survived']\n",
    "X_test = data_test"
   ]
  },
  {
   "cell_type": "code",
   "execution_count": 4,
   "id": "d730d584",
   "metadata": {
    "execution": {
     "iopub.execute_input": "2022-10-02T14:30:15.492631Z",
     "iopub.status.busy": "2022-10-02T14:30:15.492129Z",
     "iopub.status.idle": "2022-10-02T14:30:15.507256Z",
     "shell.execute_reply": "2022-10-02T14:30:15.506027Z"
    },
    "papermill": {
     "duration": 0.025411,
     "end_time": "2022-10-02T14:30:15.510399",
     "exception": false,
     "start_time": "2022-10-02T14:30:15.484988",
     "status": "completed"
    },
    "tags": []
   },
   "outputs": [
    {
     "data": {
      "text/plain": [
       "PassengerId      0\n",
       "Pclass           0\n",
       "Name             0\n",
       "Sex              0\n",
       "Age            177\n",
       "SibSp            0\n",
       "Parch            0\n",
       "Ticket           0\n",
       "Fare             0\n",
       "Cabin          687\n",
       "Embarked         2\n",
       "dtype: int64"
      ]
     },
     "execution_count": 4,
     "metadata": {},
     "output_type": "execute_result"
    }
   ],
   "source": [
    "X_train.isnull().sum()"
   ]
  },
  {
   "cell_type": "code",
   "execution_count": 5,
   "id": "facc2512",
   "metadata": {
    "execution": {
     "iopub.execute_input": "2022-10-02T14:30:15.524927Z",
     "iopub.status.busy": "2022-10-02T14:30:15.523486Z",
     "iopub.status.idle": "2022-10-02T14:30:15.536059Z",
     "shell.execute_reply": "2022-10-02T14:30:15.534762Z"
    },
    "papermill": {
     "duration": 0.022728,
     "end_time": "2022-10-02T14:30:15.538559",
     "exception": false,
     "start_time": "2022-10-02T14:30:15.515831",
     "status": "completed"
    },
    "tags": []
   },
   "outputs": [
    {
     "data": {
      "text/plain": [
       "0.19865319865319866"
      ]
     },
     "execution_count": 5,
     "metadata": {},
     "output_type": "execute_result"
    }
   ],
   "source": [
    "# Ratio of missing age in train data\n",
    "X_train.isnull().sum().loc['Age']/len(X_train)"
   ]
  },
  {
   "cell_type": "code",
   "execution_count": 6,
   "id": "20c159e4",
   "metadata": {
    "execution": {
     "iopub.execute_input": "2022-10-02T14:30:15.551731Z",
     "iopub.status.busy": "2022-10-02T14:30:15.551228Z",
     "iopub.status.idle": "2022-10-02T14:30:15.563566Z",
     "shell.execute_reply": "2022-10-02T14:30:15.562040Z"
    },
    "papermill": {
     "duration": 0.022501,
     "end_time": "2022-10-02T14:30:15.566594",
     "exception": false,
     "start_time": "2022-10-02T14:30:15.544093",
     "status": "completed"
    },
    "tags": []
   },
   "outputs": [
    {
     "data": {
      "text/plain": [
       "PassengerId      0\n",
       "Pclass           0\n",
       "Name             0\n",
       "Sex              0\n",
       "Age             86\n",
       "SibSp            0\n",
       "Parch            0\n",
       "Ticket           0\n",
       "Fare             1\n",
       "Cabin          327\n",
       "Embarked         0\n",
       "dtype: int64"
      ]
     },
     "execution_count": 6,
     "metadata": {},
     "output_type": "execute_result"
    }
   ],
   "source": [
    "X_test.isnull().sum()"
   ]
  },
  {
   "cell_type": "code",
   "execution_count": 7,
   "id": "b8758270",
   "metadata": {
    "execution": {
     "iopub.execute_input": "2022-10-02T14:30:15.581907Z",
     "iopub.status.busy": "2022-10-02T14:30:15.581489Z",
     "iopub.status.idle": "2022-10-02T14:30:15.593485Z",
     "shell.execute_reply": "2022-10-02T14:30:15.591731Z"
    },
    "papermill": {
     "duration": 0.024945,
     "end_time": "2022-10-02T14:30:15.597686",
     "exception": false,
     "start_time": "2022-10-02T14:30:15.572741",
     "status": "completed"
    },
    "tags": []
   },
   "outputs": [
    {
     "data": {
      "text/plain": [
       "0.20574162679425836"
      ]
     },
     "execution_count": 7,
     "metadata": {},
     "output_type": "execute_result"
    }
   ],
   "source": [
    "# Ratio of missing age in test data\n",
    "X_test.isnull().sum().loc['Age']/len(X_test)"
   ]
  },
  {
   "cell_type": "code",
   "execution_count": 8,
   "id": "ec9d957f",
   "metadata": {
    "execution": {
     "iopub.execute_input": "2022-10-02T14:30:15.613347Z",
     "iopub.status.busy": "2022-10-02T14:30:15.612307Z",
     "iopub.status.idle": "2022-10-02T14:30:15.634370Z",
     "shell.execute_reply": "2022-10-02T14:30:15.633424Z"
    },
    "papermill": {
     "duration": 0.032164,
     "end_time": "2022-10-02T14:30:15.636525",
     "exception": false,
     "start_time": "2022-10-02T14:30:15.604361",
     "status": "completed"
    },
    "tags": []
   },
   "outputs": [
    {
     "data": {
      "text/html": [
       "<div>\n",
       "<style scoped>\n",
       "    .dataframe tbody tr th:only-of-type {\n",
       "        vertical-align: middle;\n",
       "    }\n",
       "\n",
       "    .dataframe tbody tr th {\n",
       "        vertical-align: top;\n",
       "    }\n",
       "\n",
       "    .dataframe thead th {\n",
       "        text-align: right;\n",
       "    }\n",
       "</style>\n",
       "<table border=\"1\" class=\"dataframe\">\n",
       "  <thead>\n",
       "    <tr style=\"text-align: right;\">\n",
       "      <th></th>\n",
       "      <th>PassengerId</th>\n",
       "      <th>Pclass</th>\n",
       "      <th>Name</th>\n",
       "      <th>Sex</th>\n",
       "      <th>Age</th>\n",
       "      <th>SibSp</th>\n",
       "      <th>Parch</th>\n",
       "      <th>Ticket</th>\n",
       "      <th>Fare</th>\n",
       "      <th>Cabin</th>\n",
       "      <th>Embarked</th>\n",
       "    </tr>\n",
       "  </thead>\n",
       "  <tbody>\n",
       "    <tr>\n",
       "      <th>0</th>\n",
       "      <td>1</td>\n",
       "      <td>3</td>\n",
       "      <td>Braund, Mr. Owen Harris</td>\n",
       "      <td>male</td>\n",
       "      <td>22.0</td>\n",
       "      <td>1</td>\n",
       "      <td>0</td>\n",
       "      <td>A/5 21171</td>\n",
       "      <td>7.2500</td>\n",
       "      <td>NaN</td>\n",
       "      <td>S</td>\n",
       "    </tr>\n",
       "    <tr>\n",
       "      <th>1</th>\n",
       "      <td>2</td>\n",
       "      <td>1</td>\n",
       "      <td>Cumings, Mrs. John Bradley (Florence Briggs Th...</td>\n",
       "      <td>female</td>\n",
       "      <td>38.0</td>\n",
       "      <td>1</td>\n",
       "      <td>0</td>\n",
       "      <td>PC 17599</td>\n",
       "      <td>71.2833</td>\n",
       "      <td>C85</td>\n",
       "      <td>C</td>\n",
       "    </tr>\n",
       "    <tr>\n",
       "      <th>2</th>\n",
       "      <td>3</td>\n",
       "      <td>3</td>\n",
       "      <td>Heikkinen, Miss. Laina</td>\n",
       "      <td>female</td>\n",
       "      <td>26.0</td>\n",
       "      <td>0</td>\n",
       "      <td>0</td>\n",
       "      <td>STON/O2. 3101282</td>\n",
       "      <td>7.9250</td>\n",
       "      <td>NaN</td>\n",
       "      <td>S</td>\n",
       "    </tr>\n",
       "    <tr>\n",
       "      <th>3</th>\n",
       "      <td>4</td>\n",
       "      <td>1</td>\n",
       "      <td>Futrelle, Mrs. Jacques Heath (Lily May Peel)</td>\n",
       "      <td>female</td>\n",
       "      <td>35.0</td>\n",
       "      <td>1</td>\n",
       "      <td>0</td>\n",
       "      <td>113803</td>\n",
       "      <td>53.1000</td>\n",
       "      <td>C123</td>\n",
       "      <td>S</td>\n",
       "    </tr>\n",
       "    <tr>\n",
       "      <th>4</th>\n",
       "      <td>5</td>\n",
       "      <td>3</td>\n",
       "      <td>Allen, Mr. William Henry</td>\n",
       "      <td>male</td>\n",
       "      <td>35.0</td>\n",
       "      <td>0</td>\n",
       "      <td>0</td>\n",
       "      <td>373450</td>\n",
       "      <td>8.0500</td>\n",
       "      <td>NaN</td>\n",
       "      <td>S</td>\n",
       "    </tr>\n",
       "  </tbody>\n",
       "</table>\n",
       "</div>"
      ],
      "text/plain": [
       "   PassengerId  Pclass                                               Name  \\\n",
       "0            1       3                            Braund, Mr. Owen Harris   \n",
       "1            2       1  Cumings, Mrs. John Bradley (Florence Briggs Th...   \n",
       "2            3       3                             Heikkinen, Miss. Laina   \n",
       "3            4       1       Futrelle, Mrs. Jacques Heath (Lily May Peel)   \n",
       "4            5       3                           Allen, Mr. William Henry   \n",
       "\n",
       "      Sex   Age  SibSp  Parch            Ticket     Fare Cabin Embarked  \n",
       "0    male  22.0      1      0         A/5 21171   7.2500   NaN        S  \n",
       "1  female  38.0      1      0          PC 17599  71.2833   C85        C  \n",
       "2  female  26.0      0      0  STON/O2. 3101282   7.9250   NaN        S  \n",
       "3  female  35.0      1      0            113803  53.1000  C123        S  \n",
       "4    male  35.0      0      0            373450   8.0500   NaN        S  "
      ]
     },
     "execution_count": 8,
     "metadata": {},
     "output_type": "execute_result"
    }
   ],
   "source": [
    "X_train.head()"
   ]
  },
  {
   "cell_type": "code",
   "execution_count": 9,
   "id": "e77a7d6a",
   "metadata": {
    "execution": {
     "iopub.execute_input": "2022-10-02T14:30:15.651208Z",
     "iopub.status.busy": "2022-10-02T14:30:15.650502Z",
     "iopub.status.idle": "2022-10-02T14:30:15.657732Z",
     "shell.execute_reply": "2022-10-02T14:30:15.656380Z"
    },
    "papermill": {
     "duration": 0.017555,
     "end_time": "2022-10-02T14:30:15.660357",
     "exception": false,
     "start_time": "2022-10-02T14:30:15.642802",
     "status": "completed"
    },
    "tags": []
   },
   "outputs": [],
   "source": [
    "# Dropping useless columns \n",
    "X_train = X_train.drop(['Name','Ticket','Cabin','PassengerId'],axis=1)\n",
    "X_test = X_test.drop(['Name','Ticket','Cabin','PassengerId'],axis=1)"
   ]
  },
  {
   "cell_type": "code",
   "execution_count": 10,
   "id": "1b36616f",
   "metadata": {
    "execution": {
     "iopub.execute_input": "2022-10-02T14:30:15.674625Z",
     "iopub.status.busy": "2022-10-02T14:30:15.674175Z",
     "iopub.status.idle": "2022-10-02T14:30:15.690015Z",
     "shell.execute_reply": "2022-10-02T14:30:15.688799Z"
    },
    "papermill": {
     "duration": 0.025913,
     "end_time": "2022-10-02T14:30:15.692638",
     "exception": false,
     "start_time": "2022-10-02T14:30:15.666725",
     "status": "completed"
    },
    "tags": []
   },
   "outputs": [
    {
     "data": {
      "text/html": [
       "<div>\n",
       "<style scoped>\n",
       "    .dataframe tbody tr th:only-of-type {\n",
       "        vertical-align: middle;\n",
       "    }\n",
       "\n",
       "    .dataframe tbody tr th {\n",
       "        vertical-align: top;\n",
       "    }\n",
       "\n",
       "    .dataframe thead th {\n",
       "        text-align: right;\n",
       "    }\n",
       "</style>\n",
       "<table border=\"1\" class=\"dataframe\">\n",
       "  <thead>\n",
       "    <tr style=\"text-align: right;\">\n",
       "      <th></th>\n",
       "      <th>Pclass</th>\n",
       "      <th>Sex</th>\n",
       "      <th>Age</th>\n",
       "      <th>SibSp</th>\n",
       "      <th>Parch</th>\n",
       "      <th>Fare</th>\n",
       "      <th>Embarked</th>\n",
       "    </tr>\n",
       "  </thead>\n",
       "  <tbody>\n",
       "    <tr>\n",
       "      <th>0</th>\n",
       "      <td>3</td>\n",
       "      <td>male</td>\n",
       "      <td>22.0</td>\n",
       "      <td>1</td>\n",
       "      <td>0</td>\n",
       "      <td>7.2500</td>\n",
       "      <td>S</td>\n",
       "    </tr>\n",
       "    <tr>\n",
       "      <th>1</th>\n",
       "      <td>1</td>\n",
       "      <td>female</td>\n",
       "      <td>38.0</td>\n",
       "      <td>1</td>\n",
       "      <td>0</td>\n",
       "      <td>71.2833</td>\n",
       "      <td>C</td>\n",
       "    </tr>\n",
       "    <tr>\n",
       "      <th>2</th>\n",
       "      <td>3</td>\n",
       "      <td>female</td>\n",
       "      <td>26.0</td>\n",
       "      <td>0</td>\n",
       "      <td>0</td>\n",
       "      <td>7.9250</td>\n",
       "      <td>S</td>\n",
       "    </tr>\n",
       "    <tr>\n",
       "      <th>3</th>\n",
       "      <td>1</td>\n",
       "      <td>female</td>\n",
       "      <td>35.0</td>\n",
       "      <td>1</td>\n",
       "      <td>0</td>\n",
       "      <td>53.1000</td>\n",
       "      <td>S</td>\n",
       "    </tr>\n",
       "    <tr>\n",
       "      <th>4</th>\n",
       "      <td>3</td>\n",
       "      <td>male</td>\n",
       "      <td>35.0</td>\n",
       "      <td>0</td>\n",
       "      <td>0</td>\n",
       "      <td>8.0500</td>\n",
       "      <td>S</td>\n",
       "    </tr>\n",
       "  </tbody>\n",
       "</table>\n",
       "</div>"
      ],
      "text/plain": [
       "   Pclass     Sex   Age  SibSp  Parch     Fare Embarked\n",
       "0       3    male  22.0      1      0   7.2500        S\n",
       "1       1  female  38.0      1      0  71.2833        C\n",
       "2       3  female  26.0      0      0   7.9250        S\n",
       "3       1  female  35.0      1      0  53.1000        S\n",
       "4       3    male  35.0      0      0   8.0500        S"
      ]
     },
     "execution_count": 10,
     "metadata": {},
     "output_type": "execute_result"
    }
   ],
   "source": [
    "X_train.head()"
   ]
  },
  {
   "cell_type": "code",
   "execution_count": 11,
   "id": "85700fb6",
   "metadata": {
    "execution": {
     "iopub.execute_input": "2022-10-02T14:30:15.707792Z",
     "iopub.status.busy": "2022-10-02T14:30:15.707022Z",
     "iopub.status.idle": "2022-10-02T14:30:15.721094Z",
     "shell.execute_reply": "2022-10-02T14:30:15.719879Z"
    },
    "papermill": {
     "duration": 0.024385,
     "end_time": "2022-10-02T14:30:15.723531",
     "exception": false,
     "start_time": "2022-10-02T14:30:15.699146",
     "status": "completed"
    },
    "tags": []
   },
   "outputs": [
    {
     "data": {
      "text/html": [
       "<div>\n",
       "<style scoped>\n",
       "    .dataframe tbody tr th:only-of-type {\n",
       "        vertical-align: middle;\n",
       "    }\n",
       "\n",
       "    .dataframe tbody tr th {\n",
       "        vertical-align: top;\n",
       "    }\n",
       "\n",
       "    .dataframe thead th {\n",
       "        text-align: right;\n",
       "    }\n",
       "</style>\n",
       "<table border=\"1\" class=\"dataframe\">\n",
       "  <thead>\n",
       "    <tr style=\"text-align: right;\">\n",
       "      <th></th>\n",
       "      <th>Pclass</th>\n",
       "      <th>Sex</th>\n",
       "      <th>Age</th>\n",
       "      <th>SibSp</th>\n",
       "      <th>Parch</th>\n",
       "      <th>Fare</th>\n",
       "      <th>Embarked</th>\n",
       "    </tr>\n",
       "  </thead>\n",
       "  <tbody>\n",
       "    <tr>\n",
       "      <th>0</th>\n",
       "      <td>3</td>\n",
       "      <td>male</td>\n",
       "      <td>34.5</td>\n",
       "      <td>0</td>\n",
       "      <td>0</td>\n",
       "      <td>7.8292</td>\n",
       "      <td>Q</td>\n",
       "    </tr>\n",
       "    <tr>\n",
       "      <th>1</th>\n",
       "      <td>3</td>\n",
       "      <td>female</td>\n",
       "      <td>47.0</td>\n",
       "      <td>1</td>\n",
       "      <td>0</td>\n",
       "      <td>7.0000</td>\n",
       "      <td>S</td>\n",
       "    </tr>\n",
       "    <tr>\n",
       "      <th>2</th>\n",
       "      <td>2</td>\n",
       "      <td>male</td>\n",
       "      <td>62.0</td>\n",
       "      <td>0</td>\n",
       "      <td>0</td>\n",
       "      <td>9.6875</td>\n",
       "      <td>Q</td>\n",
       "    </tr>\n",
       "    <tr>\n",
       "      <th>3</th>\n",
       "      <td>3</td>\n",
       "      <td>male</td>\n",
       "      <td>27.0</td>\n",
       "      <td>0</td>\n",
       "      <td>0</td>\n",
       "      <td>8.6625</td>\n",
       "      <td>S</td>\n",
       "    </tr>\n",
       "    <tr>\n",
       "      <th>4</th>\n",
       "      <td>3</td>\n",
       "      <td>female</td>\n",
       "      <td>22.0</td>\n",
       "      <td>1</td>\n",
       "      <td>1</td>\n",
       "      <td>12.2875</td>\n",
       "      <td>S</td>\n",
       "    </tr>\n",
       "  </tbody>\n",
       "</table>\n",
       "</div>"
      ],
      "text/plain": [
       "   Pclass     Sex   Age  SibSp  Parch     Fare Embarked\n",
       "0       3    male  34.5      0      0   7.8292        Q\n",
       "1       3  female  47.0      1      0   7.0000        S\n",
       "2       2    male  62.0      0      0   9.6875        Q\n",
       "3       3    male  27.0      0      0   8.6625        S\n",
       "4       3  female  22.0      1      1  12.2875        S"
      ]
     },
     "execution_count": 11,
     "metadata": {},
     "output_type": "execute_result"
    }
   ],
   "source": [
    "X_test.head()"
   ]
  },
  {
   "cell_type": "code",
   "execution_count": 12,
   "id": "0335e1e6",
   "metadata": {
    "execution": {
     "iopub.execute_input": "2022-10-02T14:30:15.738761Z",
     "iopub.status.busy": "2022-10-02T14:30:15.738026Z",
     "iopub.status.idle": "2022-10-02T14:30:15.758213Z",
     "shell.execute_reply": "2022-10-02T14:30:15.756602Z"
    },
    "papermill": {
     "duration": 0.031333,
     "end_time": "2022-10-02T14:30:15.761436",
     "exception": false,
     "start_time": "2022-10-02T14:30:15.730103",
     "status": "completed"
    },
    "tags": []
   },
   "outputs": [],
   "source": [
    "# Converting to numerical data\n",
    "X_train_num = pd.get_dummies(X_train,drop_first=True)\n",
    "X_test_num = pd.get_dummies(X_test,drop_first=True)"
   ]
  },
  {
   "cell_type": "code",
   "execution_count": 13,
   "id": "052b2869",
   "metadata": {
    "execution": {
     "iopub.execute_input": "2022-10-02T14:30:15.776470Z",
     "iopub.status.busy": "2022-10-02T14:30:15.776015Z",
     "iopub.status.idle": "2022-10-02T14:30:17.180211Z",
     "shell.execute_reply": "2022-10-02T14:30:17.178720Z"
    },
    "papermill": {
     "duration": 1.417424,
     "end_time": "2022-10-02T14:30:17.185453",
     "exception": false,
     "start_time": "2022-10-02T14:30:15.768029",
     "status": "completed"
    },
    "tags": []
   },
   "outputs": [],
   "source": [
    "# Filling out missing values using KNN\n",
    "from sklearn.impute import KNNImputer\n",
    "\n",
    "imputer = KNNImputer(n_neighbors=3)\n",
    "X_train_num_filled = imputer.fit_transform(X_train_num)\n",
    "X_test_num_filled = imputer.fit_transform(X_test_num)"
   ]
  },
  {
   "cell_type": "code",
   "execution_count": 14,
   "id": "20b035d0",
   "metadata": {
    "execution": {
     "iopub.execute_input": "2022-10-02T14:30:17.222405Z",
     "iopub.status.busy": "2022-10-02T14:30:17.221408Z",
     "iopub.status.idle": "2022-10-02T14:30:17.229707Z",
     "shell.execute_reply": "2022-10-02T14:30:17.228437Z"
    },
    "papermill": {
     "duration": 0.030997,
     "end_time": "2022-10-02T14:30:17.233430",
     "exception": false,
     "start_time": "2022-10-02T14:30:17.202433",
     "status": "completed"
    },
    "tags": []
   },
   "outputs": [],
   "source": [
    "# Grid Search\n",
    "# from sklearn.model_selection import GridSearchCV\n",
    "# from sklearn.ensemble import RandomForestClassifier\n",
    "# n_estimators=[64,100,128,200]\n",
    "# max_features= [2,3,4]\n",
    "# bootstrap = [True,False]\n",
    "# oob_score = [True,False]\n",
    "# param_grid = {'n_estimators':n_estimators,\n",
    "#              'max_features':max_features,\n",
    "#              'bootstrap':bootstrap,\n",
    "#              'oob_score':oob_score}  # Note, oob_score only makes sense when bootstrap=True!\n",
    "# rfc = RandomForestClassifier()\n",
    "# grid = GridSearchCV(rfc,param_grid)\n",
    "# grid.fit(X_train_num_filled,y_train)\n",
    "# grid.best_params_"
   ]
  },
  {
   "cell_type": "code",
   "execution_count": 15,
   "id": "5932be7e",
   "metadata": {
    "execution": {
     "iopub.execute_input": "2022-10-02T14:30:17.269070Z",
     "iopub.status.busy": "2022-10-02T14:30:17.268275Z",
     "iopub.status.idle": "2022-10-02T14:30:17.528479Z",
     "shell.execute_reply": "2022-10-02T14:30:17.526909Z"
    },
    "papermill": {
     "duration": 0.281429,
     "end_time": "2022-10-02T14:30:17.531197",
     "exception": false,
     "start_time": "2022-10-02T14:30:17.249768",
     "status": "completed"
    },
    "tags": []
   },
   "outputs": [
    {
     "data": {
      "text/plain": [
       "0.9820426487093153"
      ]
     },
     "execution_count": 15,
     "metadata": {},
     "output_type": "execute_result"
    }
   ],
   "source": [
    "from sklearn.ensemble import RandomForestClassifier\n",
    "rfc = RandomForestClassifier(bootstrap=True, max_features=3, n_estimators=64, oob_score=False)\n",
    "rfc.fit(X_train_num_filled,y_train)\n",
    "rfc.score(X_train_num_filled,y_train)"
   ]
  },
  {
   "cell_type": "code",
   "execution_count": 16,
   "id": "c2ea28e9",
   "metadata": {
    "execution": {
     "iopub.execute_input": "2022-10-02T14:30:17.546427Z",
     "iopub.status.busy": "2022-10-02T14:30:17.546021Z",
     "iopub.status.idle": "2022-10-02T14:30:17.570322Z",
     "shell.execute_reply": "2022-10-02T14:30:17.568892Z"
    },
    "papermill": {
     "duration": 0.035185,
     "end_time": "2022-10-02T14:30:17.573067",
     "exception": false,
     "start_time": "2022-10-02T14:30:17.537882",
     "status": "completed"
    },
    "tags": []
   },
   "outputs": [
    {
     "data": {
      "text/plain": [
       "array([0, 0, 0, 1, 0, 0, 0, 0, 1, 0, 0, 0, 1, 0, 1, 1, 0, 0, 1, 0, 1, 1,\n",
       "       1, 1, 1, 0, 1, 1, 1, 0, 0, 0, 1, 0, 1, 1, 0, 0, 0, 1, 0, 1, 0, 1,\n",
       "       1, 0, 0, 0, 1, 1, 1, 0, 1, 1, 0, 0, 0, 0, 0, 1, 0, 0, 0, 1, 1, 1,\n",
       "       1, 0, 0, 1, 1, 0, 0, 0, 1, 0, 0, 1, 0, 1, 1, 0, 0, 0, 0, 0, 1, 0,\n",
       "       1, 1, 0, 0, 1, 0, 1, 0, 1, 0, 0, 0, 1, 0, 0, 0, 0, 0, 0, 0, 0, 0,\n",
       "       0, 1, 1, 1, 1, 0, 0, 1, 0, 1, 1, 0, 1, 0, 0, 1, 0, 1, 0, 0, 1, 0,\n",
       "       0, 0, 0, 0, 0, 0, 0, 0, 0, 1, 0, 0, 1, 0, 0, 0, 1, 0, 1, 0, 0, 1,\n",
       "       0, 0, 1, 0, 1, 1, 1, 1, 1, 0, 0, 0, 0, 0, 1, 0, 0, 0, 0, 0, 0, 1,\n",
       "       1, 1, 1, 1, 0, 0, 1, 0, 1, 0, 1, 0, 0, 0, 0, 0, 0, 0, 1, 0, 1, 0,\n",
       "       0, 0, 1, 1, 0, 1, 0, 0, 0, 0, 1, 0, 0, 0, 0, 1, 0, 0, 1, 0, 1, 0,\n",
       "       1, 0, 1, 1, 1, 1, 0, 1, 0, 0, 0, 1, 0, 0, 1, 0, 1, 1, 1, 1, 1, 1,\n",
       "       0, 0, 0, 0, 1, 0, 1, 1, 1, 0, 0, 0, 0, 0, 0, 0, 1, 0, 0, 0, 1, 1,\n",
       "       0, 0, 0, 0, 0, 0, 0, 0, 1, 1, 0, 1, 0, 0, 0, 0, 0, 1, 1, 0, 1, 0,\n",
       "       0, 0, 0, 0, 0, 0, 0, 0, 0, 0, 1, 0, 0, 0, 0, 0, 0, 0, 1, 1, 1, 1,\n",
       "       0, 0, 0, 1, 0, 0, 1, 1, 0, 1, 0, 0, 0, 0, 0, 1, 1, 0, 1, 0, 0, 0,\n",
       "       1, 1, 0, 1, 0, 0, 1, 0, 0, 0, 0, 0, 0, 1, 0, 0, 0, 0, 0, 1, 1, 0,\n",
       "       0, 0, 1, 0, 1, 0, 0, 1, 0, 1, 1, 1, 1, 1, 0, 0, 1, 0, 0, 1, 0, 0,\n",
       "       1, 1, 0, 0, 0, 0, 0, 0, 0, 0, 0, 1, 0, 0, 0, 0, 0, 1, 0, 0, 0, 1,\n",
       "       0, 1, 0, 0, 1, 0, 1, 0, 0, 0, 0, 0, 0, 1, 1, 1, 0, 0, 1, 0, 0, 1])"
      ]
     },
     "execution_count": 16,
     "metadata": {},
     "output_type": "execute_result"
    }
   ],
   "source": [
    "predictions = rfc.predict(X_test_num_filled)\n",
    "predictions"
   ]
  },
  {
   "cell_type": "code",
   "execution_count": 17,
   "id": "356a7a39",
   "metadata": {
    "execution": {
     "iopub.execute_input": "2022-10-02T14:30:17.589062Z",
     "iopub.status.busy": "2022-10-02T14:30:17.588594Z",
     "iopub.status.idle": "2022-10-02T14:30:17.603845Z",
     "shell.execute_reply": "2022-10-02T14:30:17.602439Z"
    },
    "papermill": {
     "duration": 0.026759,
     "end_time": "2022-10-02T14:30:17.606448",
     "exception": false,
     "start_time": "2022-10-02T14:30:17.579689",
     "status": "completed"
    },
    "tags": []
   },
   "outputs": [
    {
     "data": {
      "text/html": [
       "<div>\n",
       "<style scoped>\n",
       "    .dataframe tbody tr th:only-of-type {\n",
       "        vertical-align: middle;\n",
       "    }\n",
       "\n",
       "    .dataframe tbody tr th {\n",
       "        vertical-align: top;\n",
       "    }\n",
       "\n",
       "    .dataframe thead th {\n",
       "        text-align: right;\n",
       "    }\n",
       "</style>\n",
       "<table border=\"1\" class=\"dataframe\">\n",
       "  <thead>\n",
       "    <tr style=\"text-align: right;\">\n",
       "      <th></th>\n",
       "      <th>PassengerId</th>\n",
       "      <th>Survived</th>\n",
       "    </tr>\n",
       "  </thead>\n",
       "  <tbody>\n",
       "    <tr>\n",
       "      <th>0</th>\n",
       "      <td>892</td>\n",
       "      <td>0</td>\n",
       "    </tr>\n",
       "    <tr>\n",
       "      <th>1</th>\n",
       "      <td>893</td>\n",
       "      <td>0</td>\n",
       "    </tr>\n",
       "    <tr>\n",
       "      <th>2</th>\n",
       "      <td>894</td>\n",
       "      <td>0</td>\n",
       "    </tr>\n",
       "    <tr>\n",
       "      <th>3</th>\n",
       "      <td>895</td>\n",
       "      <td>1</td>\n",
       "    </tr>\n",
       "    <tr>\n",
       "      <th>4</th>\n",
       "      <td>896</td>\n",
       "      <td>0</td>\n",
       "    </tr>\n",
       "    <tr>\n",
       "      <th>...</th>\n",
       "      <td>...</td>\n",
       "      <td>...</td>\n",
       "    </tr>\n",
       "    <tr>\n",
       "      <th>413</th>\n",
       "      <td>1305</td>\n",
       "      <td>0</td>\n",
       "    </tr>\n",
       "    <tr>\n",
       "      <th>414</th>\n",
       "      <td>1306</td>\n",
       "      <td>1</td>\n",
       "    </tr>\n",
       "    <tr>\n",
       "      <th>415</th>\n",
       "      <td>1307</td>\n",
       "      <td>0</td>\n",
       "    </tr>\n",
       "    <tr>\n",
       "      <th>416</th>\n",
       "      <td>1308</td>\n",
       "      <td>0</td>\n",
       "    </tr>\n",
       "    <tr>\n",
       "      <th>417</th>\n",
       "      <td>1309</td>\n",
       "      <td>1</td>\n",
       "    </tr>\n",
       "  </tbody>\n",
       "</table>\n",
       "<p>418 rows × 2 columns</p>\n",
       "</div>"
      ],
      "text/plain": [
       "     PassengerId  Survived\n",
       "0            892         0\n",
       "1            893         0\n",
       "2            894         0\n",
       "3            895         1\n",
       "4            896         0\n",
       "..           ...       ...\n",
       "413         1305         0\n",
       "414         1306         1\n",
       "415         1307         0\n",
       "416         1308         0\n",
       "417         1309         1\n",
       "\n",
       "[418 rows x 2 columns]"
      ]
     },
     "execution_count": 17,
     "metadata": {},
     "output_type": "execute_result"
    }
   ],
   "source": [
    "output = pd.DataFrame({'PassengerId': data_test.PassengerId, 'Survived': predictions})\n",
    "output"
   ]
  },
  {
   "cell_type": "code",
   "execution_count": 18,
   "id": "6df4b268",
   "metadata": {
    "execution": {
     "iopub.execute_input": "2022-10-02T14:30:17.622911Z",
     "iopub.status.busy": "2022-10-02T14:30:17.622450Z",
     "iopub.status.idle": "2022-10-02T14:30:17.631782Z",
     "shell.execute_reply": "2022-10-02T14:30:17.630518Z"
    },
    "papermill": {
     "duration": 0.021081,
     "end_time": "2022-10-02T14:30:17.634772",
     "exception": false,
     "start_time": "2022-10-02T14:30:17.613691",
     "status": "completed"
    },
    "tags": []
   },
   "outputs": [],
   "source": [
    "output.to_csv('submission.csv', index=False)"
   ]
  },
  {
   "cell_type": "code",
   "execution_count": null,
   "id": "b2f3a31a",
   "metadata": {
    "papermill": {
     "duration": 0.006676,
     "end_time": "2022-10-02T14:30:17.648437",
     "exception": false,
     "start_time": "2022-10-02T14:30:17.641761",
     "status": "completed"
    },
    "tags": []
   },
   "outputs": [],
   "source": []
  }
 ],
 "metadata": {
  "kernelspec": {
   "display_name": "Python 3",
   "language": "python",
   "name": "python3"
  },
  "language_info": {
   "codemirror_mode": {
    "name": "ipython",
    "version": 3
   },
   "file_extension": ".py",
   "mimetype": "text/x-python",
   "name": "python",
   "nbconvert_exporter": "python",
   "pygments_lexer": "ipython3",
   "version": "3.7.12"
  },
  "papermill": {
   "default_parameters": {},
   "duration": 14.102518,
   "end_time": "2022-10-02T14:30:18.680612",
   "environment_variables": {},
   "exception": null,
   "input_path": "__notebook__.ipynb",
   "output_path": "__notebook__.ipynb",
   "parameters": {},
   "start_time": "2022-10-02T14:30:04.578094",
   "version": "2.3.4"
  }
 },
 "nbformat": 4,
 "nbformat_minor": 5
}
