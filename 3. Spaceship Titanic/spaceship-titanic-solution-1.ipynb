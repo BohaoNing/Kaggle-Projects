{
 "cells": [
  {
   "cell_type": "code",
   "execution_count": 1,
   "id": "aa622fba",
   "metadata": {
    "_cell_guid": "b1076dfc-b9ad-4769-8c92-a6c4dae69d19",
    "_uuid": "8f2839f25d086af736a60e9eeb907d3b93b6e0e5",
    "execution": {
     "iopub.execute_input": "2022-07-27T00:13:43.890782Z",
     "iopub.status.busy": "2022-07-27T00:13:43.890151Z",
     "iopub.status.idle": "2022-07-27T00:13:45.124981Z",
     "shell.execute_reply": "2022-07-27T00:13:45.124014Z"
    },
    "papermill": {
     "duration": 1.250183,
     "end_time": "2022-07-27T00:13:45.127925",
     "exception": false,
     "start_time": "2022-07-27T00:13:43.877742",
     "status": "completed"
    },
    "tags": []
   },
   "outputs": [
    {
     "name": "stdout",
     "output_type": "stream",
     "text": [
      "/kaggle/input/spaceship-titanic/sample_submission.csv\n",
      "/kaggle/input/spaceship-titanic/train.csv\n",
      "/kaggle/input/spaceship-titanic/test.csv\n"
     ]
    }
   ],
   "source": [
    "# This Python 3 environment comes with many helpful analytics libraries installed\n",
    "# It is defined by the kaggle/python Docker image: https://github.com/kaggle/docker-python\n",
    "# For example, here's several helpful packages to load\n",
    "\n",
    "import numpy as np # linear algebra\n",
    "import pandas as pd # data processing, CSV file I/O (e.g. pd.read_csv)\n",
    "import matplotlib.pyplot as plt\n",
    "import seaborn as sns\n",
    "\n",
    "# Input data files are available in the read-only \"../input/\" directory\n",
    "# For example, running this (by clicking run or pressing Shift+Enter) will list all files under the input directory\n",
    "\n",
    "import os\n",
    "for dirname, _, filenames in os.walk('/kaggle/input'):\n",
    "    for filename in filenames:\n",
    "        print(os.path.join(dirname, filename))\n",
    "\n",
    "# You can write up to 20GB to the current directory (/kaggle/working/) that gets preserved as output when you create a version using \"Save & Run All\" \n",
    "# You can also write temporary files to /kaggle/temp/, but they won't be saved outside of the current session"
   ]
  },
  {
   "cell_type": "markdown",
   "id": "e8cb37aa",
   "metadata": {
    "papermill": {
     "duration": 0.008942,
     "end_time": "2022-07-27T00:13:45.147257",
     "exception": false,
     "start_time": "2022-07-27T00:13:45.138315",
     "status": "completed"
    },
    "tags": []
   },
   "source": [
    "### Importing Data"
   ]
  },
  {
   "cell_type": "code",
   "execution_count": 2,
   "id": "a3d204c6",
   "metadata": {
    "execution": {
     "iopub.execute_input": "2022-07-27T00:13:45.167282Z",
     "iopub.status.busy": "2022-07-27T00:13:45.166498Z",
     "iopub.status.idle": "2022-07-27T00:13:45.277187Z",
     "shell.execute_reply": "2022-07-27T00:13:45.276117Z"
    },
    "papermill": {
     "duration": 0.123614,
     "end_time": "2022-07-27T00:13:45.279770",
     "exception": false,
     "start_time": "2022-07-27T00:13:45.156156",
     "status": "completed"
    },
    "tags": []
   },
   "outputs": [],
   "source": [
    "train_df = pd.read_csv('/kaggle/input/spaceship-titanic/train.csv')\n",
    "test_df = pd.read_csv('/kaggle/input/spaceship-titanic/test.csv')\n",
    "sample_df = pd.read_csv('/kaggle/input/spaceship-titanic/sample_submission.csv')\n",
    "\n",
    "train = train_df.copy()\n",
    "test = test_df.copy()\n",
    "sample = sample_df.copy()\n",
    "train_test = pd.concat([train,test],axis=0,ignore_index=True)"
   ]
  },
  {
   "cell_type": "markdown",
   "id": "d816c4d9",
   "metadata": {
    "papermill": {
     "duration": 0.008979,
     "end_time": "2022-07-27T00:13:45.298349",
     "exception": false,
     "start_time": "2022-07-27T00:13:45.289370",
     "status": "completed"
    },
    "tags": []
   },
   "source": [
    "### EDA & Feature Engineering"
   ]
  },
  {
   "cell_type": "code",
   "execution_count": 3,
   "id": "ea1fec0e",
   "metadata": {
    "execution": {
     "iopub.execute_input": "2022-07-27T00:13:45.318497Z",
     "iopub.status.busy": "2022-07-27T00:13:45.318059Z",
     "iopub.status.idle": "2022-07-27T00:13:45.567660Z",
     "shell.execute_reply": "2022-07-27T00:13:45.566395Z"
    },
    "papermill": {
     "duration": 0.262561,
     "end_time": "2022-07-27T00:13:45.570338",
     "exception": false,
     "start_time": "2022-07-27T00:13:45.307777",
     "status": "completed"
    },
    "tags": []
   },
   "outputs": [
    {
     "data": {
      "text/plain": [
       "<AxesSubplot:>"
      ]
     },
     "execution_count": 3,
     "metadata": {},
     "output_type": "execute_result"
    },
    {
     "data": {
      "image/png": "[encoded data removed]",
      "text/plain": [
       "<Figure size 1000x500 with 1 Axes>"
      ]
     },
     "metadata": {
      "needs_background": "light"
     },
     "output_type": "display_data"
    }
   ],
   "source": [
    "num_fea_imp = train.corr().Transported.abs().sort_values(ascending=False).drop('Transported',axis=0)\n",
    "plt.figure(figsize=(10,5),dpi=100)\n",
    "sns.barplot(x=num_fea_imp.index,y=num_fea_imp.values)"
   ]
  },
  {
   "cell_type": "code",
   "execution_count": 4,
   "id": "e1beecca",
   "metadata": {
    "execution": {
     "iopub.execute_input": "2022-07-27T00:13:45.591412Z",
     "iopub.status.busy": "2022-07-27T00:13:45.590624Z",
     "iopub.status.idle": "2022-07-27T00:13:45.607565Z",
     "shell.execute_reply": "2022-07-27T00:13:45.606368Z"
    },
    "papermill": {
     "duration": 0.030444,
     "end_time": "2022-07-27T00:13:45.610212",
     "exception": false,
     "start_time": "2022-07-27T00:13:45.579768",
     "status": "completed"
    },
    "tags": []
   },
   "outputs": [
    {
     "data": {
      "text/plain": [
       "PassengerId       0\n",
       "HomePlanet      201\n",
       "CryoSleep       217\n",
       "Cabin           199\n",
       "Destination     182\n",
       "Age             179\n",
       "VIP             203\n",
       "RoomService     181\n",
       "FoodCourt       183\n",
       "ShoppingMall    208\n",
       "Spa             183\n",
       "VRDeck          188\n",
       "Name            200\n",
       "Transported       0\n",
       "dtype: int64"
      ]
     },
     "execution_count": 4,
     "metadata": {},
     "output_type": "execute_result"
    }
   ],
   "source": [
    "train.isnull().sum()"
   ]
  },
  {
   "cell_type": "code",
   "execution_count": 5,
   "id": "225a71f9",
   "metadata": {
    "execution": {
     "iopub.execute_input": "2022-07-27T00:13:45.631957Z",
     "iopub.status.busy": "2022-07-27T00:13:45.631044Z",
     "iopub.status.idle": "2022-07-27T00:13:45.646802Z",
     "shell.execute_reply": "2022-07-27T00:13:45.645805Z"
    },
    "papermill": {
     "duration": 0.029395,
     "end_time": "2022-07-27T00:13:45.649239",
     "exception": false,
     "start_time": "2022-07-27T00:13:45.619844",
     "status": "completed"
    },
    "tags": []
   },
   "outputs": [
    {
     "data": {
      "text/plain": [
       "PassengerId       0\n",
       "HomePlanet       87\n",
       "CryoSleep        93\n",
       "Cabin           100\n",
       "Destination      92\n",
       "Age              91\n",
       "VIP              93\n",
       "RoomService      82\n",
       "FoodCourt       106\n",
       "ShoppingMall     98\n",
       "Spa             101\n",
       "VRDeck           80\n",
       "Name             94\n",
       "dtype: int64"
      ]
     },
     "execution_count": 5,
     "metadata": {},
     "output_type": "execute_result"
    }
   ],
   "source": [
    "test.isnull().sum()"
   ]
  },
  {
   "cell_type": "code",
   "execution_count": 6,
   "id": "490ca48e",
   "metadata": {
    "execution": {
     "iopub.execute_input": "2022-07-27T00:13:45.670251Z",
     "iopub.status.busy": "2022-07-27T00:13:45.669878Z",
     "iopub.status.idle": "2022-07-27T00:13:45.696560Z",
     "shell.execute_reply": "2022-07-27T00:13:45.695396Z"
    },
    "papermill": {
     "duration": 0.040292,
     "end_time": "2022-07-27T00:13:45.699330",
     "exception": false,
     "start_time": "2022-07-27T00:13:45.659038",
     "status": "completed"
    },
    "tags": []
   },
   "outputs": [
    {
     "data": {
      "text/html": [
       "<div>\n",
       "<style scoped>\n",
       "    .dataframe tbody tr th:only-of-type {\n",
       "        vertical-align: middle;\n",
       "    }\n",
       "\n",
       "    .dataframe tbody tr th {\n",
       "        vertical-align: top;\n",
       "    }\n",
       "\n",
       "    .dataframe thead th {\n",
       "        text-align: right;\n",
       "    }\n",
       "</style>\n",
       "<table border=\"1\" class=\"dataframe\">\n",
       "  <thead>\n",
       "    <tr style=\"text-align: right;\">\n",
       "      <th></th>\n",
       "      <th>PassengerId</th>\n",
       "      <th>HomePlanet</th>\n",
       "      <th>CryoSleep</th>\n",
       "      <th>Cabin</th>\n",
       "      <th>Destination</th>\n",
       "      <th>Age</th>\n",
       "      <th>VIP</th>\n",
       "      <th>RoomService</th>\n",
       "      <th>FoodCourt</th>\n",
       "      <th>ShoppingMall</th>\n",
       "      <th>Spa</th>\n",
       "      <th>VRDeck</th>\n",
       "      <th>Name</th>\n",
       "      <th>Transported</th>\n",
       "    </tr>\n",
       "  </thead>\n",
       "  <tbody>\n",
       "    <tr>\n",
       "      <th>0</th>\n",
       "      <td>0001_01</td>\n",
       "      <td>Europa</td>\n",
       "      <td>False</td>\n",
       "      <td>B/0/P</td>\n",
       "      <td>TRAPPIST-1e</td>\n",
       "      <td>39.0</td>\n",
       "      <td>False</td>\n",
       "      <td>0.0</td>\n",
       "      <td>0.0</td>\n",
       "      <td>0.0</td>\n",
       "      <td>0.0</td>\n",
       "      <td>0.0</td>\n",
       "      <td>Maham Ofracculy</td>\n",
       "      <td>False</td>\n",
       "    </tr>\n",
       "    <tr>\n",
       "      <th>1</th>\n",
       "      <td>0002_01</td>\n",
       "      <td>Earth</td>\n",
       "      <td>False</td>\n",
       "      <td>F/0/S</td>\n",
       "      <td>TRAPPIST-1e</td>\n",
       "      <td>24.0</td>\n",
       "      <td>False</td>\n",
       "      <td>109.0</td>\n",
       "      <td>9.0</td>\n",
       "      <td>25.0</td>\n",
       "      <td>549.0</td>\n",
       "      <td>44.0</td>\n",
       "      <td>Juanna Vines</td>\n",
       "      <td>True</td>\n",
       "    </tr>\n",
       "    <tr>\n",
       "      <th>2</th>\n",
       "      <td>0003_01</td>\n",
       "      <td>Europa</td>\n",
       "      <td>False</td>\n",
       "      <td>A/0/S</td>\n",
       "      <td>TRAPPIST-1e</td>\n",
       "      <td>58.0</td>\n",
       "      <td>True</td>\n",
       "      <td>43.0</td>\n",
       "      <td>3576.0</td>\n",
       "      <td>0.0</td>\n",
       "      <td>6715.0</td>\n",
       "      <td>49.0</td>\n",
       "      <td>Altark Susent</td>\n",
       "      <td>False</td>\n",
       "    </tr>\n",
       "    <tr>\n",
       "      <th>3</th>\n",
       "      <td>0003_02</td>\n",
       "      <td>Europa</td>\n",
       "      <td>False</td>\n",
       "      <td>A/0/S</td>\n",
       "      <td>TRAPPIST-1e</td>\n",
       "      <td>33.0</td>\n",
       "      <td>False</td>\n",
       "      <td>0.0</td>\n",
       "      <td>1283.0</td>\n",
       "      <td>371.0</td>\n",
       "      <td>3329.0</td>\n",
       "      <td>193.0</td>\n",
       "      <td>Solam Susent</td>\n",
       "      <td>False</td>\n",
       "    </tr>\n",
       "    <tr>\n",
       "      <th>4</th>\n",
       "      <td>0004_01</td>\n",
       "      <td>Earth</td>\n",
       "      <td>False</td>\n",
       "      <td>F/1/S</td>\n",
       "      <td>TRAPPIST-1e</td>\n",
       "      <td>16.0</td>\n",
       "      <td>False</td>\n",
       "      <td>303.0</td>\n",
       "      <td>70.0</td>\n",
       "      <td>151.0</td>\n",
       "      <td>565.0</td>\n",
       "      <td>2.0</td>\n",
       "      <td>Willy Santantines</td>\n",
       "      <td>True</td>\n",
       "    </tr>\n",
       "  </tbody>\n",
       "</table>\n",
       "</div>"
      ],
      "text/plain": [
       "  PassengerId HomePlanet CryoSleep  Cabin  Destination   Age    VIP  \\\n",
       "0     0001_01     Europa     False  B/0/P  TRAPPIST-1e  39.0  False   \n",
       "1     0002_01      Earth     False  F/0/S  TRAPPIST-1e  24.0  False   \n",
       "2     0003_01     Europa     False  A/0/S  TRAPPIST-1e  58.0   True   \n",
       "3     0003_02     Europa     False  A/0/S  TRAPPIST-1e  33.0  False   \n",
       "4     0004_01      Earth     False  F/1/S  TRAPPIST-1e  16.0  False   \n",
       "\n",
       "   RoomService  FoodCourt  ShoppingMall     Spa  VRDeck               Name  \\\n",
       "0          0.0        0.0           0.0     0.0     0.0    Maham Ofracculy   \n",
       "1        109.0        9.0          25.0   549.0    44.0       Juanna Vines   \n",
       "2         43.0     3576.0           0.0  6715.0    49.0      Altark Susent   \n",
       "3          0.0     1283.0         371.0  3329.0   193.0       Solam Susent   \n",
       "4        303.0       70.0         151.0   565.0     2.0  Willy Santantines   \n",
       "\n",
       "   Transported  \n",
       "0        False  \n",
       "1         True  \n",
       "2        False  \n",
       "3        False  \n",
       "4         True  "
      ]
     },
     "execution_count": 6,
     "metadata": {},
     "output_type": "execute_result"
    }
   ],
   "source": [
    "train.head()"
   ]
  },
  {
   "cell_type": "code",
   "execution_count": 7,
   "id": "c832e4bc",
   "metadata": {
    "execution": {
     "iopub.execute_input": "2022-07-27T00:13:45.722609Z",
     "iopub.status.busy": "2022-07-27T00:13:45.721883Z",
     "iopub.status.idle": "2022-07-27T00:13:45.899657Z",
     "shell.execute_reply": "2022-07-27T00:13:45.898776Z"
    },
    "papermill": {
     "duration": 0.19243,
     "end_time": "2022-07-27T00:13:45.902601",
     "exception": false,
     "start_time": "2022-07-27T00:13:45.710171",
     "status": "completed"
    },
    "tags": []
   },
   "outputs": [],
   "source": [
    "# Transported - about half were transported\n",
    "train.Transported.sum()/len(train)\n",
    "\n",
    "# PaggenserID - No overlap of Passenger Groups between train and test data\n",
    "\n",
    "train['PassengerGroup'] = train.PassengerId.str.split('_',expand=True)[0].astype('int')\n",
    "test['PassengerGroup'] = test.PassengerId.str.split('_',expand=True)[0].astype('int')\n",
    "\n",
    "len(set(train['PassengerGroup'])) + len(set(test['PassengerGroup'])) - len(set(list(train['PassengerGroup'])+list(test['PassengerGroup'])))\n",
    "\n",
    "# HomePlanet\n",
    "train['HomePlanet'] = train['HomePlanet'].fillna(value='Unknown')\n",
    "test['HomePlanet'] = test['HomePlanet'].fillna(value='Unknown')\n",
    "\n",
    "# CryoSleep\n",
    "train['CryoSleep'] = train['CryoSleep'].fillna(value=False)\n",
    "test['CryoSleep'] = test['CryoSleep'].fillna(value=False)\n",
    "\n",
    "# Cabin\n",
    "train['CabinDeck'] = train['Cabin'].str.split('/',expand=True)[0]\n",
    "test['CabinDeck'] = test['Cabin'].str.split('/',expand=True)[0]\n",
    "train['CabinDeck'] = train['CabinDeck'].fillna(value='U')\n",
    "test['CabinDeck'] = test['CabinDeck'].fillna(value='U')\n",
    "\n",
    "train['CabinSide'] = train['Cabin'].str.split('/',expand=True)[2]\n",
    "test['CabinSide'] = test['Cabin'].str.split('/',expand=True)[2]\n",
    "train['CabinSide'] = train['CabinSide'].fillna(value='U')\n",
    "test['CabinSide'] = test['CabinSide'].fillna(value='U')\n",
    "\n",
    "# Destination\n",
    "dest_dic = {'TRAPPIST-1e':'A','55 Cancri e':'B','PSO J318.5-22':'C'}\n",
    "train['Destination'] = train['Destination'].map(dest_dic)\n",
    "train['Destination'] = train['Destination'].fillna(value='U')\n",
    "test['Destination'] = test['Destination'].map(dest_dic)\n",
    "test['Destination'] = test['Destination'].fillna(value='U')\n",
    "\n",
    "# Age\n",
    "train['Age'] = train['Age'].fillna(train.groupby('PassengerGroup')['Age'].transform('mean'))\n",
    "train['Age'] = train['Age'].fillna(train.groupby('HomePlanet')['Age'].transform('mean'))\n",
    "test['Age'] = test['Age'].fillna(test.groupby('PassengerGroup')['Age'].transform('mean'))\n",
    "test['Age'] = test['Age'].fillna(test.groupby('HomePlanet')['Age'].transform('mean'))\n",
    "\n",
    "# VIP\n",
    "train['VIP'] = train['VIP'].fillna(value=False)\n",
    "test['VIP'] = test['VIP'].fillna(value=False)\n",
    "\n",
    "# RoomService, FoodCourt, ShoppingMall, Spa, VRDeck\n",
    "train[['RoomService','FoodCourt','ShoppingMall','Spa','VRDeck']] = train[['RoomService','FoodCourt','ShoppingMall','Spa','VRDeck']].fillna(value=0)\n",
    "test[['RoomService','FoodCourt','ShoppingMall','Spa','VRDeck']] = test[['RoomService','FoodCourt','ShoppingMall','Spa','VRDeck']].fillna(value=0)\n",
    "\n",
    "# Name\n",
    "train['FamilyName'] = train['Name'].str.split(' ',expand=True)[1]\n",
    "train['FamilyName'] = train['FamilyName'].fillna('Unknown')\n",
    "test['FamilyName'] = test['Name'].str.split(' ',expand=True)[1]\n",
    "test['FamilyName'] = test['FamilyName'].fillna('Unknown')\n",
    "\n",
    "# train['FamilyTransported'] = train.groupby('FamilyName')['Transported'].transform('mean').round(2)\n",
    "\n",
    "# train_fam_trans = {}\n",
    "\n",
    "# for row in train.index:\n",
    "#     family = train['FamilyName'].loc[row]\n",
    "#     transported = train['FamilyTransported'].loc[row]\n",
    "#     train_fam_trans[family] = transported\n",
    "\n",
    "# test['FamilyTransported'] = test['FamilyName']\n",
    "# test['FamilyTransported'] = test['FamilyTransported'].map(train_fam_trans)\n",
    "# test['FamilyTransported'] = test['FamilyTransported'].fillna(test.groupby('HomePlanet')['FamilyTransported'].transform('mean').round(2))\n",
    "\n",
    "train = train.drop(['PassengerId','PassengerGroup','Cabin','Name','FamilyName'],axis=1)\n",
    "test = test.drop(['PassengerId','PassengerGroup','Cabin','Name','FamilyName'],axis=1)\n",
    "\n",
    "# Convert Bool to Int\n",
    "train[['CryoSleep','VIP','Transported']] = train[['CryoSleep','VIP','Transported']].astype(int)\n",
    "test[['CryoSleep','VIP']] = test[['CryoSleep','VIP']].astype(int)"
   ]
  },
  {
   "cell_type": "code",
   "execution_count": 8,
   "id": "93aa6c61",
   "metadata": {
    "execution": {
     "iopub.execute_input": "2022-07-27T00:13:45.924749Z",
     "iopub.status.busy": "2022-07-27T00:13:45.924335Z",
     "iopub.status.idle": "2022-07-27T00:13:45.945997Z",
     "shell.execute_reply": "2022-07-27T00:13:45.944880Z"
    },
    "papermill": {
     "duration": 0.035534,
     "end_time": "2022-07-27T00:13:45.948412",
     "exception": false,
     "start_time": "2022-07-27T00:13:45.912878",
     "status": "completed"
    },
    "tags": []
   },
   "outputs": [
    {
     "data": {
      "text/html": [
       "<div>\n",
       "<style scoped>\n",
       "    .dataframe tbody tr th:only-of-type {\n",
       "        vertical-align: middle;\n",
       "    }\n",
       "\n",
       "    .dataframe tbody tr th {\n",
       "        vertical-align: top;\n",
       "    }\n",
       "\n",
       "    .dataframe thead th {\n",
       "        text-align: right;\n",
       "    }\n",
       "</style>\n",
       "<table border=\"1\" class=\"dataframe\">\n",
       "  <thead>\n",
       "    <tr style=\"text-align: right;\">\n",
       "      <th></th>\n",
       "      <th>HomePlanet</th>\n",
       "      <th>CryoSleep</th>\n",
       "      <th>Destination</th>\n",
       "      <th>Age</th>\n",
       "      <th>VIP</th>\n",
       "      <th>RoomService</th>\n",
       "      <th>FoodCourt</th>\n",
       "      <th>ShoppingMall</th>\n",
       "      <th>Spa</th>\n",
       "      <th>VRDeck</th>\n",
       "      <th>Transported</th>\n",
       "      <th>CabinDeck</th>\n",
       "      <th>CabinSide</th>\n",
       "    </tr>\n",
       "  </thead>\n",
       "  <tbody>\n",
       "    <tr>\n",
       "      <th>0</th>\n",
       "      <td>Europa</td>\n",
       "      <td>0</td>\n",
       "      <td>A</td>\n",
       "      <td>39.0</td>\n",
       "      <td>0</td>\n",
       "      <td>0.0</td>\n",
       "      <td>0.0</td>\n",
       "      <td>0.0</td>\n",
       "      <td>0.0</td>\n",
       "      <td>0.0</td>\n",
       "      <td>0</td>\n",
       "      <td>B</td>\n",
       "      <td>P</td>\n",
       "    </tr>\n",
       "    <tr>\n",
       "      <th>1</th>\n",
       "      <td>Earth</td>\n",
       "      <td>0</td>\n",
       "      <td>A</td>\n",
       "      <td>24.0</td>\n",
       "      <td>0</td>\n",
       "      <td>109.0</td>\n",
       "      <td>9.0</td>\n",
       "      <td>25.0</td>\n",
       "      <td>549.0</td>\n",
       "      <td>44.0</td>\n",
       "      <td>1</td>\n",
       "      <td>F</td>\n",
       "      <td>S</td>\n",
       "    </tr>\n",
       "    <tr>\n",
       "      <th>2</th>\n",
       "      <td>Europa</td>\n",
       "      <td>0</td>\n",
       "      <td>A</td>\n",
       "      <td>58.0</td>\n",
       "      <td>1</td>\n",
       "      <td>43.0</td>\n",
       "      <td>3576.0</td>\n",
       "      <td>0.0</td>\n",
       "      <td>6715.0</td>\n",
       "      <td>49.0</td>\n",
       "      <td>0</td>\n",
       "      <td>A</td>\n",
       "      <td>S</td>\n",
       "    </tr>\n",
       "    <tr>\n",
       "      <th>3</th>\n",
       "      <td>Europa</td>\n",
       "      <td>0</td>\n",
       "      <td>A</td>\n",
       "      <td>33.0</td>\n",
       "      <td>0</td>\n",
       "      <td>0.0</td>\n",
       "      <td>1283.0</td>\n",
       "      <td>371.0</td>\n",
       "      <td>3329.0</td>\n",
       "      <td>193.0</td>\n",
       "      <td>0</td>\n",
       "      <td>A</td>\n",
       "      <td>S</td>\n",
       "    </tr>\n",
       "    <tr>\n",
       "      <th>4</th>\n",
       "      <td>Earth</td>\n",
       "      <td>0</td>\n",
       "      <td>A</td>\n",
       "      <td>16.0</td>\n",
       "      <td>0</td>\n",
       "      <td>303.0</td>\n",
       "      <td>70.0</td>\n",
       "      <td>151.0</td>\n",
       "      <td>565.0</td>\n",
       "      <td>2.0</td>\n",
       "      <td>1</td>\n",
       "      <td>F</td>\n",
       "      <td>S</td>\n",
       "    </tr>\n",
       "  </tbody>\n",
       "</table>\n",
       "</div>"
      ],
      "text/plain": [
       "  HomePlanet  CryoSleep Destination   Age  VIP  RoomService  FoodCourt  \\\n",
       "0     Europa          0           A  39.0    0          0.0        0.0   \n",
       "1      Earth          0           A  24.0    0        109.0        9.0   \n",
       "2     Europa          0           A  58.0    1         43.0     3576.0   \n",
       "3     Europa          0           A  33.0    0          0.0     1283.0   \n",
       "4      Earth          0           A  16.0    0        303.0       70.0   \n",
       "\n",
       "   ShoppingMall     Spa  VRDeck  Transported CabinDeck CabinSide  \n",
       "0           0.0     0.0     0.0            0         B         P  \n",
       "1          25.0   549.0    44.0            1         F         S  \n",
       "2           0.0  6715.0    49.0            0         A         S  \n",
       "3         371.0  3329.0   193.0            0         A         S  \n",
       "4         151.0   565.0     2.0            1         F         S  "
      ]
     },
     "execution_count": 8,
     "metadata": {},
     "output_type": "execute_result"
    }
   ],
   "source": [
    "train.head()"
   ]
  },
  {
   "cell_type": "code",
   "execution_count": 9,
   "id": "b6b7ea93",
   "metadata": {
    "execution": {
     "iopub.execute_input": "2022-07-27T00:13:45.971404Z",
     "iopub.status.busy": "2022-07-27T00:13:45.970950Z",
     "iopub.status.idle": "2022-07-27T00:13:46.160570Z",
     "shell.execute_reply": "2022-07-27T00:13:46.159338Z"
    },
    "papermill": {
     "duration": 0.204311,
     "end_time": "2022-07-27T00:13:46.163417",
     "exception": false,
     "start_time": "2022-07-27T00:13:45.959106",
     "status": "completed"
    },
    "tags": []
   },
   "outputs": [],
   "source": [
    "# Feature Scaling\n",
    "# num_features = ['Age','RoomService','FoodCourt','ShoppingMall','Spa','VRDeck','FamilyTransported']\n",
    "num_features = ['Age','RoomService','FoodCourt','ShoppingMall','Spa','VRDeck']\n",
    "\n",
    "from sklearn.preprocessing import MinMaxScaler\n",
    "\n",
    "scaler = MinMaxScaler()\n",
    "train_num_scaled = scaler.fit_transform(train[num_features])\n",
    "test_num_scaled = scaler.transform(test[num_features])\n",
    "\n",
    "train_num_scaled = pd.DataFrame(data=train_num_scaled,columns=num_features)\n",
    "test_num_scaled = pd.DataFrame(data=test_num_scaled,columns=num_features)\n",
    "\n",
    "# Feature Encoding\n",
    "cat_features = ['HomePlanet','CryoSleep','Destination','VIP','CabinDeck','CabinSide']\n",
    "\n",
    "train_cat_encoded = pd.get_dummies(train[cat_features],drop_first=True)\n",
    "test_cat_encoded = pd.get_dummies(test[cat_features],drop_first=True)\n",
    "\n",
    "# Train and Test\n",
    "X = pd.concat([train_num_scaled,train_cat_encoded],axis=1)\n",
    "X_test = pd.concat([test_num_scaled,test_cat_encoded],axis=1)\n",
    "y = train.Transported\n",
    "X_all = pd.concat([X,y],axis=1)"
   ]
  },
  {
   "cell_type": "code",
   "execution_count": 10,
   "id": "e7f1dd42",
   "metadata": {
    "execution": {
     "iopub.execute_input": "2022-07-27T00:13:46.186210Z",
     "iopub.status.busy": "2022-07-27T00:13:46.185784Z",
     "iopub.status.idle": "2022-07-27T00:13:46.215219Z",
     "shell.execute_reply": "2022-07-27T00:13:46.214112Z"
    },
    "papermill": {
     "duration": 0.043674,
     "end_time": "2022-07-27T00:13:46.217653",
     "exception": false,
     "start_time": "2022-07-27T00:13:46.173979",
     "status": "completed"
    },
    "tags": []
   },
   "outputs": [
    {
     "data": {
      "text/plain": [
       "Transported           1.000000\n",
       "CryoSleep             0.460132\n",
       "RoomService           0.241124\n",
       "Spa                   0.218545\n",
       "VRDeck                0.204874\n",
       "HomePlanet_Europa     0.176916\n",
       "CabinDeck_B           0.144733\n",
       "Destination_B         0.108722\n",
       "CabinDeck_C           0.108193\n",
       "CabinSide_S           0.101455\n",
       "CabinDeck_E           0.097965\n",
       "CabinDeck_F           0.087753\n",
       "Age                   0.072240\n",
       "FoodCourt             0.045583\n",
       "VIP                   0.037261\n",
       "CabinDeck_D           0.034046\n",
       "HomePlanet_Mars       0.019544\n",
       "CabinDeck_G           0.016269\n",
       "CabinDeck_T           0.014568\n",
       "ShoppingMall          0.009391\n",
       "HomePlanet_Unknown    0.002712\n",
       "Destination_U         0.000547\n",
       "CabinDeck_U           0.000340\n",
       "CabinSide_U           0.000340\n",
       "Destination_C         0.000092\n",
       "Name: Transported, dtype: float64"
      ]
     },
     "execution_count": 10,
     "metadata": {},
     "output_type": "execute_result"
    }
   ],
   "source": [
    "X_all.corr().Transported.abs().sort_values(ascending=False)"
   ]
  },
  {
   "cell_type": "markdown",
   "id": "dc1de89e",
   "metadata": {
    "papermill": {
     "duration": 0.00984,
     "end_time": "2022-07-27T00:13:46.237688",
     "exception": false,
     "start_time": "2022-07-27T00:13:46.227848",
     "status": "completed"
    },
    "tags": []
   },
   "source": [
    "### Modeling"
   ]
  },
  {
   "cell_type": "code",
   "execution_count": 11,
   "id": "d8c48add",
   "metadata": {
    "execution": {
     "iopub.execute_input": "2022-07-27T00:13:46.260010Z",
     "iopub.status.busy": "2022-07-27T00:13:46.259547Z",
     "iopub.status.idle": "2022-07-27T00:13:46.334930Z",
     "shell.execute_reply": "2022-07-27T00:13:46.333791Z"
    },
    "papermill": {
     "duration": 0.089873,
     "end_time": "2022-07-27T00:13:46.337814",
     "exception": false,
     "start_time": "2022-07-27T00:13:46.247941",
     "status": "completed"
    },
    "tags": []
   },
   "outputs": [],
   "source": [
    "# Train Valid Split\n",
    "from sklearn.model_selection import train_test_split\n",
    "X_train, X_valid, y_train, y_valid = train_test_split(X, y, test_size=0.5, random_state=101)"
   ]
  },
  {
   "cell_type": "code",
   "execution_count": 12,
   "id": "ac9c9596",
   "metadata": {
    "execution": {
     "iopub.execute_input": "2022-07-27T00:13:46.360595Z",
     "iopub.status.busy": "2022-07-27T00:13:46.359776Z",
     "iopub.status.idle": "2022-07-27T00:13:48.073943Z",
     "shell.execute_reply": "2022-07-27T00:13:48.072909Z"
    },
    "papermill": {
     "duration": 1.728637,
     "end_time": "2022-07-27T00:13:48.076784",
     "exception": false,
     "start_time": "2022-07-27T00:13:46.348147",
     "status": "completed"
    },
    "tags": []
   },
   "outputs": [
    {
     "data": {
      "text/html": [
       "<style type='text/css'>\n",
       ".datatable table.frame { margin-bottom: 0; }\n",
       ".datatable table.frame thead { border-bottom: none; }\n",
       ".datatable table.frame tr.coltypes td {  color: #FFFFFF;  line-height: 6px;  padding: 0 0.5em;}\n",
       ".datatable .bool    { background: #DDDD99; }\n",
       ".datatable .object  { background: #565656; }\n",
       ".datatable .int     { background: #5D9E5D; }\n",
       ".datatable .float   { background: #4040CC; }\n",
       ".datatable .str     { background: #CC4040; }\n",
       ".datatable .time    { background: #40CC40; }\n",
       ".datatable .row_index {  background: var(--jp-border-color3);  border-right: 1px solid var(--jp-border-color0);  color: var(--jp-ui-font-color3);  font-size: 9px;}\n",
       ".datatable .frame tbody td { text-align: left; }\n",
       ".datatable .frame tr.coltypes .row_index {  background: var(--jp-border-color0);}\n",
       ".datatable th:nth-child(2) { padding-left: 12px; }\n",
       ".datatable .hellipsis {  color: var(--jp-cell-editor-border-color);}\n",
       ".datatable .vellipsis {  background: var(--jp-layout-color0);  color: var(--jp-cell-editor-border-color);}\n",
       ".datatable .na {  color: var(--jp-cell-editor-border-color);  font-size: 80%;}\n",
       ".datatable .sp {  opacity: 0.25;}\n",
       ".datatable .footer { font-size: 9px; }\n",
       ".datatable .frame_dimensions {  background: var(--jp-border-color3);  border-top: 1px solid var(--jp-border-color0);  color: var(--jp-ui-font-color3);  display: inline-block;  opacity: 0.6;  padding: 1px 10px 1px 5px;}\n",
       "</style>\n"
      ],
      "text/plain": [
       "<IPython.core.display.HTML object>"
      ]
     },
     "metadata": {},
     "output_type": "display_data"
    }
   ],
   "source": [
    "from sklearn.model_selection import cross_val_score\n",
    "from sklearn import metrics\n",
    "\n",
    "from sklearn.linear_model import LogisticRegression\n",
    "from sklearn.tree import DecisionTreeClassifier\n",
    "from sklearn.ensemble import RandomForestClassifier\n",
    "from xgboost.sklearn import XGBClassifier\n",
    "from sklearn.ensemble import GradientBoostingClassifier\n",
    "from lightgbm import LGBMClassifier\n",
    "from catboost import CatBoostClassifier\n",
    "from sklearn.ensemble import HistGradientBoostingClassifier"
   ]
  },
  {
   "cell_type": "code",
   "execution_count": 13,
   "id": "c3a6302a",
   "metadata": {
    "execution": {
     "iopub.execute_input": "2022-07-27T00:13:48.102066Z",
     "iopub.status.busy": "2022-07-27T00:13:48.101328Z",
     "iopub.status.idle": "2022-07-27T00:13:48.126406Z",
     "shell.execute_reply": "2022-07-27T00:13:48.125383Z"
    },
    "papermill": {
     "duration": 0.040591,
     "end_time": "2022-07-27T00:13:48.128841",
     "exception": false,
     "start_time": "2022-07-27T00:13:48.088250",
     "status": "completed"
    },
    "tags": []
   },
   "outputs": [],
   "source": [
    "def find_best_model(X_train, X_valid, y_train, y_valid):\n",
    "    \n",
    "    # Logistic Regression\n",
    "    print('Running LogisticRegression\\n')\n",
    "    logreg = LogisticRegression(max_iter = 600)\n",
    "    scores = cross_val_score(logreg,X_train,y_train,scoring='neg_mean_squared_error',cv=5)\n",
    "    logreg_mse = round(abs(scores.mean()), 4)\n",
    "    logreg.fit(X_train, y_train)\n",
    "    y_pred = logreg.predict(X_valid)\n",
    "    logreg_acc = round(metrics.accuracy_score(y_valid, y_pred), 4)\n",
    "    \n",
    "    \n",
    "    # Decision Tree\n",
    "    print('Running DecisionTreeClassifier\\n')\n",
    "    decision_tree = DecisionTreeClassifier()\n",
    "    scores = cross_val_score(decision_tree,X_train,y_train,scoring='neg_mean_squared_error',cv=5)\n",
    "    decision_tree_mse = round(abs(scores.mean()), 4)\n",
    "    decision_tree.fit(X_train, y_train)\n",
    "    y_pred = decision_tree.predict(X_valid)\n",
    "    decision_tree_acc = round(metrics.accuracy_score(y_valid, y_pred), 4)\n",
    "    \n",
    "    # Random Forest\n",
    "    print('Running RandomForestClassifier\\n')\n",
    "    random_forest = RandomForestClassifier()\n",
    "    scores = cross_val_score(random_forest,X_train,y_train,scoring='neg_mean_squared_error',cv=5)\n",
    "    random_forest_mse = round(abs(scores.mean()), 4)\n",
    "    random_forest.fit(X_train, y_train)\n",
    "    y_pred = random_forest.predict(X_valid)\n",
    "    random_forest_acc = round(metrics.accuracy_score(y_valid, y_pred), 4)\n",
    "    \n",
    "    # XGBoost\n",
    "    print('Running XGBClassifier\\n')\n",
    "    xgb = XGBClassifier()\n",
    "    scores = cross_val_score(xgb,X_train,y_train,scoring='neg_mean_squared_error',cv=5)\n",
    "    xgb_mse = round(abs(scores.mean()), 4)\n",
    "    xgb.fit(X_train, y_train)\n",
    "    y_pred = xgb.predict(X_valid)\n",
    "    xgb_acc = round(metrics.accuracy_score(y_valid, y_pred), 4)\n",
    "    \n",
    "    # GBM\n",
    "    print('Running GradientBoostingClassifier\\n')\n",
    "    gbm = GradientBoostingClassifier()\n",
    "    scores = cross_val_score(gbm,X_train,y_train,scoring='neg_mean_squared_error',cv=5)\n",
    "    gbm_mse = round(abs(scores.mean()), 4)\n",
    "    gbm.fit(X_train, y_train)\n",
    "    y_pred = gbm.predict(X_valid)\n",
    "    gbm_acc = round(metrics.accuracy_score(y_valid, y_pred), 4)\n",
    "    \n",
    "    # LightGBM\n",
    "    print('Running LGBMClassifier\\n')\n",
    "    lgbm = LGBMClassifier()\n",
    "    scores = cross_val_score(lgbm,X_train,y_train,scoring='neg_mean_squared_error',cv=5)\n",
    "    lgbm_mse = round(abs(scores.mean()), 4)\n",
    "    lgbm.fit(X_train, y_train)\n",
    "    y_pred = lgbm.predict(X_valid)\n",
    "    lgbm_acc = round(metrics.accuracy_score(y_valid, y_pred), 4)\n",
    "        \n",
    "    # Catboost\n",
    "    print('Running CatBoostClassifier\\n')\n",
    "    catb = CatBoostClassifier(verbose = 0)\n",
    "    scores = cross_val_score(catb,X_train,y_train,scoring='neg_mean_squared_error',cv=5)\n",
    "    catb_mse = round(abs(scores.mean()), 4)\n",
    "    catb.fit(X_train, y_train)\n",
    "    y_pred = catb.predict(X_valid)\n",
    "    catb_acc = round(metrics.accuracy_score(y_valid, y_pred), 4)\n",
    "    \n",
    "    # Histogram-based Gradient Boosting Classification Tree\n",
    "    print('Running HistGradientBoostingClassifier\\n')\n",
    "    hgb = HistGradientBoostingClassifier()\n",
    "    scores = cross_val_score(hgb,X_train,y_train,scoring='neg_mean_squared_error',cv=5)\n",
    "    hgb_mse = round(abs(scores.mean()), 4)\n",
    "    hgb.fit(X_train, y_train)\n",
    "    y_pred = hgb.predict(X_valid)\n",
    "    hgb_acc = round(metrics.accuracy_score(y_valid, y_pred), 4)\n",
    "    \n",
    "    model_df = pd.DataFrame({\n",
    "        'Model': ['Logistic Regression', 'Decision Tree', 'Random Forest', 'XGBoost', 'GBM', 'LightGBM', 'Catboost', 'HistBoost'],\n",
    "        'Train MSE': [logreg_mse, decision_tree_mse, random_forest_mse, xgb_mse, gbm_mse, lgbm_mse, catb_mse, hgb_mse],\n",
    "        'Validation Accuracy': [logreg_acc, decision_tree_acc, random_forest_acc, xgb_acc, gbm_acc, lgbm_acc, catb_acc, hgb_acc]\n",
    "    })\n",
    "    \n",
    "    print(model_df.sort_values('Validation Accuracy', ascending = False).reset_index(drop = True))"
   ]
  },
  {
   "cell_type": "code",
   "execution_count": 14,
   "id": "83b812e5",
   "metadata": {
    "execution": {
     "iopub.execute_input": "2022-07-27T00:13:48.152615Z",
     "iopub.status.busy": "2022-07-27T00:13:48.151848Z",
     "iopub.status.idle": "2022-07-27T00:13:48.156010Z",
     "shell.execute_reply": "2022-07-27T00:13:48.155173Z"
    },
    "papermill": {
     "duration": 0.018585,
     "end_time": "2022-07-27T00:13:48.158311",
     "exception": false,
     "start_time": "2022-07-27T00:13:48.139726",
     "status": "completed"
    },
    "tags": []
   },
   "outputs": [],
   "source": [
    "# find_best_model(X_train, X_valid, y_train, y_valid)"
   ]
  },
  {
   "cell_type": "code",
   "execution_count": 15,
   "id": "617b8cf2",
   "metadata": {
    "execution": {
     "iopub.execute_input": "2022-07-27T00:13:48.181831Z",
     "iopub.status.busy": "2022-07-27T00:13:48.181086Z",
     "iopub.status.idle": "2022-07-27T00:13:48.185501Z",
     "shell.execute_reply": "2022-07-27T00:13:48.184620Z"
    },
    "papermill": {
     "duration": 0.018784,
     "end_time": "2022-07-27T00:13:48.187709",
     "exception": false,
     "start_time": "2022-07-27T00:13:48.168925",
     "status": "completed"
    },
    "tags": []
   },
   "outputs": [],
   "source": [
    "# Grid Search (LightGBM, HistBoost, Catboost, GBM and XGBoost)\n",
    "from sklearn.model_selection import GridSearchCV"
   ]
  },
  {
   "cell_type": "code",
   "execution_count": 16,
   "id": "9f093efa",
   "metadata": {
    "execution": {
     "iopub.execute_input": "2022-07-27T00:13:48.211163Z",
     "iopub.status.busy": "2022-07-27T00:13:48.210427Z",
     "iopub.status.idle": "2022-07-27T00:13:48.214690Z",
     "shell.execute_reply": "2022-07-27T00:13:48.213814Z"
    },
    "papermill": {
     "duration": 0.01905,
     "end_time": "2022-07-27T00:13:48.217216",
     "exception": false,
     "start_time": "2022-07-27T00:13:48.198166",
     "status": "completed"
    },
    "tags": []
   },
   "outputs": [],
   "source": [
    "# Grid Search on LightGBM\n",
    "# model = LGBMClassifier()\n",
    "# param_grid = {'boosting_type':['gbdt','dart','goss','rf'],\n",
    "#               'max_depth':[1,5,10],\n",
    "#               'n_estimators':[100,500,1000]\n",
    "#              }\n",
    "\n",
    "# grid = GridSearchCV(estimator=model, param_grid=param_grid, cv=5)\n",
    "# grid.fit(X,y)\n",
    "# print('Mean accuracy:',grid.score(X,y))\n",
    "# print('Best hyperparameters:',grid.best_params_)"
   ]
  },
  {
   "cell_type": "code",
   "execution_count": 17,
   "id": "45824048",
   "metadata": {
    "execution": {
     "iopub.execute_input": "2022-07-27T00:13:48.240157Z",
     "iopub.status.busy": "2022-07-27T00:13:48.239739Z",
     "iopub.status.idle": "2022-07-27T00:13:48.244509Z",
     "shell.execute_reply": "2022-07-27T00:13:48.243058Z"
    },
    "papermill": {
     "duration": 0.019107,
     "end_time": "2022-07-27T00:13:48.246942",
     "exception": false,
     "start_time": "2022-07-27T00:13:48.227835",
     "status": "completed"
    },
    "tags": []
   },
   "outputs": [],
   "source": [
    "# Tuned LightGBM (0.80266)\n",
    "# model = LGBMClassifier(boosting_type='dart',max_depth=5,n_estimators=100)"
   ]
  },
  {
   "cell_type": "code",
   "execution_count": 18,
   "id": "8943c18c",
   "metadata": {
    "execution": {
     "iopub.execute_input": "2022-07-27T00:13:48.269778Z",
     "iopub.status.busy": "2022-07-27T00:13:48.269374Z",
     "iopub.status.idle": "2022-07-27T00:13:48.274664Z",
     "shell.execute_reply": "2022-07-27T00:13:48.273536Z"
    },
    "papermill": {
     "duration": 0.019692,
     "end_time": "2022-07-27T00:13:48.277212",
     "exception": false,
     "start_time": "2022-07-27T00:13:48.257520",
     "status": "completed"
    },
    "tags": []
   },
   "outputs": [],
   "source": [
    "# Grid Search on GBM\n",
    "# model = GradientBoostingClassifier()\n",
    "# param_grid = {'loss':['log_loss', 'exponential'],\n",
    "#             'n_estimators':[100,500,1000,1500],\n",
    "#               'max_depth':[1,3,6,9,12]\n",
    "#              }\n",
    "\n",
    "# grid = GridSearchCV(estimator=model, param_grid=param_grid, cv=5)\n",
    "# grid.fit(X,y)\n",
    "# print('Mean accuracy:',grid.score(X,y))\n",
    "# print('Best hyperparameters:',grid.best_params_)"
   ]
  },
  {
   "cell_type": "code",
   "execution_count": 19,
   "id": "d3efc4d3",
   "metadata": {
    "execution": {
     "iopub.execute_input": "2022-07-27T00:13:48.301064Z",
     "iopub.status.busy": "2022-07-27T00:13:48.299832Z",
     "iopub.status.idle": "2022-07-27T00:13:48.305389Z",
     "shell.execute_reply": "2022-07-27T00:13:48.304037Z"
    },
    "papermill": {
     "duration": 0.020115,
     "end_time": "2022-07-27T00:13:48.307800",
     "exception": false,
     "start_time": "2022-07-27T00:13:48.287685",
     "status": "completed"
    },
    "tags": []
   },
   "outputs": [],
   "source": [
    "# GBM Tuning Failed"
   ]
  },
  {
   "cell_type": "code",
   "execution_count": 20,
   "id": "2e667651",
   "metadata": {
    "execution": {
     "iopub.execute_input": "2022-07-27T00:13:48.330339Z",
     "iopub.status.busy": "2022-07-27T00:13:48.329947Z",
     "iopub.status.idle": "2022-07-27T00:13:48.334670Z",
     "shell.execute_reply": "2022-07-27T00:13:48.333708Z"
    },
    "papermill": {
     "duration": 0.018883,
     "end_time": "2022-07-27T00:13:48.337062",
     "exception": false,
     "start_time": "2022-07-27T00:13:48.318179",
     "status": "completed"
    },
    "tags": []
   },
   "outputs": [],
   "source": [
    "#  Grid Search on HistBoost\n",
    "# model = HistGradientBoostingClassifier()\n",
    "# param_grid = {'max_iter':[50,100,200,300,400,500],\n",
    "#               'learning_rate':[0.05,0.1,0.15],\n",
    "#               'l2_regularization':[0,0.25,0.5,0.75,1.0]\n",
    "#              }\n",
    "\n",
    "# grid = GridSearchCV(estimator=model, param_grid=param_grid, cv=5)\n",
    "# grid.fit(X,y)\n",
    "# print('Mean accuracy:',grid.score(X,y))\n",
    "# print('Best hyperparameters:',grid.best_params_)"
   ]
  },
  {
   "cell_type": "code",
   "execution_count": 21,
   "id": "93f77aab",
   "metadata": {
    "execution": {
     "iopub.execute_input": "2022-07-27T00:13:48.360447Z",
     "iopub.status.busy": "2022-07-27T00:13:48.360065Z",
     "iopub.status.idle": "2022-07-27T00:13:48.364047Z",
     "shell.execute_reply": "2022-07-27T00:13:48.363106Z"
    },
    "papermill": {
     "duration": 0.018094,
     "end_time": "2022-07-27T00:13:48.366256",
     "exception": false,
     "start_time": "2022-07-27T00:13:48.348162",
     "status": "completed"
    },
    "tags": []
   },
   "outputs": [],
   "source": [
    "# Tuned HistBoost (0.80196)\n",
    "# model = HistGradientBoostingClassifier(l2_regularization=0.25,learning_rate=0.05,max_iter=100)"
   ]
  },
  {
   "cell_type": "code",
   "execution_count": 22,
   "id": "2eecc6eb",
   "metadata": {
    "execution": {
     "iopub.execute_input": "2022-07-27T00:13:48.389146Z",
     "iopub.status.busy": "2022-07-27T00:13:48.388750Z",
     "iopub.status.idle": "2022-07-27T00:13:48.392783Z",
     "shell.execute_reply": "2022-07-27T00:13:48.391943Z"
    },
    "papermill": {
     "duration": 0.01779,
     "end_time": "2022-07-27T00:13:48.394718",
     "exception": false,
     "start_time": "2022-07-27T00:13:48.376928",
     "status": "completed"
    },
    "tags": []
   },
   "outputs": [],
   "source": [
    "# Grid Search on XGBoost\n",
    "# model = XGBClassifier()\n",
    "# param_grid = {'n_estimators':[50,100,200,500,1000],\n",
    "#               'learning_rate':[0.05,0.1,0.15,0.2]\n",
    "#              }\n",
    "\n",
    "# grid = GridSearchCV(estimator=model, param_grid=param_grid, cv=5)\n",
    "# grid.fit(X,y)\n",
    "# print('Mean accuracy:',grid.score(X,y))\n",
    "# print('Best hyperparameters:',grid.best_params_)"
   ]
  },
  {
   "cell_type": "code",
   "execution_count": 23,
   "id": "96a4f069",
   "metadata": {
    "execution": {
     "iopub.execute_input": "2022-07-27T00:13:48.417052Z",
     "iopub.status.busy": "2022-07-27T00:13:48.416629Z",
     "iopub.status.idle": "2022-07-27T00:13:48.420469Z",
     "shell.execute_reply": "2022-07-27T00:13:48.419668Z"
    },
    "papermill": {
     "duration": 0.017491,
     "end_time": "2022-07-27T00:13:48.422509",
     "exception": false,
     "start_time": "2022-07-27T00:13:48.405018",
     "status": "completed"
    },
    "tags": []
   },
   "outputs": [],
   "source": [
    "# Tuned XGBoost\n",
    "# model = XGBClassifier(learning_rate=0.1,n_estimators=100)"
   ]
  },
  {
   "cell_type": "code",
   "execution_count": 24,
   "id": "9ae3e594",
   "metadata": {
    "execution": {
     "iopub.execute_input": "2022-07-27T00:13:48.445618Z",
     "iopub.status.busy": "2022-07-27T00:13:48.444564Z",
     "iopub.status.idle": "2022-07-27T00:13:48.449893Z",
     "shell.execute_reply": "2022-07-27T00:13:48.448812Z"
    },
    "papermill": {
     "duration": 0.019281,
     "end_time": "2022-07-27T00:13:48.452363",
     "exception": false,
     "start_time": "2022-07-27T00:13:48.433082",
     "status": "completed"
    },
    "tags": []
   },
   "outputs": [],
   "source": [
    "#  Grid Search on Catboost\n",
    "# model = CatBoostClassifier(verbose = 0)\n",
    "# param_grid = {'iterations':[50,100,200,300,400,500],\n",
    "#               'learning_rate':[0.05,0.1,0.15],\n",
    "#               'depth':[2,5,10]\n",
    "#              }\n",
    "\n",
    "# grid = GridSearchCV(estimator=model, param_grid=param_grid, cv=5)\n",
    "# grid.fit(X,y)\n",
    "# print('Mean accuracy:',grid.score(X,y))\n",
    "# print('Best hyperparameters:',grid.best_params_)"
   ]
  },
  {
   "cell_type": "code",
   "execution_count": 25,
   "id": "27953ee0",
   "metadata": {
    "execution": {
     "iopub.execute_input": "2022-07-27T00:13:48.476011Z",
     "iopub.status.busy": "2022-07-27T00:13:48.475336Z",
     "iopub.status.idle": "2022-07-27T00:13:48.486243Z",
     "shell.execute_reply": "2022-07-27T00:13:48.485258Z"
    },
    "papermill": {
     "duration": 0.025457,
     "end_time": "2022-07-27T00:13:48.488690",
     "exception": false,
     "start_time": "2022-07-27T00:13:48.463233",
     "status": "completed"
    },
    "tags": []
   },
   "outputs": [],
   "source": [
    "# Tuned Catboost V1 (without FamilyTransported) - (0.80476) Better Performance than V2\n",
    "model = CatBoostClassifier(depth=5,iterations=400,learning_rate=0.05,verbose=0)"
   ]
  },
  {
   "cell_type": "code",
   "execution_count": 26,
   "id": "7d9dce52",
   "metadata": {
    "execution": {
     "iopub.execute_input": "2022-07-27T00:13:48.511576Z",
     "iopub.status.busy": "2022-07-27T00:13:48.510941Z",
     "iopub.status.idle": "2022-07-27T00:13:48.515474Z",
     "shell.execute_reply": "2022-07-27T00:13:48.514638Z"
    },
    "papermill": {
     "duration": 0.018797,
     "end_time": "2022-07-27T00:13:48.517746",
     "exception": false,
     "start_time": "2022-07-27T00:13:48.498949",
     "status": "completed"
    },
    "tags": []
   },
   "outputs": [],
   "source": [
    "# Tuned Catboost V2 (with FamilyTransported) - (0.71522) Worse Performance\n",
    "# model = CatBoostClassifier(depth=5,iterations=200,learning_rate=0.1,verbose=0)"
   ]
  },
  {
   "cell_type": "code",
   "execution_count": 27,
   "id": "a0dd6996",
   "metadata": {
    "execution": {
     "iopub.execute_input": "2022-07-27T00:13:48.540511Z",
     "iopub.status.busy": "2022-07-27T00:13:48.540123Z",
     "iopub.status.idle": "2022-07-27T00:13:50.002950Z",
     "shell.execute_reply": "2022-07-27T00:13:50.001555Z"
    },
    "papermill": {
     "duration": 1.477739,
     "end_time": "2022-07-27T00:13:50.005844",
     "exception": false,
     "start_time": "2022-07-27T00:13:48.528105",
     "status": "completed"
    },
    "tags": []
   },
   "outputs": [],
   "source": [
    "# Submitting\n",
    "model.fit(X,y)\n",
    "predictions = model.predict(X_test)\n",
    "output = pd.DataFrame({'PassengerId': test_df.PassengerId, 'Transported': predictions})\n",
    "output['Transported'] = output['Transported'].astype('bool')\n",
    "output.to_csv('submission.csv', index=False)"
   ]
  },
  {
   "cell_type": "code",
   "execution_count": null,
   "id": "63a2435b",
   "metadata": {
    "papermill": {
     "duration": 0.010164,
     "end_time": "2022-07-27T00:13:50.028171",
     "exception": false,
     "start_time": "2022-07-27T00:13:50.018007",
     "status": "completed"
    },
    "tags": []
   },
   "outputs": [],
   "source": []
  }
 ],
 "metadata": {
  "kernelspec": {
   "display_name": "Python 3",
   "language": "python",
   "name": "python3"
  },
  "language_info": {
   "codemirror_mode": {
    "name": "ipython",
    "version": 3
   },
   "file_extension": ".py",
   "mimetype": "text/x-python",
   "name": "python",
   "nbconvert_exporter": "python",
   "pygments_lexer": "ipython3",
   "version": "3.7.12"
  },
  "papermill": {
   "default_parameters": {},
   "duration": 17.964502,
   "end_time": "2022-07-27T00:13:50.961443",
   "environment_variables": {},
   "exception": null,
   "input_path": "__notebook__.ipynb",
   "output_path": "__notebook__.ipynb",
   "parameters": {},
   "start_time": "2022-07-27T00:13:32.996941",
   "version": "2.3.4"
  }
 },
 "nbformat": 4,
 "nbformat_minor": 5
}
