{
 "cells": [
  {
   "cell_type": "markdown",
   "id": "854c1a46",
   "metadata": {
    "_cell_guid": "b1076dfc-b9ad-4769-8c92-a6c4dae69d19",
    "_uuid": "8f2839f25d086af736a60e9eeb907d3b93b6e0e5",
    "execution": {
     "iopub.execute_input": "2022-07-27T20:58:28.475906Z",
     "iopub.status.busy": "2022-07-27T20:58:28.475501Z",
     "iopub.status.idle": "2022-07-27T20:58:28.484541Z",
     "shell.execute_reply": "2022-07-27T20:58:28.483534Z",
     "shell.execute_reply.started": "2022-07-27T20:58:28.475875Z"
    },
    "papermill": {
     "duration": 0.006581,
     "end_time": "2022-09-19T20:21:42.281373",
     "exception": false,
     "start_time": "2022-09-19T20:21:42.274792",
     "status": "completed"
    },
    "tags": []
   },
   "source": [
    "Feature Engineering inspired by [DEEPAK KAURA](https://www.kaggle.com/code/deepakkaura/spaceship-titanic-story-of-a-space-titanic)"
   ]
  },
  {
   "cell_type": "code",
   "execution_count": 1,
   "id": "d7040f4f",
   "metadata": {
    "_cell_guid": "b1076dfc-b9ad-4769-8c92-a6c4dae69d19",
    "_uuid": "8f2839f25d086af736a60e9eeb907d3b93b6e0e5",
    "execution": {
     "iopub.execute_input": "2022-09-19T20:21:42.294265Z",
     "iopub.status.busy": "2022-09-19T20:21:42.293765Z",
     "iopub.status.idle": "2022-09-19T20:21:43.418051Z",
     "shell.execute_reply": "2022-09-19T20:21:43.416453Z"
    },
    "papermill": {
     "duration": 1.134042,
     "end_time": "2022-09-19T20:21:43.420767",
     "exception": false,
     "start_time": "2022-09-19T20:21:42.286725",
     "status": "completed"
    },
    "tags": []
   },
   "outputs": [
    {
     "name": "stdout",
     "output_type": "stream",
     "text": [
      "/kaggle/input/spaceship-titanic/sample_submission.csv\n",
      "/kaggle/input/spaceship-titanic/train.csv\n",
      "/kaggle/input/spaceship-titanic/test.csv\n"
     ]
    }
   ],
   "source": [
    "# This Python 3 environment comes with many helpful analytics libraries installed\n",
    "# It is defined by the kaggle/python Docker image: https://github.com/kaggle/docker-python\n",
    "# For example, here's several helpful packages to load\n",
    "\n",
    "import numpy as np # linear algebra\n",
    "import pandas as pd # data processing, CSV file I/O (e.g. pd.read_csv)\n",
    "import matplotlib.pyplot as plt\n",
    "import seaborn as sns\n",
    "\n",
    "# Input data files are available in the read-only \"../input/\" directory\n",
    "# For example, running this (by clicking run or pressing Shift+Enter) will list all files under the input directory\n",
    "\n",
    "import os\n",
    "for dirname, _, filenames in os.walk('/kaggle/input'):\n",
    "    for filename in filenames:\n",
    "        print(os.path.join(dirname, filename))\n",
    "\n",
    "# You can write up to 20GB to the current directory (/kaggle/working/) that gets preserved as output when you create a version using \"Save & Run All\" \n",
    "# You can also write temporary files to /kaggle/temp/, but they won't be saved outside of the current session"
   ]
  },
  {
   "cell_type": "markdown",
   "id": "81b1f356",
   "metadata": {
    "papermill": {
     "duration": 0.004905,
     "end_time": "2022-09-19T20:21:43.431122",
     "exception": false,
     "start_time": "2022-09-19T20:21:43.426217",
     "status": "completed"
    },
    "tags": []
   },
   "source": [
    "### Importing Data"
   ]
  },
  {
   "cell_type": "code",
   "execution_count": 2,
   "id": "fdda2794",
   "metadata": {
    "execution": {
     "iopub.execute_input": "2022-09-19T20:21:43.444266Z",
     "iopub.status.busy": "2022-09-19T20:21:43.443114Z",
     "iopub.status.idle": "2022-09-19T20:21:43.550707Z",
     "shell.execute_reply": "2022-09-19T20:21:43.549443Z"
    },
    "papermill": {
     "duration": 0.117389,
     "end_time": "2022-09-19T20:21:43.553771",
     "exception": false,
     "start_time": "2022-09-19T20:21:43.436382",
     "status": "completed"
    },
    "tags": []
   },
   "outputs": [],
   "source": [
    "train_df = pd.read_csv('/kaggle/input/spaceship-titanic/train.csv')\n",
    "test_df = pd.read_csv('/kaggle/input/spaceship-titanic/test.csv')\n",
    "sample_df = pd.read_csv('/kaggle/input/spaceship-titanic/sample_submission.csv')\n",
    "\n",
    "train = train_df.copy()\n",
    "test = test_df.copy()\n",
    "sample = sample_df.copy()\n",
    "train_test = pd.concat([train,test],axis=0,ignore_index=True)"
   ]
  },
  {
   "cell_type": "markdown",
   "id": "9366f521",
   "metadata": {
    "papermill": {
     "duration": 0.005608,
     "end_time": "2022-09-19T20:21:43.565047",
     "exception": false,
     "start_time": "2022-09-19T20:21:43.559439",
     "status": "completed"
    },
    "tags": []
   },
   "source": [
    "### EDA & Feature Engineering"
   ]
  },
  {
   "cell_type": "code",
   "execution_count": 3,
   "id": "8cb103aa",
   "metadata": {
    "execution": {
     "iopub.execute_input": "2022-09-19T20:21:43.577528Z",
     "iopub.status.busy": "2022-09-19T20:21:43.577067Z",
     "iopub.status.idle": "2022-09-19T20:21:43.848559Z",
     "shell.execute_reply": "2022-09-19T20:21:43.847603Z"
    },
    "papermill": {
     "duration": 0.280763,
     "end_time": "2022-09-19T20:21:43.851039",
     "exception": false,
     "start_time": "2022-09-19T20:21:43.570276",
     "status": "completed"
    },
    "tags": []
   },
   "outputs": [
    {
     "data": {
      "text/plain": [
       "<AxesSubplot:>"
      ]
     },
     "execution_count": 3,
     "metadata": {},
     "output_type": "execute_result"
    },
    {
     "data": {
      "image/png": "[encoded data removed]",
      "text/plain": [
       "<Figure size 1000x500 with 1 Axes>"
      ]
     },
     "metadata": {
      "needs_background": "light"
     },
     "output_type": "display_data"
    }
   ],
   "source": [
    "num_fea_imp = train.corr().Transported.abs().sort_values(ascending=False).drop('Transported',axis=0)\n",
    "plt.figure(figsize=(10,5),dpi=100)\n",
    "sns.barplot(x=num_fea_imp.index,y=num_fea_imp.values)"
   ]
  },
  {
   "cell_type": "code",
   "execution_count": 4,
   "id": "ebce2018",
   "metadata": {
    "execution": {
     "iopub.execute_input": "2022-09-19T20:21:43.864890Z",
     "iopub.status.busy": "2022-09-19T20:21:43.864480Z",
     "iopub.status.idle": "2022-09-19T20:21:43.890799Z",
     "shell.execute_reply": "2022-09-19T20:21:43.889636Z"
    },
    "papermill": {
     "duration": 0.036309,
     "end_time": "2022-09-19T20:21:43.893287",
     "exception": false,
     "start_time": "2022-09-19T20:21:43.856978",
     "status": "completed"
    },
    "tags": []
   },
   "outputs": [
    {
     "data": {
      "text/html": [
       "<div>\n",
       "<style scoped>\n",
       "    .dataframe tbody tr th:only-of-type {\n",
       "        vertical-align: middle;\n",
       "    }\n",
       "\n",
       "    .dataframe tbody tr th {\n",
       "        vertical-align: top;\n",
       "    }\n",
       "\n",
       "    .dataframe thead th {\n",
       "        text-align: right;\n",
       "    }\n",
       "</style>\n",
       "<table border=\"1\" class=\"dataframe\">\n",
       "  <thead>\n",
       "    <tr style=\"text-align: right;\">\n",
       "      <th></th>\n",
       "      <th>PassengerId</th>\n",
       "      <th>HomePlanet</th>\n",
       "      <th>CryoSleep</th>\n",
       "      <th>Cabin</th>\n",
       "      <th>Destination</th>\n",
       "      <th>Age</th>\n",
       "      <th>VIP</th>\n",
       "      <th>RoomService</th>\n",
       "      <th>FoodCourt</th>\n",
       "      <th>ShoppingMall</th>\n",
       "      <th>Spa</th>\n",
       "      <th>VRDeck</th>\n",
       "      <th>Name</th>\n",
       "      <th>Transported</th>\n",
       "    </tr>\n",
       "  </thead>\n",
       "  <tbody>\n",
       "    <tr>\n",
       "      <th>0</th>\n",
       "      <td>0001_01</td>\n",
       "      <td>Europa</td>\n",
       "      <td>False</td>\n",
       "      <td>B/0/P</td>\n",
       "      <td>TRAPPIST-1e</td>\n",
       "      <td>39.0</td>\n",
       "      <td>False</td>\n",
       "      <td>0.0</td>\n",
       "      <td>0.0</td>\n",
       "      <td>0.0</td>\n",
       "      <td>0.0</td>\n",
       "      <td>0.0</td>\n",
       "      <td>Maham Ofracculy</td>\n",
       "      <td>False</td>\n",
       "    </tr>\n",
       "    <tr>\n",
       "      <th>1</th>\n",
       "      <td>0002_01</td>\n",
       "      <td>Earth</td>\n",
       "      <td>False</td>\n",
       "      <td>F/0/S</td>\n",
       "      <td>TRAPPIST-1e</td>\n",
       "      <td>24.0</td>\n",
       "      <td>False</td>\n",
       "      <td>109.0</td>\n",
       "      <td>9.0</td>\n",
       "      <td>25.0</td>\n",
       "      <td>549.0</td>\n",
       "      <td>44.0</td>\n",
       "      <td>Juanna Vines</td>\n",
       "      <td>True</td>\n",
       "    </tr>\n",
       "    <tr>\n",
       "      <th>2</th>\n",
       "      <td>0003_01</td>\n",
       "      <td>Europa</td>\n",
       "      <td>False</td>\n",
       "      <td>A/0/S</td>\n",
       "      <td>TRAPPIST-1e</td>\n",
       "      <td>58.0</td>\n",
       "      <td>True</td>\n",
       "      <td>43.0</td>\n",
       "      <td>3576.0</td>\n",
       "      <td>0.0</td>\n",
       "      <td>6715.0</td>\n",
       "      <td>49.0</td>\n",
       "      <td>Altark Susent</td>\n",
       "      <td>False</td>\n",
       "    </tr>\n",
       "    <tr>\n",
       "      <th>3</th>\n",
       "      <td>0003_02</td>\n",
       "      <td>Europa</td>\n",
       "      <td>False</td>\n",
       "      <td>A/0/S</td>\n",
       "      <td>TRAPPIST-1e</td>\n",
       "      <td>33.0</td>\n",
       "      <td>False</td>\n",
       "      <td>0.0</td>\n",
       "      <td>1283.0</td>\n",
       "      <td>371.0</td>\n",
       "      <td>3329.0</td>\n",
       "      <td>193.0</td>\n",
       "      <td>Solam Susent</td>\n",
       "      <td>False</td>\n",
       "    </tr>\n",
       "    <tr>\n",
       "      <th>4</th>\n",
       "      <td>0004_01</td>\n",
       "      <td>Earth</td>\n",
       "      <td>False</td>\n",
       "      <td>F/1/S</td>\n",
       "      <td>TRAPPIST-1e</td>\n",
       "      <td>16.0</td>\n",
       "      <td>False</td>\n",
       "      <td>303.0</td>\n",
       "      <td>70.0</td>\n",
       "      <td>151.0</td>\n",
       "      <td>565.0</td>\n",
       "      <td>2.0</td>\n",
       "      <td>Willy Santantines</td>\n",
       "      <td>True</td>\n",
       "    </tr>\n",
       "  </tbody>\n",
       "</table>\n",
       "</div>"
      ],
      "text/plain": [
       "  PassengerId HomePlanet CryoSleep  Cabin  Destination   Age    VIP  \\\n",
       "0     0001_01     Europa     False  B/0/P  TRAPPIST-1e  39.0  False   \n",
       "1     0002_01      Earth     False  F/0/S  TRAPPIST-1e  24.0  False   \n",
       "2     0003_01     Europa     False  A/0/S  TRAPPIST-1e  58.0   True   \n",
       "3     0003_02     Europa     False  A/0/S  TRAPPIST-1e  33.0  False   \n",
       "4     0004_01      Earth     False  F/1/S  TRAPPIST-1e  16.0  False   \n",
       "\n",
       "   RoomService  FoodCourt  ShoppingMall     Spa  VRDeck               Name  \\\n",
       "0          0.0        0.0           0.0     0.0     0.0    Maham Ofracculy   \n",
       "1        109.0        9.0          25.0   549.0    44.0       Juanna Vines   \n",
       "2         43.0     3576.0           0.0  6715.0    49.0      Altark Susent   \n",
       "3          0.0     1283.0         371.0  3329.0   193.0       Solam Susent   \n",
       "4        303.0       70.0         151.0   565.0     2.0  Willy Santantines   \n",
       "\n",
       "   Transported  \n",
       "0        False  \n",
       "1         True  \n",
       "2        False  \n",
       "3        False  \n",
       "4         True  "
      ]
     },
     "execution_count": 4,
     "metadata": {},
     "output_type": "execute_result"
    }
   ],
   "source": [
    "train.head()"
   ]
  },
  {
   "cell_type": "code",
   "execution_count": 5,
   "id": "e2d68e7b",
   "metadata": {
    "execution": {
     "iopub.execute_input": "2022-09-19T20:21:43.907846Z",
     "iopub.status.busy": "2022-09-19T20:21:43.907228Z",
     "iopub.status.idle": "2022-09-19T20:21:44.120845Z",
     "shell.execute_reply": "2022-09-19T20:21:44.119331Z"
    },
    "papermill": {
     "duration": 0.224279,
     "end_time": "2022-09-19T20:21:44.123776",
     "exception": false,
     "start_time": "2022-09-19T20:21:43.899497",
     "status": "completed"
    },
    "tags": []
   },
   "outputs": [],
   "source": [
    "# Transported - about half were transported\n",
    "train.Transported.sum()/len(train)\n",
    "\n",
    "# PaggenserID - No overlap of Passenger Groups between train and test data\n",
    "\n",
    "train['PassengerGroup'] = train.PassengerId.str.split('_',expand=True)[0].astype('int')\n",
    "test['PassengerGroup'] = test.PassengerId.str.split('_',expand=True)[0].astype('int')\n",
    "\n",
    "len(set(train['PassengerGroup'])) + len(set(test['PassengerGroup'])) - len(set(list(train['PassengerGroup'])+list(test['PassengerGroup'])))\n",
    "\n",
    "# HomePlanet\n",
    "train['HomePlanet'] = train['HomePlanet'].fillna(value='Unknown')\n",
    "test['HomePlanet'] = test['HomePlanet'].fillna(value='Unknown')\n",
    "\n",
    "# CryoSleep\n",
    "train['CryoSleep'] = train['CryoSleep'].fillna(value=False)\n",
    "test['CryoSleep'] = test['CryoSleep'].fillna(value=False)\n",
    "\n",
    "# Cabin\n",
    "train['CabinDeck'] = train['Cabin'].str.split('/',expand=True)[0]\n",
    "test['CabinDeck'] = test['Cabin'].str.split('/',expand=True)[0]\n",
    "train['CabinDeck'] = train['CabinDeck'].fillna(value='U')\n",
    "test['CabinDeck'] = test['CabinDeck'].fillna(value='U')\n",
    "\n",
    "train['CabinSide'] = train['Cabin'].str.split('/',expand=True)[2]\n",
    "test['CabinSide'] = test['Cabin'].str.split('/',expand=True)[2]\n",
    "train['CabinSide'] = train['CabinSide'].fillna(value='U')\n",
    "test['CabinSide'] = test['CabinSide'].fillna(value='U')\n",
    "\n",
    "# Destination\n",
    "dest_dic = {'TRAPPIST-1e':'A','55 Cancri e':'B','PSO J318.5-22':'C'}\n",
    "train['Destination'] = train['Destination'].map(dest_dic)\n",
    "train['Destination'] = train['Destination'].fillna(value='U')\n",
    "test['Destination'] = test['Destination'].map(dest_dic)\n",
    "test['Destination'] = test['Destination'].fillna(value='U')\n",
    "\n",
    "# Age\n",
    "train['Age'] = train['Age'].fillna(train.groupby('PassengerGroup')['Age'].transform('median'))\n",
    "train['Age'] = train['Age'].fillna(train.groupby('HomePlanet')['Age'].transform('median'))\n",
    "\n",
    "test['Age'] = test['Age'].fillna(test.groupby('PassengerGroup')['Age'].transform('median'))\n",
    "test['Age'] = test['Age'].fillna(test.groupby('HomePlanet')['Age'].transform('median'))\n",
    "\n",
    "train['Adult'] = 1\n",
    "train.loc[train['Age']<18, 'Adult'] = 0\n",
    "\n",
    "test['Adult'] = 1\n",
    "test.loc[test['Age']<18, 'Adult'] = 0\n",
    "\n",
    "# VIP\n",
    "train['VIP'] = train['VIP'].fillna(value=False)\n",
    "test['VIP'] = test['VIP'].fillna(value=False)\n",
    "\n",
    "# RoomService, FoodCourt, ShoppingMall, Spa, VRDeck\n",
    "train[['RoomService','FoodCourt','ShoppingMall','Spa','VRDeck']] = train[['RoomService','FoodCourt','ShoppingMall','Spa','VRDeck']].fillna(value=0)\n",
    "test[['RoomService','FoodCourt','ShoppingMall','Spa','VRDeck']] = test[['RoomService','FoodCourt','ShoppingMall','Spa','VRDeck']].fillna(value=0)\n",
    "\n",
    "# Total Spend\n",
    "train['TotalSpend'] = train['RoomService']+train['FoodCourt']+train['ShoppingMall']+train['Spa']+train['VRDeck']\n",
    "test['TotalSpend'] = test['RoomService']+test['FoodCourt']+test['ShoppingMall']+test['Spa']+test['VRDeck']\n",
    "\n",
    "# Name\n",
    "train['FamilyName'] = train['Name'].str.split(' ',expand=True)[1]\n",
    "train['FamilyName'] = train['FamilyName'].fillna('Unknown')\n",
    "\n",
    "test['FamilyName'] = test['Name'].str.split(' ',expand=True)[1]\n",
    "test['FamilyName'] = test['FamilyName'].fillna('Unknown')\n",
    "\n",
    "train_test['FamilyName'] = train_test['Name'].str.split(' ',expand=True)[1]\n",
    "train_test['FamilyName'] = train_test['FamilyName'].fillna('Unknown')\n",
    "\n",
    "family_name_dic = train_test['FamilyName'].value_counts().to_dict()\n",
    "family_name_dic['Unknown'] = 0\n",
    "\n",
    "train['FamilyMember'] = train['FamilyName']\n",
    "train['FamilyMember'] = train['FamilyMember'].map(family_name_dic)\n",
    "\n",
    "test['FamilyMember'] = test['FamilyName']\n",
    "test['FamilyMember'] = test['FamilyMember'].map(family_name_dic)\n",
    "\n",
    "# Drop extra columns\n",
    "\n",
    "train = train.drop(['PassengerId','PassengerGroup','Cabin','Name','FamilyName'],axis=1)\n",
    "test = test.drop(['PassengerId','PassengerGroup','Cabin','Name','FamilyName'],axis=1)\n",
    "\n",
    "# Convert Bool to Int\n",
    "train[['CryoSleep','VIP','Transported']] = train[['CryoSleep','VIP','Transported']].astype(int)\n",
    "test[['CryoSleep','VIP']] = test[['CryoSleep','VIP']].astype(int)"
   ]
  },
  {
   "cell_type": "code",
   "execution_count": 6,
   "id": "8c608c44",
   "metadata": {
    "execution": {
     "iopub.execute_input": "2022-09-19T20:21:44.138455Z",
     "iopub.status.busy": "2022-09-19T20:21:44.138045Z",
     "iopub.status.idle": "2022-09-19T20:21:44.159630Z",
     "shell.execute_reply": "2022-09-19T20:21:44.158403Z"
    },
    "papermill": {
     "duration": 0.032404,
     "end_time": "2022-09-19T20:21:44.162298",
     "exception": false,
     "start_time": "2022-09-19T20:21:44.129894",
     "status": "completed"
    },
    "tags": []
   },
   "outputs": [
    {
     "data": {
      "text/html": [
       "<div>\n",
       "<style scoped>\n",
       "    .dataframe tbody tr th:only-of-type {\n",
       "        vertical-align: middle;\n",
       "    }\n",
       "\n",
       "    .dataframe tbody tr th {\n",
       "        vertical-align: top;\n",
       "    }\n",
       "\n",
       "    .dataframe thead th {\n",
       "        text-align: right;\n",
       "    }\n",
       "</style>\n",
       "<table border=\"1\" class=\"dataframe\">\n",
       "  <thead>\n",
       "    <tr style=\"text-align: right;\">\n",
       "      <th></th>\n",
       "      <th>HomePlanet</th>\n",
       "      <th>CryoSleep</th>\n",
       "      <th>Destination</th>\n",
       "      <th>Age</th>\n",
       "      <th>VIP</th>\n",
       "      <th>RoomService</th>\n",
       "      <th>FoodCourt</th>\n",
       "      <th>ShoppingMall</th>\n",
       "      <th>Spa</th>\n",
       "      <th>VRDeck</th>\n",
       "      <th>Transported</th>\n",
       "      <th>CabinDeck</th>\n",
       "      <th>CabinSide</th>\n",
       "      <th>Adult</th>\n",
       "      <th>TotalSpend</th>\n",
       "      <th>FamilyMember</th>\n",
       "    </tr>\n",
       "  </thead>\n",
       "  <tbody>\n",
       "    <tr>\n",
       "      <th>0</th>\n",
       "      <td>Europa</td>\n",
       "      <td>0</td>\n",
       "      <td>A</td>\n",
       "      <td>39.0</td>\n",
       "      <td>0</td>\n",
       "      <td>0.0</td>\n",
       "      <td>0.0</td>\n",
       "      <td>0.0</td>\n",
       "      <td>0.0</td>\n",
       "      <td>0.0</td>\n",
       "      <td>0</td>\n",
       "      <td>B</td>\n",
       "      <td>P</td>\n",
       "      <td>1</td>\n",
       "      <td>0.0</td>\n",
       "      <td>3</td>\n",
       "    </tr>\n",
       "    <tr>\n",
       "      <th>1</th>\n",
       "      <td>Earth</td>\n",
       "      <td>0</td>\n",
       "      <td>A</td>\n",
       "      <td>24.0</td>\n",
       "      <td>0</td>\n",
       "      <td>109.0</td>\n",
       "      <td>9.0</td>\n",
       "      <td>25.0</td>\n",
       "      <td>549.0</td>\n",
       "      <td>44.0</td>\n",
       "      <td>1</td>\n",
       "      <td>F</td>\n",
       "      <td>S</td>\n",
       "      <td>1</td>\n",
       "      <td>736.0</td>\n",
       "      <td>4</td>\n",
       "    </tr>\n",
       "    <tr>\n",
       "      <th>2</th>\n",
       "      <td>Europa</td>\n",
       "      <td>0</td>\n",
       "      <td>A</td>\n",
       "      <td>58.0</td>\n",
       "      <td>1</td>\n",
       "      <td>43.0</td>\n",
       "      <td>3576.0</td>\n",
       "      <td>0.0</td>\n",
       "      <td>6715.0</td>\n",
       "      <td>49.0</td>\n",
       "      <td>0</td>\n",
       "      <td>A</td>\n",
       "      <td>S</td>\n",
       "      <td>1</td>\n",
       "      <td>10383.0</td>\n",
       "      <td>7</td>\n",
       "    </tr>\n",
       "    <tr>\n",
       "      <th>3</th>\n",
       "      <td>Europa</td>\n",
       "      <td>0</td>\n",
       "      <td>A</td>\n",
       "      <td>33.0</td>\n",
       "      <td>0</td>\n",
       "      <td>0.0</td>\n",
       "      <td>1283.0</td>\n",
       "      <td>371.0</td>\n",
       "      <td>3329.0</td>\n",
       "      <td>193.0</td>\n",
       "      <td>0</td>\n",
       "      <td>A</td>\n",
       "      <td>S</td>\n",
       "      <td>1</td>\n",
       "      <td>5176.0</td>\n",
       "      <td>7</td>\n",
       "    </tr>\n",
       "    <tr>\n",
       "      <th>4</th>\n",
       "      <td>Earth</td>\n",
       "      <td>0</td>\n",
       "      <td>A</td>\n",
       "      <td>16.0</td>\n",
       "      <td>0</td>\n",
       "      <td>303.0</td>\n",
       "      <td>70.0</td>\n",
       "      <td>151.0</td>\n",
       "      <td>565.0</td>\n",
       "      <td>2.0</td>\n",
       "      <td>1</td>\n",
       "      <td>F</td>\n",
       "      <td>S</td>\n",
       "      <td>0</td>\n",
       "      <td>1091.0</td>\n",
       "      <td>9</td>\n",
       "    </tr>\n",
       "  </tbody>\n",
       "</table>\n",
       "</div>"
      ],
      "text/plain": [
       "  HomePlanet  CryoSleep Destination   Age  VIP  RoomService  FoodCourt  \\\n",
       "0     Europa          0           A  39.0    0          0.0        0.0   \n",
       "1      Earth          0           A  24.0    0        109.0        9.0   \n",
       "2     Europa          0           A  58.0    1         43.0     3576.0   \n",
       "3     Europa          0           A  33.0    0          0.0     1283.0   \n",
       "4      Earth          0           A  16.0    0        303.0       70.0   \n",
       "\n",
       "   ShoppingMall     Spa  VRDeck  Transported CabinDeck CabinSide  Adult  \\\n",
       "0           0.0     0.0     0.0            0         B         P      1   \n",
       "1          25.0   549.0    44.0            1         F         S      1   \n",
       "2           0.0  6715.0    49.0            0         A         S      1   \n",
       "3         371.0  3329.0   193.0            0         A         S      1   \n",
       "4         151.0   565.0     2.0            1         F         S      0   \n",
       "\n",
       "   TotalSpend  FamilyMember  \n",
       "0         0.0             3  \n",
       "1       736.0             4  \n",
       "2     10383.0             7  \n",
       "3      5176.0             7  \n",
       "4      1091.0             9  "
      ]
     },
     "execution_count": 6,
     "metadata": {},
     "output_type": "execute_result"
    }
   ],
   "source": [
    "train.head()"
   ]
  },
  {
   "cell_type": "code",
   "execution_count": 7,
   "id": "38cca900",
   "metadata": {
    "execution": {
     "iopub.execute_input": "2022-09-19T20:21:44.176393Z",
     "iopub.status.busy": "2022-09-19T20:21:44.175958Z",
     "iopub.status.idle": "2022-09-19T20:21:44.380938Z",
     "shell.execute_reply": "2022-09-19T20:21:44.379639Z"
    },
    "papermill": {
     "duration": 0.215482,
     "end_time": "2022-09-19T20:21:44.383951",
     "exception": false,
     "start_time": "2022-09-19T20:21:44.168469",
     "status": "completed"
    },
    "tags": []
   },
   "outputs": [],
   "source": [
    "# Feature Scaling\n",
    "num_features = ['Age','RoomService','FoodCourt','ShoppingMall','Spa','VRDeck','TotalSpend','FamilyMember']\n",
    "\n",
    "from sklearn.preprocessing import MinMaxScaler\n",
    "\n",
    "scaler = MinMaxScaler()\n",
    "train_num_scaled = scaler.fit_transform(train[num_features])\n",
    "test_num_scaled = scaler.transform(test[num_features])\n",
    "\n",
    "train_num_scaled = pd.DataFrame(data=train_num_scaled,columns=num_features)\n",
    "test_num_scaled = pd.DataFrame(data=test_num_scaled,columns=num_features)\n",
    "\n",
    "# Feature Encoding\n",
    "cat_features = ['HomePlanet','CryoSleep','Destination','VIP','CabinDeck','CabinSide','Adult']\n",
    "\n",
    "train_cat_encoded = pd.get_dummies(train[cat_features],drop_first=True)\n",
    "test_cat_encoded = pd.get_dummies(test[cat_features],drop_first=True)\n",
    "\n",
    "# Train and Test\n",
    "X = pd.concat([train_num_scaled,train_cat_encoded],axis=1)\n",
    "X_test = pd.concat([test_num_scaled,test_cat_encoded],axis=1)\n",
    "y = train.Transported\n",
    "X_all = pd.concat([X,y],axis=1)"
   ]
  },
  {
   "cell_type": "code",
   "execution_count": 8,
   "id": "cd2be03b",
   "metadata": {
    "execution": {
     "iopub.execute_input": "2022-09-19T20:21:44.398253Z",
     "iopub.status.busy": "2022-09-19T20:21:44.397807Z",
     "iopub.status.idle": "2022-09-19T20:21:44.430553Z",
     "shell.execute_reply": "2022-09-19T20:21:44.429258Z"
    },
    "papermill": {
     "duration": 0.04306,
     "end_time": "2022-09-19T20:21:44.433214",
     "exception": false,
     "start_time": "2022-09-19T20:21:44.390154",
     "status": "completed"
    },
    "tags": []
   },
   "outputs": [
    {
     "data": {
      "text/plain": [
       "Transported           1.000000\n",
       "CryoSleep             0.460132\n",
       "RoomService           0.241124\n",
       "Spa                   0.218545\n",
       "VRDeck                0.204874\n",
       "TotalSpend            0.199514\n",
       "HomePlanet_Europa     0.176916\n",
       "CabinDeck_B           0.144733\n",
       "Adult                 0.115822\n",
       "Destination_B         0.108722\n",
       "CabinDeck_C           0.108193\n",
       "CabinSide_S           0.101455\n",
       "CabinDeck_E           0.097965\n",
       "CabinDeck_F           0.087753\n",
       "Age                   0.071340\n",
       "FamilyMember          0.052706\n",
       "FoodCourt             0.045583\n",
       "VIP                   0.037261\n",
       "CabinDeck_D           0.034046\n",
       "HomePlanet_Mars       0.019544\n",
       "CabinDeck_G           0.016269\n",
       "CabinDeck_T           0.014568\n",
       "ShoppingMall          0.009391\n",
       "HomePlanet_Unknown    0.002712\n",
       "Destination_U         0.000547\n",
       "CabinDeck_U           0.000340\n",
       "CabinSide_U           0.000340\n",
       "Destination_C         0.000092\n",
       "Name: Transported, dtype: float64"
      ]
     },
     "execution_count": 8,
     "metadata": {},
     "output_type": "execute_result"
    }
   ],
   "source": [
    "X_all.corr().Transported.abs().sort_values(ascending=False)"
   ]
  },
  {
   "cell_type": "markdown",
   "id": "7bb81e4c",
   "metadata": {
    "papermill": {
     "duration": 0.006081,
     "end_time": "2022-09-19T20:21:44.445821",
     "exception": false,
     "start_time": "2022-09-19T20:21:44.439740",
     "status": "completed"
    },
    "tags": []
   },
   "source": [
    "### Modeling"
   ]
  },
  {
   "cell_type": "code",
   "execution_count": 9,
   "id": "6d39b3d9",
   "metadata": {
    "execution": {
     "iopub.execute_input": "2022-09-19T20:21:44.460691Z",
     "iopub.status.busy": "2022-09-19T20:21:44.460277Z",
     "iopub.status.idle": "2022-09-19T20:21:44.539091Z",
     "shell.execute_reply": "2022-09-19T20:21:44.537920Z"
    },
    "papermill": {
     "duration": 0.08986,
     "end_time": "2022-09-19T20:21:44.542014",
     "exception": false,
     "start_time": "2022-09-19T20:21:44.452154",
     "status": "completed"
    },
    "tags": []
   },
   "outputs": [],
   "source": [
    "# Train Valid Split\n",
    "from sklearn.model_selection import train_test_split\n",
    "X_train, X_valid, y_train, y_valid = train_test_split(X, y, test_size=0.3, random_state=101)"
   ]
  },
  {
   "cell_type": "code",
   "execution_count": 10,
   "id": "31d181b1",
   "metadata": {
    "execution": {
     "iopub.execute_input": "2022-09-19T20:21:44.556762Z",
     "iopub.status.busy": "2022-09-19T20:21:44.556021Z",
     "iopub.status.idle": "2022-09-19T20:21:46.351945Z",
     "shell.execute_reply": "2022-09-19T20:21:46.350346Z"
    },
    "papermill": {
     "duration": 1.806568,
     "end_time": "2022-09-19T20:21:46.354913",
     "exception": false,
     "start_time": "2022-09-19T20:21:44.548345",
     "status": "completed"
    },
    "tags": []
   },
   "outputs": [
    {
     "data": {
      "text/html": [
       "<style type='text/css'>\n",
       ".datatable table.frame { margin-bottom: 0; }\n",
       ".datatable table.frame thead { border-bottom: none; }\n",
       ".datatable table.frame tr.coltypes td {  color: #FFFFFF;  line-height: 6px;  padding: 0 0.5em;}\n",
       ".datatable .bool    { background: #DDDD99; }\n",
       ".datatable .object  { background: #565656; }\n",
       ".datatable .int     { background: #5D9E5D; }\n",
       ".datatable .float   { background: #4040CC; }\n",
       ".datatable .str     { background: #CC4040; }\n",
       ".datatable .time    { background: #40CC40; }\n",
       ".datatable .row_index {  background: var(--jp-border-color3);  border-right: 1px solid var(--jp-border-color0);  color: var(--jp-ui-font-color3);  font-size: 9px;}\n",
       ".datatable .frame tbody td { text-align: left; }\n",
       ".datatable .frame tr.coltypes .row_index {  background: var(--jp-border-color0);}\n",
       ".datatable th:nth-child(2) { padding-left: 12px; }\n",
       ".datatable .hellipsis {  color: var(--jp-cell-editor-border-color);}\n",
       ".datatable .vellipsis {  background: var(--jp-layout-color0);  color: var(--jp-cell-editor-border-color);}\n",
       ".datatable .na {  color: var(--jp-cell-editor-border-color);  font-size: 80%;}\n",
       ".datatable .sp {  opacity: 0.25;}\n",
       ".datatable .footer { font-size: 9px; }\n",
       ".datatable .frame_dimensions {  background: var(--jp-border-color3);  border-top: 1px solid var(--jp-border-color0);  color: var(--jp-ui-font-color3);  display: inline-block;  opacity: 0.6;  padding: 1px 10px 1px 5px;}\n",
       "</style>\n"
      ],
      "text/plain": [
       "<IPython.core.display.HTML object>"
      ]
     },
     "metadata": {},
     "output_type": "display_data"
    }
   ],
   "source": [
    "from sklearn.model_selection import cross_val_score\n",
    "from sklearn import metrics\n",
    "\n",
    "from sklearn.linear_model import LogisticRegression\n",
    "from sklearn.tree import DecisionTreeClassifier\n",
    "from sklearn.ensemble import RandomForestClassifier\n",
    "from xgboost.sklearn import XGBClassifier\n",
    "from sklearn.ensemble import GradientBoostingClassifier\n",
    "from lightgbm import LGBMClassifier\n",
    "from catboost import CatBoostClassifier\n",
    "from sklearn.ensemble import HistGradientBoostingClassifier\n",
    "\n",
    "from sklearn.model_selection import GridSearchCV\n",
    "from sklearn.ensemble import StackingClassifier"
   ]
  },
  {
   "cell_type": "code",
   "execution_count": 11,
   "id": "fb470e71",
   "metadata": {
    "execution": {
     "iopub.execute_input": "2022-09-19T20:21:46.369963Z",
     "iopub.status.busy": "2022-09-19T20:21:46.369433Z",
     "iopub.status.idle": "2022-09-19T20:21:46.377811Z",
     "shell.execute_reply": "2022-09-19T20:21:46.376536Z"
    },
    "papermill": {
     "duration": 0.01881,
     "end_time": "2022-09-19T20:21:46.380356",
     "exception": false,
     "start_time": "2022-09-19T20:21:46.361546",
     "status": "completed"
    },
    "tags": []
   },
   "outputs": [],
   "source": [
    "# # Logistic Regression\n",
    "# print('Running LogisticRegression\\n')\n",
    "# logreg = LogisticRegression(max_iter = 600)\n",
    "# scores = cross_val_score(logreg,X_train,y_train,scoring='neg_mean_squared_error',cv=5)\n",
    "# logreg_mse = round(abs(scores.mean()), 4)\n",
    "# logreg.fit(X_train, y_train)\n",
    "# y_pred = logreg.predict(X_valid)\n",
    "# logreg_acc = round(metrics.accuracy_score(y_valid, y_pred), 4)\n",
    "\n",
    "\n",
    "# # Decision Tree\n",
    "# print('Running DecisionTreeClassifier\\n')\n",
    "# decision_tree = DecisionTreeClassifier()\n",
    "# scores = cross_val_score(decision_tree,X_train,y_train,scoring='neg_mean_squared_error',cv=5)\n",
    "# decision_tree_mse = round(abs(scores.mean()), 4)\n",
    "# decision_tree.fit(X_train, y_train)\n",
    "# y_pred = decision_tree.predict(X_valid)\n",
    "# decision_tree_acc = round(metrics.accuracy_score(y_valid, y_pred), 4)\n",
    "\n",
    "# # Random Forest\n",
    "# print('Running RandomForestClassifier\\n')\n",
    "# random_forest = RandomForestClassifier()\n",
    "# scores = cross_val_score(random_forest,X_train,y_train,scoring='neg_mean_squared_error',cv=5)\n",
    "# random_forest_mse = round(abs(scores.mean()), 4)\n",
    "# random_forest.fit(X_train, y_train)\n",
    "# y_pred = random_forest.predict(X_valid)\n",
    "# random_forest_acc = round(metrics.accuracy_score(y_valid, y_pred), 4)\n",
    "\n",
    "# # XGBoost\n",
    "# print('Running XGBClassifier\\n')\n",
    "# xgb = XGBClassifier()\n",
    "# scores = cross_val_score(xgb,X_train,y_train,scoring='neg_mean_squared_error',cv=5)\n",
    "# xgb_mse = round(abs(scores.mean()), 4)\n",
    "# xgb.fit(X_train, y_train)\n",
    "# y_pred = xgb.predict(X_valid)\n",
    "# xgb_acc = round(metrics.accuracy_score(y_valid, y_pred), 4)\n",
    "\n",
    "# # GB\n",
    "# print('Running GradientBoostingClassifier\\n')\n",
    "# gb = GradientBoostingClassifier()\n",
    "# scores = cross_val_score(gb,X_train,y_train,scoring='neg_mean_squared_error',cv=5)\n",
    "# gb_mse = round(abs(scores.mean()), 4)\n",
    "# gb.fit(X_train, y_train)\n",
    "# y_pred = gb.predict(X_valid)\n",
    "# gb_acc = round(metrics.accuracy_score(y_valid, y_pred), 4)\n",
    "\n",
    "# # LightGBM\n",
    "# print('Running LGBMClassifier\\n')\n",
    "# lgbm = LGBMClassifier()\n",
    "# scores = cross_val_score(lgbm,X_train,y_train,scoring='neg_mean_squared_error',cv=5)\n",
    "# lgbm_mse = round(abs(scores.mean()), 4)\n",
    "# lgbm.fit(X_train, y_train)\n",
    "# y_pred = lgbm.predict(X_valid)\n",
    "# lgbm_acc = round(metrics.accuracy_score(y_valid, y_pred), 4)\n",
    "\n",
    "# # Catboost\n",
    "# print('Running CatBoostClassifier\\n')\n",
    "# catb = CatBoostClassifier(verbose = 0)\n",
    "# scores = cross_val_score(catb,X_train,y_train,scoring='neg_mean_squared_error',cv=5)\n",
    "# catb_mse = round(abs(scores.mean()), 4)\n",
    "# catb.fit(X_train, y_train)\n",
    "# y_pred = catb.predict(X_valid)\n",
    "# catb_acc = round(metrics.accuracy_score(y_valid, y_pred), 4)\n",
    "\n",
    "# # Histogram-based Gradient Boosting Classification Tree\n",
    "# print('Running HistGradientBoostingClassifier\\n')\n",
    "# hgb = HistGradientBoostingClassifier()\n",
    "# scores = cross_val_score(hgb,X_train,y_train,scoring='neg_mean_squared_error',cv=5)\n",
    "# hgb_mse = round(abs(scores.mean()), 4)\n",
    "# hgb.fit(X_train, y_train)\n",
    "# y_pred = hgb.predict(X_valid)\n",
    "# hgb_acc = round(metrics.accuracy_score(y_valid, y_pred), 4)\n",
    "\n",
    "# model_df = pd.DataFrame({\n",
    "#     'Model': ['Logistic Regression', 'Decision Tree', 'Random Forest', 'XGBoost', 'GB', 'LightGBM', 'Catboost', 'HistBoost'],\n",
    "#     'Train MSE': [logreg_mse, decision_tree_mse, random_forest_mse, xgb_mse, gb_mse, lgbm_mse, catb_mse, hgb_mse],\n",
    "#     'Validation Accuracy': [logreg_acc, decision_tree_acc, random_forest_acc, xgb_acc, gb_acc, lgbm_acc, catb_acc, hgb_acc]\n",
    "# })\n",
    "\n",
    "# print(model_df.sort_values('Validation Accuracy', ascending = False).reset_index(drop = True))"
   ]
  },
  {
   "cell_type": "markdown",
   "id": "3fe12ee0",
   "metadata": {
    "papermill": {
     "duration": 0.006324,
     "end_time": "2022-09-19T20:21:46.393700",
     "exception": false,
     "start_time": "2022-09-19T20:21:46.387376",
     "status": "completed"
    },
    "tags": []
   },
   "source": [
    "### Grid Search on Catboost"
   ]
  },
  {
   "cell_type": "code",
   "execution_count": 12,
   "id": "a86265ad",
   "metadata": {
    "execution": {
     "iopub.execute_input": "2022-09-19T20:21:46.410185Z",
     "iopub.status.busy": "2022-09-19T20:21:46.409489Z",
     "iopub.status.idle": "2022-09-19T20:21:46.414349Z",
     "shell.execute_reply": "2022-09-19T20:21:46.413510Z"
    },
    "papermill": {
     "duration": 0.016379,
     "end_time": "2022-09-19T20:21:46.416763",
     "exception": false,
     "start_time": "2022-09-19T20:21:46.400384",
     "status": "completed"
    },
    "tags": []
   },
   "outputs": [],
   "source": [
    "# #  Grid Search on Catboost\n",
    "# catb = CatBoostClassifier(verbose = 0)\n",
    "# param_grid = {'iterations':[300,400,500,1000],\n",
    "#               'learning_rate':[0.01,0.03,0.05,0.07,0.09],\n",
    "#               'depth':[2,5,10]\n",
    "#              }\n",
    "\n",
    "# grid = GridSearchCV(estimator=catb, param_grid=param_grid, cv=5)\n",
    "# grid.fit(X,y)\n",
    "# print('Mean accuracy:',grid.score(X,y))\n",
    "# print('Best hyperparameters:',grid.best_params_)"
   ]
  },
  {
   "cell_type": "code",
   "execution_count": 13,
   "id": "e35b2200",
   "metadata": {
    "execution": {
     "iopub.execute_input": "2022-09-19T20:21:46.431833Z",
     "iopub.status.busy": "2022-09-19T20:21:46.431174Z",
     "iopub.status.idle": "2022-09-19T20:21:46.441512Z",
     "shell.execute_reply": "2022-09-19T20:21:46.440502Z"
    },
    "papermill": {
     "duration": 0.020947,
     "end_time": "2022-09-19T20:21:46.444125",
     "exception": false,
     "start_time": "2022-09-19T20:21:46.423178",
     "status": "completed"
    },
    "tags": []
   },
   "outputs": [],
   "source": [
    "# Tuned Catboost (LB score: 0.80617)\n",
    "catb = CatBoostClassifier(depth=5,iterations=300,learning_rate=0.05,verbose=0)"
   ]
  },
  {
   "cell_type": "code",
   "execution_count": 14,
   "id": "478a8500",
   "metadata": {
    "execution": {
     "iopub.execute_input": "2022-09-19T20:21:46.459365Z",
     "iopub.status.busy": "2022-09-19T20:21:46.458919Z",
     "iopub.status.idle": "2022-09-19T20:21:47.871290Z",
     "shell.execute_reply": "2022-09-19T20:21:47.870005Z"
    },
    "papermill": {
     "duration": 1.423455,
     "end_time": "2022-09-19T20:21:47.874090",
     "exception": false,
     "start_time": "2022-09-19T20:21:46.450635",
     "status": "completed"
    },
    "tags": []
   },
   "outputs": [],
   "source": [
    "# Submitting\n",
    "model=catb\n",
    "model.fit(X,y)\n",
    "predictions = model.predict(X_test)\n",
    "output = pd.DataFrame({'PassengerId': test_df.PassengerId, 'Transported': predictions})\n",
    "output['Transported'] = output['Transported'].astype('bool')\n",
    "output.to_csv('submission.csv', index=False)"
   ]
  }
 ],
 "metadata": {
  "kernelspec": {
   "display_name": "Python 3",
   "language": "python",
   "name": "python3"
  },
  "language_info": {
   "codemirror_mode": {
    "name": "ipython",
    "version": 3
   },
   "file_extension": ".py",
   "mimetype": "text/x-python",
   "name": "python",
   "nbconvert_exporter": "python",
   "pygments_lexer": "ipython3",
   "version": "3.7.12"
  },
  "papermill": {
   "default_parameters": {},
   "duration": 16.870432,
   "end_time": "2022-09-19T20:21:48.804710",
   "environment_variables": {},
   "exception": null,
   "input_path": "__notebook__.ipynb",
   "output_path": "__notebook__.ipynb",
   "parameters": {},
   "start_time": "2022-09-19T20:21:31.934278",
   "version": "2.3.4"
  }
 },
 "nbformat": 4,
 "nbformat_minor": 5
}
