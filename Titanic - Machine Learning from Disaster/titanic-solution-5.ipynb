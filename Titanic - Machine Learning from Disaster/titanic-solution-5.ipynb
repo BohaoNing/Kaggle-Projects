{
 "cells": [
  {
   "cell_type": "markdown",
   "id": "cd948d5b",
   "metadata": {
    "papermill": {
     "duration": 0.015446,
     "end_time": "2022-07-20T03:14:25.170261",
     "exception": false,
     "start_time": "2022-07-20T03:14:25.154815",
     "status": "completed"
    },
    "tags": []
   },
   "source": [
    "### This solution is based on ideas of [Gunes Evitan](https://www.kaggle.com/gunesevitan) and [Amer Wafiy](https://www.kaggle.com/amerwafiy)"
   ]
  },
  {
   "cell_type": "markdown",
   "id": "856fff99",
   "metadata": {
    "papermill": {
     "duration": 0.013743,
     "end_time": "2022-07-20T03:14:25.198314",
     "exception": false,
     "start_time": "2022-07-20T03:14:25.184571",
     "status": "completed"
    },
    "tags": []
   },
   "source": [
    "# Imports"
   ]
  },
  {
   "cell_type": "code",
   "execution_count": 1,
   "id": "1d28a8c4",
   "metadata": {
    "_cell_guid": "b1076dfc-b9ad-4769-8c92-a6c4dae69d19",
    "_uuid": "8f2839f25d086af736a60e9eeb907d3b93b6e0e5",
    "execution": {
     "iopub.execute_input": "2022-07-20T03:14:25.229678Z",
     "iopub.status.busy": "2022-07-20T03:14:25.228816Z",
     "iopub.status.idle": "2022-07-20T03:14:26.435150Z",
     "shell.execute_reply": "2022-07-20T03:14:26.433745Z"
    },
    "papermill": {
     "duration": 1.226162,
     "end_time": "2022-07-20T03:14:26.438927",
     "exception": false,
     "start_time": "2022-07-20T03:14:25.212765",
     "status": "completed"
    },
    "tags": []
   },
   "outputs": [
    {
     "name": "stdout",
     "output_type": "stream",
     "text": [
      "/kaggle/input/titanic/train.csv\n",
      "/kaggle/input/titanic/test.csv\n",
      "/kaggle/input/titanic/gender_submission.csv\n"
     ]
    }
   ],
   "source": [
    "# This Python 3 environment comes with many helpful analytics libraries installed\n",
    "# It is defined by the kaggle/python Docker image: https://github.com/kaggle/docker-python\n",
    "# For example, here's several helpful packages to load\n",
    "\n",
    "import numpy as np # linear algebra\n",
    "import pandas as pd # data processing, CSV file I/O (e.g. pd.read_csv)\n",
    "\n",
    "import matplotlib.pyplot as plt\n",
    "import seaborn as sns\n",
    "sns.set(style=\"darkgrid\")\n",
    "\n",
    "# Input data files are available in the read-only \"../input/\" directory\n",
    "# For example, running this (by clicking run or pressing Shift+Enter) will list all files under the input directory\n",
    "\n",
    "import os\n",
    "for dirname, _, filenames in os.walk('/kaggle/input'):\n",
    "    for filename in filenames:\n",
    "        print(os.path.join(dirname, filename))\n",
    "\n",
    "# You can write up to 20GB to the current directory (/kaggle/working/) that gets preserved as output when you create a version using \"Save & Run All\" \n",
    "# You can also write temporary files to /kaggle/temp/, but they won't be saved outside of the current session"
   ]
  },
  {
   "cell_type": "code",
   "execution_count": 2,
   "id": "8497fdf5",
   "metadata": {
    "execution": {
     "iopub.execute_input": "2022-07-20T03:14:26.470027Z",
     "iopub.status.busy": "2022-07-20T03:14:26.469606Z",
     "iopub.status.idle": "2022-07-20T03:14:26.504538Z",
     "shell.execute_reply": "2022-07-20T03:14:26.503360Z"
    },
    "papermill": {
     "duration": 0.053887,
     "end_time": "2022-07-20T03:14:26.507192",
     "exception": false,
     "start_time": "2022-07-20T03:14:26.453305",
     "status": "completed"
    },
    "tags": []
   },
   "outputs": [],
   "source": [
    "# Data Input\n",
    "train = pd.read_csv('/kaggle/input/titanic/train.csv')\n",
    "test = pd.read_csv('/kaggle/input/titanic/test.csv')\n",
    "sub_example = pd.read_csv('/kaggle/input/titanic/gender_submission.csv')"
   ]
  },
  {
   "cell_type": "code",
   "execution_count": 3,
   "id": "fa8afdc3",
   "metadata": {
    "execution": {
     "iopub.execute_input": "2022-07-20T03:14:26.535548Z",
     "iopub.status.busy": "2022-07-20T03:14:26.535151Z",
     "iopub.status.idle": "2022-07-20T03:14:26.563958Z",
     "shell.execute_reply": "2022-07-20T03:14:26.562999Z"
    },
    "papermill": {
     "duration": 0.045159,
     "end_time": "2022-07-20T03:14:26.565914",
     "exception": false,
     "start_time": "2022-07-20T03:14:26.520755",
     "status": "completed"
    },
    "tags": []
   },
   "outputs": [
    {
     "data": {
      "text/html": [
       "<div>\n",
       "<style scoped>\n",
       "    .dataframe tbody tr th:only-of-type {\n",
       "        vertical-align: middle;\n",
       "    }\n",
       "\n",
       "    .dataframe tbody tr th {\n",
       "        vertical-align: top;\n",
       "    }\n",
       "\n",
       "    .dataframe thead th {\n",
       "        text-align: right;\n",
       "    }\n",
       "</style>\n",
       "<table border=\"1\" class=\"dataframe\">\n",
       "  <thead>\n",
       "    <tr style=\"text-align: right;\">\n",
       "      <th></th>\n",
       "      <th>PassengerId</th>\n",
       "      <th>Survived</th>\n",
       "      <th>Pclass</th>\n",
       "      <th>Name</th>\n",
       "      <th>Sex</th>\n",
       "      <th>Age</th>\n",
       "      <th>SibSp</th>\n",
       "      <th>Parch</th>\n",
       "      <th>Ticket</th>\n",
       "      <th>Fare</th>\n",
       "      <th>Cabin</th>\n",
       "      <th>Embarked</th>\n",
       "    </tr>\n",
       "  </thead>\n",
       "  <tbody>\n",
       "    <tr>\n",
       "      <th>60</th>\n",
       "      <td>61</td>\n",
       "      <td>0</td>\n",
       "      <td>3</td>\n",
       "      <td>Sirayanian, Mr. Orsen</td>\n",
       "      <td>male</td>\n",
       "      <td>22.0</td>\n",
       "      <td>0</td>\n",
       "      <td>0</td>\n",
       "      <td>2669</td>\n",
       "      <td>7.2292</td>\n",
       "      <td>NaN</td>\n",
       "      <td>C</td>\n",
       "    </tr>\n",
       "    <tr>\n",
       "      <th>108</th>\n",
       "      <td>109</td>\n",
       "      <td>0</td>\n",
       "      <td>3</td>\n",
       "      <td>Rekic, Mr. Tido</td>\n",
       "      <td>male</td>\n",
       "      <td>38.0</td>\n",
       "      <td>0</td>\n",
       "      <td>0</td>\n",
       "      <td>349249</td>\n",
       "      <td>7.8958</td>\n",
       "      <td>NaN</td>\n",
       "      <td>S</td>\n",
       "    </tr>\n",
       "    <tr>\n",
       "      <th>568</th>\n",
       "      <td>569</td>\n",
       "      <td>0</td>\n",
       "      <td>3</td>\n",
       "      <td>Doharr, Mr. Tannous</td>\n",
       "      <td>male</td>\n",
       "      <td>NaN</td>\n",
       "      <td>0</td>\n",
       "      <td>0</td>\n",
       "      <td>2686</td>\n",
       "      <td>7.2292</td>\n",
       "      <td>NaN</td>\n",
       "      <td>C</td>\n",
       "    </tr>\n",
       "    <tr>\n",
       "      <th>777</th>\n",
       "      <td>778</td>\n",
       "      <td>1</td>\n",
       "      <td>3</td>\n",
       "      <td>Emanuel, Miss. Virginia Ethel</td>\n",
       "      <td>female</td>\n",
       "      <td>5.0</td>\n",
       "      <td>0</td>\n",
       "      <td>0</td>\n",
       "      <td>364516</td>\n",
       "      <td>12.4750</td>\n",
       "      <td>NaN</td>\n",
       "      <td>S</td>\n",
       "    </tr>\n",
       "    <tr>\n",
       "      <th>749</th>\n",
       "      <td>750</td>\n",
       "      <td>0</td>\n",
       "      <td>3</td>\n",
       "      <td>Connaghton, Mr. Michael</td>\n",
       "      <td>male</td>\n",
       "      <td>31.0</td>\n",
       "      <td>0</td>\n",
       "      <td>0</td>\n",
       "      <td>335097</td>\n",
       "      <td>7.7500</td>\n",
       "      <td>NaN</td>\n",
       "      <td>Q</td>\n",
       "    </tr>\n",
       "  </tbody>\n",
       "</table>\n",
       "</div>"
      ],
      "text/plain": [
       "     PassengerId  Survived  Pclass                           Name     Sex  \\\n",
       "60            61         0       3          Sirayanian, Mr. Orsen    male   \n",
       "108          109         0       3                Rekic, Mr. Tido    male   \n",
       "568          569         0       3            Doharr, Mr. Tannous    male   \n",
       "777          778         1       3  Emanuel, Miss. Virginia Ethel  female   \n",
       "749          750         0       3        Connaghton, Mr. Michael    male   \n",
       "\n",
       "      Age  SibSp  Parch  Ticket     Fare Cabin Embarked  \n",
       "60   22.0      0      0    2669   7.2292   NaN        C  \n",
       "108  38.0      0      0  349249   7.8958   NaN        S  \n",
       "568   NaN      0      0    2686   7.2292   NaN        C  \n",
       "777   5.0      0      0  364516  12.4750   NaN        S  \n",
       "749  31.0      0      0  335097   7.7500   NaN        Q  "
      ]
     },
     "execution_count": 3,
     "metadata": {},
     "output_type": "execute_result"
    }
   ],
   "source": [
    "train.sample(5)"
   ]
  },
  {
   "cell_type": "code",
   "execution_count": 4,
   "id": "79cd1000",
   "metadata": {
    "execution": {
     "iopub.execute_input": "2022-07-20T03:14:26.595601Z",
     "iopub.status.busy": "2022-07-20T03:14:26.594924Z",
     "iopub.status.idle": "2022-07-20T03:14:26.611507Z",
     "shell.execute_reply": "2022-07-20T03:14:26.610407Z"
    },
    "papermill": {
     "duration": 0.034239,
     "end_time": "2022-07-20T03:14:26.613964",
     "exception": false,
     "start_time": "2022-07-20T03:14:26.579725",
     "status": "completed"
    },
    "tags": []
   },
   "outputs": [
    {
     "data": {
      "text/html": [
       "<div>\n",
       "<style scoped>\n",
       "    .dataframe tbody tr th:only-of-type {\n",
       "        vertical-align: middle;\n",
       "    }\n",
       "\n",
       "    .dataframe tbody tr th {\n",
       "        vertical-align: top;\n",
       "    }\n",
       "\n",
       "    .dataframe thead th {\n",
       "        text-align: right;\n",
       "    }\n",
       "</style>\n",
       "<table border=\"1\" class=\"dataframe\">\n",
       "  <thead>\n",
       "    <tr style=\"text-align: right;\">\n",
       "      <th></th>\n",
       "      <th>PassengerId</th>\n",
       "      <th>Pclass</th>\n",
       "      <th>Name</th>\n",
       "      <th>Sex</th>\n",
       "      <th>Age</th>\n",
       "      <th>SibSp</th>\n",
       "      <th>Parch</th>\n",
       "      <th>Ticket</th>\n",
       "      <th>Fare</th>\n",
       "      <th>Cabin</th>\n",
       "      <th>Embarked</th>\n",
       "    </tr>\n",
       "  </thead>\n",
       "  <tbody>\n",
       "    <tr>\n",
       "      <th>198</th>\n",
       "      <td>1090</td>\n",
       "      <td>2</td>\n",
       "      <td>Baimbrigge, Mr. Charles Robert</td>\n",
       "      <td>male</td>\n",
       "      <td>23.0</td>\n",
       "      <td>0</td>\n",
       "      <td>0</td>\n",
       "      <td>C.A. 31030</td>\n",
       "      <td>10.5000</td>\n",
       "      <td>NaN</td>\n",
       "      <td>S</td>\n",
       "    </tr>\n",
       "    <tr>\n",
       "      <th>197</th>\n",
       "      <td>1089</td>\n",
       "      <td>3</td>\n",
       "      <td>Nilsson, Miss. Berta Olivia</td>\n",
       "      <td>female</td>\n",
       "      <td>18.0</td>\n",
       "      <td>0</td>\n",
       "      <td>0</td>\n",
       "      <td>347066</td>\n",
       "      <td>7.7750</td>\n",
       "      <td>NaN</td>\n",
       "      <td>S</td>\n",
       "    </tr>\n",
       "    <tr>\n",
       "      <th>331</th>\n",
       "      <td>1223</td>\n",
       "      <td>1</td>\n",
       "      <td>Dulles, Mr. William Crothers</td>\n",
       "      <td>male</td>\n",
       "      <td>39.0</td>\n",
       "      <td>0</td>\n",
       "      <td>0</td>\n",
       "      <td>PC 17580</td>\n",
       "      <td>29.7000</td>\n",
       "      <td>A18</td>\n",
       "      <td>C</td>\n",
       "    </tr>\n",
       "    <tr>\n",
       "      <th>15</th>\n",
       "      <td>907</td>\n",
       "      <td>2</td>\n",
       "      <td>del Carlo, Mrs. Sebastiano (Argenia Genovesi)</td>\n",
       "      <td>female</td>\n",
       "      <td>24.0</td>\n",
       "      <td>1</td>\n",
       "      <td>0</td>\n",
       "      <td>SC/PARIS 2167</td>\n",
       "      <td>27.7208</td>\n",
       "      <td>NaN</td>\n",
       "      <td>C</td>\n",
       "    </tr>\n",
       "    <tr>\n",
       "      <th>247</th>\n",
       "      <td>1139</td>\n",
       "      <td>2</td>\n",
       "      <td>Drew, Mr. James Vivian</td>\n",
       "      <td>male</td>\n",
       "      <td>42.0</td>\n",
       "      <td>1</td>\n",
       "      <td>1</td>\n",
       "      <td>28220</td>\n",
       "      <td>32.5000</td>\n",
       "      <td>NaN</td>\n",
       "      <td>S</td>\n",
       "    </tr>\n",
       "  </tbody>\n",
       "</table>\n",
       "</div>"
      ],
      "text/plain": [
       "     PassengerId  Pclass                                           Name  \\\n",
       "198         1090       2                 Baimbrigge, Mr. Charles Robert   \n",
       "197         1089       3                    Nilsson, Miss. Berta Olivia   \n",
       "331         1223       1                   Dulles, Mr. William Crothers   \n",
       "15           907       2  del Carlo, Mrs. Sebastiano (Argenia Genovesi)   \n",
       "247         1139       2                         Drew, Mr. James Vivian   \n",
       "\n",
       "        Sex   Age  SibSp  Parch         Ticket     Fare Cabin Embarked  \n",
       "198    male  23.0      0      0     C.A. 31030  10.5000   NaN        S  \n",
       "197  female  18.0      0      0         347066   7.7750   NaN        S  \n",
       "331    male  39.0      0      0       PC 17580  29.7000   A18        C  \n",
       "15   female  24.0      1      0  SC/PARIS 2167  27.7208   NaN        C  \n",
       "247    male  42.0      1      1          28220  32.5000   NaN        S  "
      ]
     },
     "execution_count": 4,
     "metadata": {},
     "output_type": "execute_result"
    }
   ],
   "source": [
    "test.sample(5)"
   ]
  },
  {
   "cell_type": "code",
   "execution_count": 5,
   "id": "313fdcd6",
   "metadata": {
    "execution": {
     "iopub.execute_input": "2022-07-20T03:14:26.644595Z",
     "iopub.status.busy": "2022-07-20T03:14:26.643846Z",
     "iopub.status.idle": "2022-07-20T03:14:26.683803Z",
     "shell.execute_reply": "2022-07-20T03:14:26.682976Z"
    },
    "papermill": {
     "duration": 0.057806,
     "end_time": "2022-07-20T03:14:26.685844",
     "exception": false,
     "start_time": "2022-07-20T03:14:26.628038",
     "status": "completed"
    },
    "tags": []
   },
   "outputs": [
    {
     "data": {
      "text/html": [
       "<div>\n",
       "<style scoped>\n",
       "    .dataframe tbody tr th:only-of-type {\n",
       "        vertical-align: middle;\n",
       "    }\n",
       "\n",
       "    .dataframe tbody tr th {\n",
       "        vertical-align: top;\n",
       "    }\n",
       "\n",
       "    .dataframe thead th {\n",
       "        text-align: right;\n",
       "    }\n",
       "</style>\n",
       "<table border=\"1\" class=\"dataframe\">\n",
       "  <thead>\n",
       "    <tr style=\"text-align: right;\">\n",
       "      <th></th>\n",
       "      <th>PassengerId</th>\n",
       "      <th>Survived</th>\n",
       "      <th>Pclass</th>\n",
       "      <th>Age</th>\n",
       "      <th>SibSp</th>\n",
       "      <th>Parch</th>\n",
       "      <th>Fare</th>\n",
       "    </tr>\n",
       "  </thead>\n",
       "  <tbody>\n",
       "    <tr>\n",
       "      <th>count</th>\n",
       "      <td>891.000000</td>\n",
       "      <td>891.000000</td>\n",
       "      <td>891.000000</td>\n",
       "      <td>714.000000</td>\n",
       "      <td>891.000000</td>\n",
       "      <td>891.000000</td>\n",
       "      <td>891.000000</td>\n",
       "    </tr>\n",
       "    <tr>\n",
       "      <th>mean</th>\n",
       "      <td>446.000000</td>\n",
       "      <td>0.383838</td>\n",
       "      <td>2.308642</td>\n",
       "      <td>29.699118</td>\n",
       "      <td>0.523008</td>\n",
       "      <td>0.381594</td>\n",
       "      <td>32.204208</td>\n",
       "    </tr>\n",
       "    <tr>\n",
       "      <th>std</th>\n",
       "      <td>257.353842</td>\n",
       "      <td>0.486592</td>\n",
       "      <td>0.836071</td>\n",
       "      <td>14.526497</td>\n",
       "      <td>1.102743</td>\n",
       "      <td>0.806057</td>\n",
       "      <td>49.693429</td>\n",
       "    </tr>\n",
       "    <tr>\n",
       "      <th>min</th>\n",
       "      <td>1.000000</td>\n",
       "      <td>0.000000</td>\n",
       "      <td>1.000000</td>\n",
       "      <td>0.420000</td>\n",
       "      <td>0.000000</td>\n",
       "      <td>0.000000</td>\n",
       "      <td>0.000000</td>\n",
       "    </tr>\n",
       "    <tr>\n",
       "      <th>25%</th>\n",
       "      <td>223.500000</td>\n",
       "      <td>0.000000</td>\n",
       "      <td>2.000000</td>\n",
       "      <td>20.125000</td>\n",
       "      <td>0.000000</td>\n",
       "      <td>0.000000</td>\n",
       "      <td>7.910400</td>\n",
       "    </tr>\n",
       "    <tr>\n",
       "      <th>50%</th>\n",
       "      <td>446.000000</td>\n",
       "      <td>0.000000</td>\n",
       "      <td>3.000000</td>\n",
       "      <td>28.000000</td>\n",
       "      <td>0.000000</td>\n",
       "      <td>0.000000</td>\n",
       "      <td>14.454200</td>\n",
       "    </tr>\n",
       "    <tr>\n",
       "      <th>75%</th>\n",
       "      <td>668.500000</td>\n",
       "      <td>1.000000</td>\n",
       "      <td>3.000000</td>\n",
       "      <td>38.000000</td>\n",
       "      <td>1.000000</td>\n",
       "      <td>0.000000</td>\n",
       "      <td>31.000000</td>\n",
       "    </tr>\n",
       "    <tr>\n",
       "      <th>max</th>\n",
       "      <td>891.000000</td>\n",
       "      <td>1.000000</td>\n",
       "      <td>3.000000</td>\n",
       "      <td>80.000000</td>\n",
       "      <td>8.000000</td>\n",
       "      <td>6.000000</td>\n",
       "      <td>512.329200</td>\n",
       "    </tr>\n",
       "  </tbody>\n",
       "</table>\n",
       "</div>"
      ],
      "text/plain": [
       "       PassengerId    Survived      Pclass         Age       SibSp  \\\n",
       "count   891.000000  891.000000  891.000000  714.000000  891.000000   \n",
       "mean    446.000000    0.383838    2.308642   29.699118    0.523008   \n",
       "std     257.353842    0.486592    0.836071   14.526497    1.102743   \n",
       "min       1.000000    0.000000    1.000000    0.420000    0.000000   \n",
       "25%     223.500000    0.000000    2.000000   20.125000    0.000000   \n",
       "50%     446.000000    0.000000    3.000000   28.000000    0.000000   \n",
       "75%     668.500000    1.000000    3.000000   38.000000    1.000000   \n",
       "max     891.000000    1.000000    3.000000   80.000000    8.000000   \n",
       "\n",
       "            Parch        Fare  \n",
       "count  891.000000  891.000000  \n",
       "mean     0.381594   32.204208  \n",
       "std      0.806057   49.693429  \n",
       "min      0.000000    0.000000  \n",
       "25%      0.000000    7.910400  \n",
       "50%      0.000000   14.454200  \n",
       "75%      0.000000   31.000000  \n",
       "max      6.000000  512.329200  "
      ]
     },
     "execution_count": 5,
     "metadata": {},
     "output_type": "execute_result"
    }
   ],
   "source": [
    "train.describe()"
   ]
  },
  {
   "cell_type": "code",
   "execution_count": 6,
   "id": "1e54b894",
   "metadata": {
    "execution": {
     "iopub.execute_input": "2022-07-20T03:14:26.716813Z",
     "iopub.status.busy": "2022-07-20T03:14:26.716371Z",
     "iopub.status.idle": "2022-07-20T03:14:26.737894Z",
     "shell.execute_reply": "2022-07-20T03:14:26.736926Z"
    },
    "papermill": {
     "duration": 0.039763,
     "end_time": "2022-07-20T03:14:26.740207",
     "exception": false,
     "start_time": "2022-07-20T03:14:26.700444",
     "status": "completed"
    },
    "tags": []
   },
   "outputs": [
    {
     "data": {
      "text/html": [
       "<div>\n",
       "<style scoped>\n",
       "    .dataframe tbody tr th:only-of-type {\n",
       "        vertical-align: middle;\n",
       "    }\n",
       "\n",
       "    .dataframe tbody tr th {\n",
       "        vertical-align: top;\n",
       "    }\n",
       "\n",
       "    .dataframe thead th {\n",
       "        text-align: right;\n",
       "    }\n",
       "</style>\n",
       "<table border=\"1\" class=\"dataframe\">\n",
       "  <thead>\n",
       "    <tr style=\"text-align: right;\">\n",
       "      <th></th>\n",
       "      <th>Name</th>\n",
       "      <th>Sex</th>\n",
       "      <th>Ticket</th>\n",
       "      <th>Cabin</th>\n",
       "      <th>Embarked</th>\n",
       "    </tr>\n",
       "  </thead>\n",
       "  <tbody>\n",
       "    <tr>\n",
       "      <th>count</th>\n",
       "      <td>891</td>\n",
       "      <td>891</td>\n",
       "      <td>891</td>\n",
       "      <td>204</td>\n",
       "      <td>889</td>\n",
       "    </tr>\n",
       "    <tr>\n",
       "      <th>unique</th>\n",
       "      <td>891</td>\n",
       "      <td>2</td>\n",
       "      <td>681</td>\n",
       "      <td>147</td>\n",
       "      <td>3</td>\n",
       "    </tr>\n",
       "    <tr>\n",
       "      <th>top</th>\n",
       "      <td>Braund, Mr. Owen Harris</td>\n",
       "      <td>male</td>\n",
       "      <td>347082</td>\n",
       "      <td>B96 B98</td>\n",
       "      <td>S</td>\n",
       "    </tr>\n",
       "    <tr>\n",
       "      <th>freq</th>\n",
       "      <td>1</td>\n",
       "      <td>577</td>\n",
       "      <td>7</td>\n",
       "      <td>4</td>\n",
       "      <td>644</td>\n",
       "    </tr>\n",
       "  </tbody>\n",
       "</table>\n",
       "</div>"
      ],
      "text/plain": [
       "                           Name   Sex  Ticket    Cabin Embarked\n",
       "count                       891   891     891      204      889\n",
       "unique                      891     2     681      147        3\n",
       "top     Braund, Mr. Owen Harris  male  347082  B96 B98        S\n",
       "freq                          1   577       7        4      644"
      ]
     },
     "execution_count": 6,
     "metadata": {},
     "output_type": "execute_result"
    }
   ],
   "source": [
    "train.describe(include=['O'])"
   ]
  },
  {
   "cell_type": "code",
   "execution_count": 7,
   "id": "9cc01f23",
   "metadata": {
    "execution": {
     "iopub.execute_input": "2022-07-20T03:14:26.771031Z",
     "iopub.status.busy": "2022-07-20T03:14:26.770641Z",
     "iopub.status.idle": "2022-07-20T03:14:26.798537Z",
     "shell.execute_reply": "2022-07-20T03:14:26.797354Z"
    },
    "papermill": {
     "duration": 0.045702,
     "end_time": "2022-07-20T03:14:26.800818",
     "exception": false,
     "start_time": "2022-07-20T03:14:26.755116",
     "status": "completed"
    },
    "tags": []
   },
   "outputs": [
    {
     "data": {
      "text/html": [
       "<div>\n",
       "<style scoped>\n",
       "    .dataframe tbody tr th:only-of-type {\n",
       "        vertical-align: middle;\n",
       "    }\n",
       "\n",
       "    .dataframe tbody tr th {\n",
       "        vertical-align: top;\n",
       "    }\n",
       "\n",
       "    .dataframe thead th {\n",
       "        text-align: right;\n",
       "    }\n",
       "</style>\n",
       "<table border=\"1\" class=\"dataframe\">\n",
       "  <thead>\n",
       "    <tr style=\"text-align: right;\">\n",
       "      <th></th>\n",
       "      <th>PassengerId</th>\n",
       "      <th>Pclass</th>\n",
       "      <th>Age</th>\n",
       "      <th>SibSp</th>\n",
       "      <th>Parch</th>\n",
       "      <th>Fare</th>\n",
       "    </tr>\n",
       "  </thead>\n",
       "  <tbody>\n",
       "    <tr>\n",
       "      <th>count</th>\n",
       "      <td>418.000000</td>\n",
       "      <td>418.000000</td>\n",
       "      <td>332.000000</td>\n",
       "      <td>418.000000</td>\n",
       "      <td>418.000000</td>\n",
       "      <td>417.000000</td>\n",
       "    </tr>\n",
       "    <tr>\n",
       "      <th>mean</th>\n",
       "      <td>1100.500000</td>\n",
       "      <td>2.265550</td>\n",
       "      <td>30.272590</td>\n",
       "      <td>0.447368</td>\n",
       "      <td>0.392344</td>\n",
       "      <td>35.627188</td>\n",
       "    </tr>\n",
       "    <tr>\n",
       "      <th>std</th>\n",
       "      <td>120.810458</td>\n",
       "      <td>0.841838</td>\n",
       "      <td>14.181209</td>\n",
       "      <td>0.896760</td>\n",
       "      <td>0.981429</td>\n",
       "      <td>55.907576</td>\n",
       "    </tr>\n",
       "    <tr>\n",
       "      <th>min</th>\n",
       "      <td>892.000000</td>\n",
       "      <td>1.000000</td>\n",
       "      <td>0.170000</td>\n",
       "      <td>0.000000</td>\n",
       "      <td>0.000000</td>\n",
       "      <td>0.000000</td>\n",
       "    </tr>\n",
       "    <tr>\n",
       "      <th>25%</th>\n",
       "      <td>996.250000</td>\n",
       "      <td>1.000000</td>\n",
       "      <td>21.000000</td>\n",
       "      <td>0.000000</td>\n",
       "      <td>0.000000</td>\n",
       "      <td>7.895800</td>\n",
       "    </tr>\n",
       "    <tr>\n",
       "      <th>50%</th>\n",
       "      <td>1100.500000</td>\n",
       "      <td>3.000000</td>\n",
       "      <td>27.000000</td>\n",
       "      <td>0.000000</td>\n",
       "      <td>0.000000</td>\n",
       "      <td>14.454200</td>\n",
       "    </tr>\n",
       "    <tr>\n",
       "      <th>75%</th>\n",
       "      <td>1204.750000</td>\n",
       "      <td>3.000000</td>\n",
       "      <td>39.000000</td>\n",
       "      <td>1.000000</td>\n",
       "      <td>0.000000</td>\n",
       "      <td>31.500000</td>\n",
       "    </tr>\n",
       "    <tr>\n",
       "      <th>max</th>\n",
       "      <td>1309.000000</td>\n",
       "      <td>3.000000</td>\n",
       "      <td>76.000000</td>\n",
       "      <td>8.000000</td>\n",
       "      <td>9.000000</td>\n",
       "      <td>512.329200</td>\n",
       "    </tr>\n",
       "  </tbody>\n",
       "</table>\n",
       "</div>"
      ],
      "text/plain": [
       "       PassengerId      Pclass         Age       SibSp       Parch        Fare\n",
       "count   418.000000  418.000000  332.000000  418.000000  418.000000  417.000000\n",
       "mean   1100.500000    2.265550   30.272590    0.447368    0.392344   35.627188\n",
       "std     120.810458    0.841838   14.181209    0.896760    0.981429   55.907576\n",
       "min     892.000000    1.000000    0.170000    0.000000    0.000000    0.000000\n",
       "25%     996.250000    1.000000   21.000000    0.000000    0.000000    7.895800\n",
       "50%    1100.500000    3.000000   27.000000    0.000000    0.000000   14.454200\n",
       "75%    1204.750000    3.000000   39.000000    1.000000    0.000000   31.500000\n",
       "max    1309.000000    3.000000   76.000000    8.000000    9.000000  512.329200"
      ]
     },
     "execution_count": 7,
     "metadata": {},
     "output_type": "execute_result"
    }
   ],
   "source": [
    "test.describe()"
   ]
  },
  {
   "cell_type": "code",
   "execution_count": 8,
   "id": "211f3fbf",
   "metadata": {
    "execution": {
     "iopub.execute_input": "2022-07-20T03:14:26.832225Z",
     "iopub.status.busy": "2022-07-20T03:14:26.831407Z",
     "iopub.status.idle": "2022-07-20T03:14:26.854098Z",
     "shell.execute_reply": "2022-07-20T03:14:26.852923Z"
    },
    "papermill": {
     "duration": 0.040873,
     "end_time": "2022-07-20T03:14:26.856488",
     "exception": false,
     "start_time": "2022-07-20T03:14:26.815615",
     "status": "completed"
    },
    "tags": []
   },
   "outputs": [
    {
     "data": {
      "text/html": [
       "<div>\n",
       "<style scoped>\n",
       "    .dataframe tbody tr th:only-of-type {\n",
       "        vertical-align: middle;\n",
       "    }\n",
       "\n",
       "    .dataframe tbody tr th {\n",
       "        vertical-align: top;\n",
       "    }\n",
       "\n",
       "    .dataframe thead th {\n",
       "        text-align: right;\n",
       "    }\n",
       "</style>\n",
       "<table border=\"1\" class=\"dataframe\">\n",
       "  <thead>\n",
       "    <tr style=\"text-align: right;\">\n",
       "      <th></th>\n",
       "      <th>Name</th>\n",
       "      <th>Sex</th>\n",
       "      <th>Ticket</th>\n",
       "      <th>Cabin</th>\n",
       "      <th>Embarked</th>\n",
       "    </tr>\n",
       "  </thead>\n",
       "  <tbody>\n",
       "    <tr>\n",
       "      <th>count</th>\n",
       "      <td>418</td>\n",
       "      <td>418</td>\n",
       "      <td>418</td>\n",
       "      <td>91</td>\n",
       "      <td>418</td>\n",
       "    </tr>\n",
       "    <tr>\n",
       "      <th>unique</th>\n",
       "      <td>418</td>\n",
       "      <td>2</td>\n",
       "      <td>363</td>\n",
       "      <td>76</td>\n",
       "      <td>3</td>\n",
       "    </tr>\n",
       "    <tr>\n",
       "      <th>top</th>\n",
       "      <td>Kelly, Mr. James</td>\n",
       "      <td>male</td>\n",
       "      <td>PC 17608</td>\n",
       "      <td>B57 B59 B63 B66</td>\n",
       "      <td>S</td>\n",
       "    </tr>\n",
       "    <tr>\n",
       "      <th>freq</th>\n",
       "      <td>1</td>\n",
       "      <td>266</td>\n",
       "      <td>5</td>\n",
       "      <td>3</td>\n",
       "      <td>270</td>\n",
       "    </tr>\n",
       "  </tbody>\n",
       "</table>\n",
       "</div>"
      ],
      "text/plain": [
       "                    Name   Sex    Ticket            Cabin Embarked\n",
       "count                418   418       418               91      418\n",
       "unique               418     2       363               76        3\n",
       "top     Kelly, Mr. James  male  PC 17608  B57 B59 B63 B66        S\n",
       "freq                   1   266         5                3      270"
      ]
     },
     "execution_count": 8,
     "metadata": {},
     "output_type": "execute_result"
    }
   ],
   "source": [
    "test.describe(include=['O'])"
   ]
  },
  {
   "cell_type": "code",
   "execution_count": 9,
   "id": "6a24295b",
   "metadata": {
    "execution": {
     "iopub.execute_input": "2022-07-20T03:14:26.888719Z",
     "iopub.status.busy": "2022-07-20T03:14:26.888286Z",
     "iopub.status.idle": "2022-07-20T03:14:26.899527Z",
     "shell.execute_reply": "2022-07-20T03:14:26.898541Z"
    },
    "papermill": {
     "duration": 0.02978,
     "end_time": "2022-07-20T03:14:26.901534",
     "exception": false,
     "start_time": "2022-07-20T03:14:26.871754",
     "status": "completed"
    },
    "tags": []
   },
   "outputs": [
    {
     "data": {
      "text/plain": [
       "PassengerId      0\n",
       "Survived         0\n",
       "Pclass           0\n",
       "Name             0\n",
       "Sex              0\n",
       "Age            177\n",
       "SibSp            0\n",
       "Parch            0\n",
       "Ticket           0\n",
       "Fare             0\n",
       "Cabin          687\n",
       "Embarked         2\n",
       "dtype: int64"
      ]
     },
     "execution_count": 9,
     "metadata": {},
     "output_type": "execute_result"
    }
   ],
   "source": [
    "train.isnull().sum()"
   ]
  },
  {
   "cell_type": "code",
   "execution_count": 10,
   "id": "9242fbb0",
   "metadata": {
    "execution": {
     "iopub.execute_input": "2022-07-20T03:14:26.933885Z",
     "iopub.status.busy": "2022-07-20T03:14:26.932970Z",
     "iopub.status.idle": "2022-07-20T03:14:26.941990Z",
     "shell.execute_reply": "2022-07-20T03:14:26.941081Z"
    },
    "papermill": {
     "duration": 0.027469,
     "end_time": "2022-07-20T03:14:26.944033",
     "exception": false,
     "start_time": "2022-07-20T03:14:26.916564",
     "status": "completed"
    },
    "tags": []
   },
   "outputs": [
    {
     "data": {
      "text/plain": [
       "PassengerId      0\n",
       "Pclass           0\n",
       "Name             0\n",
       "Sex              0\n",
       "Age             86\n",
       "SibSp            0\n",
       "Parch            0\n",
       "Ticket           0\n",
       "Fare             1\n",
       "Cabin          327\n",
       "Embarked         0\n",
       "dtype: int64"
      ]
     },
     "execution_count": 10,
     "metadata": {},
     "output_type": "execute_result"
    }
   ],
   "source": [
    "test.isnull().sum()"
   ]
  },
  {
   "cell_type": "markdown",
   "id": "e1fbd847",
   "metadata": {
    "execution": {
     "iopub.execute_input": "2022-07-20T01:25:27.717306Z",
     "iopub.status.busy": "2022-07-20T01:25:27.716941Z",
     "iopub.status.idle": "2022-07-20T01:25:27.723344Z",
     "shell.execute_reply": "2022-07-20T01:25:27.722030Z",
     "shell.execute_reply.started": "2022-07-20T01:25:27.717276Z"
    },
    "papermill": {
     "duration": 0.014753,
     "end_time": "2022-07-20T03:14:26.973914",
     "exception": false,
     "start_time": "2022-07-20T03:14:26.959161",
     "status": "completed"
    },
    "tags": []
   },
   "source": [
    "# Explorative Data Analysis"
   ]
  },
  {
   "cell_type": "code",
   "execution_count": 11,
   "id": "c1231219",
   "metadata": {
    "execution": {
     "iopub.execute_input": "2022-07-20T03:14:27.006497Z",
     "iopub.status.busy": "2022-07-20T03:14:27.006143Z",
     "iopub.status.idle": "2022-07-20T03:14:27.021615Z",
     "shell.execute_reply": "2022-07-20T03:14:27.020861Z"
    },
    "papermill": {
     "duration": 0.034332,
     "end_time": "2022-07-20T03:14:27.023610",
     "exception": false,
     "start_time": "2022-07-20T03:14:26.989278",
     "status": "completed"
    },
    "tags": []
   },
   "outputs": [
    {
     "data": {
      "text/html": [
       "<div>\n",
       "<style scoped>\n",
       "    .dataframe tbody tr th:only-of-type {\n",
       "        vertical-align: middle;\n",
       "    }\n",
       "\n",
       "    .dataframe tbody tr th {\n",
       "        vertical-align: top;\n",
       "    }\n",
       "\n",
       "    .dataframe thead th {\n",
       "        text-align: right;\n",
       "    }\n",
       "</style>\n",
       "<table border=\"1\" class=\"dataframe\">\n",
       "  <thead>\n",
       "    <tr style=\"text-align: right;\">\n",
       "      <th></th>\n",
       "      <th>PassengerId</th>\n",
       "      <th>Survived</th>\n",
       "      <th>Pclass</th>\n",
       "      <th>Name</th>\n",
       "      <th>Sex</th>\n",
       "      <th>Age</th>\n",
       "      <th>SibSp</th>\n",
       "      <th>Parch</th>\n",
       "      <th>Ticket</th>\n",
       "      <th>Fare</th>\n",
       "      <th>Cabin</th>\n",
       "      <th>Embarked</th>\n",
       "    </tr>\n",
       "  </thead>\n",
       "  <tbody>\n",
       "    <tr>\n",
       "      <th>218</th>\n",
       "      <td>219</td>\n",
       "      <td>1</td>\n",
       "      <td>1</td>\n",
       "      <td>Bazzani, Miss. Albina</td>\n",
       "      <td>female</td>\n",
       "      <td>32.0</td>\n",
       "      <td>0</td>\n",
       "      <td>0</td>\n",
       "      <td>11813</td>\n",
       "      <td>76.2917</td>\n",
       "      <td>D15</td>\n",
       "      <td>C</td>\n",
       "    </tr>\n",
       "    <tr>\n",
       "      <th>572</th>\n",
       "      <td>573</td>\n",
       "      <td>1</td>\n",
       "      <td>1</td>\n",
       "      <td>Flynn, Mr. John Irwin (\"Irving\")</td>\n",
       "      <td>male</td>\n",
       "      <td>36.0</td>\n",
       "      <td>0</td>\n",
       "      <td>0</td>\n",
       "      <td>PC 17474</td>\n",
       "      <td>26.3875</td>\n",
       "      <td>E25</td>\n",
       "      <td>S</td>\n",
       "    </tr>\n",
       "    <tr>\n",
       "      <th>864</th>\n",
       "      <td>865</td>\n",
       "      <td>0</td>\n",
       "      <td>2</td>\n",
       "      <td>Gill, Mr. John William</td>\n",
       "      <td>male</td>\n",
       "      <td>24.0</td>\n",
       "      <td>0</td>\n",
       "      <td>0</td>\n",
       "      <td>233866</td>\n",
       "      <td>13.0000</td>\n",
       "      <td>NaN</td>\n",
       "      <td>S</td>\n",
       "    </tr>\n",
       "    <tr>\n",
       "      <th>657</th>\n",
       "      <td>658</td>\n",
       "      <td>0</td>\n",
       "      <td>3</td>\n",
       "      <td>Bourke, Mrs. John (Catherine)</td>\n",
       "      <td>female</td>\n",
       "      <td>32.0</td>\n",
       "      <td>1</td>\n",
       "      <td>1</td>\n",
       "      <td>364849</td>\n",
       "      <td>15.5000</td>\n",
       "      <td>NaN</td>\n",
       "      <td>Q</td>\n",
       "    </tr>\n",
       "    <tr>\n",
       "      <th>448</th>\n",
       "      <td>449</td>\n",
       "      <td>1</td>\n",
       "      <td>3</td>\n",
       "      <td>Baclini, Miss. Marie Catherine</td>\n",
       "      <td>female</td>\n",
       "      <td>5.0</td>\n",
       "      <td>2</td>\n",
       "      <td>1</td>\n",
       "      <td>2666</td>\n",
       "      <td>19.2583</td>\n",
       "      <td>NaN</td>\n",
       "      <td>C</td>\n",
       "    </tr>\n",
       "  </tbody>\n",
       "</table>\n",
       "</div>"
      ],
      "text/plain": [
       "     PassengerId  Survived  Pclass                              Name     Sex  \\\n",
       "218          219         1       1             Bazzani, Miss. Albina  female   \n",
       "572          573         1       1  Flynn, Mr. John Irwin (\"Irving\")    male   \n",
       "864          865         0       2            Gill, Mr. John William    male   \n",
       "657          658         0       3     Bourke, Mrs. John (Catherine)  female   \n",
       "448          449         1       3    Baclini, Miss. Marie Catherine  female   \n",
       "\n",
       "      Age  SibSp  Parch    Ticket     Fare Cabin Embarked  \n",
       "218  32.0      0      0     11813  76.2917   D15        C  \n",
       "572  36.0      0      0  PC 17474  26.3875   E25        S  \n",
       "864  24.0      0      0    233866  13.0000   NaN        S  \n",
       "657  32.0      1      1    364849  15.5000   NaN        Q  \n",
       "448   5.0      2      1      2666  19.2583   NaN        C  "
      ]
     },
     "execution_count": 11,
     "metadata": {},
     "output_type": "execute_result"
    }
   ],
   "source": [
    "train.sample(5)"
   ]
  },
  {
   "cell_type": "code",
   "execution_count": 12,
   "id": "a1febbad",
   "metadata": {
    "execution": {
     "iopub.execute_input": "2022-07-20T03:14:27.056702Z",
     "iopub.status.busy": "2022-07-20T03:14:27.056014Z",
     "iopub.status.idle": "2022-07-20T03:14:27.474775Z",
     "shell.execute_reply": "2022-07-20T03:14:27.473453Z"
    },
    "papermill": {
     "duration": 0.438474,
     "end_time": "2022-07-20T03:14:27.477619",
     "exception": false,
     "start_time": "2022-07-20T03:14:27.039145",
     "status": "completed"
    },
    "tags": []
   },
   "outputs": [
    {
     "data": {
      "text/plain": [
       "<AxesSubplot:xlabel='Pclass', ylabel='Survived'>"
      ]
     },
     "execution_count": 12,
     "metadata": {},
     "output_type": "execute_result"
    },
    {
     "data": {
      "image/png": "[encoded data removed]",
      "text/plain": [
       "<Figure size 600x400 with 1 Axes>"
      ]
     },
     "metadata": {},
     "output_type": "display_data"
    }
   ],
   "source": [
    "# Pclass - 1 = 1st, 2 = 2nd, 3 = 3rd\n",
    "plt.figure(dpi=100)\n",
    "sns.barplot(x='Pclass',y='Survived',data=train,hue='Sex')"
   ]
  },
  {
   "cell_type": "code",
   "execution_count": 13,
   "id": "6b038bb6",
   "metadata": {
    "execution": {
     "iopub.execute_input": "2022-07-20T03:14:27.512854Z",
     "iopub.status.busy": "2022-07-20T03:14:27.512372Z",
     "iopub.status.idle": "2022-07-20T03:14:28.292497Z",
     "shell.execute_reply": "2022-07-20T03:14:28.291722Z"
    },
    "papermill": {
     "duration": 0.800515,
     "end_time": "2022-07-20T03:14:28.294879",
     "exception": false,
     "start_time": "2022-07-20T03:14:27.494364",
     "status": "completed"
    },
    "tags": []
   },
   "outputs": [
    {
     "data": {
      "text/plain": [
       "<AxesSubplot:xlabel='Age', ylabel='Count'>"
      ]
     },
     "execution_count": 13,
     "metadata": {},
     "output_type": "execute_result"
    },
    {
     "data": {
      "image/png": "[encoded data removed]",
      "text/plain": [
       "<Figure size 600x400 with 1 Axes>"
      ]
     },
     "metadata": {},
     "output_type": "display_data"
    }
   ],
   "source": [
    "# Age - 0 to 76\n",
    "plt.figure(dpi=100)\n",
    "sns.histplot(data=train,x='Age',bins=100,kde=True,hue='Survived')"
   ]
  },
  {
   "cell_type": "code",
   "execution_count": 14,
   "id": "8887dccc",
   "metadata": {
    "execution": {
     "iopub.execute_input": "2022-07-20T03:14:28.330811Z",
     "iopub.status.busy": "2022-07-20T03:14:28.330219Z",
     "iopub.status.idle": "2022-07-20T03:14:29.011516Z",
     "shell.execute_reply": "2022-07-20T03:14:29.010735Z"
    },
    "papermill": {
     "duration": 0.701683,
     "end_time": "2022-07-20T03:14:29.013595",
     "exception": false,
     "start_time": "2022-07-20T03:14:28.311912",
     "status": "completed"
    },
    "tags": []
   },
   "outputs": [
    {
     "data": {
      "text/plain": [
       "<AxesSubplot:xlabel='SibSp', ylabel='Survived'>"
      ]
     },
     "execution_count": 14,
     "metadata": {},
     "output_type": "execute_result"
    },
    {
     "data": {
      "image/png": "[encoded data removed]",
      "text/plain": [
       "<Figure size 600x400 with 1 Axes>"
      ]
     },
     "metadata": {},
     "output_type": "display_data"
    }
   ],
   "source": [
    "# SibSp - number of siblings / spouses aboard the Titanic\n",
    "plt.figure(dpi=100)\n",
    "sns.barplot(x='SibSp',y='Survived',data=train,hue='Sex')"
   ]
  },
  {
   "cell_type": "code",
   "execution_count": 15,
   "id": "ea77a7a5",
   "metadata": {
    "execution": {
     "iopub.execute_input": "2022-07-20T03:14:29.050315Z",
     "iopub.status.busy": "2022-07-20T03:14:29.049929Z",
     "iopub.status.idle": "2022-07-20T03:14:29.689749Z",
     "shell.execute_reply": "2022-07-20T03:14:29.688582Z"
    },
    "papermill": {
     "duration": 0.661549,
     "end_time": "2022-07-20T03:14:29.692424",
     "exception": false,
     "start_time": "2022-07-20T03:14:29.030875",
     "status": "completed"
    },
    "tags": []
   },
   "outputs": [
    {
     "data": {
      "text/plain": [
       "<AxesSubplot:xlabel='Parch', ylabel='Survived'>"
      ]
     },
     "execution_count": 15,
     "metadata": {},
     "output_type": "execute_result"
    },
    {
     "data": {
      "image/png": "[encoded data removed]",
      "text/plain": [
       "<Figure size 600x400 with 1 Axes>"
      ]
     },
     "metadata": {},
     "output_type": "display_data"
    }
   ],
   "source": [
    "# Parch - number of parents / children aboard the Titanic\n",
    "plt.figure(dpi=100)\n",
    "sns.barplot(x='Parch',y='Survived',data=train,hue='Sex')"
   ]
  },
  {
   "cell_type": "code",
   "execution_count": 16,
   "id": "fab4c82c",
   "metadata": {
    "execution": {
     "iopub.execute_input": "2022-07-20T03:14:29.730617Z",
     "iopub.status.busy": "2022-07-20T03:14:29.729987Z",
     "iopub.status.idle": "2022-07-20T03:14:30.448740Z",
     "shell.execute_reply": "2022-07-20T03:14:30.447549Z"
    },
    "papermill": {
     "duration": 0.740627,
     "end_time": "2022-07-20T03:14:30.451316",
     "exception": false,
     "start_time": "2022-07-20T03:14:29.710689",
     "status": "completed"
    },
    "tags": []
   },
   "outputs": [
    {
     "data": {
      "text/plain": [
       "<AxesSubplot:xlabel='Fare', ylabel='Count'>"
      ]
     },
     "execution_count": 16,
     "metadata": {},
     "output_type": "execute_result"
    },
    {
     "data": {
      "image/png": "[encoded data removed]",
      "text/plain": [
       "<Figure size 600x400 with 1 Axes>"
      ]
     },
     "metadata": {},
     "output_type": "display_data"
    }
   ],
   "source": [
    "# Fare - 0 to 512\n",
    "plt.figure(dpi=100)\n",
    "sns.histplot(data=train,x='Fare',bins=100,kde=True,hue='Survived')"
   ]
  },
  {
   "cell_type": "code",
   "execution_count": 17,
   "id": "bf8d4186",
   "metadata": {
    "execution": {
     "iopub.execute_input": "2022-07-20T03:14:30.490356Z",
     "iopub.status.busy": "2022-07-20T03:14:30.489957Z",
     "iopub.status.idle": "2022-07-20T03:14:30.917485Z",
     "shell.execute_reply": "2022-07-20T03:14:30.916384Z"
    },
    "papermill": {
     "duration": 0.449776,
     "end_time": "2022-07-20T03:14:30.920004",
     "exception": false,
     "start_time": "2022-07-20T03:14:30.470228",
     "status": "completed"
    },
    "tags": []
   },
   "outputs": [
    {
     "data": {
      "text/plain": [
       "<AxesSubplot:xlabel='Embarked', ylabel='Survived'>"
      ]
     },
     "execution_count": 17,
     "metadata": {},
     "output_type": "execute_result"
    },
    {
     "data": {
      "image/png": "[encoded data removed]",
      "text/plain": [
       "<Figure size 600x400 with 1 Axes>"
      ]
     },
     "metadata": {},
     "output_type": "display_data"
    }
   ],
   "source": [
    "# Embarked - C = Cherbourg, Q = Queenstown, S = Southampton\n",
    "plt.figure(dpi=100)\n",
    "sns.barplot(x='Embarked',y='Survived',data=train,hue='Sex')"
   ]
  },
  {
   "cell_type": "code",
   "execution_count": 18,
   "id": "ce1a4d17",
   "metadata": {
    "execution": {
     "iopub.execute_input": "2022-07-20T03:14:30.959795Z",
     "iopub.status.busy": "2022-07-20T03:14:30.959357Z",
     "iopub.status.idle": "2022-07-20T03:14:31.599943Z",
     "shell.execute_reply": "2022-07-20T03:14:31.599123Z"
    },
    "papermill": {
     "duration": 0.663532,
     "end_time": "2022-07-20T03:14:31.602697",
     "exception": false,
     "start_time": "2022-07-20T03:14:30.939165",
     "status": "completed"
    },
    "tags": []
   },
   "outputs": [
    {
     "data": {
      "text/plain": [
       "<AxesSubplot:>"
      ]
     },
     "execution_count": 18,
     "metadata": {},
     "output_type": "execute_result"
    },
    {
     "data": {
      "image/png": "[encoded data removed]",
      "text/plain": [
       "<Figure size 600x400 with 2 Axes>"
      ]
     },
     "metadata": {},
     "output_type": "display_data"
    }
   ],
   "source": [
    "# Correlation between features\n",
    "plt.figure(dpi=100)\n",
    "sns.heatmap(train.corr(),linewidth=0.5,annot=True,cmap='viridis')"
   ]
  },
  {
   "cell_type": "markdown",
   "id": "43188ccc",
   "metadata": {
    "papermill": {
     "duration": 0.02,
     "end_time": "2022-07-20T03:14:31.643063",
     "exception": false,
     "start_time": "2022-07-20T03:14:31.623063",
     "status": "completed"
    },
    "tags": []
   },
   "source": [
    "# Feature Engineering"
   ]
  },
  {
   "cell_type": "code",
   "execution_count": 19,
   "id": "a67adbe6",
   "metadata": {
    "execution": {
     "iopub.execute_input": "2022-07-20T03:14:31.685527Z",
     "iopub.status.busy": "2022-07-20T03:14:31.684864Z",
     "iopub.status.idle": "2022-07-20T03:14:31.710610Z",
     "shell.execute_reply": "2022-07-20T03:14:31.709866Z"
    },
    "papermill": {
     "duration": 0.049332,
     "end_time": "2022-07-20T03:14:31.712650",
     "exception": false,
     "start_time": "2022-07-20T03:14:31.663318",
     "status": "completed"
    },
    "tags": []
   },
   "outputs": [
    {
     "data": {
      "text/html": [
       "<div>\n",
       "<style scoped>\n",
       "    .dataframe tbody tr th:only-of-type {\n",
       "        vertical-align: middle;\n",
       "    }\n",
       "\n",
       "    .dataframe tbody tr th {\n",
       "        vertical-align: top;\n",
       "    }\n",
       "\n",
       "    .dataframe thead th {\n",
       "        text-align: right;\n",
       "    }\n",
       "</style>\n",
       "<table border=\"1\" class=\"dataframe\">\n",
       "  <thead>\n",
       "    <tr style=\"text-align: right;\">\n",
       "      <th></th>\n",
       "      <th>PassengerId</th>\n",
       "      <th>Survived</th>\n",
       "      <th>Pclass</th>\n",
       "      <th>Name</th>\n",
       "      <th>Sex</th>\n",
       "      <th>Age</th>\n",
       "      <th>SibSp</th>\n",
       "      <th>Parch</th>\n",
       "      <th>Ticket</th>\n",
       "      <th>Fare</th>\n",
       "      <th>Cabin</th>\n",
       "      <th>Embarked</th>\n",
       "    </tr>\n",
       "  </thead>\n",
       "  <tbody>\n",
       "    <tr>\n",
       "      <th>0</th>\n",
       "      <td>1</td>\n",
       "      <td>0.0</td>\n",
       "      <td>3</td>\n",
       "      <td>Braund, Mr. Owen Harris</td>\n",
       "      <td>male</td>\n",
       "      <td>22.0</td>\n",
       "      <td>1</td>\n",
       "      <td>0</td>\n",
       "      <td>A/5 21171</td>\n",
       "      <td>7.2500</td>\n",
       "      <td>NaN</td>\n",
       "      <td>S</td>\n",
       "    </tr>\n",
       "    <tr>\n",
       "      <th>1</th>\n",
       "      <td>2</td>\n",
       "      <td>1.0</td>\n",
       "      <td>1</td>\n",
       "      <td>Cumings, Mrs. John Bradley (Florence Briggs Th...</td>\n",
       "      <td>female</td>\n",
       "      <td>38.0</td>\n",
       "      <td>1</td>\n",
       "      <td>0</td>\n",
       "      <td>PC 17599</td>\n",
       "      <td>71.2833</td>\n",
       "      <td>C85</td>\n",
       "      <td>C</td>\n",
       "    </tr>\n",
       "    <tr>\n",
       "      <th>2</th>\n",
       "      <td>3</td>\n",
       "      <td>1.0</td>\n",
       "      <td>3</td>\n",
       "      <td>Heikkinen, Miss. Laina</td>\n",
       "      <td>female</td>\n",
       "      <td>26.0</td>\n",
       "      <td>0</td>\n",
       "      <td>0</td>\n",
       "      <td>STON/O2. 3101282</td>\n",
       "      <td>7.9250</td>\n",
       "      <td>NaN</td>\n",
       "      <td>S</td>\n",
       "    </tr>\n",
       "    <tr>\n",
       "      <th>3</th>\n",
       "      <td>4</td>\n",
       "      <td>1.0</td>\n",
       "      <td>1</td>\n",
       "      <td>Futrelle, Mrs. Jacques Heath (Lily May Peel)</td>\n",
       "      <td>female</td>\n",
       "      <td>35.0</td>\n",
       "      <td>1</td>\n",
       "      <td>0</td>\n",
       "      <td>113803</td>\n",
       "      <td>53.1000</td>\n",
       "      <td>C123</td>\n",
       "      <td>S</td>\n",
       "    </tr>\n",
       "    <tr>\n",
       "      <th>4</th>\n",
       "      <td>5</td>\n",
       "      <td>0.0</td>\n",
       "      <td>3</td>\n",
       "      <td>Allen, Mr. William Henry</td>\n",
       "      <td>male</td>\n",
       "      <td>35.0</td>\n",
       "      <td>0</td>\n",
       "      <td>0</td>\n",
       "      <td>373450</td>\n",
       "      <td>8.0500</td>\n",
       "      <td>NaN</td>\n",
       "      <td>S</td>\n",
       "    </tr>\n",
       "    <tr>\n",
       "      <th>...</th>\n",
       "      <td>...</td>\n",
       "      <td>...</td>\n",
       "      <td>...</td>\n",
       "      <td>...</td>\n",
       "      <td>...</td>\n",
       "      <td>...</td>\n",
       "      <td>...</td>\n",
       "      <td>...</td>\n",
       "      <td>...</td>\n",
       "      <td>...</td>\n",
       "      <td>...</td>\n",
       "      <td>...</td>\n",
       "    </tr>\n",
       "    <tr>\n",
       "      <th>1304</th>\n",
       "      <td>1305</td>\n",
       "      <td>NaN</td>\n",
       "      <td>3</td>\n",
       "      <td>Spector, Mr. Woolf</td>\n",
       "      <td>male</td>\n",
       "      <td>NaN</td>\n",
       "      <td>0</td>\n",
       "      <td>0</td>\n",
       "      <td>A.5. 3236</td>\n",
       "      <td>8.0500</td>\n",
       "      <td>NaN</td>\n",
       "      <td>S</td>\n",
       "    </tr>\n",
       "    <tr>\n",
       "      <th>1305</th>\n",
       "      <td>1306</td>\n",
       "      <td>NaN</td>\n",
       "      <td>1</td>\n",
       "      <td>Oliva y Ocana, Dona. Fermina</td>\n",
       "      <td>female</td>\n",
       "      <td>39.0</td>\n",
       "      <td>0</td>\n",
       "      <td>0</td>\n",
       "      <td>PC 17758</td>\n",
       "      <td>108.9000</td>\n",
       "      <td>C105</td>\n",
       "      <td>C</td>\n",
       "    </tr>\n",
       "    <tr>\n",
       "      <th>1306</th>\n",
       "      <td>1307</td>\n",
       "      <td>NaN</td>\n",
       "      <td>3</td>\n",
       "      <td>Saether, Mr. Simon Sivertsen</td>\n",
       "      <td>male</td>\n",
       "      <td>38.5</td>\n",
       "      <td>0</td>\n",
       "      <td>0</td>\n",
       "      <td>SOTON/O.Q. 3101262</td>\n",
       "      <td>7.2500</td>\n",
       "      <td>NaN</td>\n",
       "      <td>S</td>\n",
       "    </tr>\n",
       "    <tr>\n",
       "      <th>1307</th>\n",
       "      <td>1308</td>\n",
       "      <td>NaN</td>\n",
       "      <td>3</td>\n",
       "      <td>Ware, Mr. Frederick</td>\n",
       "      <td>male</td>\n",
       "      <td>NaN</td>\n",
       "      <td>0</td>\n",
       "      <td>0</td>\n",
       "      <td>359309</td>\n",
       "      <td>8.0500</td>\n",
       "      <td>NaN</td>\n",
       "      <td>S</td>\n",
       "    </tr>\n",
       "    <tr>\n",
       "      <th>1308</th>\n",
       "      <td>1309</td>\n",
       "      <td>NaN</td>\n",
       "      <td>3</td>\n",
       "      <td>Peter, Master. Michael J</td>\n",
       "      <td>male</td>\n",
       "      <td>NaN</td>\n",
       "      <td>1</td>\n",
       "      <td>1</td>\n",
       "      <td>2668</td>\n",
       "      <td>22.3583</td>\n",
       "      <td>NaN</td>\n",
       "      <td>C</td>\n",
       "    </tr>\n",
       "  </tbody>\n",
       "</table>\n",
       "<p>1309 rows × 12 columns</p>\n",
       "</div>"
      ],
      "text/plain": [
       "      PassengerId  Survived  Pclass  \\\n",
       "0               1       0.0       3   \n",
       "1               2       1.0       1   \n",
       "2               3       1.0       3   \n",
       "3               4       1.0       1   \n",
       "4               5       0.0       3   \n",
       "...           ...       ...     ...   \n",
       "1304         1305       NaN       3   \n",
       "1305         1306       NaN       1   \n",
       "1306         1307       NaN       3   \n",
       "1307         1308       NaN       3   \n",
       "1308         1309       NaN       3   \n",
       "\n",
       "                                                   Name     Sex   Age  SibSp  \\\n",
       "0                               Braund, Mr. Owen Harris    male  22.0      1   \n",
       "1     Cumings, Mrs. John Bradley (Florence Briggs Th...  female  38.0      1   \n",
       "2                                Heikkinen, Miss. Laina  female  26.0      0   \n",
       "3          Futrelle, Mrs. Jacques Heath (Lily May Peel)  female  35.0      1   \n",
       "4                              Allen, Mr. William Henry    male  35.0      0   \n",
       "...                                                 ...     ...   ...    ...   \n",
       "1304                                 Spector, Mr. Woolf    male   NaN      0   \n",
       "1305                       Oliva y Ocana, Dona. Fermina  female  39.0      0   \n",
       "1306                       Saether, Mr. Simon Sivertsen    male  38.5      0   \n",
       "1307                                Ware, Mr. Frederick    male   NaN      0   \n",
       "1308                           Peter, Master. Michael J    male   NaN      1   \n",
       "\n",
       "      Parch              Ticket      Fare Cabin Embarked  \n",
       "0         0           A/5 21171    7.2500   NaN        S  \n",
       "1         0            PC 17599   71.2833   C85        C  \n",
       "2         0    STON/O2. 3101282    7.9250   NaN        S  \n",
       "3         0              113803   53.1000  C123        S  \n",
       "4         0              373450    8.0500   NaN        S  \n",
       "...     ...                 ...       ...   ...      ...  \n",
       "1304      0           A.5. 3236    8.0500   NaN        S  \n",
       "1305      0            PC 17758  108.9000  C105        C  \n",
       "1306      0  SOTON/O.Q. 3101262    7.2500   NaN        S  \n",
       "1307      0              359309    8.0500   NaN        S  \n",
       "1308      1                2668   22.3583   NaN        C  \n",
       "\n",
       "[1309 rows x 12 columns]"
      ]
     },
     "execution_count": 19,
     "metadata": {},
     "output_type": "execute_result"
    }
   ],
   "source": [
    "# Combining Train Test Data for simplicity\n",
    "train_test_data = pd.concat([train,test],axis=0,ignore_index=True)\n",
    "train_test_data"
   ]
  },
  {
   "cell_type": "code",
   "execution_count": 20,
   "id": "efde1e22",
   "metadata": {
    "execution": {
     "iopub.execute_input": "2022-07-20T03:14:31.756069Z",
     "iopub.status.busy": "2022-07-20T03:14:31.755412Z",
     "iopub.status.idle": "2022-07-20T03:14:31.785876Z",
     "shell.execute_reply": "2022-07-20T03:14:31.784967Z"
    },
    "papermill": {
     "duration": 0.054463,
     "end_time": "2022-07-20T03:14:31.788048",
     "exception": false,
     "start_time": "2022-07-20T03:14:31.733585",
     "status": "completed"
    },
    "tags": []
   },
   "outputs": [
    {
     "data": {
      "text/html": [
       "<div>\n",
       "<style scoped>\n",
       "    .dataframe tbody tr th:only-of-type {\n",
       "        vertical-align: middle;\n",
       "    }\n",
       "\n",
       "    .dataframe tbody tr th {\n",
       "        vertical-align: top;\n",
       "    }\n",
       "\n",
       "    .dataframe thead th {\n",
       "        text-align: right;\n",
       "    }\n",
       "</style>\n",
       "<table border=\"1\" class=\"dataframe\">\n",
       "  <thead>\n",
       "    <tr style=\"text-align: right;\">\n",
       "      <th></th>\n",
       "      <th>PassengerId</th>\n",
       "      <th>Survived</th>\n",
       "      <th>Pclass</th>\n",
       "      <th>Name</th>\n",
       "      <th>Sex</th>\n",
       "      <th>Age</th>\n",
       "      <th>SibSp</th>\n",
       "      <th>Parch</th>\n",
       "      <th>Ticket</th>\n",
       "      <th>Fare</th>\n",
       "      <th>Cabin</th>\n",
       "      <th>Embarked</th>\n",
       "    </tr>\n",
       "  </thead>\n",
       "  <tbody>\n",
       "    <tr>\n",
       "      <th>0</th>\n",
       "      <td>1</td>\n",
       "      <td>0.0</td>\n",
       "      <td>3</td>\n",
       "      <td>Braund, Mr. Owen Harris</td>\n",
       "      <td>male</td>\n",
       "      <td>22.0</td>\n",
       "      <td>1</td>\n",
       "      <td>0</td>\n",
       "      <td>A/5 21171</td>\n",
       "      <td>7.2500</td>\n",
       "      <td>NaN</td>\n",
       "      <td>S</td>\n",
       "    </tr>\n",
       "    <tr>\n",
       "      <th>1</th>\n",
       "      <td>2</td>\n",
       "      <td>1.0</td>\n",
       "      <td>1</td>\n",
       "      <td>Cumings, Mrs. John Bradley (Florence Briggs Th...</td>\n",
       "      <td>female</td>\n",
       "      <td>38.0</td>\n",
       "      <td>1</td>\n",
       "      <td>0</td>\n",
       "      <td>PC 17599</td>\n",
       "      <td>71.2833</td>\n",
       "      <td>C85</td>\n",
       "      <td>C</td>\n",
       "    </tr>\n",
       "    <tr>\n",
       "      <th>2</th>\n",
       "      <td>3</td>\n",
       "      <td>1.0</td>\n",
       "      <td>3</td>\n",
       "      <td>Heikkinen, Miss. Laina</td>\n",
       "      <td>female</td>\n",
       "      <td>26.0</td>\n",
       "      <td>0</td>\n",
       "      <td>0</td>\n",
       "      <td>STON/O2. 3101282</td>\n",
       "      <td>7.9250</td>\n",
       "      <td>NaN</td>\n",
       "      <td>S</td>\n",
       "    </tr>\n",
       "    <tr>\n",
       "      <th>3</th>\n",
       "      <td>4</td>\n",
       "      <td>1.0</td>\n",
       "      <td>1</td>\n",
       "      <td>Futrelle, Mrs. Jacques Heath (Lily May Peel)</td>\n",
       "      <td>female</td>\n",
       "      <td>35.0</td>\n",
       "      <td>1</td>\n",
       "      <td>0</td>\n",
       "      <td>113803</td>\n",
       "      <td>53.1000</td>\n",
       "      <td>C123</td>\n",
       "      <td>S</td>\n",
       "    </tr>\n",
       "    <tr>\n",
       "      <th>4</th>\n",
       "      <td>5</td>\n",
       "      <td>0.0</td>\n",
       "      <td>3</td>\n",
       "      <td>Allen, Mr. William Henry</td>\n",
       "      <td>male</td>\n",
       "      <td>35.0</td>\n",
       "      <td>0</td>\n",
       "      <td>0</td>\n",
       "      <td>373450</td>\n",
       "      <td>8.0500</td>\n",
       "      <td>NaN</td>\n",
       "      <td>S</td>\n",
       "    </tr>\n",
       "    <tr>\n",
       "      <th>...</th>\n",
       "      <td>...</td>\n",
       "      <td>...</td>\n",
       "      <td>...</td>\n",
       "      <td>...</td>\n",
       "      <td>...</td>\n",
       "      <td>...</td>\n",
       "      <td>...</td>\n",
       "      <td>...</td>\n",
       "      <td>...</td>\n",
       "      <td>...</td>\n",
       "      <td>...</td>\n",
       "      <td>...</td>\n",
       "    </tr>\n",
       "    <tr>\n",
       "      <th>1304</th>\n",
       "      <td>1305</td>\n",
       "      <td>NaN</td>\n",
       "      <td>3</td>\n",
       "      <td>Spector, Mr. Woolf</td>\n",
       "      <td>male</td>\n",
       "      <td>25.0</td>\n",
       "      <td>0</td>\n",
       "      <td>0</td>\n",
       "      <td>A.5. 3236</td>\n",
       "      <td>8.0500</td>\n",
       "      <td>NaN</td>\n",
       "      <td>S</td>\n",
       "    </tr>\n",
       "    <tr>\n",
       "      <th>1305</th>\n",
       "      <td>1306</td>\n",
       "      <td>NaN</td>\n",
       "      <td>1</td>\n",
       "      <td>Oliva y Ocana, Dona. Fermina</td>\n",
       "      <td>female</td>\n",
       "      <td>39.0</td>\n",
       "      <td>0</td>\n",
       "      <td>0</td>\n",
       "      <td>PC 17758</td>\n",
       "      <td>108.9000</td>\n",
       "      <td>C105</td>\n",
       "      <td>C</td>\n",
       "    </tr>\n",
       "    <tr>\n",
       "      <th>1306</th>\n",
       "      <td>1307</td>\n",
       "      <td>NaN</td>\n",
       "      <td>3</td>\n",
       "      <td>Saether, Mr. Simon Sivertsen</td>\n",
       "      <td>male</td>\n",
       "      <td>38.5</td>\n",
       "      <td>0</td>\n",
       "      <td>0</td>\n",
       "      <td>SOTON/O.Q. 3101262</td>\n",
       "      <td>7.2500</td>\n",
       "      <td>NaN</td>\n",
       "      <td>S</td>\n",
       "    </tr>\n",
       "    <tr>\n",
       "      <th>1307</th>\n",
       "      <td>1308</td>\n",
       "      <td>NaN</td>\n",
       "      <td>3</td>\n",
       "      <td>Ware, Mr. Frederick</td>\n",
       "      <td>male</td>\n",
       "      <td>25.0</td>\n",
       "      <td>0</td>\n",
       "      <td>0</td>\n",
       "      <td>359309</td>\n",
       "      <td>8.0500</td>\n",
       "      <td>NaN</td>\n",
       "      <td>S</td>\n",
       "    </tr>\n",
       "    <tr>\n",
       "      <th>1308</th>\n",
       "      <td>1309</td>\n",
       "      <td>NaN</td>\n",
       "      <td>3</td>\n",
       "      <td>Peter, Master. Michael J</td>\n",
       "      <td>male</td>\n",
       "      <td>25.0</td>\n",
       "      <td>1</td>\n",
       "      <td>1</td>\n",
       "      <td>2668</td>\n",
       "      <td>22.3583</td>\n",
       "      <td>NaN</td>\n",
       "      <td>C</td>\n",
       "    </tr>\n",
       "  </tbody>\n",
       "</table>\n",
       "<p>1309 rows × 12 columns</p>\n",
       "</div>"
      ],
      "text/plain": [
       "      PassengerId  Survived  Pclass  \\\n",
       "0               1       0.0       3   \n",
       "1               2       1.0       1   \n",
       "2               3       1.0       3   \n",
       "3               4       1.0       1   \n",
       "4               5       0.0       3   \n",
       "...           ...       ...     ...   \n",
       "1304         1305       NaN       3   \n",
       "1305         1306       NaN       1   \n",
       "1306         1307       NaN       3   \n",
       "1307         1308       NaN       3   \n",
       "1308         1309       NaN       3   \n",
       "\n",
       "                                                   Name     Sex   Age  SibSp  \\\n",
       "0                               Braund, Mr. Owen Harris    male  22.0      1   \n",
       "1     Cumings, Mrs. John Bradley (Florence Briggs Th...  female  38.0      1   \n",
       "2                                Heikkinen, Miss. Laina  female  26.0      0   \n",
       "3          Futrelle, Mrs. Jacques Heath (Lily May Peel)  female  35.0      1   \n",
       "4                              Allen, Mr. William Henry    male  35.0      0   \n",
       "...                                                 ...     ...   ...    ...   \n",
       "1304                                 Spector, Mr. Woolf    male  25.0      0   \n",
       "1305                       Oliva y Ocana, Dona. Fermina  female  39.0      0   \n",
       "1306                       Saether, Mr. Simon Sivertsen    male  38.5      0   \n",
       "1307                                Ware, Mr. Frederick    male  25.0      0   \n",
       "1308                           Peter, Master. Michael J    male  25.0      1   \n",
       "\n",
       "      Parch              Ticket      Fare Cabin Embarked  \n",
       "0         0           A/5 21171    7.2500   NaN        S  \n",
       "1         0            PC 17599   71.2833   C85        C  \n",
       "2         0    STON/O2. 3101282    7.9250   NaN        S  \n",
       "3         0              113803   53.1000  C123        S  \n",
       "4         0              373450    8.0500   NaN        S  \n",
       "...     ...                 ...       ...   ...      ...  \n",
       "1304      0           A.5. 3236    8.0500   NaN        S  \n",
       "1305      0            PC 17758  108.9000  C105        C  \n",
       "1306      0  SOTON/O.Q. 3101262    7.2500   NaN        S  \n",
       "1307      0              359309    8.0500   NaN        S  \n",
       "1308      1                2668   22.3583   NaN        C  \n",
       "\n",
       "[1309 rows x 12 columns]"
      ]
     },
     "execution_count": 20,
     "metadata": {},
     "output_type": "execute_result"
    }
   ],
   "source": [
    "# Age - Filling na\n",
    "train_test_data['Age'] = train_test_data.groupby(['Sex', 'Pclass'])['Age'].apply(lambda x: x.fillna(x.median()))\n",
    "train_test_data"
   ]
  },
  {
   "cell_type": "code",
   "execution_count": 21,
   "id": "c2773fcd",
   "metadata": {
    "execution": {
     "iopub.execute_input": "2022-07-20T03:14:31.832870Z",
     "iopub.status.busy": "2022-07-20T03:14:31.832295Z",
     "iopub.status.idle": "2022-07-20T03:14:31.850888Z",
     "shell.execute_reply": "2022-07-20T03:14:31.850059Z"
    },
    "papermill": {
     "duration": 0.043773,
     "end_time": "2022-07-20T03:14:31.853010",
     "exception": false,
     "start_time": "2022-07-20T03:14:31.809237",
     "status": "completed"
    },
    "tags": []
   },
   "outputs": [
    {
     "data": {
      "text/plain": [
       "M      1014\n",
       "ABC     182\n",
       "DE       87\n",
       "FG       26\n",
       "Name: Deck, dtype: int64"
      ]
     },
     "execution_count": 21,
     "metadata": {},
     "output_type": "execute_result"
    }
   ],
   "source": [
    "# Deck\n",
    "# Creating Deck column from the first letter of the Cabin column (M stands for Missing)\n",
    "train_test_data['Deck'] = train_test_data['Cabin'].apply(lambda s: s[0] if pd.notnull(s) else 'M')\n",
    "\n",
    "# Passenger in the T deck is changed to A\n",
    "idx = train_test_data[train_test_data['Deck'] == 'T'].index\n",
    "train_test_data.loc[idx, 'Deck'] = 'A'\n",
    "\n",
    "# A, B and C decks are labeled as ABC because all of them have only 1st class passengers\n",
    "# D and E decks are labeled as DE because both of them have similar passenger class distribution and same survival rate\n",
    "# F and G decks are labeled as FG because of the same reason above\n",
    "# M deck doesn't need to be grouped with other decks because it is very different from others and has the lowest survival rate.\n",
    "train_test_data['Deck'] = train_test_data['Deck'].replace(['A', 'B', 'C'], 'ABC')\n",
    "train_test_data['Deck'] = train_test_data['Deck'].replace(['D', 'E'], 'DE')\n",
    "train_test_data['Deck'] = train_test_data['Deck'].replace(['F', 'G'], 'FG')\n",
    "\n",
    "train_test_data['Deck'].value_counts()"
   ]
  },
  {
   "cell_type": "code",
   "execution_count": 22,
   "id": "9ea16958",
   "metadata": {
    "execution": {
     "iopub.execute_input": "2022-07-20T03:14:31.898170Z",
     "iopub.status.busy": "2022-07-20T03:14:31.897571Z",
     "iopub.status.idle": "2022-07-20T03:14:31.912367Z",
     "shell.execute_reply": "2022-07-20T03:14:31.911674Z"
    },
    "papermill": {
     "duration": 0.039763,
     "end_time": "2022-07-20T03:14:31.914378",
     "exception": false,
     "start_time": "2022-07-20T03:14:31.874615",
     "status": "completed"
    },
    "tags": []
   },
   "outputs": [
    {
     "data": {
      "text/plain": [
       "Mr        757\n",
       "Miss      260\n",
       "Mrs       197\n",
       "Master     61\n",
       "Other      34\n",
       "Name: Title, dtype: int64"
      ]
     },
     "execution_count": 22,
     "metadata": {},
     "output_type": "execute_result"
    }
   ],
   "source": [
    "# Name\n",
    "train_test_data['Title'] = train_test_data['Name'].apply(lambda name: name.split(', ')[1].split('.')[0])\n",
    "train_test_data['Title'] =  train_test_data['Title'].replace(\\\n",
    "                            to_replace=['Rev','Dr','Col','Mlle','Major','Ms','Lady','Sir','Mme','Don',\\\n",
    "                            'Capt','the Countess','Jonkheer','Dona'],value='Other')\n",
    "train_test_data['Title'].value_counts()"
   ]
  },
  {
   "cell_type": "code",
   "execution_count": 23,
   "id": "b412e03d",
   "metadata": {
    "execution": {
     "iopub.execute_input": "2022-07-20T03:14:31.959298Z",
     "iopub.status.busy": "2022-07-20T03:14:31.958748Z",
     "iopub.status.idle": "2022-07-20T03:14:31.969852Z",
     "shell.execute_reply": "2022-07-20T03:14:31.969106Z"
    },
    "papermill": {
     "duration": 0.036081,
     "end_time": "2022-07-20T03:14:31.971873",
     "exception": false,
     "start_time": "2022-07-20T03:14:31.935792",
     "status": "completed"
    },
    "tags": []
   },
   "outputs": [
    {
     "data": {
      "text/plain": [
       "Alone     790\n",
       "Small     437\n",
       "Medium     47\n",
       "Large      35\n",
       "Name: Family_Size_Grouped, dtype: int64"
      ]
     },
     "execution_count": 23,
     "metadata": {},
     "output_type": "execute_result"
    }
   ],
   "source": [
    "# Family Size\n",
    "train_test_data['FamilySize'] = train_test_data['SibSp'] + train_test_data['Parch'] + 1\n",
    "family_map = {1: 'Alone', 2: 'Small', 3: 'Small', 4: 'Small', 5: 'Medium', 6: 'Medium', 7: 'Large', 8: 'Large', 11: 'Large'}\n",
    "train_test_data['Family_Size_Grouped'] = train_test_data['FamilySize'].map(family_map)\n",
    "train_test_data['Family_Size_Grouped'].value_counts()"
   ]
  },
  {
   "cell_type": "code",
   "execution_count": 24,
   "id": "e524c3b7",
   "metadata": {
    "execution": {
     "iopub.execute_input": "2022-07-20T03:14:32.016931Z",
     "iopub.status.busy": "2022-07-20T03:14:32.016487Z",
     "iopub.status.idle": "2022-07-20T03:14:32.028796Z",
     "shell.execute_reply": "2022-07-20T03:14:32.028007Z"
    },
    "papermill": {
     "duration": 0.037107,
     "end_time": "2022-07-20T03:14:32.030804",
     "exception": false,
     "start_time": "2022-07-20T03:14:31.993697",
     "status": "completed"
    },
    "tags": []
   },
   "outputs": [
    {
     "data": {
      "text/plain": [
       "1    957\n",
       "0    352\n",
       "Name: TicketType, dtype: int64"
      ]
     },
     "execution_count": 24,
     "metadata": {},
     "output_type": "execute_result"
    }
   ],
   "source": [
    "# Ticket Type\n",
    "train_test_data['TicketType'] = train_test_data['Ticket'].str.isnumeric()\n",
    "train_test_data['TicketType'] =  train_test_data['TicketType'].replace(to_replace=True,value=1)\n",
    "train_test_data['TicketType'] =  train_test_data['TicketType'].replace(to_replace=False,value=0)\n",
    "train_test_data['TicketType'].value_counts()"
   ]
  },
  {
   "cell_type": "code",
   "execution_count": 25,
   "id": "a045cc6f",
   "metadata": {
    "execution": {
     "iopub.execute_input": "2022-07-20T03:14:32.077316Z",
     "iopub.status.busy": "2022-07-20T03:14:32.076729Z",
     "iopub.status.idle": "2022-07-20T03:14:32.087374Z",
     "shell.execute_reply": "2022-07-20T03:14:32.086669Z"
    },
    "papermill": {
     "duration": 0.036339,
     "end_time": "2022-07-20T03:14:32.089464",
     "exception": false,
     "start_time": "2022-07-20T03:14:32.053125",
     "status": "completed"
    },
    "tags": []
   },
   "outputs": [
    {
     "data": {
      "text/plain": [
       "1     713\n",
       "2     264\n",
       "3     147\n",
       "4      64\n",
       "5      35\n",
       "7      35\n",
       "6      24\n",
       "8      16\n",
       "11     11\n",
       "Name: Ticket_Frequency, dtype: int64"
      ]
     },
     "execution_count": 25,
     "metadata": {},
     "output_type": "execute_result"
    }
   ],
   "source": [
    "# Ticket Frequency\n",
    "train_test_data['Ticket_Frequency'] = train_test_data.groupby('Ticket')['Ticket'].transform('count')\n",
    "train_test_data['Ticket_Frequency'].value_counts()"
   ]
  },
  {
   "cell_type": "code",
   "execution_count": 26,
   "id": "70501900",
   "metadata": {
    "execution": {
     "iopub.execute_input": "2022-07-20T03:14:32.135276Z",
     "iopub.status.busy": "2022-07-20T03:14:32.134699Z",
     "iopub.status.idle": "2022-07-20T03:14:32.140019Z",
     "shell.execute_reply": "2022-07-20T03:14:32.139008Z"
    },
    "papermill": {
     "duration": 0.030987,
     "end_time": "2022-07-20T03:14:32.142214",
     "exception": false,
     "start_time": "2022-07-20T03:14:32.111227",
     "status": "completed"
    },
    "tags": []
   },
   "outputs": [],
   "source": [
    "# Fare - Filling na\n",
    "train_test_data['Fare'].fillna(value=train_test_data['Fare'].median(),inplace=True)"
   ]
  },
  {
   "cell_type": "code",
   "execution_count": 27,
   "id": "b4d9e46f",
   "metadata": {
    "execution": {
     "iopub.execute_input": "2022-07-20T03:14:32.187483Z",
     "iopub.status.busy": "2022-07-20T03:14:32.186916Z",
     "iopub.status.idle": "2022-07-20T03:14:32.192796Z",
     "shell.execute_reply": "2022-07-20T03:14:32.192009Z"
    },
    "papermill": {
     "duration": 0.031293,
     "end_time": "2022-07-20T03:14:32.194801",
     "exception": false,
     "start_time": "2022-07-20T03:14:32.163508",
     "status": "completed"
    },
    "tags": []
   },
   "outputs": [],
   "source": [
    "# Embarked - Filling na\n",
    "train_test_data['Embarked'].value_counts()\n",
    "train_test_data['Embarked'].fillna(value='S',inplace=True)"
   ]
  },
  {
   "cell_type": "code",
   "execution_count": 28,
   "id": "de867a94",
   "metadata": {
    "execution": {
     "iopub.execute_input": "2022-07-20T03:14:32.240685Z",
     "iopub.status.busy": "2022-07-20T03:14:32.240090Z",
     "iopub.status.idle": "2022-07-20T03:14:32.245997Z",
     "shell.execute_reply": "2022-07-20T03:14:32.245206Z"
    },
    "papermill": {
     "duration": 0.031257,
     "end_time": "2022-07-20T03:14:32.248008",
     "exception": false,
     "start_time": "2022-07-20T03:14:32.216751",
     "status": "completed"
    },
    "tags": []
   },
   "outputs": [],
   "source": [
    "# Drop useless columns\n",
    "train_test_data.drop(['PassengerId','Survived','Name','SibSp','Parch','Ticket','Cabin','FamilySize'],axis=1,inplace=True)"
   ]
  },
  {
   "cell_type": "code",
   "execution_count": 29,
   "id": "0321f150",
   "metadata": {
    "execution": {
     "iopub.execute_input": "2022-07-20T03:14:32.293684Z",
     "iopub.status.busy": "2022-07-20T03:14:32.293081Z",
     "iopub.status.idle": "2022-07-20T03:14:32.301347Z",
     "shell.execute_reply": "2022-07-20T03:14:32.300649Z"
    },
    "papermill": {
     "duration": 0.033487,
     "end_time": "2022-07-20T03:14:32.303278",
     "exception": false,
     "start_time": "2022-07-20T03:14:32.269791",
     "status": "completed"
    },
    "tags": []
   },
   "outputs": [
    {
     "data": {
      "text/plain": [
       "Pclass                 0\n",
       "Sex                    0\n",
       "Age                    0\n",
       "Fare                   0\n",
       "Embarked               0\n",
       "Deck                   0\n",
       "Title                  0\n",
       "Family_Size_Grouped    0\n",
       "TicketType             0\n",
       "Ticket_Frequency       0\n",
       "dtype: int64"
      ]
     },
     "execution_count": 29,
     "metadata": {},
     "output_type": "execute_result"
    }
   ],
   "source": [
    "train_test_data.isnull().sum()"
   ]
  },
  {
   "cell_type": "code",
   "execution_count": 30,
   "id": "a6f6c6ea",
   "metadata": {
    "execution": {
     "iopub.execute_input": "2022-07-20T03:14:32.348942Z",
     "iopub.status.busy": "2022-07-20T03:14:32.348370Z",
     "iopub.status.idle": "2022-07-20T03:14:32.367331Z",
     "shell.execute_reply": "2022-07-20T03:14:32.366578Z"
    },
    "papermill": {
     "duration": 0.044682,
     "end_time": "2022-07-20T03:14:32.369812",
     "exception": false,
     "start_time": "2022-07-20T03:14:32.325130",
     "status": "completed"
    },
    "tags": []
   },
   "outputs": [
    {
     "data": {
      "text/html": [
       "<div>\n",
       "<style scoped>\n",
       "    .dataframe tbody tr th:only-of-type {\n",
       "        vertical-align: middle;\n",
       "    }\n",
       "\n",
       "    .dataframe tbody tr th {\n",
       "        vertical-align: top;\n",
       "    }\n",
       "\n",
       "    .dataframe thead th {\n",
       "        text-align: right;\n",
       "    }\n",
       "</style>\n",
       "<table border=\"1\" class=\"dataframe\">\n",
       "  <thead>\n",
       "    <tr style=\"text-align: right;\">\n",
       "      <th></th>\n",
       "      <th>Pclass</th>\n",
       "      <th>Sex</th>\n",
       "      <th>Age</th>\n",
       "      <th>Fare</th>\n",
       "      <th>Embarked</th>\n",
       "      <th>Deck</th>\n",
       "      <th>Title</th>\n",
       "      <th>Family_Size_Grouped</th>\n",
       "      <th>TicketType</th>\n",
       "      <th>Ticket_Frequency</th>\n",
       "    </tr>\n",
       "  </thead>\n",
       "  <tbody>\n",
       "    <tr>\n",
       "      <th>0</th>\n",
       "      <td>3</td>\n",
       "      <td>male</td>\n",
       "      <td>22.0</td>\n",
       "      <td>7.2500</td>\n",
       "      <td>S</td>\n",
       "      <td>M</td>\n",
       "      <td>Mr</td>\n",
       "      <td>Small</td>\n",
       "      <td>0</td>\n",
       "      <td>1</td>\n",
       "    </tr>\n",
       "    <tr>\n",
       "      <th>1</th>\n",
       "      <td>1</td>\n",
       "      <td>female</td>\n",
       "      <td>38.0</td>\n",
       "      <td>71.2833</td>\n",
       "      <td>C</td>\n",
       "      <td>ABC</td>\n",
       "      <td>Mrs</td>\n",
       "      <td>Small</td>\n",
       "      <td>0</td>\n",
       "      <td>2</td>\n",
       "    </tr>\n",
       "    <tr>\n",
       "      <th>2</th>\n",
       "      <td>3</td>\n",
       "      <td>female</td>\n",
       "      <td>26.0</td>\n",
       "      <td>7.9250</td>\n",
       "      <td>S</td>\n",
       "      <td>M</td>\n",
       "      <td>Miss</td>\n",
       "      <td>Alone</td>\n",
       "      <td>0</td>\n",
       "      <td>1</td>\n",
       "    </tr>\n",
       "    <tr>\n",
       "      <th>3</th>\n",
       "      <td>1</td>\n",
       "      <td>female</td>\n",
       "      <td>35.0</td>\n",
       "      <td>53.1000</td>\n",
       "      <td>S</td>\n",
       "      <td>ABC</td>\n",
       "      <td>Mrs</td>\n",
       "      <td>Small</td>\n",
       "      <td>1</td>\n",
       "      <td>2</td>\n",
       "    </tr>\n",
       "    <tr>\n",
       "      <th>4</th>\n",
       "      <td>3</td>\n",
       "      <td>male</td>\n",
       "      <td>35.0</td>\n",
       "      <td>8.0500</td>\n",
       "      <td>S</td>\n",
       "      <td>M</td>\n",
       "      <td>Mr</td>\n",
       "      <td>Alone</td>\n",
       "      <td>1</td>\n",
       "      <td>1</td>\n",
       "    </tr>\n",
       "    <tr>\n",
       "      <th>...</th>\n",
       "      <td>...</td>\n",
       "      <td>...</td>\n",
       "      <td>...</td>\n",
       "      <td>...</td>\n",
       "      <td>...</td>\n",
       "      <td>...</td>\n",
       "      <td>...</td>\n",
       "      <td>...</td>\n",
       "      <td>...</td>\n",
       "      <td>...</td>\n",
       "    </tr>\n",
       "    <tr>\n",
       "      <th>1304</th>\n",
       "      <td>3</td>\n",
       "      <td>male</td>\n",
       "      <td>25.0</td>\n",
       "      <td>8.0500</td>\n",
       "      <td>S</td>\n",
       "      <td>M</td>\n",
       "      <td>Mr</td>\n",
       "      <td>Alone</td>\n",
       "      <td>0</td>\n",
       "      <td>1</td>\n",
       "    </tr>\n",
       "    <tr>\n",
       "      <th>1305</th>\n",
       "      <td>1</td>\n",
       "      <td>female</td>\n",
       "      <td>39.0</td>\n",
       "      <td>108.9000</td>\n",
       "      <td>C</td>\n",
       "      <td>ABC</td>\n",
       "      <td>Other</td>\n",
       "      <td>Alone</td>\n",
       "      <td>0</td>\n",
       "      <td>3</td>\n",
       "    </tr>\n",
       "    <tr>\n",
       "      <th>1306</th>\n",
       "      <td>3</td>\n",
       "      <td>male</td>\n",
       "      <td>38.5</td>\n",
       "      <td>7.2500</td>\n",
       "      <td>S</td>\n",
       "      <td>M</td>\n",
       "      <td>Mr</td>\n",
       "      <td>Alone</td>\n",
       "      <td>0</td>\n",
       "      <td>1</td>\n",
       "    </tr>\n",
       "    <tr>\n",
       "      <th>1307</th>\n",
       "      <td>3</td>\n",
       "      <td>male</td>\n",
       "      <td>25.0</td>\n",
       "      <td>8.0500</td>\n",
       "      <td>S</td>\n",
       "      <td>M</td>\n",
       "      <td>Mr</td>\n",
       "      <td>Alone</td>\n",
       "      <td>1</td>\n",
       "      <td>1</td>\n",
       "    </tr>\n",
       "    <tr>\n",
       "      <th>1308</th>\n",
       "      <td>3</td>\n",
       "      <td>male</td>\n",
       "      <td>25.0</td>\n",
       "      <td>22.3583</td>\n",
       "      <td>C</td>\n",
       "      <td>M</td>\n",
       "      <td>Master</td>\n",
       "      <td>Small</td>\n",
       "      <td>1</td>\n",
       "      <td>3</td>\n",
       "    </tr>\n",
       "  </tbody>\n",
       "</table>\n",
       "<p>1309 rows × 10 columns</p>\n",
       "</div>"
      ],
      "text/plain": [
       "      Pclass     Sex   Age      Fare Embarked Deck   Title  \\\n",
       "0          3    male  22.0    7.2500        S    M      Mr   \n",
       "1          1  female  38.0   71.2833        C  ABC     Mrs   \n",
       "2          3  female  26.0    7.9250        S    M    Miss   \n",
       "3          1  female  35.0   53.1000        S  ABC     Mrs   \n",
       "4          3    male  35.0    8.0500        S    M      Mr   \n",
       "...      ...     ...   ...       ...      ...  ...     ...   \n",
       "1304       3    male  25.0    8.0500        S    M      Mr   \n",
       "1305       1  female  39.0  108.9000        C  ABC   Other   \n",
       "1306       3    male  38.5    7.2500        S    M      Mr   \n",
       "1307       3    male  25.0    8.0500        S    M      Mr   \n",
       "1308       3    male  25.0   22.3583        C    M  Master   \n",
       "\n",
       "     Family_Size_Grouped  TicketType  Ticket_Frequency  \n",
       "0                  Small           0                 1  \n",
       "1                  Small           0                 2  \n",
       "2                  Alone           0                 1  \n",
       "3                  Small           1                 2  \n",
       "4                  Alone           1                 1  \n",
       "...                  ...         ...               ...  \n",
       "1304               Alone           0                 1  \n",
       "1305               Alone           0                 3  \n",
       "1306               Alone           0                 1  \n",
       "1307               Alone           1                 1  \n",
       "1308               Small           1                 3  \n",
       "\n",
       "[1309 rows x 10 columns]"
      ]
     },
     "execution_count": 30,
     "metadata": {},
     "output_type": "execute_result"
    }
   ],
   "source": [
    "train_test_data"
   ]
  },
  {
   "cell_type": "code",
   "execution_count": 31,
   "id": "da63e139",
   "metadata": {
    "execution": {
     "iopub.execute_input": "2022-07-20T03:14:32.417324Z",
     "iopub.status.busy": "2022-07-20T03:14:32.416611Z",
     "iopub.status.idle": "2022-07-20T03:14:32.428071Z",
     "shell.execute_reply": "2022-07-20T03:14:32.427078Z"
    },
    "papermill": {
     "duration": 0.037953,
     "end_time": "2022-07-20T03:14:32.430165",
     "exception": false,
     "start_time": "2022-07-20T03:14:32.392212",
     "status": "completed"
    },
    "tags": []
   },
   "outputs": [],
   "source": [
    "# Binning Continuous Features\n",
    "train_test_data['Fare'] = pd.qcut(train_test_data['Fare'], 13, labels=np.arange(1,14))\n",
    "train_test_data['Fare'] = train_test_data['Fare'].astype(dtype=int)\n",
    "train_test_data['Age'] = pd.qcut(train_test_data['Age'], 10, labels=np.arange(1,11))\n",
    "train_test_data['Age'] = train_test_data['Age'].astype(dtype=int)"
   ]
  },
  {
   "cell_type": "code",
   "execution_count": 32,
   "id": "3008420f",
   "metadata": {
    "execution": {
     "iopub.execute_input": "2022-07-20T03:14:32.476609Z",
     "iopub.status.busy": "2022-07-20T03:14:32.475937Z",
     "iopub.status.idle": "2022-07-20T03:14:32.482834Z",
     "shell.execute_reply": "2022-07-20T03:14:32.482110Z"
    },
    "papermill": {
     "duration": 0.03251,
     "end_time": "2022-07-20T03:14:32.484823",
     "exception": false,
     "start_time": "2022-07-20T03:14:32.452313",
     "status": "completed"
    },
    "tags": []
   },
   "outputs": [
    {
     "data": {
      "text/plain": [
       "0        1\n",
       "1       12\n",
       "2        4\n",
       "3       11\n",
       "4        4\n",
       "        ..\n",
       "1304     4\n",
       "1305    13\n",
       "1306     1\n",
       "1307     4\n",
       "1308     8\n",
       "Name: Fare, Length: 1309, dtype: int64"
      ]
     },
     "execution_count": 32,
     "metadata": {},
     "output_type": "execute_result"
    }
   ],
   "source": [
    "train_test_data['Fare']"
   ]
  },
  {
   "cell_type": "code",
   "execution_count": 33,
   "id": "ac07d290",
   "metadata": {
    "execution": {
     "iopub.execute_input": "2022-07-20T03:14:32.531765Z",
     "iopub.status.busy": "2022-07-20T03:14:32.531076Z",
     "iopub.status.idle": "2022-07-20T03:14:32.537928Z",
     "shell.execute_reply": "2022-07-20T03:14:32.537210Z"
    },
    "papermill": {
     "duration": 0.03299,
     "end_time": "2022-07-20T03:14:32.539997",
     "exception": false,
     "start_time": "2022-07-20T03:14:32.507007",
     "status": "completed"
    },
    "tags": []
   },
   "outputs": [
    {
     "data": {
      "text/plain": [
       "0       3\n",
       "1       8\n",
       "2       5\n",
       "3       8\n",
       "4       8\n",
       "       ..\n",
       "1304    4\n",
       "1305    8\n",
       "1306    8\n",
       "1307    4\n",
       "1308    4\n",
       "Name: Age, Length: 1309, dtype: int64"
      ]
     },
     "execution_count": 33,
     "metadata": {},
     "output_type": "execute_result"
    }
   ],
   "source": [
    "train_test_data['Age']"
   ]
  },
  {
   "cell_type": "code",
   "execution_count": 34,
   "id": "ecfc5f3e",
   "metadata": {
    "execution": {
     "iopub.execute_input": "2022-07-20T03:14:32.587075Z",
     "iopub.status.busy": "2022-07-20T03:14:32.586359Z",
     "iopub.status.idle": "2022-07-20T03:14:32.606032Z",
     "shell.execute_reply": "2022-07-20T03:14:32.605252Z"
    },
    "papermill": {
     "duration": 0.045577,
     "end_time": "2022-07-20T03:14:32.608128",
     "exception": false,
     "start_time": "2022-07-20T03:14:32.562551",
     "status": "completed"
    },
    "tags": []
   },
   "outputs": [
    {
     "data": {
      "text/html": [
       "<div>\n",
       "<style scoped>\n",
       "    .dataframe tbody tr th:only-of-type {\n",
       "        vertical-align: middle;\n",
       "    }\n",
       "\n",
       "    .dataframe tbody tr th {\n",
       "        vertical-align: top;\n",
       "    }\n",
       "\n",
       "    .dataframe thead th {\n",
       "        text-align: right;\n",
       "    }\n",
       "</style>\n",
       "<table border=\"1\" class=\"dataframe\">\n",
       "  <thead>\n",
       "    <tr style=\"text-align: right;\">\n",
       "      <th></th>\n",
       "      <th>Pclass</th>\n",
       "      <th>Sex</th>\n",
       "      <th>Age</th>\n",
       "      <th>Fare</th>\n",
       "      <th>Embarked</th>\n",
       "      <th>Deck</th>\n",
       "      <th>Title</th>\n",
       "      <th>Family_Size_Grouped</th>\n",
       "      <th>TicketType</th>\n",
       "      <th>Ticket_Frequency</th>\n",
       "    </tr>\n",
       "  </thead>\n",
       "  <tbody>\n",
       "    <tr>\n",
       "      <th>0</th>\n",
       "      <td>3</td>\n",
       "      <td>male</td>\n",
       "      <td>3</td>\n",
       "      <td>1</td>\n",
       "      <td>S</td>\n",
       "      <td>M</td>\n",
       "      <td>Mr</td>\n",
       "      <td>Small</td>\n",
       "      <td>0</td>\n",
       "      <td>1</td>\n",
       "    </tr>\n",
       "    <tr>\n",
       "      <th>1</th>\n",
       "      <td>1</td>\n",
       "      <td>female</td>\n",
       "      <td>8</td>\n",
       "      <td>12</td>\n",
       "      <td>C</td>\n",
       "      <td>ABC</td>\n",
       "      <td>Mrs</td>\n",
       "      <td>Small</td>\n",
       "      <td>0</td>\n",
       "      <td>2</td>\n",
       "    </tr>\n",
       "    <tr>\n",
       "      <th>2</th>\n",
       "      <td>3</td>\n",
       "      <td>female</td>\n",
       "      <td>5</td>\n",
       "      <td>4</td>\n",
       "      <td>S</td>\n",
       "      <td>M</td>\n",
       "      <td>Miss</td>\n",
       "      <td>Alone</td>\n",
       "      <td>0</td>\n",
       "      <td>1</td>\n",
       "    </tr>\n",
       "    <tr>\n",
       "      <th>3</th>\n",
       "      <td>1</td>\n",
       "      <td>female</td>\n",
       "      <td>8</td>\n",
       "      <td>11</td>\n",
       "      <td>S</td>\n",
       "      <td>ABC</td>\n",
       "      <td>Mrs</td>\n",
       "      <td>Small</td>\n",
       "      <td>1</td>\n",
       "      <td>2</td>\n",
       "    </tr>\n",
       "    <tr>\n",
       "      <th>4</th>\n",
       "      <td>3</td>\n",
       "      <td>male</td>\n",
       "      <td>8</td>\n",
       "      <td>4</td>\n",
       "      <td>S</td>\n",
       "      <td>M</td>\n",
       "      <td>Mr</td>\n",
       "      <td>Alone</td>\n",
       "      <td>1</td>\n",
       "      <td>1</td>\n",
       "    </tr>\n",
       "    <tr>\n",
       "      <th>...</th>\n",
       "      <td>...</td>\n",
       "      <td>...</td>\n",
       "      <td>...</td>\n",
       "      <td>...</td>\n",
       "      <td>...</td>\n",
       "      <td>...</td>\n",
       "      <td>...</td>\n",
       "      <td>...</td>\n",
       "      <td>...</td>\n",
       "      <td>...</td>\n",
       "    </tr>\n",
       "    <tr>\n",
       "      <th>1304</th>\n",
       "      <td>3</td>\n",
       "      <td>male</td>\n",
       "      <td>4</td>\n",
       "      <td>4</td>\n",
       "      <td>S</td>\n",
       "      <td>M</td>\n",
       "      <td>Mr</td>\n",
       "      <td>Alone</td>\n",
       "      <td>0</td>\n",
       "      <td>1</td>\n",
       "    </tr>\n",
       "    <tr>\n",
       "      <th>1305</th>\n",
       "      <td>1</td>\n",
       "      <td>female</td>\n",
       "      <td>8</td>\n",
       "      <td>13</td>\n",
       "      <td>C</td>\n",
       "      <td>ABC</td>\n",
       "      <td>Other</td>\n",
       "      <td>Alone</td>\n",
       "      <td>0</td>\n",
       "      <td>3</td>\n",
       "    </tr>\n",
       "    <tr>\n",
       "      <th>1306</th>\n",
       "      <td>3</td>\n",
       "      <td>male</td>\n",
       "      <td>8</td>\n",
       "      <td>1</td>\n",
       "      <td>S</td>\n",
       "      <td>M</td>\n",
       "      <td>Mr</td>\n",
       "      <td>Alone</td>\n",
       "      <td>0</td>\n",
       "      <td>1</td>\n",
       "    </tr>\n",
       "    <tr>\n",
       "      <th>1307</th>\n",
       "      <td>3</td>\n",
       "      <td>male</td>\n",
       "      <td>4</td>\n",
       "      <td>4</td>\n",
       "      <td>S</td>\n",
       "      <td>M</td>\n",
       "      <td>Mr</td>\n",
       "      <td>Alone</td>\n",
       "      <td>1</td>\n",
       "      <td>1</td>\n",
       "    </tr>\n",
       "    <tr>\n",
       "      <th>1308</th>\n",
       "      <td>3</td>\n",
       "      <td>male</td>\n",
       "      <td>4</td>\n",
       "      <td>8</td>\n",
       "      <td>C</td>\n",
       "      <td>M</td>\n",
       "      <td>Master</td>\n",
       "      <td>Small</td>\n",
       "      <td>1</td>\n",
       "      <td>3</td>\n",
       "    </tr>\n",
       "  </tbody>\n",
       "</table>\n",
       "<p>1309 rows × 10 columns</p>\n",
       "</div>"
      ],
      "text/plain": [
       "      Pclass     Sex  Age  Fare Embarked Deck   Title Family_Size_Grouped  \\\n",
       "0          3    male    3     1        S    M      Mr               Small   \n",
       "1          1  female    8    12        C  ABC     Mrs               Small   \n",
       "2          3  female    5     4        S    M    Miss               Alone   \n",
       "3          1  female    8    11        S  ABC     Mrs               Small   \n",
       "4          3    male    8     4        S    M      Mr               Alone   \n",
       "...      ...     ...  ...   ...      ...  ...     ...                 ...   \n",
       "1304       3    male    4     4        S    M      Mr               Alone   \n",
       "1305       1  female    8    13        C  ABC   Other               Alone   \n",
       "1306       3    male    8     1        S    M      Mr               Alone   \n",
       "1307       3    male    4     4        S    M      Mr               Alone   \n",
       "1308       3    male    4     8        C    M  Master               Small   \n",
       "\n",
       "      TicketType  Ticket_Frequency  \n",
       "0              0                 1  \n",
       "1              0                 2  \n",
       "2              0                 1  \n",
       "3              1                 2  \n",
       "4              1                 1  \n",
       "...          ...               ...  \n",
       "1304           0                 1  \n",
       "1305           0                 3  \n",
       "1306           0                 1  \n",
       "1307           1                 1  \n",
       "1308           1                 3  \n",
       "\n",
       "[1309 rows x 10 columns]"
      ]
     },
     "execution_count": 34,
     "metadata": {},
     "output_type": "execute_result"
    }
   ],
   "source": [
    "train_test_data"
   ]
  },
  {
   "cell_type": "code",
   "execution_count": 35,
   "id": "28e41d71",
   "metadata": {
    "execution": {
     "iopub.execute_input": "2022-07-20T03:14:32.656470Z",
     "iopub.status.busy": "2022-07-20T03:14:32.655818Z",
     "iopub.status.idle": "2022-07-20T03:14:32.678996Z",
     "shell.execute_reply": "2022-07-20T03:14:32.678197Z"
    },
    "papermill": {
     "duration": 0.049734,
     "end_time": "2022-07-20T03:14:32.681041",
     "exception": false,
     "start_time": "2022-07-20T03:14:32.631307",
     "status": "completed"
    },
    "tags": []
   },
   "outputs": [
    {
     "data": {
      "text/html": [
       "<div>\n",
       "<style scoped>\n",
       "    .dataframe tbody tr th:only-of-type {\n",
       "        vertical-align: middle;\n",
       "    }\n",
       "\n",
       "    .dataframe tbody tr th {\n",
       "        vertical-align: top;\n",
       "    }\n",
       "\n",
       "    .dataframe thead th {\n",
       "        text-align: right;\n",
       "    }\n",
       "</style>\n",
       "<table border=\"1\" class=\"dataframe\">\n",
       "  <thead>\n",
       "    <tr style=\"text-align: right;\">\n",
       "      <th></th>\n",
       "      <th>Sex_male</th>\n",
       "      <th>Embarked_Q</th>\n",
       "      <th>Embarked_S</th>\n",
       "      <th>Deck_DE</th>\n",
       "      <th>Deck_FG</th>\n",
       "      <th>Deck_M</th>\n",
       "      <th>Title_Miss</th>\n",
       "      <th>Title_Mr</th>\n",
       "      <th>Title_Mrs</th>\n",
       "      <th>Title_Other</th>\n",
       "      <th>Family_Size_Grouped_Large</th>\n",
       "      <th>Family_Size_Grouped_Medium</th>\n",
       "      <th>Family_Size_Grouped_Small</th>\n",
       "    </tr>\n",
       "  </thead>\n",
       "  <tbody>\n",
       "    <tr>\n",
       "      <th>0</th>\n",
       "      <td>1</td>\n",
       "      <td>0</td>\n",
       "      <td>1</td>\n",
       "      <td>0</td>\n",
       "      <td>0</td>\n",
       "      <td>1</td>\n",
       "      <td>0</td>\n",
       "      <td>1</td>\n",
       "      <td>0</td>\n",
       "      <td>0</td>\n",
       "      <td>0</td>\n",
       "      <td>0</td>\n",
       "      <td>1</td>\n",
       "    </tr>\n",
       "    <tr>\n",
       "      <th>1</th>\n",
       "      <td>0</td>\n",
       "      <td>0</td>\n",
       "      <td>0</td>\n",
       "      <td>0</td>\n",
       "      <td>0</td>\n",
       "      <td>0</td>\n",
       "      <td>0</td>\n",
       "      <td>0</td>\n",
       "      <td>1</td>\n",
       "      <td>0</td>\n",
       "      <td>0</td>\n",
       "      <td>0</td>\n",
       "      <td>1</td>\n",
       "    </tr>\n",
       "    <tr>\n",
       "      <th>2</th>\n",
       "      <td>0</td>\n",
       "      <td>0</td>\n",
       "      <td>1</td>\n",
       "      <td>0</td>\n",
       "      <td>0</td>\n",
       "      <td>1</td>\n",
       "      <td>1</td>\n",
       "      <td>0</td>\n",
       "      <td>0</td>\n",
       "      <td>0</td>\n",
       "      <td>0</td>\n",
       "      <td>0</td>\n",
       "      <td>0</td>\n",
       "    </tr>\n",
       "    <tr>\n",
       "      <th>3</th>\n",
       "      <td>0</td>\n",
       "      <td>0</td>\n",
       "      <td>1</td>\n",
       "      <td>0</td>\n",
       "      <td>0</td>\n",
       "      <td>0</td>\n",
       "      <td>0</td>\n",
       "      <td>0</td>\n",
       "      <td>1</td>\n",
       "      <td>0</td>\n",
       "      <td>0</td>\n",
       "      <td>0</td>\n",
       "      <td>1</td>\n",
       "    </tr>\n",
       "    <tr>\n",
       "      <th>4</th>\n",
       "      <td>1</td>\n",
       "      <td>0</td>\n",
       "      <td>1</td>\n",
       "      <td>0</td>\n",
       "      <td>0</td>\n",
       "      <td>1</td>\n",
       "      <td>0</td>\n",
       "      <td>1</td>\n",
       "      <td>0</td>\n",
       "      <td>0</td>\n",
       "      <td>0</td>\n",
       "      <td>0</td>\n",
       "      <td>0</td>\n",
       "    </tr>\n",
       "    <tr>\n",
       "      <th>...</th>\n",
       "      <td>...</td>\n",
       "      <td>...</td>\n",
       "      <td>...</td>\n",
       "      <td>...</td>\n",
       "      <td>...</td>\n",
       "      <td>...</td>\n",
       "      <td>...</td>\n",
       "      <td>...</td>\n",
       "      <td>...</td>\n",
       "      <td>...</td>\n",
       "      <td>...</td>\n",
       "      <td>...</td>\n",
       "      <td>...</td>\n",
       "    </tr>\n",
       "    <tr>\n",
       "      <th>1304</th>\n",
       "      <td>1</td>\n",
       "      <td>0</td>\n",
       "      <td>1</td>\n",
       "      <td>0</td>\n",
       "      <td>0</td>\n",
       "      <td>1</td>\n",
       "      <td>0</td>\n",
       "      <td>1</td>\n",
       "      <td>0</td>\n",
       "      <td>0</td>\n",
       "      <td>0</td>\n",
       "      <td>0</td>\n",
       "      <td>0</td>\n",
       "    </tr>\n",
       "    <tr>\n",
       "      <th>1305</th>\n",
       "      <td>0</td>\n",
       "      <td>0</td>\n",
       "      <td>0</td>\n",
       "      <td>0</td>\n",
       "      <td>0</td>\n",
       "      <td>0</td>\n",
       "      <td>0</td>\n",
       "      <td>0</td>\n",
       "      <td>0</td>\n",
       "      <td>1</td>\n",
       "      <td>0</td>\n",
       "      <td>0</td>\n",
       "      <td>0</td>\n",
       "    </tr>\n",
       "    <tr>\n",
       "      <th>1306</th>\n",
       "      <td>1</td>\n",
       "      <td>0</td>\n",
       "      <td>1</td>\n",
       "      <td>0</td>\n",
       "      <td>0</td>\n",
       "      <td>1</td>\n",
       "      <td>0</td>\n",
       "      <td>1</td>\n",
       "      <td>0</td>\n",
       "      <td>0</td>\n",
       "      <td>0</td>\n",
       "      <td>0</td>\n",
       "      <td>0</td>\n",
       "    </tr>\n",
       "    <tr>\n",
       "      <th>1307</th>\n",
       "      <td>1</td>\n",
       "      <td>0</td>\n",
       "      <td>1</td>\n",
       "      <td>0</td>\n",
       "      <td>0</td>\n",
       "      <td>1</td>\n",
       "      <td>0</td>\n",
       "      <td>1</td>\n",
       "      <td>0</td>\n",
       "      <td>0</td>\n",
       "      <td>0</td>\n",
       "      <td>0</td>\n",
       "      <td>0</td>\n",
       "    </tr>\n",
       "    <tr>\n",
       "      <th>1308</th>\n",
       "      <td>1</td>\n",
       "      <td>0</td>\n",
       "      <td>0</td>\n",
       "      <td>0</td>\n",
       "      <td>0</td>\n",
       "      <td>1</td>\n",
       "      <td>0</td>\n",
       "      <td>0</td>\n",
       "      <td>0</td>\n",
       "      <td>0</td>\n",
       "      <td>0</td>\n",
       "      <td>0</td>\n",
       "      <td>1</td>\n",
       "    </tr>\n",
       "  </tbody>\n",
       "</table>\n",
       "<p>1309 rows × 13 columns</p>\n",
       "</div>"
      ],
      "text/plain": [
       "      Sex_male  Embarked_Q  Embarked_S  Deck_DE  Deck_FG  Deck_M  Title_Miss  \\\n",
       "0            1           0           1        0        0       1           0   \n",
       "1            0           0           0        0        0       0           0   \n",
       "2            0           0           1        0        0       1           1   \n",
       "3            0           0           1        0        0       0           0   \n",
       "4            1           0           1        0        0       1           0   \n",
       "...        ...         ...         ...      ...      ...     ...         ...   \n",
       "1304         1           0           1        0        0       1           0   \n",
       "1305         0           0           0        0        0       0           0   \n",
       "1306         1           0           1        0        0       1           0   \n",
       "1307         1           0           1        0        0       1           0   \n",
       "1308         1           0           0        0        0       1           0   \n",
       "\n",
       "      Title_Mr  Title_Mrs  Title_Other  Family_Size_Grouped_Large  \\\n",
       "0            1          0            0                          0   \n",
       "1            0          1            0                          0   \n",
       "2            0          0            0                          0   \n",
       "3            0          1            0                          0   \n",
       "4            1          0            0                          0   \n",
       "...        ...        ...          ...                        ...   \n",
       "1304         1          0            0                          0   \n",
       "1305         0          0            1                          0   \n",
       "1306         1          0            0                          0   \n",
       "1307         1          0            0                          0   \n",
       "1308         0          0            0                          0   \n",
       "\n",
       "      Family_Size_Grouped_Medium  Family_Size_Grouped_Small  \n",
       "0                              0                          1  \n",
       "1                              0                          1  \n",
       "2                              0                          0  \n",
       "3                              0                          1  \n",
       "4                              0                          0  \n",
       "...                          ...                        ...  \n",
       "1304                           0                          0  \n",
       "1305                           0                          0  \n",
       "1306                           0                          0  \n",
       "1307                           0                          0  \n",
       "1308                           0                          1  \n",
       "\n",
       "[1309 rows x 13 columns]"
      ]
     },
     "execution_count": 35,
     "metadata": {},
     "output_type": "execute_result"
    }
   ],
   "source": [
    "# Get dummies \n",
    "dummies = pd.get_dummies(train_test_data[['Sex','Embarked','Deck','Title','Family_Size_Grouped']],drop_first=True)\n",
    "dummies"
   ]
  },
  {
   "cell_type": "code",
   "execution_count": 36,
   "id": "216cc599",
   "metadata": {
    "execution": {
     "iopub.execute_input": "2022-07-20T03:14:32.730226Z",
     "iopub.status.busy": "2022-07-20T03:14:32.729552Z",
     "iopub.status.idle": "2022-07-20T03:14:32.741914Z",
     "shell.execute_reply": "2022-07-20T03:14:32.741065Z"
    },
    "papermill": {
     "duration": 0.038992,
     "end_time": "2022-07-20T03:14:32.743834",
     "exception": false,
     "start_time": "2022-07-20T03:14:32.704842",
     "status": "completed"
    },
    "tags": []
   },
   "outputs": [
    {
     "data": {
      "text/html": [
       "<div>\n",
       "<style scoped>\n",
       "    .dataframe tbody tr th:only-of-type {\n",
       "        vertical-align: middle;\n",
       "    }\n",
       "\n",
       "    .dataframe tbody tr th {\n",
       "        vertical-align: top;\n",
       "    }\n",
       "\n",
       "    .dataframe thead th {\n",
       "        text-align: right;\n",
       "    }\n",
       "</style>\n",
       "<table border=\"1\" class=\"dataframe\">\n",
       "  <thead>\n",
       "    <tr style=\"text-align: right;\">\n",
       "      <th></th>\n",
       "      <th>Pclass</th>\n",
       "      <th>Age</th>\n",
       "      <th>Fare</th>\n",
       "      <th>TicketType</th>\n",
       "      <th>Ticket_Frequency</th>\n",
       "    </tr>\n",
       "  </thead>\n",
       "  <tbody>\n",
       "    <tr>\n",
       "      <th>0</th>\n",
       "      <td>3</td>\n",
       "      <td>3</td>\n",
       "      <td>1</td>\n",
       "      <td>0</td>\n",
       "      <td>1</td>\n",
       "    </tr>\n",
       "    <tr>\n",
       "      <th>1</th>\n",
       "      <td>1</td>\n",
       "      <td>8</td>\n",
       "      <td>12</td>\n",
       "      <td>0</td>\n",
       "      <td>2</td>\n",
       "    </tr>\n",
       "    <tr>\n",
       "      <th>2</th>\n",
       "      <td>3</td>\n",
       "      <td>5</td>\n",
       "      <td>4</td>\n",
       "      <td>0</td>\n",
       "      <td>1</td>\n",
       "    </tr>\n",
       "    <tr>\n",
       "      <th>3</th>\n",
       "      <td>1</td>\n",
       "      <td>8</td>\n",
       "      <td>11</td>\n",
       "      <td>1</td>\n",
       "      <td>2</td>\n",
       "    </tr>\n",
       "    <tr>\n",
       "      <th>4</th>\n",
       "      <td>3</td>\n",
       "      <td>8</td>\n",
       "      <td>4</td>\n",
       "      <td>1</td>\n",
       "      <td>1</td>\n",
       "    </tr>\n",
       "    <tr>\n",
       "      <th>...</th>\n",
       "      <td>...</td>\n",
       "      <td>...</td>\n",
       "      <td>...</td>\n",
       "      <td>...</td>\n",
       "      <td>...</td>\n",
       "    </tr>\n",
       "    <tr>\n",
       "      <th>1304</th>\n",
       "      <td>3</td>\n",
       "      <td>4</td>\n",
       "      <td>4</td>\n",
       "      <td>0</td>\n",
       "      <td>1</td>\n",
       "    </tr>\n",
       "    <tr>\n",
       "      <th>1305</th>\n",
       "      <td>1</td>\n",
       "      <td>8</td>\n",
       "      <td>13</td>\n",
       "      <td>0</td>\n",
       "      <td>3</td>\n",
       "    </tr>\n",
       "    <tr>\n",
       "      <th>1306</th>\n",
       "      <td>3</td>\n",
       "      <td>8</td>\n",
       "      <td>1</td>\n",
       "      <td>0</td>\n",
       "      <td>1</td>\n",
       "    </tr>\n",
       "    <tr>\n",
       "      <th>1307</th>\n",
       "      <td>3</td>\n",
       "      <td>4</td>\n",
       "      <td>4</td>\n",
       "      <td>1</td>\n",
       "      <td>1</td>\n",
       "    </tr>\n",
       "    <tr>\n",
       "      <th>1308</th>\n",
       "      <td>3</td>\n",
       "      <td>4</td>\n",
       "      <td>8</td>\n",
       "      <td>1</td>\n",
       "      <td>3</td>\n",
       "    </tr>\n",
       "  </tbody>\n",
       "</table>\n",
       "<p>1309 rows × 5 columns</p>\n",
       "</div>"
      ],
      "text/plain": [
       "      Pclass  Age  Fare  TicketType  Ticket_Frequency\n",
       "0          3    3     1           0                 1\n",
       "1          1    8    12           0                 2\n",
       "2          3    5     4           0                 1\n",
       "3          1    8    11           1                 2\n",
       "4          3    8     4           1                 1\n",
       "...      ...  ...   ...         ...               ...\n",
       "1304       3    4     4           0                 1\n",
       "1305       1    8    13           0                 3\n",
       "1306       3    8     1           0                 1\n",
       "1307       3    4     4           1                 1\n",
       "1308       3    4     8           1                 3\n",
       "\n",
       "[1309 rows x 5 columns]"
      ]
     },
     "execution_count": 36,
     "metadata": {},
     "output_type": "execute_result"
    }
   ],
   "source": [
    "train_test_data = train_test_data.drop(['Sex','Embarked','Deck','Title','Family_Size_Grouped'],axis=1)\n",
    "train_test_data"
   ]
  },
  {
   "cell_type": "code",
   "execution_count": 37,
   "id": "a0957a9b",
   "metadata": {
    "execution": {
     "iopub.execute_input": "2022-07-20T03:14:32.793143Z",
     "iopub.status.busy": "2022-07-20T03:14:32.792545Z",
     "iopub.status.idle": "2022-07-20T03:14:32.797368Z",
     "shell.execute_reply": "2022-07-20T03:14:32.796692Z"
    },
    "papermill": {
     "duration": 0.03212,
     "end_time": "2022-07-20T03:14:32.799371",
     "exception": false,
     "start_time": "2022-07-20T03:14:32.767251",
     "status": "completed"
    },
    "tags": []
   },
   "outputs": [],
   "source": [
    "train_test_data_dum = pd.concat([train_test_data,dummies],axis=1,ignore_index=False)"
   ]
  },
  {
   "cell_type": "code",
   "execution_count": 38,
   "id": "650a3188",
   "metadata": {
    "execution": {
     "iopub.execute_input": "2022-07-20T03:14:32.848385Z",
     "iopub.status.busy": "2022-07-20T03:14:32.847806Z",
     "iopub.status.idle": "2022-07-20T03:14:32.866022Z",
     "shell.execute_reply": "2022-07-20T03:14:32.865168Z"
    },
    "papermill": {
     "duration": 0.045308,
     "end_time": "2022-07-20T03:14:32.868031",
     "exception": false,
     "start_time": "2022-07-20T03:14:32.822723",
     "status": "completed"
    },
    "tags": []
   },
   "outputs": [
    {
     "data": {
      "text/html": [
       "<div>\n",
       "<style scoped>\n",
       "    .dataframe tbody tr th:only-of-type {\n",
       "        vertical-align: middle;\n",
       "    }\n",
       "\n",
       "    .dataframe tbody tr th {\n",
       "        vertical-align: top;\n",
       "    }\n",
       "\n",
       "    .dataframe thead th {\n",
       "        text-align: right;\n",
       "    }\n",
       "</style>\n",
       "<table border=\"1\" class=\"dataframe\">\n",
       "  <thead>\n",
       "    <tr style=\"text-align: right;\">\n",
       "      <th></th>\n",
       "      <th>Pclass</th>\n",
       "      <th>Age</th>\n",
       "      <th>Fare</th>\n",
       "      <th>TicketType</th>\n",
       "      <th>Ticket_Frequency</th>\n",
       "      <th>Sex_male</th>\n",
       "      <th>Embarked_Q</th>\n",
       "      <th>Embarked_S</th>\n",
       "      <th>Deck_DE</th>\n",
       "      <th>Deck_FG</th>\n",
       "      <th>Deck_M</th>\n",
       "      <th>Title_Miss</th>\n",
       "      <th>Title_Mr</th>\n",
       "      <th>Title_Mrs</th>\n",
       "      <th>Title_Other</th>\n",
       "      <th>Family_Size_Grouped_Large</th>\n",
       "      <th>Family_Size_Grouped_Medium</th>\n",
       "      <th>Family_Size_Grouped_Small</th>\n",
       "    </tr>\n",
       "  </thead>\n",
       "  <tbody>\n",
       "    <tr>\n",
       "      <th>0</th>\n",
       "      <td>3</td>\n",
       "      <td>3</td>\n",
       "      <td>1</td>\n",
       "      <td>0</td>\n",
       "      <td>1</td>\n",
       "      <td>1</td>\n",
       "      <td>0</td>\n",
       "      <td>1</td>\n",
       "      <td>0</td>\n",
       "      <td>0</td>\n",
       "      <td>1</td>\n",
       "      <td>0</td>\n",
       "      <td>1</td>\n",
       "      <td>0</td>\n",
       "      <td>0</td>\n",
       "      <td>0</td>\n",
       "      <td>0</td>\n",
       "      <td>1</td>\n",
       "    </tr>\n",
       "    <tr>\n",
       "      <th>1</th>\n",
       "      <td>1</td>\n",
       "      <td>8</td>\n",
       "      <td>12</td>\n",
       "      <td>0</td>\n",
       "      <td>2</td>\n",
       "      <td>0</td>\n",
       "      <td>0</td>\n",
       "      <td>0</td>\n",
       "      <td>0</td>\n",
       "      <td>0</td>\n",
       "      <td>0</td>\n",
       "      <td>0</td>\n",
       "      <td>0</td>\n",
       "      <td>1</td>\n",
       "      <td>0</td>\n",
       "      <td>0</td>\n",
       "      <td>0</td>\n",
       "      <td>1</td>\n",
       "    </tr>\n",
       "    <tr>\n",
       "      <th>2</th>\n",
       "      <td>3</td>\n",
       "      <td>5</td>\n",
       "      <td>4</td>\n",
       "      <td>0</td>\n",
       "      <td>1</td>\n",
       "      <td>0</td>\n",
       "      <td>0</td>\n",
       "      <td>1</td>\n",
       "      <td>0</td>\n",
       "      <td>0</td>\n",
       "      <td>1</td>\n",
       "      <td>1</td>\n",
       "      <td>0</td>\n",
       "      <td>0</td>\n",
       "      <td>0</td>\n",
       "      <td>0</td>\n",
       "      <td>0</td>\n",
       "      <td>0</td>\n",
       "    </tr>\n",
       "    <tr>\n",
       "      <th>3</th>\n",
       "      <td>1</td>\n",
       "      <td>8</td>\n",
       "      <td>11</td>\n",
       "      <td>1</td>\n",
       "      <td>2</td>\n",
       "      <td>0</td>\n",
       "      <td>0</td>\n",
       "      <td>1</td>\n",
       "      <td>0</td>\n",
       "      <td>0</td>\n",
       "      <td>0</td>\n",
       "      <td>0</td>\n",
       "      <td>0</td>\n",
       "      <td>1</td>\n",
       "      <td>0</td>\n",
       "      <td>0</td>\n",
       "      <td>0</td>\n",
       "      <td>1</td>\n",
       "    </tr>\n",
       "    <tr>\n",
       "      <th>4</th>\n",
       "      <td>3</td>\n",
       "      <td>8</td>\n",
       "      <td>4</td>\n",
       "      <td>1</td>\n",
       "      <td>1</td>\n",
       "      <td>1</td>\n",
       "      <td>0</td>\n",
       "      <td>1</td>\n",
       "      <td>0</td>\n",
       "      <td>0</td>\n",
       "      <td>1</td>\n",
       "      <td>0</td>\n",
       "      <td>1</td>\n",
       "      <td>0</td>\n",
       "      <td>0</td>\n",
       "      <td>0</td>\n",
       "      <td>0</td>\n",
       "      <td>0</td>\n",
       "    </tr>\n",
       "    <tr>\n",
       "      <th>...</th>\n",
       "      <td>...</td>\n",
       "      <td>...</td>\n",
       "      <td>...</td>\n",
       "      <td>...</td>\n",
       "      <td>...</td>\n",
       "      <td>...</td>\n",
       "      <td>...</td>\n",
       "      <td>...</td>\n",
       "      <td>...</td>\n",
       "      <td>...</td>\n",
       "      <td>...</td>\n",
       "      <td>...</td>\n",
       "      <td>...</td>\n",
       "      <td>...</td>\n",
       "      <td>...</td>\n",
       "      <td>...</td>\n",
       "      <td>...</td>\n",
       "      <td>...</td>\n",
       "    </tr>\n",
       "    <tr>\n",
       "      <th>1304</th>\n",
       "      <td>3</td>\n",
       "      <td>4</td>\n",
       "      <td>4</td>\n",
       "      <td>0</td>\n",
       "      <td>1</td>\n",
       "      <td>1</td>\n",
       "      <td>0</td>\n",
       "      <td>1</td>\n",
       "      <td>0</td>\n",
       "      <td>0</td>\n",
       "      <td>1</td>\n",
       "      <td>0</td>\n",
       "      <td>1</td>\n",
       "      <td>0</td>\n",
       "      <td>0</td>\n",
       "      <td>0</td>\n",
       "      <td>0</td>\n",
       "      <td>0</td>\n",
       "    </tr>\n",
       "    <tr>\n",
       "      <th>1305</th>\n",
       "      <td>1</td>\n",
       "      <td>8</td>\n",
       "      <td>13</td>\n",
       "      <td>0</td>\n",
       "      <td>3</td>\n",
       "      <td>0</td>\n",
       "      <td>0</td>\n",
       "      <td>0</td>\n",
       "      <td>0</td>\n",
       "      <td>0</td>\n",
       "      <td>0</td>\n",
       "      <td>0</td>\n",
       "      <td>0</td>\n",
       "      <td>0</td>\n",
       "      <td>1</td>\n",
       "      <td>0</td>\n",
       "      <td>0</td>\n",
       "      <td>0</td>\n",
       "    </tr>\n",
       "    <tr>\n",
       "      <th>1306</th>\n",
       "      <td>3</td>\n",
       "      <td>8</td>\n",
       "      <td>1</td>\n",
       "      <td>0</td>\n",
       "      <td>1</td>\n",
       "      <td>1</td>\n",
       "      <td>0</td>\n",
       "      <td>1</td>\n",
       "      <td>0</td>\n",
       "      <td>0</td>\n",
       "      <td>1</td>\n",
       "      <td>0</td>\n",
       "      <td>1</td>\n",
       "      <td>0</td>\n",
       "      <td>0</td>\n",
       "      <td>0</td>\n",
       "      <td>0</td>\n",
       "      <td>0</td>\n",
       "    </tr>\n",
       "    <tr>\n",
       "      <th>1307</th>\n",
       "      <td>3</td>\n",
       "      <td>4</td>\n",
       "      <td>4</td>\n",
       "      <td>1</td>\n",
       "      <td>1</td>\n",
       "      <td>1</td>\n",
       "      <td>0</td>\n",
       "      <td>1</td>\n",
       "      <td>0</td>\n",
       "      <td>0</td>\n",
       "      <td>1</td>\n",
       "      <td>0</td>\n",
       "      <td>1</td>\n",
       "      <td>0</td>\n",
       "      <td>0</td>\n",
       "      <td>0</td>\n",
       "      <td>0</td>\n",
       "      <td>0</td>\n",
       "    </tr>\n",
       "    <tr>\n",
       "      <th>1308</th>\n",
       "      <td>3</td>\n",
       "      <td>4</td>\n",
       "      <td>8</td>\n",
       "      <td>1</td>\n",
       "      <td>3</td>\n",
       "      <td>1</td>\n",
       "      <td>0</td>\n",
       "      <td>0</td>\n",
       "      <td>0</td>\n",
       "      <td>0</td>\n",
       "      <td>1</td>\n",
       "      <td>0</td>\n",
       "      <td>0</td>\n",
       "      <td>0</td>\n",
       "      <td>0</td>\n",
       "      <td>0</td>\n",
       "      <td>0</td>\n",
       "      <td>1</td>\n",
       "    </tr>\n",
       "  </tbody>\n",
       "</table>\n",
       "<p>1309 rows × 18 columns</p>\n",
       "</div>"
      ],
      "text/plain": [
       "      Pclass  Age  Fare  TicketType  Ticket_Frequency  Sex_male  Embarked_Q  \\\n",
       "0          3    3     1           0                 1         1           0   \n",
       "1          1    8    12           0                 2         0           0   \n",
       "2          3    5     4           0                 1         0           0   \n",
       "3          1    8    11           1                 2         0           0   \n",
       "4          3    8     4           1                 1         1           0   \n",
       "...      ...  ...   ...         ...               ...       ...         ...   \n",
       "1304       3    4     4           0                 1         1           0   \n",
       "1305       1    8    13           0                 3         0           0   \n",
       "1306       3    8     1           0                 1         1           0   \n",
       "1307       3    4     4           1                 1         1           0   \n",
       "1308       3    4     8           1                 3         1           0   \n",
       "\n",
       "      Embarked_S  Deck_DE  Deck_FG  Deck_M  Title_Miss  Title_Mr  Title_Mrs  \\\n",
       "0              1        0        0       1           0         1          0   \n",
       "1              0        0        0       0           0         0          1   \n",
       "2              1        0        0       1           1         0          0   \n",
       "3              1        0        0       0           0         0          1   \n",
       "4              1        0        0       1           0         1          0   \n",
       "...          ...      ...      ...     ...         ...       ...        ...   \n",
       "1304           1        0        0       1           0         1          0   \n",
       "1305           0        0        0       0           0         0          0   \n",
       "1306           1        0        0       1           0         1          0   \n",
       "1307           1        0        0       1           0         1          0   \n",
       "1308           0        0        0       1           0         0          0   \n",
       "\n",
       "      Title_Other  Family_Size_Grouped_Large  Family_Size_Grouped_Medium  \\\n",
       "0               0                          0                           0   \n",
       "1               0                          0                           0   \n",
       "2               0                          0                           0   \n",
       "3               0                          0                           0   \n",
       "4               0                          0                           0   \n",
       "...           ...                        ...                         ...   \n",
       "1304            0                          0                           0   \n",
       "1305            1                          0                           0   \n",
       "1306            0                          0                           0   \n",
       "1307            0                          0                           0   \n",
       "1308            0                          0                           0   \n",
       "\n",
       "      Family_Size_Grouped_Small  \n",
       "0                             1  \n",
       "1                             1  \n",
       "2                             0  \n",
       "3                             1  \n",
       "4                             0  \n",
       "...                         ...  \n",
       "1304                          0  \n",
       "1305                          0  \n",
       "1306                          0  \n",
       "1307                          0  \n",
       "1308                          1  \n",
       "\n",
       "[1309 rows x 18 columns]"
      ]
     },
     "execution_count": 38,
     "metadata": {},
     "output_type": "execute_result"
    }
   ],
   "source": [
    "train_test_data_dum"
   ]
  },
  {
   "cell_type": "code",
   "execution_count": 39,
   "id": "55bd31ba",
   "metadata": {
    "execution": {
     "iopub.execute_input": "2022-07-20T03:14:32.919511Z",
     "iopub.status.busy": "2022-07-20T03:14:32.918893Z",
     "iopub.status.idle": "2022-07-20T03:14:32.923447Z",
     "shell.execute_reply": "2022-07-20T03:14:32.922722Z"
    },
    "papermill": {
     "duration": 0.033097,
     "end_time": "2022-07-20T03:14:32.925462",
     "exception": false,
     "start_time": "2022-07-20T03:14:32.892365",
     "status": "completed"
    },
    "tags": []
   },
   "outputs": [],
   "source": [
    "X = train_test_data_dum.iloc[0:891]\n",
    "y = train['Survived']\n",
    "X_submission = train_test_data_dum.iloc[891:1309]"
   ]
  },
  {
   "cell_type": "code",
   "execution_count": 40,
   "id": "5cd3e0ae",
   "metadata": {
    "execution": {
     "iopub.execute_input": "2022-07-20T03:14:32.975194Z",
     "iopub.status.busy": "2022-07-20T03:14:32.974808Z",
     "iopub.status.idle": "2022-07-20T03:14:32.980031Z",
     "shell.execute_reply": "2022-07-20T03:14:32.978973Z"
    },
    "papermill": {
     "duration": 0.032897,
     "end_time": "2022-07-20T03:14:32.982733",
     "exception": false,
     "start_time": "2022-07-20T03:14:32.949836",
     "status": "completed"
    },
    "tags": []
   },
   "outputs": [
    {
     "name": "stdout",
     "output_type": "stream",
     "text": [
      "(891, 18)\n",
      "(891,)\n",
      "(418, 18)\n"
     ]
    }
   ],
   "source": [
    "print(X.shape)\n",
    "print(y.shape)\n",
    "print(X_submission.shape)"
   ]
  },
  {
   "cell_type": "code",
   "execution_count": 41,
   "id": "c24faa1d",
   "metadata": {
    "execution": {
     "iopub.execute_input": "2022-07-20T03:14:33.032297Z",
     "iopub.status.busy": "2022-07-20T03:14:33.031921Z",
     "iopub.status.idle": "2022-07-20T03:14:33.039321Z",
     "shell.execute_reply": "2022-07-20T03:14:33.038497Z"
    },
    "papermill": {
     "duration": 0.034991,
     "end_time": "2022-07-20T03:14:33.041612",
     "exception": false,
     "start_time": "2022-07-20T03:14:33.006621",
     "status": "completed"
    },
    "tags": []
   },
   "outputs": [
    {
     "data": {
      "text/plain": [
       "0      0\n",
       "1      1\n",
       "2      1\n",
       "3      1\n",
       "4      0\n",
       "      ..\n",
       "886    0\n",
       "887    1\n",
       "888    0\n",
       "889    1\n",
       "890    0\n",
       "Name: Survived, Length: 891, dtype: int64"
      ]
     },
     "execution_count": 41,
     "metadata": {},
     "output_type": "execute_result"
    }
   ],
   "source": [
    "y"
   ]
  },
  {
   "cell_type": "markdown",
   "id": "f3cb3b64",
   "metadata": {
    "papermill": {
     "duration": 0.023686,
     "end_time": "2022-07-20T03:14:33.089709",
     "exception": false,
     "start_time": "2022-07-20T03:14:33.066023",
     "status": "completed"
    },
    "tags": []
   },
   "source": [
    "# Model Training"
   ]
  },
  {
   "cell_type": "code",
   "execution_count": 42,
   "id": "6c6275bc",
   "metadata": {
    "execution": {
     "iopub.execute_input": "2022-07-20T03:14:33.141830Z",
     "iopub.status.busy": "2022-07-20T03:14:33.141241Z",
     "iopub.status.idle": "2022-07-20T03:14:34.919432Z",
     "shell.execute_reply": "2022-07-20T03:14:34.916552Z"
    },
    "papermill": {
     "duration": 1.808295,
     "end_time": "2022-07-20T03:14:34.923861",
     "exception": false,
     "start_time": "2022-07-20T03:14:33.115566",
     "status": "completed"
    },
    "tags": []
   },
   "outputs": [
    {
     "data": {
      "text/html": [
       "<style type='text/css'>\n",
       ".datatable table.frame { margin-bottom: 0; }\n",
       ".datatable table.frame thead { border-bottom: none; }\n",
       ".datatable table.frame tr.coltypes td {  color: #FFFFFF;  line-height: 6px;  padding: 0 0.5em;}\n",
       ".datatable .bool    { background: #DDDD99; }\n",
       ".datatable .object  { background: #565656; }\n",
       ".datatable .int     { background: #5D9E5D; }\n",
       ".datatable .float   { background: #4040CC; }\n",
       ".datatable .str     { background: #CC4040; }\n",
       ".datatable .time    { background: #40CC40; }\n",
       ".datatable .row_index {  background: var(--jp-border-color3);  border-right: 1px solid var(--jp-border-color0);  color: var(--jp-ui-font-color3);  font-size: 9px;}\n",
       ".datatable .frame tbody td { text-align: left; }\n",
       ".datatable .frame tr.coltypes .row_index {  background: var(--jp-border-color0);}\n",
       ".datatable th:nth-child(2) { padding-left: 12px; }\n",
       ".datatable .hellipsis {  color: var(--jp-cell-editor-border-color);}\n",
       ".datatable .vellipsis {  background: var(--jp-layout-color0);  color: var(--jp-cell-editor-border-color);}\n",
       ".datatable .na {  color: var(--jp-cell-editor-border-color);  font-size: 80%;}\n",
       ".datatable .sp {  opacity: 0.25;}\n",
       ".datatable .footer { font-size: 9px; }\n",
       ".datatable .frame_dimensions {  background: var(--jp-border-color3);  border-top: 1px solid var(--jp-border-color0);  color: var(--jp-ui-font-color3);  display: inline-block;  opacity: 0.6;  padding: 1px 10px 1px 5px;}\n",
       "</style>\n"
      ],
      "text/plain": [
       "<IPython.core.display.HTML object>"
      ]
     },
     "metadata": {},
     "output_type": "display_data"
    },
    {
     "name": "stderr",
     "output_type": "stream",
     "text": [
      "/opt/conda/lib/python3.7/site-packages/sklearn/experimental/enable_hist_gradient_boosting.py:17: UserWarning: Since version 1.0, it is not needed to import enable_hist_gradient_boosting anymore. HistGradientBoostingClassifier and HistGradientBoostingRegressor are now stable and can be normally imported from sklearn.ensemble.\n",
      "  \"Since version 1.0, \"\n"
     ]
    }
   ],
   "source": [
    "from sklearn.linear_model import LogisticRegression\n",
    "from sklearn.tree import DecisionTreeClassifier\n",
    "from sklearn.ensemble import RandomForestClassifier\n",
    "from xgboost.sklearn import XGBClassifier\n",
    "from sklearn.ensemble import GradientBoostingClassifier\n",
    "from lightgbm import LGBMClassifier\n",
    "from catboost import CatBoostClassifier\n",
    "from sklearn.experimental import enable_hist_gradient_boosting\n",
    "from sklearn.ensemble import HistGradientBoostingClassifier\n",
    "\n",
    "from sklearn import metrics\n",
    "from sklearn.model_selection import train_test_split\n",
    "from sklearn.model_selection import GridSearchCV\n",
    "\n",
    "X_train, X_test, y_train, y_test = train_test_split(X, y, test_size = 0.2, random_state = 42);"
   ]
  },
  {
   "cell_type": "code",
   "execution_count": 43,
   "id": "da80233d",
   "metadata": {
    "execution": {
     "iopub.execute_input": "2022-07-20T03:14:34.979691Z",
     "iopub.status.busy": "2022-07-20T03:14:34.978743Z",
     "iopub.status.idle": "2022-07-20T03:14:34.996887Z",
     "shell.execute_reply": "2022-07-20T03:14:34.995773Z"
    },
    "papermill": {
     "duration": 0.049363,
     "end_time": "2022-07-20T03:14:34.999903",
     "exception": false,
     "start_time": "2022-07-20T03:14:34.950540",
     "status": "completed"
    },
    "tags": []
   },
   "outputs": [],
   "source": [
    "def find_best_model(X_train, X_test, y_train, y_test):\n",
    "    \n",
    "    # Logistic Regression\n",
    "    logreg = LogisticRegression(max_iter = 600)\n",
    "    logreg.fit(X_train, y_train)\n",
    "    y_pred = logreg.predict(X_test)\n",
    "    logreg_acc = round(metrics.accuracy_score(y_test, y_pred) * 100, 2)\n",
    "    \n",
    "    # Decision Tree\n",
    "    decision_tree = DecisionTreeClassifier()\n",
    "    decision_tree.fit(X_train, y_train)\n",
    "    y_pred = decision_tree.predict(X_test)\n",
    "    decision_tree_acc = round(metrics.accuracy_score(y_test, y_pred) * 100, 2)\n",
    "    \n",
    "    # Random Forest\n",
    "    random_forest = RandomForestClassifier()\n",
    "    random_forest.fit(X_train, y_train)\n",
    "    y_pred = random_forest.predict(X_test)\n",
    "    random_forest_acc = round(metrics.accuracy_score(y_test, y_pred) * 100, 2)\n",
    "    \n",
    "    # XGBoost\n",
    "    xgb = XGBClassifier()\n",
    "    xgb.fit(X_train, y_train)\n",
    "    y_pred = xgb.predict(X_test)\n",
    "    xgb_acc = round(metrics.accuracy_score(y_test, y_pred) * 100, 2)\n",
    "    \n",
    "    # GBM\n",
    "    gbm = GradientBoostingClassifier()\n",
    "    gbm.fit(X_train, y_train)\n",
    "    y_pred = gbm.predict(X_test)\n",
    "    gbm_acc = round(metrics.accuracy_score(y_test, y_pred) * 100, 2)\n",
    "    \n",
    "    # LightGBM\n",
    "    lgbm = LGBMClassifier()\n",
    "    lgbm.fit(X_train, y_train)\n",
    "    y_pred = lgbm.predict(X_test)\n",
    "    lgbm_acc = round(metrics.accuracy_score(y_test, y_pred) * 100, 2)\n",
    "        \n",
    "    # Catboost\n",
    "    catb = CatBoostClassifier(verbose = 0)\n",
    "    catb.fit(X_train, y_train)\n",
    "    y_pred = catb.predict(X_test)\n",
    "    catb_acc = round(metrics.accuracy_score(y_test, y_pred) * 100, 2)\n",
    "    \n",
    "    # Histogram-based Gradient Boosting Classification Tree\n",
    "    hgb = HistGradientBoostingClassifier()\n",
    "    hgb.fit(X_train, y_train)\n",
    "    y_pred = hgb.predict(X_test)\n",
    "    hgb_acc = round(metrics.accuracy_score(y_test, y_pred) * 100, 2)\n",
    "    \n",
    "    model_df = pd.DataFrame({'Model': ['Logistic Regression', 'Decision Tree', 'Random Forest', 'XGBoost', 'GBM', 'LightGBM', 'Catboost', 'HistBoost'],\n",
    "                       'Score': [logreg_acc, decision_tree_acc, random_forest_acc, xgb_acc, gbm_acc, lgbm_acc, catb_acc, hgb_acc]})\n",
    "    print(model_df.sort_values('Score', ascending = False).reset_index(drop = True))"
   ]
  },
  {
   "cell_type": "code",
   "execution_count": 44,
   "id": "72bf761d",
   "metadata": {
    "execution": {
     "iopub.execute_input": "2022-07-20T03:14:35.055058Z",
     "iopub.status.busy": "2022-07-20T03:14:35.053782Z",
     "iopub.status.idle": "2022-07-20T03:14:37.636706Z",
     "shell.execute_reply": "2022-07-20T03:14:37.634969Z"
    },
    "papermill": {
     "duration": 2.614086,
     "end_time": "2022-07-20T03:14:37.639981",
     "exception": false,
     "start_time": "2022-07-20T03:14:35.025895",
     "status": "completed"
    },
    "tags": []
   },
   "outputs": [
    {
     "name": "stdout",
     "output_type": "stream",
     "text": [
      "                 Model  Score\n",
      "0              XGBoost  84.92\n",
      "1                  GBM  83.80\n",
      "2             Catboost  83.80\n",
      "3        Random Forest  83.24\n",
      "4  Logistic Regression  82.12\n",
      "5             LightGBM  81.56\n",
      "6            HistBoost  81.56\n",
      "7        Decision Tree  78.77\n"
     ]
    }
   ],
   "source": [
    "find_best_model(X_train, X_test, y_train, y_test)"
   ]
  },
  {
   "cell_type": "code",
   "execution_count": 45,
   "id": "6e1b8e65",
   "metadata": {
    "execution": {
     "iopub.execute_input": "2022-07-20T03:14:37.692808Z",
     "iopub.status.busy": "2022-07-20T03:14:37.691776Z",
     "iopub.status.idle": "2022-07-20T03:14:37.696945Z",
     "shell.execute_reply": "2022-07-20T03:14:37.695895Z"
    },
    "papermill": {
     "duration": 0.033648,
     "end_time": "2022-07-20T03:14:37.699246",
     "exception": false,
     "start_time": "2022-07-20T03:14:37.665598",
     "status": "completed"
    },
    "tags": []
   },
   "outputs": [],
   "source": [
    "# Grid Search on Random Forest Model\n",
    "# rfc = RandomForestClassifier(class_weight='balanced')\n",
    "# param_grid = {'n_estimators':[100,200,500,1000],\n",
    "#              'max_features':['sqrt','log2'],\n",
    "#               'max_depth' : [4, 6, 8, 10],\n",
    "#               'criterion' :['gini', 'entropy'],\n",
    "#              'bootstrap':[True,False],\n",
    "#              'oob_score':[True,False]\n",
    "#              }  # Note, oob_score only makes sense when bootstrap=True!\n",
    "\n",
    "# grid = GridSearchCV(estimator=rfc, param_grid=param_grid, cv=5)\n",
    "# grid.fit(X,y)\n",
    "# print('Best hyperparameters:',grid.best_params_)"
   ]
  },
  {
   "cell_type": "code",
   "execution_count": 46,
   "id": "3b30d35c",
   "metadata": {
    "execution": {
     "iopub.execute_input": "2022-07-20T03:14:37.750436Z",
     "iopub.status.busy": "2022-07-20T03:14:37.750071Z",
     "iopub.status.idle": "2022-07-20T03:14:38.028112Z",
     "shell.execute_reply": "2022-07-20T03:14:38.026773Z"
    },
    "papermill": {
     "duration": 0.307285,
     "end_time": "2022-07-20T03:14:38.031261",
     "exception": false,
     "start_time": "2022-07-20T03:14:37.723976",
     "status": "completed"
    },
    "tags": []
   },
   "outputs": [
    {
     "data": {
      "text/plain": [
       "RandomForestClassifier(class_weight='balanced', criterion='entropy',\n",
       "                       max_depth=8, max_features='sqrt', oob_score=True)"
      ]
     },
     "execution_count": 46,
     "metadata": {},
     "output_type": "execute_result"
    }
   ],
   "source": [
    "rfc = RandomForestClassifier(class_weight='balanced',bootstrap=True,criterion='entropy',\\\n",
    "                             max_depth=8,max_features='sqrt',n_estimators=100,oob_score=True)\n",
    "rfc.fit(X,y)"
   ]
  },
  {
   "cell_type": "code",
   "execution_count": 47,
   "id": "877a2b7a",
   "metadata": {
    "execution": {
     "iopub.execute_input": "2022-07-20T03:14:38.082799Z",
     "iopub.status.busy": "2022-07-20T03:14:38.082383Z",
     "iopub.status.idle": "2022-07-20T03:14:38.113990Z",
     "shell.execute_reply": "2022-07-20T03:14:38.113062Z"
    },
    "papermill": {
     "duration": 0.060231,
     "end_time": "2022-07-20T03:14:38.116519",
     "exception": false,
     "start_time": "2022-07-20T03:14:38.056288",
     "status": "completed"
    },
    "tags": []
   },
   "outputs": [],
   "source": [
    "predictions = rfc.predict(X_submission)\n",
    "output = pd.DataFrame({'PassengerId': test.PassengerId, 'Survived': predictions})\n",
    "output.to_csv('submission.csv', index=False)"
   ]
  },
  {
   "cell_type": "code",
   "execution_count": null,
   "id": "b8af791e",
   "metadata": {
    "papermill": {
     "duration": 0.024883,
     "end_time": "2022-07-20T03:14:38.166528",
     "exception": false,
     "start_time": "2022-07-20T03:14:38.141645",
     "status": "completed"
    },
    "tags": []
   },
   "outputs": [],
   "source": []
  }
 ],
 "metadata": {
  "kernelspec": {
   "display_name": "Python 3",
   "language": "python",
   "name": "python3"
  },
  "language_info": {
   "codemirror_mode": {
    "name": "ipython",
    "version": 3
   },
   "file_extension": ".py",
   "mimetype": "text/x-python",
   "name": "python",
   "nbconvert_exporter": "python",
   "pygments_lexer": "ipython3",
   "version": "3.7.12"
  },
  "papermill": {
   "default_parameters": {},
   "duration": 25.818664,
   "end_time": "2022-07-20T03:14:40.374205",
   "environment_variables": {},
   "exception": null,
   "input_path": "__notebook__.ipynb",
   "output_path": "__notebook__.ipynb",
   "parameters": {},
   "start_time": "2022-07-20T03:14:14.555541",
   "version": "2.3.4"
  }
 },
 "nbformat": 4,
 "nbformat_minor": 5
}
