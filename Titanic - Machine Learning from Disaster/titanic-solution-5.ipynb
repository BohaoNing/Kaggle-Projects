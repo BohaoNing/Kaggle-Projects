{
 "cells": [
  {
   "cell_type": "markdown",
   "id": "8df5bf67",
   "metadata": {
    "papermill": {
     "duration": 0.015443,
     "end_time": "2022-07-20T03:17:35.321478",
     "exception": false,
     "start_time": "2022-07-20T03:17:35.306035",
     "status": "completed"
    },
    "tags": []
   },
   "source": [
    "### This solution is based on ideas of [Gunes Evitan](https://www.kaggle.com/gunesevitan) and [Amer Wafiy](https://www.kaggle.com/amerwafiy)"
   ]
  },
  {
   "cell_type": "markdown",
   "id": "b3c34f3b",
   "metadata": {
    "papermill": {
     "duration": 0.01316,
     "end_time": "2022-07-20T03:17:35.348456",
     "exception": false,
     "start_time": "2022-07-20T03:17:35.335296",
     "status": "completed"
    },
    "tags": []
   },
   "source": [
    "# Imports"
   ]
  },
  {
   "cell_type": "code",
   "execution_count": 1,
   "id": "43064723",
   "metadata": {
    "_cell_guid": "b1076dfc-b9ad-4769-8c92-a6c4dae69d19",
    "_uuid": "8f2839f25d086af736a60e9eeb907d3b93b6e0e5",
    "execution": {
     "iopub.execute_input": "2022-07-20T03:17:35.377970Z",
     "iopub.status.busy": "2022-07-20T03:17:35.377506Z",
     "iopub.status.idle": "2022-07-20T03:17:36.642557Z",
     "shell.execute_reply": "2022-07-20T03:17:36.640677Z"
    },
    "papermill": {
     "duration": 1.283858,
     "end_time": "2022-07-20T03:17:36.646113",
     "exception": false,
     "start_time": "2022-07-20T03:17:35.362255",
     "status": "completed"
    },
    "tags": []
   },
   "outputs": [
    {
     "name": "stdout",
     "output_type": "stream",
     "text": [
      "/kaggle/input/titanic/train.csv\n",
      "/kaggle/input/titanic/test.csv\n",
      "/kaggle/input/titanic/gender_submission.csv\n"
     ]
    }
   ],
   "source": [
    "# This Python 3 environment comes with many helpful analytics libraries installed\n",
    "# It is defined by the kaggle/python Docker image: https://github.com/kaggle/docker-python\n",
    "# For example, here's several helpful packages to load\n",
    "\n",
    "import numpy as np # linear algebra\n",
    "import pandas as pd # data processing, CSV file I/O (e.g. pd.read_csv)\n",
    "\n",
    "import matplotlib.pyplot as plt\n",
    "import seaborn as sns\n",
    "sns.set(style=\"darkgrid\")\n",
    "\n",
    "# Input data files are available in the read-only \"../input/\" directory\n",
    "# For example, running this (by clicking run or pressing Shift+Enter) will list all files under the input directory\n",
    "\n",
    "import os\n",
    "for dirname, _, filenames in os.walk('/kaggle/input'):\n",
    "    for filename in filenames:\n",
    "        print(os.path.join(dirname, filename))\n",
    "\n",
    "# You can write up to 20GB to the current directory (/kaggle/working/) that gets preserved as output when you create a version using \"Save & Run All\" \n",
    "# You can also write temporary files to /kaggle/temp/, but they won't be saved outside of the current session"
   ]
  },
  {
   "cell_type": "code",
   "execution_count": 2,
   "id": "771333af",
   "metadata": {
    "execution": {
     "iopub.execute_input": "2022-07-20T03:17:36.678982Z",
     "iopub.status.busy": "2022-07-20T03:17:36.677614Z",
     "iopub.status.idle": "2022-07-20T03:17:36.714556Z",
     "shell.execute_reply": "2022-07-20T03:17:36.713409Z"
    },
    "papermill": {
     "duration": 0.055788,
     "end_time": "2022-07-20T03:17:36.717286",
     "exception": false,
     "start_time": "2022-07-20T03:17:36.661498",
     "status": "completed"
    },
    "tags": []
   },
   "outputs": [],
   "source": [
    "# Data Input\n",
    "train = pd.read_csv('/kaggle/input/titanic/train.csv')\n",
    "test = pd.read_csv('/kaggle/input/titanic/test.csv')\n",
    "sub_example = pd.read_csv('/kaggle/input/titanic/gender_submission.csv')"
   ]
  },
  {
   "cell_type": "code",
   "execution_count": 3,
   "id": "9c9f06e9",
   "metadata": {
    "execution": {
     "iopub.execute_input": "2022-07-20T03:17:36.746468Z",
     "iopub.status.busy": "2022-07-20T03:17:36.745670Z",
     "iopub.status.idle": "2022-07-20T03:17:36.776804Z",
     "shell.execute_reply": "2022-07-20T03:17:36.775875Z"
    },
    "papermill": {
     "duration": 0.04823,
     "end_time": "2022-07-20T03:17:36.779141",
     "exception": false,
     "start_time": "2022-07-20T03:17:36.730911",
     "status": "completed"
    },
    "tags": []
   },
   "outputs": [
    {
     "data": {
      "text/html": [
       "<div>\n",
       "<style scoped>\n",
       "    .dataframe tbody tr th:only-of-type {\n",
       "        vertical-align: middle;\n",
       "    }\n",
       "\n",
       "    .dataframe tbody tr th {\n",
       "        vertical-align: top;\n",
       "    }\n",
       "\n",
       "    .dataframe thead th {\n",
       "        text-align: right;\n",
       "    }\n",
       "</style>\n",
       "<table border=\"1\" class=\"dataframe\">\n",
       "  <thead>\n",
       "    <tr style=\"text-align: right;\">\n",
       "      <th></th>\n",
       "      <th>PassengerId</th>\n",
       "      <th>Survived</th>\n",
       "      <th>Pclass</th>\n",
       "      <th>Name</th>\n",
       "      <th>Sex</th>\n",
       "      <th>Age</th>\n",
       "      <th>SibSp</th>\n",
       "      <th>Parch</th>\n",
       "      <th>Ticket</th>\n",
       "      <th>Fare</th>\n",
       "      <th>Cabin</th>\n",
       "      <th>Embarked</th>\n",
       "    </tr>\n",
       "  </thead>\n",
       "  <tbody>\n",
       "    <tr>\n",
       "      <th>271</th>\n",
       "      <td>272</td>\n",
       "      <td>1</td>\n",
       "      <td>3</td>\n",
       "      <td>Tornquist, Mr. William Henry</td>\n",
       "      <td>male</td>\n",
       "      <td>25.0</td>\n",
       "      <td>0</td>\n",
       "      <td>0</td>\n",
       "      <td>LINE</td>\n",
       "      <td>0.0000</td>\n",
       "      <td>NaN</td>\n",
       "      <td>S</td>\n",
       "    </tr>\n",
       "    <tr>\n",
       "      <th>715</th>\n",
       "      <td>716</td>\n",
       "      <td>0</td>\n",
       "      <td>3</td>\n",
       "      <td>Soholt, Mr. Peter Andreas Lauritz Andersen</td>\n",
       "      <td>male</td>\n",
       "      <td>19.0</td>\n",
       "      <td>0</td>\n",
       "      <td>0</td>\n",
       "      <td>348124</td>\n",
       "      <td>7.6500</td>\n",
       "      <td>F G73</td>\n",
       "      <td>S</td>\n",
       "    </tr>\n",
       "    <tr>\n",
       "      <th>802</th>\n",
       "      <td>803</td>\n",
       "      <td>1</td>\n",
       "      <td>1</td>\n",
       "      <td>Carter, Master. William Thornton II</td>\n",
       "      <td>male</td>\n",
       "      <td>11.0</td>\n",
       "      <td>1</td>\n",
       "      <td>2</td>\n",
       "      <td>113760</td>\n",
       "      <td>120.0000</td>\n",
       "      <td>B96 B98</td>\n",
       "      <td>S</td>\n",
       "    </tr>\n",
       "    <tr>\n",
       "      <th>467</th>\n",
       "      <td>468</td>\n",
       "      <td>0</td>\n",
       "      <td>1</td>\n",
       "      <td>Smart, Mr. John Montgomery</td>\n",
       "      <td>male</td>\n",
       "      <td>56.0</td>\n",
       "      <td>0</td>\n",
       "      <td>0</td>\n",
       "      <td>113792</td>\n",
       "      <td>26.5500</td>\n",
       "      <td>NaN</td>\n",
       "      <td>S</td>\n",
       "    </tr>\n",
       "    <tr>\n",
       "      <th>762</th>\n",
       "      <td>763</td>\n",
       "      <td>1</td>\n",
       "      <td>3</td>\n",
       "      <td>Barah, Mr. Hanna Assi</td>\n",
       "      <td>male</td>\n",
       "      <td>20.0</td>\n",
       "      <td>0</td>\n",
       "      <td>0</td>\n",
       "      <td>2663</td>\n",
       "      <td>7.2292</td>\n",
       "      <td>NaN</td>\n",
       "      <td>C</td>\n",
       "    </tr>\n",
       "  </tbody>\n",
       "</table>\n",
       "</div>"
      ],
      "text/plain": [
       "     PassengerId  Survived  Pclass  \\\n",
       "271          272         1       3   \n",
       "715          716         0       3   \n",
       "802          803         1       1   \n",
       "467          468         0       1   \n",
       "762          763         1       3   \n",
       "\n",
       "                                           Name   Sex   Age  SibSp  Parch  \\\n",
       "271                Tornquist, Mr. William Henry  male  25.0      0      0   \n",
       "715  Soholt, Mr. Peter Andreas Lauritz Andersen  male  19.0      0      0   \n",
       "802         Carter, Master. William Thornton II  male  11.0      1      2   \n",
       "467                  Smart, Mr. John Montgomery  male  56.0      0      0   \n",
       "762                       Barah, Mr. Hanna Assi  male  20.0      0      0   \n",
       "\n",
       "     Ticket      Fare    Cabin Embarked  \n",
       "271    LINE    0.0000      NaN        S  \n",
       "715  348124    7.6500    F G73        S  \n",
       "802  113760  120.0000  B96 B98        S  \n",
       "467  113792   26.5500      NaN        S  \n",
       "762    2663    7.2292      NaN        C  "
      ]
     },
     "execution_count": 3,
     "metadata": {},
     "output_type": "execute_result"
    }
   ],
   "source": [
    "train.sample(5)"
   ]
  },
  {
   "cell_type": "code",
   "execution_count": 4,
   "id": "daefc478",
   "metadata": {
    "execution": {
     "iopub.execute_input": "2022-07-20T03:17:36.809775Z",
     "iopub.status.busy": "2022-07-20T03:17:36.809117Z",
     "iopub.status.idle": "2022-07-20T03:17:36.825866Z",
     "shell.execute_reply": "2022-07-20T03:17:36.824620Z"
    },
    "papermill": {
     "duration": 0.035127,
     "end_time": "2022-07-20T03:17:36.828273",
     "exception": false,
     "start_time": "2022-07-20T03:17:36.793146",
     "status": "completed"
    },
    "tags": []
   },
   "outputs": [
    {
     "data": {
      "text/html": [
       "<div>\n",
       "<style scoped>\n",
       "    .dataframe tbody tr th:only-of-type {\n",
       "        vertical-align: middle;\n",
       "    }\n",
       "\n",
       "    .dataframe tbody tr th {\n",
       "        vertical-align: top;\n",
       "    }\n",
       "\n",
       "    .dataframe thead th {\n",
       "        text-align: right;\n",
       "    }\n",
       "</style>\n",
       "<table border=\"1\" class=\"dataframe\">\n",
       "  <thead>\n",
       "    <tr style=\"text-align: right;\">\n",
       "      <th></th>\n",
       "      <th>PassengerId</th>\n",
       "      <th>Pclass</th>\n",
       "      <th>Name</th>\n",
       "      <th>Sex</th>\n",
       "      <th>Age</th>\n",
       "      <th>SibSp</th>\n",
       "      <th>Parch</th>\n",
       "      <th>Ticket</th>\n",
       "      <th>Fare</th>\n",
       "      <th>Cabin</th>\n",
       "      <th>Embarked</th>\n",
       "    </tr>\n",
       "  </thead>\n",
       "  <tbody>\n",
       "    <tr>\n",
       "      <th>101</th>\n",
       "      <td>993</td>\n",
       "      <td>2</td>\n",
       "      <td>Weisz, Mr. Leopold</td>\n",
       "      <td>male</td>\n",
       "      <td>27.0</td>\n",
       "      <td>1</td>\n",
       "      <td>0</td>\n",
       "      <td>228414</td>\n",
       "      <td>26.0000</td>\n",
       "      <td>NaN</td>\n",
       "      <td>S</td>\n",
       "    </tr>\n",
       "    <tr>\n",
       "      <th>59</th>\n",
       "      <td>951</td>\n",
       "      <td>1</td>\n",
       "      <td>Chaudanson, Miss. Victorine</td>\n",
       "      <td>female</td>\n",
       "      <td>36.0</td>\n",
       "      <td>0</td>\n",
       "      <td>0</td>\n",
       "      <td>PC 17608</td>\n",
       "      <td>262.3750</td>\n",
       "      <td>B61</td>\n",
       "      <td>C</td>\n",
       "    </tr>\n",
       "    <tr>\n",
       "      <th>134</th>\n",
       "      <td>1026</td>\n",
       "      <td>3</td>\n",
       "      <td>Dintcheff, Mr. Valtcho</td>\n",
       "      <td>male</td>\n",
       "      <td>43.0</td>\n",
       "      <td>0</td>\n",
       "      <td>0</td>\n",
       "      <td>349226</td>\n",
       "      <td>7.8958</td>\n",
       "      <td>NaN</td>\n",
       "      <td>S</td>\n",
       "    </tr>\n",
       "    <tr>\n",
       "      <th>116</th>\n",
       "      <td>1008</td>\n",
       "      <td>3</td>\n",
       "      <td>Thomas, Mr. John</td>\n",
       "      <td>male</td>\n",
       "      <td>NaN</td>\n",
       "      <td>0</td>\n",
       "      <td>0</td>\n",
       "      <td>2681</td>\n",
       "      <td>6.4375</td>\n",
       "      <td>NaN</td>\n",
       "      <td>C</td>\n",
       "    </tr>\n",
       "    <tr>\n",
       "      <th>200</th>\n",
       "      <td>1092</td>\n",
       "      <td>3</td>\n",
       "      <td>Murphy, Miss. Nora</td>\n",
       "      <td>female</td>\n",
       "      <td>NaN</td>\n",
       "      <td>0</td>\n",
       "      <td>0</td>\n",
       "      <td>36568</td>\n",
       "      <td>15.5000</td>\n",
       "      <td>NaN</td>\n",
       "      <td>Q</td>\n",
       "    </tr>\n",
       "  </tbody>\n",
       "</table>\n",
       "</div>"
      ],
      "text/plain": [
       "     PassengerId  Pclass                         Name     Sex   Age  SibSp  \\\n",
       "101          993       2           Weisz, Mr. Leopold    male  27.0      1   \n",
       "59           951       1  Chaudanson, Miss. Victorine  female  36.0      0   \n",
       "134         1026       3       Dintcheff, Mr. Valtcho    male  43.0      0   \n",
       "116         1008       3             Thomas, Mr. John    male   NaN      0   \n",
       "200         1092       3           Murphy, Miss. Nora  female   NaN      0   \n",
       "\n",
       "     Parch    Ticket      Fare Cabin Embarked  \n",
       "101      0    228414   26.0000   NaN        S  \n",
       "59       0  PC 17608  262.3750   B61        C  \n",
       "134      0    349226    7.8958   NaN        S  \n",
       "116      0      2681    6.4375   NaN        C  \n",
       "200      0     36568   15.5000   NaN        Q  "
      ]
     },
     "execution_count": 4,
     "metadata": {},
     "output_type": "execute_result"
    }
   ],
   "source": [
    "test.sample(5)"
   ]
  },
  {
   "cell_type": "code",
   "execution_count": 5,
   "id": "032f0074",
   "metadata": {
    "execution": {
     "iopub.execute_input": "2022-07-20T03:17:36.858600Z",
     "iopub.status.busy": "2022-07-20T03:17:36.858193Z",
     "iopub.status.idle": "2022-07-20T03:17:36.899474Z",
     "shell.execute_reply": "2022-07-20T03:17:36.898664Z"
    },
    "papermill": {
     "duration": 0.059279,
     "end_time": "2022-07-20T03:17:36.901879",
     "exception": false,
     "start_time": "2022-07-20T03:17:36.842600",
     "status": "completed"
    },
    "tags": []
   },
   "outputs": [
    {
     "data": {
      "text/html": [
       "<div>\n",
       "<style scoped>\n",
       "    .dataframe tbody tr th:only-of-type {\n",
       "        vertical-align: middle;\n",
       "    }\n",
       "\n",
       "    .dataframe tbody tr th {\n",
       "        vertical-align: top;\n",
       "    }\n",
       "\n",
       "    .dataframe thead th {\n",
       "        text-align: right;\n",
       "    }\n",
       "</style>\n",
       "<table border=\"1\" class=\"dataframe\">\n",
       "  <thead>\n",
       "    <tr style=\"text-align: right;\">\n",
       "      <th></th>\n",
       "      <th>PassengerId</th>\n",
       "      <th>Survived</th>\n",
       "      <th>Pclass</th>\n",
       "      <th>Age</th>\n",
       "      <th>SibSp</th>\n",
       "      <th>Parch</th>\n",
       "      <th>Fare</th>\n",
       "    </tr>\n",
       "  </thead>\n",
       "  <tbody>\n",
       "    <tr>\n",
       "      <th>count</th>\n",
       "      <td>891.000000</td>\n",
       "      <td>891.000000</td>\n",
       "      <td>891.000000</td>\n",
       "      <td>714.000000</td>\n",
       "      <td>891.000000</td>\n",
       "      <td>891.000000</td>\n",
       "      <td>891.000000</td>\n",
       "    </tr>\n",
       "    <tr>\n",
       "      <th>mean</th>\n",
       "      <td>446.000000</td>\n",
       "      <td>0.383838</td>\n",
       "      <td>2.308642</td>\n",
       "      <td>29.699118</td>\n",
       "      <td>0.523008</td>\n",
       "      <td>0.381594</td>\n",
       "      <td>32.204208</td>\n",
       "    </tr>\n",
       "    <tr>\n",
       "      <th>std</th>\n",
       "      <td>257.353842</td>\n",
       "      <td>0.486592</td>\n",
       "      <td>0.836071</td>\n",
       "      <td>14.526497</td>\n",
       "      <td>1.102743</td>\n",
       "      <td>0.806057</td>\n",
       "      <td>49.693429</td>\n",
       "    </tr>\n",
       "    <tr>\n",
       "      <th>min</th>\n",
       "      <td>1.000000</td>\n",
       "      <td>0.000000</td>\n",
       "      <td>1.000000</td>\n",
       "      <td>0.420000</td>\n",
       "      <td>0.000000</td>\n",
       "      <td>0.000000</td>\n",
       "      <td>0.000000</td>\n",
       "    </tr>\n",
       "    <tr>\n",
       "      <th>25%</th>\n",
       "      <td>223.500000</td>\n",
       "      <td>0.000000</td>\n",
       "      <td>2.000000</td>\n",
       "      <td>20.125000</td>\n",
       "      <td>0.000000</td>\n",
       "      <td>0.000000</td>\n",
       "      <td>7.910400</td>\n",
       "    </tr>\n",
       "    <tr>\n",
       "      <th>50%</th>\n",
       "      <td>446.000000</td>\n",
       "      <td>0.000000</td>\n",
       "      <td>3.000000</td>\n",
       "      <td>28.000000</td>\n",
       "      <td>0.000000</td>\n",
       "      <td>0.000000</td>\n",
       "      <td>14.454200</td>\n",
       "    </tr>\n",
       "    <tr>\n",
       "      <th>75%</th>\n",
       "      <td>668.500000</td>\n",
       "      <td>1.000000</td>\n",
       "      <td>3.000000</td>\n",
       "      <td>38.000000</td>\n",
       "      <td>1.000000</td>\n",
       "      <td>0.000000</td>\n",
       "      <td>31.000000</td>\n",
       "    </tr>\n",
       "    <tr>\n",
       "      <th>max</th>\n",
       "      <td>891.000000</td>\n",
       "      <td>1.000000</td>\n",
       "      <td>3.000000</td>\n",
       "      <td>80.000000</td>\n",
       "      <td>8.000000</td>\n",
       "      <td>6.000000</td>\n",
       "      <td>512.329200</td>\n",
       "    </tr>\n",
       "  </tbody>\n",
       "</table>\n",
       "</div>"
      ],
      "text/plain": [
       "       PassengerId    Survived      Pclass         Age       SibSp  \\\n",
       "count   891.000000  891.000000  891.000000  714.000000  891.000000   \n",
       "mean    446.000000    0.383838    2.308642   29.699118    0.523008   \n",
       "std     257.353842    0.486592    0.836071   14.526497    1.102743   \n",
       "min       1.000000    0.000000    1.000000    0.420000    0.000000   \n",
       "25%     223.500000    0.000000    2.000000   20.125000    0.000000   \n",
       "50%     446.000000    0.000000    3.000000   28.000000    0.000000   \n",
       "75%     668.500000    1.000000    3.000000   38.000000    1.000000   \n",
       "max     891.000000    1.000000    3.000000   80.000000    8.000000   \n",
       "\n",
       "            Parch        Fare  \n",
       "count  891.000000  891.000000  \n",
       "mean     0.381594   32.204208  \n",
       "std      0.806057   49.693429  \n",
       "min      0.000000    0.000000  \n",
       "25%      0.000000    7.910400  \n",
       "50%      0.000000   14.454200  \n",
       "75%      0.000000   31.000000  \n",
       "max      6.000000  512.329200  "
      ]
     },
     "execution_count": 5,
     "metadata": {},
     "output_type": "execute_result"
    }
   ],
   "source": [
    "train.describe()"
   ]
  },
  {
   "cell_type": "code",
   "execution_count": 6,
   "id": "11851f80",
   "metadata": {
    "execution": {
     "iopub.execute_input": "2022-07-20T03:17:36.935052Z",
     "iopub.status.busy": "2022-07-20T03:17:36.934079Z",
     "iopub.status.idle": "2022-07-20T03:17:36.955640Z",
     "shell.execute_reply": "2022-07-20T03:17:36.954784Z"
    },
    "papermill": {
     "duration": 0.039103,
     "end_time": "2022-07-20T03:17:36.957652",
     "exception": false,
     "start_time": "2022-07-20T03:17:36.918549",
     "status": "completed"
    },
    "tags": []
   },
   "outputs": [
    {
     "data": {
      "text/html": [
       "<div>\n",
       "<style scoped>\n",
       "    .dataframe tbody tr th:only-of-type {\n",
       "        vertical-align: middle;\n",
       "    }\n",
       "\n",
       "    .dataframe tbody tr th {\n",
       "        vertical-align: top;\n",
       "    }\n",
       "\n",
       "    .dataframe thead th {\n",
       "        text-align: right;\n",
       "    }\n",
       "</style>\n",
       "<table border=\"1\" class=\"dataframe\">\n",
       "  <thead>\n",
       "    <tr style=\"text-align: right;\">\n",
       "      <th></th>\n",
       "      <th>Name</th>\n",
       "      <th>Sex</th>\n",
       "      <th>Ticket</th>\n",
       "      <th>Cabin</th>\n",
       "      <th>Embarked</th>\n",
       "    </tr>\n",
       "  </thead>\n",
       "  <tbody>\n",
       "    <tr>\n",
       "      <th>count</th>\n",
       "      <td>891</td>\n",
       "      <td>891</td>\n",
       "      <td>891</td>\n",
       "      <td>204</td>\n",
       "      <td>889</td>\n",
       "    </tr>\n",
       "    <tr>\n",
       "      <th>unique</th>\n",
       "      <td>891</td>\n",
       "      <td>2</td>\n",
       "      <td>681</td>\n",
       "      <td>147</td>\n",
       "      <td>3</td>\n",
       "    </tr>\n",
       "    <tr>\n",
       "      <th>top</th>\n",
       "      <td>Braund, Mr. Owen Harris</td>\n",
       "      <td>male</td>\n",
       "      <td>347082</td>\n",
       "      <td>B96 B98</td>\n",
       "      <td>S</td>\n",
       "    </tr>\n",
       "    <tr>\n",
       "      <th>freq</th>\n",
       "      <td>1</td>\n",
       "      <td>577</td>\n",
       "      <td>7</td>\n",
       "      <td>4</td>\n",
       "      <td>644</td>\n",
       "    </tr>\n",
       "  </tbody>\n",
       "</table>\n",
       "</div>"
      ],
      "text/plain": [
       "                           Name   Sex  Ticket    Cabin Embarked\n",
       "count                       891   891     891      204      889\n",
       "unique                      891     2     681      147        3\n",
       "top     Braund, Mr. Owen Harris  male  347082  B96 B98        S\n",
       "freq                          1   577       7        4      644"
      ]
     },
     "execution_count": 6,
     "metadata": {},
     "output_type": "execute_result"
    }
   ],
   "source": [
    "train.describe(include=['O'])"
   ]
  },
  {
   "cell_type": "code",
   "execution_count": 7,
   "id": "d79e54e5",
   "metadata": {
    "execution": {
     "iopub.execute_input": "2022-07-20T03:17:36.988779Z",
     "iopub.status.busy": "2022-07-20T03:17:36.988038Z",
     "iopub.status.idle": "2022-07-20T03:17:37.015831Z",
     "shell.execute_reply": "2022-07-20T03:17:37.014912Z"
    },
    "papermill": {
     "duration": 0.046087,
     "end_time": "2022-07-20T03:17:37.018231",
     "exception": false,
     "start_time": "2022-07-20T03:17:36.972144",
     "status": "completed"
    },
    "tags": []
   },
   "outputs": [
    {
     "data": {
      "text/html": [
       "<div>\n",
       "<style scoped>\n",
       "    .dataframe tbody tr th:only-of-type {\n",
       "        vertical-align: middle;\n",
       "    }\n",
       "\n",
       "    .dataframe tbody tr th {\n",
       "        vertical-align: top;\n",
       "    }\n",
       "\n",
       "    .dataframe thead th {\n",
       "        text-align: right;\n",
       "    }\n",
       "</style>\n",
       "<table border=\"1\" class=\"dataframe\">\n",
       "  <thead>\n",
       "    <tr style=\"text-align: right;\">\n",
       "      <th></th>\n",
       "      <th>PassengerId</th>\n",
       "      <th>Pclass</th>\n",
       "      <th>Age</th>\n",
       "      <th>SibSp</th>\n",
       "      <th>Parch</th>\n",
       "      <th>Fare</th>\n",
       "    </tr>\n",
       "  </thead>\n",
       "  <tbody>\n",
       "    <tr>\n",
       "      <th>count</th>\n",
       "      <td>418.000000</td>\n",
       "      <td>418.000000</td>\n",
       "      <td>332.000000</td>\n",
       "      <td>418.000000</td>\n",
       "      <td>418.000000</td>\n",
       "      <td>417.000000</td>\n",
       "    </tr>\n",
       "    <tr>\n",
       "      <th>mean</th>\n",
       "      <td>1100.500000</td>\n",
       "      <td>2.265550</td>\n",
       "      <td>30.272590</td>\n",
       "      <td>0.447368</td>\n",
       "      <td>0.392344</td>\n",
       "      <td>35.627188</td>\n",
       "    </tr>\n",
       "    <tr>\n",
       "      <th>std</th>\n",
       "      <td>120.810458</td>\n",
       "      <td>0.841838</td>\n",
       "      <td>14.181209</td>\n",
       "      <td>0.896760</td>\n",
       "      <td>0.981429</td>\n",
       "      <td>55.907576</td>\n",
       "    </tr>\n",
       "    <tr>\n",
       "      <th>min</th>\n",
       "      <td>892.000000</td>\n",
       "      <td>1.000000</td>\n",
       "      <td>0.170000</td>\n",
       "      <td>0.000000</td>\n",
       "      <td>0.000000</td>\n",
       "      <td>0.000000</td>\n",
       "    </tr>\n",
       "    <tr>\n",
       "      <th>25%</th>\n",
       "      <td>996.250000</td>\n",
       "      <td>1.000000</td>\n",
       "      <td>21.000000</td>\n",
       "      <td>0.000000</td>\n",
       "      <td>0.000000</td>\n",
       "      <td>7.895800</td>\n",
       "    </tr>\n",
       "    <tr>\n",
       "      <th>50%</th>\n",
       "      <td>1100.500000</td>\n",
       "      <td>3.000000</td>\n",
       "      <td>27.000000</td>\n",
       "      <td>0.000000</td>\n",
       "      <td>0.000000</td>\n",
       "      <td>14.454200</td>\n",
       "    </tr>\n",
       "    <tr>\n",
       "      <th>75%</th>\n",
       "      <td>1204.750000</td>\n",
       "      <td>3.000000</td>\n",
       "      <td>39.000000</td>\n",
       "      <td>1.000000</td>\n",
       "      <td>0.000000</td>\n",
       "      <td>31.500000</td>\n",
       "    </tr>\n",
       "    <tr>\n",
       "      <th>max</th>\n",
       "      <td>1309.000000</td>\n",
       "      <td>3.000000</td>\n",
       "      <td>76.000000</td>\n",
       "      <td>8.000000</td>\n",
       "      <td>9.000000</td>\n",
       "      <td>512.329200</td>\n",
       "    </tr>\n",
       "  </tbody>\n",
       "</table>\n",
       "</div>"
      ],
      "text/plain": [
       "       PassengerId      Pclass         Age       SibSp       Parch        Fare\n",
       "count   418.000000  418.000000  332.000000  418.000000  418.000000  417.000000\n",
       "mean   1100.500000    2.265550   30.272590    0.447368    0.392344   35.627188\n",
       "std     120.810458    0.841838   14.181209    0.896760    0.981429   55.907576\n",
       "min     892.000000    1.000000    0.170000    0.000000    0.000000    0.000000\n",
       "25%     996.250000    1.000000   21.000000    0.000000    0.000000    7.895800\n",
       "50%    1100.500000    3.000000   27.000000    0.000000    0.000000   14.454200\n",
       "75%    1204.750000    3.000000   39.000000    1.000000    0.000000   31.500000\n",
       "max    1309.000000    3.000000   76.000000    8.000000    9.000000  512.329200"
      ]
     },
     "execution_count": 7,
     "metadata": {},
     "output_type": "execute_result"
    }
   ],
   "source": [
    "test.describe()"
   ]
  },
  {
   "cell_type": "code",
   "execution_count": 8,
   "id": "9edfdf95",
   "metadata": {
    "execution": {
     "iopub.execute_input": "2022-07-20T03:17:37.050425Z",
     "iopub.status.busy": "2022-07-20T03:17:37.049613Z",
     "iopub.status.idle": "2022-07-20T03:17:37.070772Z",
     "shell.execute_reply": "2022-07-20T03:17:37.069546Z"
    },
    "papermill": {
     "duration": 0.040177,
     "end_time": "2022-07-20T03:17:37.073434",
     "exception": false,
     "start_time": "2022-07-20T03:17:37.033257",
     "status": "completed"
    },
    "tags": []
   },
   "outputs": [
    {
     "data": {
      "text/html": [
       "<div>\n",
       "<style scoped>\n",
       "    .dataframe tbody tr th:only-of-type {\n",
       "        vertical-align: middle;\n",
       "    }\n",
       "\n",
       "    .dataframe tbody tr th {\n",
       "        vertical-align: top;\n",
       "    }\n",
       "\n",
       "    .dataframe thead th {\n",
       "        text-align: right;\n",
       "    }\n",
       "</style>\n",
       "<table border=\"1\" class=\"dataframe\">\n",
       "  <thead>\n",
       "    <tr style=\"text-align: right;\">\n",
       "      <th></th>\n",
       "      <th>Name</th>\n",
       "      <th>Sex</th>\n",
       "      <th>Ticket</th>\n",
       "      <th>Cabin</th>\n",
       "      <th>Embarked</th>\n",
       "    </tr>\n",
       "  </thead>\n",
       "  <tbody>\n",
       "    <tr>\n",
       "      <th>count</th>\n",
       "      <td>418</td>\n",
       "      <td>418</td>\n",
       "      <td>418</td>\n",
       "      <td>91</td>\n",
       "      <td>418</td>\n",
       "    </tr>\n",
       "    <tr>\n",
       "      <th>unique</th>\n",
       "      <td>418</td>\n",
       "      <td>2</td>\n",
       "      <td>363</td>\n",
       "      <td>76</td>\n",
       "      <td>3</td>\n",
       "    </tr>\n",
       "    <tr>\n",
       "      <th>top</th>\n",
       "      <td>Kelly, Mr. James</td>\n",
       "      <td>male</td>\n",
       "      <td>PC 17608</td>\n",
       "      <td>B57 B59 B63 B66</td>\n",
       "      <td>S</td>\n",
       "    </tr>\n",
       "    <tr>\n",
       "      <th>freq</th>\n",
       "      <td>1</td>\n",
       "      <td>266</td>\n",
       "      <td>5</td>\n",
       "      <td>3</td>\n",
       "      <td>270</td>\n",
       "    </tr>\n",
       "  </tbody>\n",
       "</table>\n",
       "</div>"
      ],
      "text/plain": [
       "                    Name   Sex    Ticket            Cabin Embarked\n",
       "count                418   418       418               91      418\n",
       "unique               418     2       363               76        3\n",
       "top     Kelly, Mr. James  male  PC 17608  B57 B59 B63 B66        S\n",
       "freq                   1   266         5                3      270"
      ]
     },
     "execution_count": 8,
     "metadata": {},
     "output_type": "execute_result"
    }
   ],
   "source": [
    "test.describe(include=['O'])"
   ]
  },
  {
   "cell_type": "code",
   "execution_count": 9,
   "id": "33c6d72e",
   "metadata": {
    "execution": {
     "iopub.execute_input": "2022-07-20T03:17:37.105871Z",
     "iopub.status.busy": "2022-07-20T03:17:37.105487Z",
     "iopub.status.idle": "2022-07-20T03:17:37.115175Z",
     "shell.execute_reply": "2022-07-20T03:17:37.114211Z"
    },
    "papermill": {
     "duration": 0.028257,
     "end_time": "2022-07-20T03:17:37.117235",
     "exception": false,
     "start_time": "2022-07-20T03:17:37.088978",
     "status": "completed"
    },
    "tags": []
   },
   "outputs": [
    {
     "data": {
      "text/plain": [
       "PassengerId      0\n",
       "Survived         0\n",
       "Pclass           0\n",
       "Name             0\n",
       "Sex              0\n",
       "Age            177\n",
       "SibSp            0\n",
       "Parch            0\n",
       "Ticket           0\n",
       "Fare             0\n",
       "Cabin          687\n",
       "Embarked         2\n",
       "dtype: int64"
      ]
     },
     "execution_count": 9,
     "metadata": {},
     "output_type": "execute_result"
    }
   ],
   "source": [
    "train.isnull().sum()"
   ]
  },
  {
   "cell_type": "code",
   "execution_count": 10,
   "id": "0671d8a6",
   "metadata": {
    "execution": {
     "iopub.execute_input": "2022-07-20T03:17:37.151701Z",
     "iopub.status.busy": "2022-07-20T03:17:37.150387Z",
     "iopub.status.idle": "2022-07-20T03:17:37.160582Z",
     "shell.execute_reply": "2022-07-20T03:17:37.159166Z"
    },
    "papermill": {
     "duration": 0.030229,
     "end_time": "2022-07-20T03:17:37.163205",
     "exception": false,
     "start_time": "2022-07-20T03:17:37.132976",
     "status": "completed"
    },
    "tags": []
   },
   "outputs": [
    {
     "data": {
      "text/plain": [
       "PassengerId      0\n",
       "Pclass           0\n",
       "Name             0\n",
       "Sex              0\n",
       "Age             86\n",
       "SibSp            0\n",
       "Parch            0\n",
       "Ticket           0\n",
       "Fare             1\n",
       "Cabin          327\n",
       "Embarked         0\n",
       "dtype: int64"
      ]
     },
     "execution_count": 10,
     "metadata": {},
     "output_type": "execute_result"
    }
   ],
   "source": [
    "test.isnull().sum()"
   ]
  },
  {
   "cell_type": "markdown",
   "id": "3a4a3889",
   "metadata": {
    "execution": {
     "iopub.execute_input": "2022-07-20T01:25:27.717306Z",
     "iopub.status.busy": "2022-07-20T01:25:27.716941Z",
     "iopub.status.idle": "2022-07-20T01:25:27.723344Z",
     "shell.execute_reply": "2022-07-20T01:25:27.722030Z",
     "shell.execute_reply.started": "2022-07-20T01:25:27.717276Z"
    },
    "papermill": {
     "duration": 0.015187,
     "end_time": "2022-07-20T03:17:37.193903",
     "exception": false,
     "start_time": "2022-07-20T03:17:37.178716",
     "status": "completed"
    },
    "tags": []
   },
   "source": [
    "# Explorative Data Analysis"
   ]
  },
  {
   "cell_type": "code",
   "execution_count": 11,
   "id": "eb04a94f",
   "metadata": {
    "execution": {
     "iopub.execute_input": "2022-07-20T03:17:37.227079Z",
     "iopub.status.busy": "2022-07-20T03:17:37.226016Z",
     "iopub.status.idle": "2022-07-20T03:17:37.244040Z",
     "shell.execute_reply": "2022-07-20T03:17:37.242730Z"
    },
    "papermill": {
     "duration": 0.03708,
     "end_time": "2022-07-20T03:17:37.246437",
     "exception": false,
     "start_time": "2022-07-20T03:17:37.209357",
     "status": "completed"
    },
    "tags": []
   },
   "outputs": [
    {
     "data": {
      "text/html": [
       "<div>\n",
       "<style scoped>\n",
       "    .dataframe tbody tr th:only-of-type {\n",
       "        vertical-align: middle;\n",
       "    }\n",
       "\n",
       "    .dataframe tbody tr th {\n",
       "        vertical-align: top;\n",
       "    }\n",
       "\n",
       "    .dataframe thead th {\n",
       "        text-align: right;\n",
       "    }\n",
       "</style>\n",
       "<table border=\"1\" class=\"dataframe\">\n",
       "  <thead>\n",
       "    <tr style=\"text-align: right;\">\n",
       "      <th></th>\n",
       "      <th>PassengerId</th>\n",
       "      <th>Survived</th>\n",
       "      <th>Pclass</th>\n",
       "      <th>Name</th>\n",
       "      <th>Sex</th>\n",
       "      <th>Age</th>\n",
       "      <th>SibSp</th>\n",
       "      <th>Parch</th>\n",
       "      <th>Ticket</th>\n",
       "      <th>Fare</th>\n",
       "      <th>Cabin</th>\n",
       "      <th>Embarked</th>\n",
       "    </tr>\n",
       "  </thead>\n",
       "  <tbody>\n",
       "    <tr>\n",
       "      <th>127</th>\n",
       "      <td>128</td>\n",
       "      <td>1</td>\n",
       "      <td>3</td>\n",
       "      <td>Madsen, Mr. Fridtjof Arne</td>\n",
       "      <td>male</td>\n",
       "      <td>24.0</td>\n",
       "      <td>0</td>\n",
       "      <td>0</td>\n",
       "      <td>C 17369</td>\n",
       "      <td>7.1417</td>\n",
       "      <td>NaN</td>\n",
       "      <td>S</td>\n",
       "    </tr>\n",
       "    <tr>\n",
       "      <th>576</th>\n",
       "      <td>577</td>\n",
       "      <td>1</td>\n",
       "      <td>2</td>\n",
       "      <td>Garside, Miss. Ethel</td>\n",
       "      <td>female</td>\n",
       "      <td>34.0</td>\n",
       "      <td>0</td>\n",
       "      <td>0</td>\n",
       "      <td>243880</td>\n",
       "      <td>13.0000</td>\n",
       "      <td>NaN</td>\n",
       "      <td>S</td>\n",
       "    </tr>\n",
       "    <tr>\n",
       "      <th>154</th>\n",
       "      <td>155</td>\n",
       "      <td>0</td>\n",
       "      <td>3</td>\n",
       "      <td>Olsen, Mr. Ole Martin</td>\n",
       "      <td>male</td>\n",
       "      <td>NaN</td>\n",
       "      <td>0</td>\n",
       "      <td>0</td>\n",
       "      <td>Fa 265302</td>\n",
       "      <td>7.3125</td>\n",
       "      <td>NaN</td>\n",
       "      <td>S</td>\n",
       "    </tr>\n",
       "    <tr>\n",
       "      <th>57</th>\n",
       "      <td>58</td>\n",
       "      <td>0</td>\n",
       "      <td>3</td>\n",
       "      <td>Novel, Mr. Mansouer</td>\n",
       "      <td>male</td>\n",
       "      <td>28.5</td>\n",
       "      <td>0</td>\n",
       "      <td>0</td>\n",
       "      <td>2697</td>\n",
       "      <td>7.2292</td>\n",
       "      <td>NaN</td>\n",
       "      <td>C</td>\n",
       "    </tr>\n",
       "    <tr>\n",
       "      <th>476</th>\n",
       "      <td>477</td>\n",
       "      <td>0</td>\n",
       "      <td>2</td>\n",
       "      <td>Renouf, Mr. Peter Henry</td>\n",
       "      <td>male</td>\n",
       "      <td>34.0</td>\n",
       "      <td>1</td>\n",
       "      <td>0</td>\n",
       "      <td>31027</td>\n",
       "      <td>21.0000</td>\n",
       "      <td>NaN</td>\n",
       "      <td>S</td>\n",
       "    </tr>\n",
       "  </tbody>\n",
       "</table>\n",
       "</div>"
      ],
      "text/plain": [
       "     PassengerId  Survived  Pclass                       Name     Sex   Age  \\\n",
       "127          128         1       3  Madsen, Mr. Fridtjof Arne    male  24.0   \n",
       "576          577         1       2       Garside, Miss. Ethel  female  34.0   \n",
       "154          155         0       3      Olsen, Mr. Ole Martin    male   NaN   \n",
       "57            58         0       3        Novel, Mr. Mansouer    male  28.5   \n",
       "476          477         0       2    Renouf, Mr. Peter Henry    male  34.0   \n",
       "\n",
       "     SibSp  Parch     Ticket     Fare Cabin Embarked  \n",
       "127      0      0    C 17369   7.1417   NaN        S  \n",
       "576      0      0     243880  13.0000   NaN        S  \n",
       "154      0      0  Fa 265302   7.3125   NaN        S  \n",
       "57       0      0       2697   7.2292   NaN        C  \n",
       "476      1      0      31027  21.0000   NaN        S  "
      ]
     },
     "execution_count": 11,
     "metadata": {},
     "output_type": "execute_result"
    }
   ],
   "source": [
    "train.sample(5)"
   ]
  },
  {
   "cell_type": "code",
   "execution_count": 12,
   "id": "4b6a6414",
   "metadata": {
    "execution": {
     "iopub.execute_input": "2022-07-20T03:17:37.279430Z",
     "iopub.status.busy": "2022-07-20T03:17:37.279016Z",
     "iopub.status.idle": "2022-07-20T03:17:37.751743Z",
     "shell.execute_reply": "2022-07-20T03:17:37.750506Z"
    },
    "papermill": {
     "duration": 0.4923,
     "end_time": "2022-07-20T03:17:37.754404",
     "exception": false,
     "start_time": "2022-07-20T03:17:37.262104",
     "status": "completed"
    },
    "tags": []
   },
   "outputs": [
    {
     "data": {
      "text/plain": [
       "<AxesSubplot:xlabel='Pclass', ylabel='Survived'>"
      ]
     },
     "execution_count": 12,
     "metadata": {},
     "output_type": "execute_result"
    },
    {
     "data": {
      "image/png": "[encoded data removed]",
      "text/plain": [
       "<Figure size 600x400 with 1 Axes>"
      ]
     },
     "metadata": {},
     "output_type": "display_data"
    }
   ],
   "source": [
    "# Pclass - 1 = 1st, 2 = 2nd, 3 = 3rd\n",
    "plt.figure(dpi=100)\n",
    "sns.barplot(x='Pclass',y='Survived',data=train,hue='Sex')"
   ]
  },
  {
   "cell_type": "code",
   "execution_count": 13,
   "id": "34665882",
   "metadata": {
    "execution": {
     "iopub.execute_input": "2022-07-20T03:17:37.790697Z",
     "iopub.status.busy": "2022-07-20T03:17:37.789920Z",
     "iopub.status.idle": "2022-07-20T03:17:38.562210Z",
     "shell.execute_reply": "2022-07-20T03:17:38.560910Z"
    },
    "papermill": {
     "duration": 0.793066,
     "end_time": "2022-07-20T03:17:38.564663",
     "exception": false,
     "start_time": "2022-07-20T03:17:37.771597",
     "status": "completed"
    },
    "tags": []
   },
   "outputs": [
    {
     "data": {
      "text/plain": [
       "<AxesSubplot:xlabel='Age', ylabel='Count'>"
      ]
     },
     "execution_count": 13,
     "metadata": {},
     "output_type": "execute_result"
    },
    {
     "data": {
      "image/png": "[encoded data removed]",
      "text/plain": [
       "<Figure size 600x400 with 1 Axes>"
      ]
     },
     "metadata": {},
     "output_type": "display_data"
    }
   ],
   "source": [
    "# Age - 0 to 76\n",
    "plt.figure(dpi=100)\n",
    "sns.histplot(data=train,x='Age',bins=100,kde=True,hue='Survived')"
   ]
  },
  {
   "cell_type": "code",
   "execution_count": 14,
   "id": "5ec16375",
   "metadata": {
    "execution": {
     "iopub.execute_input": "2022-07-20T03:17:38.601582Z",
     "iopub.status.busy": "2022-07-20T03:17:38.601143Z",
     "iopub.status.idle": "2022-07-20T03:17:39.298504Z",
     "shell.execute_reply": "2022-07-20T03:17:39.297192Z"
    },
    "papermill": {
     "duration": 0.719215,
     "end_time": "2022-07-20T03:17:39.301052",
     "exception": false,
     "start_time": "2022-07-20T03:17:38.581837",
     "status": "completed"
    },
    "tags": []
   },
   "outputs": [
    {
     "data": {
      "text/plain": [
       "<AxesSubplot:xlabel='SibSp', ylabel='Survived'>"
      ]
     },
     "execution_count": 14,
     "metadata": {},
     "output_type": "execute_result"
    },
    {
     "data": {
      "image/png": "[encoded data removed]",
      "text/plain": [
       "<Figure size 600x400 with 1 Axes>"
      ]
     },
     "metadata": {},
     "output_type": "display_data"
    }
   ],
   "source": [
    "# SibSp - number of siblings / spouses aboard the Titanic\n",
    "plt.figure(dpi=100)\n",
    "sns.barplot(x='SibSp',y='Survived',data=train,hue='Sex')"
   ]
  },
  {
   "cell_type": "code",
   "execution_count": 15,
   "id": "96e81a3e",
   "metadata": {
    "execution": {
     "iopub.execute_input": "2022-07-20T03:17:39.338824Z",
     "iopub.status.busy": "2022-07-20T03:17:39.338397Z",
     "iopub.status.idle": "2022-07-20T03:17:39.986959Z",
     "shell.execute_reply": "2022-07-20T03:17:39.985868Z"
    },
    "papermill": {
     "duration": 0.670653,
     "end_time": "2022-07-20T03:17:39.989464",
     "exception": false,
     "start_time": "2022-07-20T03:17:39.318811",
     "status": "completed"
    },
    "tags": []
   },
   "outputs": [
    {
     "data": {
      "text/plain": [
       "<AxesSubplot:xlabel='Parch', ylabel='Survived'>"
      ]
     },
     "execution_count": 15,
     "metadata": {},
     "output_type": "execute_result"
    },
    {
     "data": {
      "image/png": "[encoded data removed]",
      "text/plain": [
       "<Figure size 600x400 with 1 Axes>"
      ]
     },
     "metadata": {},
     "output_type": "display_data"
    }
   ],
   "source": [
    "# Parch - number of parents / children aboard the Titanic\n",
    "plt.figure(dpi=100)\n",
    "sns.barplot(x='Parch',y='Survived',data=train,hue='Sex')"
   ]
  },
  {
   "cell_type": "code",
   "execution_count": 16,
   "id": "01baba1e",
   "metadata": {
    "execution": {
     "iopub.execute_input": "2022-07-20T03:17:40.027813Z",
     "iopub.status.busy": "2022-07-20T03:17:40.027439Z",
     "iopub.status.idle": "2022-07-20T03:17:40.720739Z",
     "shell.execute_reply": "2022-07-20T03:17:40.719421Z"
    },
    "papermill": {
     "duration": 0.715592,
     "end_time": "2022-07-20T03:17:40.723326",
     "exception": false,
     "start_time": "2022-07-20T03:17:40.007734",
     "status": "completed"
    },
    "tags": []
   },
   "outputs": [
    {
     "data": {
      "text/plain": [
       "<AxesSubplot:xlabel='Fare', ylabel='Count'>"
      ]
     },
     "execution_count": 16,
     "metadata": {},
     "output_type": "execute_result"
    },
    {
     "data": {
      "image/png": "[encoded data removed]",
      "text/plain": [
       "<Figure size 600x400 with 1 Axes>"
      ]
     },
     "metadata": {},
     "output_type": "display_data"
    }
   ],
   "source": [
    "# Fare - 0 to 512\n",
    "plt.figure(dpi=100)\n",
    "sns.histplot(data=train,x='Fare',bins=100,kde=True,hue='Survived')"
   ]
  },
  {
   "cell_type": "code",
   "execution_count": 17,
   "id": "f363c0f2",
   "metadata": {
    "execution": {
     "iopub.execute_input": "2022-07-20T03:17:40.765079Z",
     "iopub.status.busy": "2022-07-20T03:17:40.764670Z",
     "iopub.status.idle": "2022-07-20T03:17:41.158329Z",
     "shell.execute_reply": "2022-07-20T03:17:41.157418Z"
    },
    "papermill": {
     "duration": 0.417669,
     "end_time": "2022-07-20T03:17:41.160746",
     "exception": false,
     "start_time": "2022-07-20T03:17:40.743077",
     "status": "completed"
    },
    "tags": []
   },
   "outputs": [
    {
     "data": {
      "text/plain": [
       "<AxesSubplot:xlabel='Embarked', ylabel='Survived'>"
      ]
     },
     "execution_count": 17,
     "metadata": {},
     "output_type": "execute_result"
    },
    {
     "data": {
      "image/png": "[encoded data removed]",
      "text/plain": [
       "<Figure size 600x400 with 1 Axes>"
      ]
     },
     "metadata": {},
     "output_type": "display_data"
    }
   ],
   "source": [
    "# Embarked - C = Cherbourg, Q = Queenstown, S = Southampton\n",
    "plt.figure(dpi=100)\n",
    "sns.barplot(x='Embarked',y='Survived',data=train,hue='Sex')"
   ]
  },
  {
   "cell_type": "code",
   "execution_count": 18,
   "id": "1ba202a1",
   "metadata": {
    "execution": {
     "iopub.execute_input": "2022-07-20T03:17:41.202894Z",
     "iopub.status.busy": "2022-07-20T03:17:41.201709Z",
     "iopub.status.idle": "2022-07-20T03:17:41.817815Z",
     "shell.execute_reply": "2022-07-20T03:17:41.816753Z"
    },
    "papermill": {
     "duration": 0.639918,
     "end_time": "2022-07-20T03:17:41.820501",
     "exception": false,
     "start_time": "2022-07-20T03:17:41.180583",
     "status": "completed"
    },
    "tags": []
   },
   "outputs": [
    {
     "data": {
      "text/plain": [
       "<AxesSubplot:>"
      ]
     },
     "execution_count": 18,
     "metadata": {},
     "output_type": "execute_result"
    },
    {
     "data": {
      "image/png": "[encoded data removed]",
      "text/plain": [
       "<Figure size 600x400 with 2 Axes>"
      ]
     },
     "metadata": {},
     "output_type": "display_data"
    }
   ],
   "source": [
    "# Correlation between features\n",
    "plt.figure(dpi=100)\n",
    "sns.heatmap(train.corr(),linewidth=0.5,annot=True,cmap='viridis')"
   ]
  },
  {
   "cell_type": "markdown",
   "id": "ece0ff76",
   "metadata": {
    "papermill": {
     "duration": 0.021805,
     "end_time": "2022-07-20T03:17:41.864587",
     "exception": false,
     "start_time": "2022-07-20T03:17:41.842782",
     "status": "completed"
    },
    "tags": []
   },
   "source": [
    "# Feature Engineering"
   ]
  },
  {
   "cell_type": "code",
   "execution_count": 19,
   "id": "90d89d8e",
   "metadata": {
    "execution": {
     "iopub.execute_input": "2022-07-20T03:17:41.908013Z",
     "iopub.status.busy": "2022-07-20T03:17:41.907597Z",
     "iopub.status.idle": "2022-07-20T03:17:41.936755Z",
     "shell.execute_reply": "2022-07-20T03:17:41.935643Z"
    },
    "papermill": {
     "duration": 0.054625,
     "end_time": "2022-07-20T03:17:41.940124",
     "exception": false,
     "start_time": "2022-07-20T03:17:41.885499",
     "status": "completed"
    },
    "tags": []
   },
   "outputs": [
    {
     "data": {
      "text/html": [
       "<div>\n",
       "<style scoped>\n",
       "    .dataframe tbody tr th:only-of-type {\n",
       "        vertical-align: middle;\n",
       "    }\n",
       "\n",
       "    .dataframe tbody tr th {\n",
       "        vertical-align: top;\n",
       "    }\n",
       "\n",
       "    .dataframe thead th {\n",
       "        text-align: right;\n",
       "    }\n",
       "</style>\n",
       "<table border=\"1\" class=\"dataframe\">\n",
       "  <thead>\n",
       "    <tr style=\"text-align: right;\">\n",
       "      <th></th>\n",
       "      <th>PassengerId</th>\n",
       "      <th>Survived</th>\n",
       "      <th>Pclass</th>\n",
       "      <th>Name</th>\n",
       "      <th>Sex</th>\n",
       "      <th>Age</th>\n",
       "      <th>SibSp</th>\n",
       "      <th>Parch</th>\n",
       "      <th>Ticket</th>\n",
       "      <th>Fare</th>\n",
       "      <th>Cabin</th>\n",
       "      <th>Embarked</th>\n",
       "    </tr>\n",
       "  </thead>\n",
       "  <tbody>\n",
       "    <tr>\n",
       "      <th>0</th>\n",
       "      <td>1</td>\n",
       "      <td>0.0</td>\n",
       "      <td>3</td>\n",
       "      <td>Braund, Mr. Owen Harris</td>\n",
       "      <td>male</td>\n",
       "      <td>22.0</td>\n",
       "      <td>1</td>\n",
       "      <td>0</td>\n",
       "      <td>A/5 21171</td>\n",
       "      <td>7.2500</td>\n",
       "      <td>NaN</td>\n",
       "      <td>S</td>\n",
       "    </tr>\n",
       "    <tr>\n",
       "      <th>1</th>\n",
       "      <td>2</td>\n",
       "      <td>1.0</td>\n",
       "      <td>1</td>\n",
       "      <td>Cumings, Mrs. John Bradley (Florence Briggs Th...</td>\n",
       "      <td>female</td>\n",
       "      <td>38.0</td>\n",
       "      <td>1</td>\n",
       "      <td>0</td>\n",
       "      <td>PC 17599</td>\n",
       "      <td>71.2833</td>\n",
       "      <td>C85</td>\n",
       "      <td>C</td>\n",
       "    </tr>\n",
       "    <tr>\n",
       "      <th>2</th>\n",
       "      <td>3</td>\n",
       "      <td>1.0</td>\n",
       "      <td>3</td>\n",
       "      <td>Heikkinen, Miss. Laina</td>\n",
       "      <td>female</td>\n",
       "      <td>26.0</td>\n",
       "      <td>0</td>\n",
       "      <td>0</td>\n",
       "      <td>STON/O2. 3101282</td>\n",
       "      <td>7.9250</td>\n",
       "      <td>NaN</td>\n",
       "      <td>S</td>\n",
       "    </tr>\n",
       "    <tr>\n",
       "      <th>3</th>\n",
       "      <td>4</td>\n",
       "      <td>1.0</td>\n",
       "      <td>1</td>\n",
       "      <td>Futrelle, Mrs. Jacques Heath (Lily May Peel)</td>\n",
       "      <td>female</td>\n",
       "      <td>35.0</td>\n",
       "      <td>1</td>\n",
       "      <td>0</td>\n",
       "      <td>113803</td>\n",
       "      <td>53.1000</td>\n",
       "      <td>C123</td>\n",
       "      <td>S</td>\n",
       "    </tr>\n",
       "    <tr>\n",
       "      <th>4</th>\n",
       "      <td>5</td>\n",
       "      <td>0.0</td>\n",
       "      <td>3</td>\n",
       "      <td>Allen, Mr. William Henry</td>\n",
       "      <td>male</td>\n",
       "      <td>35.0</td>\n",
       "      <td>0</td>\n",
       "      <td>0</td>\n",
       "      <td>373450</td>\n",
       "      <td>8.0500</td>\n",
       "      <td>NaN</td>\n",
       "      <td>S</td>\n",
       "    </tr>\n",
       "    <tr>\n",
       "      <th>...</th>\n",
       "      <td>...</td>\n",
       "      <td>...</td>\n",
       "      <td>...</td>\n",
       "      <td>...</td>\n",
       "      <td>...</td>\n",
       "      <td>...</td>\n",
       "      <td>...</td>\n",
       "      <td>...</td>\n",
       "      <td>...</td>\n",
       "      <td>...</td>\n",
       "      <td>...</td>\n",
       "      <td>...</td>\n",
       "    </tr>\n",
       "    <tr>\n",
       "      <th>1304</th>\n",
       "      <td>1305</td>\n",
       "      <td>NaN</td>\n",
       "      <td>3</td>\n",
       "      <td>Spector, Mr. Woolf</td>\n",
       "      <td>male</td>\n",
       "      <td>NaN</td>\n",
       "      <td>0</td>\n",
       "      <td>0</td>\n",
       "      <td>A.5. 3236</td>\n",
       "      <td>8.0500</td>\n",
       "      <td>NaN</td>\n",
       "      <td>S</td>\n",
       "    </tr>\n",
       "    <tr>\n",
       "      <th>1305</th>\n",
       "      <td>1306</td>\n",
       "      <td>NaN</td>\n",
       "      <td>1</td>\n",
       "      <td>Oliva y Ocana, Dona. Fermina</td>\n",
       "      <td>female</td>\n",
       "      <td>39.0</td>\n",
       "      <td>0</td>\n",
       "      <td>0</td>\n",
       "      <td>PC 17758</td>\n",
       "      <td>108.9000</td>\n",
       "      <td>C105</td>\n",
       "      <td>C</td>\n",
       "    </tr>\n",
       "    <tr>\n",
       "      <th>1306</th>\n",
       "      <td>1307</td>\n",
       "      <td>NaN</td>\n",
       "      <td>3</td>\n",
       "      <td>Saether, Mr. Simon Sivertsen</td>\n",
       "      <td>male</td>\n",
       "      <td>38.5</td>\n",
       "      <td>0</td>\n",
       "      <td>0</td>\n",
       "      <td>SOTON/O.Q. 3101262</td>\n",
       "      <td>7.2500</td>\n",
       "      <td>NaN</td>\n",
       "      <td>S</td>\n",
       "    </tr>\n",
       "    <tr>\n",
       "      <th>1307</th>\n",
       "      <td>1308</td>\n",
       "      <td>NaN</td>\n",
       "      <td>3</td>\n",
       "      <td>Ware, Mr. Frederick</td>\n",
       "      <td>male</td>\n",
       "      <td>NaN</td>\n",
       "      <td>0</td>\n",
       "      <td>0</td>\n",
       "      <td>359309</td>\n",
       "      <td>8.0500</td>\n",
       "      <td>NaN</td>\n",
       "      <td>S</td>\n",
       "    </tr>\n",
       "    <tr>\n",
       "      <th>1308</th>\n",
       "      <td>1309</td>\n",
       "      <td>NaN</td>\n",
       "      <td>3</td>\n",
       "      <td>Peter, Master. Michael J</td>\n",
       "      <td>male</td>\n",
       "      <td>NaN</td>\n",
       "      <td>1</td>\n",
       "      <td>1</td>\n",
       "      <td>2668</td>\n",
       "      <td>22.3583</td>\n",
       "      <td>NaN</td>\n",
       "      <td>C</td>\n",
       "    </tr>\n",
       "  </tbody>\n",
       "</table>\n",
       "<p>1309 rows × 12 columns</p>\n",
       "</div>"
      ],
      "text/plain": [
       "      PassengerId  Survived  Pclass  \\\n",
       "0               1       0.0       3   \n",
       "1               2       1.0       1   \n",
       "2               3       1.0       3   \n",
       "3               4       1.0       1   \n",
       "4               5       0.0       3   \n",
       "...           ...       ...     ...   \n",
       "1304         1305       NaN       3   \n",
       "1305         1306       NaN       1   \n",
       "1306         1307       NaN       3   \n",
       "1307         1308       NaN       3   \n",
       "1308         1309       NaN       3   \n",
       "\n",
       "                                                   Name     Sex   Age  SibSp  \\\n",
       "0                               Braund, Mr. Owen Harris    male  22.0      1   \n",
       "1     Cumings, Mrs. John Bradley (Florence Briggs Th...  female  38.0      1   \n",
       "2                                Heikkinen, Miss. Laina  female  26.0      0   \n",
       "3          Futrelle, Mrs. Jacques Heath (Lily May Peel)  female  35.0      1   \n",
       "4                              Allen, Mr. William Henry    male  35.0      0   \n",
       "...                                                 ...     ...   ...    ...   \n",
       "1304                                 Spector, Mr. Woolf    male   NaN      0   \n",
       "1305                       Oliva y Ocana, Dona. Fermina  female  39.0      0   \n",
       "1306                       Saether, Mr. Simon Sivertsen    male  38.5      0   \n",
       "1307                                Ware, Mr. Frederick    male   NaN      0   \n",
       "1308                           Peter, Master. Michael J    male   NaN      1   \n",
       "\n",
       "      Parch              Ticket      Fare Cabin Embarked  \n",
       "0         0           A/5 21171    7.2500   NaN        S  \n",
       "1         0            PC 17599   71.2833   C85        C  \n",
       "2         0    STON/O2. 3101282    7.9250   NaN        S  \n",
       "3         0              113803   53.1000  C123        S  \n",
       "4         0              373450    8.0500   NaN        S  \n",
       "...     ...                 ...       ...   ...      ...  \n",
       "1304      0           A.5. 3236    8.0500   NaN        S  \n",
       "1305      0            PC 17758  108.9000  C105        C  \n",
       "1306      0  SOTON/O.Q. 3101262    7.2500   NaN        S  \n",
       "1307      0              359309    8.0500   NaN        S  \n",
       "1308      1                2668   22.3583   NaN        C  \n",
       "\n",
       "[1309 rows x 12 columns]"
      ]
     },
     "execution_count": 19,
     "metadata": {},
     "output_type": "execute_result"
    }
   ],
   "source": [
    "# Combining Train Test Data for simplicity\n",
    "train_test_data = pd.concat([train,test],axis=0,ignore_index=True)\n",
    "train_test_data"
   ]
  },
  {
   "cell_type": "code",
   "execution_count": 20,
   "id": "7001e230",
   "metadata": {
    "execution": {
     "iopub.execute_input": "2022-07-20T03:17:41.986976Z",
     "iopub.status.busy": "2022-07-20T03:17:41.985555Z",
     "iopub.status.idle": "2022-07-20T03:17:42.022310Z",
     "shell.execute_reply": "2022-07-20T03:17:42.021021Z"
    },
    "papermill": {
     "duration": 0.06234,
     "end_time": "2022-07-20T03:17:42.025111",
     "exception": false,
     "start_time": "2022-07-20T03:17:41.962771",
     "status": "completed"
    },
    "tags": []
   },
   "outputs": [
    {
     "data": {
      "text/html": [
       "<div>\n",
       "<style scoped>\n",
       "    .dataframe tbody tr th:only-of-type {\n",
       "        vertical-align: middle;\n",
       "    }\n",
       "\n",
       "    .dataframe tbody tr th {\n",
       "        vertical-align: top;\n",
       "    }\n",
       "\n",
       "    .dataframe thead th {\n",
       "        text-align: right;\n",
       "    }\n",
       "</style>\n",
       "<table border=\"1\" class=\"dataframe\">\n",
       "  <thead>\n",
       "    <tr style=\"text-align: right;\">\n",
       "      <th></th>\n",
       "      <th>PassengerId</th>\n",
       "      <th>Survived</th>\n",
       "      <th>Pclass</th>\n",
       "      <th>Name</th>\n",
       "      <th>Sex</th>\n",
       "      <th>Age</th>\n",
       "      <th>SibSp</th>\n",
       "      <th>Parch</th>\n",
       "      <th>Ticket</th>\n",
       "      <th>Fare</th>\n",
       "      <th>Cabin</th>\n",
       "      <th>Embarked</th>\n",
       "    </tr>\n",
       "  </thead>\n",
       "  <tbody>\n",
       "    <tr>\n",
       "      <th>0</th>\n",
       "      <td>1</td>\n",
       "      <td>0.0</td>\n",
       "      <td>3</td>\n",
       "      <td>Braund, Mr. Owen Harris</td>\n",
       "      <td>male</td>\n",
       "      <td>22.0</td>\n",
       "      <td>1</td>\n",
       "      <td>0</td>\n",
       "      <td>A/5 21171</td>\n",
       "      <td>7.2500</td>\n",
       "      <td>NaN</td>\n",
       "      <td>S</td>\n",
       "    </tr>\n",
       "    <tr>\n",
       "      <th>1</th>\n",
       "      <td>2</td>\n",
       "      <td>1.0</td>\n",
       "      <td>1</td>\n",
       "      <td>Cumings, Mrs. John Bradley (Florence Briggs Th...</td>\n",
       "      <td>female</td>\n",
       "      <td>38.0</td>\n",
       "      <td>1</td>\n",
       "      <td>0</td>\n",
       "      <td>PC 17599</td>\n",
       "      <td>71.2833</td>\n",
       "      <td>C85</td>\n",
       "      <td>C</td>\n",
       "    </tr>\n",
       "    <tr>\n",
       "      <th>2</th>\n",
       "      <td>3</td>\n",
       "      <td>1.0</td>\n",
       "      <td>3</td>\n",
       "      <td>Heikkinen, Miss. Laina</td>\n",
       "      <td>female</td>\n",
       "      <td>26.0</td>\n",
       "      <td>0</td>\n",
       "      <td>0</td>\n",
       "      <td>STON/O2. 3101282</td>\n",
       "      <td>7.9250</td>\n",
       "      <td>NaN</td>\n",
       "      <td>S</td>\n",
       "    </tr>\n",
       "    <tr>\n",
       "      <th>3</th>\n",
       "      <td>4</td>\n",
       "      <td>1.0</td>\n",
       "      <td>1</td>\n",
       "      <td>Futrelle, Mrs. Jacques Heath (Lily May Peel)</td>\n",
       "      <td>female</td>\n",
       "      <td>35.0</td>\n",
       "      <td>1</td>\n",
       "      <td>0</td>\n",
       "      <td>113803</td>\n",
       "      <td>53.1000</td>\n",
       "      <td>C123</td>\n",
       "      <td>S</td>\n",
       "    </tr>\n",
       "    <tr>\n",
       "      <th>4</th>\n",
       "      <td>5</td>\n",
       "      <td>0.0</td>\n",
       "      <td>3</td>\n",
       "      <td>Allen, Mr. William Henry</td>\n",
       "      <td>male</td>\n",
       "      <td>35.0</td>\n",
       "      <td>0</td>\n",
       "      <td>0</td>\n",
       "      <td>373450</td>\n",
       "      <td>8.0500</td>\n",
       "      <td>NaN</td>\n",
       "      <td>S</td>\n",
       "    </tr>\n",
       "    <tr>\n",
       "      <th>...</th>\n",
       "      <td>...</td>\n",
       "      <td>...</td>\n",
       "      <td>...</td>\n",
       "      <td>...</td>\n",
       "      <td>...</td>\n",
       "      <td>...</td>\n",
       "      <td>...</td>\n",
       "      <td>...</td>\n",
       "      <td>...</td>\n",
       "      <td>...</td>\n",
       "      <td>...</td>\n",
       "      <td>...</td>\n",
       "    </tr>\n",
       "    <tr>\n",
       "      <th>1304</th>\n",
       "      <td>1305</td>\n",
       "      <td>NaN</td>\n",
       "      <td>3</td>\n",
       "      <td>Spector, Mr. Woolf</td>\n",
       "      <td>male</td>\n",
       "      <td>25.0</td>\n",
       "      <td>0</td>\n",
       "      <td>0</td>\n",
       "      <td>A.5. 3236</td>\n",
       "      <td>8.0500</td>\n",
       "      <td>NaN</td>\n",
       "      <td>S</td>\n",
       "    </tr>\n",
       "    <tr>\n",
       "      <th>1305</th>\n",
       "      <td>1306</td>\n",
       "      <td>NaN</td>\n",
       "      <td>1</td>\n",
       "      <td>Oliva y Ocana, Dona. Fermina</td>\n",
       "      <td>female</td>\n",
       "      <td>39.0</td>\n",
       "      <td>0</td>\n",
       "      <td>0</td>\n",
       "      <td>PC 17758</td>\n",
       "      <td>108.9000</td>\n",
       "      <td>C105</td>\n",
       "      <td>C</td>\n",
       "    </tr>\n",
       "    <tr>\n",
       "      <th>1306</th>\n",
       "      <td>1307</td>\n",
       "      <td>NaN</td>\n",
       "      <td>3</td>\n",
       "      <td>Saether, Mr. Simon Sivertsen</td>\n",
       "      <td>male</td>\n",
       "      <td>38.5</td>\n",
       "      <td>0</td>\n",
       "      <td>0</td>\n",
       "      <td>SOTON/O.Q. 3101262</td>\n",
       "      <td>7.2500</td>\n",
       "      <td>NaN</td>\n",
       "      <td>S</td>\n",
       "    </tr>\n",
       "    <tr>\n",
       "      <th>1307</th>\n",
       "      <td>1308</td>\n",
       "      <td>NaN</td>\n",
       "      <td>3</td>\n",
       "      <td>Ware, Mr. Frederick</td>\n",
       "      <td>male</td>\n",
       "      <td>25.0</td>\n",
       "      <td>0</td>\n",
       "      <td>0</td>\n",
       "      <td>359309</td>\n",
       "      <td>8.0500</td>\n",
       "      <td>NaN</td>\n",
       "      <td>S</td>\n",
       "    </tr>\n",
       "    <tr>\n",
       "      <th>1308</th>\n",
       "      <td>1309</td>\n",
       "      <td>NaN</td>\n",
       "      <td>3</td>\n",
       "      <td>Peter, Master. Michael J</td>\n",
       "      <td>male</td>\n",
       "      <td>25.0</td>\n",
       "      <td>1</td>\n",
       "      <td>1</td>\n",
       "      <td>2668</td>\n",
       "      <td>22.3583</td>\n",
       "      <td>NaN</td>\n",
       "      <td>C</td>\n",
       "    </tr>\n",
       "  </tbody>\n",
       "</table>\n",
       "<p>1309 rows × 12 columns</p>\n",
       "</div>"
      ],
      "text/plain": [
       "      PassengerId  Survived  Pclass  \\\n",
       "0               1       0.0       3   \n",
       "1               2       1.0       1   \n",
       "2               3       1.0       3   \n",
       "3               4       1.0       1   \n",
       "4               5       0.0       3   \n",
       "...           ...       ...     ...   \n",
       "1304         1305       NaN       3   \n",
       "1305         1306       NaN       1   \n",
       "1306         1307       NaN       3   \n",
       "1307         1308       NaN       3   \n",
       "1308         1309       NaN       3   \n",
       "\n",
       "                                                   Name     Sex   Age  SibSp  \\\n",
       "0                               Braund, Mr. Owen Harris    male  22.0      1   \n",
       "1     Cumings, Mrs. John Bradley (Florence Briggs Th...  female  38.0      1   \n",
       "2                                Heikkinen, Miss. Laina  female  26.0      0   \n",
       "3          Futrelle, Mrs. Jacques Heath (Lily May Peel)  female  35.0      1   \n",
       "4                              Allen, Mr. William Henry    male  35.0      0   \n",
       "...                                                 ...     ...   ...    ...   \n",
       "1304                                 Spector, Mr. Woolf    male  25.0      0   \n",
       "1305                       Oliva y Ocana, Dona. Fermina  female  39.0      0   \n",
       "1306                       Saether, Mr. Simon Sivertsen    male  38.5      0   \n",
       "1307                                Ware, Mr. Frederick    male  25.0      0   \n",
       "1308                           Peter, Master. Michael J    male  25.0      1   \n",
       "\n",
       "      Parch              Ticket      Fare Cabin Embarked  \n",
       "0         0           A/5 21171    7.2500   NaN        S  \n",
       "1         0            PC 17599   71.2833   C85        C  \n",
       "2         0    STON/O2. 3101282    7.9250   NaN        S  \n",
       "3         0              113803   53.1000  C123        S  \n",
       "4         0              373450    8.0500   NaN        S  \n",
       "...     ...                 ...       ...   ...      ...  \n",
       "1304      0           A.5. 3236    8.0500   NaN        S  \n",
       "1305      0            PC 17758  108.9000  C105        C  \n",
       "1306      0  SOTON/O.Q. 3101262    7.2500   NaN        S  \n",
       "1307      0              359309    8.0500   NaN        S  \n",
       "1308      1                2668   22.3583   NaN        C  \n",
       "\n",
       "[1309 rows x 12 columns]"
      ]
     },
     "execution_count": 20,
     "metadata": {},
     "output_type": "execute_result"
    }
   ],
   "source": [
    "# Age - Filling na\n",
    "train_test_data['Age'] = train_test_data.groupby(['Sex', 'Pclass'])['Age'].apply(lambda x: x.fillna(x.median()))\n",
    "train_test_data"
   ]
  },
  {
   "cell_type": "code",
   "execution_count": 21,
   "id": "5b479d23",
   "metadata": {
    "execution": {
     "iopub.execute_input": "2022-07-20T03:17:42.071547Z",
     "iopub.status.busy": "2022-07-20T03:17:42.070403Z",
     "iopub.status.idle": "2022-07-20T03:17:42.092823Z",
     "shell.execute_reply": "2022-07-20T03:17:42.091696Z"
    },
    "papermill": {
     "duration": 0.048365,
     "end_time": "2022-07-20T03:17:42.095242",
     "exception": false,
     "start_time": "2022-07-20T03:17:42.046877",
     "status": "completed"
    },
    "tags": []
   },
   "outputs": [
    {
     "data": {
      "text/plain": [
       "M      1014\n",
       "ABC     182\n",
       "DE       87\n",
       "FG       26\n",
       "Name: Deck, dtype: int64"
      ]
     },
     "execution_count": 21,
     "metadata": {},
     "output_type": "execute_result"
    }
   ],
   "source": [
    "# Deck\n",
    "# Creating Deck column from the first letter of the Cabin column (M stands for Missing)\n",
    "train_test_data['Deck'] = train_test_data['Cabin'].apply(lambda s: s[0] if pd.notnull(s) else 'M')\n",
    "\n",
    "# Passenger in the T deck is changed to A\n",
    "idx = train_test_data[train_test_data['Deck'] == 'T'].index\n",
    "train_test_data.loc[idx, 'Deck'] = 'A'\n",
    "\n",
    "# A, B and C decks are labeled as ABC because all of them have only 1st class passengers\n",
    "# D and E decks are labeled as DE because both of them have similar passenger class distribution and same survival rate\n",
    "# F and G decks are labeled as FG because of the same reason above\n",
    "# M deck doesn't need to be grouped with other decks because it is very different from others and has the lowest survival rate.\n",
    "train_test_data['Deck'] = train_test_data['Deck'].replace(['A', 'B', 'C'], 'ABC')\n",
    "train_test_data['Deck'] = train_test_data['Deck'].replace(['D', 'E'], 'DE')\n",
    "train_test_data['Deck'] = train_test_data['Deck'].replace(['F', 'G'], 'FG')\n",
    "\n",
    "train_test_data['Deck'].value_counts()"
   ]
  },
  {
   "cell_type": "code",
   "execution_count": 22,
   "id": "f9e0fcc3",
   "metadata": {
    "execution": {
     "iopub.execute_input": "2022-07-20T03:17:42.141521Z",
     "iopub.status.busy": "2022-07-20T03:17:42.141066Z",
     "iopub.status.idle": "2022-07-20T03:17:42.159277Z",
     "shell.execute_reply": "2022-07-20T03:17:42.158246Z"
    },
    "papermill": {
     "duration": 0.04485,
     "end_time": "2022-07-20T03:17:42.161699",
     "exception": false,
     "start_time": "2022-07-20T03:17:42.116849",
     "status": "completed"
    },
    "tags": []
   },
   "outputs": [
    {
     "data": {
      "text/plain": [
       "Mr        757\n",
       "Miss      260\n",
       "Mrs       197\n",
       "Master     61\n",
       "Other      34\n",
       "Name: Title, dtype: int64"
      ]
     },
     "execution_count": 22,
     "metadata": {},
     "output_type": "execute_result"
    }
   ],
   "source": [
    "# Name\n",
    "train_test_data['Title'] = train_test_data['Name'].apply(lambda name: name.split(', ')[1].split('.')[0])\n",
    "train_test_data['Title'] =  train_test_data['Title'].replace(\\\n",
    "                            to_replace=['Rev','Dr','Col','Mlle','Major','Ms','Lady','Sir','Mme','Don',\\\n",
    "                            'Capt','the Countess','Jonkheer','Dona'],value='Other')\n",
    "train_test_data['Title'].value_counts()"
   ]
  },
  {
   "cell_type": "code",
   "execution_count": 23,
   "id": "a6d8810f",
   "metadata": {
    "execution": {
     "iopub.execute_input": "2022-07-20T03:17:42.207446Z",
     "iopub.status.busy": "2022-07-20T03:17:42.207009Z",
     "iopub.status.idle": "2022-07-20T03:17:42.220600Z",
     "shell.execute_reply": "2022-07-20T03:17:42.219408Z"
    },
    "papermill": {
     "duration": 0.039343,
     "end_time": "2022-07-20T03:17:42.222970",
     "exception": false,
     "start_time": "2022-07-20T03:17:42.183627",
     "status": "completed"
    },
    "tags": []
   },
   "outputs": [
    {
     "data": {
      "text/plain": [
       "Alone     790\n",
       "Small     437\n",
       "Medium     47\n",
       "Large      35\n",
       "Name: Family_Size_Grouped, dtype: int64"
      ]
     },
     "execution_count": 23,
     "metadata": {},
     "output_type": "execute_result"
    }
   ],
   "source": [
    "# Family Size\n",
    "train_test_data['FamilySize'] = train_test_data['SibSp'] + train_test_data['Parch'] + 1\n",
    "family_map = {1: 'Alone', 2: 'Small', 3: 'Small', 4: 'Small', 5: 'Medium', 6: 'Medium', 7: 'Large', 8: 'Large', 11: 'Large'}\n",
    "train_test_data['Family_Size_Grouped'] = train_test_data['FamilySize'].map(family_map)\n",
    "train_test_data['Family_Size_Grouped'].value_counts()"
   ]
  },
  {
   "cell_type": "code",
   "execution_count": 24,
   "id": "d929861d",
   "metadata": {
    "execution": {
     "iopub.execute_input": "2022-07-20T03:17:42.270164Z",
     "iopub.status.busy": "2022-07-20T03:17:42.269292Z",
     "iopub.status.idle": "2022-07-20T03:17:42.284471Z",
     "shell.execute_reply": "2022-07-20T03:17:42.283518Z"
    },
    "papermill": {
     "duration": 0.042019,
     "end_time": "2022-07-20T03:17:42.286849",
     "exception": false,
     "start_time": "2022-07-20T03:17:42.244830",
     "status": "completed"
    },
    "tags": []
   },
   "outputs": [
    {
     "data": {
      "text/plain": [
       "1    957\n",
       "0    352\n",
       "Name: TicketType, dtype: int64"
      ]
     },
     "execution_count": 24,
     "metadata": {},
     "output_type": "execute_result"
    }
   ],
   "source": [
    "# Ticket Type\n",
    "train_test_data['TicketType'] = train_test_data['Ticket'].str.isnumeric()\n",
    "train_test_data['TicketType'] =  train_test_data['TicketType'].replace(to_replace=True,value=1)\n",
    "train_test_data['TicketType'] =  train_test_data['TicketType'].replace(to_replace=False,value=0)\n",
    "train_test_data['TicketType'].value_counts()"
   ]
  },
  {
   "cell_type": "code",
   "execution_count": 25,
   "id": "a8640a1f",
   "metadata": {
    "execution": {
     "iopub.execute_input": "2022-07-20T03:17:42.334789Z",
     "iopub.status.busy": "2022-07-20T03:17:42.333776Z",
     "iopub.status.idle": "2022-07-20T03:17:42.346667Z",
     "shell.execute_reply": "2022-07-20T03:17:42.345630Z"
    },
    "papermill": {
     "duration": 0.039553,
     "end_time": "2022-07-20T03:17:42.349061",
     "exception": false,
     "start_time": "2022-07-20T03:17:42.309508",
     "status": "completed"
    },
    "tags": []
   },
   "outputs": [
    {
     "data": {
      "text/plain": [
       "1     713\n",
       "2     264\n",
       "3     147\n",
       "4      64\n",
       "5      35\n",
       "7      35\n",
       "6      24\n",
       "8      16\n",
       "11     11\n",
       "Name: Ticket_Frequency, dtype: int64"
      ]
     },
     "execution_count": 25,
     "metadata": {},
     "output_type": "execute_result"
    }
   ],
   "source": [
    "# Ticket Frequency\n",
    "train_test_data['Ticket_Frequency'] = train_test_data.groupby('Ticket')['Ticket'].transform('count')\n",
    "train_test_data['Ticket_Frequency'].value_counts()"
   ]
  },
  {
   "cell_type": "code",
   "execution_count": 26,
   "id": "b109eb16",
   "metadata": {
    "execution": {
     "iopub.execute_input": "2022-07-20T03:17:42.397790Z",
     "iopub.status.busy": "2022-07-20T03:17:42.397053Z",
     "iopub.status.idle": "2022-07-20T03:17:42.404221Z",
     "shell.execute_reply": "2022-07-20T03:17:42.403347Z"
    },
    "papermill": {
     "duration": 0.034977,
     "end_time": "2022-07-20T03:17:42.407089",
     "exception": false,
     "start_time": "2022-07-20T03:17:42.372112",
     "status": "completed"
    },
    "tags": []
   },
   "outputs": [],
   "source": [
    "# Fare - Filling na\n",
    "train_test_data['Fare'].fillna(value=train_test_data['Fare'].median(),inplace=True)"
   ]
  },
  {
   "cell_type": "code",
   "execution_count": 27,
   "id": "9104bc24",
   "metadata": {
    "execution": {
     "iopub.execute_input": "2022-07-20T03:17:42.455002Z",
     "iopub.status.busy": "2022-07-20T03:17:42.454114Z",
     "iopub.status.idle": "2022-07-20T03:17:42.461934Z",
     "shell.execute_reply": "2022-07-20T03:17:42.460744Z"
    },
    "papermill": {
     "duration": 0.03556,
     "end_time": "2022-07-20T03:17:42.464655",
     "exception": false,
     "start_time": "2022-07-20T03:17:42.429095",
     "status": "completed"
    },
    "tags": []
   },
   "outputs": [],
   "source": [
    "# Embarked - Filling na\n",
    "train_test_data['Embarked'].value_counts()\n",
    "train_test_data['Embarked'].fillna(value='S',inplace=True)"
   ]
  },
  {
   "cell_type": "code",
   "execution_count": 28,
   "id": "9f99f849",
   "metadata": {
    "execution": {
     "iopub.execute_input": "2022-07-20T03:17:42.513696Z",
     "iopub.status.busy": "2022-07-20T03:17:42.512720Z",
     "iopub.status.idle": "2022-07-20T03:17:42.521395Z",
     "shell.execute_reply": "2022-07-20T03:17:42.520338Z"
    },
    "papermill": {
     "duration": 0.035634,
     "end_time": "2022-07-20T03:17:42.524215",
     "exception": false,
     "start_time": "2022-07-20T03:17:42.488581",
     "status": "completed"
    },
    "tags": []
   },
   "outputs": [],
   "source": [
    "# Drop useless columns\n",
    "train_test_data.drop(['PassengerId','Survived','Name','SibSp','Parch','Ticket','Cabin','FamilySize'],axis=1,inplace=True)"
   ]
  },
  {
   "cell_type": "code",
   "execution_count": 29,
   "id": "d63af8b4",
   "metadata": {
    "execution": {
     "iopub.execute_input": "2022-07-20T03:17:42.575549Z",
     "iopub.status.busy": "2022-07-20T03:17:42.574703Z",
     "iopub.status.idle": "2022-07-20T03:17:42.586086Z",
     "shell.execute_reply": "2022-07-20T03:17:42.584951Z"
    },
    "papermill": {
     "duration": 0.040556,
     "end_time": "2022-07-20T03:17:42.588670",
     "exception": false,
     "start_time": "2022-07-20T03:17:42.548114",
     "status": "completed"
    },
    "tags": []
   },
   "outputs": [
    {
     "data": {
      "text/plain": [
       "Pclass                 0\n",
       "Sex                    0\n",
       "Age                    0\n",
       "Fare                   0\n",
       "Embarked               0\n",
       "Deck                   0\n",
       "Title                  0\n",
       "Family_Size_Grouped    0\n",
       "TicketType             0\n",
       "Ticket_Frequency       0\n",
       "dtype: int64"
      ]
     },
     "execution_count": 29,
     "metadata": {},
     "output_type": "execute_result"
    }
   ],
   "source": [
    "train_test_data.isnull().sum()"
   ]
  },
  {
   "cell_type": "code",
   "execution_count": 30,
   "id": "ae241eeb",
   "metadata": {
    "execution": {
     "iopub.execute_input": "2022-07-20T03:17:42.638052Z",
     "iopub.status.busy": "2022-07-20T03:17:42.637232Z",
     "iopub.status.idle": "2022-07-20T03:17:42.659362Z",
     "shell.execute_reply": "2022-07-20T03:17:42.658177Z"
    },
    "papermill": {
     "duration": 0.049933,
     "end_time": "2022-07-20T03:17:42.662339",
     "exception": false,
     "start_time": "2022-07-20T03:17:42.612406",
     "status": "completed"
    },
    "tags": []
   },
   "outputs": [
    {
     "data": {
      "text/html": [
       "<div>\n",
       "<style scoped>\n",
       "    .dataframe tbody tr th:only-of-type {\n",
       "        vertical-align: middle;\n",
       "    }\n",
       "\n",
       "    .dataframe tbody tr th {\n",
       "        vertical-align: top;\n",
       "    }\n",
       "\n",
       "    .dataframe thead th {\n",
       "        text-align: right;\n",
       "    }\n",
       "</style>\n",
       "<table border=\"1\" class=\"dataframe\">\n",
       "  <thead>\n",
       "    <tr style=\"text-align: right;\">\n",
       "      <th></th>\n",
       "      <th>Pclass</th>\n",
       "      <th>Sex</th>\n",
       "      <th>Age</th>\n",
       "      <th>Fare</th>\n",
       "      <th>Embarked</th>\n",
       "      <th>Deck</th>\n",
       "      <th>Title</th>\n",
       "      <th>Family_Size_Grouped</th>\n",
       "      <th>TicketType</th>\n",
       "      <th>Ticket_Frequency</th>\n",
       "    </tr>\n",
       "  </thead>\n",
       "  <tbody>\n",
       "    <tr>\n",
       "      <th>0</th>\n",
       "      <td>3</td>\n",
       "      <td>male</td>\n",
       "      <td>22.0</td>\n",
       "      <td>7.2500</td>\n",
       "      <td>S</td>\n",
       "      <td>M</td>\n",
       "      <td>Mr</td>\n",
       "      <td>Small</td>\n",
       "      <td>0</td>\n",
       "      <td>1</td>\n",
       "    </tr>\n",
       "    <tr>\n",
       "      <th>1</th>\n",
       "      <td>1</td>\n",
       "      <td>female</td>\n",
       "      <td>38.0</td>\n",
       "      <td>71.2833</td>\n",
       "      <td>C</td>\n",
       "      <td>ABC</td>\n",
       "      <td>Mrs</td>\n",
       "      <td>Small</td>\n",
       "      <td>0</td>\n",
       "      <td>2</td>\n",
       "    </tr>\n",
       "    <tr>\n",
       "      <th>2</th>\n",
       "      <td>3</td>\n",
       "      <td>female</td>\n",
       "      <td>26.0</td>\n",
       "      <td>7.9250</td>\n",
       "      <td>S</td>\n",
       "      <td>M</td>\n",
       "      <td>Miss</td>\n",
       "      <td>Alone</td>\n",
       "      <td>0</td>\n",
       "      <td>1</td>\n",
       "    </tr>\n",
       "    <tr>\n",
       "      <th>3</th>\n",
       "      <td>1</td>\n",
       "      <td>female</td>\n",
       "      <td>35.0</td>\n",
       "      <td>53.1000</td>\n",
       "      <td>S</td>\n",
       "      <td>ABC</td>\n",
       "      <td>Mrs</td>\n",
       "      <td>Small</td>\n",
       "      <td>1</td>\n",
       "      <td>2</td>\n",
       "    </tr>\n",
       "    <tr>\n",
       "      <th>4</th>\n",
       "      <td>3</td>\n",
       "      <td>male</td>\n",
       "      <td>35.0</td>\n",
       "      <td>8.0500</td>\n",
       "      <td>S</td>\n",
       "      <td>M</td>\n",
       "      <td>Mr</td>\n",
       "      <td>Alone</td>\n",
       "      <td>1</td>\n",
       "      <td>1</td>\n",
       "    </tr>\n",
       "    <tr>\n",
       "      <th>...</th>\n",
       "      <td>...</td>\n",
       "      <td>...</td>\n",
       "      <td>...</td>\n",
       "      <td>...</td>\n",
       "      <td>...</td>\n",
       "      <td>...</td>\n",
       "      <td>...</td>\n",
       "      <td>...</td>\n",
       "      <td>...</td>\n",
       "      <td>...</td>\n",
       "    </tr>\n",
       "    <tr>\n",
       "      <th>1304</th>\n",
       "      <td>3</td>\n",
       "      <td>male</td>\n",
       "      <td>25.0</td>\n",
       "      <td>8.0500</td>\n",
       "      <td>S</td>\n",
       "      <td>M</td>\n",
       "      <td>Mr</td>\n",
       "      <td>Alone</td>\n",
       "      <td>0</td>\n",
       "      <td>1</td>\n",
       "    </tr>\n",
       "    <tr>\n",
       "      <th>1305</th>\n",
       "      <td>1</td>\n",
       "      <td>female</td>\n",
       "      <td>39.0</td>\n",
       "      <td>108.9000</td>\n",
       "      <td>C</td>\n",
       "      <td>ABC</td>\n",
       "      <td>Other</td>\n",
       "      <td>Alone</td>\n",
       "      <td>0</td>\n",
       "      <td>3</td>\n",
       "    </tr>\n",
       "    <tr>\n",
       "      <th>1306</th>\n",
       "      <td>3</td>\n",
       "      <td>male</td>\n",
       "      <td>38.5</td>\n",
       "      <td>7.2500</td>\n",
       "      <td>S</td>\n",
       "      <td>M</td>\n",
       "      <td>Mr</td>\n",
       "      <td>Alone</td>\n",
       "      <td>0</td>\n",
       "      <td>1</td>\n",
       "    </tr>\n",
       "    <tr>\n",
       "      <th>1307</th>\n",
       "      <td>3</td>\n",
       "      <td>male</td>\n",
       "      <td>25.0</td>\n",
       "      <td>8.0500</td>\n",
       "      <td>S</td>\n",
       "      <td>M</td>\n",
       "      <td>Mr</td>\n",
       "      <td>Alone</td>\n",
       "      <td>1</td>\n",
       "      <td>1</td>\n",
       "    </tr>\n",
       "    <tr>\n",
       "      <th>1308</th>\n",
       "      <td>3</td>\n",
       "      <td>male</td>\n",
       "      <td>25.0</td>\n",
       "      <td>22.3583</td>\n",
       "      <td>C</td>\n",
       "      <td>M</td>\n",
       "      <td>Master</td>\n",
       "      <td>Small</td>\n",
       "      <td>1</td>\n",
       "      <td>3</td>\n",
       "    </tr>\n",
       "  </tbody>\n",
       "</table>\n",
       "<p>1309 rows × 10 columns</p>\n",
       "</div>"
      ],
      "text/plain": [
       "      Pclass     Sex   Age      Fare Embarked Deck   Title  \\\n",
       "0          3    male  22.0    7.2500        S    M      Mr   \n",
       "1          1  female  38.0   71.2833        C  ABC     Mrs   \n",
       "2          3  female  26.0    7.9250        S    M    Miss   \n",
       "3          1  female  35.0   53.1000        S  ABC     Mrs   \n",
       "4          3    male  35.0    8.0500        S    M      Mr   \n",
       "...      ...     ...   ...       ...      ...  ...     ...   \n",
       "1304       3    male  25.0    8.0500        S    M      Mr   \n",
       "1305       1  female  39.0  108.9000        C  ABC   Other   \n",
       "1306       3    male  38.5    7.2500        S    M      Mr   \n",
       "1307       3    male  25.0    8.0500        S    M      Mr   \n",
       "1308       3    male  25.0   22.3583        C    M  Master   \n",
       "\n",
       "     Family_Size_Grouped  TicketType  Ticket_Frequency  \n",
       "0                  Small           0                 1  \n",
       "1                  Small           0                 2  \n",
       "2                  Alone           0                 1  \n",
       "3                  Small           1                 2  \n",
       "4                  Alone           1                 1  \n",
       "...                  ...         ...               ...  \n",
       "1304               Alone           0                 1  \n",
       "1305               Alone           0                 3  \n",
       "1306               Alone           0                 1  \n",
       "1307               Alone           1                 1  \n",
       "1308               Small           1                 3  \n",
       "\n",
       "[1309 rows x 10 columns]"
      ]
     },
     "execution_count": 30,
     "metadata": {},
     "output_type": "execute_result"
    }
   ],
   "source": [
    "train_test_data"
   ]
  },
  {
   "cell_type": "code",
   "execution_count": 31,
   "id": "6adbf998",
   "metadata": {
    "execution": {
     "iopub.execute_input": "2022-07-20T03:17:42.713683Z",
     "iopub.status.busy": "2022-07-20T03:17:42.711994Z",
     "iopub.status.idle": "2022-07-20T03:17:42.726655Z",
     "shell.execute_reply": "2022-07-20T03:17:42.725415Z"
    },
    "papermill": {
     "duration": 0.043085,
     "end_time": "2022-07-20T03:17:42.729349",
     "exception": false,
     "start_time": "2022-07-20T03:17:42.686264",
     "status": "completed"
    },
    "tags": []
   },
   "outputs": [],
   "source": [
    "# Binning Continuous Features\n",
    "train_test_data['Fare'] = pd.qcut(train_test_data['Fare'], 13, labels=np.arange(1,14))\n",
    "train_test_data['Fare'] = train_test_data['Fare'].astype(dtype=int)\n",
    "train_test_data['Age'] = pd.qcut(train_test_data['Age'], 10, labels=np.arange(1,11))\n",
    "train_test_data['Age'] = train_test_data['Age'].astype(dtype=int)"
   ]
  },
  {
   "cell_type": "code",
   "execution_count": 32,
   "id": "fdd4c27e",
   "metadata": {
    "execution": {
     "iopub.execute_input": "2022-07-20T03:17:42.779322Z",
     "iopub.status.busy": "2022-07-20T03:17:42.778109Z",
     "iopub.status.idle": "2022-07-20T03:17:42.787676Z",
     "shell.execute_reply": "2022-07-20T03:17:42.786788Z"
    },
    "papermill": {
     "duration": 0.036965,
     "end_time": "2022-07-20T03:17:42.790024",
     "exception": false,
     "start_time": "2022-07-20T03:17:42.753059",
     "status": "completed"
    },
    "tags": []
   },
   "outputs": [
    {
     "data": {
      "text/plain": [
       "0        1\n",
       "1       12\n",
       "2        4\n",
       "3       11\n",
       "4        4\n",
       "        ..\n",
       "1304     4\n",
       "1305    13\n",
       "1306     1\n",
       "1307     4\n",
       "1308     8\n",
       "Name: Fare, Length: 1309, dtype: int64"
      ]
     },
     "execution_count": 32,
     "metadata": {},
     "output_type": "execute_result"
    }
   ],
   "source": [
    "train_test_data['Fare']"
   ]
  },
  {
   "cell_type": "code",
   "execution_count": 33,
   "id": "7019e1a1",
   "metadata": {
    "execution": {
     "iopub.execute_input": "2022-07-20T03:17:42.838002Z",
     "iopub.status.busy": "2022-07-20T03:17:42.837111Z",
     "iopub.status.idle": "2022-07-20T03:17:42.846173Z",
     "shell.execute_reply": "2022-07-20T03:17:42.845241Z"
    },
    "papermill": {
     "duration": 0.035932,
     "end_time": "2022-07-20T03:17:42.848536",
     "exception": false,
     "start_time": "2022-07-20T03:17:42.812604",
     "status": "completed"
    },
    "tags": []
   },
   "outputs": [
    {
     "data": {
      "text/plain": [
       "0       3\n",
       "1       8\n",
       "2       5\n",
       "3       8\n",
       "4       8\n",
       "       ..\n",
       "1304    4\n",
       "1305    8\n",
       "1306    8\n",
       "1307    4\n",
       "1308    4\n",
       "Name: Age, Length: 1309, dtype: int64"
      ]
     },
     "execution_count": 33,
     "metadata": {},
     "output_type": "execute_result"
    }
   ],
   "source": [
    "train_test_data['Age']"
   ]
  },
  {
   "cell_type": "code",
   "execution_count": 34,
   "id": "eaf8a562",
   "metadata": {
    "execution": {
     "iopub.execute_input": "2022-07-20T03:17:42.897228Z",
     "iopub.status.busy": "2022-07-20T03:17:42.896384Z",
     "iopub.status.idle": "2022-07-20T03:17:42.916223Z",
     "shell.execute_reply": "2022-07-20T03:17:42.914988Z"
    },
    "papermill": {
     "duration": 0.047428,
     "end_time": "2022-07-20T03:17:42.919128",
     "exception": false,
     "start_time": "2022-07-20T03:17:42.871700",
     "status": "completed"
    },
    "tags": []
   },
   "outputs": [
    {
     "data": {
      "text/html": [
       "<div>\n",
       "<style scoped>\n",
       "    .dataframe tbody tr th:only-of-type {\n",
       "        vertical-align: middle;\n",
       "    }\n",
       "\n",
       "    .dataframe tbody tr th {\n",
       "        vertical-align: top;\n",
       "    }\n",
       "\n",
       "    .dataframe thead th {\n",
       "        text-align: right;\n",
       "    }\n",
       "</style>\n",
       "<table border=\"1\" class=\"dataframe\">\n",
       "  <thead>\n",
       "    <tr style=\"text-align: right;\">\n",
       "      <th></th>\n",
       "      <th>Pclass</th>\n",
       "      <th>Sex</th>\n",
       "      <th>Age</th>\n",
       "      <th>Fare</th>\n",
       "      <th>Embarked</th>\n",
       "      <th>Deck</th>\n",
       "      <th>Title</th>\n",
       "      <th>Family_Size_Grouped</th>\n",
       "      <th>TicketType</th>\n",
       "      <th>Ticket_Frequency</th>\n",
       "    </tr>\n",
       "  </thead>\n",
       "  <tbody>\n",
       "    <tr>\n",
       "      <th>0</th>\n",
       "      <td>3</td>\n",
       "      <td>male</td>\n",
       "      <td>3</td>\n",
       "      <td>1</td>\n",
       "      <td>S</td>\n",
       "      <td>M</td>\n",
       "      <td>Mr</td>\n",
       "      <td>Small</td>\n",
       "      <td>0</td>\n",
       "      <td>1</td>\n",
       "    </tr>\n",
       "    <tr>\n",
       "      <th>1</th>\n",
       "      <td>1</td>\n",
       "      <td>female</td>\n",
       "      <td>8</td>\n",
       "      <td>12</td>\n",
       "      <td>C</td>\n",
       "      <td>ABC</td>\n",
       "      <td>Mrs</td>\n",
       "      <td>Small</td>\n",
       "      <td>0</td>\n",
       "      <td>2</td>\n",
       "    </tr>\n",
       "    <tr>\n",
       "      <th>2</th>\n",
       "      <td>3</td>\n",
       "      <td>female</td>\n",
       "      <td>5</td>\n",
       "      <td>4</td>\n",
       "      <td>S</td>\n",
       "      <td>M</td>\n",
       "      <td>Miss</td>\n",
       "      <td>Alone</td>\n",
       "      <td>0</td>\n",
       "      <td>1</td>\n",
       "    </tr>\n",
       "    <tr>\n",
       "      <th>3</th>\n",
       "      <td>1</td>\n",
       "      <td>female</td>\n",
       "      <td>8</td>\n",
       "      <td>11</td>\n",
       "      <td>S</td>\n",
       "      <td>ABC</td>\n",
       "      <td>Mrs</td>\n",
       "      <td>Small</td>\n",
       "      <td>1</td>\n",
       "      <td>2</td>\n",
       "    </tr>\n",
       "    <tr>\n",
       "      <th>4</th>\n",
       "      <td>3</td>\n",
       "      <td>male</td>\n",
       "      <td>8</td>\n",
       "      <td>4</td>\n",
       "      <td>S</td>\n",
       "      <td>M</td>\n",
       "      <td>Mr</td>\n",
       "      <td>Alone</td>\n",
       "      <td>1</td>\n",
       "      <td>1</td>\n",
       "    </tr>\n",
       "    <tr>\n",
       "      <th>...</th>\n",
       "      <td>...</td>\n",
       "      <td>...</td>\n",
       "      <td>...</td>\n",
       "      <td>...</td>\n",
       "      <td>...</td>\n",
       "      <td>...</td>\n",
       "      <td>...</td>\n",
       "      <td>...</td>\n",
       "      <td>...</td>\n",
       "      <td>...</td>\n",
       "    </tr>\n",
       "    <tr>\n",
       "      <th>1304</th>\n",
       "      <td>3</td>\n",
       "      <td>male</td>\n",
       "      <td>4</td>\n",
       "      <td>4</td>\n",
       "      <td>S</td>\n",
       "      <td>M</td>\n",
       "      <td>Mr</td>\n",
       "      <td>Alone</td>\n",
       "      <td>0</td>\n",
       "      <td>1</td>\n",
       "    </tr>\n",
       "    <tr>\n",
       "      <th>1305</th>\n",
       "      <td>1</td>\n",
       "      <td>female</td>\n",
       "      <td>8</td>\n",
       "      <td>13</td>\n",
       "      <td>C</td>\n",
       "      <td>ABC</td>\n",
       "      <td>Other</td>\n",
       "      <td>Alone</td>\n",
       "      <td>0</td>\n",
       "      <td>3</td>\n",
       "    </tr>\n",
       "    <tr>\n",
       "      <th>1306</th>\n",
       "      <td>3</td>\n",
       "      <td>male</td>\n",
       "      <td>8</td>\n",
       "      <td>1</td>\n",
       "      <td>S</td>\n",
       "      <td>M</td>\n",
       "      <td>Mr</td>\n",
       "      <td>Alone</td>\n",
       "      <td>0</td>\n",
       "      <td>1</td>\n",
       "    </tr>\n",
       "    <tr>\n",
       "      <th>1307</th>\n",
       "      <td>3</td>\n",
       "      <td>male</td>\n",
       "      <td>4</td>\n",
       "      <td>4</td>\n",
       "      <td>S</td>\n",
       "      <td>M</td>\n",
       "      <td>Mr</td>\n",
       "      <td>Alone</td>\n",
       "      <td>1</td>\n",
       "      <td>1</td>\n",
       "    </tr>\n",
       "    <tr>\n",
       "      <th>1308</th>\n",
       "      <td>3</td>\n",
       "      <td>male</td>\n",
       "      <td>4</td>\n",
       "      <td>8</td>\n",
       "      <td>C</td>\n",
       "      <td>M</td>\n",
       "      <td>Master</td>\n",
       "      <td>Small</td>\n",
       "      <td>1</td>\n",
       "      <td>3</td>\n",
       "    </tr>\n",
       "  </tbody>\n",
       "</table>\n",
       "<p>1309 rows × 10 columns</p>\n",
       "</div>"
      ],
      "text/plain": [
       "      Pclass     Sex  Age  Fare Embarked Deck   Title Family_Size_Grouped  \\\n",
       "0          3    male    3     1        S    M      Mr               Small   \n",
       "1          1  female    8    12        C  ABC     Mrs               Small   \n",
       "2          3  female    5     4        S    M    Miss               Alone   \n",
       "3          1  female    8    11        S  ABC     Mrs               Small   \n",
       "4          3    male    8     4        S    M      Mr               Alone   \n",
       "...      ...     ...  ...   ...      ...  ...     ...                 ...   \n",
       "1304       3    male    4     4        S    M      Mr               Alone   \n",
       "1305       1  female    8    13        C  ABC   Other               Alone   \n",
       "1306       3    male    8     1        S    M      Mr               Alone   \n",
       "1307       3    male    4     4        S    M      Mr               Alone   \n",
       "1308       3    male    4     8        C    M  Master               Small   \n",
       "\n",
       "      TicketType  Ticket_Frequency  \n",
       "0              0                 1  \n",
       "1              0                 2  \n",
       "2              0                 1  \n",
       "3              1                 2  \n",
       "4              1                 1  \n",
       "...          ...               ...  \n",
       "1304           0                 1  \n",
       "1305           0                 3  \n",
       "1306           0                 1  \n",
       "1307           1                 1  \n",
       "1308           1                 3  \n",
       "\n",
       "[1309 rows x 10 columns]"
      ]
     },
     "execution_count": 34,
     "metadata": {},
     "output_type": "execute_result"
    }
   ],
   "source": [
    "train_test_data"
   ]
  },
  {
   "cell_type": "code",
   "execution_count": 35,
   "id": "7a4e7513",
   "metadata": {
    "execution": {
     "iopub.execute_input": "2022-07-20T03:17:42.969383Z",
     "iopub.status.busy": "2022-07-20T03:17:42.968062Z",
     "iopub.status.idle": "2022-07-20T03:17:42.994344Z",
     "shell.execute_reply": "2022-07-20T03:17:42.993193Z"
    },
    "papermill": {
     "duration": 0.053918,
     "end_time": "2022-07-20T03:17:42.997111",
     "exception": false,
     "start_time": "2022-07-20T03:17:42.943193",
     "status": "completed"
    },
    "tags": []
   },
   "outputs": [
    {
     "data": {
      "text/html": [
       "<div>\n",
       "<style scoped>\n",
       "    .dataframe tbody tr th:only-of-type {\n",
       "        vertical-align: middle;\n",
       "    }\n",
       "\n",
       "    .dataframe tbody tr th {\n",
       "        vertical-align: top;\n",
       "    }\n",
       "\n",
       "    .dataframe thead th {\n",
       "        text-align: right;\n",
       "    }\n",
       "</style>\n",
       "<table border=\"1\" class=\"dataframe\">\n",
       "  <thead>\n",
       "    <tr style=\"text-align: right;\">\n",
       "      <th></th>\n",
       "      <th>Sex_male</th>\n",
       "      <th>Embarked_Q</th>\n",
       "      <th>Embarked_S</th>\n",
       "      <th>Deck_DE</th>\n",
       "      <th>Deck_FG</th>\n",
       "      <th>Deck_M</th>\n",
       "      <th>Title_Miss</th>\n",
       "      <th>Title_Mr</th>\n",
       "      <th>Title_Mrs</th>\n",
       "      <th>Title_Other</th>\n",
       "      <th>Family_Size_Grouped_Large</th>\n",
       "      <th>Family_Size_Grouped_Medium</th>\n",
       "      <th>Family_Size_Grouped_Small</th>\n",
       "    </tr>\n",
       "  </thead>\n",
       "  <tbody>\n",
       "    <tr>\n",
       "      <th>0</th>\n",
       "      <td>1</td>\n",
       "      <td>0</td>\n",
       "      <td>1</td>\n",
       "      <td>0</td>\n",
       "      <td>0</td>\n",
       "      <td>1</td>\n",
       "      <td>0</td>\n",
       "      <td>1</td>\n",
       "      <td>0</td>\n",
       "      <td>0</td>\n",
       "      <td>0</td>\n",
       "      <td>0</td>\n",
       "      <td>1</td>\n",
       "    </tr>\n",
       "    <tr>\n",
       "      <th>1</th>\n",
       "      <td>0</td>\n",
       "      <td>0</td>\n",
       "      <td>0</td>\n",
       "      <td>0</td>\n",
       "      <td>0</td>\n",
       "      <td>0</td>\n",
       "      <td>0</td>\n",
       "      <td>0</td>\n",
       "      <td>1</td>\n",
       "      <td>0</td>\n",
       "      <td>0</td>\n",
       "      <td>0</td>\n",
       "      <td>1</td>\n",
       "    </tr>\n",
       "    <tr>\n",
       "      <th>2</th>\n",
       "      <td>0</td>\n",
       "      <td>0</td>\n",
       "      <td>1</td>\n",
       "      <td>0</td>\n",
       "      <td>0</td>\n",
       "      <td>1</td>\n",
       "      <td>1</td>\n",
       "      <td>0</td>\n",
       "      <td>0</td>\n",
       "      <td>0</td>\n",
       "      <td>0</td>\n",
       "      <td>0</td>\n",
       "      <td>0</td>\n",
       "    </tr>\n",
       "    <tr>\n",
       "      <th>3</th>\n",
       "      <td>0</td>\n",
       "      <td>0</td>\n",
       "      <td>1</td>\n",
       "      <td>0</td>\n",
       "      <td>0</td>\n",
       "      <td>0</td>\n",
       "      <td>0</td>\n",
       "      <td>0</td>\n",
       "      <td>1</td>\n",
       "      <td>0</td>\n",
       "      <td>0</td>\n",
       "      <td>0</td>\n",
       "      <td>1</td>\n",
       "    </tr>\n",
       "    <tr>\n",
       "      <th>4</th>\n",
       "      <td>1</td>\n",
       "      <td>0</td>\n",
       "      <td>1</td>\n",
       "      <td>0</td>\n",
       "      <td>0</td>\n",
       "      <td>1</td>\n",
       "      <td>0</td>\n",
       "      <td>1</td>\n",
       "      <td>0</td>\n",
       "      <td>0</td>\n",
       "      <td>0</td>\n",
       "      <td>0</td>\n",
       "      <td>0</td>\n",
       "    </tr>\n",
       "    <tr>\n",
       "      <th>...</th>\n",
       "      <td>...</td>\n",
       "      <td>...</td>\n",
       "      <td>...</td>\n",
       "      <td>...</td>\n",
       "      <td>...</td>\n",
       "      <td>...</td>\n",
       "      <td>...</td>\n",
       "      <td>...</td>\n",
       "      <td>...</td>\n",
       "      <td>...</td>\n",
       "      <td>...</td>\n",
       "      <td>...</td>\n",
       "      <td>...</td>\n",
       "    </tr>\n",
       "    <tr>\n",
       "      <th>1304</th>\n",
       "      <td>1</td>\n",
       "      <td>0</td>\n",
       "      <td>1</td>\n",
       "      <td>0</td>\n",
       "      <td>0</td>\n",
       "      <td>1</td>\n",
       "      <td>0</td>\n",
       "      <td>1</td>\n",
       "      <td>0</td>\n",
       "      <td>0</td>\n",
       "      <td>0</td>\n",
       "      <td>0</td>\n",
       "      <td>0</td>\n",
       "    </tr>\n",
       "    <tr>\n",
       "      <th>1305</th>\n",
       "      <td>0</td>\n",
       "      <td>0</td>\n",
       "      <td>0</td>\n",
       "      <td>0</td>\n",
       "      <td>0</td>\n",
       "      <td>0</td>\n",
       "      <td>0</td>\n",
       "      <td>0</td>\n",
       "      <td>0</td>\n",
       "      <td>1</td>\n",
       "      <td>0</td>\n",
       "      <td>0</td>\n",
       "      <td>0</td>\n",
       "    </tr>\n",
       "    <tr>\n",
       "      <th>1306</th>\n",
       "      <td>1</td>\n",
       "      <td>0</td>\n",
       "      <td>1</td>\n",
       "      <td>0</td>\n",
       "      <td>0</td>\n",
       "      <td>1</td>\n",
       "      <td>0</td>\n",
       "      <td>1</td>\n",
       "      <td>0</td>\n",
       "      <td>0</td>\n",
       "      <td>0</td>\n",
       "      <td>0</td>\n",
       "      <td>0</td>\n",
       "    </tr>\n",
       "    <tr>\n",
       "      <th>1307</th>\n",
       "      <td>1</td>\n",
       "      <td>0</td>\n",
       "      <td>1</td>\n",
       "      <td>0</td>\n",
       "      <td>0</td>\n",
       "      <td>1</td>\n",
       "      <td>0</td>\n",
       "      <td>1</td>\n",
       "      <td>0</td>\n",
       "      <td>0</td>\n",
       "      <td>0</td>\n",
       "      <td>0</td>\n",
       "      <td>0</td>\n",
       "    </tr>\n",
       "    <tr>\n",
       "      <th>1308</th>\n",
       "      <td>1</td>\n",
       "      <td>0</td>\n",
       "      <td>0</td>\n",
       "      <td>0</td>\n",
       "      <td>0</td>\n",
       "      <td>1</td>\n",
       "      <td>0</td>\n",
       "      <td>0</td>\n",
       "      <td>0</td>\n",
       "      <td>0</td>\n",
       "      <td>0</td>\n",
       "      <td>0</td>\n",
       "      <td>1</td>\n",
       "    </tr>\n",
       "  </tbody>\n",
       "</table>\n",
       "<p>1309 rows × 13 columns</p>\n",
       "</div>"
      ],
      "text/plain": [
       "      Sex_male  Embarked_Q  Embarked_S  Deck_DE  Deck_FG  Deck_M  Title_Miss  \\\n",
       "0            1           0           1        0        0       1           0   \n",
       "1            0           0           0        0        0       0           0   \n",
       "2            0           0           1        0        0       1           1   \n",
       "3            0           0           1        0        0       0           0   \n",
       "4            1           0           1        0        0       1           0   \n",
       "...        ...         ...         ...      ...      ...     ...         ...   \n",
       "1304         1           0           1        0        0       1           0   \n",
       "1305         0           0           0        0        0       0           0   \n",
       "1306         1           0           1        0        0       1           0   \n",
       "1307         1           0           1        0        0       1           0   \n",
       "1308         1           0           0        0        0       1           0   \n",
       "\n",
       "      Title_Mr  Title_Mrs  Title_Other  Family_Size_Grouped_Large  \\\n",
       "0            1          0            0                          0   \n",
       "1            0          1            0                          0   \n",
       "2            0          0            0                          0   \n",
       "3            0          1            0                          0   \n",
       "4            1          0            0                          0   \n",
       "...        ...        ...          ...                        ...   \n",
       "1304         1          0            0                          0   \n",
       "1305         0          0            1                          0   \n",
       "1306         1          0            0                          0   \n",
       "1307         1          0            0                          0   \n",
       "1308         0          0            0                          0   \n",
       "\n",
       "      Family_Size_Grouped_Medium  Family_Size_Grouped_Small  \n",
       "0                              0                          1  \n",
       "1                              0                          1  \n",
       "2                              0                          0  \n",
       "3                              0                          1  \n",
       "4                              0                          0  \n",
       "...                          ...                        ...  \n",
       "1304                           0                          0  \n",
       "1305                           0                          0  \n",
       "1306                           0                          0  \n",
       "1307                           0                          0  \n",
       "1308                           0                          1  \n",
       "\n",
       "[1309 rows x 13 columns]"
      ]
     },
     "execution_count": 35,
     "metadata": {},
     "output_type": "execute_result"
    }
   ],
   "source": [
    "# Get dummies \n",
    "dummies = pd.get_dummies(train_test_data[['Sex','Embarked','Deck','Title','Family_Size_Grouped']],drop_first=True)\n",
    "dummies"
   ]
  },
  {
   "cell_type": "code",
   "execution_count": 36,
   "id": "668fd3c3",
   "metadata": {
    "execution": {
     "iopub.execute_input": "2022-07-20T03:17:43.047540Z",
     "iopub.status.busy": "2022-07-20T03:17:43.046725Z",
     "iopub.status.idle": "2022-07-20T03:17:43.062291Z",
     "shell.execute_reply": "2022-07-20T03:17:43.061062Z"
    },
    "papermill": {
     "duration": 0.043951,
     "end_time": "2022-07-20T03:17:43.065017",
     "exception": false,
     "start_time": "2022-07-20T03:17:43.021066",
     "status": "completed"
    },
    "tags": []
   },
   "outputs": [
    {
     "data": {
      "text/html": [
       "<div>\n",
       "<style scoped>\n",
       "    .dataframe tbody tr th:only-of-type {\n",
       "        vertical-align: middle;\n",
       "    }\n",
       "\n",
       "    .dataframe tbody tr th {\n",
       "        vertical-align: top;\n",
       "    }\n",
       "\n",
       "    .dataframe thead th {\n",
       "        text-align: right;\n",
       "    }\n",
       "</style>\n",
       "<table border=\"1\" class=\"dataframe\">\n",
       "  <thead>\n",
       "    <tr style=\"text-align: right;\">\n",
       "      <th></th>\n",
       "      <th>Pclass</th>\n",
       "      <th>Age</th>\n",
       "      <th>Fare</th>\n",
       "      <th>TicketType</th>\n",
       "      <th>Ticket_Frequency</th>\n",
       "    </tr>\n",
       "  </thead>\n",
       "  <tbody>\n",
       "    <tr>\n",
       "      <th>0</th>\n",
       "      <td>3</td>\n",
       "      <td>3</td>\n",
       "      <td>1</td>\n",
       "      <td>0</td>\n",
       "      <td>1</td>\n",
       "    </tr>\n",
       "    <tr>\n",
       "      <th>1</th>\n",
       "      <td>1</td>\n",
       "      <td>8</td>\n",
       "      <td>12</td>\n",
       "      <td>0</td>\n",
       "      <td>2</td>\n",
       "    </tr>\n",
       "    <tr>\n",
       "      <th>2</th>\n",
       "      <td>3</td>\n",
       "      <td>5</td>\n",
       "      <td>4</td>\n",
       "      <td>0</td>\n",
       "      <td>1</td>\n",
       "    </tr>\n",
       "    <tr>\n",
       "      <th>3</th>\n",
       "      <td>1</td>\n",
       "      <td>8</td>\n",
       "      <td>11</td>\n",
       "      <td>1</td>\n",
       "      <td>2</td>\n",
       "    </tr>\n",
       "    <tr>\n",
       "      <th>4</th>\n",
       "      <td>3</td>\n",
       "      <td>8</td>\n",
       "      <td>4</td>\n",
       "      <td>1</td>\n",
       "      <td>1</td>\n",
       "    </tr>\n",
       "    <tr>\n",
       "      <th>...</th>\n",
       "      <td>...</td>\n",
       "      <td>...</td>\n",
       "      <td>...</td>\n",
       "      <td>...</td>\n",
       "      <td>...</td>\n",
       "    </tr>\n",
       "    <tr>\n",
       "      <th>1304</th>\n",
       "      <td>3</td>\n",
       "      <td>4</td>\n",
       "      <td>4</td>\n",
       "      <td>0</td>\n",
       "      <td>1</td>\n",
       "    </tr>\n",
       "    <tr>\n",
       "      <th>1305</th>\n",
       "      <td>1</td>\n",
       "      <td>8</td>\n",
       "      <td>13</td>\n",
       "      <td>0</td>\n",
       "      <td>3</td>\n",
       "    </tr>\n",
       "    <tr>\n",
       "      <th>1306</th>\n",
       "      <td>3</td>\n",
       "      <td>8</td>\n",
       "      <td>1</td>\n",
       "      <td>0</td>\n",
       "      <td>1</td>\n",
       "    </tr>\n",
       "    <tr>\n",
       "      <th>1307</th>\n",
       "      <td>3</td>\n",
       "      <td>4</td>\n",
       "      <td>4</td>\n",
       "      <td>1</td>\n",
       "      <td>1</td>\n",
       "    </tr>\n",
       "    <tr>\n",
       "      <th>1308</th>\n",
       "      <td>3</td>\n",
       "      <td>4</td>\n",
       "      <td>8</td>\n",
       "      <td>1</td>\n",
       "      <td>3</td>\n",
       "    </tr>\n",
       "  </tbody>\n",
       "</table>\n",
       "<p>1309 rows × 5 columns</p>\n",
       "</div>"
      ],
      "text/plain": [
       "      Pclass  Age  Fare  TicketType  Ticket_Frequency\n",
       "0          3    3     1           0                 1\n",
       "1          1    8    12           0                 2\n",
       "2          3    5     4           0                 1\n",
       "3          1    8    11           1                 2\n",
       "4          3    8     4           1                 1\n",
       "...      ...  ...   ...         ...               ...\n",
       "1304       3    4     4           0                 1\n",
       "1305       1    8    13           0                 3\n",
       "1306       3    8     1           0                 1\n",
       "1307       3    4     4           1                 1\n",
       "1308       3    4     8           1                 3\n",
       "\n",
       "[1309 rows x 5 columns]"
      ]
     },
     "execution_count": 36,
     "metadata": {},
     "output_type": "execute_result"
    }
   ],
   "source": [
    "train_test_data = train_test_data.drop(['Sex','Embarked','Deck','Title','Family_Size_Grouped'],axis=1)\n",
    "train_test_data"
   ]
  },
  {
   "cell_type": "code",
   "execution_count": 37,
   "id": "628eadbd",
   "metadata": {
    "execution": {
     "iopub.execute_input": "2022-07-20T03:17:43.117324Z",
     "iopub.status.busy": "2022-07-20T03:17:43.115969Z",
     "iopub.status.idle": "2022-07-20T03:17:43.122763Z",
     "shell.execute_reply": "2022-07-20T03:17:43.121827Z"
    },
    "papermill": {
     "duration": 0.035449,
     "end_time": "2022-07-20T03:17:43.125225",
     "exception": false,
     "start_time": "2022-07-20T03:17:43.089776",
     "status": "completed"
    },
    "tags": []
   },
   "outputs": [],
   "source": [
    "train_test_data_dum = pd.concat([train_test_data,dummies],axis=1,ignore_index=False)"
   ]
  },
  {
   "cell_type": "code",
   "execution_count": 38,
   "id": "c46084a9",
   "metadata": {
    "execution": {
     "iopub.execute_input": "2022-07-20T03:17:43.177668Z",
     "iopub.status.busy": "2022-07-20T03:17:43.176399Z",
     "iopub.status.idle": "2022-07-20T03:17:43.198009Z",
     "shell.execute_reply": "2022-07-20T03:17:43.196874Z"
    },
    "papermill": {
     "duration": 0.050622,
     "end_time": "2022-07-20T03:17:43.200513",
     "exception": false,
     "start_time": "2022-07-20T03:17:43.149891",
     "status": "completed"
    },
    "tags": []
   },
   "outputs": [
    {
     "data": {
      "text/html": [
       "<div>\n",
       "<style scoped>\n",
       "    .dataframe tbody tr th:only-of-type {\n",
       "        vertical-align: middle;\n",
       "    }\n",
       "\n",
       "    .dataframe tbody tr th {\n",
       "        vertical-align: top;\n",
       "    }\n",
       "\n",
       "    .dataframe thead th {\n",
       "        text-align: right;\n",
       "    }\n",
       "</style>\n",
       "<table border=\"1\" class=\"dataframe\">\n",
       "  <thead>\n",
       "    <tr style=\"text-align: right;\">\n",
       "      <th></th>\n",
       "      <th>Pclass</th>\n",
       "      <th>Age</th>\n",
       "      <th>Fare</th>\n",
       "      <th>TicketType</th>\n",
       "      <th>Ticket_Frequency</th>\n",
       "      <th>Sex_male</th>\n",
       "      <th>Embarked_Q</th>\n",
       "      <th>Embarked_S</th>\n",
       "      <th>Deck_DE</th>\n",
       "      <th>Deck_FG</th>\n",
       "      <th>Deck_M</th>\n",
       "      <th>Title_Miss</th>\n",
       "      <th>Title_Mr</th>\n",
       "      <th>Title_Mrs</th>\n",
       "      <th>Title_Other</th>\n",
       "      <th>Family_Size_Grouped_Large</th>\n",
       "      <th>Family_Size_Grouped_Medium</th>\n",
       "      <th>Family_Size_Grouped_Small</th>\n",
       "    </tr>\n",
       "  </thead>\n",
       "  <tbody>\n",
       "    <tr>\n",
       "      <th>0</th>\n",
       "      <td>3</td>\n",
       "      <td>3</td>\n",
       "      <td>1</td>\n",
       "      <td>0</td>\n",
       "      <td>1</td>\n",
       "      <td>1</td>\n",
       "      <td>0</td>\n",
       "      <td>1</td>\n",
       "      <td>0</td>\n",
       "      <td>0</td>\n",
       "      <td>1</td>\n",
       "      <td>0</td>\n",
       "      <td>1</td>\n",
       "      <td>0</td>\n",
       "      <td>0</td>\n",
       "      <td>0</td>\n",
       "      <td>0</td>\n",
       "      <td>1</td>\n",
       "    </tr>\n",
       "    <tr>\n",
       "      <th>1</th>\n",
       "      <td>1</td>\n",
       "      <td>8</td>\n",
       "      <td>12</td>\n",
       "      <td>0</td>\n",
       "      <td>2</td>\n",
       "      <td>0</td>\n",
       "      <td>0</td>\n",
       "      <td>0</td>\n",
       "      <td>0</td>\n",
       "      <td>0</td>\n",
       "      <td>0</td>\n",
       "      <td>0</td>\n",
       "      <td>0</td>\n",
       "      <td>1</td>\n",
       "      <td>0</td>\n",
       "      <td>0</td>\n",
       "      <td>0</td>\n",
       "      <td>1</td>\n",
       "    </tr>\n",
       "    <tr>\n",
       "      <th>2</th>\n",
       "      <td>3</td>\n",
       "      <td>5</td>\n",
       "      <td>4</td>\n",
       "      <td>0</td>\n",
       "      <td>1</td>\n",
       "      <td>0</td>\n",
       "      <td>0</td>\n",
       "      <td>1</td>\n",
       "      <td>0</td>\n",
       "      <td>0</td>\n",
       "      <td>1</td>\n",
       "      <td>1</td>\n",
       "      <td>0</td>\n",
       "      <td>0</td>\n",
       "      <td>0</td>\n",
       "      <td>0</td>\n",
       "      <td>0</td>\n",
       "      <td>0</td>\n",
       "    </tr>\n",
       "    <tr>\n",
       "      <th>3</th>\n",
       "      <td>1</td>\n",
       "      <td>8</td>\n",
       "      <td>11</td>\n",
       "      <td>1</td>\n",
       "      <td>2</td>\n",
       "      <td>0</td>\n",
       "      <td>0</td>\n",
       "      <td>1</td>\n",
       "      <td>0</td>\n",
       "      <td>0</td>\n",
       "      <td>0</td>\n",
       "      <td>0</td>\n",
       "      <td>0</td>\n",
       "      <td>1</td>\n",
       "      <td>0</td>\n",
       "      <td>0</td>\n",
       "      <td>0</td>\n",
       "      <td>1</td>\n",
       "    </tr>\n",
       "    <tr>\n",
       "      <th>4</th>\n",
       "      <td>3</td>\n",
       "      <td>8</td>\n",
       "      <td>4</td>\n",
       "      <td>1</td>\n",
       "      <td>1</td>\n",
       "      <td>1</td>\n",
       "      <td>0</td>\n",
       "      <td>1</td>\n",
       "      <td>0</td>\n",
       "      <td>0</td>\n",
       "      <td>1</td>\n",
       "      <td>0</td>\n",
       "      <td>1</td>\n",
       "      <td>0</td>\n",
       "      <td>0</td>\n",
       "      <td>0</td>\n",
       "      <td>0</td>\n",
       "      <td>0</td>\n",
       "    </tr>\n",
       "    <tr>\n",
       "      <th>...</th>\n",
       "      <td>...</td>\n",
       "      <td>...</td>\n",
       "      <td>...</td>\n",
       "      <td>...</td>\n",
       "      <td>...</td>\n",
       "      <td>...</td>\n",
       "      <td>...</td>\n",
       "      <td>...</td>\n",
       "      <td>...</td>\n",
       "      <td>...</td>\n",
       "      <td>...</td>\n",
       "      <td>...</td>\n",
       "      <td>...</td>\n",
       "      <td>...</td>\n",
       "      <td>...</td>\n",
       "      <td>...</td>\n",
       "      <td>...</td>\n",
       "      <td>...</td>\n",
       "    </tr>\n",
       "    <tr>\n",
       "      <th>1304</th>\n",
       "      <td>3</td>\n",
       "      <td>4</td>\n",
       "      <td>4</td>\n",
       "      <td>0</td>\n",
       "      <td>1</td>\n",
       "      <td>1</td>\n",
       "      <td>0</td>\n",
       "      <td>1</td>\n",
       "      <td>0</td>\n",
       "      <td>0</td>\n",
       "      <td>1</td>\n",
       "      <td>0</td>\n",
       "      <td>1</td>\n",
       "      <td>0</td>\n",
       "      <td>0</td>\n",
       "      <td>0</td>\n",
       "      <td>0</td>\n",
       "      <td>0</td>\n",
       "    </tr>\n",
       "    <tr>\n",
       "      <th>1305</th>\n",
       "      <td>1</td>\n",
       "      <td>8</td>\n",
       "      <td>13</td>\n",
       "      <td>0</td>\n",
       "      <td>3</td>\n",
       "      <td>0</td>\n",
       "      <td>0</td>\n",
       "      <td>0</td>\n",
       "      <td>0</td>\n",
       "      <td>0</td>\n",
       "      <td>0</td>\n",
       "      <td>0</td>\n",
       "      <td>0</td>\n",
       "      <td>0</td>\n",
       "      <td>1</td>\n",
       "      <td>0</td>\n",
       "      <td>0</td>\n",
       "      <td>0</td>\n",
       "    </tr>\n",
       "    <tr>\n",
       "      <th>1306</th>\n",
       "      <td>3</td>\n",
       "      <td>8</td>\n",
       "      <td>1</td>\n",
       "      <td>0</td>\n",
       "      <td>1</td>\n",
       "      <td>1</td>\n",
       "      <td>0</td>\n",
       "      <td>1</td>\n",
       "      <td>0</td>\n",
       "      <td>0</td>\n",
       "      <td>1</td>\n",
       "      <td>0</td>\n",
       "      <td>1</td>\n",
       "      <td>0</td>\n",
       "      <td>0</td>\n",
       "      <td>0</td>\n",
       "      <td>0</td>\n",
       "      <td>0</td>\n",
       "    </tr>\n",
       "    <tr>\n",
       "      <th>1307</th>\n",
       "      <td>3</td>\n",
       "      <td>4</td>\n",
       "      <td>4</td>\n",
       "      <td>1</td>\n",
       "      <td>1</td>\n",
       "      <td>1</td>\n",
       "      <td>0</td>\n",
       "      <td>1</td>\n",
       "      <td>0</td>\n",
       "      <td>0</td>\n",
       "      <td>1</td>\n",
       "      <td>0</td>\n",
       "      <td>1</td>\n",
       "      <td>0</td>\n",
       "      <td>0</td>\n",
       "      <td>0</td>\n",
       "      <td>0</td>\n",
       "      <td>0</td>\n",
       "    </tr>\n",
       "    <tr>\n",
       "      <th>1308</th>\n",
       "      <td>3</td>\n",
       "      <td>4</td>\n",
       "      <td>8</td>\n",
       "      <td>1</td>\n",
       "      <td>3</td>\n",
       "      <td>1</td>\n",
       "      <td>0</td>\n",
       "      <td>0</td>\n",
       "      <td>0</td>\n",
       "      <td>0</td>\n",
       "      <td>1</td>\n",
       "      <td>0</td>\n",
       "      <td>0</td>\n",
       "      <td>0</td>\n",
       "      <td>0</td>\n",
       "      <td>0</td>\n",
       "      <td>0</td>\n",
       "      <td>1</td>\n",
       "    </tr>\n",
       "  </tbody>\n",
       "</table>\n",
       "<p>1309 rows × 18 columns</p>\n",
       "</div>"
      ],
      "text/plain": [
       "      Pclass  Age  Fare  TicketType  Ticket_Frequency  Sex_male  Embarked_Q  \\\n",
       "0          3    3     1           0                 1         1           0   \n",
       "1          1    8    12           0                 2         0           0   \n",
       "2          3    5     4           0                 1         0           0   \n",
       "3          1    8    11           1                 2         0           0   \n",
       "4          3    8     4           1                 1         1           0   \n",
       "...      ...  ...   ...         ...               ...       ...         ...   \n",
       "1304       3    4     4           0                 1         1           0   \n",
       "1305       1    8    13           0                 3         0           0   \n",
       "1306       3    8     1           0                 1         1           0   \n",
       "1307       3    4     4           1                 1         1           0   \n",
       "1308       3    4     8           1                 3         1           0   \n",
       "\n",
       "      Embarked_S  Deck_DE  Deck_FG  Deck_M  Title_Miss  Title_Mr  Title_Mrs  \\\n",
       "0              1        0        0       1           0         1          0   \n",
       "1              0        0        0       0           0         0          1   \n",
       "2              1        0        0       1           1         0          0   \n",
       "3              1        0        0       0           0         0          1   \n",
       "4              1        0        0       1           0         1          0   \n",
       "...          ...      ...      ...     ...         ...       ...        ...   \n",
       "1304           1        0        0       1           0         1          0   \n",
       "1305           0        0        0       0           0         0          0   \n",
       "1306           1        0        0       1           0         1          0   \n",
       "1307           1        0        0       1           0         1          0   \n",
       "1308           0        0        0       1           0         0          0   \n",
       "\n",
       "      Title_Other  Family_Size_Grouped_Large  Family_Size_Grouped_Medium  \\\n",
       "0               0                          0                           0   \n",
       "1               0                          0                           0   \n",
       "2               0                          0                           0   \n",
       "3               0                          0                           0   \n",
       "4               0                          0                           0   \n",
       "...           ...                        ...                         ...   \n",
       "1304            0                          0                           0   \n",
       "1305            1                          0                           0   \n",
       "1306            0                          0                           0   \n",
       "1307            0                          0                           0   \n",
       "1308            0                          0                           0   \n",
       "\n",
       "      Family_Size_Grouped_Small  \n",
       "0                             1  \n",
       "1                             1  \n",
       "2                             0  \n",
       "3                             1  \n",
       "4                             0  \n",
       "...                         ...  \n",
       "1304                          0  \n",
       "1305                          0  \n",
       "1306                          0  \n",
       "1307                          0  \n",
       "1308                          1  \n",
       "\n",
       "[1309 rows x 18 columns]"
      ]
     },
     "execution_count": 38,
     "metadata": {},
     "output_type": "execute_result"
    }
   ],
   "source": [
    "train_test_data_dum"
   ]
  },
  {
   "cell_type": "code",
   "execution_count": 39,
   "id": "1af8be1a",
   "metadata": {
    "execution": {
     "iopub.execute_input": "2022-07-20T03:17:43.252429Z",
     "iopub.status.busy": "2022-07-20T03:17:43.251116Z",
     "iopub.status.idle": "2022-07-20T03:17:43.257487Z",
     "shell.execute_reply": "2022-07-20T03:17:43.256626Z"
    },
    "papermill": {
     "duration": 0.034846,
     "end_time": "2022-07-20T03:17:43.259783",
     "exception": false,
     "start_time": "2022-07-20T03:17:43.224937",
     "status": "completed"
    },
    "tags": []
   },
   "outputs": [],
   "source": [
    "X = train_test_data_dum.iloc[0:891]\n",
    "y = train['Survived']\n",
    "X_submission = train_test_data_dum.iloc[891:1309]"
   ]
  },
  {
   "cell_type": "code",
   "execution_count": 40,
   "id": "2c18772a",
   "metadata": {
    "execution": {
     "iopub.execute_input": "2022-07-20T03:17:43.311837Z",
     "iopub.status.busy": "2022-07-20T03:17:43.310681Z",
     "iopub.status.idle": "2022-07-20T03:17:43.317943Z",
     "shell.execute_reply": "2022-07-20T03:17:43.316363Z"
    },
    "papermill": {
     "duration": 0.037721,
     "end_time": "2022-07-20T03:17:43.322014",
     "exception": false,
     "start_time": "2022-07-20T03:17:43.284293",
     "status": "completed"
    },
    "tags": []
   },
   "outputs": [
    {
     "name": "stdout",
     "output_type": "stream",
     "text": [
      "(891, 18)\n",
      "(891,)\n",
      "(418, 18)\n"
     ]
    }
   ],
   "source": [
    "print(X.shape)\n",
    "print(y.shape)\n",
    "print(X_submission.shape)"
   ]
  },
  {
   "cell_type": "code",
   "execution_count": 41,
   "id": "5a78115c",
   "metadata": {
    "execution": {
     "iopub.execute_input": "2022-07-20T03:17:43.374733Z",
     "iopub.status.busy": "2022-07-20T03:17:43.373867Z",
     "iopub.status.idle": "2022-07-20T03:17:43.382620Z",
     "shell.execute_reply": "2022-07-20T03:17:43.381684Z"
    },
    "papermill": {
     "duration": 0.037662,
     "end_time": "2022-07-20T03:17:43.384933",
     "exception": false,
     "start_time": "2022-07-20T03:17:43.347271",
     "status": "completed"
    },
    "tags": []
   },
   "outputs": [
    {
     "data": {
      "text/plain": [
       "0      0\n",
       "1      1\n",
       "2      1\n",
       "3      1\n",
       "4      0\n",
       "      ..\n",
       "886    0\n",
       "887    1\n",
       "888    0\n",
       "889    1\n",
       "890    0\n",
       "Name: Survived, Length: 891, dtype: int64"
      ]
     },
     "execution_count": 41,
     "metadata": {},
     "output_type": "execute_result"
    }
   ],
   "source": [
    "y"
   ]
  },
  {
   "cell_type": "markdown",
   "id": "937bfce7",
   "metadata": {
    "papermill": {
     "duration": 0.025247,
     "end_time": "2022-07-20T03:17:43.435043",
     "exception": false,
     "start_time": "2022-07-20T03:17:43.409796",
     "status": "completed"
    },
    "tags": []
   },
   "source": [
    "# Model Training"
   ]
  },
  {
   "cell_type": "code",
   "execution_count": 42,
   "id": "c1c61c8a",
   "metadata": {
    "execution": {
     "iopub.execute_input": "2022-07-20T03:17:43.488066Z",
     "iopub.status.busy": "2022-07-20T03:17:43.487241Z",
     "iopub.status.idle": "2022-07-20T03:17:45.349487Z",
     "shell.execute_reply": "2022-07-20T03:17:45.348239Z"
    },
    "papermill": {
     "duration": 1.89244,
     "end_time": "2022-07-20T03:17:45.352225",
     "exception": false,
     "start_time": "2022-07-20T03:17:43.459785",
     "status": "completed"
    },
    "tags": []
   },
   "outputs": [
    {
     "data": {
      "text/html": [
       "<style type='text/css'>\n",
       ".datatable table.frame { margin-bottom: 0; }\n",
       ".datatable table.frame thead { border-bottom: none; }\n",
       ".datatable table.frame tr.coltypes td {  color: #FFFFFF;  line-height: 6px;  padding: 0 0.5em;}\n",
       ".datatable .bool    { background: #DDDD99; }\n",
       ".datatable .object  { background: #565656; }\n",
       ".datatable .int     { background: #5D9E5D; }\n",
       ".datatable .float   { background: #4040CC; }\n",
       ".datatable .str     { background: #CC4040; }\n",
       ".datatable .time    { background: #40CC40; }\n",
       ".datatable .row_index {  background: var(--jp-border-color3);  border-right: 1px solid var(--jp-border-color0);  color: var(--jp-ui-font-color3);  font-size: 9px;}\n",
       ".datatable .frame tbody td { text-align: left; }\n",
       ".datatable .frame tr.coltypes .row_index {  background: var(--jp-border-color0);}\n",
       ".datatable th:nth-child(2) { padding-left: 12px; }\n",
       ".datatable .hellipsis {  color: var(--jp-cell-editor-border-color);}\n",
       ".datatable .vellipsis {  background: var(--jp-layout-color0);  color: var(--jp-cell-editor-border-color);}\n",
       ".datatable .na {  color: var(--jp-cell-editor-border-color);  font-size: 80%;}\n",
       ".datatable .sp {  opacity: 0.25;}\n",
       ".datatable .footer { font-size: 9px; }\n",
       ".datatable .frame_dimensions {  background: var(--jp-border-color3);  border-top: 1px solid var(--jp-border-color0);  color: var(--jp-ui-font-color3);  display: inline-block;  opacity: 0.6;  padding: 1px 10px 1px 5px;}\n",
       "</style>\n"
      ],
      "text/plain": [
       "<IPython.core.display.HTML object>"
      ]
     },
     "metadata": {},
     "output_type": "display_data"
    },
    {
     "name": "stderr",
     "output_type": "stream",
     "text": [
      "/opt/conda/lib/python3.7/site-packages/sklearn/experimental/enable_hist_gradient_boosting.py:17: UserWarning: Since version 1.0, it is not needed to import enable_hist_gradient_boosting anymore. HistGradientBoostingClassifier and HistGradientBoostingRegressor are now stable and can be normally imported from sklearn.ensemble.\n",
      "  \"Since version 1.0, \"\n"
     ]
    }
   ],
   "source": [
    "from sklearn.linear_model import LogisticRegression\n",
    "from sklearn.tree import DecisionTreeClassifier\n",
    "from sklearn.ensemble import RandomForestClassifier\n",
    "from xgboost.sklearn import XGBClassifier\n",
    "from sklearn.ensemble import GradientBoostingClassifier\n",
    "from lightgbm import LGBMClassifier\n",
    "from catboost import CatBoostClassifier\n",
    "from sklearn.experimental import enable_hist_gradient_boosting\n",
    "from sklearn.ensemble import HistGradientBoostingClassifier\n",
    "\n",
    "from sklearn import metrics\n",
    "from sklearn.model_selection import train_test_split\n",
    "from sklearn.model_selection import GridSearchCV\n",
    "\n",
    "X_train, X_test, y_train, y_test = train_test_split(X, y, test_size = 0.2, random_state = 42);"
   ]
  },
  {
   "cell_type": "code",
   "execution_count": 43,
   "id": "53b08ed9",
   "metadata": {
    "execution": {
     "iopub.execute_input": "2022-07-20T03:17:45.406949Z",
     "iopub.status.busy": "2022-07-20T03:17:45.406254Z",
     "iopub.status.idle": "2022-07-20T03:17:45.421322Z",
     "shell.execute_reply": "2022-07-20T03:17:45.420368Z"
    },
    "papermill": {
     "duration": 0.045733,
     "end_time": "2022-07-20T03:17:45.423827",
     "exception": false,
     "start_time": "2022-07-20T03:17:45.378094",
     "status": "completed"
    },
    "tags": []
   },
   "outputs": [],
   "source": [
    "def find_best_model(X_train, X_test, y_train, y_test):\n",
    "    \n",
    "    # Logistic Regression\n",
    "    logreg = LogisticRegression(max_iter = 600)\n",
    "    logreg.fit(X_train, y_train)\n",
    "    y_pred = logreg.predict(X_test)\n",
    "    logreg_acc = round(metrics.accuracy_score(y_test, y_pred) * 100, 2)\n",
    "    \n",
    "    # Decision Tree\n",
    "    decision_tree = DecisionTreeClassifier()\n",
    "    decision_tree.fit(X_train, y_train)\n",
    "    y_pred = decision_tree.predict(X_test)\n",
    "    decision_tree_acc = round(metrics.accuracy_score(y_test, y_pred) * 100, 2)\n",
    "    \n",
    "    # Random Forest\n",
    "    random_forest = RandomForestClassifier()\n",
    "    random_forest.fit(X_train, y_train)\n",
    "    y_pred = random_forest.predict(X_test)\n",
    "    random_forest_acc = round(metrics.accuracy_score(y_test, y_pred) * 100, 2)\n",
    "    \n",
    "    # XGBoost\n",
    "    xgb = XGBClassifier()\n",
    "    xgb.fit(X_train, y_train)\n",
    "    y_pred = xgb.predict(X_test)\n",
    "    xgb_acc = round(metrics.accuracy_score(y_test, y_pred) * 100, 2)\n",
    "    \n",
    "    # GBM\n",
    "    gbm = GradientBoostingClassifier()\n",
    "    gbm.fit(X_train, y_train)\n",
    "    y_pred = gbm.predict(X_test)\n",
    "    gbm_acc = round(metrics.accuracy_score(y_test, y_pred) * 100, 2)\n",
    "    \n",
    "    # LightGBM\n",
    "    lgbm = LGBMClassifier()\n",
    "    lgbm.fit(X_train, y_train)\n",
    "    y_pred = lgbm.predict(X_test)\n",
    "    lgbm_acc = round(metrics.accuracy_score(y_test, y_pred) * 100, 2)\n",
    "        \n",
    "    # Catboost\n",
    "    catb = CatBoostClassifier(verbose = 0)\n",
    "    catb.fit(X_train, y_train)\n",
    "    y_pred = catb.predict(X_test)\n",
    "    catb_acc = round(metrics.accuracy_score(y_test, y_pred) * 100, 2)\n",
    "    \n",
    "    # Histogram-based Gradient Boosting Classification Tree\n",
    "    hgb = HistGradientBoostingClassifier()\n",
    "    hgb.fit(X_train, y_train)\n",
    "    y_pred = hgb.predict(X_test)\n",
    "    hgb_acc = round(metrics.accuracy_score(y_test, y_pred) * 100, 2)\n",
    "    \n",
    "    model_df = pd.DataFrame({'Model': ['Logistic Regression', 'Decision Tree', 'Random Forest', 'XGBoost', 'GBM', 'LightGBM', 'Catboost', 'HistBoost'],\n",
    "                       'Score': [logreg_acc, decision_tree_acc, random_forest_acc, xgb_acc, gbm_acc, lgbm_acc, catb_acc, hgb_acc]})\n",
    "    print(model_df.sort_values('Score', ascending = False).reset_index(drop = True))"
   ]
  },
  {
   "cell_type": "code",
   "execution_count": 44,
   "id": "56b9d8ca",
   "metadata": {
    "execution": {
     "iopub.execute_input": "2022-07-20T03:17:45.476856Z",
     "iopub.status.busy": "2022-07-20T03:17:45.475882Z",
     "iopub.status.idle": "2022-07-20T03:17:48.066337Z",
     "shell.execute_reply": "2022-07-20T03:17:48.064816Z"
    },
    "papermill": {
     "duration": 2.621149,
     "end_time": "2022-07-20T03:17:48.070367",
     "exception": false,
     "start_time": "2022-07-20T03:17:45.449218",
     "status": "completed"
    },
    "tags": []
   },
   "outputs": [
    {
     "name": "stdout",
     "output_type": "stream",
     "text": [
      "                 Model  Score\n",
      "0              XGBoost  84.92\n",
      "1                  GBM  83.80\n",
      "2             Catboost  83.80\n",
      "3  Logistic Regression  82.12\n",
      "4             LightGBM  81.56\n",
      "5            HistBoost  81.56\n",
      "6        Random Forest  81.01\n",
      "7        Decision Tree  79.89\n"
     ]
    }
   ],
   "source": [
    "find_best_model(X_train, X_test, y_train, y_test)"
   ]
  },
  {
   "cell_type": "code",
   "execution_count": 45,
   "id": "f55b5c9d",
   "metadata": {
    "execution": {
     "iopub.execute_input": "2022-07-20T03:17:48.124357Z",
     "iopub.status.busy": "2022-07-20T03:17:48.123514Z",
     "iopub.status.idle": "2022-07-20T03:17:48.130682Z",
     "shell.execute_reply": "2022-07-20T03:17:48.129481Z"
    },
    "papermill": {
     "duration": 0.035745,
     "end_time": "2022-07-20T03:17:48.133047",
     "exception": false,
     "start_time": "2022-07-20T03:17:48.097302",
     "status": "completed"
    },
    "tags": []
   },
   "outputs": [],
   "source": [
    "# Grid Search on Random Forest Model\n",
    "# rfc = RandomForestClassifier(class_weight='balanced')\n",
    "# param_grid = {'n_estimators':[100,200,500,1000],\n",
    "#              'max_features':['sqrt','log2'],\n",
    "#               'max_depth' : [4, 6, 8, 10],\n",
    "#               'criterion' :['gini', 'entropy'],\n",
    "#              'bootstrap':[True,False],\n",
    "#              'oob_score':[True,False]\n",
    "#              }  # Note, oob_score only makes sense when bootstrap=True!\n",
    "\n",
    "# grid = GridSearchCV(estimator=rfc, param_grid=param_grid, cv=5)\n",
    "# grid.fit(X,y)\n",
    "# print('Best hyperparameters:',grid.best_params_)"
   ]
  },
  {
   "cell_type": "code",
   "execution_count": 46,
   "id": "3d01ff14",
   "metadata": {
    "execution": {
     "iopub.execute_input": "2022-07-20T03:17:48.184975Z",
     "iopub.status.busy": "2022-07-20T03:17:48.184593Z",
     "iopub.status.idle": "2022-07-20T03:17:52.604662Z",
     "shell.execute_reply": "2022-07-20T03:17:52.603333Z"
    },
    "papermill": {
     "duration": 4.449312,
     "end_time": "2022-07-20T03:17:52.607407",
     "exception": false,
     "start_time": "2022-07-20T03:17:48.158095",
     "status": "completed"
    },
    "tags": []
   },
   "outputs": [
    {
     "data": {
      "text/plain": [
       "RandomForestClassifier(class_weight='balanced', criterion='entropy',\n",
       "                       max_depth=8, max_features='sqrt', min_samples_leaf=6,\n",
       "                       min_samples_split=6, n_estimators=1750, oob_score=True)"
      ]
     },
     "execution_count": 46,
     "metadata": {},
     "output_type": "execute_result"
    }
   ],
   "source": [
    "rfc = RandomForestClassifier(class_weight='balanced',bootstrap=True,criterion='entropy',\n",
    "                             max_depth=8,max_features='sqrt',n_estimators=1750,oob_score=True,\n",
    "                            min_samples_split=6,min_samples_leaf=6)\n",
    "rfc.fit(X,y)"
   ]
  },
  {
   "cell_type": "code",
   "execution_count": 47,
   "id": "c5230c41",
   "metadata": {
    "execution": {
     "iopub.execute_input": "2022-07-20T03:17:52.659195Z",
     "iopub.status.busy": "2022-07-20T03:17:52.658787Z",
     "iopub.status.idle": "2022-07-20T03:17:52.948542Z",
     "shell.execute_reply": "2022-07-20T03:17:52.946920Z"
    },
    "papermill": {
     "duration": 0.31908,
     "end_time": "2022-07-20T03:17:52.951526",
     "exception": false,
     "start_time": "2022-07-20T03:17:52.632446",
     "status": "completed"
    },
    "tags": []
   },
   "outputs": [],
   "source": [
    "predictions = rfc.predict(X_submission)\n",
    "output = pd.DataFrame({'PassengerId': test.PassengerId, 'Survived': predictions})\n",
    "output.to_csv('submission.csv', index=False)"
   ]
  },
  {
   "cell_type": "code",
   "execution_count": null,
   "id": "c98604e1",
   "metadata": {
    "papermill": {
     "duration": 0.025078,
     "end_time": "2022-07-20T03:17:53.002026",
     "exception": false,
     "start_time": "2022-07-20T03:17:52.976948",
     "status": "completed"
    },
    "tags": []
   },
   "outputs": [],
   "source": []
  }
 ],
 "metadata": {
  "kernelspec": {
   "display_name": "Python 3",
   "language": "python",
   "name": "python3"
  },
  "language_info": {
   "codemirror_mode": {
    "name": "ipython",
    "version": 3
   },
   "file_extension": ".py",
   "mimetype": "text/x-python",
   "name": "python",
   "nbconvert_exporter": "python",
   "pygments_lexer": "ipython3",
   "version": "3.7.12"
  },
  "papermill": {
   "default_parameters": {},
   "duration": 29.623358,
   "end_time": "2022-07-20T03:17:53.952612",
   "environment_variables": {},
   "exception": null,
   "input_path": "__notebook__.ipynb",
   "output_path": "__notebook__.ipynb",
   "parameters": {},
   "start_time": "2022-07-20T03:17:24.329254",
   "version": "2.3.4"
  }
 },
 "nbformat": 4,
 "nbformat_minor": 5
}
