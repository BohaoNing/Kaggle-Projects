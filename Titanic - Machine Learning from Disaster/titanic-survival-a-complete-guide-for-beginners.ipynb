{
 "cells": [
  {
   "cell_type": "markdown",
   "metadata": {
    "_cell_guid": "6a09d4fb-60c5-4f45-b844-8c788a50c543",
    "_uuid": "8e892e637f005dd61ec7dcb95865e52f3de2a77f",
    "papermill": {
     "duration": 0.0959,
     "end_time": "2022-07-19T19:27:08.746007",
     "exception": false,
     "start_time": "2022-07-19T19:27:08.650107",
     "status": "completed"
    },
    "tags": []
   },
   "source": [
    "# Titanic: Machine Learning from Disaster Prediction:<br> (EDA+ Data Cleaning + Feature Engineering + Modelling + Predictions)\n",
    "\n",
    "### Notebook created by Paras Varshney https://www.kaggle.com/blurredmachine"
   ]
  },
  {
   "cell_type": "markdown",
   "metadata": {
    "papermill": {
     "duration": 0.090848,
     "end_time": "2022-07-19T19:27:08.928816",
     "exception": false,
     "start_time": "2022-07-19T19:27:08.837968",
     "status": "completed"
    },
    "tags": []
   },
   "source": [
    "![Titanic Image](https://i.pinimg.com/originals/8a/17/ba/8a17baa38518709469915741d11cea1a.gif)\n",
    "### Start here! Predict survival on the Titanic and get familiar with ML basics."
   ]
  },
  {
   "cell_type": "markdown",
   "metadata": {
    "papermill": {
     "duration": 0.092472,
     "end_time": "2022-07-19T19:27:09.113072",
     "exception": false,
     "start_time": "2022-07-19T19:27:09.020600",
     "status": "completed"
    },
    "tags": []
   },
   "source": [
    "### Important Links:\n",
    "- Competition: https://www.kaggle.com/c/titanic\n",
    "- Submission: https://www.kaggle.com/c/titanic/submit\n",
    "- Notebook: https://www.kaggle.com/blurredmachine/titanic-survival-a-complete-guide-for-beginners"
   ]
  },
  {
   "cell_type": "markdown",
   "metadata": {
    "papermill": {
     "duration": 0.090172,
     "end_time": "2022-07-19T19:27:09.293412",
     "exception": false,
     "start_time": "2022-07-19T19:27:09.203240",
     "status": "completed"
    },
    "tags": []
   },
   "source": [
    "### Benchmarking scores:\n",
    "\n",
    "* DTree\t=> 87.21%\n",
    "* RF => 87.21%\n",
    "* KNN => 84.40%\n",
    "* SVM => 83.73%\n",
    "* LR => 81.14%\n",
    "* L-SVC => 79.46%\n",
    "* Perceptron => 78.23%\n",
    "* NB => 77.78%\n",
    "* SGD => 39.84%"
   ]
  },
  {
   "cell_type": "markdown",
   "metadata": {
    "papermill": {
     "duration": 0.090249,
     "end_time": "2022-07-19T19:27:09.474092",
     "exception": false,
     "start_time": "2022-07-19T19:27:09.383843",
     "status": "completed"
    },
    "tags": []
   },
   "source": [
    "In this notebook we are going to do a walkthrough on the Titanic disaster survival prediction problem. This notebook is mostly focused on Beginners Learning for simple machine learning concepts and how to apply them into real world problems. \n",
    "\n",
    "- The notebook has a final submission file which is submitted directly in the competition\n",
    "[Titanic Competition](https://www.kaggle.com/c/titanic)\n",
    "\n",
    "- The final result of the notebook is mentioned in the committed solution below and a detailed description to achieve that score is mentioned in this comprehensive notebook in a step by step process.\n",
    "\n",
    "- The notebook is intended for Beginners who are starting into Machine Learning as well as the moderate ones who are looking for some good techniques to perform in EDA, data preprocessing, plotting, model building and much more. "
   ]
  },
  {
   "cell_type": "markdown",
   "metadata": {
    "papermill": {
     "duration": 0.091846,
     "end_time": "2022-07-19T19:27:09.655812",
     "exception": false,
     "start_time": "2022-07-19T19:27:09.563966",
     "status": "completed"
    },
    "tags": []
   },
   "source": [
    "### Importing Libraries"
   ]
  },
  {
   "cell_type": "code",
   "execution_count": 1,
   "metadata": {
    "_cell_guid": "868e55e4-03fd-4a11-a549-10febd722d11",
    "_uuid": "842d8d39aab673f814761aac46acffc5d4c332ba",
    "execution": {
     "iopub.execute_input": "2022-07-19T19:27:09.840270Z",
     "iopub.status.busy": "2022-07-19T19:27:09.839590Z",
     "iopub.status.idle": "2022-07-19T19:27:10.948837Z",
     "shell.execute_reply": "2022-07-19T19:27:10.948153Z"
    },
    "papermill": {
     "duration": 1.202703,
     "end_time": "2022-07-19T19:27:10.948976",
     "exception": false,
     "start_time": "2022-07-19T19:27:09.746273",
     "status": "completed"
    },
    "tags": []
   },
   "outputs": [],
   "source": [
    "import pandas as pd\n",
    "import numpy as np\n",
    "\n",
    "import matplotlib.pyplot as plt\n",
    "%matplotlib inline\n",
    "\n",
    "import seaborn as sns\n",
    "sns.set()\n",
    "\n",
    "import warnings\n",
    "warnings.filterwarnings(\"ignore\") "
   ]
  },
  {
   "cell_type": "markdown",
   "metadata": {
    "papermill": {
     "duration": 0.090355,
     "end_time": "2022-07-19T19:27:11.134487",
     "exception": false,
     "start_time": "2022-07-19T19:27:11.044132",
     "status": "completed"
    },
    "tags": []
   },
   "source": [
    "### Importing Dataset"
   ]
  },
  {
   "cell_type": "markdown",
   "metadata": {
    "papermill": {
     "duration": 0.090228,
     "end_time": "2022-07-19T19:27:11.316147",
     "exception": false,
     "start_time": "2022-07-19T19:27:11.225919",
     "status": "completed"
    },
    "tags": []
   },
   "source": [
    "> Importing Data for train and test csv files"
   ]
  },
  {
   "cell_type": "code",
   "execution_count": 2,
   "metadata": {
    "execution": {
     "iopub.execute_input": "2022-07-19T19:27:11.506741Z",
     "iopub.status.busy": "2022-07-19T19:27:11.505910Z",
     "iopub.status.idle": "2022-07-19T19:27:11.510842Z",
     "shell.execute_reply": "2022-07-19T19:27:11.511748Z"
    },
    "papermill": {
     "duration": 0.104433,
     "end_time": "2022-07-19T19:27:11.511966",
     "exception": false,
     "start_time": "2022-07-19T19:27:11.407533",
     "status": "completed"
    },
    "tags": []
   },
   "outputs": [
    {
     "name": "stdout",
     "output_type": "stream",
     "text": [
      "/kaggle/input/titanic/train.csv\n",
      "/kaggle/input/titanic/test.csv\n",
      "/kaggle/input/titanic/gender_submission.csv\n"
     ]
    }
   ],
   "source": [
    "import os\n",
    "for dirname, _, filenames in os.walk('/kaggle/input'):\n",
    "    for filename in filenames:\n",
    "        print(os.path.join(dirname, filename))"
   ]
  },
  {
   "cell_type": "code",
   "execution_count": 3,
   "metadata": {
    "_cell_guid": "e58a3f06-4c2a-4b87-90de-f8b09039fd4e",
    "_uuid": "46f0b12d7bf66712642e9a9b807f5ef398426b83",
    "execution": {
     "iopub.execute_input": "2022-07-19T19:27:11.702207Z",
     "iopub.status.busy": "2022-07-19T19:27:11.701162Z",
     "iopub.status.idle": "2022-07-19T19:27:11.729723Z",
     "shell.execute_reply": "2022-07-19T19:27:11.730367Z"
    },
    "papermill": {
     "duration": 0.125614,
     "end_time": "2022-07-19T19:27:11.730532",
     "exception": false,
     "start_time": "2022-07-19T19:27:11.604918",
     "status": "completed"
    },
    "tags": []
   },
   "outputs": [],
   "source": [
    "train = pd.read_csv('/kaggle/input/titanic/train.csv')\n",
    "test = pd.read_csv('/kaggle/input/titanic/test.csv')"
   ]
  },
  {
   "cell_type": "markdown",
   "metadata": {
    "_cell_guid": "836a454f-17bc-41a2-be69-cd86c6f3b584",
    "_uuid": "1ed3ad39ead93977b8936d9c96e6f6f806a8f9b3",
    "papermill": {
     "duration": 0.092245,
     "end_time": "2022-07-19T19:27:11.917389",
     "exception": false,
     "start_time": "2022-07-19T19:27:11.825144",
     "status": "completed"
    },
    "tags": []
   },
   "source": [
    "## Looking into the training dataset\n",
    "> Printing first 5 rows of the train dataset."
   ]
  },
  {
   "cell_type": "code",
   "execution_count": 4,
   "metadata": {
    "_cell_guid": "749a3d70-394c-4d2c-999a-4d0567e39232",
    "_uuid": "b9fdb3b19d7a8f30cd0bb69ae434e04121ecba93",
    "execution": {
     "iopub.execute_input": "2022-07-19T19:27:12.107692Z",
     "iopub.status.busy": "2022-07-19T19:27:12.106611Z",
     "iopub.status.idle": "2022-07-19T19:27:12.132675Z",
     "shell.execute_reply": "2022-07-19T19:27:12.132079Z"
    },
    "papermill": {
     "duration": 0.121659,
     "end_time": "2022-07-19T19:27:12.132805",
     "exception": false,
     "start_time": "2022-07-19T19:27:12.011146",
     "status": "completed"
    },
    "tags": []
   },
   "outputs": [
    {
     "data": {
      "text/html": [
       "<div>\n",
       "<style scoped>\n",
       "    .dataframe tbody tr th:only-of-type {\n",
       "        vertical-align: middle;\n",
       "    }\n",
       "\n",
       "    .dataframe tbody tr th {\n",
       "        vertical-align: top;\n",
       "    }\n",
       "\n",
       "    .dataframe thead th {\n",
       "        text-align: right;\n",
       "    }\n",
       "</style>\n",
       "<table border=\"1\" class=\"dataframe\">\n",
       "  <thead>\n",
       "    <tr style=\"text-align: right;\">\n",
       "      <th></th>\n",
       "      <th>PassengerId</th>\n",
       "      <th>Survived</th>\n",
       "      <th>Pclass</th>\n",
       "      <th>Name</th>\n",
       "      <th>Sex</th>\n",
       "      <th>Age</th>\n",
       "      <th>SibSp</th>\n",
       "      <th>Parch</th>\n",
       "      <th>Ticket</th>\n",
       "      <th>Fare</th>\n",
       "      <th>Cabin</th>\n",
       "      <th>Embarked</th>\n",
       "    </tr>\n",
       "  </thead>\n",
       "  <tbody>\n",
       "    <tr>\n",
       "      <th>0</th>\n",
       "      <td>1</td>\n",
       "      <td>0</td>\n",
       "      <td>3</td>\n",
       "      <td>Braund, Mr. Owen Harris</td>\n",
       "      <td>male</td>\n",
       "      <td>22.0</td>\n",
       "      <td>1</td>\n",
       "      <td>0</td>\n",
       "      <td>A/5 21171</td>\n",
       "      <td>7.2500</td>\n",
       "      <td>NaN</td>\n",
       "      <td>S</td>\n",
       "    </tr>\n",
       "    <tr>\n",
       "      <th>1</th>\n",
       "      <td>2</td>\n",
       "      <td>1</td>\n",
       "      <td>1</td>\n",
       "      <td>Cumings, Mrs. John Bradley (Florence Briggs Th...</td>\n",
       "      <td>female</td>\n",
       "      <td>38.0</td>\n",
       "      <td>1</td>\n",
       "      <td>0</td>\n",
       "      <td>PC 17599</td>\n",
       "      <td>71.2833</td>\n",
       "      <td>C85</td>\n",
       "      <td>C</td>\n",
       "    </tr>\n",
       "    <tr>\n",
       "      <th>2</th>\n",
       "      <td>3</td>\n",
       "      <td>1</td>\n",
       "      <td>3</td>\n",
       "      <td>Heikkinen, Miss. Laina</td>\n",
       "      <td>female</td>\n",
       "      <td>26.0</td>\n",
       "      <td>0</td>\n",
       "      <td>0</td>\n",
       "      <td>STON/O2. 3101282</td>\n",
       "      <td>7.9250</td>\n",
       "      <td>NaN</td>\n",
       "      <td>S</td>\n",
       "    </tr>\n",
       "    <tr>\n",
       "      <th>3</th>\n",
       "      <td>4</td>\n",
       "      <td>1</td>\n",
       "      <td>1</td>\n",
       "      <td>Futrelle, Mrs. Jacques Heath (Lily May Peel)</td>\n",
       "      <td>female</td>\n",
       "      <td>35.0</td>\n",
       "      <td>1</td>\n",
       "      <td>0</td>\n",
       "      <td>113803</td>\n",
       "      <td>53.1000</td>\n",
       "      <td>C123</td>\n",
       "      <td>S</td>\n",
       "    </tr>\n",
       "    <tr>\n",
       "      <th>4</th>\n",
       "      <td>5</td>\n",
       "      <td>0</td>\n",
       "      <td>3</td>\n",
       "      <td>Allen, Mr. William Henry</td>\n",
       "      <td>male</td>\n",
       "      <td>35.0</td>\n",
       "      <td>0</td>\n",
       "      <td>0</td>\n",
       "      <td>373450</td>\n",
       "      <td>8.0500</td>\n",
       "      <td>NaN</td>\n",
       "      <td>S</td>\n",
       "    </tr>\n",
       "  </tbody>\n",
       "</table>\n",
       "</div>"
      ],
      "text/plain": [
       "   PassengerId  Survived  Pclass  \\\n",
       "0            1         0       3   \n",
       "1            2         1       1   \n",
       "2            3         1       3   \n",
       "3            4         1       1   \n",
       "4            5         0       3   \n",
       "\n",
       "                                                Name     Sex   Age  SibSp  \\\n",
       "0                            Braund, Mr. Owen Harris    male  22.0      1   \n",
       "1  Cumings, Mrs. John Bradley (Florence Briggs Th...  female  38.0      1   \n",
       "2                             Heikkinen, Miss. Laina  female  26.0      0   \n",
       "3       Futrelle, Mrs. Jacques Heath (Lily May Peel)  female  35.0      1   \n",
       "4                           Allen, Mr. William Henry    male  35.0      0   \n",
       "\n",
       "   Parch            Ticket     Fare Cabin Embarked  \n",
       "0      0         A/5 21171   7.2500   NaN        S  \n",
       "1      0          PC 17599  71.2833   C85        C  \n",
       "2      0  STON/O2. 3101282   7.9250   NaN        S  \n",
       "3      0            113803  53.1000  C123        S  \n",
       "4      0            373450   8.0500   NaN        S  "
      ]
     },
     "execution_count": 4,
     "metadata": {},
     "output_type": "execute_result"
    }
   ],
   "source": [
    "train.head()"
   ]
  },
  {
   "cell_type": "markdown",
   "metadata": {
    "_cell_guid": "0497d419-fbd1-4d07-aa76-362bcbd8ccbd",
    "_uuid": "ec81a873a564c743619d802c8b2ce8bbcc107418",
    "papermill": {
     "duration": 0.09217,
     "end_time": "2022-07-19T19:27:12.317369",
     "exception": false,
     "start_time": "2022-07-19T19:27:12.225199",
     "status": "completed"
    },
    "tags": []
   },
   "source": [
    "#### Below is a brief information about each columns of the dataset:\n",
    "\n",
    "1. **`PassengerId`:** An unique index for passenger rows. It starts from 1 for first row and increments by 1 for every new rows.\n",
    "2. **`Survived`:** Shows if the passenger survived or not. 1 stands for survived and 0 stands for not survived.\n",
    "\n",
    "3. **`Pclass`:** Ticket class. 1 stands for First class ticket. 2 stands for Second class ticket. 3 stands for Third class ticket.\n",
    "\n",
    "4. **`Name`:** Passenger's name. Name also contain title. \"Mr\" for man. \"Mrs\" for woman. \"Miss\" for girl. \"Master\" for boy.\n",
    "\n",
    "5. **`Sex`:** Passenger's sex. It's either Male or Female.\n",
    "\n",
    "6. **`Age`:** Passenger's age. \"NaN\" values in this column indicates that the age of that particular passenger has not been recorded.\n",
    "\n",
    "7. **`SibSp`:** Number of siblings or spouses travelling with each passenger.\n",
    "8. **`Parch`:** Number of parents of children travelling with each passenger.\n",
    "9. **`Ticket`:** Ticket number.\n",
    "10. **`Fare`:** How much money the passenger has paid for the travel journey.\n",
    "11. **`Cabin`:** Cabin number of the passenger. \"NaN\" values in this column indicates that the cabin number of that particular passenger has not been recorded.\n",
    "12. **`Embarked`:** Port from where the particular passenger was embarked/boarded."
   ]
  },
  {
   "cell_type": "markdown",
   "metadata": {
    "_cell_guid": "5ebc1e0e-2b5a-4d92-98e0-defa019d4439",
    "_uuid": "1892fbb34b26d775d1c428fdb7b6254449286b28",
    "papermill": {
     "duration": 0.09822,
     "end_time": "2022-07-19T19:27:12.507832",
     "exception": false,
     "start_time": "2022-07-19T19:27:12.409612",
     "status": "completed"
    },
    "tags": []
   },
   "source": [
    "### Check the shape of dataset"
   ]
  },
  {
   "cell_type": "code",
   "execution_count": 5,
   "metadata": {
    "_cell_guid": "ed1e7849-d1b6-490d-b86b-9ca71dfafc7d",
    "_uuid": "5a641beccf0e555dfd7b9a53a17188ea6edef95b",
    "execution": {
     "iopub.execute_input": "2022-07-19T19:27:12.712229Z",
     "iopub.status.busy": "2022-07-19T19:27:12.711209Z",
     "iopub.status.idle": "2022-07-19T19:27:12.716995Z",
     "shell.execute_reply": "2022-07-19T19:27:12.717585Z"
    },
    "papermill": {
     "duration": 0.102101,
     "end_time": "2022-07-19T19:27:12.717735",
     "exception": false,
     "start_time": "2022-07-19T19:27:12.615634",
     "status": "completed"
    },
    "tags": []
   },
   "outputs": [
    {
     "data": {
      "text/plain": [
       "(891, 12)"
      ]
     },
     "execution_count": 5,
     "metadata": {},
     "output_type": "execute_result"
    }
   ],
   "source": [
    "train.shape"
   ]
  },
  {
   "cell_type": "markdown",
   "metadata": {
    "papermill": {
     "duration": 0.142048,
     "end_time": "2022-07-19T19:27:12.952507",
     "exception": false,
     "start_time": "2022-07-19T19:27:12.810459",
     "status": "completed"
    },
    "tags": []
   },
   "source": [
    "#### NOTE:\n",
    "> We can see that there are 891 rows and 12 columns in our training dataset.m"
   ]
  },
  {
   "cell_type": "markdown",
   "metadata": {
    "_cell_guid": "920468dd-81c0-48dc-82fa-69e8a1354a26",
    "_uuid": "48d0bd9d409cee7fa2e133aea90b7a904a662c11",
    "papermill": {
     "duration": 0.093695,
     "end_time": "2022-07-19T19:27:13.143341",
     "exception": false,
     "start_time": "2022-07-19T19:27:13.049646",
     "status": "completed"
    },
    "tags": []
   },
   "source": [
    "### Describing training dataset\n",
    "\n",
    "*describe()* method can show different values like count, mean, standard deviation, etc. of numeric data types."
   ]
  },
  {
   "cell_type": "code",
   "execution_count": 6,
   "metadata": {
    "_cell_guid": "9f06085f-d1e4-46a1-ba62-e396e20af4ab",
    "_uuid": "d91b32b65a5f0a845899d301052ea420c79809a6",
    "execution": {
     "iopub.execute_input": "2022-07-19T19:27:13.334603Z",
     "iopub.status.busy": "2022-07-19T19:27:13.333547Z",
     "iopub.status.idle": "2022-07-19T19:27:13.378317Z",
     "shell.execute_reply": "2022-07-19T19:27:13.377623Z"
    },
    "papermill": {
     "duration": 0.141491,
     "end_time": "2022-07-19T19:27:13.378453",
     "exception": false,
     "start_time": "2022-07-19T19:27:13.236962",
     "status": "completed"
    },
    "tags": []
   },
   "outputs": [
    {
     "data": {
      "text/html": [
       "<div>\n",
       "<style scoped>\n",
       "    .dataframe tbody tr th:only-of-type {\n",
       "        vertical-align: middle;\n",
       "    }\n",
       "\n",
       "    .dataframe tbody tr th {\n",
       "        vertical-align: top;\n",
       "    }\n",
       "\n",
       "    .dataframe thead th {\n",
       "        text-align: right;\n",
       "    }\n",
       "</style>\n",
       "<table border=\"1\" class=\"dataframe\">\n",
       "  <thead>\n",
       "    <tr style=\"text-align: right;\">\n",
       "      <th></th>\n",
       "      <th>PassengerId</th>\n",
       "      <th>Survived</th>\n",
       "      <th>Pclass</th>\n",
       "      <th>Age</th>\n",
       "      <th>SibSp</th>\n",
       "      <th>Parch</th>\n",
       "      <th>Fare</th>\n",
       "    </tr>\n",
       "  </thead>\n",
       "  <tbody>\n",
       "    <tr>\n",
       "      <th>count</th>\n",
       "      <td>891.000000</td>\n",
       "      <td>891.000000</td>\n",
       "      <td>891.000000</td>\n",
       "      <td>714.000000</td>\n",
       "      <td>891.000000</td>\n",
       "      <td>891.000000</td>\n",
       "      <td>891.000000</td>\n",
       "    </tr>\n",
       "    <tr>\n",
       "      <th>mean</th>\n",
       "      <td>446.000000</td>\n",
       "      <td>0.383838</td>\n",
       "      <td>2.308642</td>\n",
       "      <td>29.699118</td>\n",
       "      <td>0.523008</td>\n",
       "      <td>0.381594</td>\n",
       "      <td>32.204208</td>\n",
       "    </tr>\n",
       "    <tr>\n",
       "      <th>std</th>\n",
       "      <td>257.353842</td>\n",
       "      <td>0.486592</td>\n",
       "      <td>0.836071</td>\n",
       "      <td>14.526497</td>\n",
       "      <td>1.102743</td>\n",
       "      <td>0.806057</td>\n",
       "      <td>49.693429</td>\n",
       "    </tr>\n",
       "    <tr>\n",
       "      <th>min</th>\n",
       "      <td>1.000000</td>\n",
       "      <td>0.000000</td>\n",
       "      <td>1.000000</td>\n",
       "      <td>0.420000</td>\n",
       "      <td>0.000000</td>\n",
       "      <td>0.000000</td>\n",
       "      <td>0.000000</td>\n",
       "    </tr>\n",
       "    <tr>\n",
       "      <th>25%</th>\n",
       "      <td>223.500000</td>\n",
       "      <td>0.000000</td>\n",
       "      <td>2.000000</td>\n",
       "      <td>20.125000</td>\n",
       "      <td>0.000000</td>\n",
       "      <td>0.000000</td>\n",
       "      <td>7.910400</td>\n",
       "    </tr>\n",
       "    <tr>\n",
       "      <th>50%</th>\n",
       "      <td>446.000000</td>\n",
       "      <td>0.000000</td>\n",
       "      <td>3.000000</td>\n",
       "      <td>28.000000</td>\n",
       "      <td>0.000000</td>\n",
       "      <td>0.000000</td>\n",
       "      <td>14.454200</td>\n",
       "    </tr>\n",
       "    <tr>\n",
       "      <th>75%</th>\n",
       "      <td>668.500000</td>\n",
       "      <td>1.000000</td>\n",
       "      <td>3.000000</td>\n",
       "      <td>38.000000</td>\n",
       "      <td>1.000000</td>\n",
       "      <td>0.000000</td>\n",
       "      <td>31.000000</td>\n",
       "    </tr>\n",
       "    <tr>\n",
       "      <th>max</th>\n",
       "      <td>891.000000</td>\n",
       "      <td>1.000000</td>\n",
       "      <td>3.000000</td>\n",
       "      <td>80.000000</td>\n",
       "      <td>8.000000</td>\n",
       "      <td>6.000000</td>\n",
       "      <td>512.329200</td>\n",
       "    </tr>\n",
       "  </tbody>\n",
       "</table>\n",
       "</div>"
      ],
      "text/plain": [
       "       PassengerId    Survived      Pclass         Age       SibSp  \\\n",
       "count   891.000000  891.000000  891.000000  714.000000  891.000000   \n",
       "mean    446.000000    0.383838    2.308642   29.699118    0.523008   \n",
       "std     257.353842    0.486592    0.836071   14.526497    1.102743   \n",
       "min       1.000000    0.000000    1.000000    0.420000    0.000000   \n",
       "25%     223.500000    0.000000    2.000000   20.125000    0.000000   \n",
       "50%     446.000000    0.000000    3.000000   28.000000    0.000000   \n",
       "75%     668.500000    1.000000    3.000000   38.000000    1.000000   \n",
       "max     891.000000    1.000000    3.000000   80.000000    8.000000   \n",
       "\n",
       "            Parch        Fare  \n",
       "count  891.000000  891.000000  \n",
       "mean     0.381594   32.204208  \n",
       "std      0.806057   49.693429  \n",
       "min      0.000000    0.000000  \n",
       "25%      0.000000    7.910400  \n",
       "50%      0.000000   14.454200  \n",
       "75%      0.000000   31.000000  \n",
       "max      6.000000  512.329200  "
      ]
     },
     "execution_count": 6,
     "metadata": {},
     "output_type": "execute_result"
    }
   ],
   "source": [
    "train.describe()"
   ]
  },
  {
   "cell_type": "code",
   "execution_count": 7,
   "metadata": {
    "_cell_guid": "24baf21d-0d96-4a6c-97f4-ef5cb3109f6e",
    "_uuid": "ecb09e0fc6887919c005c97af0185953a12f7b75",
    "execution": {
     "iopub.execute_input": "2022-07-19T19:27:13.600717Z",
     "iopub.status.busy": "2022-07-19T19:27:13.581944Z",
     "iopub.status.idle": "2022-07-19T19:27:13.605287Z",
     "shell.execute_reply": "2022-07-19T19:27:13.604653Z"
    },
    "papermill": {
     "duration": 0.133073,
     "end_time": "2022-07-19T19:27:13.605416",
     "exception": false,
     "start_time": "2022-07-19T19:27:13.472343",
     "status": "completed"
    },
    "tags": []
   },
   "outputs": [
    {
     "data": {
      "text/html": [
       "<div>\n",
       "<style scoped>\n",
       "    .dataframe tbody tr th:only-of-type {\n",
       "        vertical-align: middle;\n",
       "    }\n",
       "\n",
       "    .dataframe tbody tr th {\n",
       "        vertical-align: top;\n",
       "    }\n",
       "\n",
       "    .dataframe thead th {\n",
       "        text-align: right;\n",
       "    }\n",
       "</style>\n",
       "<table border=\"1\" class=\"dataframe\">\n",
       "  <thead>\n",
       "    <tr style=\"text-align: right;\">\n",
       "      <th></th>\n",
       "      <th>Name</th>\n",
       "      <th>Sex</th>\n",
       "      <th>Ticket</th>\n",
       "      <th>Cabin</th>\n",
       "      <th>Embarked</th>\n",
       "    </tr>\n",
       "  </thead>\n",
       "  <tbody>\n",
       "    <tr>\n",
       "      <th>count</th>\n",
       "      <td>891</td>\n",
       "      <td>891</td>\n",
       "      <td>891</td>\n",
       "      <td>204</td>\n",
       "      <td>889</td>\n",
       "    </tr>\n",
       "    <tr>\n",
       "      <th>unique</th>\n",
       "      <td>891</td>\n",
       "      <td>2</td>\n",
       "      <td>681</td>\n",
       "      <td>147</td>\n",
       "      <td>3</td>\n",
       "    </tr>\n",
       "    <tr>\n",
       "      <th>top</th>\n",
       "      <td>Eustis, Miss. Elizabeth Mussey</td>\n",
       "      <td>male</td>\n",
       "      <td>CA. 2343</td>\n",
       "      <td>C23 C25 C27</td>\n",
       "      <td>S</td>\n",
       "    </tr>\n",
       "    <tr>\n",
       "      <th>freq</th>\n",
       "      <td>1</td>\n",
       "      <td>577</td>\n",
       "      <td>7</td>\n",
       "      <td>4</td>\n",
       "      <td>644</td>\n",
       "    </tr>\n",
       "  </tbody>\n",
       "</table>\n",
       "</div>"
      ],
      "text/plain": [
       "                                  Name   Sex    Ticket        Cabin Embarked\n",
       "count                              891   891       891          204      889\n",
       "unique                             891     2       681          147        3\n",
       "top     Eustis, Miss. Elizabeth Mussey  male  CA. 2343  C23 C25 C27        S\n",
       "freq                                 1   577         7            4      644"
      ]
     },
     "execution_count": 7,
     "metadata": {},
     "output_type": "execute_result"
    }
   ],
   "source": [
    "# describe(include = ['O'])* will show the descriptive statistics of object data types.\n",
    "train.describe(include=['O'])"
   ]
  },
  {
   "cell_type": "markdown",
   "metadata": {
    "_cell_guid": "15928288-5cfd-4887-a857-c814727715a6",
    "_uuid": "be7b73cf61debb19691b6ab8851ea82113d6f7e9",
    "papermill": {
     "duration": 0.09621,
     "end_time": "2022-07-19T19:27:13.795462",
     "exception": false,
     "start_time": "2022-07-19T19:27:13.699252",
     "status": "completed"
    },
    "tags": []
   },
   "source": [
    "#### NOTE:\n",
    "- This shows that there are duplicate *Ticket number* and *Cabins* shared. The highest number of duplicate ticket number is \"CA. 2343\". It has been repeated 7 times. Similarly, the highest number of people using the same cabin is 4. They are using cabin number \"C23 C25 C27\".\n",
    "- We also see that 644 people were embarked from port \"S\".\n",
    "- Among 891 rows, 577 were Male and the rest were Female."
   ]
  },
  {
   "cell_type": "code",
   "execution_count": 8,
   "metadata": {
    "_cell_guid": "418b8a69-f2aa-442d-8f45-fa8887190938",
    "_uuid": "4ee2591110660a4a16b3da7a7530f0945e121b46",
    "execution": {
     "iopub.execute_input": "2022-07-19T19:27:13.997459Z",
     "iopub.status.busy": "2022-07-19T19:27:13.991695Z",
     "iopub.status.idle": "2022-07-19T19:27:14.001415Z",
     "shell.execute_reply": "2022-07-19T19:27:14.000834Z"
    },
    "papermill": {
     "duration": 0.109404,
     "end_time": "2022-07-19T19:27:14.001543",
     "exception": false,
     "start_time": "2022-07-19T19:27:13.892139",
     "status": "completed"
    },
    "tags": []
   },
   "outputs": [
    {
     "name": "stdout",
     "output_type": "stream",
     "text": [
      "<class 'pandas.core.frame.DataFrame'>\n",
      "RangeIndex: 891 entries, 0 to 890\n",
      "Data columns (total 12 columns):\n",
      " #   Column       Non-Null Count  Dtype  \n",
      "---  ------       --------------  -----  \n",
      " 0   PassengerId  891 non-null    int64  \n",
      " 1   Survived     891 non-null    int64  \n",
      " 2   Pclass       891 non-null    int64  \n",
      " 3   Name         891 non-null    object \n",
      " 4   Sex          891 non-null    object \n",
      " 5   Age          714 non-null    float64\n",
      " 6   SibSp        891 non-null    int64  \n",
      " 7   Parch        891 non-null    int64  \n",
      " 8   Ticket       891 non-null    object \n",
      " 9   Fare         891 non-null    float64\n",
      " 10  Cabin        204 non-null    object \n",
      " 11  Embarked     889 non-null    object \n",
      "dtypes: float64(2), int64(5), object(5)\n",
      "memory usage: 83.7+ KB\n"
     ]
    }
   ],
   "source": [
    "# We use info() method to see more information of our train dataset.\n",
    "train.info()"
   ]
  },
  {
   "cell_type": "markdown",
   "metadata": {
    "_cell_guid": "abc3c4fc-6419-405f-927a-4214d2c73eec",
    "_uuid": "622d4d4b2ba8f77cc537af97fc343d4cd6de26b2",
    "papermill": {
     "duration": 0.093575,
     "end_time": "2022-07-19T19:27:14.191143",
     "exception": false,
     "start_time": "2022-07-19T19:27:14.097568",
     "status": "completed"
    },
    "tags": []
   },
   "source": [
    "#### NOTE:\n",
    "- We can see that *Age* value is missing for many rows. \n",
    "- Out of 891 rows, the *Age* value is present only in 714 rows.\n",
    "- Similarly, *Cabin* values are also missing in many rows. Only 204 out of 891 rows have *Cabin* values."
   ]
  },
  {
   "cell_type": "code",
   "execution_count": 9,
   "metadata": {
    "_cell_guid": "0663e2bb-dc27-4187-94b1-ff4ff78b68bc",
    "_uuid": "3bf74de7f2483d622e41608f6017f2945639e4df",
    "execution": {
     "iopub.execute_input": "2022-07-19T19:27:14.391084Z",
     "iopub.status.busy": "2022-07-19T19:27:14.388578Z",
     "iopub.status.idle": "2022-07-19T19:27:14.395272Z",
     "shell.execute_reply": "2022-07-19T19:27:14.395747Z"
    },
    "papermill": {
     "duration": 0.107793,
     "end_time": "2022-07-19T19:27:14.395918",
     "exception": false,
     "start_time": "2022-07-19T19:27:14.288125",
     "status": "completed"
    },
    "tags": []
   },
   "outputs": [
    {
     "data": {
      "text/plain": [
       "PassengerId      0\n",
       "Survived         0\n",
       "Pclass           0\n",
       "Name             0\n",
       "Sex              0\n",
       "Age            177\n",
       "SibSp            0\n",
       "Parch            0\n",
       "Ticket           0\n",
       "Fare             0\n",
       "Cabin          687\n",
       "Embarked         2\n",
       "dtype: int64"
      ]
     },
     "execution_count": 9,
     "metadata": {},
     "output_type": "execute_result"
    }
   ],
   "source": [
    "# checking if any column has some missing values\n",
    "train.isnull().sum()"
   ]
  },
  {
   "cell_type": "markdown",
   "metadata": {
    "_cell_guid": "176aa52d-fde8-42e6-a3ee-db31f8b0ca49",
    "_uuid": "b48a9feff6004d783960aa1b32fdfde902d87e21",
    "papermill": {
     "duration": 0.095563,
     "end_time": "2022-07-19T19:27:14.585851",
     "exception": false,
     "start_time": "2022-07-19T19:27:14.490288",
     "status": "completed"
    },
    "tags": []
   },
   "source": [
    "#### NOTE:\n",
    "- There are 177 rows with missing *Age*, 687 rows with missing *Cabin* and 2 rows with missing *Embarked* information."
   ]
  },
  {
   "cell_type": "markdown",
   "metadata": {
    "_cell_guid": "1de3f8d9-58fc-45f6-a1c2-d2c50cfd95e4",
    "_uuid": "8479cc0108926c2da3bcec63c13ff5da1abbbeae",
    "papermill": {
     "duration": 0.098024,
     "end_time": "2022-07-19T19:27:14.780360",
     "exception": false,
     "start_time": "2022-07-19T19:27:14.682336",
     "status": "completed"
    },
    "tags": []
   },
   "source": [
    "### Looking into the testing dataset"
   ]
  },
  {
   "cell_type": "code",
   "execution_count": 10,
   "metadata": {
    "_cell_guid": "a67f1d37-4397-4f59-948f-843ed7674ce8",
    "_uuid": "dc78304d651df5e54aaa962d77ac673791ff1419",
    "execution": {
     "iopub.execute_input": "2022-07-19T19:27:14.981218Z",
     "iopub.status.busy": "2022-07-19T19:27:14.980513Z",
     "iopub.status.idle": "2022-07-19T19:27:14.985115Z",
     "shell.execute_reply": "2022-07-19T19:27:14.984516Z"
    },
    "papermill": {
     "duration": 0.105572,
     "end_time": "2022-07-19T19:27:14.985235",
     "exception": false,
     "start_time": "2022-07-19T19:27:14.879663",
     "status": "completed"
    },
    "scrolled": true,
    "tags": []
   },
   "outputs": [
    {
     "data": {
      "text/plain": [
       "(418, 11)"
      ]
     },
     "execution_count": 10,
     "metadata": {},
     "output_type": "execute_result"
    }
   ],
   "source": [
    "test.shape"
   ]
  },
  {
   "cell_type": "markdown",
   "metadata": {
    "papermill": {
     "duration": 0.094841,
     "end_time": "2022-07-19T19:27:15.177465",
     "exception": false,
     "start_time": "2022-07-19T19:27:15.082624",
     "status": "completed"
    },
    "tags": []
   },
   "source": [
    "#### NOTE:\n",
    "- Test data has 418 rows and 11 columns.\n",
    "> Train data rows = 891, Test data rows = 418, Total rows = 891+418 = 1309\n",
    "- We can see that around `2/3` of total data is set as Train data and around 1/3 of total data is set as Test data.\n"
   ]
  },
  {
   "cell_type": "code",
   "execution_count": 11,
   "metadata": {
    "_cell_guid": "a7a6af81-6c7b-4fb3-88a1-eef9f2d95f6b",
    "_uuid": "d73aaec23bd5f4a1fe7dcf3c669d18d31c547efd",
    "execution": {
     "iopub.execute_input": "2022-07-19T19:27:15.386146Z",
     "iopub.status.busy": "2022-07-19T19:27:15.385447Z",
     "iopub.status.idle": "2022-07-19T19:27:15.389431Z",
     "shell.execute_reply": "2022-07-19T19:27:15.389976Z"
    },
    "papermill": {
     "duration": 0.117518,
     "end_time": "2022-07-19T19:27:15.390124",
     "exception": false,
     "start_time": "2022-07-19T19:27:15.272606",
     "status": "completed"
    },
    "tags": []
   },
   "outputs": [
    {
     "data": {
      "text/html": [
       "<div>\n",
       "<style scoped>\n",
       "    .dataframe tbody tr th:only-of-type {\n",
       "        vertical-align: middle;\n",
       "    }\n",
       "\n",
       "    .dataframe tbody tr th {\n",
       "        vertical-align: top;\n",
       "    }\n",
       "\n",
       "    .dataframe thead th {\n",
       "        text-align: right;\n",
       "    }\n",
       "</style>\n",
       "<table border=\"1\" class=\"dataframe\">\n",
       "  <thead>\n",
       "    <tr style=\"text-align: right;\">\n",
       "      <th></th>\n",
       "      <th>PassengerId</th>\n",
       "      <th>Pclass</th>\n",
       "      <th>Name</th>\n",
       "      <th>Sex</th>\n",
       "      <th>Age</th>\n",
       "      <th>SibSp</th>\n",
       "      <th>Parch</th>\n",
       "      <th>Ticket</th>\n",
       "      <th>Fare</th>\n",
       "      <th>Cabin</th>\n",
       "      <th>Embarked</th>\n",
       "    </tr>\n",
       "  </thead>\n",
       "  <tbody>\n",
       "    <tr>\n",
       "      <th>0</th>\n",
       "      <td>892</td>\n",
       "      <td>3</td>\n",
       "      <td>Kelly, Mr. James</td>\n",
       "      <td>male</td>\n",
       "      <td>34.5</td>\n",
       "      <td>0</td>\n",
       "      <td>0</td>\n",
       "      <td>330911</td>\n",
       "      <td>7.8292</td>\n",
       "      <td>NaN</td>\n",
       "      <td>Q</td>\n",
       "    </tr>\n",
       "    <tr>\n",
       "      <th>1</th>\n",
       "      <td>893</td>\n",
       "      <td>3</td>\n",
       "      <td>Wilkes, Mrs. James (Ellen Needs)</td>\n",
       "      <td>female</td>\n",
       "      <td>47.0</td>\n",
       "      <td>1</td>\n",
       "      <td>0</td>\n",
       "      <td>363272</td>\n",
       "      <td>7.0000</td>\n",
       "      <td>NaN</td>\n",
       "      <td>S</td>\n",
       "    </tr>\n",
       "    <tr>\n",
       "      <th>2</th>\n",
       "      <td>894</td>\n",
       "      <td>2</td>\n",
       "      <td>Myles, Mr. Thomas Francis</td>\n",
       "      <td>male</td>\n",
       "      <td>62.0</td>\n",
       "      <td>0</td>\n",
       "      <td>0</td>\n",
       "      <td>240276</td>\n",
       "      <td>9.6875</td>\n",
       "      <td>NaN</td>\n",
       "      <td>Q</td>\n",
       "    </tr>\n",
       "    <tr>\n",
       "      <th>3</th>\n",
       "      <td>895</td>\n",
       "      <td>3</td>\n",
       "      <td>Wirz, Mr. Albert</td>\n",
       "      <td>male</td>\n",
       "      <td>27.0</td>\n",
       "      <td>0</td>\n",
       "      <td>0</td>\n",
       "      <td>315154</td>\n",
       "      <td>8.6625</td>\n",
       "      <td>NaN</td>\n",
       "      <td>S</td>\n",
       "    </tr>\n",
       "    <tr>\n",
       "      <th>4</th>\n",
       "      <td>896</td>\n",
       "      <td>3</td>\n",
       "      <td>Hirvonen, Mrs. Alexander (Helga E Lindqvist)</td>\n",
       "      <td>female</td>\n",
       "      <td>22.0</td>\n",
       "      <td>1</td>\n",
       "      <td>1</td>\n",
       "      <td>3101298</td>\n",
       "      <td>12.2875</td>\n",
       "      <td>NaN</td>\n",
       "      <td>S</td>\n",
       "    </tr>\n",
       "  </tbody>\n",
       "</table>\n",
       "</div>"
      ],
      "text/plain": [
       "   PassengerId  Pclass                                          Name     Sex  \\\n",
       "0          892       3                              Kelly, Mr. James    male   \n",
       "1          893       3              Wilkes, Mrs. James (Ellen Needs)  female   \n",
       "2          894       2                     Myles, Mr. Thomas Francis    male   \n",
       "3          895       3                              Wirz, Mr. Albert    male   \n",
       "4          896       3  Hirvonen, Mrs. Alexander (Helga E Lindqvist)  female   \n",
       "\n",
       "    Age  SibSp  Parch   Ticket     Fare Cabin Embarked  \n",
       "0  34.5      0      0   330911   7.8292   NaN        Q  \n",
       "1  47.0      1      0   363272   7.0000   NaN        S  \n",
       "2  62.0      0      0   240276   9.6875   NaN        Q  \n",
       "3  27.0      0      0   315154   8.6625   NaN        S  \n",
       "4  22.0      1      1  3101298  12.2875   NaN        S  "
      ]
     },
     "execution_count": 11,
     "metadata": {},
     "output_type": "execute_result"
    }
   ],
   "source": [
    "test.head()"
   ]
  },
  {
   "cell_type": "markdown",
   "metadata": {
    "papermill": {
     "duration": 0.095728,
     "end_time": "2022-07-19T19:27:15.581656",
     "exception": false,
     "start_time": "2022-07-19T19:27:15.485928",
     "status": "completed"
    },
    "tags": []
   },
   "source": [
    "#### NOTE:\n",
    "- *Survived* column is not present in Test data.\n",
    "- We have to train our classifier using the Train data and generate predictions (*Survived*) on Test data."
   ]
  },
  {
   "cell_type": "code",
   "execution_count": 12,
   "metadata": {
    "_cell_guid": "6f09ffda-3cd9-423a-8ab7-322330b6f44f",
    "_uuid": "03b6cc95436e9382d8f4b92367e9d586caed59ad",
    "execution": {
     "iopub.execute_input": "2022-07-19T19:27:15.786481Z",
     "iopub.status.busy": "2022-07-19T19:27:15.785703Z",
     "iopub.status.idle": "2022-07-19T19:27:15.789364Z",
     "shell.execute_reply": "2022-07-19T19:27:15.789889Z"
    },
    "papermill": {
     "duration": 0.112579,
     "end_time": "2022-07-19T19:27:15.790036",
     "exception": false,
     "start_time": "2022-07-19T19:27:15.677457",
     "status": "completed"
    },
    "tags": []
   },
   "outputs": [
    {
     "name": "stdout",
     "output_type": "stream",
     "text": [
      "<class 'pandas.core.frame.DataFrame'>\n",
      "RangeIndex: 418 entries, 0 to 417\n",
      "Data columns (total 11 columns):\n",
      " #   Column       Non-Null Count  Dtype  \n",
      "---  ------       --------------  -----  \n",
      " 0   PassengerId  418 non-null    int64  \n",
      " 1   Pclass       418 non-null    int64  \n",
      " 2   Name         418 non-null    object \n",
      " 3   Sex          418 non-null    object \n",
      " 4   Age          332 non-null    float64\n",
      " 5   SibSp        418 non-null    int64  \n",
      " 6   Parch        418 non-null    int64  \n",
      " 7   Ticket       418 non-null    object \n",
      " 8   Fare         417 non-null    float64\n",
      " 9   Cabin        91 non-null     object \n",
      " 10  Embarked     418 non-null    object \n",
      "dtypes: float64(2), int64(4), object(5)\n",
      "memory usage: 36.0+ KB\n"
     ]
    }
   ],
   "source": [
    "test.info()"
   ]
  },
  {
   "cell_type": "markdown",
   "metadata": {
    "_cell_guid": "f93b65cb-4a3d-46d1-bb14-154374467f24",
    "_uuid": "54070d3b3aaf4c20b21e6460d9a3a7cd04df5aa0",
    "papermill": {
     "duration": 0.098512,
     "end_time": "2022-07-19T19:27:15.986240",
     "exception": false,
     "start_time": "2022-07-19T19:27:15.887728",
     "status": "completed"
    },
    "tags": []
   },
   "source": [
    "#### NOTE:\n",
    "- There are missing entries for *Age* in Test dataset as well.\n",
    "- Out of 418 rows in Test dataset, only 332 rows have *Age* value.\n",
    "- *Cabin* values are also missing in many rows. Only 91 rows out ot 418 have values for *Cabin* column."
   ]
  },
  {
   "cell_type": "code",
   "execution_count": 13,
   "metadata": {
    "_cell_guid": "7783d378-a9bb-4afb-977d-714faddbd54c",
    "_uuid": "c78d7a4a30362d7afe9f917e0cae3558098ae1d6",
    "execution": {
     "iopub.execute_input": "2022-07-19T19:27:16.195119Z",
     "iopub.status.busy": "2022-07-19T19:27:16.192994Z",
     "iopub.status.idle": "2022-07-19T19:27:16.199255Z",
     "shell.execute_reply": "2022-07-19T19:27:16.198584Z"
    },
    "papermill": {
     "duration": 0.112823,
     "end_time": "2022-07-19T19:27:16.199376",
     "exception": false,
     "start_time": "2022-07-19T19:27:16.086553",
     "status": "completed"
    },
    "tags": []
   },
   "outputs": [
    {
     "data": {
      "text/plain": [
       "PassengerId      0\n",
       "Pclass           0\n",
       "Name             0\n",
       "Sex              0\n",
       "Age             86\n",
       "SibSp            0\n",
       "Parch            0\n",
       "Ticket           0\n",
       "Fare             1\n",
       "Cabin          327\n",
       "Embarked         0\n",
       "dtype: int64"
      ]
     },
     "execution_count": 13,
     "metadata": {},
     "output_type": "execute_result"
    }
   ],
   "source": [
    "test.isnull().sum()"
   ]
  },
  {
   "cell_type": "markdown",
   "metadata": {
    "_cell_guid": "524ecb92-5b8e-462c-ad7c-9ee301074742",
    "_uuid": "1e6195649821a5e828d8283d95722f1fe8e4dbab",
    "papermill": {
     "duration": 0.098797,
     "end_time": "2022-07-19T19:27:16.396370",
     "exception": false,
     "start_time": "2022-07-19T19:27:16.297573",
     "status": "completed"
    },
    "tags": []
   },
   "source": [
    "#### NOTE:\n",
    "- There are 86 rows with missing *Age*, 327 rows with missing *Cabin* and 1 row with missing *Fare* information."
   ]
  },
  {
   "cell_type": "markdown",
   "metadata": {
    "_cell_guid": "c8553d48-c5e0-4947-bd13-1b38509c850c",
    "_uuid": "1a28e607e9ed63cefe0f35a4e4d72f2f36299323",
    "papermill": {
     "duration": 0.096518,
     "end_time": "2022-07-19T19:27:16.589705",
     "exception": false,
     "start_time": "2022-07-19T19:27:16.493187",
     "status": "completed"
    },
    "tags": []
   },
   "source": [
    "### Relationship between Features and Survival\n",
    "#### In this section, we analyze relationship between different features with respect to *Survival*. We see how different feature values show different survival chance. We also plot different kinds of diagrams to **visualize** our data and findings."
   ]
  },
  {
   "cell_type": "code",
   "execution_count": 14,
   "metadata": {
    "_cell_guid": "b1d8a6d2-c22d-435c-8c98-973e8f41b138",
    "_uuid": "26411c710f69b29939c815d5f5ab01d9177df7d0",
    "execution": {
     "iopub.execute_input": "2022-07-19T19:27:16.798940Z",
     "iopub.status.busy": "2022-07-19T19:27:16.797502Z",
     "iopub.status.idle": "2022-07-19T19:27:16.804682Z",
     "shell.execute_reply": "2022-07-19T19:27:16.803438Z"
    },
    "papermill": {
     "duration": 0.117916,
     "end_time": "2022-07-19T19:27:16.804908",
     "exception": false,
     "start_time": "2022-07-19T19:27:16.686992",
     "status": "completed"
    },
    "tags": []
   },
   "outputs": [
    {
     "name": "stdout",
     "output_type": "stream",
     "text": [
      "Survived: 342 (38.4%)\n",
      "Not Survived: 549 (61.6%)\n",
      "Total: 891\n"
     ]
    }
   ],
   "source": [
    "survived = train[train['Survived'] == 1]\n",
    "not_survived = train[train['Survived'] == 0]\n",
    "\n",
    "print (\"Survived: %i (%.1f%%)\"%(len(survived), float(len(survived))/len(train)*100.0))\n",
    "print (\"Not Survived: %i (%.1f%%)\"%(len(not_survived), float(len(not_survived))/len(train)*100.0))\n",
    "print (\"Total: %i\"%len(train))"
   ]
  },
  {
   "cell_type": "markdown",
   "metadata": {
    "_cell_guid": "aa6d2b6d-af33-46f2-997b-e8f7a6d29ddd",
    "_uuid": "6ddbc343c14cfd51d66cf16482291212949d10a3",
    "papermill": {
     "duration": 0.096711,
     "end_time": "2022-07-19T19:27:16.999597",
     "exception": false,
     "start_time": "2022-07-19T19:27:16.902886",
     "status": "completed"
    },
    "tags": []
   },
   "source": [
    "## Finding relations between features and survival\n",
    "### 1) Pclass vs. Survival"
   ]
  },
  {
   "cell_type": "code",
   "execution_count": 15,
   "metadata": {
    "_cell_guid": "3519d680-1e35-437d-9691-16ff3c73a674",
    "_uuid": "1708bbe6b8bcbbf2ecb0ce1e27f3b9bf2d1a61e8",
    "execution": {
     "iopub.execute_input": "2022-07-19T19:27:17.203227Z",
     "iopub.status.busy": "2022-07-19T19:27:17.202491Z",
     "iopub.status.idle": "2022-07-19T19:27:17.206839Z",
     "shell.execute_reply": "2022-07-19T19:27:17.206165Z"
    },
    "papermill": {
     "duration": 0.108902,
     "end_time": "2022-07-19T19:27:17.206958",
     "exception": false,
     "start_time": "2022-07-19T19:27:17.098056",
     "status": "completed"
    },
    "tags": []
   },
   "outputs": [
    {
     "data": {
      "text/plain": [
       "3    491\n",
       "1    216\n",
       "2    184\n",
       "Name: Pclass, dtype: int64"
      ]
     },
     "execution_count": 15,
     "metadata": {},
     "output_type": "execute_result"
    }
   ],
   "source": [
    "train.Pclass.value_counts()"
   ]
  },
  {
   "cell_type": "code",
   "execution_count": 16,
   "metadata": {
    "execution": {
     "iopub.execute_input": "2022-07-19T19:27:17.416542Z",
     "iopub.status.busy": "2022-07-19T19:27:17.415751Z",
     "iopub.status.idle": "2022-07-19T19:27:17.427399Z",
     "shell.execute_reply": "2022-07-19T19:27:17.426692Z"
    },
    "papermill": {
     "duration": 0.115884,
     "end_time": "2022-07-19T19:27:17.427516",
     "exception": false,
     "start_time": "2022-07-19T19:27:17.311632",
     "status": "completed"
    },
    "tags": []
   },
   "outputs": [
    {
     "data": {
      "text/plain": [
       "Pclass  Survived\n",
       "1       1           136\n",
       "        0            80\n",
       "2       0            97\n",
       "        1            87\n",
       "3       0           372\n",
       "        1           119\n",
       "Name: Survived, dtype: int64"
      ]
     },
     "execution_count": 16,
     "metadata": {},
     "output_type": "execute_result"
    }
   ],
   "source": [
    "pclass_survived = train.groupby('Pclass').Survived.value_counts()\n",
    "pclass_survived"
   ]
  },
  {
   "cell_type": "code",
   "execution_count": 17,
   "metadata": {
    "execution": {
     "iopub.execute_input": "2022-07-19T19:27:17.634128Z",
     "iopub.status.busy": "2022-07-19T19:27:17.631674Z",
     "iopub.status.idle": "2022-07-19T19:27:17.886594Z",
     "shell.execute_reply": "2022-07-19T19:27:17.886020Z"
    },
    "papermill": {
     "duration": 0.360333,
     "end_time": "2022-07-19T19:27:17.886712",
     "exception": false,
     "start_time": "2022-07-19T19:27:17.526379",
     "status": "completed"
    },
    "tags": []
   },
   "outputs": [
    {
     "data": {
      "text/plain": [
       "<matplotlib.axes._subplots.AxesSubplot at 0x7f3264e9a750>"
      ]
     },
     "execution_count": 17,
     "metadata": {},
     "output_type": "execute_result"
    },
    {
     "data": {
      "image/png": "[encoded data removed]",
      "text/plain": [
       "<Figure size 432x288 with 1 Axes>"
      ]
     },
     "metadata": {},
     "output_type": "display_data"
    }
   ],
   "source": [
    "# plotting the pclass vs survived\n",
    "pclass_survived.unstack(level=0).plot(kind='bar', subplots=False)"
   ]
  },
  {
   "cell_type": "markdown",
   "metadata": {
    "papermill": {
     "duration": 0.102973,
     "end_time": "2022-07-19T19:27:18.091855",
     "exception": false,
     "start_time": "2022-07-19T19:27:17.988882",
     "status": "completed"
    },
    "tags": []
   },
   "source": [
    "#### NOTE:\n",
    "- Higher class passengers have better survival chance (may be because they are more privilege to be saved)."
   ]
  },
  {
   "cell_type": "code",
   "execution_count": 18,
   "metadata": {
    "_cell_guid": "6f13718d-94a3-48da-bc80-c69774f91628",
    "_uuid": "875d19ca526b3cc79685a8134175af2f6c373fb5",
    "execution": {
     "iopub.execute_input": "2022-07-19T19:27:18.309558Z",
     "iopub.status.busy": "2022-07-19T19:27:18.308834Z",
     "iopub.status.idle": "2022-07-19T19:27:18.318094Z",
     "shell.execute_reply": "2022-07-19T19:27:18.317376Z"
    },
    "papermill": {
     "duration": 0.122267,
     "end_time": "2022-07-19T19:27:18.318221",
     "exception": false,
     "start_time": "2022-07-19T19:27:18.195954",
     "status": "completed"
    },
    "tags": []
   },
   "outputs": [
    {
     "data": {
      "text/html": [
       "<div>\n",
       "<style scoped>\n",
       "    .dataframe tbody tr th:only-of-type {\n",
       "        vertical-align: middle;\n",
       "    }\n",
       "\n",
       "    .dataframe tbody tr th {\n",
       "        vertical-align: top;\n",
       "    }\n",
       "\n",
       "    .dataframe thead th {\n",
       "        text-align: right;\n",
       "    }\n",
       "</style>\n",
       "<table border=\"1\" class=\"dataframe\">\n",
       "  <thead>\n",
       "    <tr style=\"text-align: right;\">\n",
       "      <th></th>\n",
       "      <th>Pclass</th>\n",
       "      <th>Survived</th>\n",
       "    </tr>\n",
       "  </thead>\n",
       "  <tbody>\n",
       "    <tr>\n",
       "      <th>0</th>\n",
       "      <td>1</td>\n",
       "      <td>0.629630</td>\n",
       "    </tr>\n",
       "    <tr>\n",
       "      <th>1</th>\n",
       "      <td>2</td>\n",
       "      <td>0.472826</td>\n",
       "    </tr>\n",
       "    <tr>\n",
       "      <th>2</th>\n",
       "      <td>3</td>\n",
       "      <td>0.242363</td>\n",
       "    </tr>\n",
       "  </tbody>\n",
       "</table>\n",
       "</div>"
      ],
      "text/plain": [
       "   Pclass  Survived\n",
       "0       1  0.629630\n",
       "1       2  0.472826\n",
       "2       3  0.242363"
      ]
     },
     "execution_count": 18,
     "metadata": {},
     "output_type": "execute_result"
    }
   ],
   "source": [
    "pclass_survived_average = train[['Pclass', 'Survived']].groupby(['Pclass'], as_index=False).mean()\n",
    "pclass_survived_average"
   ]
  },
  {
   "cell_type": "code",
   "execution_count": 19,
   "metadata": {
    "execution": {
     "iopub.execute_input": "2022-07-19T19:27:18.544994Z",
     "iopub.status.busy": "2022-07-19T19:27:18.544265Z",
     "iopub.status.idle": "2022-07-19T19:27:18.719941Z",
     "shell.execute_reply": "2022-07-19T19:27:18.718393Z"
    },
    "papermill": {
     "duration": 0.294584,
     "end_time": "2022-07-19T19:27:18.720098",
     "exception": false,
     "start_time": "2022-07-19T19:27:18.425514",
     "status": "completed"
    },
    "tags": []
   },
   "outputs": [
    {
     "data": {
      "text/plain": [
       "<matplotlib.axes._subplots.AxesSubplot at 0x7f3264c5f190>"
      ]
     },
     "execution_count": 19,
     "metadata": {},
     "output_type": "execute_result"
    },
    {
     "data": {
      "image/png": "[encoded data removed]",
      "text/plain": [
       "<Figure size 432x288 with 1 Axes>"
      ]
     },
     "metadata": {},
     "output_type": "display_data"
    }
   ],
   "source": [
    "pclass_survived_average.plot(kind='bar', subplots=False)"
   ]
  },
  {
   "cell_type": "markdown",
   "metadata": {
    "papermill": {
     "duration": 0.109023,
     "end_time": "2022-07-19T19:27:18.932412",
     "exception": false,
     "start_time": "2022-07-19T19:27:18.823389",
     "status": "completed"
    },
    "tags": []
   },
   "source": [
    "NOTE:\n",
    "- Higher class passengers (low `Pcass`) have better average survival than the low class(high `Pclass`) passengers."
   ]
  },
  {
   "cell_type": "code",
   "execution_count": 20,
   "metadata": {
    "_cell_guid": "750dd832-6155-42b8-859f-6b4f39312cff",
    "_uuid": "2fb25360ed46e3095f3fc88f66a5c5a4051299d0",
    "execution": {
     "iopub.execute_input": "2022-07-19T19:27:19.154133Z",
     "iopub.status.busy": "2022-07-19T19:27:19.153393Z",
     "iopub.status.idle": "2022-07-19T19:27:19.442802Z",
     "shell.execute_reply": "2022-07-19T19:27:19.443308Z"
    },
    "papermill": {
     "duration": 0.405,
     "end_time": "2022-07-19T19:27:19.443468",
     "exception": false,
     "start_time": "2022-07-19T19:27:19.038468",
     "status": "completed"
    },
    "tags": []
   },
   "outputs": [
    {
     "data": {
      "text/plain": [
       "<matplotlib.axes._subplots.AxesSubplot at 0x7f3264beae50>"
      ]
     },
     "execution_count": 20,
     "metadata": {},
     "output_type": "execute_result"
    },
    {
     "data": {
      "image/png": "[encoded data removed]",
      "text/plain": [
       "<Figure size 432x288 with 1 Axes>"
      ]
     },
     "metadata": {},
     "output_type": "display_data"
    }
   ],
   "source": [
    "# The above statement can be clearly understood from the plot below.\n",
    "sns.barplot(x='Pclass', y='Survived', data=train)"
   ]
  },
  {
   "cell_type": "markdown",
   "metadata": {
    "_cell_guid": "8e7dea7a-466a-427c-90f7-9919b0257928",
    "_uuid": "30220b897ef645f5f09edd92ceaf66b7480874f9",
    "papermill": {
     "duration": 0.107563,
     "end_time": "2022-07-19T19:27:19.658074",
     "exception": false,
     "start_time": "2022-07-19T19:27:19.550511",
     "status": "completed"
    },
    "tags": []
   },
   "source": [
    "### 2) Sex vs. Survival"
   ]
  },
  {
   "cell_type": "code",
   "execution_count": 21,
   "metadata": {
    "_cell_guid": "46df4fd7-01fe-492d-9ab4-411063999fa6",
    "_uuid": "81239e0a000dcfa838b1568e7944b2a19f787ff0",
    "execution": {
     "iopub.execute_input": "2022-07-19T19:27:19.868531Z",
     "iopub.status.busy": "2022-07-19T19:27:19.867874Z",
     "iopub.status.idle": "2022-07-19T19:27:19.877191Z",
     "shell.execute_reply": "2022-07-19T19:27:19.877921Z"
    },
    "papermill": {
     "duration": 0.115785,
     "end_time": "2022-07-19T19:27:19.878079",
     "exception": false,
     "start_time": "2022-07-19T19:27:19.762294",
     "status": "completed"
    },
    "tags": []
   },
   "outputs": [
    {
     "data": {
      "text/plain": [
       "male      577\n",
       "female    314\n",
       "Name: Sex, dtype: int64"
      ]
     },
     "execution_count": 21,
     "metadata": {},
     "output_type": "execute_result"
    }
   ],
   "source": [
    "train.Sex.value_counts()"
   ]
  },
  {
   "cell_type": "code",
   "execution_count": 22,
   "metadata": {
    "execution": {
     "iopub.execute_input": "2022-07-19T19:27:20.095068Z",
     "iopub.status.busy": "2022-07-19T19:27:20.094253Z",
     "iopub.status.idle": "2022-07-19T19:27:20.105282Z",
     "shell.execute_reply": "2022-07-19T19:27:20.104700Z"
    },
    "papermill": {
     "duration": 0.12007,
     "end_time": "2022-07-19T19:27:20.105413",
     "exception": false,
     "start_time": "2022-07-19T19:27:19.985343",
     "status": "completed"
    },
    "tags": []
   },
   "outputs": [
    {
     "data": {
      "text/plain": [
       "Sex     Survived\n",
       "female  1           233\n",
       "        0            81\n",
       "male    0           468\n",
       "        1           109\n",
       "Name: Survived, dtype: int64"
      ]
     },
     "execution_count": 22,
     "metadata": {},
     "output_type": "execute_result"
    }
   ],
   "source": [
    "sex_survival = train.groupby('Sex').Survived.value_counts()\n",
    "sex_survival"
   ]
  },
  {
   "cell_type": "code",
   "execution_count": 23,
   "metadata": {
    "_cell_guid": "4458f41b-d5ac-4b65-b402-c7dfb5f7a773",
    "_uuid": "fbed9f476a6a6612f0b896354e24da2d8ab6b5b1",
    "execution": {
     "iopub.execute_input": "2022-07-19T19:27:20.334651Z",
     "iopub.status.busy": "2022-07-19T19:27:20.333890Z",
     "iopub.status.idle": "2022-07-19T19:27:20.492461Z",
     "shell.execute_reply": "2022-07-19T19:27:20.491836Z"
    },
    "papermill": {
     "duration": 0.281978,
     "end_time": "2022-07-19T19:27:20.492585",
     "exception": false,
     "start_time": "2022-07-19T19:27:20.210607",
     "status": "completed"
    },
    "tags": []
   },
   "outputs": [
    {
     "data": {
      "text/plain": [
       "<matplotlib.axes._subplots.AxesSubplot at 0x7f3264b65210>"
      ]
     },
     "execution_count": 23,
     "metadata": {},
     "output_type": "execute_result"
    },
    {
     "data": {
      "image/png": "[encoded data removed]",
      "text/plain": [
       "<Figure size 432x288 with 1 Axes>"
      ]
     },
     "metadata": {},
     "output_type": "display_data"
    }
   ],
   "source": [
    "sex_survival.unstack(level=0).plot(kind='bar', subplots=False)"
   ]
  },
  {
   "cell_type": "code",
   "execution_count": 24,
   "metadata": {
    "_cell_guid": "23a3fd2c-4b6d-42b6-aa16-d332b762d5e4",
    "_uuid": "51395890825ac9c6ba5b454942a062e2e3d1aa8b",
    "execution": {
     "iopub.execute_input": "2022-07-19T19:27:20.712641Z",
     "iopub.status.busy": "2022-07-19T19:27:20.711976Z",
     "iopub.status.idle": "2022-07-19T19:27:20.723593Z",
     "shell.execute_reply": "2022-07-19T19:27:20.722979Z"
    },
    "papermill": {
     "duration": 0.124483,
     "end_time": "2022-07-19T19:27:20.723712",
     "exception": false,
     "start_time": "2022-07-19T19:27:20.599229",
     "status": "completed"
    },
    "tags": []
   },
   "outputs": [
    {
     "data": {
      "text/html": [
       "<div>\n",
       "<style scoped>\n",
       "    .dataframe tbody tr th:only-of-type {\n",
       "        vertical-align: middle;\n",
       "    }\n",
       "\n",
       "    .dataframe tbody tr th {\n",
       "        vertical-align: top;\n",
       "    }\n",
       "\n",
       "    .dataframe thead th {\n",
       "        text-align: right;\n",
       "    }\n",
       "</style>\n",
       "<table border=\"1\" class=\"dataframe\">\n",
       "  <thead>\n",
       "    <tr style=\"text-align: right;\">\n",
       "      <th></th>\n",
       "      <th>Sex</th>\n",
       "      <th>Survived</th>\n",
       "    </tr>\n",
       "  </thead>\n",
       "  <tbody>\n",
       "    <tr>\n",
       "      <th>0</th>\n",
       "      <td>female</td>\n",
       "      <td>0.742038</td>\n",
       "    </tr>\n",
       "    <tr>\n",
       "      <th>1</th>\n",
       "      <td>male</td>\n",
       "      <td>0.188908</td>\n",
       "    </tr>\n",
       "  </tbody>\n",
       "</table>\n",
       "</div>"
      ],
      "text/plain": [
       "      Sex  Survived\n",
       "0  female  0.742038\n",
       "1    male  0.188908"
      ]
     },
     "execution_count": 24,
     "metadata": {},
     "output_type": "execute_result"
    }
   ],
   "source": [
    "sex_survived_average = train[['Sex', 'Survived']].groupby(['Sex'], as_index=False).mean()\n",
    "sex_survived_average"
   ]
  },
  {
   "cell_type": "code",
   "execution_count": 25,
   "metadata": {
    "execution": {
     "iopub.execute_input": "2022-07-19T19:27:20.943025Z",
     "iopub.status.busy": "2022-07-19T19:27:20.942305Z",
     "iopub.status.idle": "2022-07-19T19:27:21.177571Z",
     "shell.execute_reply": "2022-07-19T19:27:21.176847Z"
    },
    "papermill": {
     "duration": 0.34666,
     "end_time": "2022-07-19T19:27:21.177700",
     "exception": false,
     "start_time": "2022-07-19T19:27:20.831040",
     "status": "completed"
    },
    "tags": []
   },
   "outputs": [
    {
     "data": {
      "text/plain": [
       "<matplotlib.axes._subplots.AxesSubplot at 0x7f3264bd9810>"
      ]
     },
     "execution_count": 25,
     "metadata": {},
     "output_type": "execute_result"
    },
    {
     "data": {
      "image/png": "[encoded data removed]",
      "text/plain": [
       "<Figure size 432x288 with 1 Axes>"
      ]
     },
     "metadata": {},
     "output_type": "display_data"
    }
   ],
   "source": [
    "sex_survived_average.plot(kind='bar', subplots=False)"
   ]
  },
  {
   "cell_type": "code",
   "execution_count": 26,
   "metadata": {
    "_cell_guid": "74a9672d-a4a1-49dc-b7bb-80af130e3435",
    "_uuid": "dc4b4a37faf5e0769f58d18c13307936fd941c1d",
    "execution": {
     "iopub.execute_input": "2022-07-19T19:27:21.403609Z",
     "iopub.status.busy": "2022-07-19T19:27:21.402910Z",
     "iopub.status.idle": "2022-07-19T19:27:21.648267Z",
     "shell.execute_reply": "2022-07-19T19:27:21.647551Z"
    },
    "papermill": {
     "duration": 0.36076,
     "end_time": "2022-07-19T19:27:21.648390",
     "exception": false,
     "start_time": "2022-07-19T19:27:21.287630",
     "status": "completed"
    },
    "tags": []
   },
   "outputs": [
    {
     "data": {
      "text/plain": [
       "<matplotlib.axes._subplots.AxesSubplot at 0x7f3264abf390>"
      ]
     },
     "execution_count": 26,
     "metadata": {},
     "output_type": "execute_result"
    },
    {
     "data": {
      "image/png": "[encoded data removed]",
      "text/plain": [
       "<Figure size 432x288 with 1 Axes>"
      ]
     },
     "metadata": {},
     "output_type": "display_data"
    }
   ],
   "source": [
    "sns.barplot(x='Sex', y='Survived', data=train)"
   ]
  },
  {
   "cell_type": "markdown",
   "metadata": {
    "papermill": {
     "duration": 0.1078,
     "end_time": "2022-07-19T19:27:21.866694",
     "exception": false,
     "start_time": "2022-07-19T19:27:21.758894",
     "status": "completed"
    },
    "tags": []
   },
   "source": [
    "#### NOTE:\n",
    "- Females have better survival chance."
   ]
  },
  {
   "cell_type": "markdown",
   "metadata": {
    "_cell_guid": "f7f1f02f-3c57-4304-8daa-042f621e9780",
    "_uuid": "95eec0c76da918cdfb5f230de1239057f62cd51d",
    "papermill": {
     "duration": 0.111272,
     "end_time": "2022-07-19T19:27:22.087919",
     "exception": false,
     "start_time": "2022-07-19T19:27:21.976647",
     "status": "completed"
    },
    "tags": []
   },
   "source": [
    "### 3) Pclass & Sex vs. Survival"
   ]
  },
  {
   "cell_type": "markdown",
   "metadata": {
    "_cell_guid": "7ddebfbe-b243-4166-bfbb-80b952fb9fa4",
    "_uuid": "1e638d237722dda21945a551ee55730c9698d0b6",
    "papermill": {
     "duration": 0.109581,
     "end_time": "2022-07-19T19:27:22.305868",
     "exception": false,
     "start_time": "2022-07-19T19:27:22.196287",
     "status": "completed"
    },
    "tags": []
   },
   "source": [
    "> Below, I have just found out how many males and females are there in each *Pclass* then plotted a bar diagram with that information and found that there are more males among the 3rd Pclass passengers."
   ]
  },
  {
   "cell_type": "code",
   "execution_count": 27,
   "metadata": {
    "_cell_guid": "1f6ab924-c1e4-4caf-af5d-fcbea591dfe5",
    "_uuid": "b55e8de5aa73f1e1be45c4a3b673a9cb8c2c44b5",
    "execution": {
     "iopub.execute_input": "2022-07-19T19:27:22.528091Z",
     "iopub.status.busy": "2022-07-19T19:27:22.527379Z",
     "iopub.status.idle": "2022-07-19T19:27:22.739639Z",
     "shell.execute_reply": "2022-07-19T19:27:22.738891Z"
    },
    "papermill": {
     "duration": 0.324797,
     "end_time": "2022-07-19T19:27:22.739790",
     "exception": false,
     "start_time": "2022-07-19T19:27:22.414993",
     "status": "completed"
    },
    "tags": []
   },
   "outputs": [
    {
     "name": "stdout",
     "output_type": "stream",
     "text": [
      "Sex     female  male\n",
      "Pclass              \n",
      "1           94   122\n",
      "2           76   108\n",
      "3          144   347\n"
     ]
    },
    {
     "data": {
      "text/plain": [
       "Text(0, 0.5, 'Percentage')"
      ]
     },
     "execution_count": 27,
     "metadata": {},
     "output_type": "execute_result"
    },
    {
     "data": {
      "image/png": "[encoded data removed]",
      "text/plain": [
       "<Figure size 432x288 with 1 Axes>"
      ]
     },
     "metadata": {},
     "output_type": "display_data"
    }
   ],
   "source": [
    "tab = pd.crosstab(train['Pclass'], train['Sex'])\n",
    "print (tab)\n",
    "\n",
    "# sum(1) means the sum across axis 1.\n",
    "tab.div(tab.sum(1).astype(float), axis=0).plot(kind=\"bar\", stacked=False)\n",
    "plt.xlabel('Pclass')\n",
    "plt.ylabel('Percentage')"
   ]
  },
  {
   "cell_type": "code",
   "execution_count": 28,
   "metadata": {
    "_cell_guid": "613d943c-b02f-4c74-ace0-7f9de682747e",
    "_uuid": "a918b9ed3f63c04d72400f48bd4fad2f3a9306bd",
    "execution": {
     "iopub.execute_input": "2022-07-19T19:27:22.969960Z",
     "iopub.status.busy": "2022-07-19T19:27:22.969196Z",
     "iopub.status.idle": "2022-07-19T19:27:23.622566Z",
     "shell.execute_reply": "2022-07-19T19:27:23.621912Z"
    },
    "papermill": {
     "duration": 0.771445,
     "end_time": "2022-07-19T19:27:23.622680",
     "exception": false,
     "start_time": "2022-07-19T19:27:22.851235",
     "status": "completed"
    },
    "tags": []
   },
   "outputs": [
    {
     "data": {
      "text/plain": [
       "<seaborn.axisgrid.FacetGrid at 0x7f3264a814d0>"
      ]
     },
     "execution_count": 28,
     "metadata": {},
     "output_type": "execute_result"
    },
    {
     "data": {
      "image/png": "[encoded data removed]",
      "text/plain": [
       "<Figure size 622.6x288 with 1 Axes>"
      ]
     },
     "metadata": {},
     "output_type": "display_data"
    }
   ],
   "source": [
    "sns.factorplot('Sex', 'Survived', hue='Pclass', size=4, aspect=2, data=train)"
   ]
  },
  {
   "cell_type": "markdown",
   "metadata": {
    "_cell_guid": "b81a96f3-aeea-4e64-9e98-9632b82e3b08",
    "_uuid": "5f114e20f937fcb35db17bae34568ebe94bb3799",
    "papermill": {
     "duration": 0.111617,
     "end_time": "2022-07-19T19:27:23.848896",
     "exception": false,
     "start_time": "2022-07-19T19:27:23.737279",
     "status": "completed"
    },
    "tags": []
   },
   "source": [
    "NOTE:<br>\n",
    "From the above plot, it can be seen that:\n",
    "- Women from 1st and 2nd Pclass have almost 100% survival chance. \n",
    "- Men from 2nd and 3rd Pclass have only around 10% survival chance."
   ]
  },
  {
   "cell_type": "markdown",
   "metadata": {
    "_cell_guid": "6c3c8e3d-d2bb-4a6b-b41a-cf212214f3cc",
    "_uuid": "d44e729bc65bb9023ac26f3733afd6ad20f7ea47",
    "papermill": {
     "duration": 0.112493,
     "end_time": "2022-07-19T19:27:24.072501",
     "exception": false,
     "start_time": "2022-07-19T19:27:23.960008",
     "status": "completed"
    },
    "tags": []
   },
   "source": [
    "### 4) Pclass, Sex & Embarked vs. Survival"
   ]
  },
  {
   "cell_type": "code",
   "execution_count": 29,
   "metadata": {
    "_cell_guid": "1d2b1c6b-b5da-471f-a1ff-ff5cfa89feca",
    "_uuid": "66c13283729566414144283d58839659a61f8f8c",
    "execution": {
     "iopub.execute_input": "2022-07-19T19:27:24.315662Z",
     "iopub.status.busy": "2022-07-19T19:27:24.304476Z",
     "iopub.status.idle": "2022-07-19T19:27:25.823408Z",
     "shell.execute_reply": "2022-07-19T19:27:25.823934Z"
    },
    "papermill": {
     "duration": 1.638617,
     "end_time": "2022-07-19T19:27:25.824114",
     "exception": false,
     "start_time": "2022-07-19T19:27:24.185497",
     "status": "completed"
    },
    "scrolled": true,
    "tags": []
   },
   "outputs": [
    {
     "data": {
      "text/plain": [
       "<seaborn.axisgrid.FacetGrid at 0x7f3264a19c90>"
      ]
     },
     "execution_count": 29,
     "metadata": {},
     "output_type": "execute_result"
    },
    {
     "data": {
      "image/png": "[encoded data removed]",
      "text/plain": [
       "<Figure size 1157.97x360 with 3 Axes>"
      ]
     },
     "metadata": {},
     "output_type": "display_data"
    }
   ],
   "source": [
    "sns.factorplot(x='Pclass', y='Survived', hue='Sex', col='Embarked', data=train)"
   ]
  },
  {
   "cell_type": "markdown",
   "metadata": {
    "_cell_guid": "317baafa-0be2-4a90-906e-20c7602bb57e",
    "_uuid": "00b1b5c92f2b58d2b593aacaf44c40c4fcb9f8d0",
    "papermill": {
     "duration": 0.115742,
     "end_time": "2022-07-19T19:27:26.057686",
     "exception": false,
     "start_time": "2022-07-19T19:27:25.941944",
     "status": "completed"
    },
    "tags": []
   },
   "source": [
    "NOTE:<br>From the above plot, it can be seen that:\n",
    "- Almost all females from Pclass 1 and 2 survived.\n",
    "- Females dying were mostly from 3rd Pclass.\n",
    "- Males from Pclass 1 only have slightly higher survival chance than Pclass 2 and 3."
   ]
  },
  {
   "cell_type": "markdown",
   "metadata": {
    "_cell_guid": "2be5e738-7ce6-4894-b551-be27ed1e2e14",
    "_uuid": "6af0dc82a865ed3f9df1e2541457f5386aa22a92",
    "papermill": {
     "duration": 0.113771,
     "end_time": "2022-07-19T19:27:26.286942",
     "exception": false,
     "start_time": "2022-07-19T19:27:26.173171",
     "status": "completed"
    },
    "tags": []
   },
   "source": [
    "### 5) Embarked vs. Survived"
   ]
  },
  {
   "cell_type": "code",
   "execution_count": 30,
   "metadata": {
    "_cell_guid": "0495cd70-bc41-4783-aa45-2ec384ef5bf3",
    "_uuid": "17e10d07ba73773b4d67cf2228818454607582da",
    "execution": {
     "iopub.execute_input": "2022-07-19T19:27:26.524323Z",
     "iopub.status.busy": "2022-07-19T19:27:26.523239Z",
     "iopub.status.idle": "2022-07-19T19:27:26.531477Z",
     "shell.execute_reply": "2022-07-19T19:27:26.531990Z"
    },
    "papermill": {
     "duration": 0.12906,
     "end_time": "2022-07-19T19:27:26.532155",
     "exception": false,
     "start_time": "2022-07-19T19:27:26.403095",
     "status": "completed"
    },
    "scrolled": true,
    "tags": []
   },
   "outputs": [
    {
     "data": {
      "text/plain": [
       "S    644\n",
       "C    168\n",
       "Q     77\n",
       "Name: Embarked, dtype: int64"
      ]
     },
     "execution_count": 30,
     "metadata": {},
     "output_type": "execute_result"
    }
   ],
   "source": [
    "train.Embarked.value_counts()"
   ]
  },
  {
   "cell_type": "code",
   "execution_count": 31,
   "metadata": {
    "_cell_guid": "6865de4c-9da6-4589-a58b-afe01d9835b6",
    "_uuid": "0b785f9cdf1f0c5d0cc4ae5e429dbf499e894dd3",
    "execution": {
     "iopub.execute_input": "2022-07-19T19:27:26.772134Z",
     "iopub.status.busy": "2022-07-19T19:27:26.771034Z",
     "iopub.status.idle": "2022-07-19T19:27:26.781788Z",
     "shell.execute_reply": "2022-07-19T19:27:26.782450Z"
    },
    "papermill": {
     "duration": 0.134399,
     "end_time": "2022-07-19T19:27:26.782608",
     "exception": false,
     "start_time": "2022-07-19T19:27:26.648209",
     "status": "completed"
    },
    "scrolled": true,
    "tags": []
   },
   "outputs": [
    {
     "data": {
      "text/plain": [
       "Embarked  Survived\n",
       "C         1            93\n",
       "          0            75\n",
       "Q         0            47\n",
       "          1            30\n",
       "S         0           427\n",
       "          1           217\n",
       "Name: Survived, dtype: int64"
      ]
     },
     "execution_count": 31,
     "metadata": {},
     "output_type": "execute_result"
    }
   ],
   "source": [
    "train.groupby('Embarked').Survived.value_counts()"
   ]
  },
  {
   "cell_type": "code",
   "execution_count": 32,
   "metadata": {
    "_cell_guid": "fdbbaf29-5a59-490e-b9fc-fa02f0673047",
    "_uuid": "03a5505bba0411c73d2723cf54f2cadadc517ce4",
    "execution": {
     "iopub.execute_input": "2022-07-19T19:27:27.015263Z",
     "iopub.status.busy": "2022-07-19T19:27:27.014187Z",
     "iopub.status.idle": "2022-07-19T19:27:27.030638Z",
     "shell.execute_reply": "2022-07-19T19:27:27.031243Z"
    },
    "papermill": {
     "duration": 0.135013,
     "end_time": "2022-07-19T19:27:27.031393",
     "exception": false,
     "start_time": "2022-07-19T19:27:26.896380",
     "status": "completed"
    },
    "tags": []
   },
   "outputs": [
    {
     "data": {
      "text/html": [
       "<div>\n",
       "<style scoped>\n",
       "    .dataframe tbody tr th:only-of-type {\n",
       "        vertical-align: middle;\n",
       "    }\n",
       "\n",
       "    .dataframe tbody tr th {\n",
       "        vertical-align: top;\n",
       "    }\n",
       "\n",
       "    .dataframe thead th {\n",
       "        text-align: right;\n",
       "    }\n",
       "</style>\n",
       "<table border=\"1\" class=\"dataframe\">\n",
       "  <thead>\n",
       "    <tr style=\"text-align: right;\">\n",
       "      <th></th>\n",
       "      <th>Embarked</th>\n",
       "      <th>Survived</th>\n",
       "    </tr>\n",
       "  </thead>\n",
       "  <tbody>\n",
       "    <tr>\n",
       "      <th>0</th>\n",
       "      <td>C</td>\n",
       "      <td>0.553571</td>\n",
       "    </tr>\n",
       "    <tr>\n",
       "      <th>1</th>\n",
       "      <td>Q</td>\n",
       "      <td>0.389610</td>\n",
       "    </tr>\n",
       "    <tr>\n",
       "      <th>2</th>\n",
       "      <td>S</td>\n",
       "      <td>0.336957</td>\n",
       "    </tr>\n",
       "  </tbody>\n",
       "</table>\n",
       "</div>"
      ],
      "text/plain": [
       "  Embarked  Survived\n",
       "0        C  0.553571\n",
       "1        Q  0.389610\n",
       "2        S  0.336957"
      ]
     },
     "execution_count": 32,
     "metadata": {},
     "output_type": "execute_result"
    }
   ],
   "source": [
    "train[['Embarked', 'Survived']].groupby(['Embarked'], as_index=False).mean()"
   ]
  },
  {
   "cell_type": "code",
   "execution_count": 33,
   "metadata": {
    "_cell_guid": "ac2ac7f7-a310-43e6-babc-bdde16c151c0",
    "_uuid": "6f3cc8762ac6729c72cfd2de56f1c520b0a38fc5",
    "execution": {
     "iopub.execute_input": "2022-07-19T19:27:27.270546Z",
     "iopub.status.busy": "2022-07-19T19:27:27.269479Z",
     "iopub.status.idle": "2022-07-19T19:27:27.552132Z",
     "shell.execute_reply": "2022-07-19T19:27:27.552623Z"
    },
    "papermill": {
     "duration": 0.404694,
     "end_time": "2022-07-19T19:27:27.552806",
     "exception": false,
     "start_time": "2022-07-19T19:27:27.148112",
     "status": "completed"
    },
    "tags": []
   },
   "outputs": [
    {
     "data": {
      "text/plain": [
       "<matplotlib.axes._subplots.AxesSubplot at 0x7f3264656a50>"
      ]
     },
     "execution_count": 33,
     "metadata": {},
     "output_type": "execute_result"
    },
    {
     "data": {
      "image/png": "[encoded data removed]",
      "text/plain": [
       "<Figure size 432x288 with 1 Axes>"
      ]
     },
     "metadata": {},
     "output_type": "display_data"
    }
   ],
   "source": [
    "#train.groupby('Embarked').Survived.mean().plot(kind='bar')\n",
    "sns.barplot(x='Embarked', y='Survived', data=train)"
   ]
  },
  {
   "cell_type": "markdown",
   "metadata": {
    "_cell_guid": "0ba446c0-bbd5-4fd5-9865-e8cec0c0db1e",
    "_uuid": "366add4366f3bae0855cedd296ca03b9ecacd9c9",
    "papermill": {
     "duration": 0.116785,
     "end_time": "2022-07-19T19:27:27.787138",
     "exception": false,
     "start_time": "2022-07-19T19:27:27.670353",
     "status": "completed"
    },
    "tags": []
   },
   "source": [
    "### 6) Parch vs. Survival"
   ]
  },
  {
   "cell_type": "code",
   "execution_count": 34,
   "metadata": {
    "_cell_guid": "e1ff4289-e4a4-4dab-a2a8-aea014f191f3",
    "_uuid": "559e007c8a8f1038d9c16d19812ce98e29370fe5",
    "execution": {
     "iopub.execute_input": "2022-07-19T19:27:28.024445Z",
     "iopub.status.busy": "2022-07-19T19:27:28.023386Z",
     "iopub.status.idle": "2022-07-19T19:27:28.031565Z",
     "shell.execute_reply": "2022-07-19T19:27:28.032110Z"
    },
    "papermill": {
     "duration": 0.129028,
     "end_time": "2022-07-19T19:27:28.032259",
     "exception": false,
     "start_time": "2022-07-19T19:27:27.903231",
     "status": "completed"
    },
    "tags": []
   },
   "outputs": [
    {
     "data": {
      "text/plain": [
       "0    678\n",
       "1    118\n",
       "2     80\n",
       "5      5\n",
       "3      5\n",
       "4      4\n",
       "6      1\n",
       "Name: Parch, dtype: int64"
      ]
     },
     "execution_count": 34,
     "metadata": {},
     "output_type": "execute_result"
    }
   ],
   "source": [
    "train.Parch.value_counts()"
   ]
  },
  {
   "cell_type": "code",
   "execution_count": 35,
   "metadata": {
    "_cell_guid": "4782685d-a2a7-4b1e-bdc1-8528f5176ba3",
    "_uuid": "ba8cbe12ce5aa49376a98a370507ad36eb51b53a",
    "execution": {
     "iopub.execute_input": "2022-07-19T19:27:28.282400Z",
     "iopub.status.busy": "2022-07-19T19:27:28.281637Z",
     "iopub.status.idle": "2022-07-19T19:27:28.288227Z",
     "shell.execute_reply": "2022-07-19T19:27:28.288689Z"
    },
    "papermill": {
     "duration": 0.137002,
     "end_time": "2022-07-19T19:27:28.288858",
     "exception": false,
     "start_time": "2022-07-19T19:27:28.151856",
     "status": "completed"
    },
    "tags": []
   },
   "outputs": [
    {
     "data": {
      "text/plain": [
       "Parch  Survived\n",
       "0      0           445\n",
       "       1           233\n",
       "1      1            65\n",
       "       0            53\n",
       "2      0            40\n",
       "       1            40\n",
       "3      1             3\n",
       "       0             2\n",
       "4      0             4\n",
       "5      0             4\n",
       "       1             1\n",
       "6      0             1\n",
       "Name: Survived, dtype: int64"
      ]
     },
     "execution_count": 35,
     "metadata": {},
     "output_type": "execute_result"
    }
   ],
   "source": [
    "train.groupby('Parch').Survived.value_counts()"
   ]
  },
  {
   "cell_type": "code",
   "execution_count": 36,
   "metadata": {
    "_cell_guid": "07156c23-f8ec-426d-8a2a-04c2d2f7d676",
    "_uuid": "a06d63e60664e5f78d134ee45522538c5c67c7b6",
    "execution": {
     "iopub.execute_input": "2022-07-19T19:27:28.536581Z",
     "iopub.status.busy": "2022-07-19T19:27:28.535762Z",
     "iopub.status.idle": "2022-07-19T19:27:28.549999Z",
     "shell.execute_reply": "2022-07-19T19:27:28.550523Z"
    },
    "papermill": {
     "duration": 0.138715,
     "end_time": "2022-07-19T19:27:28.550705",
     "exception": false,
     "start_time": "2022-07-19T19:27:28.411990",
     "status": "completed"
    },
    "tags": []
   },
   "outputs": [
    {
     "data": {
      "text/html": [
       "<div>\n",
       "<style scoped>\n",
       "    .dataframe tbody tr th:only-of-type {\n",
       "        vertical-align: middle;\n",
       "    }\n",
       "\n",
       "    .dataframe tbody tr th {\n",
       "        vertical-align: top;\n",
       "    }\n",
       "\n",
       "    .dataframe thead th {\n",
       "        text-align: right;\n",
       "    }\n",
       "</style>\n",
       "<table border=\"1\" class=\"dataframe\">\n",
       "  <thead>\n",
       "    <tr style=\"text-align: right;\">\n",
       "      <th></th>\n",
       "      <th>Parch</th>\n",
       "      <th>Survived</th>\n",
       "    </tr>\n",
       "  </thead>\n",
       "  <tbody>\n",
       "    <tr>\n",
       "      <th>0</th>\n",
       "      <td>0</td>\n",
       "      <td>0.343658</td>\n",
       "    </tr>\n",
       "    <tr>\n",
       "      <th>1</th>\n",
       "      <td>1</td>\n",
       "      <td>0.550847</td>\n",
       "    </tr>\n",
       "    <tr>\n",
       "      <th>2</th>\n",
       "      <td>2</td>\n",
       "      <td>0.500000</td>\n",
       "    </tr>\n",
       "    <tr>\n",
       "      <th>3</th>\n",
       "      <td>3</td>\n",
       "      <td>0.600000</td>\n",
       "    </tr>\n",
       "    <tr>\n",
       "      <th>4</th>\n",
       "      <td>4</td>\n",
       "      <td>0.000000</td>\n",
       "    </tr>\n",
       "    <tr>\n",
       "      <th>5</th>\n",
       "      <td>5</td>\n",
       "      <td>0.200000</td>\n",
       "    </tr>\n",
       "    <tr>\n",
       "      <th>6</th>\n",
       "      <td>6</td>\n",
       "      <td>0.000000</td>\n",
       "    </tr>\n",
       "  </tbody>\n",
       "</table>\n",
       "</div>"
      ],
      "text/plain": [
       "   Parch  Survived\n",
       "0      0  0.343658\n",
       "1      1  0.550847\n",
       "2      2  0.500000\n",
       "3      3  0.600000\n",
       "4      4  0.000000\n",
       "5      5  0.200000\n",
       "6      6  0.000000"
      ]
     },
     "execution_count": 36,
     "metadata": {},
     "output_type": "execute_result"
    }
   ],
   "source": [
    "train[['Parch', 'Survived']].groupby(['Parch'], as_index=False).mean()"
   ]
  },
  {
   "cell_type": "code",
   "execution_count": 37,
   "metadata": {
    "_cell_guid": "a7a20f85-6f3f-449b-87ae-6b4a0db5a04a",
    "_uuid": "20cdb7c7848d7e05b24864811990499217e8ff0d",
    "execution": {
     "iopub.execute_input": "2022-07-19T19:27:28.793128Z",
     "iopub.status.busy": "2022-07-19T19:27:28.792414Z",
     "iopub.status.idle": "2022-07-19T19:27:28.993797Z",
     "shell.execute_reply": "2022-07-19T19:27:28.994340Z"
    },
    "papermill": {
     "duration": 0.324185,
     "end_time": "2022-07-19T19:27:28.994491",
     "exception": false,
     "start_time": "2022-07-19T19:27:28.670306",
     "status": "completed"
    },
    "tags": []
   },
   "outputs": [
    {
     "data": {
      "text/plain": [
       "<matplotlib.axes._subplots.AxesSubplot at 0x7f32645e3ed0>"
      ]
     },
     "execution_count": 37,
     "metadata": {},
     "output_type": "execute_result"
    },
    {
     "data": {
      "image/png": "[encoded data removed]",
      "text/plain": [
       "<Figure size 432x288 with 1 Axes>"
      ]
     },
     "metadata": {},
     "output_type": "display_data"
    }
   ],
   "source": [
    "#train.groupby('Parch').Survived.mean().plot(kind='bar')\n",
    "sns.barplot(x='Parch', y='Survived', ci=None, data=train) # ci=None will hide the error bar"
   ]
  },
  {
   "cell_type": "markdown",
   "metadata": {
    "_cell_guid": "e17f4cec-5b87-4145-9682-36c1074cab13",
    "_uuid": "ac0c853cd98c65e23c479fa4ac095368dc7611a3",
    "papermill": {
     "duration": 0.122045,
     "end_time": "2022-07-19T19:27:29.242918",
     "exception": false,
     "start_time": "2022-07-19T19:27:29.120873",
     "status": "completed"
    },
    "tags": []
   },
   "source": [
    "### 7) SibSp vs. Survival"
   ]
  },
  {
   "cell_type": "code",
   "execution_count": 38,
   "metadata": {
    "_cell_guid": "aa7c549b-dece-47d6-ae59-904bfacd7e7b",
    "_uuid": "73dec216cd3f086d6234292d5de07a7b38235aee",
    "execution": {
     "iopub.execute_input": "2022-07-19T19:27:29.489160Z",
     "iopub.status.busy": "2022-07-19T19:27:29.488122Z",
     "iopub.status.idle": "2022-07-19T19:27:29.496360Z",
     "shell.execute_reply": "2022-07-19T19:27:29.496962Z"
    },
    "papermill": {
     "duration": 0.131097,
     "end_time": "2022-07-19T19:27:29.497111",
     "exception": false,
     "start_time": "2022-07-19T19:27:29.366014",
     "status": "completed"
    },
    "tags": []
   },
   "outputs": [
    {
     "data": {
      "text/plain": [
       "0    608\n",
       "1    209\n",
       "2     28\n",
       "4     18\n",
       "3     16\n",
       "8      7\n",
       "5      5\n",
       "Name: SibSp, dtype: int64"
      ]
     },
     "execution_count": 38,
     "metadata": {},
     "output_type": "execute_result"
    }
   ],
   "source": [
    "train.SibSp.value_counts()"
   ]
  },
  {
   "cell_type": "code",
   "execution_count": 39,
   "metadata": {
    "_cell_guid": "4928fd7f-119e-4236-be66-fdf763789935",
    "_uuid": "ea275ec5c650b60c2c8f2fe1a9978dc62dd92971",
    "execution": {
     "iopub.execute_input": "2022-07-19T19:27:29.741736Z",
     "iopub.status.busy": "2022-07-19T19:27:29.741098Z",
     "iopub.status.idle": "2022-07-19T19:27:29.750456Z",
     "shell.execute_reply": "2022-07-19T19:27:29.751055Z"
    },
    "papermill": {
     "duration": 0.134044,
     "end_time": "2022-07-19T19:27:29.751210",
     "exception": false,
     "start_time": "2022-07-19T19:27:29.617166",
     "status": "completed"
    },
    "tags": []
   },
   "outputs": [
    {
     "data": {
      "text/plain": [
       "SibSp  Survived\n",
       "0      0           398\n",
       "       1           210\n",
       "1      1           112\n",
       "       0            97\n",
       "2      0            15\n",
       "       1            13\n",
       "3      0            12\n",
       "       1             4\n",
       "4      0            15\n",
       "       1             3\n",
       "5      0             5\n",
       "8      0             7\n",
       "Name: Survived, dtype: int64"
      ]
     },
     "execution_count": 39,
     "metadata": {},
     "output_type": "execute_result"
    }
   ],
   "source": [
    "train.groupby('SibSp').Survived.value_counts()"
   ]
  },
  {
   "cell_type": "code",
   "execution_count": 40,
   "metadata": {
    "_cell_guid": "d272b3a0-3113-43f3-8fc1-2b35c0e9f1e1",
    "_uuid": "185dc0cf1d7747ff010f35f62db9533fcafd2a46",
    "execution": {
     "iopub.execute_input": "2022-07-19T19:27:29.998403Z",
     "iopub.status.busy": "2022-07-19T19:27:29.997714Z",
     "iopub.status.idle": "2022-07-19T19:27:30.013706Z",
     "shell.execute_reply": "2022-07-19T19:27:30.013161Z"
    },
    "papermill": {
     "duration": 0.141102,
     "end_time": "2022-07-19T19:27:30.013844",
     "exception": false,
     "start_time": "2022-07-19T19:27:29.872742",
     "status": "completed"
    },
    "tags": []
   },
   "outputs": [
    {
     "data": {
      "text/html": [
       "<div>\n",
       "<style scoped>\n",
       "    .dataframe tbody tr th:only-of-type {\n",
       "        vertical-align: middle;\n",
       "    }\n",
       "\n",
       "    .dataframe tbody tr th {\n",
       "        vertical-align: top;\n",
       "    }\n",
       "\n",
       "    .dataframe thead th {\n",
       "        text-align: right;\n",
       "    }\n",
       "</style>\n",
       "<table border=\"1\" class=\"dataframe\">\n",
       "  <thead>\n",
       "    <tr style=\"text-align: right;\">\n",
       "      <th></th>\n",
       "      <th>SibSp</th>\n",
       "      <th>Survived</th>\n",
       "    </tr>\n",
       "  </thead>\n",
       "  <tbody>\n",
       "    <tr>\n",
       "      <th>0</th>\n",
       "      <td>0</td>\n",
       "      <td>0.345395</td>\n",
       "    </tr>\n",
       "    <tr>\n",
       "      <th>1</th>\n",
       "      <td>1</td>\n",
       "      <td>0.535885</td>\n",
       "    </tr>\n",
       "    <tr>\n",
       "      <th>2</th>\n",
       "      <td>2</td>\n",
       "      <td>0.464286</td>\n",
       "    </tr>\n",
       "    <tr>\n",
       "      <th>3</th>\n",
       "      <td>3</td>\n",
       "      <td>0.250000</td>\n",
       "    </tr>\n",
       "    <tr>\n",
       "      <th>4</th>\n",
       "      <td>4</td>\n",
       "      <td>0.166667</td>\n",
       "    </tr>\n",
       "    <tr>\n",
       "      <th>5</th>\n",
       "      <td>5</td>\n",
       "      <td>0.000000</td>\n",
       "    </tr>\n",
       "    <tr>\n",
       "      <th>6</th>\n",
       "      <td>8</td>\n",
       "      <td>0.000000</td>\n",
       "    </tr>\n",
       "  </tbody>\n",
       "</table>\n",
       "</div>"
      ],
      "text/plain": [
       "   SibSp  Survived\n",
       "0      0  0.345395\n",
       "1      1  0.535885\n",
       "2      2  0.464286\n",
       "3      3  0.250000\n",
       "4      4  0.166667\n",
       "5      5  0.000000\n",
       "6      8  0.000000"
      ]
     },
     "execution_count": 40,
     "metadata": {},
     "output_type": "execute_result"
    }
   ],
   "source": [
    "train[['SibSp', 'Survived']].groupby(['SibSp'], as_index=False).mean()"
   ]
  },
  {
   "cell_type": "code",
   "execution_count": 41,
   "metadata": {
    "_cell_guid": "e2974991-3fcc-40fe-a977-4084a74dbbca",
    "_uuid": "b91cd2cda757615b442a664e3ec58cf55a30a322",
    "execution": {
     "iopub.execute_input": "2022-07-19T19:27:30.283000Z",
     "iopub.status.busy": "2022-07-19T19:27:30.280146Z",
     "iopub.status.idle": "2022-07-19T19:27:30.459752Z",
     "shell.execute_reply": "2022-07-19T19:27:30.459082Z"
    },
    "papermill": {
     "duration": 0.32221,
     "end_time": "2022-07-19T19:27:30.459887",
     "exception": false,
     "start_time": "2022-07-19T19:27:30.137677",
     "status": "completed"
    },
    "tags": []
   },
   "outputs": [
    {
     "data": {
      "text/plain": [
       "<matplotlib.axes._subplots.AxesSubplot at 0x7f3264585050>"
      ]
     },
     "execution_count": 41,
     "metadata": {},
     "output_type": "execute_result"
    },
    {
     "data": {
      "image/png": "[encoded data removed]",
      "text/plain": [
       "<Figure size 432x288 with 1 Axes>"
      ]
     },
     "metadata": {},
     "output_type": "display_data"
    }
   ],
   "source": [
    "#train.groupby('SibSp').Survived.mean().plot(kind='bar')\n",
    "sns.barplot(x='SibSp', y='Survived', ci=None, data=train) \n",
    "# ci=None will hide the error bar"
   ]
  },
  {
   "cell_type": "markdown",
   "metadata": {
    "_cell_guid": "aeb5d0d6-043f-4ad6-9dd1-c8582a76f937",
    "_uuid": "3f6bfb7c78b582270ef47a77ac1fb7cd8d1f1a05",
    "papermill": {
     "duration": 0.122464,
     "end_time": "2022-07-19T19:27:30.708326",
     "exception": false,
     "start_time": "2022-07-19T19:27:30.585862",
     "status": "completed"
    },
    "tags": []
   },
   "source": [
    "### 8) Age vs. Survival"
   ]
  },
  {
   "cell_type": "code",
   "execution_count": 42,
   "metadata": {
    "_cell_guid": "5de76f16-0770-4d3a-94af-1a5f885ad513",
    "_uuid": "4b9fd4c0dc8fa56a392419cded332a5479cc9c11",
    "execution": {
     "iopub.execute_input": "2022-07-19T19:27:30.972173Z",
     "iopub.status.busy": "2022-07-19T19:27:30.971448Z",
     "iopub.status.idle": "2022-07-19T19:27:31.661198Z",
     "shell.execute_reply": "2022-07-19T19:27:31.660508Z"
    },
    "papermill": {
     "duration": 0.830465,
     "end_time": "2022-07-19T19:27:31.661315",
     "exception": false,
     "start_time": "2022-07-19T19:27:30.830850",
     "status": "completed"
    },
    "tags": []
   },
   "outputs": [
    {
     "data": {
      "text/plain": [
       "<matplotlib.axes._subplots.AxesSubplot at 0x7f32644a6a90>"
      ]
     },
     "execution_count": 42,
     "metadata": {},
     "output_type": "execute_result"
    },
    {
     "data": {
      "image/png": "[encoded data removed]",
      "text/plain": [
       "<Figure size 1080x360 with 3 Axes>"
      ]
     },
     "metadata": {},
     "output_type": "display_data"
    }
   ],
   "source": [
    "fig = plt.figure(figsize=(15,5))\n",
    "ax1 = fig.add_subplot(131)\n",
    "ax2 = fig.add_subplot(132)\n",
    "ax3 = fig.add_subplot(133)\n",
    "\n",
    "sns.violinplot(x=\"Embarked\", y=\"Age\", hue=\"Survived\", data=train, split=True, ax=ax1)\n",
    "sns.violinplot(x=\"Pclass\", y=\"Age\", hue=\"Survived\", data=train, split=True, ax=ax2)\n",
    "sns.violinplot(x=\"Sex\", y=\"Age\", hue=\"Survived\", data=train, split=True, ax=ax3)"
   ]
  },
  {
   "cell_type": "markdown",
   "metadata": {
    "_cell_guid": "483c8710-c93a-4f26-89ea-41f7309c24b9",
    "_uuid": "fc51f05e33676cef147064d01d5fed5576daa554",
    "papermill": {
     "duration": 0.124685,
     "end_time": "2022-07-19T19:27:31.910022",
     "exception": false,
     "start_time": "2022-07-19T19:27:31.785337",
     "status": "completed"
    },
    "tags": []
   },
   "source": [
    "NOTE:<br>1) From *`Pclass`* violinplot, we can see that:\n",
    "- 1st Pclass has very few children as compared to other two classes.\n",
    "- 1st Plcass has more old people as compared to other two classes.\n",
    "- Almost all children (between age 0 to 10) of 2nd Pclass survived.\n",
    "- Most children of 3rd Pclass survived.\n",
    "- Younger people of 1st Pclass survived as compared to its older people.\n",
    "\n",
    "2) From *`Sex`* violinplot, we can see that:\n",
    "- Most male children (between age 0 to 14) survived.\n",
    "- Females with age between 18 to 40 have better survival chance."
   ]
  },
  {
   "cell_type": "markdown",
   "metadata": {
    "papermill": {
     "duration": 0.126954,
     "end_time": "2022-07-19T19:27:32.164003",
     "exception": false,
     "start_time": "2022-07-19T19:27:32.037049",
     "status": "completed"
    },
    "tags": []
   },
   "source": [
    "### Plotting some distribution plots based on survival's sex "
   ]
  },
  {
   "cell_type": "code",
   "execution_count": 43,
   "metadata": {
    "_cell_guid": "5aaff304-95ca-47a5-82ea-043a754aa566",
    "_uuid": "a27f29a7b85ce41d6c7805da4e3b5f7bd99131b9",
    "execution": {
     "iopub.execute_input": "2022-07-19T19:27:32.429827Z",
     "iopub.status.busy": "2022-07-19T19:27:32.422852Z",
     "iopub.status.idle": "2022-07-19T19:27:32.433013Z",
     "shell.execute_reply": "2022-07-19T19:27:32.432374Z"
    },
    "papermill": {
     "duration": 0.144156,
     "end_time": "2022-07-19T19:27:32.433141",
     "exception": false,
     "start_time": "2022-07-19T19:27:32.288985",
     "status": "completed"
    },
    "tags": []
   },
   "outputs": [],
   "source": [
    "total_survived = train[train['Survived']==1]\n",
    "total_not_survived = train[train['Survived']==0]\n",
    "\n",
    "male_survived = train[(train['Survived']==1) & (train['Sex']==\"male\")]\n",
    "female_survived = train[(train['Survived']==1) & (train['Sex']==\"female\")]\n",
    "\n",
    "male_not_survived = train[(train['Survived']==0) & (train['Sex']==\"male\")]\n",
    "female_not_survived = train[(train['Survived']==0) & (train['Sex']==\"female\")]"
   ]
  },
  {
   "cell_type": "code",
   "execution_count": 44,
   "metadata": {
    "execution": {
     "iopub.execute_input": "2022-07-19T19:27:32.699185Z",
     "iopub.status.busy": "2022-07-19T19:27:32.697625Z",
     "iopub.status.idle": "2022-07-19T19:27:33.362597Z",
     "shell.execute_reply": "2022-07-19T19:27:33.361957Z"
    },
    "papermill": {
     "duration": 0.804466,
     "end_time": "2022-07-19T19:27:33.362710",
     "exception": false,
     "start_time": "2022-07-19T19:27:32.558244",
     "status": "completed"
    },
    "tags": []
   },
   "outputs": [
    {
     "data": {
      "text/plain": [
       "<matplotlib.axes._subplots.AxesSubplot at 0x7f32641b7ad0>"
      ]
     },
     "execution_count": 44,
     "metadata": {},
     "output_type": "execute_result"
    },
    {
     "data": {
      "image/png": "[encoded data removed]",
      "text/plain": [
       "<Figure size 1080x360 with 1 Axes>"
      ]
     },
     "metadata": {},
     "output_type": "display_data"
    }
   ],
   "source": [
    "plt.figure(figsize=[15,5])\n",
    "plt.subplot(111)\n",
    "sns.distplot(total_survived['Age'].dropna().values, bins=range(0, 81, 1), kde=True, color='blue')\n",
    "sns.distplot(total_not_survived['Age'].dropna().values, bins=range(0, 81, 1), kde=True, color='red', axlabel='Age')"
   ]
  },
  {
   "cell_type": "code",
   "execution_count": 45,
   "metadata": {
    "execution": {
     "iopub.execute_input": "2022-07-19T19:27:33.632505Z",
     "iopub.status.busy": "2022-07-19T19:27:33.631727Z",
     "iopub.status.idle": "2022-07-19T19:27:34.777193Z",
     "shell.execute_reply": "2022-07-19T19:27:34.776546Z"
    },
    "papermill": {
     "duration": 1.287684,
     "end_time": "2022-07-19T19:27:34.777322",
     "exception": false,
     "start_time": "2022-07-19T19:27:33.489638",
     "status": "completed"
    },
    "tags": []
   },
   "outputs": [
    {
     "data": {
      "text/plain": [
       "<matplotlib.axes._subplots.AxesSubplot at 0x7f32646540d0>"
      ]
     },
     "execution_count": 45,
     "metadata": {},
     "output_type": "execute_result"
    },
    {
     "data": {
      "image/png": "[encoded data removed]",
      "text/plain": [
       "<Figure size 1080x360 with 2 Axes>"
      ]
     },
     "metadata": {},
     "output_type": "display_data"
    }
   ],
   "source": [
    "plt.figure(figsize=[15,5])\n",
    "\n",
    "plt.subplot(121)\n",
    "sns.distplot(female_survived['Age'].dropna().values, bins=range(0, 81, 1), kde=True, color='blue')\n",
    "sns.distplot(female_not_survived['Age'].dropna().values, bins=range(0, 81, 1), kde=True, color='red', axlabel='Female Age')\n",
    "\n",
    "plt.subplot(122)\n",
    "sns.distplot(male_survived['Age'].dropna().values, bins=range(0, 81, 1), kde=True, color='blue')\n",
    "sns.distplot(male_not_survived['Age'].dropna().values, bins=range(0, 81, 1), kde=True, color='red', axlabel='Male Age')"
   ]
  },
  {
   "cell_type": "markdown",
   "metadata": {
    "_cell_guid": "41e4e217-e98d-4648-9a18-41f6b031a93b",
    "_uuid": "9c6e39a8fe1becb94c1d473513bedccf28b0ac3b",
    "papermill": {
     "duration": 0.128468,
     "end_time": "2022-07-19T19:27:35.034691",
     "exception": false,
     "start_time": "2022-07-19T19:27:34.906223",
     "status": "completed"
    },
    "tags": []
   },
   "source": [
    "NOTE:<br>From the above figures, we can see that:\n",
    "- Combining both male and female, we can see that children with age between 0 to 5 have better chance of survival.\n",
    "- Females with age between \"18 to 40\" and \"50 and above\" have higher chance of survival.\n",
    "- Males with age between 0 to 14 have better chance of survival."
   ]
  },
  {
   "cell_type": "markdown",
   "metadata": {
    "_cell_guid": "6f2389e2-5f94-4afb-87e1-028350de945d",
    "_uuid": "00b44aefe6f10d7abc759461075e4a4688c1c4f5",
    "papermill": {
     "duration": 0.127015,
     "end_time": "2022-07-19T19:27:35.290958",
     "exception": false,
     "start_time": "2022-07-19T19:27:35.163943",
     "status": "completed"
    },
    "tags": []
   },
   "source": [
    "## Correlating Features"
   ]
  },
  {
   "cell_type": "code",
   "execution_count": 46,
   "metadata": {
    "_cell_guid": "a6e2253b-aa82-4ef5-8b1a-c1c5c7b6b176",
    "_uuid": "f3a8657cbe64e417316d2f5f6ebe1069e4532cf2",
    "execution": {
     "iopub.execute_input": "2022-07-19T19:27:35.556265Z",
     "iopub.status.busy": "2022-07-19T19:27:35.555356Z",
     "iopub.status.idle": "2022-07-19T19:27:35.979190Z",
     "shell.execute_reply": "2022-07-19T19:27:35.978561Z"
    },
    "papermill": {
     "duration": 0.560795,
     "end_time": "2022-07-19T19:27:35.979315",
     "exception": false,
     "start_time": "2022-07-19T19:27:35.418520",
     "status": "completed"
    },
    "tags": []
   },
   "outputs": [
    {
     "data": {
      "text/plain": [
       "<matplotlib.axes._subplots.AxesSubplot at 0x7f326463ded0>"
      ]
     },
     "execution_count": 46,
     "metadata": {},
     "output_type": "execute_result"
    },
    {
     "data": {
      "image/png": "[encoded data removed]",
      "text/plain": [
       "<Figure size 1080x432 with 2 Axes>"
      ]
     },
     "metadata": {},
     "output_type": "display_data"
    }
   ],
   "source": [
    "plt.figure(figsize=(15,6))\n",
    "sns.heatmap(train.drop('PassengerId',axis=1).corr(), vmax=0.6, square=True, annot=True)"
   ]
  },
  {
   "cell_type": "markdown",
   "metadata": {
    "_cell_guid": "6816a62e-da08-4442-bdd8-87d185dff768",
    "_uuid": "ec0d7f20ae24e1aaa825178fbad211aa2dd5965e",
    "papermill": {
     "duration": 0.131101,
     "end_time": "2022-07-19T19:27:36.252375",
     "exception": false,
     "start_time": "2022-07-19T19:27:36.121274",
     "status": "completed"
    },
    "tags": []
   },
   "source": [
    "NOTE:<br>Heatmap of Correlation between different features:\n",
    "\n",
    ">Positive numbers = Positive correlation, i.e. increase in one feature will increase the other feature & vice-versa.<br>\n",
    ">Negative numbers = Negative correlation, i.e. increase in one feature will decrease the other feature & vice-versa.\n",
    "\n",
    "In our case, we focus on which features have strong positive or negative correlation with the *Survived* feature."
   ]
  },
  {
   "cell_type": "markdown",
   "metadata": {
    "_cell_guid": "810cd964-24eb-44fb-9e7b-18bbddd4900f",
    "_uuid": "fd86ccdf2d1248b79c68365444e96e46a50f3f5a",
    "papermill": {
     "duration": 0.130663,
     "end_time": "2022-07-19T19:27:36.515153",
     "exception": false,
     "start_time": "2022-07-19T19:27:36.384490",
     "status": "completed"
    },
    "tags": []
   },
   "source": [
    "## Feature Extraction\n",
    "> In this section, we select the appropriate features to train our classifier. <br>\n",
    "> Here, we create new features based on existing features. <br>\n",
    "> We also convert categorical features into numeric form."
   ]
  },
  {
   "cell_type": "markdown",
   "metadata": {
    "_cell_guid": "33e2375e-78e5-4b4a-989f-2c71a68b821e",
    "_uuid": "b645e2361f539ffbcc5b554e99e4346e97a56bce",
    "papermill": {
     "duration": 0.130279,
     "end_time": "2022-07-19T19:27:36.777201",
     "exception": false,
     "start_time": "2022-07-19T19:27:36.646922",
     "status": "completed"
    },
    "tags": []
   },
   "source": [
    "### 1) Name Feature\n",
    "> Let's first extract titles from *Name* column."
   ]
  },
  {
   "cell_type": "code",
   "execution_count": 47,
   "metadata": {
    "_cell_guid": "ff9cf7ce-8b13-48d0-8ec0-4bcd9befcd42",
    "_uuid": "e3b7f95e366e878c7e99672ddc4361c5b5f99959",
    "execution": {
     "iopub.execute_input": "2022-07-19T19:27:37.054837Z",
     "iopub.status.busy": "2022-07-19T19:27:37.054135Z",
     "iopub.status.idle": "2022-07-19T19:27:37.057373Z",
     "shell.execute_reply": "2022-07-19T19:27:37.056538Z"
    },
    "papermill": {
     "duration": 0.145764,
     "end_time": "2022-07-19T19:27:37.057530",
     "exception": false,
     "start_time": "2022-07-19T19:27:36.911766",
     "status": "completed"
    },
    "tags": []
   },
   "outputs": [],
   "source": [
    " # combining train and test dataset\n",
    "train_test_data = [train, test]\n",
    "\n",
    "# extracting titles from Name column.\n",
    "for dataset in train_test_data:\n",
    "    dataset['Title'] = dataset['Name'].str.extract(' ([A-Za-z]+)\\.')"
   ]
  },
  {
   "cell_type": "code",
   "execution_count": 48,
   "metadata": {
    "_cell_guid": "13811f8e-4746-411b-806f-2c86a4893269",
    "_uuid": "5b181a96646a36e0669e856f399646fa30923781",
    "execution": {
     "iopub.execute_input": "2022-07-19T19:27:37.326971Z",
     "iopub.status.busy": "2022-07-19T19:27:37.326248Z",
     "iopub.status.idle": "2022-07-19T19:27:37.340022Z",
     "shell.execute_reply": "2022-07-19T19:27:37.340659Z"
    },
    "papermill": {
     "duration": 0.151973,
     "end_time": "2022-07-19T19:27:37.340829",
     "exception": false,
     "start_time": "2022-07-19T19:27:37.188856",
     "status": "completed"
    },
    "tags": []
   },
   "outputs": [
    {
     "data": {
      "text/html": [
       "<div>\n",
       "<style scoped>\n",
       "    .dataframe tbody tr th:only-of-type {\n",
       "        vertical-align: middle;\n",
       "    }\n",
       "\n",
       "    .dataframe tbody tr th {\n",
       "        vertical-align: top;\n",
       "    }\n",
       "\n",
       "    .dataframe thead th {\n",
       "        text-align: right;\n",
       "    }\n",
       "</style>\n",
       "<table border=\"1\" class=\"dataframe\">\n",
       "  <thead>\n",
       "    <tr style=\"text-align: right;\">\n",
       "      <th></th>\n",
       "      <th>PassengerId</th>\n",
       "      <th>Survived</th>\n",
       "      <th>Pclass</th>\n",
       "      <th>Name</th>\n",
       "      <th>Sex</th>\n",
       "      <th>Age</th>\n",
       "      <th>SibSp</th>\n",
       "      <th>Parch</th>\n",
       "      <th>Ticket</th>\n",
       "      <th>Fare</th>\n",
       "      <th>Cabin</th>\n",
       "      <th>Embarked</th>\n",
       "      <th>Title</th>\n",
       "    </tr>\n",
       "  </thead>\n",
       "  <tbody>\n",
       "    <tr>\n",
       "      <th>0</th>\n",
       "      <td>1</td>\n",
       "      <td>0</td>\n",
       "      <td>3</td>\n",
       "      <td>Braund, Mr. Owen Harris</td>\n",
       "      <td>male</td>\n",
       "      <td>22.0</td>\n",
       "      <td>1</td>\n",
       "      <td>0</td>\n",
       "      <td>A/5 21171</td>\n",
       "      <td>7.2500</td>\n",
       "      <td>NaN</td>\n",
       "      <td>S</td>\n",
       "      <td>Mr</td>\n",
       "    </tr>\n",
       "    <tr>\n",
       "      <th>1</th>\n",
       "      <td>2</td>\n",
       "      <td>1</td>\n",
       "      <td>1</td>\n",
       "      <td>Cumings, Mrs. John Bradley (Florence Briggs Th...</td>\n",
       "      <td>female</td>\n",
       "      <td>38.0</td>\n",
       "      <td>1</td>\n",
       "      <td>0</td>\n",
       "      <td>PC 17599</td>\n",
       "      <td>71.2833</td>\n",
       "      <td>C85</td>\n",
       "      <td>C</td>\n",
       "      <td>Mrs</td>\n",
       "    </tr>\n",
       "    <tr>\n",
       "      <th>2</th>\n",
       "      <td>3</td>\n",
       "      <td>1</td>\n",
       "      <td>3</td>\n",
       "      <td>Heikkinen, Miss. Laina</td>\n",
       "      <td>female</td>\n",
       "      <td>26.0</td>\n",
       "      <td>0</td>\n",
       "      <td>0</td>\n",
       "      <td>STON/O2. 3101282</td>\n",
       "      <td>7.9250</td>\n",
       "      <td>NaN</td>\n",
       "      <td>S</td>\n",
       "      <td>Miss</td>\n",
       "    </tr>\n",
       "    <tr>\n",
       "      <th>3</th>\n",
       "      <td>4</td>\n",
       "      <td>1</td>\n",
       "      <td>1</td>\n",
       "      <td>Futrelle, Mrs. Jacques Heath (Lily May Peel)</td>\n",
       "      <td>female</td>\n",
       "      <td>35.0</td>\n",
       "      <td>1</td>\n",
       "      <td>0</td>\n",
       "      <td>113803</td>\n",
       "      <td>53.1000</td>\n",
       "      <td>C123</td>\n",
       "      <td>S</td>\n",
       "      <td>Mrs</td>\n",
       "    </tr>\n",
       "    <tr>\n",
       "      <th>4</th>\n",
       "      <td>5</td>\n",
       "      <td>0</td>\n",
       "      <td>3</td>\n",
       "      <td>Allen, Mr. William Henry</td>\n",
       "      <td>male</td>\n",
       "      <td>35.0</td>\n",
       "      <td>0</td>\n",
       "      <td>0</td>\n",
       "      <td>373450</td>\n",
       "      <td>8.0500</td>\n",
       "      <td>NaN</td>\n",
       "      <td>S</td>\n",
       "      <td>Mr</td>\n",
       "    </tr>\n",
       "  </tbody>\n",
       "</table>\n",
       "</div>"
      ],
      "text/plain": [
       "   PassengerId  Survived  Pclass  \\\n",
       "0            1         0       3   \n",
       "1            2         1       1   \n",
       "2            3         1       3   \n",
       "3            4         1       1   \n",
       "4            5         0       3   \n",
       "\n",
       "                                                Name     Sex   Age  SibSp  \\\n",
       "0                            Braund, Mr. Owen Harris    male  22.0      1   \n",
       "1  Cumings, Mrs. John Bradley (Florence Briggs Th...  female  38.0      1   \n",
       "2                             Heikkinen, Miss. Laina  female  26.0      0   \n",
       "3       Futrelle, Mrs. Jacques Heath (Lily May Peel)  female  35.0      1   \n",
       "4                           Allen, Mr. William Henry    male  35.0      0   \n",
       "\n",
       "   Parch            Ticket     Fare Cabin Embarked Title  \n",
       "0      0         A/5 21171   7.2500   NaN        S    Mr  \n",
       "1      0          PC 17599  71.2833   C85        C   Mrs  \n",
       "2      0  STON/O2. 3101282   7.9250   NaN        S  Miss  \n",
       "3      0            113803  53.1000  C123        S   Mrs  \n",
       "4      0            373450   8.0500   NaN        S    Mr  "
      ]
     },
     "execution_count": 48,
     "metadata": {},
     "output_type": "execute_result"
    }
   ],
   "source": [
    "train.head()"
   ]
  },
  {
   "cell_type": "markdown",
   "metadata": {
    "_cell_guid": "079b3f6e-6b8c-40bf-a419-94f0dd4e5c4d",
    "_uuid": "a3c0f651d45fdcf89cdbe49b86ecfa66c95a49f3",
    "papermill": {
     "duration": 0.131188,
     "end_time": "2022-07-19T19:27:37.603043",
     "exception": false,
     "start_time": "2022-07-19T19:27:37.471855",
     "status": "completed"
    },
    "tags": []
   },
   "source": [
    "> As you can see above, we have added a new column named *Title* in the Train dataset with the *Title* present in the particular passenger name."
   ]
  },
  {
   "cell_type": "code",
   "execution_count": 49,
   "metadata": {
    "_cell_guid": "bf944c80-25c2-46f9-8c79-6daf3c8f6d6e",
    "_uuid": "ee143a8c07ba167241d0714187a45eca75847b70",
    "execution": {
     "iopub.execute_input": "2022-07-19T19:27:37.871876Z",
     "iopub.status.busy": "2022-07-19T19:27:37.871221Z",
     "iopub.status.idle": "2022-07-19T19:27:37.895071Z",
     "shell.execute_reply": "2022-07-19T19:27:37.894385Z"
    },
    "papermill": {
     "duration": 0.160517,
     "end_time": "2022-07-19T19:27:37.895191",
     "exception": false,
     "start_time": "2022-07-19T19:27:37.734674",
     "status": "completed"
    },
    "tags": []
   },
   "outputs": [
    {
     "data": {
      "text/html": [
       "<div>\n",
       "<style scoped>\n",
       "    .dataframe tbody tr th:only-of-type {\n",
       "        vertical-align: middle;\n",
       "    }\n",
       "\n",
       "    .dataframe tbody tr th {\n",
       "        vertical-align: top;\n",
       "    }\n",
       "\n",
       "    .dataframe thead th {\n",
       "        text-align: right;\n",
       "    }\n",
       "</style>\n",
       "<table border=\"1\" class=\"dataframe\">\n",
       "  <thead>\n",
       "    <tr style=\"text-align: right;\">\n",
       "      <th>Sex</th>\n",
       "      <th>female</th>\n",
       "      <th>male</th>\n",
       "    </tr>\n",
       "    <tr>\n",
       "      <th>Title</th>\n",
       "      <th></th>\n",
       "      <th></th>\n",
       "    </tr>\n",
       "  </thead>\n",
       "  <tbody>\n",
       "    <tr>\n",
       "      <th>Capt</th>\n",
       "      <td>0</td>\n",
       "      <td>1</td>\n",
       "    </tr>\n",
       "    <tr>\n",
       "      <th>Col</th>\n",
       "      <td>0</td>\n",
       "      <td>2</td>\n",
       "    </tr>\n",
       "    <tr>\n",
       "      <th>Countess</th>\n",
       "      <td>1</td>\n",
       "      <td>0</td>\n",
       "    </tr>\n",
       "    <tr>\n",
       "      <th>Don</th>\n",
       "      <td>0</td>\n",
       "      <td>1</td>\n",
       "    </tr>\n",
       "    <tr>\n",
       "      <th>Dr</th>\n",
       "      <td>1</td>\n",
       "      <td>6</td>\n",
       "    </tr>\n",
       "    <tr>\n",
       "      <th>Jonkheer</th>\n",
       "      <td>0</td>\n",
       "      <td>1</td>\n",
       "    </tr>\n",
       "    <tr>\n",
       "      <th>Lady</th>\n",
       "      <td>1</td>\n",
       "      <td>0</td>\n",
       "    </tr>\n",
       "    <tr>\n",
       "      <th>Major</th>\n",
       "      <td>0</td>\n",
       "      <td>2</td>\n",
       "    </tr>\n",
       "    <tr>\n",
       "      <th>Master</th>\n",
       "      <td>0</td>\n",
       "      <td>40</td>\n",
       "    </tr>\n",
       "    <tr>\n",
       "      <th>Miss</th>\n",
       "      <td>182</td>\n",
       "      <td>0</td>\n",
       "    </tr>\n",
       "    <tr>\n",
       "      <th>Mlle</th>\n",
       "      <td>2</td>\n",
       "      <td>0</td>\n",
       "    </tr>\n",
       "    <tr>\n",
       "      <th>Mme</th>\n",
       "      <td>1</td>\n",
       "      <td>0</td>\n",
       "    </tr>\n",
       "    <tr>\n",
       "      <th>Mr</th>\n",
       "      <td>0</td>\n",
       "      <td>517</td>\n",
       "    </tr>\n",
       "    <tr>\n",
       "      <th>Mrs</th>\n",
       "      <td>125</td>\n",
       "      <td>0</td>\n",
       "    </tr>\n",
       "    <tr>\n",
       "      <th>Ms</th>\n",
       "      <td>1</td>\n",
       "      <td>0</td>\n",
       "    </tr>\n",
       "    <tr>\n",
       "      <th>Rev</th>\n",
       "      <td>0</td>\n",
       "      <td>6</td>\n",
       "    </tr>\n",
       "    <tr>\n",
       "      <th>Sir</th>\n",
       "      <td>0</td>\n",
       "      <td>1</td>\n",
       "    </tr>\n",
       "  </tbody>\n",
       "</table>\n",
       "</div>"
      ],
      "text/plain": [
       "Sex       female  male\n",
       "Title                 \n",
       "Capt           0     1\n",
       "Col            0     2\n",
       "Countess       1     0\n",
       "Don            0     1\n",
       "Dr             1     6\n",
       "Jonkheer       0     1\n",
       "Lady           1     0\n",
       "Major          0     2\n",
       "Master         0    40\n",
       "Miss         182     0\n",
       "Mlle           2     0\n",
       "Mme            1     0\n",
       "Mr             0   517\n",
       "Mrs          125     0\n",
       "Ms             1     0\n",
       "Rev            0     6\n",
       "Sir            0     1"
      ]
     },
     "execution_count": 49,
     "metadata": {},
     "output_type": "execute_result"
    }
   ],
   "source": [
    "pd.crosstab(train['Title'], train['Sex'])"
   ]
  },
  {
   "cell_type": "markdown",
   "metadata": {
    "_cell_guid": "d701f6ea-0e79-4249-afa1-6e53ca61e401",
    "_uuid": "84f15be73a52ea3e7d591cd6246b084c26b1e39c",
    "papermill": {
     "duration": 0.132668,
     "end_time": "2022-07-19T19:27:38.161753",
     "exception": false,
     "start_time": "2022-07-19T19:27:38.029085",
     "status": "completed"
    },
    "tags": []
   },
   "source": [
    "#### NOTE:\n",
    "- The number of passengers with each *`Title`* is shown above.\n",
    "- We now replace some less common titles with the name \"`Other`\"."
   ]
  },
  {
   "cell_type": "code",
   "execution_count": 50,
   "metadata": {
    "_cell_guid": "d0826fef-6815-4381-8667-70ca0f04edf7",
    "_uuid": "027552b065d70355ddad5f5e26c8d58029e737aa",
    "execution": {
     "iopub.execute_input": "2022-07-19T19:27:38.449660Z",
     "iopub.status.busy": "2022-07-19T19:27:38.448544Z",
     "iopub.status.idle": "2022-07-19T19:27:38.460008Z",
     "shell.execute_reply": "2022-07-19T19:27:38.460613Z"
    },
    "papermill": {
     "duration": 0.164012,
     "end_time": "2022-07-19T19:27:38.460762",
     "exception": false,
     "start_time": "2022-07-19T19:27:38.296750",
     "status": "completed"
    },
    "tags": []
   },
   "outputs": [
    {
     "data": {
      "text/html": [
       "<div>\n",
       "<style scoped>\n",
       "    .dataframe tbody tr th:only-of-type {\n",
       "        vertical-align: middle;\n",
       "    }\n",
       "\n",
       "    .dataframe tbody tr th {\n",
       "        vertical-align: top;\n",
       "    }\n",
       "\n",
       "    .dataframe thead th {\n",
       "        text-align: right;\n",
       "    }\n",
       "</style>\n",
       "<table border=\"1\" class=\"dataframe\">\n",
       "  <thead>\n",
       "    <tr style=\"text-align: right;\">\n",
       "      <th></th>\n",
       "      <th>Title</th>\n",
       "      <th>Survived</th>\n",
       "    </tr>\n",
       "  </thead>\n",
       "  <tbody>\n",
       "    <tr>\n",
       "      <th>0</th>\n",
       "      <td>Master</td>\n",
       "      <td>0.575000</td>\n",
       "    </tr>\n",
       "    <tr>\n",
       "      <th>1</th>\n",
       "      <td>Miss</td>\n",
       "      <td>0.702703</td>\n",
       "    </tr>\n",
       "    <tr>\n",
       "      <th>2</th>\n",
       "      <td>Mr</td>\n",
       "      <td>0.156673</td>\n",
       "    </tr>\n",
       "    <tr>\n",
       "      <th>3</th>\n",
       "      <td>Mrs</td>\n",
       "      <td>0.793651</td>\n",
       "    </tr>\n",
       "    <tr>\n",
       "      <th>4</th>\n",
       "      <td>Other</td>\n",
       "      <td>0.347826</td>\n",
       "    </tr>\n",
       "  </tbody>\n",
       "</table>\n",
       "</div>"
      ],
      "text/plain": [
       "    Title  Survived\n",
       "0  Master  0.575000\n",
       "1    Miss  0.702703\n",
       "2      Mr  0.156673\n",
       "3     Mrs  0.793651\n",
       "4   Other  0.347826"
      ]
     },
     "execution_count": 50,
     "metadata": {},
     "output_type": "execute_result"
    }
   ],
   "source": [
    "for dataset in train_test_data:\n",
    "    dataset['Title'] = dataset['Title'].replace(['Lady', 'Countess','Capt', 'Col', \\\n",
    " \t'Don', 'Dr', 'Major', 'Rev', 'Sir', 'Jonkheer', 'Dona'], 'Other')\n",
    "\n",
    "    dataset['Title'] = dataset['Title'].replace('Mlle', 'Miss')\n",
    "    dataset['Title'] = dataset['Title'].replace('Ms', 'Miss')\n",
    "    dataset['Title'] = dataset['Title'].replace('Mme', 'Mrs')\n",
    "    \n",
    "train[['Title', 'Survived']].groupby(['Title'], as_index=False).mean()"
   ]
  },
  {
   "cell_type": "code",
   "execution_count": 51,
   "metadata": {
    "execution": {
     "iopub.execute_input": "2022-07-19T19:27:38.733742Z",
     "iopub.status.busy": "2022-07-19T19:27:38.733051Z",
     "iopub.status.idle": "2022-07-19T19:27:38.910672Z",
     "shell.execute_reply": "2022-07-19T19:27:38.909978Z"
    },
    "papermill": {
     "duration": 0.317052,
     "end_time": "2022-07-19T19:27:38.910815",
     "exception": false,
     "start_time": "2022-07-19T19:27:38.593763",
     "status": "completed"
    },
    "tags": []
   },
   "outputs": [
    {
     "data": {
      "text/plain": [
       "<matplotlib.axes._subplots.AxesSubplot at 0x7f325c0c6650>"
      ]
     },
     "execution_count": 51,
     "metadata": {},
     "output_type": "execute_result"
    },
    {
     "data": {
      "image/png": "[encoded data removed]",
      "text/plain": [
       "<Figure size 432x288 with 1 Axes>"
      ]
     },
     "metadata": {},
     "output_type": "display_data"
    }
   ],
   "source": [
    "sns.barplot(x='Title', y='Survived', ci=None, data=train)"
   ]
  },
  {
   "cell_type": "markdown",
   "metadata": {
    "_cell_guid": "c55cad9a-7484-47dd-88fd-925042b3f043",
    "_uuid": "3560235f8e1546cf1bf01a05b11df706c2b0f0eb",
    "papermill": {
     "duration": 0.134995,
     "end_time": "2022-07-19T19:27:39.180986",
     "exception": false,
     "start_time": "2022-07-19T19:27:39.045991",
     "status": "completed"
    },
    "tags": []
   },
   "source": [
    "Now, we convert the categorical *Title* values into numeric form."
   ]
  },
  {
   "cell_type": "code",
   "execution_count": 52,
   "metadata": {
    "_cell_guid": "2b03f4c6-68b9-42cb-b48b-ed443e88f536",
    "_uuid": "68855c261b705fb2bfd8867e89c53af2f8a6e736",
    "execution": {
     "iopub.execute_input": "2022-07-19T19:27:39.458243Z",
     "iopub.status.busy": "2022-07-19T19:27:39.457554Z",
     "iopub.status.idle": "2022-07-19T19:27:39.461015Z",
     "shell.execute_reply": "2022-07-19T19:27:39.460335Z"
    },
    "papermill": {
     "duration": 0.147026,
     "end_time": "2022-07-19T19:27:39.461137",
     "exception": false,
     "start_time": "2022-07-19T19:27:39.314111",
     "status": "completed"
    },
    "tags": []
   },
   "outputs": [],
   "source": [
    "title_mapping = {\"Mr\": 1, \"Miss\": 2, \"Mrs\": 3, \"Master\": 4, \"Other\": 5}\n",
    "for dataset in train_test_data:\n",
    "    dataset['Title'] = dataset['Title'].map(title_mapping)\n",
    "    dataset['Title'] = dataset['Title'].fillna(0)"
   ]
  },
  {
   "cell_type": "code",
   "execution_count": 53,
   "metadata": {
    "_cell_guid": "784a9133-1e88-4fcb-a1dc-e295e4b8ade2",
    "_uuid": "9eb4e3aeecdc072744751529630ebc2a402fc03f",
    "execution": {
     "iopub.execute_input": "2022-07-19T19:27:39.746684Z",
     "iopub.status.busy": "2022-07-19T19:27:39.745995Z",
     "iopub.status.idle": "2022-07-19T19:27:39.750586Z",
     "shell.execute_reply": "2022-07-19T19:27:39.749942Z"
    },
    "papermill": {
     "duration": 0.156444,
     "end_time": "2022-07-19T19:27:39.750702",
     "exception": false,
     "start_time": "2022-07-19T19:27:39.594258",
     "status": "completed"
    },
    "tags": []
   },
   "outputs": [
    {
     "data": {
      "text/html": [
       "<div>\n",
       "<style scoped>\n",
       "    .dataframe tbody tr th:only-of-type {\n",
       "        vertical-align: middle;\n",
       "    }\n",
       "\n",
       "    .dataframe tbody tr th {\n",
       "        vertical-align: top;\n",
       "    }\n",
       "\n",
       "    .dataframe thead th {\n",
       "        text-align: right;\n",
       "    }\n",
       "</style>\n",
       "<table border=\"1\" class=\"dataframe\">\n",
       "  <thead>\n",
       "    <tr style=\"text-align: right;\">\n",
       "      <th></th>\n",
       "      <th>PassengerId</th>\n",
       "      <th>Survived</th>\n",
       "      <th>Pclass</th>\n",
       "      <th>Name</th>\n",
       "      <th>Sex</th>\n",
       "      <th>Age</th>\n",
       "      <th>SibSp</th>\n",
       "      <th>Parch</th>\n",
       "      <th>Ticket</th>\n",
       "      <th>Fare</th>\n",
       "      <th>Cabin</th>\n",
       "      <th>Embarked</th>\n",
       "      <th>Title</th>\n",
       "    </tr>\n",
       "  </thead>\n",
       "  <tbody>\n",
       "    <tr>\n",
       "      <th>0</th>\n",
       "      <td>1</td>\n",
       "      <td>0</td>\n",
       "      <td>3</td>\n",
       "      <td>Braund, Mr. Owen Harris</td>\n",
       "      <td>male</td>\n",
       "      <td>22.0</td>\n",
       "      <td>1</td>\n",
       "      <td>0</td>\n",
       "      <td>A/5 21171</td>\n",
       "      <td>7.2500</td>\n",
       "      <td>NaN</td>\n",
       "      <td>S</td>\n",
       "      <td>1</td>\n",
       "    </tr>\n",
       "    <tr>\n",
       "      <th>1</th>\n",
       "      <td>2</td>\n",
       "      <td>1</td>\n",
       "      <td>1</td>\n",
       "      <td>Cumings, Mrs. John Bradley (Florence Briggs Th...</td>\n",
       "      <td>female</td>\n",
       "      <td>38.0</td>\n",
       "      <td>1</td>\n",
       "      <td>0</td>\n",
       "      <td>PC 17599</td>\n",
       "      <td>71.2833</td>\n",
       "      <td>C85</td>\n",
       "      <td>C</td>\n",
       "      <td>3</td>\n",
       "    </tr>\n",
       "    <tr>\n",
       "      <th>2</th>\n",
       "      <td>3</td>\n",
       "      <td>1</td>\n",
       "      <td>3</td>\n",
       "      <td>Heikkinen, Miss. Laina</td>\n",
       "      <td>female</td>\n",
       "      <td>26.0</td>\n",
       "      <td>0</td>\n",
       "      <td>0</td>\n",
       "      <td>STON/O2. 3101282</td>\n",
       "      <td>7.9250</td>\n",
       "      <td>NaN</td>\n",
       "      <td>S</td>\n",
       "      <td>2</td>\n",
       "    </tr>\n",
       "    <tr>\n",
       "      <th>3</th>\n",
       "      <td>4</td>\n",
       "      <td>1</td>\n",
       "      <td>1</td>\n",
       "      <td>Futrelle, Mrs. Jacques Heath (Lily May Peel)</td>\n",
       "      <td>female</td>\n",
       "      <td>35.0</td>\n",
       "      <td>1</td>\n",
       "      <td>0</td>\n",
       "      <td>113803</td>\n",
       "      <td>53.1000</td>\n",
       "      <td>C123</td>\n",
       "      <td>S</td>\n",
       "      <td>3</td>\n",
       "    </tr>\n",
       "    <tr>\n",
       "      <th>4</th>\n",
       "      <td>5</td>\n",
       "      <td>0</td>\n",
       "      <td>3</td>\n",
       "      <td>Allen, Mr. William Henry</td>\n",
       "      <td>male</td>\n",
       "      <td>35.0</td>\n",
       "      <td>0</td>\n",
       "      <td>0</td>\n",
       "      <td>373450</td>\n",
       "      <td>8.0500</td>\n",
       "      <td>NaN</td>\n",
       "      <td>S</td>\n",
       "      <td>1</td>\n",
       "    </tr>\n",
       "  </tbody>\n",
       "</table>\n",
       "</div>"
      ],
      "text/plain": [
       "   PassengerId  Survived  Pclass  \\\n",
       "0            1         0       3   \n",
       "1            2         1       1   \n",
       "2            3         1       3   \n",
       "3            4         1       1   \n",
       "4            5         0       3   \n",
       "\n",
       "                                                Name     Sex   Age  SibSp  \\\n",
       "0                            Braund, Mr. Owen Harris    male  22.0      1   \n",
       "1  Cumings, Mrs. John Bradley (Florence Briggs Th...  female  38.0      1   \n",
       "2                             Heikkinen, Miss. Laina  female  26.0      0   \n",
       "3       Futrelle, Mrs. Jacques Heath (Lily May Peel)  female  35.0      1   \n",
       "4                           Allen, Mr. William Henry    male  35.0      0   \n",
       "\n",
       "   Parch            Ticket     Fare Cabin Embarked  Title  \n",
       "0      0         A/5 21171   7.2500   NaN        S      1  \n",
       "1      0          PC 17599  71.2833   C85        C      3  \n",
       "2      0  STON/O2. 3101282   7.9250   NaN        S      2  \n",
       "3      0            113803  53.1000  C123        S      3  \n",
       "4      0            373450   8.0500   NaN        S      1  "
      ]
     },
     "execution_count": 53,
     "metadata": {},
     "output_type": "execute_result"
    }
   ],
   "source": [
    "train.head()"
   ]
  },
  {
   "cell_type": "markdown",
   "metadata": {
    "_cell_guid": "84c6e359-0c42-45f1-a02b-95cd378569c5",
    "_uuid": "b387c9a34617e40a18e864478e8a1f27ff8d16d4",
    "papermill": {
     "duration": 0.136192,
     "end_time": "2022-07-19T19:27:40.024446",
     "exception": false,
     "start_time": "2022-07-19T19:27:39.888254",
     "status": "completed"
    },
    "tags": []
   },
   "source": [
    "### 2) Sex Feature\n",
    "> We convert the categorical value of *Sex* into numeric. We represent **0** as **female** and **1** as **male**."
   ]
  },
  {
   "cell_type": "code",
   "execution_count": 54,
   "metadata": {
    "_cell_guid": "9a894d3c-a231-4086-a913-983095991db4",
    "_uuid": "6f411eedcf32587d4a32516a1468118d05b8651e",
    "execution": {
     "iopub.execute_input": "2022-07-19T19:27:40.305186Z",
     "iopub.status.busy": "2022-07-19T19:27:40.304452Z",
     "iopub.status.idle": "2022-07-19T19:27:40.310288Z",
     "shell.execute_reply": "2022-07-19T19:27:40.309707Z"
    },
    "papermill": {
     "duration": 0.150473,
     "end_time": "2022-07-19T19:27:40.310416",
     "exception": false,
     "start_time": "2022-07-19T19:27:40.159943",
     "status": "completed"
    },
    "tags": []
   },
   "outputs": [],
   "source": [
    "for dataset in train_test_data:\n",
    "    dataset['Sex'] = dataset['Sex'].map( {'female': 1, 'male': 0} ).astype(int)"
   ]
  },
  {
   "cell_type": "code",
   "execution_count": 55,
   "metadata": {
    "_cell_guid": "97140289-3b80-47b3-af17-e8722edbe561",
    "_uuid": "601cfeccb49d385da5b95d475368a7c2381fa50f",
    "execution": {
     "iopub.execute_input": "2022-07-19T19:27:40.589213Z",
     "iopub.status.busy": "2022-07-19T19:27:40.588499Z",
     "iopub.status.idle": "2022-07-19T19:27:40.605510Z",
     "shell.execute_reply": "2022-07-19T19:27:40.606038Z"
    },
    "papermill": {
     "duration": 0.158968,
     "end_time": "2022-07-19T19:27:40.606196",
     "exception": false,
     "start_time": "2022-07-19T19:27:40.447228",
     "status": "completed"
    },
    "tags": []
   },
   "outputs": [
    {
     "data": {
      "text/html": [
       "<div>\n",
       "<style scoped>\n",
       "    .dataframe tbody tr th:only-of-type {\n",
       "        vertical-align: middle;\n",
       "    }\n",
       "\n",
       "    .dataframe tbody tr th {\n",
       "        vertical-align: top;\n",
       "    }\n",
       "\n",
       "    .dataframe thead th {\n",
       "        text-align: right;\n",
       "    }\n",
       "</style>\n",
       "<table border=\"1\" class=\"dataframe\">\n",
       "  <thead>\n",
       "    <tr style=\"text-align: right;\">\n",
       "      <th></th>\n",
       "      <th>PassengerId</th>\n",
       "      <th>Survived</th>\n",
       "      <th>Pclass</th>\n",
       "      <th>Name</th>\n",
       "      <th>Sex</th>\n",
       "      <th>Age</th>\n",
       "      <th>SibSp</th>\n",
       "      <th>Parch</th>\n",
       "      <th>Ticket</th>\n",
       "      <th>Fare</th>\n",
       "      <th>Cabin</th>\n",
       "      <th>Embarked</th>\n",
       "      <th>Title</th>\n",
       "    </tr>\n",
       "  </thead>\n",
       "  <tbody>\n",
       "    <tr>\n",
       "      <th>0</th>\n",
       "      <td>1</td>\n",
       "      <td>0</td>\n",
       "      <td>3</td>\n",
       "      <td>Braund, Mr. Owen Harris</td>\n",
       "      <td>0</td>\n",
       "      <td>22.0</td>\n",
       "      <td>1</td>\n",
       "      <td>0</td>\n",
       "      <td>A/5 21171</td>\n",
       "      <td>7.2500</td>\n",
       "      <td>NaN</td>\n",
       "      <td>S</td>\n",
       "      <td>1</td>\n",
       "    </tr>\n",
       "    <tr>\n",
       "      <th>1</th>\n",
       "      <td>2</td>\n",
       "      <td>1</td>\n",
       "      <td>1</td>\n",
       "      <td>Cumings, Mrs. John Bradley (Florence Briggs Th...</td>\n",
       "      <td>1</td>\n",
       "      <td>38.0</td>\n",
       "      <td>1</td>\n",
       "      <td>0</td>\n",
       "      <td>PC 17599</td>\n",
       "      <td>71.2833</td>\n",
       "      <td>C85</td>\n",
       "      <td>C</td>\n",
       "      <td>3</td>\n",
       "    </tr>\n",
       "    <tr>\n",
       "      <th>2</th>\n",
       "      <td>3</td>\n",
       "      <td>1</td>\n",
       "      <td>3</td>\n",
       "      <td>Heikkinen, Miss. Laina</td>\n",
       "      <td>1</td>\n",
       "      <td>26.0</td>\n",
       "      <td>0</td>\n",
       "      <td>0</td>\n",
       "      <td>STON/O2. 3101282</td>\n",
       "      <td>7.9250</td>\n",
       "      <td>NaN</td>\n",
       "      <td>S</td>\n",
       "      <td>2</td>\n",
       "    </tr>\n",
       "    <tr>\n",
       "      <th>3</th>\n",
       "      <td>4</td>\n",
       "      <td>1</td>\n",
       "      <td>1</td>\n",
       "      <td>Futrelle, Mrs. Jacques Heath (Lily May Peel)</td>\n",
       "      <td>1</td>\n",
       "      <td>35.0</td>\n",
       "      <td>1</td>\n",
       "      <td>0</td>\n",
       "      <td>113803</td>\n",
       "      <td>53.1000</td>\n",
       "      <td>C123</td>\n",
       "      <td>S</td>\n",
       "      <td>3</td>\n",
       "    </tr>\n",
       "    <tr>\n",
       "      <th>4</th>\n",
       "      <td>5</td>\n",
       "      <td>0</td>\n",
       "      <td>3</td>\n",
       "      <td>Allen, Mr. William Henry</td>\n",
       "      <td>0</td>\n",
       "      <td>35.0</td>\n",
       "      <td>0</td>\n",
       "      <td>0</td>\n",
       "      <td>373450</td>\n",
       "      <td>8.0500</td>\n",
       "      <td>NaN</td>\n",
       "      <td>S</td>\n",
       "      <td>1</td>\n",
       "    </tr>\n",
       "  </tbody>\n",
       "</table>\n",
       "</div>"
      ],
      "text/plain": [
       "   PassengerId  Survived  Pclass  \\\n",
       "0            1         0       3   \n",
       "1            2         1       1   \n",
       "2            3         1       3   \n",
       "3            4         1       1   \n",
       "4            5         0       3   \n",
       "\n",
       "                                                Name  Sex   Age  SibSp  Parch  \\\n",
       "0                            Braund, Mr. Owen Harris    0  22.0      1      0   \n",
       "1  Cumings, Mrs. John Bradley (Florence Briggs Th...    1  38.0      1      0   \n",
       "2                             Heikkinen, Miss. Laina    1  26.0      0      0   \n",
       "3       Futrelle, Mrs. Jacques Heath (Lily May Peel)    1  35.0      1      0   \n",
       "4                           Allen, Mr. William Henry    0  35.0      0      0   \n",
       "\n",
       "             Ticket     Fare Cabin Embarked  Title  \n",
       "0         A/5 21171   7.2500   NaN        S      1  \n",
       "1          PC 17599  71.2833   C85        C      3  \n",
       "2  STON/O2. 3101282   7.9250   NaN        S      2  \n",
       "3            113803  53.1000  C123        S      3  \n",
       "4            373450   8.0500   NaN        S      1  "
      ]
     },
     "execution_count": 55,
     "metadata": {},
     "output_type": "execute_result"
    }
   ],
   "source": [
    "train.head()"
   ]
  },
  {
   "cell_type": "markdown",
   "metadata": {
    "_cell_guid": "2f71e07e-2ccc-4243-a886-f27810301783",
    "_uuid": "317dea4b468b8562be2f0bc14b80dc29c3f630ed",
    "papermill": {
     "duration": 0.136167,
     "end_time": "2022-07-19T19:27:40.880019",
     "exception": false,
     "start_time": "2022-07-19T19:27:40.743852",
     "status": "completed"
    },
    "tags": []
   },
   "source": [
    "### 3) Embarked Feature\n",
    "> There are empty values for some rows for *Embarked* column. The empty values are represented as \"nan\" in below list."
   ]
  },
  {
   "cell_type": "code",
   "execution_count": 56,
   "metadata": {
    "_cell_guid": "fa16c3ff-4a6c-477c-bc76-3124d535613d",
    "_uuid": "0f0d5c14263b9b5f61e55ac8eac5bbbb26675786",
    "execution": {
     "iopub.execute_input": "2022-07-19T19:27:41.157373Z",
     "iopub.status.busy": "2022-07-19T19:27:41.156292Z",
     "iopub.status.idle": "2022-07-19T19:27:41.166181Z",
     "shell.execute_reply": "2022-07-19T19:27:41.168342Z"
    },
    "papermill": {
     "duration": 0.151211,
     "end_time": "2022-07-19T19:27:41.168523",
     "exception": false,
     "start_time": "2022-07-19T19:27:41.017312",
     "status": "completed"
    },
    "tags": []
   },
   "outputs": [
    {
     "data": {
      "text/plain": [
       "S    644\n",
       "C    168\n",
       "Q     77\n",
       "Name: Embarked, dtype: int64"
      ]
     },
     "execution_count": 56,
     "metadata": {},
     "output_type": "execute_result"
    }
   ],
   "source": [
    "train.Embarked.value_counts()"
   ]
  },
  {
   "cell_type": "markdown",
   "metadata": {
    "_cell_guid": "f7260229-7690-422a-89c8-025b2537d9f5",
    "_uuid": "4fbcfcd9973dc7706b6fcba69b4c0a5f0f79a8db",
    "papermill": {
     "duration": 0.139662,
     "end_time": "2022-07-19T19:27:41.449073",
     "exception": false,
     "start_time": "2022-07-19T19:27:41.309411",
     "status": "completed"
    },
    "tags": []
   },
   "source": [
    "#### NOTE:\n",
    "- We find that category \"S\" has maximum passengers. Hence, we replace \"nan\" values with \"S\"."
   ]
  },
  {
   "cell_type": "code",
   "execution_count": 57,
   "metadata": {
    "_cell_guid": "f3b74da1-6418-4213-aaa1-efb6dc162580",
    "_uuid": "dd11044ef91ce8b686c4688f301aa6d4abae1476",
    "execution": {
     "iopub.execute_input": "2022-07-19T19:27:41.734124Z",
     "iopub.status.busy": "2022-07-19T19:27:41.733217Z",
     "iopub.status.idle": "2022-07-19T19:27:41.735428Z",
     "shell.execute_reply": "2022-07-19T19:27:41.735956Z"
    },
    "papermill": {
     "duration": 0.147195,
     "end_time": "2022-07-19T19:27:41.736114",
     "exception": false,
     "start_time": "2022-07-19T19:27:41.588919",
     "status": "completed"
    },
    "tags": []
   },
   "outputs": [],
   "source": [
    "for dataset in train_test_data:\n",
    "    dataset['Embarked'] = dataset['Embarked'].fillna('S')"
   ]
  },
  {
   "cell_type": "code",
   "execution_count": 58,
   "metadata": {
    "_cell_guid": "30a61312-6373-4b92-8c3c-1ab96620c757",
    "_uuid": "dadc45a6f68494a509092cbbe9f29cf3b3432571",
    "execution": {
     "iopub.execute_input": "2022-07-19T19:27:42.016542Z",
     "iopub.status.busy": "2022-07-19T19:27:42.015792Z",
     "iopub.status.idle": "2022-07-19T19:27:42.035154Z",
     "shell.execute_reply": "2022-07-19T19:27:42.034424Z"
    },
    "papermill": {
     "duration": 0.159173,
     "end_time": "2022-07-19T19:27:42.035283",
     "exception": false,
     "start_time": "2022-07-19T19:27:41.876110",
     "status": "completed"
    },
    "tags": []
   },
   "outputs": [
    {
     "data": {
      "text/html": [
       "<div>\n",
       "<style scoped>\n",
       "    .dataframe tbody tr th:only-of-type {\n",
       "        vertical-align: middle;\n",
       "    }\n",
       "\n",
       "    .dataframe tbody tr th {\n",
       "        vertical-align: top;\n",
       "    }\n",
       "\n",
       "    .dataframe thead th {\n",
       "        text-align: right;\n",
       "    }\n",
       "</style>\n",
       "<table border=\"1\" class=\"dataframe\">\n",
       "  <thead>\n",
       "    <tr style=\"text-align: right;\">\n",
       "      <th></th>\n",
       "      <th>PassengerId</th>\n",
       "      <th>Survived</th>\n",
       "      <th>Pclass</th>\n",
       "      <th>Name</th>\n",
       "      <th>Sex</th>\n",
       "      <th>Age</th>\n",
       "      <th>SibSp</th>\n",
       "      <th>Parch</th>\n",
       "      <th>Ticket</th>\n",
       "      <th>Fare</th>\n",
       "      <th>Cabin</th>\n",
       "      <th>Embarked</th>\n",
       "      <th>Title</th>\n",
       "    </tr>\n",
       "  </thead>\n",
       "  <tbody>\n",
       "    <tr>\n",
       "      <th>0</th>\n",
       "      <td>1</td>\n",
       "      <td>0</td>\n",
       "      <td>3</td>\n",
       "      <td>Braund, Mr. Owen Harris</td>\n",
       "      <td>0</td>\n",
       "      <td>22.0</td>\n",
       "      <td>1</td>\n",
       "      <td>0</td>\n",
       "      <td>A/5 21171</td>\n",
       "      <td>7.2500</td>\n",
       "      <td>NaN</td>\n",
       "      <td>S</td>\n",
       "      <td>1</td>\n",
       "    </tr>\n",
       "    <tr>\n",
       "      <th>1</th>\n",
       "      <td>2</td>\n",
       "      <td>1</td>\n",
       "      <td>1</td>\n",
       "      <td>Cumings, Mrs. John Bradley (Florence Briggs Th...</td>\n",
       "      <td>1</td>\n",
       "      <td>38.0</td>\n",
       "      <td>1</td>\n",
       "      <td>0</td>\n",
       "      <td>PC 17599</td>\n",
       "      <td>71.2833</td>\n",
       "      <td>C85</td>\n",
       "      <td>C</td>\n",
       "      <td>3</td>\n",
       "    </tr>\n",
       "    <tr>\n",
       "      <th>2</th>\n",
       "      <td>3</td>\n",
       "      <td>1</td>\n",
       "      <td>3</td>\n",
       "      <td>Heikkinen, Miss. Laina</td>\n",
       "      <td>1</td>\n",
       "      <td>26.0</td>\n",
       "      <td>0</td>\n",
       "      <td>0</td>\n",
       "      <td>STON/O2. 3101282</td>\n",
       "      <td>7.9250</td>\n",
       "      <td>NaN</td>\n",
       "      <td>S</td>\n",
       "      <td>2</td>\n",
       "    </tr>\n",
       "    <tr>\n",
       "      <th>3</th>\n",
       "      <td>4</td>\n",
       "      <td>1</td>\n",
       "      <td>1</td>\n",
       "      <td>Futrelle, Mrs. Jacques Heath (Lily May Peel)</td>\n",
       "      <td>1</td>\n",
       "      <td>35.0</td>\n",
       "      <td>1</td>\n",
       "      <td>0</td>\n",
       "      <td>113803</td>\n",
       "      <td>53.1000</td>\n",
       "      <td>C123</td>\n",
       "      <td>S</td>\n",
       "      <td>3</td>\n",
       "    </tr>\n",
       "    <tr>\n",
       "      <th>4</th>\n",
       "      <td>5</td>\n",
       "      <td>0</td>\n",
       "      <td>3</td>\n",
       "      <td>Allen, Mr. William Henry</td>\n",
       "      <td>0</td>\n",
       "      <td>35.0</td>\n",
       "      <td>0</td>\n",
       "      <td>0</td>\n",
       "      <td>373450</td>\n",
       "      <td>8.0500</td>\n",
       "      <td>NaN</td>\n",
       "      <td>S</td>\n",
       "      <td>1</td>\n",
       "    </tr>\n",
       "  </tbody>\n",
       "</table>\n",
       "</div>"
      ],
      "text/plain": [
       "   PassengerId  Survived  Pclass  \\\n",
       "0            1         0       3   \n",
       "1            2         1       1   \n",
       "2            3         1       3   \n",
       "3            4         1       1   \n",
       "4            5         0       3   \n",
       "\n",
       "                                                Name  Sex   Age  SibSp  Parch  \\\n",
       "0                            Braund, Mr. Owen Harris    0  22.0      1      0   \n",
       "1  Cumings, Mrs. John Bradley (Florence Briggs Th...    1  38.0      1      0   \n",
       "2                             Heikkinen, Miss. Laina    1  26.0      0      0   \n",
       "3       Futrelle, Mrs. Jacques Heath (Lily May Peel)    1  35.0      1      0   \n",
       "4                           Allen, Mr. William Henry    0  35.0      0      0   \n",
       "\n",
       "             Ticket     Fare Cabin Embarked  Title  \n",
       "0         A/5 21171   7.2500   NaN        S      1  \n",
       "1          PC 17599  71.2833   C85        C      3  \n",
       "2  STON/O2. 3101282   7.9250   NaN        S      2  \n",
       "3            113803  53.1000  C123        S      3  \n",
       "4            373450   8.0500   NaN        S      1  "
      ]
     },
     "execution_count": 58,
     "metadata": {},
     "output_type": "execute_result"
    }
   ],
   "source": [
    "train.head()"
   ]
  },
  {
   "cell_type": "markdown",
   "metadata": {
    "_cell_guid": "1fc3ba42-153a-4c96-b8ff-b656ce445f35",
    "_uuid": "01595b0900cd0b1452d5638eddd41203bc9e2e49",
    "papermill": {
     "duration": 0.137844,
     "end_time": "2022-07-19T19:27:42.311294",
     "exception": false,
     "start_time": "2022-07-19T19:27:42.173450",
     "status": "completed"
    },
    "tags": []
   },
   "source": [
    "> We now convert the categorical value of *`Embarked`* into *numeric*. <br>\n",
    "> We represent 0 as S, 1 as C and 2 as Q."
   ]
  },
  {
   "cell_type": "code",
   "execution_count": 59,
   "metadata": {
    "_cell_guid": "cf4a8a17-0b60-4a7e-9e29-3559010cefdc",
    "_uuid": "85a04185f2cda70415d8b42310da0c4480d414cd",
    "execution": {
     "iopub.execute_input": "2022-07-19T19:27:42.589594Z",
     "iopub.status.busy": "2022-07-19T19:27:42.588884Z",
     "iopub.status.idle": "2022-07-19T19:27:42.597175Z",
     "shell.execute_reply": "2022-07-19T19:27:42.597737Z"
    },
    "papermill": {
     "duration": 0.149635,
     "end_time": "2022-07-19T19:27:42.597908",
     "exception": false,
     "start_time": "2022-07-19T19:27:42.448273",
     "status": "completed"
    },
    "tags": []
   },
   "outputs": [],
   "source": [
    "for dataset in train_test_data:\n",
    "    #print(dataset.Embarked.unique())\n",
    "    dataset['Embarked'] = dataset['Embarked'].map( {'S': 0, 'C': 1, 'Q': 2} ).astype(int)"
   ]
  },
  {
   "cell_type": "code",
   "execution_count": 60,
   "metadata": {
    "_cell_guid": "b9af8b8e-c49b-4153-af2a-f8ce8154d480",
    "_uuid": "d9775bdf8ffeb053308940ec511453238f5d0e5d",
    "execution": {
     "iopub.execute_input": "2022-07-19T19:27:42.877021Z",
     "iopub.status.busy": "2022-07-19T19:27:42.876291Z",
     "iopub.status.idle": "2022-07-19T19:27:42.894171Z",
     "shell.execute_reply": "2022-07-19T19:27:42.894657Z"
    },
    "papermill": {
     "duration": 0.159994,
     "end_time": "2022-07-19T19:27:42.894835",
     "exception": false,
     "start_time": "2022-07-19T19:27:42.734841",
     "status": "completed"
    },
    "tags": []
   },
   "outputs": [
    {
     "data": {
      "text/html": [
       "<div>\n",
       "<style scoped>\n",
       "    .dataframe tbody tr th:only-of-type {\n",
       "        vertical-align: middle;\n",
       "    }\n",
       "\n",
       "    .dataframe tbody tr th {\n",
       "        vertical-align: top;\n",
       "    }\n",
       "\n",
       "    .dataframe thead th {\n",
       "        text-align: right;\n",
       "    }\n",
       "</style>\n",
       "<table border=\"1\" class=\"dataframe\">\n",
       "  <thead>\n",
       "    <tr style=\"text-align: right;\">\n",
       "      <th></th>\n",
       "      <th>PassengerId</th>\n",
       "      <th>Survived</th>\n",
       "      <th>Pclass</th>\n",
       "      <th>Name</th>\n",
       "      <th>Sex</th>\n",
       "      <th>Age</th>\n",
       "      <th>SibSp</th>\n",
       "      <th>Parch</th>\n",
       "      <th>Ticket</th>\n",
       "      <th>Fare</th>\n",
       "      <th>Cabin</th>\n",
       "      <th>Embarked</th>\n",
       "      <th>Title</th>\n",
       "    </tr>\n",
       "  </thead>\n",
       "  <tbody>\n",
       "    <tr>\n",
       "      <th>0</th>\n",
       "      <td>1</td>\n",
       "      <td>0</td>\n",
       "      <td>3</td>\n",
       "      <td>Braund, Mr. Owen Harris</td>\n",
       "      <td>0</td>\n",
       "      <td>22.0</td>\n",
       "      <td>1</td>\n",
       "      <td>0</td>\n",
       "      <td>A/5 21171</td>\n",
       "      <td>7.2500</td>\n",
       "      <td>NaN</td>\n",
       "      <td>0</td>\n",
       "      <td>1</td>\n",
       "    </tr>\n",
       "    <tr>\n",
       "      <th>1</th>\n",
       "      <td>2</td>\n",
       "      <td>1</td>\n",
       "      <td>1</td>\n",
       "      <td>Cumings, Mrs. John Bradley (Florence Briggs Th...</td>\n",
       "      <td>1</td>\n",
       "      <td>38.0</td>\n",
       "      <td>1</td>\n",
       "      <td>0</td>\n",
       "      <td>PC 17599</td>\n",
       "      <td>71.2833</td>\n",
       "      <td>C85</td>\n",
       "      <td>1</td>\n",
       "      <td>3</td>\n",
       "    </tr>\n",
       "    <tr>\n",
       "      <th>2</th>\n",
       "      <td>3</td>\n",
       "      <td>1</td>\n",
       "      <td>3</td>\n",
       "      <td>Heikkinen, Miss. Laina</td>\n",
       "      <td>1</td>\n",
       "      <td>26.0</td>\n",
       "      <td>0</td>\n",
       "      <td>0</td>\n",
       "      <td>STON/O2. 3101282</td>\n",
       "      <td>7.9250</td>\n",
       "      <td>NaN</td>\n",
       "      <td>0</td>\n",
       "      <td>2</td>\n",
       "    </tr>\n",
       "    <tr>\n",
       "      <th>3</th>\n",
       "      <td>4</td>\n",
       "      <td>1</td>\n",
       "      <td>1</td>\n",
       "      <td>Futrelle, Mrs. Jacques Heath (Lily May Peel)</td>\n",
       "      <td>1</td>\n",
       "      <td>35.0</td>\n",
       "      <td>1</td>\n",
       "      <td>0</td>\n",
       "      <td>113803</td>\n",
       "      <td>53.1000</td>\n",
       "      <td>C123</td>\n",
       "      <td>0</td>\n",
       "      <td>3</td>\n",
       "    </tr>\n",
       "    <tr>\n",
       "      <th>4</th>\n",
       "      <td>5</td>\n",
       "      <td>0</td>\n",
       "      <td>3</td>\n",
       "      <td>Allen, Mr. William Henry</td>\n",
       "      <td>0</td>\n",
       "      <td>35.0</td>\n",
       "      <td>0</td>\n",
       "      <td>0</td>\n",
       "      <td>373450</td>\n",
       "      <td>8.0500</td>\n",
       "      <td>NaN</td>\n",
       "      <td>0</td>\n",
       "      <td>1</td>\n",
       "    </tr>\n",
       "  </tbody>\n",
       "</table>\n",
       "</div>"
      ],
      "text/plain": [
       "   PassengerId  Survived  Pclass  \\\n",
       "0            1         0       3   \n",
       "1            2         1       1   \n",
       "2            3         1       3   \n",
       "3            4         1       1   \n",
       "4            5         0       3   \n",
       "\n",
       "                                                Name  Sex   Age  SibSp  Parch  \\\n",
       "0                            Braund, Mr. Owen Harris    0  22.0      1      0   \n",
       "1  Cumings, Mrs. John Bradley (Florence Briggs Th...    1  38.0      1      0   \n",
       "2                             Heikkinen, Miss. Laina    1  26.0      0      0   \n",
       "3       Futrelle, Mrs. Jacques Heath (Lily May Peel)    1  35.0      1      0   \n",
       "4                           Allen, Mr. William Henry    0  35.0      0      0   \n",
       "\n",
       "             Ticket     Fare Cabin  Embarked  Title  \n",
       "0         A/5 21171   7.2500   NaN         0      1  \n",
       "1          PC 17599  71.2833   C85         1      3  \n",
       "2  STON/O2. 3101282   7.9250   NaN         0      2  \n",
       "3            113803  53.1000  C123         0      3  \n",
       "4            373450   8.0500   NaN         0      1  "
      ]
     },
     "execution_count": 60,
     "metadata": {},
     "output_type": "execute_result"
    }
   ],
   "source": [
    "train.head()"
   ]
  },
  {
   "cell_type": "markdown",
   "metadata": {
    "_cell_guid": "271dc54c-dfb3-48b8-adde-42453174571c",
    "_uuid": "6927d280668356a48244e98dec5a390d6440d1a6",
    "papermill": {
     "duration": 0.139934,
     "end_time": "2022-07-19T19:27:43.173251",
     "exception": false,
     "start_time": "2022-07-19T19:27:43.033317",
     "status": "completed"
    },
    "tags": []
   },
   "source": [
    "### 4) Age Feature\n",
    "\n",
    "> We first fill the NULL values of *Age* with a random number between (mean_age - std_age) and (mean_age + std_age). <br>\n",
    "> We then create a new column named *AgeBand*. This categorizes age into 5 different age range."
   ]
  },
  {
   "cell_type": "code",
   "execution_count": 61,
   "metadata": {
    "_cell_guid": "1516efcc-9d6b-4115-a2f3-5f760b203371",
    "_uuid": "706fb1030c6bb52c45fd622849bf5daf0b5fa793",
    "execution": {
     "iopub.execute_input": "2022-07-19T19:27:43.458419Z",
     "iopub.status.busy": "2022-07-19T19:27:43.457722Z",
     "iopub.status.idle": "2022-07-19T19:27:43.490089Z",
     "shell.execute_reply": "2022-07-19T19:27:43.489463Z"
    },
    "papermill": {
     "duration": 0.178545,
     "end_time": "2022-07-19T19:27:43.490216",
     "exception": false,
     "start_time": "2022-07-19T19:27:43.311671",
     "status": "completed"
    },
    "tags": []
   },
   "outputs": [
    {
     "name": "stdout",
     "output_type": "stream",
     "text": [
      "         AgeBand  Survived\n",
      "0  (-0.08, 16.0]  0.504132\n",
      "1   (16.0, 32.0]  0.364653\n",
      "2   (32.0, 48.0]  0.358025\n",
      "3   (48.0, 64.0]  0.434783\n",
      "4   (64.0, 80.0]  0.090909\n"
     ]
    }
   ],
   "source": [
    "for dataset in train_test_data:\n",
    "    age_avg = dataset['Age'].mean()\n",
    "    age_std = dataset['Age'].std()\n",
    "    age_null_count = dataset['Age'].isnull().sum()\n",
    "    \n",
    "    age_null_random_list = np.random.randint(age_avg - age_std, age_avg + age_std, size=age_null_count)\n",
    "    dataset['Age'][np.isnan(dataset['Age'])] = age_null_random_list\n",
    "    dataset['Age'] = dataset['Age'].astype(int)\n",
    "    \n",
    "train['AgeBand'] = pd.cut(train['Age'], 5)\n",
    "\n",
    "print (train[['AgeBand', 'Survived']].groupby(['AgeBand'], as_index=False).mean())"
   ]
  },
  {
   "cell_type": "code",
   "execution_count": 62,
   "metadata": {
    "_cell_guid": "63e5e575-379e-44ec-8449-c2c72538dc16",
    "_uuid": "16e72857d0ccd8172ac006dfde55acbf72743126",
    "execution": {
     "iopub.execute_input": "2022-07-19T19:27:43.771734Z",
     "iopub.status.busy": "2022-07-19T19:27:43.771063Z",
     "iopub.status.idle": "2022-07-19T19:27:43.789478Z",
     "shell.execute_reply": "2022-07-19T19:27:43.790126Z"
    },
    "papermill": {
     "duration": 0.161031,
     "end_time": "2022-07-19T19:27:43.790280",
     "exception": false,
     "start_time": "2022-07-19T19:27:43.629249",
     "status": "completed"
    },
    "tags": []
   },
   "outputs": [
    {
     "data": {
      "text/html": [
       "<div>\n",
       "<style scoped>\n",
       "    .dataframe tbody tr th:only-of-type {\n",
       "        vertical-align: middle;\n",
       "    }\n",
       "\n",
       "    .dataframe tbody tr th {\n",
       "        vertical-align: top;\n",
       "    }\n",
       "\n",
       "    .dataframe thead th {\n",
       "        text-align: right;\n",
       "    }\n",
       "</style>\n",
       "<table border=\"1\" class=\"dataframe\">\n",
       "  <thead>\n",
       "    <tr style=\"text-align: right;\">\n",
       "      <th></th>\n",
       "      <th>PassengerId</th>\n",
       "      <th>Survived</th>\n",
       "      <th>Pclass</th>\n",
       "      <th>Name</th>\n",
       "      <th>Sex</th>\n",
       "      <th>Age</th>\n",
       "      <th>SibSp</th>\n",
       "      <th>Parch</th>\n",
       "      <th>Ticket</th>\n",
       "      <th>Fare</th>\n",
       "      <th>Cabin</th>\n",
       "      <th>Embarked</th>\n",
       "      <th>Title</th>\n",
       "      <th>AgeBand</th>\n",
       "    </tr>\n",
       "  </thead>\n",
       "  <tbody>\n",
       "    <tr>\n",
       "      <th>0</th>\n",
       "      <td>1</td>\n",
       "      <td>0</td>\n",
       "      <td>3</td>\n",
       "      <td>Braund, Mr. Owen Harris</td>\n",
       "      <td>0</td>\n",
       "      <td>22</td>\n",
       "      <td>1</td>\n",
       "      <td>0</td>\n",
       "      <td>A/5 21171</td>\n",
       "      <td>7.2500</td>\n",
       "      <td>NaN</td>\n",
       "      <td>0</td>\n",
       "      <td>1</td>\n",
       "      <td>(16.0, 32.0]</td>\n",
       "    </tr>\n",
       "    <tr>\n",
       "      <th>1</th>\n",
       "      <td>2</td>\n",
       "      <td>1</td>\n",
       "      <td>1</td>\n",
       "      <td>Cumings, Mrs. John Bradley (Florence Briggs Th...</td>\n",
       "      <td>1</td>\n",
       "      <td>38</td>\n",
       "      <td>1</td>\n",
       "      <td>0</td>\n",
       "      <td>PC 17599</td>\n",
       "      <td>71.2833</td>\n",
       "      <td>C85</td>\n",
       "      <td>1</td>\n",
       "      <td>3</td>\n",
       "      <td>(32.0, 48.0]</td>\n",
       "    </tr>\n",
       "    <tr>\n",
       "      <th>2</th>\n",
       "      <td>3</td>\n",
       "      <td>1</td>\n",
       "      <td>3</td>\n",
       "      <td>Heikkinen, Miss. Laina</td>\n",
       "      <td>1</td>\n",
       "      <td>26</td>\n",
       "      <td>0</td>\n",
       "      <td>0</td>\n",
       "      <td>STON/O2. 3101282</td>\n",
       "      <td>7.9250</td>\n",
       "      <td>NaN</td>\n",
       "      <td>0</td>\n",
       "      <td>2</td>\n",
       "      <td>(16.0, 32.0]</td>\n",
       "    </tr>\n",
       "    <tr>\n",
       "      <th>3</th>\n",
       "      <td>4</td>\n",
       "      <td>1</td>\n",
       "      <td>1</td>\n",
       "      <td>Futrelle, Mrs. Jacques Heath (Lily May Peel)</td>\n",
       "      <td>1</td>\n",
       "      <td>35</td>\n",
       "      <td>1</td>\n",
       "      <td>0</td>\n",
       "      <td>113803</td>\n",
       "      <td>53.1000</td>\n",
       "      <td>C123</td>\n",
       "      <td>0</td>\n",
       "      <td>3</td>\n",
       "      <td>(32.0, 48.0]</td>\n",
       "    </tr>\n",
       "    <tr>\n",
       "      <th>4</th>\n",
       "      <td>5</td>\n",
       "      <td>0</td>\n",
       "      <td>3</td>\n",
       "      <td>Allen, Mr. William Henry</td>\n",
       "      <td>0</td>\n",
       "      <td>35</td>\n",
       "      <td>0</td>\n",
       "      <td>0</td>\n",
       "      <td>373450</td>\n",
       "      <td>8.0500</td>\n",
       "      <td>NaN</td>\n",
       "      <td>0</td>\n",
       "      <td>1</td>\n",
       "      <td>(32.0, 48.0]</td>\n",
       "    </tr>\n",
       "  </tbody>\n",
       "</table>\n",
       "</div>"
      ],
      "text/plain": [
       "   PassengerId  Survived  Pclass  \\\n",
       "0            1         0       3   \n",
       "1            2         1       1   \n",
       "2            3         1       3   \n",
       "3            4         1       1   \n",
       "4            5         0       3   \n",
       "\n",
       "                                                Name  Sex  Age  SibSp  Parch  \\\n",
       "0                            Braund, Mr. Owen Harris    0   22      1      0   \n",
       "1  Cumings, Mrs. John Bradley (Florence Briggs Th...    1   38      1      0   \n",
       "2                             Heikkinen, Miss. Laina    1   26      0      0   \n",
       "3       Futrelle, Mrs. Jacques Heath (Lily May Peel)    1   35      1      0   \n",
       "4                           Allen, Mr. William Henry    0   35      0      0   \n",
       "\n",
       "             Ticket     Fare Cabin  Embarked  Title       AgeBand  \n",
       "0         A/5 21171   7.2500   NaN         0      1  (16.0, 32.0]  \n",
       "1          PC 17599  71.2833   C85         1      3  (32.0, 48.0]  \n",
       "2  STON/O2. 3101282   7.9250   NaN         0      2  (16.0, 32.0]  \n",
       "3            113803  53.1000  C123         0      3  (32.0, 48.0]  \n",
       "4            373450   8.0500   NaN         0      1  (32.0, 48.0]  "
      ]
     },
     "execution_count": 62,
     "metadata": {},
     "output_type": "execute_result"
    }
   ],
   "source": [
    "train.head()"
   ]
  },
  {
   "cell_type": "markdown",
   "metadata": {
    "_cell_guid": "95d96d3d-4ac0-4da0-b7d1-906b647a446a",
    "_uuid": "d06b6cd287f56d29e5df18c4a24fee52b48561a2",
    "papermill": {
     "duration": 0.13976,
     "end_time": "2022-07-19T19:27:44.071927",
     "exception": false,
     "start_time": "2022-07-19T19:27:43.932167",
     "status": "completed"
    },
    "tags": []
   },
   "source": [
    "> Now, we map *`Age`* according to *`AgeBand`*."
   ]
  },
  {
   "cell_type": "code",
   "execution_count": 63,
   "metadata": {
    "_cell_guid": "0bf2eb65-a503-4b7b-b6ed-f7630f743128",
    "_uuid": "06f9edf03be1590c46cf35d2f0e59ff7354931d5",
    "execution": {
     "iopub.execute_input": "2022-07-19T19:27:44.354259Z",
     "iopub.status.busy": "2022-07-19T19:27:44.353577Z",
     "iopub.status.idle": "2022-07-19T19:27:44.379552Z",
     "shell.execute_reply": "2022-07-19T19:27:44.380157Z"
    },
    "papermill": {
     "duration": 0.168006,
     "end_time": "2022-07-19T19:27:44.380314",
     "exception": false,
     "start_time": "2022-07-19T19:27:44.212308",
     "status": "completed"
    },
    "tags": []
   },
   "outputs": [],
   "source": [
    "for dataset in train_test_data:\n",
    "    dataset.loc[ dataset['Age'] <= 16, 'Age'] = 0\n",
    "    dataset.loc[(dataset['Age'] > 16) & (dataset['Age'] <= 32), 'Age'] = 1\n",
    "    dataset.loc[(dataset['Age'] > 32) & (dataset['Age'] <= 48), 'Age'] = 2\n",
    "    dataset.loc[(dataset['Age'] > 48) & (dataset['Age'] <= 64), 'Age'] = 3\n",
    "    dataset.loc[ dataset['Age'] > 64, 'Age'] = 4"
   ]
  },
  {
   "cell_type": "code",
   "execution_count": 64,
   "metadata": {
    "_cell_guid": "c3bc0f52-7b7a-47b0-86e3-bfaf0db36801",
    "_uuid": "981b7a97b839e6d5ac53975e992f5077256f20c3",
    "execution": {
     "iopub.execute_input": "2022-07-19T19:27:44.670626Z",
     "iopub.status.busy": "2022-07-19T19:27:44.669908Z",
     "iopub.status.idle": "2022-07-19T19:27:44.685621Z",
     "shell.execute_reply": "2022-07-19T19:27:44.686163Z"
    },
    "papermill": {
     "duration": 0.16304,
     "end_time": "2022-07-19T19:27:44.686316",
     "exception": false,
     "start_time": "2022-07-19T19:27:44.523276",
     "status": "completed"
    },
    "tags": []
   },
   "outputs": [
    {
     "data": {
      "text/html": [
       "<div>\n",
       "<style scoped>\n",
       "    .dataframe tbody tr th:only-of-type {\n",
       "        vertical-align: middle;\n",
       "    }\n",
       "\n",
       "    .dataframe tbody tr th {\n",
       "        vertical-align: top;\n",
       "    }\n",
       "\n",
       "    .dataframe thead th {\n",
       "        text-align: right;\n",
       "    }\n",
       "</style>\n",
       "<table border=\"1\" class=\"dataframe\">\n",
       "  <thead>\n",
       "    <tr style=\"text-align: right;\">\n",
       "      <th></th>\n",
       "      <th>PassengerId</th>\n",
       "      <th>Survived</th>\n",
       "      <th>Pclass</th>\n",
       "      <th>Name</th>\n",
       "      <th>Sex</th>\n",
       "      <th>Age</th>\n",
       "      <th>SibSp</th>\n",
       "      <th>Parch</th>\n",
       "      <th>Ticket</th>\n",
       "      <th>Fare</th>\n",
       "      <th>Cabin</th>\n",
       "      <th>Embarked</th>\n",
       "      <th>Title</th>\n",
       "      <th>AgeBand</th>\n",
       "    </tr>\n",
       "  </thead>\n",
       "  <tbody>\n",
       "    <tr>\n",
       "      <th>0</th>\n",
       "      <td>1</td>\n",
       "      <td>0</td>\n",
       "      <td>3</td>\n",
       "      <td>Braund, Mr. Owen Harris</td>\n",
       "      <td>0</td>\n",
       "      <td>1</td>\n",
       "      <td>1</td>\n",
       "      <td>0</td>\n",
       "      <td>A/5 21171</td>\n",
       "      <td>7.2500</td>\n",
       "      <td>NaN</td>\n",
       "      <td>0</td>\n",
       "      <td>1</td>\n",
       "      <td>(16.0, 32.0]</td>\n",
       "    </tr>\n",
       "    <tr>\n",
       "      <th>1</th>\n",
       "      <td>2</td>\n",
       "      <td>1</td>\n",
       "      <td>1</td>\n",
       "      <td>Cumings, Mrs. John Bradley (Florence Briggs Th...</td>\n",
       "      <td>1</td>\n",
       "      <td>2</td>\n",
       "      <td>1</td>\n",
       "      <td>0</td>\n",
       "      <td>PC 17599</td>\n",
       "      <td>71.2833</td>\n",
       "      <td>C85</td>\n",
       "      <td>1</td>\n",
       "      <td>3</td>\n",
       "      <td>(32.0, 48.0]</td>\n",
       "    </tr>\n",
       "    <tr>\n",
       "      <th>2</th>\n",
       "      <td>3</td>\n",
       "      <td>1</td>\n",
       "      <td>3</td>\n",
       "      <td>Heikkinen, Miss. Laina</td>\n",
       "      <td>1</td>\n",
       "      <td>1</td>\n",
       "      <td>0</td>\n",
       "      <td>0</td>\n",
       "      <td>STON/O2. 3101282</td>\n",
       "      <td>7.9250</td>\n",
       "      <td>NaN</td>\n",
       "      <td>0</td>\n",
       "      <td>2</td>\n",
       "      <td>(16.0, 32.0]</td>\n",
       "    </tr>\n",
       "    <tr>\n",
       "      <th>3</th>\n",
       "      <td>4</td>\n",
       "      <td>1</td>\n",
       "      <td>1</td>\n",
       "      <td>Futrelle, Mrs. Jacques Heath (Lily May Peel)</td>\n",
       "      <td>1</td>\n",
       "      <td>2</td>\n",
       "      <td>1</td>\n",
       "      <td>0</td>\n",
       "      <td>113803</td>\n",
       "      <td>53.1000</td>\n",
       "      <td>C123</td>\n",
       "      <td>0</td>\n",
       "      <td>3</td>\n",
       "      <td>(32.0, 48.0]</td>\n",
       "    </tr>\n",
       "    <tr>\n",
       "      <th>4</th>\n",
       "      <td>5</td>\n",
       "      <td>0</td>\n",
       "      <td>3</td>\n",
       "      <td>Allen, Mr. William Henry</td>\n",
       "      <td>0</td>\n",
       "      <td>2</td>\n",
       "      <td>0</td>\n",
       "      <td>0</td>\n",
       "      <td>373450</td>\n",
       "      <td>8.0500</td>\n",
       "      <td>NaN</td>\n",
       "      <td>0</td>\n",
       "      <td>1</td>\n",
       "      <td>(32.0, 48.0]</td>\n",
       "    </tr>\n",
       "  </tbody>\n",
       "</table>\n",
       "</div>"
      ],
      "text/plain": [
       "   PassengerId  Survived  Pclass  \\\n",
       "0            1         0       3   \n",
       "1            2         1       1   \n",
       "2            3         1       3   \n",
       "3            4         1       1   \n",
       "4            5         0       3   \n",
       "\n",
       "                                                Name  Sex  Age  SibSp  Parch  \\\n",
       "0                            Braund, Mr. Owen Harris    0    1      1      0   \n",
       "1  Cumings, Mrs. John Bradley (Florence Briggs Th...    1    2      1      0   \n",
       "2                             Heikkinen, Miss. Laina    1    1      0      0   \n",
       "3       Futrelle, Mrs. Jacques Heath (Lily May Peel)    1    2      1      0   \n",
       "4                           Allen, Mr. William Henry    0    2      0      0   \n",
       "\n",
       "             Ticket     Fare Cabin  Embarked  Title       AgeBand  \n",
       "0         A/5 21171   7.2500   NaN         0      1  (16.0, 32.0]  \n",
       "1          PC 17599  71.2833   C85         1      3  (32.0, 48.0]  \n",
       "2  STON/O2. 3101282   7.9250   NaN         0      2  (16.0, 32.0]  \n",
       "3            113803  53.1000  C123         0      3  (32.0, 48.0]  \n",
       "4            373450   8.0500   NaN         0      1  (32.0, 48.0]  "
      ]
     },
     "execution_count": 64,
     "metadata": {},
     "output_type": "execute_result"
    }
   ],
   "source": [
    "train.head()"
   ]
  },
  {
   "cell_type": "markdown",
   "metadata": {
    "_cell_guid": "a9370969-d15e-41e5-8d8a-a2911be82bcd",
    "_uuid": "7e66f23c0a159e81af26ad26f30be650ed536b0c",
    "papermill": {
     "duration": 0.139654,
     "end_time": "2022-07-19T19:27:44.966795",
     "exception": false,
     "start_time": "2022-07-19T19:27:44.827141",
     "status": "completed"
    },
    "tags": []
   },
   "source": [
    "### 5) Fare Feature\n",
    "> Replace *missing* *`Fare`* values with the *median* of *`Fare`*."
   ]
  },
  {
   "cell_type": "code",
   "execution_count": 65,
   "metadata": {
    "_cell_guid": "62b322e7-016c-4323-adec-a1fead11466c",
    "_uuid": "590d8b4773ecf29874718564b9b97b980a0708f0",
    "execution": {
     "iopub.execute_input": "2022-07-19T19:27:45.253642Z",
     "iopub.status.busy": "2022-07-19T19:27:45.252883Z",
     "iopub.status.idle": "2022-07-19T19:27:45.258911Z",
     "shell.execute_reply": "2022-07-19T19:27:45.259480Z"
    },
    "papermill": {
     "duration": 0.15205,
     "end_time": "2022-07-19T19:27:45.259629",
     "exception": false,
     "start_time": "2022-07-19T19:27:45.107579",
     "status": "completed"
    },
    "tags": []
   },
   "outputs": [],
   "source": [
    "for dataset in train_test_data:\n",
    "    dataset['Fare'] = dataset['Fare'].fillna(train['Fare'].median())"
   ]
  },
  {
   "cell_type": "markdown",
   "metadata": {
    "_cell_guid": "2e1e9e3c-56ae-440b-8f92-4ca9a4a11153",
    "_uuid": "50ef8daee9e0fb26f5b86d68dbb30d1b0d6fd894",
    "papermill": {
     "duration": 0.155984,
     "end_time": "2022-07-19T19:27:45.556162",
     "exception": false,
     "start_time": "2022-07-19T19:27:45.400178",
     "status": "completed"
    },
    "tags": []
   },
   "source": [
    "> Now, Create *`FareBand`*. We divide the *`Fare`* into *4 category* range."
   ]
  },
  {
   "cell_type": "code",
   "execution_count": 66,
   "metadata": {
    "_cell_guid": "2e24576a-312c-43aa-baa6-e48e3a1f056f",
    "_uuid": "382dd35f80426fc77cdc779a705dad0705229c4b",
    "execution": {
     "iopub.execute_input": "2022-07-19T19:27:45.852010Z",
     "iopub.status.busy": "2022-07-19T19:27:45.851261Z",
     "iopub.status.idle": "2022-07-19T19:27:45.868741Z",
     "shell.execute_reply": "2022-07-19T19:27:45.869605Z"
    },
    "papermill": {
     "duration": 0.163807,
     "end_time": "2022-07-19T19:27:45.869835",
     "exception": false,
     "start_time": "2022-07-19T19:27:45.706028",
     "status": "completed"
    },
    "scrolled": true,
    "tags": []
   },
   "outputs": [
    {
     "name": "stdout",
     "output_type": "stream",
     "text": [
      "          FareBand  Survived\n",
      "0   (-0.001, 7.91]  0.197309\n",
      "1   (7.91, 14.454]  0.303571\n",
      "2   (14.454, 31.0]  0.454955\n",
      "3  (31.0, 512.329]  0.581081\n"
     ]
    }
   ],
   "source": [
    "train['FareBand'] = pd.qcut(train['Fare'], 4)\n",
    "print (train[['FareBand', 'Survived']].groupby(['FareBand'], as_index=False).mean())"
   ]
  },
  {
   "cell_type": "code",
   "execution_count": 67,
   "metadata": {
    "_cell_guid": "9f55c49f-605c-48ed-a648-0501afe7dcb7",
    "_uuid": "6d9df3a6f8392d59ff50706ede566d9ffcee1a23",
    "execution": {
     "iopub.execute_input": "2022-07-19T19:27:46.160000Z",
     "iopub.status.busy": "2022-07-19T19:27:46.159276Z",
     "iopub.status.idle": "2022-07-19T19:27:46.182590Z",
     "shell.execute_reply": "2022-07-19T19:27:46.183156Z"
    },
    "papermill": {
     "duration": 0.168405,
     "end_time": "2022-07-19T19:27:46.183320",
     "exception": false,
     "start_time": "2022-07-19T19:27:46.014915",
     "status": "completed"
    },
    "tags": []
   },
   "outputs": [
    {
     "data": {
      "text/html": [
       "<div>\n",
       "<style scoped>\n",
       "    .dataframe tbody tr th:only-of-type {\n",
       "        vertical-align: middle;\n",
       "    }\n",
       "\n",
       "    .dataframe tbody tr th {\n",
       "        vertical-align: top;\n",
       "    }\n",
       "\n",
       "    .dataframe thead th {\n",
       "        text-align: right;\n",
       "    }\n",
       "</style>\n",
       "<table border=\"1\" class=\"dataframe\">\n",
       "  <thead>\n",
       "    <tr style=\"text-align: right;\">\n",
       "      <th></th>\n",
       "      <th>PassengerId</th>\n",
       "      <th>Survived</th>\n",
       "      <th>Pclass</th>\n",
       "      <th>Name</th>\n",
       "      <th>Sex</th>\n",
       "      <th>Age</th>\n",
       "      <th>SibSp</th>\n",
       "      <th>Parch</th>\n",
       "      <th>Ticket</th>\n",
       "      <th>Fare</th>\n",
       "      <th>Cabin</th>\n",
       "      <th>Embarked</th>\n",
       "      <th>Title</th>\n",
       "      <th>AgeBand</th>\n",
       "      <th>FareBand</th>\n",
       "    </tr>\n",
       "  </thead>\n",
       "  <tbody>\n",
       "    <tr>\n",
       "      <th>0</th>\n",
       "      <td>1</td>\n",
       "      <td>0</td>\n",
       "      <td>3</td>\n",
       "      <td>Braund, Mr. Owen Harris</td>\n",
       "      <td>0</td>\n",
       "      <td>1</td>\n",
       "      <td>1</td>\n",
       "      <td>0</td>\n",
       "      <td>A/5 21171</td>\n",
       "      <td>7.2500</td>\n",
       "      <td>NaN</td>\n",
       "      <td>0</td>\n",
       "      <td>1</td>\n",
       "      <td>(16.0, 32.0]</td>\n",
       "      <td>(-0.001, 7.91]</td>\n",
       "    </tr>\n",
       "    <tr>\n",
       "      <th>1</th>\n",
       "      <td>2</td>\n",
       "      <td>1</td>\n",
       "      <td>1</td>\n",
       "      <td>Cumings, Mrs. John Bradley (Florence Briggs Th...</td>\n",
       "      <td>1</td>\n",
       "      <td>2</td>\n",
       "      <td>1</td>\n",
       "      <td>0</td>\n",
       "      <td>PC 17599</td>\n",
       "      <td>71.2833</td>\n",
       "      <td>C85</td>\n",
       "      <td>1</td>\n",
       "      <td>3</td>\n",
       "      <td>(32.0, 48.0]</td>\n",
       "      <td>(31.0, 512.329]</td>\n",
       "    </tr>\n",
       "    <tr>\n",
       "      <th>2</th>\n",
       "      <td>3</td>\n",
       "      <td>1</td>\n",
       "      <td>3</td>\n",
       "      <td>Heikkinen, Miss. Laina</td>\n",
       "      <td>1</td>\n",
       "      <td>1</td>\n",
       "      <td>0</td>\n",
       "      <td>0</td>\n",
       "      <td>STON/O2. 3101282</td>\n",
       "      <td>7.9250</td>\n",
       "      <td>NaN</td>\n",
       "      <td>0</td>\n",
       "      <td>2</td>\n",
       "      <td>(16.0, 32.0]</td>\n",
       "      <td>(7.91, 14.454]</td>\n",
       "    </tr>\n",
       "    <tr>\n",
       "      <th>3</th>\n",
       "      <td>4</td>\n",
       "      <td>1</td>\n",
       "      <td>1</td>\n",
       "      <td>Futrelle, Mrs. Jacques Heath (Lily May Peel)</td>\n",
       "      <td>1</td>\n",
       "      <td>2</td>\n",
       "      <td>1</td>\n",
       "      <td>0</td>\n",
       "      <td>113803</td>\n",
       "      <td>53.1000</td>\n",
       "      <td>C123</td>\n",
       "      <td>0</td>\n",
       "      <td>3</td>\n",
       "      <td>(32.0, 48.0]</td>\n",
       "      <td>(31.0, 512.329]</td>\n",
       "    </tr>\n",
       "    <tr>\n",
       "      <th>4</th>\n",
       "      <td>5</td>\n",
       "      <td>0</td>\n",
       "      <td>3</td>\n",
       "      <td>Allen, Mr. William Henry</td>\n",
       "      <td>0</td>\n",
       "      <td>2</td>\n",
       "      <td>0</td>\n",
       "      <td>0</td>\n",
       "      <td>373450</td>\n",
       "      <td>8.0500</td>\n",
       "      <td>NaN</td>\n",
       "      <td>0</td>\n",
       "      <td>1</td>\n",
       "      <td>(32.0, 48.0]</td>\n",
       "      <td>(7.91, 14.454]</td>\n",
       "    </tr>\n",
       "  </tbody>\n",
       "</table>\n",
       "</div>"
      ],
      "text/plain": [
       "   PassengerId  Survived  Pclass  \\\n",
       "0            1         0       3   \n",
       "1            2         1       1   \n",
       "2            3         1       3   \n",
       "3            4         1       1   \n",
       "4            5         0       3   \n",
       "\n",
       "                                                Name  Sex  Age  SibSp  Parch  \\\n",
       "0                            Braund, Mr. Owen Harris    0    1      1      0   \n",
       "1  Cumings, Mrs. John Bradley (Florence Briggs Th...    1    2      1      0   \n",
       "2                             Heikkinen, Miss. Laina    1    1      0      0   \n",
       "3       Futrelle, Mrs. Jacques Heath (Lily May Peel)    1    2      1      0   \n",
       "4                           Allen, Mr. William Henry    0    2      0      0   \n",
       "\n",
       "             Ticket     Fare Cabin  Embarked  Title       AgeBand  \\\n",
       "0         A/5 21171   7.2500   NaN         0      1  (16.0, 32.0]   \n",
       "1          PC 17599  71.2833   C85         1      3  (32.0, 48.0]   \n",
       "2  STON/O2. 3101282   7.9250   NaN         0      2  (16.0, 32.0]   \n",
       "3            113803  53.1000  C123         0      3  (32.0, 48.0]   \n",
       "4            373450   8.0500   NaN         0      1  (32.0, 48.0]   \n",
       "\n",
       "          FareBand  \n",
       "0   (-0.001, 7.91]  \n",
       "1  (31.0, 512.329]  \n",
       "2   (7.91, 14.454]  \n",
       "3  (31.0, 512.329]  \n",
       "4   (7.91, 14.454]  "
      ]
     },
     "execution_count": 67,
     "metadata": {},
     "output_type": "execute_result"
    }
   ],
   "source": [
    "train.head()"
   ]
  },
  {
   "cell_type": "markdown",
   "metadata": {
    "_cell_guid": "6db348b4-96a6-44c6-bdaa-14a9644dc7ff",
    "_uuid": "1b3fd602c23619ab5a973ce5e8cb9660a6016da3",
    "papermill": {
     "duration": 0.141829,
     "end_time": "2022-07-19T19:27:46.469474",
     "exception": false,
     "start_time": "2022-07-19T19:27:46.327645",
     "status": "completed"
    },
    "tags": []
   },
   "source": [
    "> Map *`Fare`* according to *`FareBand`*"
   ]
  },
  {
   "cell_type": "code",
   "execution_count": 68,
   "metadata": {
    "_cell_guid": "28e18cd6-8d10-4530-b7bf-0462876d5d7c",
    "_uuid": "5474b0a55f53bd445c24d3cebe7d50ada7227f4c",
    "execution": {
     "iopub.execute_input": "2022-07-19T19:27:46.757368Z",
     "iopub.status.busy": "2022-07-19T19:27:46.756634Z",
     "iopub.status.idle": "2022-07-19T19:27:46.780902Z",
     "shell.execute_reply": "2022-07-19T19:27:46.781470Z"
    },
    "papermill": {
     "duration": 0.168807,
     "end_time": "2022-07-19T19:27:46.781631",
     "exception": false,
     "start_time": "2022-07-19T19:27:46.612824",
     "status": "completed"
    },
    "tags": []
   },
   "outputs": [],
   "source": [
    "for dataset in train_test_data:\n",
    "    dataset.loc[ dataset['Fare'] <= 7.91, 'Fare'] = 0\n",
    "    dataset.loc[(dataset['Fare'] > 7.91) & (dataset['Fare'] <= 14.454), 'Fare'] = 1\n",
    "    dataset.loc[(dataset['Fare'] > 14.454) & (dataset['Fare'] <= 31), 'Fare']   = 2\n",
    "    dataset.loc[ dataset['Fare'] > 31, 'Fare'] = 3\n",
    "    dataset['Fare'] = dataset['Fare'].astype(int)"
   ]
  },
  {
   "cell_type": "code",
   "execution_count": 69,
   "metadata": {
    "_cell_guid": "30bdac5c-899e-47e2-aaed-5296f8f8bdf2",
    "_uuid": "f5642bbdcc3998d509d00f1e31d89122d05198f3",
    "execution": {
     "iopub.execute_input": "2022-07-19T19:27:47.068024Z",
     "iopub.status.busy": "2022-07-19T19:27:47.067291Z",
     "iopub.status.idle": "2022-07-19T19:27:47.087241Z",
     "shell.execute_reply": "2022-07-19T19:27:47.087747Z"
    },
    "papermill": {
     "duration": 0.165191,
     "end_time": "2022-07-19T19:27:47.087925",
     "exception": false,
     "start_time": "2022-07-19T19:27:46.922734",
     "status": "completed"
    },
    "tags": []
   },
   "outputs": [
    {
     "data": {
      "text/html": [
       "<div>\n",
       "<style scoped>\n",
       "    .dataframe tbody tr th:only-of-type {\n",
       "        vertical-align: middle;\n",
       "    }\n",
       "\n",
       "    .dataframe tbody tr th {\n",
       "        vertical-align: top;\n",
       "    }\n",
       "\n",
       "    .dataframe thead th {\n",
       "        text-align: right;\n",
       "    }\n",
       "</style>\n",
       "<table border=\"1\" class=\"dataframe\">\n",
       "  <thead>\n",
       "    <tr style=\"text-align: right;\">\n",
       "      <th></th>\n",
       "      <th>PassengerId</th>\n",
       "      <th>Survived</th>\n",
       "      <th>Pclass</th>\n",
       "      <th>Name</th>\n",
       "      <th>Sex</th>\n",
       "      <th>Age</th>\n",
       "      <th>SibSp</th>\n",
       "      <th>Parch</th>\n",
       "      <th>Ticket</th>\n",
       "      <th>Fare</th>\n",
       "      <th>Cabin</th>\n",
       "      <th>Embarked</th>\n",
       "      <th>Title</th>\n",
       "      <th>AgeBand</th>\n",
       "      <th>FareBand</th>\n",
       "    </tr>\n",
       "  </thead>\n",
       "  <tbody>\n",
       "    <tr>\n",
       "      <th>0</th>\n",
       "      <td>1</td>\n",
       "      <td>0</td>\n",
       "      <td>3</td>\n",
       "      <td>Braund, Mr. Owen Harris</td>\n",
       "      <td>0</td>\n",
       "      <td>1</td>\n",
       "      <td>1</td>\n",
       "      <td>0</td>\n",
       "      <td>A/5 21171</td>\n",
       "      <td>0</td>\n",
       "      <td>NaN</td>\n",
       "      <td>0</td>\n",
       "      <td>1</td>\n",
       "      <td>(16.0, 32.0]</td>\n",
       "      <td>(-0.001, 7.91]</td>\n",
       "    </tr>\n",
       "    <tr>\n",
       "      <th>1</th>\n",
       "      <td>2</td>\n",
       "      <td>1</td>\n",
       "      <td>1</td>\n",
       "      <td>Cumings, Mrs. John Bradley (Florence Briggs Th...</td>\n",
       "      <td>1</td>\n",
       "      <td>2</td>\n",
       "      <td>1</td>\n",
       "      <td>0</td>\n",
       "      <td>PC 17599</td>\n",
       "      <td>3</td>\n",
       "      <td>C85</td>\n",
       "      <td>1</td>\n",
       "      <td>3</td>\n",
       "      <td>(32.0, 48.0]</td>\n",
       "      <td>(31.0, 512.329]</td>\n",
       "    </tr>\n",
       "    <tr>\n",
       "      <th>2</th>\n",
       "      <td>3</td>\n",
       "      <td>1</td>\n",
       "      <td>3</td>\n",
       "      <td>Heikkinen, Miss. Laina</td>\n",
       "      <td>1</td>\n",
       "      <td>1</td>\n",
       "      <td>0</td>\n",
       "      <td>0</td>\n",
       "      <td>STON/O2. 3101282</td>\n",
       "      <td>1</td>\n",
       "      <td>NaN</td>\n",
       "      <td>0</td>\n",
       "      <td>2</td>\n",
       "      <td>(16.0, 32.0]</td>\n",
       "      <td>(7.91, 14.454]</td>\n",
       "    </tr>\n",
       "    <tr>\n",
       "      <th>3</th>\n",
       "      <td>4</td>\n",
       "      <td>1</td>\n",
       "      <td>1</td>\n",
       "      <td>Futrelle, Mrs. Jacques Heath (Lily May Peel)</td>\n",
       "      <td>1</td>\n",
       "      <td>2</td>\n",
       "      <td>1</td>\n",
       "      <td>0</td>\n",
       "      <td>113803</td>\n",
       "      <td>3</td>\n",
       "      <td>C123</td>\n",
       "      <td>0</td>\n",
       "      <td>3</td>\n",
       "      <td>(32.0, 48.0]</td>\n",
       "      <td>(31.0, 512.329]</td>\n",
       "    </tr>\n",
       "    <tr>\n",
       "      <th>4</th>\n",
       "      <td>5</td>\n",
       "      <td>0</td>\n",
       "      <td>3</td>\n",
       "      <td>Allen, Mr. William Henry</td>\n",
       "      <td>0</td>\n",
       "      <td>2</td>\n",
       "      <td>0</td>\n",
       "      <td>0</td>\n",
       "      <td>373450</td>\n",
       "      <td>1</td>\n",
       "      <td>NaN</td>\n",
       "      <td>0</td>\n",
       "      <td>1</td>\n",
       "      <td>(32.0, 48.0]</td>\n",
       "      <td>(7.91, 14.454]</td>\n",
       "    </tr>\n",
       "  </tbody>\n",
       "</table>\n",
       "</div>"
      ],
      "text/plain": [
       "   PassengerId  Survived  Pclass  \\\n",
       "0            1         0       3   \n",
       "1            2         1       1   \n",
       "2            3         1       3   \n",
       "3            4         1       1   \n",
       "4            5         0       3   \n",
       "\n",
       "                                                Name  Sex  Age  SibSp  Parch  \\\n",
       "0                            Braund, Mr. Owen Harris    0    1      1      0   \n",
       "1  Cumings, Mrs. John Bradley (Florence Briggs Th...    1    2      1      0   \n",
       "2                             Heikkinen, Miss. Laina    1    1      0      0   \n",
       "3       Futrelle, Mrs. Jacques Heath (Lily May Peel)    1    2      1      0   \n",
       "4                           Allen, Mr. William Henry    0    2      0      0   \n",
       "\n",
       "             Ticket  Fare Cabin  Embarked  Title       AgeBand  \\\n",
       "0         A/5 21171     0   NaN         0      1  (16.0, 32.0]   \n",
       "1          PC 17599     3   C85         1      3  (32.0, 48.0]   \n",
       "2  STON/O2. 3101282     1   NaN         0      2  (16.0, 32.0]   \n",
       "3            113803     3  C123         0      3  (32.0, 48.0]   \n",
       "4            373450     1   NaN         0      1  (32.0, 48.0]   \n",
       "\n",
       "          FareBand  \n",
       "0   (-0.001, 7.91]  \n",
       "1  (31.0, 512.329]  \n",
       "2   (7.91, 14.454]  \n",
       "3  (31.0, 512.329]  \n",
       "4   (7.91, 14.454]  "
      ]
     },
     "execution_count": 69,
     "metadata": {},
     "output_type": "execute_result"
    }
   ],
   "source": [
    "train.head()"
   ]
  },
  {
   "cell_type": "markdown",
   "metadata": {
    "_cell_guid": "4a2021aa-ad7a-4830-a0f2-3e6110507888",
    "_uuid": "582c8177544b578de50477b9e3b77f158345343a",
    "papermill": {
     "duration": 0.142665,
     "end_time": "2022-07-19T19:27:47.373426",
     "exception": false,
     "start_time": "2022-07-19T19:27:47.230761",
     "status": "completed"
    },
    "tags": []
   },
   "source": [
    "### 6) SibSp & Parch Feature\n",
    "> Combining *`SibSp`* & *`Parch`* feature, we create a new feature named *`FamilySize`*."
   ]
  },
  {
   "cell_type": "code",
   "execution_count": 70,
   "metadata": {
    "_cell_guid": "81ad7a51-4bcd-40db-8595-beea82b06988",
    "_uuid": "cf748a44aca2d6721190fd6d10fdaf9ff20baa82",
    "execution": {
     "iopub.execute_input": "2022-07-19T19:27:47.664233Z",
     "iopub.status.busy": "2022-07-19T19:27:47.663246Z",
     "iopub.status.idle": "2022-07-19T19:27:47.680167Z",
     "shell.execute_reply": "2022-07-19T19:27:47.680973Z"
    },
    "papermill": {
     "duration": 0.16349,
     "end_time": "2022-07-19T19:27:47.681185",
     "exception": false,
     "start_time": "2022-07-19T19:27:47.517695",
     "status": "completed"
    },
    "tags": []
   },
   "outputs": [
    {
     "name": "stdout",
     "output_type": "stream",
     "text": [
      "   FamilySize  Survived\n",
      "0           1  0.303538\n",
      "1           2  0.552795\n",
      "2           3  0.578431\n",
      "3           4  0.724138\n",
      "4           5  0.200000\n",
      "5           6  0.136364\n",
      "6           7  0.333333\n",
      "7           8  0.000000\n",
      "8          11  0.000000\n"
     ]
    }
   ],
   "source": [
    "for dataset in train_test_data:\n",
    "    dataset['FamilySize'] = dataset['SibSp'] +  dataset['Parch'] + 1\n",
    "\n",
    "print (train[['FamilySize', 'Survived']].groupby(['FamilySize'], as_index=False).mean())"
   ]
  },
  {
   "cell_type": "code",
   "execution_count": 71,
   "metadata": {
    "execution": {
     "iopub.execute_input": "2022-07-19T19:27:47.972377Z",
     "iopub.status.busy": "2022-07-19T19:27:47.971661Z",
     "iopub.status.idle": "2022-07-19T19:27:48.202033Z",
     "shell.execute_reply": "2022-07-19T19:27:48.201363Z"
    },
    "papermill": {
     "duration": 0.377797,
     "end_time": "2022-07-19T19:27:48.202161",
     "exception": false,
     "start_time": "2022-07-19T19:27:47.824364",
     "status": "completed"
    },
    "tags": []
   },
   "outputs": [
    {
     "data": {
      "text/plain": [
       "<matplotlib.axes._subplots.AxesSubplot at 0x7f325c0bfb10>"
      ]
     },
     "execution_count": 71,
     "metadata": {},
     "output_type": "execute_result"
    },
    {
     "data": {
      "image/png": "[encoded data removed]",
      "text/plain": [
       "<Figure size 432x288 with 1 Axes>"
      ]
     },
     "metadata": {},
     "output_type": "display_data"
    }
   ],
   "source": [
    "sns.barplot(x='FamilySize', y='Survived', ci=None, data=train)"
   ]
  },
  {
   "cell_type": "markdown",
   "metadata": {
    "_cell_guid": "85b6c9eb-21d6-4594-aef9-fc9fb8848baa",
    "_uuid": "f9257731b8413c0e93aa27a6b50e2ad34767ee23",
    "papermill": {
     "duration": 0.142983,
     "end_time": "2022-07-19T19:27:48.490980",
     "exception": false,
     "start_time": "2022-07-19T19:27:48.347997",
     "status": "completed"
    },
    "tags": []
   },
   "source": [
    "#### NOTE:<br>About data shows that: \n",
    "- Having *FamilySize* upto 4 (from 2 to 4) has better survival chance. \n",
    "- *FamilySize = 1*, i.e. travelling alone has less survival chance.\n",
    "- Large *FamilySize* (size of 5 and above) also have less survival chance."
   ]
  },
  {
   "cell_type": "markdown",
   "metadata": {
    "_cell_guid": "7fd8b4ff-489a-4a71-999f-53c55dc7c445",
    "_uuid": "b2eb916068797b5d0b0eea1eed17cef38c75ff81",
    "papermill": {
     "duration": 0.14311,
     "end_time": "2022-07-19T19:27:48.777336",
     "exception": false,
     "start_time": "2022-07-19T19:27:48.634226",
     "status": "completed"
    },
    "tags": []
   },
   "source": [
    "> Let's create a new feature named *`IsAlone`*. This feature is used to check how is the survival chance while travelling alone as compared to travelling with family."
   ]
  },
  {
   "cell_type": "code",
   "execution_count": 72,
   "metadata": {
    "_cell_guid": "ddbed4aa-fb9a-4a7f-adec-0a4a37c3823d",
    "_uuid": "8fd03222fb70effff47a2124bf6744965a98faad",
    "execution": {
     "iopub.execute_input": "2022-07-19T19:27:49.073307Z",
     "iopub.status.busy": "2022-07-19T19:27:49.072063Z",
     "iopub.status.idle": "2022-07-19T19:27:49.092135Z",
     "shell.execute_reply": "2022-07-19T19:27:49.091521Z"
    },
    "papermill": {
     "duration": 0.168737,
     "end_time": "2022-07-19T19:27:49.092263",
     "exception": false,
     "start_time": "2022-07-19T19:27:48.923526",
     "status": "completed"
    },
    "tags": []
   },
   "outputs": [
    {
     "name": "stdout",
     "output_type": "stream",
     "text": [
      "   IsAlone  Survived\n",
      "0        0  0.505650\n",
      "1        1  0.303538\n"
     ]
    }
   ],
   "source": [
    "for dataset in train_test_data:\n",
    "    dataset['IsAlone'] = 0\n",
    "    dataset.loc[dataset['FamilySize'] == 1, 'IsAlone'] = 1\n",
    "    \n",
    "print (train[['IsAlone', 'Survived']].groupby(['IsAlone'], as_index=False).mean())"
   ]
  },
  {
   "cell_type": "markdown",
   "metadata": {
    "_cell_guid": "7fb0810f-9f4c-4c63-bafd-5d2c95afeb88",
    "_uuid": "7481b97261d0e6f6f4eac75e44e01ed5185f5f3c",
    "papermill": {
     "duration": 0.146189,
     "end_time": "2022-07-19T19:27:49.385618",
     "exception": false,
     "start_time": "2022-07-19T19:27:49.239429",
     "status": "completed"
    },
    "tags": []
   },
   "source": [
    "> This shows that travelling alone has only 30% survival chance."
   ]
  },
  {
   "cell_type": "code",
   "execution_count": 73,
   "metadata": {
    "_cell_guid": "44e2e673-679c-44c8-85d1-5ec6d4d62836",
    "_uuid": "856b6ff45680c53d71decab72558c84e08b7aa59",
    "execution": {
     "iopub.execute_input": "2022-07-19T19:27:49.677102Z",
     "iopub.status.busy": "2022-07-19T19:27:49.676389Z",
     "iopub.status.idle": "2022-07-19T19:27:49.697630Z",
     "shell.execute_reply": "2022-07-19T19:27:49.698221Z"
    },
    "papermill": {
     "duration": 0.168749,
     "end_time": "2022-07-19T19:27:49.698375",
     "exception": false,
     "start_time": "2022-07-19T19:27:49.529626",
     "status": "completed"
    },
    "scrolled": true,
    "tags": []
   },
   "outputs": [
    {
     "data": {
      "text/html": [
       "<div>\n",
       "<style scoped>\n",
       "    .dataframe tbody tr th:only-of-type {\n",
       "        vertical-align: middle;\n",
       "    }\n",
       "\n",
       "    .dataframe tbody tr th {\n",
       "        vertical-align: top;\n",
       "    }\n",
       "\n",
       "    .dataframe thead th {\n",
       "        text-align: right;\n",
       "    }\n",
       "</style>\n",
       "<table border=\"1\" class=\"dataframe\">\n",
       "  <thead>\n",
       "    <tr style=\"text-align: right;\">\n",
       "      <th></th>\n",
       "      <th>PassengerId</th>\n",
       "      <th>Survived</th>\n",
       "      <th>Pclass</th>\n",
       "      <th>Name</th>\n",
       "      <th>Sex</th>\n",
       "      <th>Age</th>\n",
       "      <th>SibSp</th>\n",
       "      <th>Parch</th>\n",
       "      <th>Ticket</th>\n",
       "      <th>Fare</th>\n",
       "      <th>Cabin</th>\n",
       "      <th>Embarked</th>\n",
       "      <th>Title</th>\n",
       "      <th>AgeBand</th>\n",
       "      <th>FareBand</th>\n",
       "      <th>FamilySize</th>\n",
       "      <th>IsAlone</th>\n",
       "    </tr>\n",
       "  </thead>\n",
       "  <tbody>\n",
       "    <tr>\n",
       "      <th>0</th>\n",
       "      <td>1</td>\n",
       "      <td>0</td>\n",
       "      <td>3</td>\n",
       "      <td>Braund, Mr. Owen Harris</td>\n",
       "      <td>0</td>\n",
       "      <td>1</td>\n",
       "      <td>1</td>\n",
       "      <td>0</td>\n",
       "      <td>A/5 21171</td>\n",
       "      <td>0</td>\n",
       "      <td>NaN</td>\n",
       "      <td>0</td>\n",
       "      <td>1</td>\n",
       "      <td>(16.0, 32.0]</td>\n",
       "      <td>(-0.001, 7.91]</td>\n",
       "      <td>2</td>\n",
       "      <td>0</td>\n",
       "    </tr>\n",
       "    <tr>\n",
       "      <th>1</th>\n",
       "      <td>2</td>\n",
       "      <td>1</td>\n",
       "      <td>1</td>\n",
       "      <td>Cumings, Mrs. John Bradley (Florence Briggs Th...</td>\n",
       "      <td>1</td>\n",
       "      <td>2</td>\n",
       "      <td>1</td>\n",
       "      <td>0</td>\n",
       "      <td>PC 17599</td>\n",
       "      <td>3</td>\n",
       "      <td>C85</td>\n",
       "      <td>1</td>\n",
       "      <td>3</td>\n",
       "      <td>(32.0, 48.0]</td>\n",
       "      <td>(31.0, 512.329]</td>\n",
       "      <td>2</td>\n",
       "      <td>0</td>\n",
       "    </tr>\n",
       "    <tr>\n",
       "      <th>2</th>\n",
       "      <td>3</td>\n",
       "      <td>1</td>\n",
       "      <td>3</td>\n",
       "      <td>Heikkinen, Miss. Laina</td>\n",
       "      <td>1</td>\n",
       "      <td>1</td>\n",
       "      <td>0</td>\n",
       "      <td>0</td>\n",
       "      <td>STON/O2. 3101282</td>\n",
       "      <td>1</td>\n",
       "      <td>NaN</td>\n",
       "      <td>0</td>\n",
       "      <td>2</td>\n",
       "      <td>(16.0, 32.0]</td>\n",
       "      <td>(7.91, 14.454]</td>\n",
       "      <td>1</td>\n",
       "      <td>1</td>\n",
       "    </tr>\n",
       "    <tr>\n",
       "      <th>3</th>\n",
       "      <td>4</td>\n",
       "      <td>1</td>\n",
       "      <td>1</td>\n",
       "      <td>Futrelle, Mrs. Jacques Heath (Lily May Peel)</td>\n",
       "      <td>1</td>\n",
       "      <td>2</td>\n",
       "      <td>1</td>\n",
       "      <td>0</td>\n",
       "      <td>113803</td>\n",
       "      <td>3</td>\n",
       "      <td>C123</td>\n",
       "      <td>0</td>\n",
       "      <td>3</td>\n",
       "      <td>(32.0, 48.0]</td>\n",
       "      <td>(31.0, 512.329]</td>\n",
       "      <td>2</td>\n",
       "      <td>0</td>\n",
       "    </tr>\n",
       "    <tr>\n",
       "      <th>4</th>\n",
       "      <td>5</td>\n",
       "      <td>0</td>\n",
       "      <td>3</td>\n",
       "      <td>Allen, Mr. William Henry</td>\n",
       "      <td>0</td>\n",
       "      <td>2</td>\n",
       "      <td>0</td>\n",
       "      <td>0</td>\n",
       "      <td>373450</td>\n",
       "      <td>1</td>\n",
       "      <td>NaN</td>\n",
       "      <td>0</td>\n",
       "      <td>1</td>\n",
       "      <td>(32.0, 48.0]</td>\n",
       "      <td>(7.91, 14.454]</td>\n",
       "      <td>1</td>\n",
       "      <td>1</td>\n",
       "    </tr>\n",
       "  </tbody>\n",
       "</table>\n",
       "</div>"
      ],
      "text/plain": [
       "   PassengerId  Survived  Pclass  \\\n",
       "0            1         0       3   \n",
       "1            2         1       1   \n",
       "2            3         1       3   \n",
       "3            4         1       1   \n",
       "4            5         0       3   \n",
       "\n",
       "                                                Name  Sex  Age  SibSp  Parch  \\\n",
       "0                            Braund, Mr. Owen Harris    0    1      1      0   \n",
       "1  Cumings, Mrs. John Bradley (Florence Briggs Th...    1    2      1      0   \n",
       "2                             Heikkinen, Miss. Laina    1    1      0      0   \n",
       "3       Futrelle, Mrs. Jacques Heath (Lily May Peel)    1    2      1      0   \n",
       "4                           Allen, Mr. William Henry    0    2      0      0   \n",
       "\n",
       "             Ticket  Fare Cabin  Embarked  Title       AgeBand  \\\n",
       "0         A/5 21171     0   NaN         0      1  (16.0, 32.0]   \n",
       "1          PC 17599     3   C85         1      3  (32.0, 48.0]   \n",
       "2  STON/O2. 3101282     1   NaN         0      2  (16.0, 32.0]   \n",
       "3            113803     3  C123         0      3  (32.0, 48.0]   \n",
       "4            373450     1   NaN         0      1  (32.0, 48.0]   \n",
       "\n",
       "          FareBand  FamilySize  IsAlone  \n",
       "0   (-0.001, 7.91]           2        0  \n",
       "1  (31.0, 512.329]           2        0  \n",
       "2   (7.91, 14.454]           1        1  \n",
       "3  (31.0, 512.329]           2        0  \n",
       "4   (7.91, 14.454]           1        1  "
      ]
     },
     "execution_count": 73,
     "metadata": {},
     "output_type": "execute_result"
    }
   ],
   "source": [
    "train.head()"
   ]
  },
  {
   "cell_type": "code",
   "execution_count": 74,
   "metadata": {
    "_cell_guid": "2f5b832c-76ea-4164-85f8-05a26670e7fc",
    "_uuid": "576af5bcf12fa1bf91c6aae882a13d472c98fc3a",
    "execution": {
     "iopub.execute_input": "2022-07-19T19:27:50.007437Z",
     "iopub.status.busy": "2022-07-19T19:27:50.006711Z",
     "iopub.status.idle": "2022-07-19T19:27:50.010573Z",
     "shell.execute_reply": "2022-07-19T19:27:50.011122Z"
    },
    "papermill": {
     "duration": 0.167366,
     "end_time": "2022-07-19T19:27:50.011266",
     "exception": false,
     "start_time": "2022-07-19T19:27:49.843900",
     "status": "completed"
    },
    "tags": []
   },
   "outputs": [
    {
     "data": {
      "text/html": [
       "<div>\n",
       "<style scoped>\n",
       "    .dataframe tbody tr th:only-of-type {\n",
       "        vertical-align: middle;\n",
       "    }\n",
       "\n",
       "    .dataframe tbody tr th {\n",
       "        vertical-align: top;\n",
       "    }\n",
       "\n",
       "    .dataframe thead th {\n",
       "        text-align: right;\n",
       "    }\n",
       "</style>\n",
       "<table border=\"1\" class=\"dataframe\">\n",
       "  <thead>\n",
       "    <tr style=\"text-align: right;\">\n",
       "      <th></th>\n",
       "      <th>PassengerId</th>\n",
       "      <th>Pclass</th>\n",
       "      <th>Name</th>\n",
       "      <th>Sex</th>\n",
       "      <th>Age</th>\n",
       "      <th>SibSp</th>\n",
       "      <th>Parch</th>\n",
       "      <th>Ticket</th>\n",
       "      <th>Fare</th>\n",
       "      <th>Cabin</th>\n",
       "      <th>Embarked</th>\n",
       "      <th>Title</th>\n",
       "      <th>FamilySize</th>\n",
       "      <th>IsAlone</th>\n",
       "    </tr>\n",
       "  </thead>\n",
       "  <tbody>\n",
       "    <tr>\n",
       "      <th>0</th>\n",
       "      <td>892</td>\n",
       "      <td>3</td>\n",
       "      <td>Kelly, Mr. James</td>\n",
       "      <td>0</td>\n",
       "      <td>2</td>\n",
       "      <td>0</td>\n",
       "      <td>0</td>\n",
       "      <td>330911</td>\n",
       "      <td>0</td>\n",
       "      <td>NaN</td>\n",
       "      <td>2</td>\n",
       "      <td>1</td>\n",
       "      <td>1</td>\n",
       "      <td>1</td>\n",
       "    </tr>\n",
       "    <tr>\n",
       "      <th>1</th>\n",
       "      <td>893</td>\n",
       "      <td>3</td>\n",
       "      <td>Wilkes, Mrs. James (Ellen Needs)</td>\n",
       "      <td>1</td>\n",
       "      <td>2</td>\n",
       "      <td>1</td>\n",
       "      <td>0</td>\n",
       "      <td>363272</td>\n",
       "      <td>0</td>\n",
       "      <td>NaN</td>\n",
       "      <td>0</td>\n",
       "      <td>3</td>\n",
       "      <td>2</td>\n",
       "      <td>0</td>\n",
       "    </tr>\n",
       "    <tr>\n",
       "      <th>2</th>\n",
       "      <td>894</td>\n",
       "      <td>2</td>\n",
       "      <td>Myles, Mr. Thomas Francis</td>\n",
       "      <td>0</td>\n",
       "      <td>3</td>\n",
       "      <td>0</td>\n",
       "      <td>0</td>\n",
       "      <td>240276</td>\n",
       "      <td>1</td>\n",
       "      <td>NaN</td>\n",
       "      <td>2</td>\n",
       "      <td>1</td>\n",
       "      <td>1</td>\n",
       "      <td>1</td>\n",
       "    </tr>\n",
       "    <tr>\n",
       "      <th>3</th>\n",
       "      <td>895</td>\n",
       "      <td>3</td>\n",
       "      <td>Wirz, Mr. Albert</td>\n",
       "      <td>0</td>\n",
       "      <td>1</td>\n",
       "      <td>0</td>\n",
       "      <td>0</td>\n",
       "      <td>315154</td>\n",
       "      <td>1</td>\n",
       "      <td>NaN</td>\n",
       "      <td>0</td>\n",
       "      <td>1</td>\n",
       "      <td>1</td>\n",
       "      <td>1</td>\n",
       "    </tr>\n",
       "    <tr>\n",
       "      <th>4</th>\n",
       "      <td>896</td>\n",
       "      <td>3</td>\n",
       "      <td>Hirvonen, Mrs. Alexander (Helga E Lindqvist)</td>\n",
       "      <td>1</td>\n",
       "      <td>1</td>\n",
       "      <td>1</td>\n",
       "      <td>1</td>\n",
       "      <td>3101298</td>\n",
       "      <td>1</td>\n",
       "      <td>NaN</td>\n",
       "      <td>0</td>\n",
       "      <td>3</td>\n",
       "      <td>3</td>\n",
       "      <td>0</td>\n",
       "    </tr>\n",
       "  </tbody>\n",
       "</table>\n",
       "</div>"
      ],
      "text/plain": [
       "   PassengerId  Pclass                                          Name  Sex  \\\n",
       "0          892       3                              Kelly, Mr. James    0   \n",
       "1          893       3              Wilkes, Mrs. James (Ellen Needs)    1   \n",
       "2          894       2                     Myles, Mr. Thomas Francis    0   \n",
       "3          895       3                              Wirz, Mr. Albert    0   \n",
       "4          896       3  Hirvonen, Mrs. Alexander (Helga E Lindqvist)    1   \n",
       "\n",
       "   Age  SibSp  Parch   Ticket  Fare Cabin  Embarked  Title  FamilySize  \\\n",
       "0    2      0      0   330911     0   NaN         2      1           1   \n",
       "1    2      1      0   363272     0   NaN         0      3           2   \n",
       "2    3      0      0   240276     1   NaN         2      1           1   \n",
       "3    1      0      0   315154     1   NaN         0      1           1   \n",
       "4    1      1      1  3101298     1   NaN         0      3           3   \n",
       "\n",
       "   IsAlone  \n",
       "0        1  \n",
       "1        0  \n",
       "2        1  \n",
       "3        1  \n",
       "4        0  "
      ]
     },
     "execution_count": 74,
     "metadata": {},
     "output_type": "execute_result"
    }
   ],
   "source": [
    "test.head()"
   ]
  },
  {
   "cell_type": "markdown",
   "metadata": {
    "_cell_guid": "c3e1351c-621a-4955-923a-9abffc0a529a",
    "_uuid": "9178b8bffc1b4402e8517dfe78edcbd7bf40d562",
    "papermill": {
     "duration": 0.148235,
     "end_time": "2022-07-19T19:27:50.307643",
     "exception": false,
     "start_time": "2022-07-19T19:27:50.159408",
     "status": "completed"
    },
    "tags": []
   },
   "source": [
    "## Feature Selection\n",
    "> We drop unnecessary columns/features and keep only the useful ones for our experiment. Column *`PassengerId`* is only dropped from Train set because we need *`PassengerId`* in Test set while creating Submission file to Kaggle."
   ]
  },
  {
   "cell_type": "code",
   "execution_count": 75,
   "metadata": {
    "_cell_guid": "775a70ed-3af7-455c-98fa-0728489e724b",
    "_uuid": "22dc74fc3b370d26b2cc086ad4a06894c912ec96",
    "execution": {
     "iopub.execute_input": "2022-07-19T19:27:50.618696Z",
     "iopub.status.busy": "2022-07-19T19:27:50.618013Z",
     "iopub.status.idle": "2022-07-19T19:27:50.620802Z",
     "shell.execute_reply": "2022-07-19T19:27:50.621317Z"
    },
    "papermill": {
     "duration": 0.163141,
     "end_time": "2022-07-19T19:27:50.621457",
     "exception": false,
     "start_time": "2022-07-19T19:27:50.458316",
     "status": "completed"
    },
    "tags": []
   },
   "outputs": [],
   "source": [
    "features_drop = ['Name', 'SibSp', 'Parch', 'Ticket', 'Cabin', 'FamilySize']\n",
    "train = train.drop(features_drop, axis=1)\n",
    "test = test.drop(features_drop, axis=1)\n",
    "train = train.drop(['PassengerId', 'AgeBand', 'FareBand'], axis=1)"
   ]
  },
  {
   "cell_type": "code",
   "execution_count": 76,
   "metadata": {
    "_cell_guid": "5a77dfbc-2210-49a5-9e44-4e0f5c96c607",
    "_uuid": "88aee9397e4a7987db1eb51f0effa8e3575d2b9d",
    "execution": {
     "iopub.execute_input": "2022-07-19T19:27:50.916652Z",
     "iopub.status.busy": "2022-07-19T19:27:50.915973Z",
     "iopub.status.idle": "2022-07-19T19:27:50.927401Z",
     "shell.execute_reply": "2022-07-19T19:27:50.928016Z"
    },
    "papermill": {
     "duration": 0.161037,
     "end_time": "2022-07-19T19:27:50.928177",
     "exception": false,
     "start_time": "2022-07-19T19:27:50.767140",
     "status": "completed"
    },
    "tags": []
   },
   "outputs": [
    {
     "data": {
      "text/html": [
       "<div>\n",
       "<style scoped>\n",
       "    .dataframe tbody tr th:only-of-type {\n",
       "        vertical-align: middle;\n",
       "    }\n",
       "\n",
       "    .dataframe tbody tr th {\n",
       "        vertical-align: top;\n",
       "    }\n",
       "\n",
       "    .dataframe thead th {\n",
       "        text-align: right;\n",
       "    }\n",
       "</style>\n",
       "<table border=\"1\" class=\"dataframe\">\n",
       "  <thead>\n",
       "    <tr style=\"text-align: right;\">\n",
       "      <th></th>\n",
       "      <th>Survived</th>\n",
       "      <th>Pclass</th>\n",
       "      <th>Sex</th>\n",
       "      <th>Age</th>\n",
       "      <th>Fare</th>\n",
       "      <th>Embarked</th>\n",
       "      <th>Title</th>\n",
       "      <th>IsAlone</th>\n",
       "    </tr>\n",
       "  </thead>\n",
       "  <tbody>\n",
       "    <tr>\n",
       "      <th>0</th>\n",
       "      <td>0</td>\n",
       "      <td>3</td>\n",
       "      <td>0</td>\n",
       "      <td>1</td>\n",
       "      <td>0</td>\n",
       "      <td>0</td>\n",
       "      <td>1</td>\n",
       "      <td>0</td>\n",
       "    </tr>\n",
       "    <tr>\n",
       "      <th>1</th>\n",
       "      <td>1</td>\n",
       "      <td>1</td>\n",
       "      <td>1</td>\n",
       "      <td>2</td>\n",
       "      <td>3</td>\n",
       "      <td>1</td>\n",
       "      <td>3</td>\n",
       "      <td>0</td>\n",
       "    </tr>\n",
       "    <tr>\n",
       "      <th>2</th>\n",
       "      <td>1</td>\n",
       "      <td>3</td>\n",
       "      <td>1</td>\n",
       "      <td>1</td>\n",
       "      <td>1</td>\n",
       "      <td>0</td>\n",
       "      <td>2</td>\n",
       "      <td>1</td>\n",
       "    </tr>\n",
       "    <tr>\n",
       "      <th>3</th>\n",
       "      <td>1</td>\n",
       "      <td>1</td>\n",
       "      <td>1</td>\n",
       "      <td>2</td>\n",
       "      <td>3</td>\n",
       "      <td>0</td>\n",
       "      <td>3</td>\n",
       "      <td>0</td>\n",
       "    </tr>\n",
       "    <tr>\n",
       "      <th>4</th>\n",
       "      <td>0</td>\n",
       "      <td>3</td>\n",
       "      <td>0</td>\n",
       "      <td>2</td>\n",
       "      <td>1</td>\n",
       "      <td>0</td>\n",
       "      <td>1</td>\n",
       "      <td>1</td>\n",
       "    </tr>\n",
       "  </tbody>\n",
       "</table>\n",
       "</div>"
      ],
      "text/plain": [
       "   Survived  Pclass  Sex  Age  Fare  Embarked  Title  IsAlone\n",
       "0         0       3    0    1     0         0      1        0\n",
       "1         1       1    1    2     3         1      3        0\n",
       "2         1       3    1    1     1         0      2        1\n",
       "3         1       1    1    2     3         0      3        0\n",
       "4         0       3    0    2     1         0      1        1"
      ]
     },
     "execution_count": 76,
     "metadata": {},
     "output_type": "execute_result"
    }
   ],
   "source": [
    "train.head()"
   ]
  },
  {
   "cell_type": "code",
   "execution_count": 77,
   "metadata": {
    "_cell_guid": "5c36b0c6-3ebf-4483-92ac-44fcd285533f",
    "_uuid": "1da0127150f750ac82d4b24fda39269c8b17fb7b",
    "execution": {
     "iopub.execute_input": "2022-07-19T19:27:51.238128Z",
     "iopub.status.busy": "2022-07-19T19:27:51.228014Z",
     "iopub.status.idle": "2022-07-19T19:27:51.241810Z",
     "shell.execute_reply": "2022-07-19T19:27:51.242433Z"
    },
    "papermill": {
     "duration": 0.166838,
     "end_time": "2022-07-19T19:27:51.242592",
     "exception": false,
     "start_time": "2022-07-19T19:27:51.075754",
     "status": "completed"
    },
    "tags": []
   },
   "outputs": [
    {
     "data": {
      "text/html": [
       "<div>\n",
       "<style scoped>\n",
       "    .dataframe tbody tr th:only-of-type {\n",
       "        vertical-align: middle;\n",
       "    }\n",
       "\n",
       "    .dataframe tbody tr th {\n",
       "        vertical-align: top;\n",
       "    }\n",
       "\n",
       "    .dataframe thead th {\n",
       "        text-align: right;\n",
       "    }\n",
       "</style>\n",
       "<table border=\"1\" class=\"dataframe\">\n",
       "  <thead>\n",
       "    <tr style=\"text-align: right;\">\n",
       "      <th></th>\n",
       "      <th>PassengerId</th>\n",
       "      <th>Pclass</th>\n",
       "      <th>Sex</th>\n",
       "      <th>Age</th>\n",
       "      <th>Fare</th>\n",
       "      <th>Embarked</th>\n",
       "      <th>Title</th>\n",
       "      <th>IsAlone</th>\n",
       "    </tr>\n",
       "  </thead>\n",
       "  <tbody>\n",
       "    <tr>\n",
       "      <th>0</th>\n",
       "      <td>892</td>\n",
       "      <td>3</td>\n",
       "      <td>0</td>\n",
       "      <td>2</td>\n",
       "      <td>0</td>\n",
       "      <td>2</td>\n",
       "      <td>1</td>\n",
       "      <td>1</td>\n",
       "    </tr>\n",
       "    <tr>\n",
       "      <th>1</th>\n",
       "      <td>893</td>\n",
       "      <td>3</td>\n",
       "      <td>1</td>\n",
       "      <td>2</td>\n",
       "      <td>0</td>\n",
       "      <td>0</td>\n",
       "      <td>3</td>\n",
       "      <td>0</td>\n",
       "    </tr>\n",
       "    <tr>\n",
       "      <th>2</th>\n",
       "      <td>894</td>\n",
       "      <td>2</td>\n",
       "      <td>0</td>\n",
       "      <td>3</td>\n",
       "      <td>1</td>\n",
       "      <td>2</td>\n",
       "      <td>1</td>\n",
       "      <td>1</td>\n",
       "    </tr>\n",
       "    <tr>\n",
       "      <th>3</th>\n",
       "      <td>895</td>\n",
       "      <td>3</td>\n",
       "      <td>0</td>\n",
       "      <td>1</td>\n",
       "      <td>1</td>\n",
       "      <td>0</td>\n",
       "      <td>1</td>\n",
       "      <td>1</td>\n",
       "    </tr>\n",
       "    <tr>\n",
       "      <th>4</th>\n",
       "      <td>896</td>\n",
       "      <td>3</td>\n",
       "      <td>1</td>\n",
       "      <td>1</td>\n",
       "      <td>1</td>\n",
       "      <td>0</td>\n",
       "      <td>3</td>\n",
       "      <td>0</td>\n",
       "    </tr>\n",
       "  </tbody>\n",
       "</table>\n",
       "</div>"
      ],
      "text/plain": [
       "   PassengerId  Pclass  Sex  Age  Fare  Embarked  Title  IsAlone\n",
       "0          892       3    0    2     0         2      1        1\n",
       "1          893       3    1    2     0         0      3        0\n",
       "2          894       2    0    3     1         2      1        1\n",
       "3          895       3    0    1     1         0      1        1\n",
       "4          896       3    1    1     1         0      3        0"
      ]
     },
     "execution_count": 77,
     "metadata": {},
     "output_type": "execute_result"
    }
   ],
   "source": [
    "test.head()"
   ]
  },
  {
   "cell_type": "markdown",
   "metadata": {
    "_cell_guid": "ff7d366e-22cd-4eb8-a77d-56acf946392f",
    "_uuid": "831d9e73af99dfaae115411ce2190fced6c8cf67",
    "papermill": {
     "duration": 0.148124,
     "end_time": "2022-07-19T19:27:51.547049",
     "exception": false,
     "start_time": "2022-07-19T19:27:51.398925",
     "status": "completed"
    },
    "tags": []
   },
   "source": [
    "> We are done with Feature Selection/Engineering. <br>\n",
    "> Now, we are ready to train a classifier with our feature set."
   ]
  },
  {
   "cell_type": "markdown",
   "metadata": {
    "_cell_guid": "65c074a8-55da-485c-87b9-14cb48f9ceaf",
    "_uuid": "5dca5b0e71d6e75f1a5a30ea4d7a707c546a498b",
    "papermill": {
     "duration": 0.152112,
     "end_time": "2022-07-19T19:27:51.856325",
     "exception": false,
     "start_time": "2022-07-19T19:27:51.704213",
     "status": "completed"
    },
    "tags": []
   },
   "source": [
    "## Classification & Accuracy \n",
    "Define training and testing set"
   ]
  },
  {
   "cell_type": "code",
   "execution_count": 78,
   "metadata": {
    "_cell_guid": "4a7fb5d4-57a0-439d-b974-a009f07a2288",
    "_uuid": "e4417789a18e4981acc484d4fdda7abfadd1b167",
    "execution": {
     "iopub.execute_input": "2022-07-19T19:27:52.164793Z",
     "iopub.status.busy": "2022-07-19T19:27:52.163680Z",
     "iopub.status.idle": "2022-07-19T19:27:52.167691Z",
     "shell.execute_reply": "2022-07-19T19:27:52.168352Z"
    },
    "papermill": {
     "duration": 0.162463,
     "end_time": "2022-07-19T19:27:52.168505",
     "exception": false,
     "start_time": "2022-07-19T19:27:52.006042",
     "status": "completed"
    },
    "tags": []
   },
   "outputs": [
    {
     "data": {
      "text/plain": [
       "((891, 7), (891,), (418, 7))"
      ]
     },
     "execution_count": 78,
     "metadata": {},
     "output_type": "execute_result"
    }
   ],
   "source": [
    "X_train = train.drop('Survived', axis=1)\n",
    "y_train = train['Survived']\n",
    "X_test = test.drop(\"PassengerId\", axis=1).copy()\n",
    "\n",
    "X_train.shape, y_train.shape, X_test.shape"
   ]
  },
  {
   "cell_type": "markdown",
   "metadata": {
    "_cell_guid": "ddb2dc44-46f1-4e52-aec8-736e816e8546",
    "_uuid": "209d268ae2b591a65d7c0f1e699e9d80092779b7",
    "papermill": {
     "duration": 0.147792,
     "end_time": "2022-07-19T19:27:52.467190",
     "exception": false,
     "start_time": "2022-07-19T19:27:52.319398",
     "status": "completed"
    },
    "tags": []
   },
   "source": [
    "#### NOTE:\n",
    "There are many classifying algorithms present. Among them, we choose the following *Classification* algorithms for our problem:\n",
    "\n",
    "- Logistic Regression\n",
    "- Support Vector Machines (SVC)\n",
    "- Linear SVC\n",
    "- k-Nearest Neighbor (KNN)\n",
    "- Decision Tree\n",
    "- Random Forest\n",
    "- Naive Bayes (GaussianNB)\n",
    "- Perceptron\n",
    "- Stochastic Gradient Descent (SGD)\n",
    "\n",
    "Here's the training and testing procedure:\n",
    "\n",
    "> First, we train these classifiers with our training data. <br>\n",
    "> After that, using the trained classifier, we predict the *`Survival`* outcome of test data.<br>\n",
    "> Finally, we calculate the accuracy score (in percentange) of the trained classifier.<br>\n",
    "\n",
    "***Please note:*** that the accuracy score is generated based on our training dataset."
   ]
  },
  {
   "cell_type": "code",
   "execution_count": 79,
   "metadata": {
    "_cell_guid": "faf9c5bc-3c61-4fdf-aa58-d56a1749d1d2",
    "_uuid": "9c04167fa2131653ae6a64f6422fa1d994583e28",
    "execution": {
     "iopub.execute_input": "2022-07-19T19:27:52.773397Z",
     "iopub.status.busy": "2022-07-19T19:27:52.772710Z",
     "iopub.status.idle": "2022-07-19T19:27:53.201543Z",
     "shell.execute_reply": "2022-07-19T19:27:53.200951Z"
    },
    "papermill": {
     "duration": 0.585122,
     "end_time": "2022-07-19T19:27:53.201696",
     "exception": false,
     "start_time": "2022-07-19T19:27:52.616574",
     "status": "completed"
    },
    "tags": []
   },
   "outputs": [],
   "source": [
    "# Importing Classifier Modules\n",
    "from sklearn.linear_model import LogisticRegression\n",
    "from sklearn.svm import SVC, LinearSVC\n",
    "from sklearn.neighbors import KNeighborsClassifier\n",
    "from sklearn.tree import DecisionTreeClassifier\n",
    "from sklearn.ensemble import RandomForestClassifier\n",
    "from sklearn.naive_bayes import GaussianNB\n",
    "from sklearn.linear_model import Perceptron\n",
    "from sklearn.linear_model import SGDClassifier"
   ]
  },
  {
   "cell_type": "markdown",
   "metadata": {
    "_cell_guid": "881abf5b-0364-4413-9377-15f4c4904dcd",
    "_uuid": "ce90eb99b14ee9a0069bdbb0c964844069189565",
    "papermill": {
     "duration": 0.146555,
     "end_time": "2022-07-19T19:27:53.501144",
     "exception": false,
     "start_time": "2022-07-19T19:27:53.354589",
     "status": "completed"
    },
    "tags": []
   },
   "source": [
    "### 1) Logistic Regression\n",
    "\n",
    "[Logistic regression](https://en.wikipedia.org/wiki/Logistic_regression), or logit regression, or logit model is a regression model where the dependent variable (DV) is categorical. This article covers the case of a binary dependent variable—that is, where it can take only two values, \"0\" and \"1\", which represent outcomes such as pass/fail, win/lose, alive/dead or healthy/sick. Cases where the dependent variable has more than two outcome categories may be analysed in multinomial logistic regression, or, if the multiple categories are ordered, in ordinal logistic regression."
   ]
  },
  {
   "cell_type": "code",
   "execution_count": 80,
   "metadata": {
    "_cell_guid": "029c77b6-4d4d-4a5c-9fd5-6dce078f6047",
    "_uuid": "2765423b8485d704a6500b6fa13630aaf7a8bf56",
    "execution": {
     "iopub.execute_input": "2022-07-19T19:27:53.799448Z",
     "iopub.status.busy": "2022-07-19T19:27:53.798711Z",
     "iopub.status.idle": "2022-07-19T19:27:53.822928Z",
     "shell.execute_reply": "2022-07-19T19:27:53.822251Z"
    },
    "papermill": {
     "duration": 0.174807,
     "end_time": "2022-07-19T19:27:53.823081",
     "exception": false,
     "start_time": "2022-07-19T19:27:53.648274",
     "status": "completed"
    },
    "tags": []
   },
   "outputs": [
    {
     "name": "stdout",
     "output_type": "stream",
     "text": [
      "Train Accuracy: 81.03%\n"
     ]
    }
   ],
   "source": [
    "clf = LogisticRegression()\n",
    "clf.fit(X_train, y_train)\n",
    "y_pred_log_reg = clf.predict(X_test)\n",
    "acc_log_reg = round( clf.score(X_train, y_train) * 100, 2)\n",
    "print (\"Train Accuracy: \" + str(acc_log_reg) + '%')"
   ]
  },
  {
   "cell_type": "markdown",
   "metadata": {
    "_cell_guid": "4ae5fc53-14b1-474f-be38-83fb052ece45",
    "_uuid": "119941500237185d1760611c79a385b8f8b8c863",
    "papermill": {
     "duration": 0.14951,
     "end_time": "2022-07-19T19:27:54.127030",
     "exception": false,
     "start_time": "2022-07-19T19:27:53.977520",
     "status": "completed"
    },
    "tags": []
   },
   "source": [
    "### 2) Support Vector Machine (SVM)\n",
    "\n",
    "[Support Vector Machine (SVM)](https://en.wikipedia.org/wiki/Support_vector_machine) model is a Supervised Learning model used for classification and regression analysis. It is a representation of the examples as points in space, mapped so that the examples of the separate categories are divided by a clear gap that is as wide as possible. New examples are then mapped into that same space and predicted to belong to a category based on which side of the gap they fall.\n",
    "\n",
    "In addition to performing linear classification, SVMs can efficiently perform a non-linear classification using what is called the kernel trick, implicitly mapping their inputs into high-dimensional feature spaces. Suppose some given data points each belong to one of two classes, and the goal is to decide which class a new data point will be in. In the case of support vector machines, a data point is viewed as a $p$-dimensional vector (a list of $p$ numbers), and we want to know whether we can separate such points with a $(p-1)$-dimensional hyperplane.\n",
    "\n",
    "When data are not labeled, supervised learning is not possible, and an unsupervised learning approach is required, which attempts to find natural clustering of the data to groups, and then map new data to these formed groups. The clustering algorithm which provides an improvement to the support vector machines is called **support vector clustering** and is often used in industrial applications either when data are not labeled or when only some data are labeled as a preprocessing for a classification pass.\n",
    "\n",
    "In the below code, [SVC](http://scikit-learn.org/stable/modules/generated/sklearn.svm.SVC.html) stands for Support Vector Classification."
   ]
  },
  {
   "cell_type": "code",
   "execution_count": 81,
   "metadata": {
    "_cell_guid": "d13b0dbd-df95-4d88-9472-ace2467cdff5",
    "_uuid": "e87de37a054831cbb12e6606dbaa4a965ce2300a",
    "execution": {
     "iopub.execute_input": "2022-07-19T19:27:54.435711Z",
     "iopub.status.busy": "2022-07-19T19:27:54.435030Z",
     "iopub.status.idle": "2022-07-19T19:27:54.483564Z",
     "shell.execute_reply": "2022-07-19T19:27:54.482569Z"
    },
    "papermill": {
     "duration": 0.207875,
     "end_time": "2022-07-19T19:27:54.483755",
     "exception": false,
     "start_time": "2022-07-19T19:27:54.275880",
     "status": "completed"
    },
    "tags": []
   },
   "outputs": [
    {
     "name": "stdout",
     "output_type": "stream",
     "text": [
      "Train Accuracy: 83.28%\n"
     ]
    }
   ],
   "source": [
    "clf = SVC()\n",
    "clf.fit(X_train, y_train)\n",
    "y_pred_svc = clf.predict(X_test)\n",
    "acc_svc = round(clf.score(X_train, y_train) * 100, 2)\n",
    "print (\"Train Accuracy: \" + str(acc_svc) + '%')"
   ]
  },
  {
   "cell_type": "markdown",
   "metadata": {
    "_cell_guid": "784567c8-ecdb-4ce1-950c-7e131eaa54ae",
    "_uuid": "3a761d16c6293104723624111be94a4f3ede840d",
    "papermill": {
     "duration": 0.148455,
     "end_time": "2022-07-19T19:27:54.785888",
     "exception": false,
     "start_time": "2022-07-19T19:27:54.637433",
     "status": "completed"
    },
    "tags": []
   },
   "source": [
    "### 3) Linear SVM\n",
    "\n",
    "Linear SVM is a SVM model with linear kernel.<br>\n",
    "In the below code, [LinearSVC](http://scikit-learn.org/stable/modules/generated/sklearn.svm.LinearSVC.html) stands for Linear Support Vector Classification."
   ]
  },
  {
   "cell_type": "code",
   "execution_count": 82,
   "metadata": {
    "_cell_guid": "8cc5193c-3021-4c24-9527-816b695081fc",
    "_uuid": "5445353ecd9c48fd21928ded1fcf7e2a1b7d6106",
    "execution": {
     "iopub.execute_input": "2022-07-19T19:27:55.093995Z",
     "iopub.status.busy": "2022-07-19T19:27:55.093289Z",
     "iopub.status.idle": "2022-07-19T19:27:55.148654Z",
     "shell.execute_reply": "2022-07-19T19:27:55.149148Z"
    },
    "papermill": {
     "duration": 0.213422,
     "end_time": "2022-07-19T19:27:55.149304",
     "exception": false,
     "start_time": "2022-07-19T19:27:54.935882",
     "status": "completed"
    },
    "tags": []
   },
   "outputs": [
    {
     "name": "stdout",
     "output_type": "stream",
     "text": [
      "Train Accuracy: 79.57%\n"
     ]
    }
   ],
   "source": [
    "clf = LinearSVC()\n",
    "clf.fit(X_train, y_train)\n",
    "y_pred_linear_svc = clf.predict(X_test)\n",
    "acc_linear_svc = round(clf.score(X_train, y_train) * 100, 2)\n",
    "print (\"Train Accuracy: \" + str(acc_linear_svc) + '%')"
   ]
  },
  {
   "cell_type": "markdown",
   "metadata": {
    "_cell_guid": "c801115a-e960-443b-a148-24380f359da7",
    "_uuid": "d228198cb82b4855b5dab0c0eed5eb41f6d66d02",
    "papermill": {
     "duration": 0.14947,
     "end_time": "2022-07-19T19:27:55.449137",
     "exception": false,
     "start_time": "2022-07-19T19:27:55.299667",
     "status": "completed"
    },
    "tags": []
   },
   "source": [
    "### 4) $k$-Nearest Neighbors\n",
    "\n",
    "[$k$-nearest neighbors algorithm (k-NN)](https://en.wikipedia.org/wiki/K-nearest_neighbors_algorithm) is one of the simplest machine learning algorithms and is used for classification and regression. In both cases, the input consists of the $k$ closest training examples in the feature space. The output depends on whether $k$-NN is used for classification or regression:\n",
    "\n",
    "- In *$k$-NN classification*, the output is a class membership. An object is classified by a majority vote of its neighbors, with the object being assigned to the class most common among its $k$ nearest neighbors ($k$ is a positive integer, typically small). If $k = 1$, then the object is simply assigned to the class of that single nearest neighbor.\n",
    "\n",
    "\n",
    "- In *$k$-NN regression*, the output is the property value for the object. This value is the average of the values of its $k$ nearest neighbors."
   ]
  },
  {
   "cell_type": "code",
   "execution_count": 83,
   "metadata": {
    "_cell_guid": "de79167e-d6bf-4e73-8780-f26282f1f630",
    "_uuid": "6db9e2c10401eba03540f09c318b1332380eb800",
    "execution": {
     "iopub.execute_input": "2022-07-19T19:27:55.754897Z",
     "iopub.status.busy": "2022-07-19T19:27:55.753967Z",
     "iopub.status.idle": "2022-07-19T19:27:55.823931Z",
     "shell.execute_reply": "2022-07-19T19:27:55.824669Z"
    },
    "papermill": {
     "duration": 0.225963,
     "end_time": "2022-07-19T19:27:55.824910",
     "exception": false,
     "start_time": "2022-07-19T19:27:55.598947",
     "status": "completed"
    },
    "tags": []
   },
   "outputs": [
    {
     "name": "stdout",
     "output_type": "stream",
     "text": [
      "Train Accuracy: 78.79%\n"
     ]
    }
   ],
   "source": [
    "clf = KNeighborsClassifier(n_neighbors = 3)\n",
    "clf.fit(X_train, y_train)\n",
    "y_pred_knn = clf.predict(X_test)\n",
    "acc_knn = round(clf.score(X_train, y_train) * 100, 2)\n",
    "print (\"Train Accuracy: \" + str(acc_knn) + '%')"
   ]
  },
  {
   "cell_type": "markdown",
   "metadata": {
    "_cell_guid": "ffc9640a-6839-4c8d-9729-3bb4a5ec72e2",
    "_uuid": "c5b7ef00bca6806aa76793112fdb1f2668ccd6b2",
    "papermill": {
     "duration": 0.151646,
     "end_time": "2022-07-19T19:27:56.131855",
     "exception": false,
     "start_time": "2022-07-19T19:27:55.980209",
     "status": "completed"
    },
    "tags": []
   },
   "source": [
    "### 5) Decision Tree\n",
    "\n",
    "A [decision tree](https://en.wikipedia.org/wiki/Decision_tree) is a flowchart-like structure in which each internal node represents a \"test\" on an attribute (e.g. whether a coin flip comes up heads or tails), each branch represents the outcome of the test, and each leaf node represents a class label (decision taken after computing all attributes). The paths from root to leaf represent classification rules."
   ]
  },
  {
   "cell_type": "code",
   "execution_count": 84,
   "metadata": {
    "_cell_guid": "d83b24f6-f4ad-4b23-a853-c25ac017e195",
    "_uuid": "cb309b92c4833148cdd3588bfc1bc1ee923544d0",
    "execution": {
     "iopub.execute_input": "2022-07-19T19:27:56.491108Z",
     "iopub.status.busy": "2022-07-19T19:27:56.490192Z",
     "iopub.status.idle": "2022-07-19T19:27:56.507160Z",
     "shell.execute_reply": "2022-07-19T19:27:56.506118Z"
    },
    "papermill": {
     "duration": 0.224283,
     "end_time": "2022-07-19T19:27:56.507344",
     "exception": false,
     "start_time": "2022-07-19T19:27:56.283061",
     "status": "completed"
    },
    "tags": []
   },
   "outputs": [
    {
     "name": "stdout",
     "output_type": "stream",
     "text": [
      "Train Accuracy: 87.09%\n"
     ]
    }
   ],
   "source": [
    "clf = DecisionTreeClassifier()\n",
    "clf.fit(X_train, y_train)\n",
    "y_pred_decision_tree = clf.predict(X_test)\n",
    "acc_decision_tree = round(clf.score(X_train, y_train) * 100, 2)\n",
    "print (\"Train Accuracy: \" + str(acc_decision_tree) + '%')"
   ]
  },
  {
   "cell_type": "markdown",
   "metadata": {
    "_cell_guid": "9434e168-98fd-4258-b23c-6f06a3e6f6e1",
    "_uuid": "5fc894614278153dcb2076f1116ddfae7316bd36",
    "papermill": {
     "duration": 0.15194,
     "end_time": "2022-07-19T19:27:56.830105",
     "exception": false,
     "start_time": "2022-07-19T19:27:56.678165",
     "status": "completed"
    },
    "tags": []
   },
   "source": [
    "### 6) Random Forest\n",
    "\n",
    "[Random forests](https://en.wikipedia.org/wiki/Random_forest) or **random decision forests** are an **ensemble learning method** for classification, regression and other tasks, that operate by constructing a multitude of decision trees at training time and outputting the class that is the mode of the classes (classification) or mean prediction (regression) of the individual trees. Random decision forests correct for *decision trees' habit of overfitting to their training set*.\n",
    "\n",
    "[Ensemble methods](https://en.wikipedia.org/wiki/Ensemble_learning) use multiple learning algorithms to obtain better predictive performance than could be obtained from any of the constituent learning algorithms alone."
   ]
  },
  {
   "cell_type": "code",
   "execution_count": 85,
   "metadata": {
    "_cell_guid": "4290fc8d-4fa0-489a-a42b-3e60d05ed863",
    "_uuid": "7b002b287478456f41daa294acaf5325147596bb",
    "execution": {
     "iopub.execute_input": "2022-07-19T19:27:57.135518Z",
     "iopub.status.busy": "2022-07-19T19:27:57.134769Z",
     "iopub.status.idle": "2022-07-19T19:27:57.393638Z",
     "shell.execute_reply": "2022-07-19T19:27:57.393032Z"
    },
    "papermill": {
     "duration": 0.411907,
     "end_time": "2022-07-19T19:27:57.393793",
     "exception": false,
     "start_time": "2022-07-19T19:27:56.981886",
     "status": "completed"
    },
    "tags": []
   },
   "outputs": [
    {
     "name": "stdout",
     "output_type": "stream",
     "text": [
      "Train Accuracy: 87.09%\n"
     ]
    }
   ],
   "source": [
    "clf = RandomForestClassifier(n_estimators=100)\n",
    "clf.fit(X_train, y_train)\n",
    "y_pred_random_forest = clf.predict(X_test)\n",
    "acc_random_forest = round(clf.score(X_train, y_train) * 100, 2)\n",
    "print (\"Train Accuracy: \" + str(acc_random_forest) + '%')"
   ]
  },
  {
   "cell_type": "markdown",
   "metadata": {
    "_cell_guid": "53fa45d0-250e-4cd0-9bb2-85cfc8629edd",
    "_uuid": "06ab975e669bca4f31a0cbba2a9c224678937915",
    "papermill": {
     "duration": 0.151361,
     "end_time": "2022-07-19T19:27:57.695823",
     "exception": false,
     "start_time": "2022-07-19T19:27:57.544462",
     "status": "completed"
    },
    "tags": []
   },
   "source": [
    "### 7) Gaussian Naive Bayes\n",
    "\n",
    "[Naive Bayes classifiers](https://en.wikipedia.org/wiki/Naive_Bayes_classifier) are a family of simple probabilistic classifiers based on applying Bayes' theorem with strong (naive) independence assumptions between the features.\n",
    "\n",
    "[Bayes' theorem](https://en.wikipedia.org/wiki/Bayes%27_theorem) (alternatively **Bayes' law** or **Bayes' rule**) describes the probability of an event, based on prior knowledge of conditions that might be related to the event. For example, if cancer is related to age, then, using Bayes' theorem, a person's age can be used to more accurately assess the probability that they have cancer, compared to the assessment of the probability of cancer made without knowledge of the person's age.\n",
    "\n",
    "Naive Bayes is a simple technique for constructing classifiers: models that assign class labels to problem instances, represented as vectors of feature values, where the class labels are drawn from some finite set. It is not a single algorithm for training such classifiers, but a family of algorithms based on a common principle: all naive Bayes classifiers assume that the value of a particular feature is independent of the value of any other feature, given the class variable. For example, a fruit may be considered to be an apple if it is red, round, and about 10 cm in diameter. A naive Bayes classifier considers each of these features to contribute independently to the probability that this fruit is an apple, regardless of any possible correlations between the color, roundness, and diameter features."
   ]
  },
  {
   "cell_type": "code",
   "execution_count": 86,
   "metadata": {
    "_cell_guid": "8febef02-a1ab-4b40-9cc5-7767df03d281",
    "_uuid": "5075f02f520ad56f78c1f396fe0eec9b7fc00730",
    "execution": {
     "iopub.execute_input": "2022-07-19T19:27:58.005296Z",
     "iopub.status.busy": "2022-07-19T19:27:58.004528Z",
     "iopub.status.idle": "2022-07-19T19:27:58.016392Z",
     "shell.execute_reply": "2022-07-19T19:27:58.016910Z"
    },
    "papermill": {
     "duration": 0.169028,
     "end_time": "2022-07-19T19:27:58.017078",
     "exception": false,
     "start_time": "2022-07-19T19:27:57.848050",
     "status": "completed"
    },
    "tags": []
   },
   "outputs": [
    {
     "name": "stdout",
     "output_type": "stream",
     "text": [
      "Train Accuracy: 77.55%\n"
     ]
    }
   ],
   "source": [
    "clf = GaussianNB()\n",
    "clf.fit(X_train, y_train)\n",
    "y_pred_gnb = clf.predict(X_test)\n",
    "acc_gnb = round(clf.score(X_train, y_train) * 100, 2)\n",
    "print (\"Train Accuracy: \" + str(acc_gnb) + '%')"
   ]
  },
  {
   "cell_type": "markdown",
   "metadata": {
    "_cell_guid": "e6136623-8028-409a-b239-6f92c719c2aa",
    "_uuid": "5a40f4e4ff45cf2bf4d9cb19f094acd44d18fc9e",
    "papermill": {
     "duration": 0.151553,
     "end_time": "2022-07-19T19:27:58.319515",
     "exception": false,
     "start_time": "2022-07-19T19:27:58.167962",
     "status": "completed"
    },
    "tags": []
   },
   "source": [
    "### 8) Perceptron\n",
    "\n",
    "[Perceptron](https://en.wikipedia.org/wiki/Perceptron) is a type of linear classifier, i.e. a classification algorithm that makes its predictions based on a linear predictor function combining a set of weights with the feature vector."
   ]
  },
  {
   "cell_type": "code",
   "execution_count": 87,
   "metadata": {
    "_cell_guid": "661dc020-72c4-467d-aaff-388e375b4c7b",
    "_uuid": "ac62f3486a6e8e27fa10642e70dee88b75100c1d",
    "execution": {
     "iopub.execute_input": "2022-07-19T19:27:58.629143Z",
     "iopub.status.busy": "2022-07-19T19:27:58.628479Z",
     "iopub.status.idle": "2022-07-19T19:27:58.637054Z",
     "shell.execute_reply": "2022-07-19T19:27:58.637873Z"
    },
    "papermill": {
     "duration": 0.166958,
     "end_time": "2022-07-19T19:27:58.638080",
     "exception": false,
     "start_time": "2022-07-19T19:27:58.471122",
     "status": "completed"
    },
    "tags": []
   },
   "outputs": [
    {
     "name": "stdout",
     "output_type": "stream",
     "text": [
      "Train Accuracy: 78.11%\n"
     ]
    }
   ],
   "source": [
    "clf = Perceptron(max_iter=5, tol=None)\n",
    "clf.fit(X_train, y_train)\n",
    "y_pred_perceptron = clf.predict(X_test)\n",
    "acc_perceptron = round(clf.score(X_train, y_train) * 100, 2)\n",
    "print (\"Train Accuracy: \" + str(acc_perceptron) + '%')"
   ]
  },
  {
   "cell_type": "markdown",
   "metadata": {
    "_cell_guid": "86c776a1-2842-4aae-b907-301bff298d43",
    "_uuid": "1e8ca383bcccda9343a05579f6079a67a2589e7d",
    "papermill": {
     "duration": 0.152303,
     "end_time": "2022-07-19T19:27:58.946726",
     "exception": false,
     "start_time": "2022-07-19T19:27:58.794423",
     "status": "completed"
    },
    "tags": []
   },
   "source": [
    "### 9) Stochastic Gradient Descent (SGD)\n",
    "\n",
    "[Stochastic gradient descent](https://en.wikipedia.org/wiki/Stochastic_gradient_descent) (often shortened in **SGD**), also known as incremental gradient descent, is a stochastic approximation of the gradient descent optimization method for minimizing an objective function that is written as a sum of differentiable functions. In other words, SGD tries to find minima or maxima by iteration."
   ]
  },
  {
   "cell_type": "code",
   "execution_count": 88,
   "metadata": {
    "_cell_guid": "abcc42de-b931-4f6c-a508-ce44608575a9",
    "_uuid": "6b73257f4aad91881fc38f90a4fb0b0aff754ae0",
    "execution": {
     "iopub.execute_input": "2022-07-19T19:27:59.257968Z",
     "iopub.status.busy": "2022-07-19T19:27:59.256922Z",
     "iopub.status.idle": "2022-07-19T19:27:59.269281Z",
     "shell.execute_reply": "2022-07-19T19:27:59.269962Z"
    },
    "papermill": {
     "duration": 0.169765,
     "end_time": "2022-07-19T19:27:59.270112",
     "exception": false,
     "start_time": "2022-07-19T19:27:59.100347",
     "status": "completed"
    },
    "tags": []
   },
   "outputs": [
    {
     "name": "stdout",
     "output_type": "stream",
     "text": [
      "Train Accuracy: 75.76%\n"
     ]
    }
   ],
   "source": [
    "clf = SGDClassifier(max_iter=5, tol=None)\n",
    "clf.fit(X_train, y_train)\n",
    "y_pred_sgd = clf.predict(X_test)\n",
    "acc_sgd = round(clf.score(X_train, y_train) * 100, 2)\n",
    "print (\"Train Accuracy: \" + str(acc_sgd) + '%')"
   ]
  },
  {
   "cell_type": "markdown",
   "metadata": {
    "_cell_guid": "9b657596-31e3-42e8-ab7a-e74acd125844",
    "_uuid": "97826c9676096df94b5518757228fdf8c18c4773",
    "papermill": {
     "duration": 0.151041,
     "end_time": "2022-07-19T19:27:59.573940",
     "exception": false,
     "start_time": "2022-07-19T19:27:59.422899",
     "status": "completed"
    },
    "tags": []
   },
   "source": [
    "## Confusion Matrix\n",
    "\n",
    "A [confusion matrix](https://en.wikipedia.org/wiki/Confusion_matrix), also known as an error matrix, is a specific table layout that allows visualization of the performance of an algorithm. Each row of the matrix represents the instances in a predicted class while each column represents the instances in an actual class (or vice versa). The name stems from the fact that it makes it easy to see if the system is confusing two classes (i.e. commonly mislabelling one as another).\n",
    "\n",
    "In predictive analytics, a table of confusion (sometimes also called a confusion matrix), is a table with two rows and two columns that reports the number of false positives, false negatives, true positives, and true negatives. This allows more detailed analysis than mere proportion of correct classifications (accuracy). Accuracy is not a reliable metric for the real performance of a classifier, because it will yield misleading results if the data set is unbalanced (that is, when the numbers of observations in different classes vary greatly). For example, if there were 95 cats and only 5 dogs in the data set, a particular classifier might classify all the observations as cats. The overall accuracy would be 95%, but in more detail the classifier would have a 100% recognition rate for the cat class but a 0% recognition rate for the dog class.\n",
    "\n",
    "Here's another guide explaining [Confusion Matrix with example](http://www.dataschool.io/simple-guide-to-confusion-matrix-terminology/).\n",
    "\n",
    "$\\begin{matrix} & Predicted Positive & Predicted Negative \\\\ Actual Positive & TP & FN \\\\ Actual Negative & FP & TN \\end{matrix}$\n",
    "\n",
    "\n",
    "In this (Titanic problem) case: \n",
    "\n",
    ">**True Positive:** The classifier predicted *Survived* **and** the passenger actually *`Survived`*. <br>\n",
    ">**True Negative:** The classifier predicted *Not Survived* **and** the passenger actually *`Not Survived`*.<br>\n",
    ">**False Postiive:** The classifier predicted *Survived* **but** the passenger actually *`Not Survived`*.<br>\n",
    ">**False Negative:** The classifier predicted *Not Survived* **but** the passenger actually *`Survived`*.<br>"
   ]
  },
  {
   "cell_type": "markdown",
   "metadata": {
    "_cell_guid": "04e2db54-b0ba-4c85-8c50-62cc7acaa248",
    "_uuid": "8658592f1d6034b06f66008c54546e86d7817954",
    "papermill": {
     "duration": 0.154566,
     "end_time": "2022-07-19T19:27:59.881424",
     "exception": false,
     "start_time": "2022-07-19T19:27:59.726858",
     "status": "completed"
    },
    "tags": []
   },
   "source": [
    "> In the example code below, we plot a confusion matrix for the prediction of ***`Random Forest Classifier`*** on our training dataset. This shows how many entries are correctly and incorrectly predicted by our classifer."
   ]
  },
  {
   "cell_type": "code",
   "execution_count": 89,
   "metadata": {
    "_cell_guid": "c8d4f219-0972-40f3-90f7-1adb133928a4",
    "_uuid": "7361a26b2cab108fcf76aa9c6b0f9d7f5c15635e",
    "execution": {
     "iopub.execute_input": "2022-07-19T19:28:00.200889Z",
     "iopub.status.busy": "2022-07-19T19:28:00.199754Z",
     "iopub.status.idle": "2022-07-19T19:28:00.881071Z",
     "shell.execute_reply": "2022-07-19T19:28:00.881603Z"
    },
    "papermill": {
     "duration": 0.844318,
     "end_time": "2022-07-19T19:28:00.881752",
     "exception": false,
     "start_time": "2022-07-19T19:28:00.037434",
     "status": "completed"
    },
    "tags": []
   },
   "outputs": [
    {
     "name": "stdout",
     "output_type": "stream",
     "text": [
      "Accuracy: 87 % \n",
      "\n",
      "Confusion Matrix in Numbers\n",
      "[[510  39]\n",
      " [ 76 266]]\n",
      "\n",
      "Confusion Matrix in Percentage\n",
      "[[0.93 0.07]\n",
      " [0.22 0.78]]\n",
      "\n"
     ]
    },
    {
     "data": {
      "text/plain": [
       "<matplotlib.axes._subplots.AxesSubplot at 0x7f3252cde890>"
      ]
     },
     "execution_count": 89,
     "metadata": {},
     "output_type": "execute_result"
    },
    {
     "data": {
      "image/png": "[encoded data removed]",
      "text/plain": [
       "<Figure size 1080x360 with 4 Axes>"
      ]
     },
     "metadata": {},
     "output_type": "display_data"
    }
   ],
   "source": [
    "from sklearn.metrics import confusion_matrix\n",
    "import itertools\n",
    "\n",
    "clf = RandomForestClassifier(n_estimators=100)\n",
    "clf.fit(X_train, y_train)\n",
    "y_pred_random_forest_training_set = clf.predict(X_train)\n",
    "acc_random_forest = round(clf.score(X_train, y_train) * 100, 2)\n",
    "print (\"Accuracy: %i %% \\n\"%acc_random_forest)\n",
    "\n",
    "class_names = ['Survived', 'Not Survived']\n",
    "\n",
    "# Compute confusion matrix\n",
    "cnf_matrix = confusion_matrix(y_train, y_pred_random_forest_training_set)\n",
    "np.set_printoptions(precision=2)\n",
    "\n",
    "print ('Confusion Matrix in Numbers')\n",
    "print (cnf_matrix)\n",
    "print ('')\n",
    "\n",
    "cnf_matrix_percent = cnf_matrix.astype('float') / cnf_matrix.sum(axis=1)[:, np.newaxis]\n",
    "\n",
    "print ('Confusion Matrix in Percentage')\n",
    "print (cnf_matrix_percent)\n",
    "print ('')\n",
    "\n",
    "true_class_names = ['True Survived', 'True Not Survived']\n",
    "predicted_class_names = ['Predicted Survived', 'Predicted Not Survived']\n",
    "\n",
    "df_cnf_matrix = pd.DataFrame(cnf_matrix, \n",
    "                             index = true_class_names,\n",
    "                             columns = predicted_class_names)\n",
    "\n",
    "df_cnf_matrix_percent = pd.DataFrame(cnf_matrix_percent, \n",
    "                                     index = true_class_names,\n",
    "                                     columns = predicted_class_names)\n",
    "\n",
    "plt.figure(figsize = (15,5))\n",
    "\n",
    "plt.subplot(121)\n",
    "sns.heatmap(df_cnf_matrix, annot=True, fmt='d', cmap = \"Blues\")\n",
    "\n",
    "plt.subplot(122)\n",
    "sns.heatmap(df_cnf_matrix_percent, annot=True, cmap = \"Blues\")"
   ]
  },
  {
   "cell_type": "markdown",
   "metadata": {
    "_cell_guid": "41eab8a7-3990-453f-ae70-421764877621",
    "_uuid": "d1fce74d8c032aebdd33263105754713f7b351e1",
    "papermill": {
     "duration": 0.153458,
     "end_time": "2022-07-19T19:28:01.190389",
     "exception": false,
     "start_time": "2022-07-19T19:28:01.036931",
     "status": "completed"
    },
    "tags": []
   },
   "source": [
    "## Comparing Models\n",
    "> Let's compare the accuracy score of all the classifier models used above."
   ]
  },
  {
   "cell_type": "code",
   "execution_count": 90,
   "metadata": {
    "_cell_guid": "d629ddf4-b0dc-4451-9c6d-90835d1d031c",
    "_uuid": "76712bd9dbd7eca3cbfa8ce5d9758f90f99da826",
    "execution": {
     "iopub.execute_input": "2022-07-19T19:28:01.502934Z",
     "iopub.status.busy": "2022-07-19T19:28:01.501959Z",
     "iopub.status.idle": "2022-07-19T19:28:01.517700Z",
     "shell.execute_reply": "2022-07-19T19:28:01.518295Z"
    },
    "papermill": {
     "duration": 0.172704,
     "end_time": "2022-07-19T19:28:01.518439",
     "exception": false,
     "start_time": "2022-07-19T19:28:01.345735",
     "status": "completed"
    },
    "tags": []
   },
   "outputs": [
    {
     "data": {
      "text/html": [
       "<div>\n",
       "<style scoped>\n",
       "    .dataframe tbody tr th:only-of-type {\n",
       "        vertical-align: middle;\n",
       "    }\n",
       "\n",
       "    .dataframe tbody tr th {\n",
       "        vertical-align: top;\n",
       "    }\n",
       "\n",
       "    .dataframe thead th {\n",
       "        text-align: right;\n",
       "    }\n",
       "</style>\n",
       "<table border=\"1\" class=\"dataframe\">\n",
       "  <thead>\n",
       "    <tr style=\"text-align: right;\">\n",
       "      <th></th>\n",
       "      <th>Model</th>\n",
       "      <th>Score</th>\n",
       "    </tr>\n",
       "  </thead>\n",
       "  <tbody>\n",
       "    <tr>\n",
       "      <th>4</th>\n",
       "      <td>DTree</td>\n",
       "      <td>87.09</td>\n",
       "    </tr>\n",
       "    <tr>\n",
       "      <th>5</th>\n",
       "      <td>RF</td>\n",
       "      <td>87.09</td>\n",
       "    </tr>\n",
       "    <tr>\n",
       "      <th>1</th>\n",
       "      <td>SVM</td>\n",
       "      <td>83.28</td>\n",
       "    </tr>\n",
       "    <tr>\n",
       "      <th>0</th>\n",
       "      <td>LR</td>\n",
       "      <td>81.03</td>\n",
       "    </tr>\n",
       "    <tr>\n",
       "      <th>2</th>\n",
       "      <td>L-SVC</td>\n",
       "      <td>79.57</td>\n",
       "    </tr>\n",
       "    <tr>\n",
       "      <th>3</th>\n",
       "      <td>KNN</td>\n",
       "      <td>78.79</td>\n",
       "    </tr>\n",
       "    <tr>\n",
       "      <th>7</th>\n",
       "      <td>Perceptron</td>\n",
       "      <td>78.11</td>\n",
       "    </tr>\n",
       "    <tr>\n",
       "      <th>6</th>\n",
       "      <td>NB</td>\n",
       "      <td>77.55</td>\n",
       "    </tr>\n",
       "    <tr>\n",
       "      <th>8</th>\n",
       "      <td>SGD</td>\n",
       "      <td>75.76</td>\n",
       "    </tr>\n",
       "  </tbody>\n",
       "</table>\n",
       "</div>"
      ],
      "text/plain": [
       "        Model  Score\n",
       "4       DTree  87.09\n",
       "5          RF  87.09\n",
       "1         SVM  83.28\n",
       "0          LR  81.03\n",
       "2       L-SVC  79.57\n",
       "3         KNN  78.79\n",
       "7  Perceptron  78.11\n",
       "6          NB  77.55\n",
       "8         SGD  75.76"
      ]
     },
     "execution_count": 90,
     "metadata": {},
     "output_type": "execute_result"
    }
   ],
   "source": [
    "models = pd.DataFrame({\n",
    "    'Model': ['LR', 'SVM', 'L-SVC', \n",
    "              'KNN', 'DTree', 'RF', 'NB', \n",
    "              'Perceptron', 'SGD'],\n",
    "    \n",
    "    'Score': [acc_log_reg, acc_svc, acc_linear_svc, \n",
    "              acc_knn,  acc_decision_tree, acc_random_forest, acc_gnb, \n",
    "              acc_perceptron, acc_sgd]\n",
    "    })\n",
    "\n",
    "models = models.sort_values(by='Score', ascending=False)\n",
    "models"
   ]
  },
  {
   "cell_type": "code",
   "execution_count": 91,
   "metadata": {
    "execution": {
     "iopub.execute_input": "2022-07-19T19:28:01.834829Z",
     "iopub.status.busy": "2022-07-19T19:28:01.834192Z",
     "iopub.status.idle": "2022-07-19T19:28:02.035146Z",
     "shell.execute_reply": "2022-07-19T19:28:02.034617Z"
    },
    "papermill": {
     "duration": 0.361084,
     "end_time": "2022-07-19T19:28:02.035263",
     "exception": false,
     "start_time": "2022-07-19T19:28:01.674179",
     "status": "completed"
    },
    "tags": []
   },
   "outputs": [
    {
     "data": {
      "text/plain": [
       "<matplotlib.axes._subplots.AxesSubplot at 0x7f32535896d0>"
      ]
     },
     "execution_count": 91,
     "metadata": {},
     "output_type": "execute_result"
    },
    {
     "data": {
      "image/png": "[encoded data removed]",
      "text/plain": [
       "<Figure size 432x288 with 1 Axes>"
      ]
     },
     "metadata": {},
     "output_type": "display_data"
    }
   ],
   "source": [
    "sns.barplot(x='Model', y='Score', ci=None, data=models)"
   ]
  },
  {
   "cell_type": "markdown",
   "metadata": {
    "_cell_guid": "ecaca25d-8f42-4645-881f-15f49c71c846",
    "_uuid": "1cc14a9ad87b0a43650197feef30cbd50313f282",
    "papermill": {
     "duration": 0.156615,
     "end_time": "2022-07-19T19:28:02.349726",
     "exception": false,
     "start_time": "2022-07-19T19:28:02.193111",
     "status": "completed"
    },
    "tags": []
   },
   "source": [
    "#### NOTE:\n",
    "- From the above table, we can see that *`Decision Tree`* and *`Random Forest`* classfiers have the highest accuracy score.\n",
    "- Among these two, we choose *`Random Forest`* classifier as it has the ability to limit overfitting as compared to *`Decision Tree`* classifier."
   ]
  },
  {
   "cell_type": "markdown",
   "metadata": {
    "_cell_guid": "7150a23a-ac8b-4d1e-a2ab-9a55af1c0796",
    "_uuid": "3922acccd9b2d03d622c64595764d51cfcf1a217",
    "papermill": {
     "duration": 0.15526,
     "end_time": "2022-07-19T19:28:02.660647",
     "exception": false,
     "start_time": "2022-07-19T19:28:02.505387",
     "status": "completed"
    },
    "tags": []
   },
   "source": [
    "### Create Submission File for Kaggle Competition"
   ]
  },
  {
   "cell_type": "code",
   "execution_count": 92,
   "metadata": {
    "_cell_guid": "8cbedfd6-f299-49a0-bdae-f6e73c4f2418",
    "_uuid": "5fa4f95cf381b7ec70e487454a78a3cf6fa6c69a",
    "execution": {
     "iopub.execute_input": "2022-07-19T19:28:02.989472Z",
     "iopub.status.busy": "2022-07-19T19:28:02.988452Z",
     "iopub.status.idle": "2022-07-19T19:28:02.992628Z",
     "shell.execute_reply": "2022-07-19T19:28:02.993141Z"
    },
    "papermill": {
     "duration": 0.173848,
     "end_time": "2022-07-19T19:28:02.993299",
     "exception": false,
     "start_time": "2022-07-19T19:28:02.819451",
     "status": "completed"
    },
    "tags": []
   },
   "outputs": [
    {
     "data": {
      "text/html": [
       "<div>\n",
       "<style scoped>\n",
       "    .dataframe tbody tr th:only-of-type {\n",
       "        vertical-align: middle;\n",
       "    }\n",
       "\n",
       "    .dataframe tbody tr th {\n",
       "        vertical-align: top;\n",
       "    }\n",
       "\n",
       "    .dataframe thead th {\n",
       "        text-align: right;\n",
       "    }\n",
       "</style>\n",
       "<table border=\"1\" class=\"dataframe\">\n",
       "  <thead>\n",
       "    <tr style=\"text-align: right;\">\n",
       "      <th></th>\n",
       "      <th>PassengerId</th>\n",
       "      <th>Pclass</th>\n",
       "      <th>Sex</th>\n",
       "      <th>Age</th>\n",
       "      <th>Fare</th>\n",
       "      <th>Embarked</th>\n",
       "      <th>Title</th>\n",
       "      <th>IsAlone</th>\n",
       "    </tr>\n",
       "  </thead>\n",
       "  <tbody>\n",
       "    <tr>\n",
       "      <th>0</th>\n",
       "      <td>892</td>\n",
       "      <td>3</td>\n",
       "      <td>0</td>\n",
       "      <td>2</td>\n",
       "      <td>0</td>\n",
       "      <td>2</td>\n",
       "      <td>1</td>\n",
       "      <td>1</td>\n",
       "    </tr>\n",
       "    <tr>\n",
       "      <th>1</th>\n",
       "      <td>893</td>\n",
       "      <td>3</td>\n",
       "      <td>1</td>\n",
       "      <td>2</td>\n",
       "      <td>0</td>\n",
       "      <td>0</td>\n",
       "      <td>3</td>\n",
       "      <td>0</td>\n",
       "    </tr>\n",
       "    <tr>\n",
       "      <th>2</th>\n",
       "      <td>894</td>\n",
       "      <td>2</td>\n",
       "      <td>0</td>\n",
       "      <td>3</td>\n",
       "      <td>1</td>\n",
       "      <td>2</td>\n",
       "      <td>1</td>\n",
       "      <td>1</td>\n",
       "    </tr>\n",
       "    <tr>\n",
       "      <th>3</th>\n",
       "      <td>895</td>\n",
       "      <td>3</td>\n",
       "      <td>0</td>\n",
       "      <td>1</td>\n",
       "      <td>1</td>\n",
       "      <td>0</td>\n",
       "      <td>1</td>\n",
       "      <td>1</td>\n",
       "    </tr>\n",
       "    <tr>\n",
       "      <th>4</th>\n",
       "      <td>896</td>\n",
       "      <td>3</td>\n",
       "      <td>1</td>\n",
       "      <td>1</td>\n",
       "      <td>1</td>\n",
       "      <td>0</td>\n",
       "      <td>3</td>\n",
       "      <td>0</td>\n",
       "    </tr>\n",
       "  </tbody>\n",
       "</table>\n",
       "</div>"
      ],
      "text/plain": [
       "   PassengerId  Pclass  Sex  Age  Fare  Embarked  Title  IsAlone\n",
       "0          892       3    0    2     0         2      1        1\n",
       "1          893       3    1    2     0         0      3        0\n",
       "2          894       2    0    3     1         2      1        1\n",
       "3          895       3    0    1     1         0      1        1\n",
       "4          896       3    1    1     1         0      3        0"
      ]
     },
     "execution_count": 92,
     "metadata": {},
     "output_type": "execute_result"
    }
   ],
   "source": [
    "test.head()"
   ]
  },
  {
   "cell_type": "code",
   "execution_count": 93,
   "metadata": {
    "_cell_guid": "9f746ecd-04c5-4fac-a7e2-14335ee6723d",
    "_uuid": "137043b16742738d97ff3d0a0d772921030aa48b",
    "execution": {
     "iopub.execute_input": "2022-07-19T19:28:03.313287Z",
     "iopub.status.busy": "2022-07-19T19:28:03.312035Z",
     "iopub.status.idle": "2022-07-19T19:28:03.410334Z",
     "shell.execute_reply": "2022-07-19T19:28:03.409562Z"
    },
    "papermill": {
     "duration": 0.260245,
     "end_time": "2022-07-19T19:28:03.410476",
     "exception": false,
     "start_time": "2022-07-19T19:28:03.150231",
     "status": "completed"
    },
    "tags": []
   },
   "outputs": [],
   "source": [
    "submission = pd.DataFrame({\n",
    "        \"PassengerId\": test[\"PassengerId\"],\n",
    "        \"Survived\": y_pred_random_forest\n",
    "    })\n",
    "\n",
    "submission.to_csv('gender_submission.csv', index=False)"
   ]
  },
  {
   "cell_type": "markdown",
   "metadata": {
    "papermill": {
     "duration": 0.157697,
     "end_time": "2022-07-19T19:28:03.727153",
     "exception": false,
     "start_time": "2022-07-19T19:28:03.569456",
     "status": "completed"
    },
    "tags": []
   },
   "source": [
    "to know more about how to Evaluate a ML model performance read this article: <br>\n",
    "https://towardsdatascience.com/how-to-evaluate-machine-learning-model-performance-in-python-135b4ae27f7e\n",
    "<br><br>\n",
    "Read my other notebooks at: <br>\n",
    "https://www.kaggle.com/blurredmachine/notebooks"
   ]
  },
  {
   "cell_type": "markdown",
   "metadata": {
    "papermill": {
     "duration": 0.157398,
     "end_time": "2022-07-19T19:28:04.041691",
     "exception": false,
     "start_time": "2022-07-19T19:28:03.884293",
     "status": "completed"
    },
    "tags": []
   },
   "source": [
    "I hope you like it. <br>I am continuously working on this notebook to keep it updated with new features and easy approaches for beginners to understand the concepts easily."
   ]
  }
 ],
 "metadata": {
  "kernelspec": {
   "display_name": "Python 3",
   "language": "python",
   "name": "python3"
  },
  "language_info": {
   "codemirror_mode": {
    "name": "ipython",
    "version": 3
   },
   "file_extension": ".py",
   "mimetype": "text/x-python",
   "name": "python",
   "nbconvert_exporter": "python",
   "pygments_lexer": "ipython3",
   "version": "3.7.6"
  },
  "papermill": {
   "duration": 60.32068,
   "end_time": "2022-07-19T19:28:04.305872",
   "environment_variables": {},
   "exception": null,
   "input_path": "__notebook__.ipynb",
   "output_path": "__notebook__.ipynb",
   "parameters": {},
   "start_time": "2022-07-19T19:27:03.985192",
   "version": "2.1.0"
  }
 },
 "nbformat": 4,
 "nbformat_minor": 4
}
