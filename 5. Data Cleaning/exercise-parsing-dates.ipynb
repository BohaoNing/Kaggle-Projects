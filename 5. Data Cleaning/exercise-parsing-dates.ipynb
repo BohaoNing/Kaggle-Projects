{
 "cells": [
  {
   "cell_type": "markdown",
   "id": "e8482abf",
   "metadata": {
    "papermill": {
     "duration": 0.008862,
     "end_time": "2022-08-16T01:53:08.926782",
     "exception": false,
     "start_time": "2022-08-16T01:53:08.917920",
     "status": "completed"
    },
    "tags": []
   },
   "source": [
    "**This notebook is an exercise in the [Data Cleaning](https://www.kaggle.com/learn/data-cleaning) course.  You can reference the tutorial at [this link](https://www.kaggle.com/alexisbcook/parsing-dates).**\n",
    "\n",
    "---\n"
   ]
  },
  {
   "cell_type": "markdown",
   "id": "4bcbdf72",
   "metadata": {
    "papermill": {
     "duration": 0.006983,
     "end_time": "2022-08-16T01:53:08.941680",
     "exception": false,
     "start_time": "2022-08-16T01:53:08.934697",
     "status": "completed"
    },
    "tags": []
   },
   "source": [
    "In this exercise, you'll apply what you learned in the **Parsing dates** tutorial.\n",
    "\n",
    "# Setup\n",
    "\n",
    "The questions below will give you feedback on your work. Run the following cell to set up the feedback system."
   ]
  },
  {
   "cell_type": "code",
   "execution_count": 1,
   "id": "ff89259a",
   "metadata": {
    "execution": {
     "iopub.execute_input": "2022-08-16T01:53:08.958514Z",
     "iopub.status.busy": "2022-08-16T01:53:08.957743Z",
     "iopub.status.idle": "2022-08-16T01:53:10.308751Z",
     "shell.execute_reply": "2022-08-16T01:53:10.307605Z"
    },
    "papermill": {
     "duration": 1.362695,
     "end_time": "2022-08-16T01:53:10.311657",
     "exception": false,
     "start_time": "2022-08-16T01:53:08.948962",
     "status": "completed"
    },
    "tags": []
   },
   "outputs": [
    {
     "name": "stdout",
     "output_type": "stream",
     "text": [
      "Setup Complete\n"
     ]
    }
   ],
   "source": [
    "from learntools.core import binder\n",
    "binder.bind(globals())\n",
    "from learntools.data_cleaning.ex3 import *\n",
    "print(\"Setup Complete\")"
   ]
  },
  {
   "cell_type": "markdown",
   "id": "55e80d7b",
   "metadata": {
    "papermill": {
     "duration": 0.007188,
     "end_time": "2022-08-16T01:53:10.326875",
     "exception": false,
     "start_time": "2022-08-16T01:53:10.319687",
     "status": "completed"
    },
    "tags": []
   },
   "source": [
    "# Get our environment set up\n",
    "\n",
    "The first thing we'll need to do is load in the libraries and dataset we'll be using. We'll be working with a dataset containing information on earthquakes that occured between 1965 and 2016."
   ]
  },
  {
   "cell_type": "code",
   "execution_count": 2,
   "id": "fff5b63f",
   "metadata": {
    "execution": {
     "iopub.execute_input": "2022-08-16T01:53:10.344555Z",
     "iopub.status.busy": "2022-08-16T01:53:10.343805Z",
     "iopub.status.idle": "2022-08-16T01:53:10.426655Z",
     "shell.execute_reply": "2022-08-16T01:53:10.425680Z"
    },
    "papermill": {
     "duration": 0.094437,
     "end_time": "2022-08-16T01:53:10.429252",
     "exception": false,
     "start_time": "2022-08-16T01:53:10.334815",
     "status": "completed"
    },
    "tags": []
   },
   "outputs": [],
   "source": [
    "# modules we'll use\n",
    "import pandas as pd\n",
    "import numpy as np\n",
    "import seaborn as sns\n",
    "import datetime\n",
    "\n",
    "# read in our data\n",
    "earthquakes = pd.read_csv(\"../input/earthquake-database/database.csv\")\n",
    "\n",
    "# set seed for reproducibility\n",
    "np.random.seed(0)"
   ]
  },
  {
   "cell_type": "markdown",
   "id": "1fcbca76",
   "metadata": {
    "papermill": {
     "duration": 0.007094,
     "end_time": "2022-08-16T01:53:10.444242",
     "exception": false,
     "start_time": "2022-08-16T01:53:10.437148",
     "status": "completed"
    },
    "tags": []
   },
   "source": [
    "# 1) Check the data type of our date column\n",
    "\n",
    "You'll be working with the \"Date\" column from the `earthquakes` dataframe.  Investigate this column now: does it look like it contains dates?  What is the dtype of the column?"
   ]
  },
  {
   "cell_type": "code",
   "execution_count": 3,
   "id": "4c404468",
   "metadata": {
    "execution": {
     "iopub.execute_input": "2022-08-16T01:53:10.461273Z",
     "iopub.status.busy": "2022-08-16T01:53:10.459939Z",
     "iopub.status.idle": "2022-08-16T01:53:10.469923Z",
     "shell.execute_reply": "2022-08-16T01:53:10.468781Z"
    },
    "papermill": {
     "duration": 0.020666,
     "end_time": "2022-08-16T01:53:10.472138",
     "exception": false,
     "start_time": "2022-08-16T01:53:10.451472",
     "status": "completed"
    },
    "tags": []
   },
   "outputs": [
    {
     "data": {
      "text/plain": [
       "dtype('O')"
      ]
     },
     "execution_count": 3,
     "metadata": {},
     "output_type": "execute_result"
    }
   ],
   "source": [
    "# TODO: Your code here!\n",
    "earthquakes.Date.dtype"
   ]
  },
  {
   "cell_type": "markdown",
   "id": "00a99ed6",
   "metadata": {
    "papermill": {
     "duration": 0.007107,
     "end_time": "2022-08-16T01:53:10.487707",
     "exception": false,
     "start_time": "2022-08-16T01:53:10.480600",
     "status": "completed"
    },
    "tags": []
   },
   "source": [
    "Once you have answered the question above, run the code cell below to get credit for your work."
   ]
  },
  {
   "cell_type": "code",
   "execution_count": 4,
   "id": "db86c649",
   "metadata": {
    "execution": {
     "iopub.execute_input": "2022-08-16T01:53:10.505225Z",
     "iopub.status.busy": "2022-08-16T01:53:10.504374Z",
     "iopub.status.idle": "2022-08-16T01:53:10.513596Z",
     "shell.execute_reply": "2022-08-16T01:53:10.512413Z"
    },
    "papermill": {
     "duration": 0.020545,
     "end_time": "2022-08-16T01:53:10.515742",
     "exception": false,
     "start_time": "2022-08-16T01:53:10.495197",
     "status": "completed"
    },
    "tags": []
   },
   "outputs": [
    {
     "data": {
      "application/javascript": [
       "parent.postMessage({\"jupyterEvent\": \"custom.exercise_interaction\", \"data\": {\"outcomeType\": 1, \"valueTowardsCompletion\": 0.25, \"interactionType\": 1, \"questionType\": 4, \"questionId\": \"1_CheckDtype\", \"learnToolsVersion\": \"0.3.4\", \"failureMessage\": \"\", \"exceptionClass\": \"\", \"trace\": \"\"}}, \"*\")"
      ],
      "text/plain": [
       "<IPython.core.display.Javascript object>"
      ]
     },
     "metadata": {},
     "output_type": "display_data"
    },
    {
     "data": {
      "text/markdown": [
       "<span style=\"color:#33cc33\">Correct:</span> \n",
       "\n",
       "The \"Date\" column in the `earthquakes` DataFrame does have dates.  The dtype is \"object\"."
      ],
      "text/plain": [
       "Correct: \n",
       "\n",
       "The \"Date\" column in the `earthquakes` DataFrame does have dates.  The dtype is \"object\"."
      ]
     },
     "metadata": {},
     "output_type": "display_data"
    }
   ],
   "source": [
    "# Check your answer (Run this code cell to receive credit!)\n",
    "q1.check()"
   ]
  },
  {
   "cell_type": "code",
   "execution_count": 5,
   "id": "6113ba6f",
   "metadata": {
    "execution": {
     "iopub.execute_input": "2022-08-16T01:53:10.532689Z",
     "iopub.status.busy": "2022-08-16T01:53:10.532247Z",
     "iopub.status.idle": "2022-08-16T01:53:10.537126Z",
     "shell.execute_reply": "2022-08-16T01:53:10.535994Z"
    },
    "papermill": {
     "duration": 0.016119,
     "end_time": "2022-08-16T01:53:10.539477",
     "exception": false,
     "start_time": "2022-08-16T01:53:10.523358",
     "status": "completed"
    },
    "tags": []
   },
   "outputs": [],
   "source": [
    "# Line below will give you a hint\n",
    "# q1.hint()"
   ]
  },
  {
   "cell_type": "markdown",
   "id": "b453d789",
   "metadata": {
    "papermill": {
     "duration": 0.007532,
     "end_time": "2022-08-16T01:53:10.555049",
     "exception": false,
     "start_time": "2022-08-16T01:53:10.547517",
     "status": "completed"
    },
    "tags": []
   },
   "source": [
    "# 2) Convert our date columns to datetime\n",
    "\n",
    "Most of the entries in the \"Date\" column follow the same format: \"month/day/four-digit year\".  However, the entry at index 3378 follows a completely different pattern.  Run the code cell below to see this."
   ]
  },
  {
   "cell_type": "code",
   "execution_count": 6,
   "id": "ac935360",
   "metadata": {
    "execution": {
     "iopub.execute_input": "2022-08-16T01:53:10.572659Z",
     "iopub.status.busy": "2022-08-16T01:53:10.572226Z",
     "iopub.status.idle": "2022-08-16T01:53:10.606610Z",
     "shell.execute_reply": "2022-08-16T01:53:10.605773Z"
    },
    "papermill": {
     "duration": 0.045953,
     "end_time": "2022-08-16T01:53:10.608772",
     "exception": false,
     "start_time": "2022-08-16T01:53:10.562819",
     "status": "completed"
    },
    "tags": []
   },
   "outputs": [
    {
     "data": {
      "text/html": [
       "<div>\n",
       "<style scoped>\n",
       "    .dataframe tbody tr th:only-of-type {\n",
       "        vertical-align: middle;\n",
       "    }\n",
       "\n",
       "    .dataframe tbody tr th {\n",
       "        vertical-align: top;\n",
       "    }\n",
       "\n",
       "    .dataframe thead th {\n",
       "        text-align: right;\n",
       "    }\n",
       "</style>\n",
       "<table border=\"1\" class=\"dataframe\">\n",
       "  <thead>\n",
       "    <tr style=\"text-align: right;\">\n",
       "      <th></th>\n",
       "      <th>Date</th>\n",
       "      <th>Time</th>\n",
       "      <th>Latitude</th>\n",
       "      <th>Longitude</th>\n",
       "      <th>Type</th>\n",
       "      <th>Depth</th>\n",
       "      <th>Depth Error</th>\n",
       "      <th>Depth Seismic Stations</th>\n",
       "      <th>Magnitude</th>\n",
       "      <th>Magnitude Type</th>\n",
       "      <th>...</th>\n",
       "      <th>Magnitude Seismic Stations</th>\n",
       "      <th>Azimuthal Gap</th>\n",
       "      <th>Horizontal Distance</th>\n",
       "      <th>Horizontal Error</th>\n",
       "      <th>Root Mean Square</th>\n",
       "      <th>ID</th>\n",
       "      <th>Source</th>\n",
       "      <th>Location Source</th>\n",
       "      <th>Magnitude Source</th>\n",
       "      <th>Status</th>\n",
       "    </tr>\n",
       "  </thead>\n",
       "  <tbody>\n",
       "    <tr>\n",
       "      <th>3378</th>\n",
       "      <td>1975-02-23T02:58:41.000Z</td>\n",
       "      <td>1975-02-23T02:58:41.000Z</td>\n",
       "      <td>8.017</td>\n",
       "      <td>124.075</td>\n",
       "      <td>Earthquake</td>\n",
       "      <td>623.0</td>\n",
       "      <td>NaN</td>\n",
       "      <td>NaN</td>\n",
       "      <td>5.6</td>\n",
       "      <td>MB</td>\n",
       "      <td>...</td>\n",
       "      <td>NaN</td>\n",
       "      <td>NaN</td>\n",
       "      <td>NaN</td>\n",
       "      <td>NaN</td>\n",
       "      <td>NaN</td>\n",
       "      <td>USP0000A09</td>\n",
       "      <td>US</td>\n",
       "      <td>US</td>\n",
       "      <td>US</td>\n",
       "      <td>Reviewed</td>\n",
       "    </tr>\n",
       "    <tr>\n",
       "      <th>3379</th>\n",
       "      <td>02/23/1975</td>\n",
       "      <td>03:53:36</td>\n",
       "      <td>-21.727</td>\n",
       "      <td>-71.356</td>\n",
       "      <td>Earthquake</td>\n",
       "      <td>33.0</td>\n",
       "      <td>NaN</td>\n",
       "      <td>NaN</td>\n",
       "      <td>5.6</td>\n",
       "      <td>MB</td>\n",
       "      <td>...</td>\n",
       "      <td>NaN</td>\n",
       "      <td>NaN</td>\n",
       "      <td>NaN</td>\n",
       "      <td>NaN</td>\n",
       "      <td>NaN</td>\n",
       "      <td>USP0000A0A</td>\n",
       "      <td>US</td>\n",
       "      <td>US</td>\n",
       "      <td>US</td>\n",
       "      <td>Reviewed</td>\n",
       "    </tr>\n",
       "    <tr>\n",
       "      <th>3380</th>\n",
       "      <td>02/23/1975</td>\n",
       "      <td>07:34:11</td>\n",
       "      <td>-10.879</td>\n",
       "      <td>166.667</td>\n",
       "      <td>Earthquake</td>\n",
       "      <td>33.0</td>\n",
       "      <td>NaN</td>\n",
       "      <td>NaN</td>\n",
       "      <td>5.5</td>\n",
       "      <td>MS</td>\n",
       "      <td>...</td>\n",
       "      <td>NaN</td>\n",
       "      <td>NaN</td>\n",
       "      <td>NaN</td>\n",
       "      <td>NaN</td>\n",
       "      <td>NaN</td>\n",
       "      <td>USP0000A0C</td>\n",
       "      <td>US</td>\n",
       "      <td>US</td>\n",
       "      <td>US</td>\n",
       "      <td>Reviewed</td>\n",
       "    </tr>\n",
       "    <tr>\n",
       "      <th>3381</th>\n",
       "      <td>02/25/1975</td>\n",
       "      <td>05:20:05</td>\n",
       "      <td>-7.388</td>\n",
       "      <td>149.798</td>\n",
       "      <td>Earthquake</td>\n",
       "      <td>33.0</td>\n",
       "      <td>NaN</td>\n",
       "      <td>NaN</td>\n",
       "      <td>5.5</td>\n",
       "      <td>MB</td>\n",
       "      <td>...</td>\n",
       "      <td>NaN</td>\n",
       "      <td>NaN</td>\n",
       "      <td>NaN</td>\n",
       "      <td>NaN</td>\n",
       "      <td>NaN</td>\n",
       "      <td>USP0000A12</td>\n",
       "      <td>US</td>\n",
       "      <td>US</td>\n",
       "      <td>US</td>\n",
       "      <td>Reviewed</td>\n",
       "    </tr>\n",
       "    <tr>\n",
       "      <th>3382</th>\n",
       "      <td>02/26/1975</td>\n",
       "      <td>04:48:55</td>\n",
       "      <td>85.047</td>\n",
       "      <td>97.969</td>\n",
       "      <td>Earthquake</td>\n",
       "      <td>33.0</td>\n",
       "      <td>NaN</td>\n",
       "      <td>NaN</td>\n",
       "      <td>5.6</td>\n",
       "      <td>MS</td>\n",
       "      <td>...</td>\n",
       "      <td>NaN</td>\n",
       "      <td>NaN</td>\n",
       "      <td>NaN</td>\n",
       "      <td>NaN</td>\n",
       "      <td>NaN</td>\n",
       "      <td>USP0000A1H</td>\n",
       "      <td>US</td>\n",
       "      <td>US</td>\n",
       "      <td>US</td>\n",
       "      <td>Reviewed</td>\n",
       "    </tr>\n",
       "  </tbody>\n",
       "</table>\n",
       "<p>5 rows × 21 columns</p>\n",
       "</div>"
      ],
      "text/plain": [
       "                          Date                      Time  Latitude  Longitude  \\\n",
       "3378  1975-02-23T02:58:41.000Z  1975-02-23T02:58:41.000Z     8.017    124.075   \n",
       "3379                02/23/1975                  03:53:36   -21.727    -71.356   \n",
       "3380                02/23/1975                  07:34:11   -10.879    166.667   \n",
       "3381                02/25/1975                  05:20:05    -7.388    149.798   \n",
       "3382                02/26/1975                  04:48:55    85.047     97.969   \n",
       "\n",
       "            Type  Depth  Depth Error  Depth Seismic Stations  Magnitude  \\\n",
       "3378  Earthquake  623.0          NaN                     NaN        5.6   \n",
       "3379  Earthquake   33.0          NaN                     NaN        5.6   \n",
       "3380  Earthquake   33.0          NaN                     NaN        5.5   \n",
       "3381  Earthquake   33.0          NaN                     NaN        5.5   \n",
       "3382  Earthquake   33.0          NaN                     NaN        5.6   \n",
       "\n",
       "     Magnitude Type  ...  Magnitude Seismic Stations  Azimuthal Gap  \\\n",
       "3378             MB  ...                         NaN            NaN   \n",
       "3379             MB  ...                         NaN            NaN   \n",
       "3380             MS  ...                         NaN            NaN   \n",
       "3381             MB  ...                         NaN            NaN   \n",
       "3382             MS  ...                         NaN            NaN   \n",
       "\n",
       "      Horizontal Distance  Horizontal Error  Root Mean Square          ID  \\\n",
       "3378                  NaN               NaN               NaN  USP0000A09   \n",
       "3379                  NaN               NaN               NaN  USP0000A0A   \n",
       "3380                  NaN               NaN               NaN  USP0000A0C   \n",
       "3381                  NaN               NaN               NaN  USP0000A12   \n",
       "3382                  NaN               NaN               NaN  USP0000A1H   \n",
       "\n",
       "     Source Location Source Magnitude Source    Status  \n",
       "3378     US              US               US  Reviewed  \n",
       "3379     US              US               US  Reviewed  \n",
       "3380     US              US               US  Reviewed  \n",
       "3381     US              US               US  Reviewed  \n",
       "3382     US              US               US  Reviewed  \n",
       "\n",
       "[5 rows x 21 columns]"
      ]
     },
     "execution_count": 6,
     "metadata": {},
     "output_type": "execute_result"
    }
   ],
   "source": [
    "earthquakes[3378:3383]"
   ]
  },
  {
   "cell_type": "markdown",
   "id": "3675afca",
   "metadata": {
    "papermill": {
     "duration": 0.008147,
     "end_time": "2022-08-16T01:53:10.625303",
     "exception": false,
     "start_time": "2022-08-16T01:53:10.617156",
     "status": "completed"
    },
    "tags": []
   },
   "source": [
    "This does appear to be an issue with data entry: ideally, all entries in the column have the same format.  We can get an idea of how widespread this issue is by checking the length of each entry in the \"Date\" column."
   ]
  },
  {
   "cell_type": "code",
   "execution_count": 7,
   "id": "0c17f965",
   "metadata": {
    "execution": {
     "iopub.execute_input": "2022-08-16T01:53:10.643314Z",
     "iopub.status.busy": "2022-08-16T01:53:10.642864Z",
     "iopub.status.idle": "2022-08-16T01:53:10.663793Z",
     "shell.execute_reply": "2022-08-16T01:53:10.662628Z"
    },
    "papermill": {
     "duration": 0.033315,
     "end_time": "2022-08-16T01:53:10.666752",
     "exception": false,
     "start_time": "2022-08-16T01:53:10.633437",
     "status": "completed"
    },
    "tags": []
   },
   "outputs": [
    {
     "data": {
      "text/plain": [
       "10    23409\n",
       "24        3\n",
       "Name: Date, dtype: int64"
      ]
     },
     "execution_count": 7,
     "metadata": {},
     "output_type": "execute_result"
    }
   ],
   "source": [
    "date_lengths = earthquakes.Date.str.len()\n",
    "date_lengths.value_counts()"
   ]
  },
  {
   "cell_type": "code",
   "execution_count": 8,
   "id": "877620f8",
   "metadata": {
    "execution": {
     "iopub.execute_input": "2022-08-16T01:53:10.685972Z",
     "iopub.status.busy": "2022-08-16T01:53:10.685582Z",
     "iopub.status.idle": "2022-08-16T01:53:10.703179Z",
     "shell.execute_reply": "2022-08-16T01:53:10.702295Z"
    },
    "papermill": {
     "duration": 0.029438,
     "end_time": "2022-08-16T01:53:10.705277",
     "exception": false,
     "start_time": "2022-08-16T01:53:10.675839",
     "status": "completed"
    },
    "tags": []
   },
   "outputs": [
    {
     "data": {
      "text/plain": [
       "8     23409\n",
       "24        3\n",
       "Name: Time, dtype: int64"
      ]
     },
     "execution_count": 8,
     "metadata": {},
     "output_type": "execute_result"
    }
   ],
   "source": [
    "date_lengths = earthquakes.Time.str.len()\n",
    "date_lengths.value_counts()"
   ]
  },
  {
   "cell_type": "markdown",
   "id": "191b22be",
   "metadata": {
    "papermill": {
     "duration": 0.007919,
     "end_time": "2022-08-16T01:53:10.721554",
     "exception": false,
     "start_time": "2022-08-16T01:53:10.713635",
     "status": "completed"
    },
    "tags": []
   },
   "source": [
    "Looks like there are two more rows that has a date in a different format.  Run the code cell below to obtain the indices corresponding to those rows and print the data."
   ]
  },
  {
   "cell_type": "code",
   "execution_count": 9,
   "id": "556f81b7",
   "metadata": {
    "execution": {
     "iopub.execute_input": "2022-08-16T01:53:10.740502Z",
     "iopub.status.busy": "2022-08-16T01:53:10.739754Z",
     "iopub.status.idle": "2022-08-16T01:53:10.767750Z",
     "shell.execute_reply": "2022-08-16T01:53:10.766814Z"
    },
    "papermill": {
     "duration": 0.039798,
     "end_time": "2022-08-16T01:53:10.769733",
     "exception": false,
     "start_time": "2022-08-16T01:53:10.729935",
     "status": "completed"
    },
    "tags": []
   },
   "outputs": [
    {
     "name": "stdout",
     "output_type": "stream",
     "text": [
      "Indices with corrupted data: [ 3378  7512 20650]\n"
     ]
    },
    {
     "data": {
      "text/html": [
       "<div>\n",
       "<style scoped>\n",
       "    .dataframe tbody tr th:only-of-type {\n",
       "        vertical-align: middle;\n",
       "    }\n",
       "\n",
       "    .dataframe tbody tr th {\n",
       "        vertical-align: top;\n",
       "    }\n",
       "\n",
       "    .dataframe thead th {\n",
       "        text-align: right;\n",
       "    }\n",
       "</style>\n",
       "<table border=\"1\" class=\"dataframe\">\n",
       "  <thead>\n",
       "    <tr style=\"text-align: right;\">\n",
       "      <th></th>\n",
       "      <th>Date</th>\n",
       "      <th>Time</th>\n",
       "      <th>Latitude</th>\n",
       "      <th>Longitude</th>\n",
       "      <th>Type</th>\n",
       "      <th>Depth</th>\n",
       "      <th>Depth Error</th>\n",
       "      <th>Depth Seismic Stations</th>\n",
       "      <th>Magnitude</th>\n",
       "      <th>Magnitude Type</th>\n",
       "      <th>...</th>\n",
       "      <th>Magnitude Seismic Stations</th>\n",
       "      <th>Azimuthal Gap</th>\n",
       "      <th>Horizontal Distance</th>\n",
       "      <th>Horizontal Error</th>\n",
       "      <th>Root Mean Square</th>\n",
       "      <th>ID</th>\n",
       "      <th>Source</th>\n",
       "      <th>Location Source</th>\n",
       "      <th>Magnitude Source</th>\n",
       "      <th>Status</th>\n",
       "    </tr>\n",
       "  </thead>\n",
       "  <tbody>\n",
       "    <tr>\n",
       "      <th>3378</th>\n",
       "      <td>1975-02-23T02:58:41.000Z</td>\n",
       "      <td>1975-02-23T02:58:41.000Z</td>\n",
       "      <td>8.017</td>\n",
       "      <td>124.075</td>\n",
       "      <td>Earthquake</td>\n",
       "      <td>623.0</td>\n",
       "      <td>NaN</td>\n",
       "      <td>NaN</td>\n",
       "      <td>5.6</td>\n",
       "      <td>MB</td>\n",
       "      <td>...</td>\n",
       "      <td>NaN</td>\n",
       "      <td>NaN</td>\n",
       "      <td>NaN</td>\n",
       "      <td>NaN</td>\n",
       "      <td>NaN</td>\n",
       "      <td>USP0000A09</td>\n",
       "      <td>US</td>\n",
       "      <td>US</td>\n",
       "      <td>US</td>\n",
       "      <td>Reviewed</td>\n",
       "    </tr>\n",
       "    <tr>\n",
       "      <th>7512</th>\n",
       "      <td>1985-04-28T02:53:41.530Z</td>\n",
       "      <td>1985-04-28T02:53:41.530Z</td>\n",
       "      <td>-32.998</td>\n",
       "      <td>-71.766</td>\n",
       "      <td>Earthquake</td>\n",
       "      <td>33.0</td>\n",
       "      <td>NaN</td>\n",
       "      <td>NaN</td>\n",
       "      <td>5.6</td>\n",
       "      <td>MW</td>\n",
       "      <td>...</td>\n",
       "      <td>NaN</td>\n",
       "      <td>NaN</td>\n",
       "      <td>NaN</td>\n",
       "      <td>NaN</td>\n",
       "      <td>1.30</td>\n",
       "      <td>USP0002E81</td>\n",
       "      <td>US</td>\n",
       "      <td>US</td>\n",
       "      <td>HRV</td>\n",
       "      <td>Reviewed</td>\n",
       "    </tr>\n",
       "    <tr>\n",
       "      <th>20650</th>\n",
       "      <td>2011-03-13T02:23:34.520Z</td>\n",
       "      <td>2011-03-13T02:23:34.520Z</td>\n",
       "      <td>36.344</td>\n",
       "      <td>142.344</td>\n",
       "      <td>Earthquake</td>\n",
       "      <td>10.1</td>\n",
       "      <td>13.9</td>\n",
       "      <td>289.0</td>\n",
       "      <td>5.8</td>\n",
       "      <td>MWC</td>\n",
       "      <td>...</td>\n",
       "      <td>NaN</td>\n",
       "      <td>32.3</td>\n",
       "      <td>NaN</td>\n",
       "      <td>NaN</td>\n",
       "      <td>1.06</td>\n",
       "      <td>USP000HWQP</td>\n",
       "      <td>US</td>\n",
       "      <td>US</td>\n",
       "      <td>GCMT</td>\n",
       "      <td>Reviewed</td>\n",
       "    </tr>\n",
       "  </tbody>\n",
       "</table>\n",
       "<p>3 rows × 21 columns</p>\n",
       "</div>"
      ],
      "text/plain": [
       "                           Date                      Time  Latitude  \\\n",
       "3378   1975-02-23T02:58:41.000Z  1975-02-23T02:58:41.000Z     8.017   \n",
       "7512   1985-04-28T02:53:41.530Z  1985-04-28T02:53:41.530Z   -32.998   \n",
       "20650  2011-03-13T02:23:34.520Z  2011-03-13T02:23:34.520Z    36.344   \n",
       "\n",
       "       Longitude        Type  Depth  Depth Error  Depth Seismic Stations  \\\n",
       "3378     124.075  Earthquake  623.0          NaN                     NaN   \n",
       "7512     -71.766  Earthquake   33.0          NaN                     NaN   \n",
       "20650    142.344  Earthquake   10.1         13.9                   289.0   \n",
       "\n",
       "       Magnitude Magnitude Type  ...  Magnitude Seismic Stations  \\\n",
       "3378         5.6             MB  ...                         NaN   \n",
       "7512         5.6             MW  ...                         NaN   \n",
       "20650        5.8            MWC  ...                         NaN   \n",
       "\n",
       "       Azimuthal Gap  Horizontal Distance  Horizontal Error  Root Mean Square  \\\n",
       "3378             NaN                  NaN               NaN               NaN   \n",
       "7512             NaN                  NaN               NaN              1.30   \n",
       "20650           32.3                  NaN               NaN              1.06   \n",
       "\n",
       "               ID Source Location Source Magnitude Source    Status  \n",
       "3378   USP0000A09     US              US               US  Reviewed  \n",
       "7512   USP0002E81     US              US              HRV  Reviewed  \n",
       "20650  USP000HWQP     US              US             GCMT  Reviewed  \n",
       "\n",
       "[3 rows x 21 columns]"
      ]
     },
     "execution_count": 9,
     "metadata": {},
     "output_type": "execute_result"
    }
   ],
   "source": [
    "indices = np.where([date_lengths == 24])[1]\n",
    "print('Indices with corrupted data:', indices)\n",
    "earthquakes.loc[indices]"
   ]
  },
  {
   "cell_type": "markdown",
   "id": "12fdccc2",
   "metadata": {
    "papermill": {
     "duration": 0.00837,
     "end_time": "2022-08-16T01:53:10.786923",
     "exception": false,
     "start_time": "2022-08-16T01:53:10.778553",
     "status": "completed"
    },
    "tags": []
   },
   "source": [
    "Given all of this information, it's your turn to create a new column \"date_parsed\" in the `earthquakes` dataset that has correctly parsed dates in it.  \n",
    "\n",
    "**Note**: When completing this problem, you are allowed to (but are not required to) amend the entries in the \"Date\" and \"Time\" columns.  Do not remove any rows from the dataset."
   ]
  },
  {
   "cell_type": "code",
   "execution_count": 10,
   "id": "bb6ed9e8",
   "metadata": {
    "execution": {
     "iopub.execute_input": "2022-08-16T01:53:10.806373Z",
     "iopub.status.busy": "2022-08-16T01:53:10.805579Z",
     "iopub.status.idle": "2022-08-16T01:53:10.818757Z",
     "shell.execute_reply": "2022-08-16T01:53:10.816673Z"
    },
    "papermill": {
     "duration": 0.026794,
     "end_time": "2022-08-16T01:53:10.822282",
     "exception": false,
     "start_time": "2022-08-16T01:53:10.795488",
     "status": "completed"
    },
    "tags": []
   },
   "outputs": [
    {
     "name": "stderr",
     "output_type": "stream",
     "text": [
      "/opt/conda/lib/python3.7/site-packages/pandas/core/indexing.py:1732: SettingWithCopyWarning: \n",
      "A value is trying to be set on a copy of a slice from a DataFrame\n",
      "\n",
      "See the caveats in the documentation: https://pandas.pydata.org/pandas-docs/stable/user_guide/indexing.html#returning-a-view-versus-a-copy\n",
      "  self._setitem_single_block(indexer, value, name)\n"
     ]
    }
   ],
   "source": [
    "# TODO: Your code here\n",
    "earthquakes.Date.loc[3378] = '02/23/1975'\n",
    "earthquakes.Date.loc[7512] = '04/28/1985'\n",
    "earthquakes.Date.loc[20650] = '03/13/2011'"
   ]
  },
  {
   "cell_type": "code",
   "execution_count": 11,
   "id": "93736293",
   "metadata": {
    "execution": {
     "iopub.execute_input": "2022-08-16T01:53:10.842372Z",
     "iopub.status.busy": "2022-08-16T01:53:10.841973Z",
     "iopub.status.idle": "2022-08-16T01:53:10.882884Z",
     "shell.execute_reply": "2022-08-16T01:53:10.881985Z"
    },
    "papermill": {
     "duration": 0.05415,
     "end_time": "2022-08-16T01:53:10.885443",
     "exception": false,
     "start_time": "2022-08-16T01:53:10.831293",
     "status": "completed"
    },
    "tags": []
   },
   "outputs": [],
   "source": [
    "earthquakes['date_parsed'] = pd.to_datetime(earthquakes['Date'], format=\"%m/%d/%Y\")"
   ]
  },
  {
   "cell_type": "code",
   "execution_count": 12,
   "id": "c540d06e",
   "metadata": {
    "execution": {
     "iopub.execute_input": "2022-08-16T01:53:10.905208Z",
     "iopub.status.busy": "2022-08-16T01:53:10.904555Z",
     "iopub.status.idle": "2022-08-16T01:53:10.917690Z",
     "shell.execute_reply": "2022-08-16T01:53:10.916185Z"
    },
    "papermill": {
     "duration": 0.026374,
     "end_time": "2022-08-16T01:53:10.920690",
     "exception": false,
     "start_time": "2022-08-16T01:53:10.894316",
     "status": "completed"
    },
    "tags": []
   },
   "outputs": [
    {
     "data": {
      "application/javascript": [
       "parent.postMessage({\"jupyterEvent\": \"custom.exercise_interaction\", \"data\": {\"outcomeType\": 1, \"valueTowardsCompletion\": 0.25, \"interactionType\": 1, \"questionType\": 2, \"questionId\": \"2_ConvertToDatetime\", \"learnToolsVersion\": \"0.3.4\", \"failureMessage\": \"\", \"exceptionClass\": \"\", \"trace\": \"\"}}, \"*\")"
      ],
      "text/plain": [
       "<IPython.core.display.Javascript object>"
      ]
     },
     "metadata": {},
     "output_type": "display_data"
    },
    {
     "data": {
      "text/markdown": [
       "<span style=\"color:#33cc33\">Correct</span>"
      ],
      "text/plain": [
       "Correct"
      ]
     },
     "metadata": {},
     "output_type": "display_data"
    }
   ],
   "source": [
    "# Check your answer\n",
    "q2.check()"
   ]
  },
  {
   "cell_type": "code",
   "execution_count": 13,
   "id": "52a54644",
   "metadata": {
    "execution": {
     "iopub.execute_input": "2022-08-16T01:53:10.941149Z",
     "iopub.status.busy": "2022-08-16T01:53:10.940742Z",
     "iopub.status.idle": "2022-08-16T01:53:10.945795Z",
     "shell.execute_reply": "2022-08-16T01:53:10.944465Z"
    },
    "papermill": {
     "duration": 0.018092,
     "end_time": "2022-08-16T01:53:10.948162",
     "exception": false,
     "start_time": "2022-08-16T01:53:10.930070",
     "status": "completed"
    },
    "tags": []
   },
   "outputs": [],
   "source": [
    "# Lines below will give you a hint or solution code\n",
    "# q2.hint()\n",
    "# q2.solution()"
   ]
  },
  {
   "cell_type": "markdown",
   "id": "82d2128e",
   "metadata": {
    "papermill": {
     "duration": 0.008622,
     "end_time": "2022-08-16T01:53:10.965841",
     "exception": false,
     "start_time": "2022-08-16T01:53:10.957219",
     "status": "completed"
    },
    "tags": []
   },
   "source": [
    "# 3) Select the day of the month\n",
    "\n",
    "Create a Pandas Series `day_of_month_earthquakes` containing the day of the month from the \"date_parsed\" column."
   ]
  },
  {
   "cell_type": "code",
   "execution_count": 14,
   "id": "9734844e",
   "metadata": {
    "execution": {
     "iopub.execute_input": "2022-08-16T01:53:10.985752Z",
     "iopub.status.busy": "2022-08-16T01:53:10.985342Z",
     "iopub.status.idle": "2022-08-16T01:53:10.997088Z",
     "shell.execute_reply": "2022-08-16T01:53:10.995959Z"
    },
    "papermill": {
     "duration": 0.024667,
     "end_time": "2022-08-16T01:53:10.999485",
     "exception": false,
     "start_time": "2022-08-16T01:53:10.974818",
     "status": "completed"
    },
    "tags": []
   },
   "outputs": [
    {
     "data": {
      "application/javascript": [
       "parent.postMessage({\"jupyterEvent\": \"custom.exercise_interaction\", \"data\": {\"outcomeType\": 1, \"valueTowardsCompletion\": 0.25, \"interactionType\": 1, \"questionType\": 1, \"questionId\": \"3_DayOfMonth\", \"learnToolsVersion\": \"0.3.4\", \"failureMessage\": \"\", \"exceptionClass\": \"\", \"trace\": \"\"}}, \"*\")"
      ],
      "text/plain": [
       "<IPython.core.display.Javascript object>"
      ]
     },
     "metadata": {},
     "output_type": "display_data"
    },
    {
     "data": {
      "text/markdown": [
       "<span style=\"color:#33cc33\">Correct</span>"
      ],
      "text/plain": [
       "Correct"
      ]
     },
     "metadata": {},
     "output_type": "display_data"
    }
   ],
   "source": [
    "# try to get the day of the month from the date column\n",
    "day_of_month_earthquakes = earthquakes.date_parsed.dt.day\n",
    "\n",
    "# Check your answer\n",
    "q3.check()"
   ]
  },
  {
   "cell_type": "code",
   "execution_count": 15,
   "id": "3ce8e7c3",
   "metadata": {
    "execution": {
     "iopub.execute_input": "2022-08-16T01:53:11.020237Z",
     "iopub.status.busy": "2022-08-16T01:53:11.019823Z",
     "iopub.status.idle": "2022-08-16T01:53:11.024325Z",
     "shell.execute_reply": "2022-08-16T01:53:11.023296Z"
    },
    "papermill": {
     "duration": 0.017818,
     "end_time": "2022-08-16T01:53:11.026747",
     "exception": false,
     "start_time": "2022-08-16T01:53:11.008929",
     "status": "completed"
    },
    "tags": []
   },
   "outputs": [],
   "source": [
    "# Lines below will give you a hint or solution code\n",
    "#q3.hint()\n",
    "#q3.solution()"
   ]
  },
  {
   "cell_type": "markdown",
   "id": "8d96f318",
   "metadata": {
    "papermill": {
     "duration": 0.009417,
     "end_time": "2022-08-16T01:53:11.045605",
     "exception": false,
     "start_time": "2022-08-16T01:53:11.036188",
     "status": "completed"
    },
    "tags": []
   },
   "source": [
    "# 4) Plot the day of the month to check the date parsing\n",
    "\n",
    "Plot the days of the month from your earthquake dataset."
   ]
  },
  {
   "cell_type": "code",
   "execution_count": 16,
   "id": "35ecf783",
   "metadata": {
    "execution": {
     "iopub.execute_input": "2022-08-16T01:53:11.066680Z",
     "iopub.status.busy": "2022-08-16T01:53:11.066238Z",
     "iopub.status.idle": "2022-08-16T01:53:11.328845Z",
     "shell.execute_reply": "2022-08-16T01:53:11.327653Z"
    },
    "papermill": {
     "duration": 0.27614,
     "end_time": "2022-08-16T01:53:11.331341",
     "exception": false,
     "start_time": "2022-08-16T01:53:11.055201",
     "status": "completed"
    },
    "tags": []
   },
   "outputs": [
    {
     "data": {
      "text/plain": [
       "<AxesSubplot:ylabel='Frequency'>"
      ]
     },
     "execution_count": 16,
     "metadata": {},
     "output_type": "execute_result"
    },
    {
     "data": {
      "image/png": "[encoded data removed]",
      "text/plain": [
       "<Figure size 432x288 with 1 Axes>"
      ]
     },
     "metadata": {
      "needs_background": "light"
     },
     "output_type": "display_data"
    }
   ],
   "source": [
    "# TODO: Your code here!\n",
    "earthquakes.date_parsed.dt.day.plot(kind='hist')"
   ]
  },
  {
   "cell_type": "markdown",
   "id": "b6d1b9fe",
   "metadata": {
    "papermill": {
     "duration": 0.009115,
     "end_time": "2022-08-16T01:53:11.350132",
     "exception": false,
     "start_time": "2022-08-16T01:53:11.341017",
     "status": "completed"
    },
    "tags": []
   },
   "source": [
    "Does the graph make sense to you?"
   ]
  },
  {
   "cell_type": "code",
   "execution_count": 17,
   "id": "19e7bb5c",
   "metadata": {
    "execution": {
     "iopub.execute_input": "2022-08-16T01:53:11.371622Z",
     "iopub.status.busy": "2022-08-16T01:53:11.370580Z",
     "iopub.status.idle": "2022-08-16T01:53:11.378731Z",
     "shell.execute_reply": "2022-08-16T01:53:11.377855Z"
    },
    "papermill": {
     "duration": 0.021188,
     "end_time": "2022-08-16T01:53:11.380879",
     "exception": false,
     "start_time": "2022-08-16T01:53:11.359691",
     "status": "completed"
    },
    "tags": []
   },
   "outputs": [
    {
     "data": {
      "application/javascript": [
       "parent.postMessage({\"jupyterEvent\": \"custom.exercise_interaction\", \"data\": {\"outcomeType\": 1, \"valueTowardsCompletion\": 0.25, \"interactionType\": 1, \"questionType\": 4, \"questionId\": \"4_PlotDayOfMonth\", \"learnToolsVersion\": \"0.3.4\", \"failureMessage\": \"\", \"exceptionClass\": \"\", \"trace\": \"\"}}, \"*\")"
      ],
      "text/plain": [
       "<IPython.core.display.Javascript object>"
      ]
     },
     "metadata": {},
     "output_type": "display_data"
    },
    {
     "data": {
      "text/markdown": [
       "<span style=\"color:#33cc33\">Correct:</span> \n",
       "\n",
       "The graph should make sense: it shows a relatively even distribution in days of the month,which is what we would expect."
      ],
      "text/plain": [
       "Correct: \n",
       "\n",
       "The graph should make sense: it shows a relatively even distribution in days of the month,which is what we would expect."
      ]
     },
     "metadata": {},
     "output_type": "display_data"
    }
   ],
   "source": [
    "# Check your answer (Run this code cell to receive credit!)\n",
    "q4.check()"
   ]
  },
  {
   "cell_type": "code",
   "execution_count": 18,
   "id": "8c960498",
   "metadata": {
    "execution": {
     "iopub.execute_input": "2022-08-16T01:53:11.403069Z",
     "iopub.status.busy": "2022-08-16T01:53:11.402347Z",
     "iopub.status.idle": "2022-08-16T01:53:11.406603Z",
     "shell.execute_reply": "2022-08-16T01:53:11.405778Z"
    },
    "papermill": {
     "duration": 0.017569,
     "end_time": "2022-08-16T01:53:11.408545",
     "exception": false,
     "start_time": "2022-08-16T01:53:11.390976",
     "status": "completed"
    },
    "tags": []
   },
   "outputs": [],
   "source": [
    "# Line below will give you a hint\n",
    "#q4.hint()"
   ]
  },
  {
   "cell_type": "markdown",
   "id": "92c057c0",
   "metadata": {
    "papermill": {
     "duration": 0.009474,
     "end_time": "2022-08-16T01:53:11.428101",
     "exception": false,
     "start_time": "2022-08-16T01:53:11.418627",
     "status": "completed"
    },
    "tags": []
   },
   "source": [
    "# (Optional) Bonus Challenge\n",
    "\n",
    "For an extra challenge, you'll work with a [Smithsonian dataset](https://www.kaggle.com/smithsonian/volcanic-eruptions) that documents Earth's volcanoes and their eruptive history over the past 10,000 years \n",
    "\n",
    "Run the next code cell to load the data."
   ]
  },
  {
   "cell_type": "code",
   "execution_count": 19,
   "id": "cc65fabb",
   "metadata": {
    "collapsed": true,
    "execution": {
     "iopub.execute_input": "2022-08-16T01:53:11.450291Z",
     "iopub.status.busy": "2022-08-16T01:53:11.449535Z",
     "iopub.status.idle": "2022-08-16T01:53:11.474191Z",
     "shell.execute_reply": "2022-08-16T01:53:11.473309Z"
    },
    "jupyter": {
     "outputs_hidden": true
    },
    "papermill": {
     "duration": 0.038634,
     "end_time": "2022-08-16T01:53:11.476641",
     "exception": false,
     "start_time": "2022-08-16T01:53:11.438007",
     "status": "completed"
    },
    "tags": []
   },
   "outputs": [],
   "source": [
    "volcanos = pd.read_csv(\"../input/volcanic-eruptions/database.csv\")"
   ]
  },
  {
   "cell_type": "markdown",
   "id": "a14c3144",
   "metadata": {
    "papermill": {
     "duration": 0.009603,
     "end_time": "2022-08-16T01:53:11.496272",
     "exception": false,
     "start_time": "2022-08-16T01:53:11.486669",
     "status": "completed"
    },
    "tags": []
   },
   "source": [
    "Try parsing the column \"Last Known Eruption\" from the `volcanos` dataframe. This column contains a mixture of text (\"Unknown\") and years both before the common era (BCE, also known as BC) and in the common era (CE, also known as AD)."
   ]
  },
  {
   "cell_type": "code",
   "execution_count": 20,
   "id": "85bd6911",
   "metadata": {
    "execution": {
     "iopub.execute_input": "2022-08-16T01:53:11.518322Z",
     "iopub.status.busy": "2022-08-16T01:53:11.517610Z",
     "iopub.status.idle": "2022-08-16T01:53:11.526381Z",
     "shell.execute_reply": "2022-08-16T01:53:11.525601Z"
    },
    "papermill": {
     "duration": 0.022163,
     "end_time": "2022-08-16T01:53:11.528458",
     "exception": false,
     "start_time": "2022-08-16T01:53:11.506295",
     "status": "completed"
    },
    "tags": []
   },
   "outputs": [
    {
     "data": {
      "text/plain": [
       "764     Unknown\n",
       "1069    1996 CE\n",
       "34      1855 CE\n",
       "489     2016 CE\n",
       "9       1302 CE\n",
       "Name: Last Known Eruption, dtype: object"
      ]
     },
     "execution_count": 20,
     "metadata": {},
     "output_type": "execute_result"
    }
   ],
   "source": [
    "volcanos['Last Known Eruption'].sample(5)"
   ]
  },
  {
   "cell_type": "markdown",
   "id": "c40949d6",
   "metadata": {
    "papermill": {
     "duration": 0.009758,
     "end_time": "2022-08-16T01:53:11.548361",
     "exception": false,
     "start_time": "2022-08-16T01:53:11.538603",
     "status": "completed"
    },
    "tags": []
   },
   "source": [
    "# (Optional) More practice\n",
    "\n",
    "If you're interested in graphing time series, [check out this tutorial](https://www.kaggle.com/residentmario/time-series-plotting-optional).\n",
    "\n",
    "You can also look into passing columns that you know have dates in them  the `parse_dates` argument in `read_csv`. (The documention [is here](https://pandas.pydata.org/pandas-docs/stable/generated/pandas.read_csv.html).) Do note that this method can be very slow, but depending on your needs it may sometimes be handy to use.\n",
    "\n",
    "# Keep going\n",
    "\n",
    "In the next lesson, learn how to [**work with character encodings**](https://www.kaggle.com/alexisbcook/character-encodings)."
   ]
  },
  {
   "cell_type": "markdown",
   "id": "c295637d",
   "metadata": {
    "papermill": {
     "duration": 0.009768,
     "end_time": "2022-08-16T01:53:11.568252",
     "exception": false,
     "start_time": "2022-08-16T01:53:11.558484",
     "status": "completed"
    },
    "tags": []
   },
   "source": [
    "---\n",
    "\n",
    "\n",
    "\n",
    "\n",
    "*Have questions or comments? Visit the [course discussion forum](https://www.kaggle.com/learn/data-cleaning/discussion) to chat with other learners.*"
   ]
  }
 ],
 "metadata": {
  "kernelspec": {
   "display_name": "Python 3",
   "language": "python",
   "name": "python3"
  },
  "language_info": {
   "codemirror_mode": {
    "name": "ipython",
    "version": 3
   },
   "file_extension": ".py",
   "mimetype": "text/x-python",
   "name": "python",
   "nbconvert_exporter": "python",
   "pygments_lexer": "ipython3",
   "version": "3.7.12"
  },
  "papermill": {
   "default_parameters": {},
   "duration": 13.808494,
   "end_time": "2022-08-16T01:53:12.300438",
   "environment_variables": {},
   "exception": null,
   "input_path": "__notebook__.ipynb",
   "output_path": "__notebook__.ipynb",
   "parameters": {},
   "start_time": "2022-08-16T01:52:58.491944",
   "version": "2.3.4"
  }
 },
 "nbformat": 4,
 "nbformat_minor": 5
}
