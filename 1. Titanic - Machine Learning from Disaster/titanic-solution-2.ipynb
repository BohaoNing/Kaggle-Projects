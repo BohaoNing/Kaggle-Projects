{
 "cells": [
  {
   "cell_type": "code",
   "execution_count": 1,
   "id": "3dcc7708",
   "metadata": {
    "_cell_guid": "b1076dfc-b9ad-4769-8c92-a6c4dae69d19",
    "_uuid": "8f2839f25d086af736a60e9eeb907d3b93b6e0e5",
    "execution": {
     "iopub.execute_input": "2022-10-02T14:30:07.853002Z",
     "iopub.status.busy": "2022-10-02T14:30:07.852011Z",
     "iopub.status.idle": "2022-10-02T14:30:07.870199Z",
     "shell.execute_reply": "2022-10-02T14:30:07.868964Z"
    },
    "papermill": {
     "duration": 0.029727,
     "end_time": "2022-10-02T14:30:07.872967",
     "exception": false,
     "start_time": "2022-10-02T14:30:07.843240",
     "status": "completed"
    },
    "tags": []
   },
   "outputs": [
    {
     "name": "stdout",
     "output_type": "stream",
     "text": [
      "/kaggle/input/titanic/train.csv\n",
      "/kaggle/input/titanic/test.csv\n",
      "/kaggle/input/titanic/gender_submission.csv\n"
     ]
    }
   ],
   "source": [
    "# This Python 3 environment comes with many helpful analytics libraries installed\n",
    "# It is defined by the kaggle/python Docker image: https://github.com/kaggle/docker-python\n",
    "# For example, here's several helpful packages to load\n",
    "\n",
    "import numpy as np # linear algebra\n",
    "import pandas as pd # data processing, CSV file I/O (e.g. pd.read_csv)\n",
    "\n",
    "\n",
    "# Input data files are available in the read-only \"../input/\" directory\n",
    "# For example, running this (by clicking run or pressing Shift+Enter) will list all files under the input directory\n",
    "\n",
    "import os\n",
    "for dirname, _, filenames in os.walk('/kaggle/input'):\n",
    "    for filename in filenames:\n",
    "        print(os.path.join(dirname, filename))\n",
    "\n",
    "# You can write up to 20GB to the current directory (/kaggle/working/) that gets preserved as output when you create a version using \"Save & Run All\" \n",
    "# You can also write temporary files to /kaggle/temp/, but they won't be saved outside of the current session"
   ]
  },
  {
   "cell_type": "code",
   "execution_count": 2,
   "id": "5b27a5c6",
   "metadata": {
    "execution": {
     "iopub.execute_input": "2022-10-02T14:30:07.886542Z",
     "iopub.status.busy": "2022-10-02T14:30:07.886152Z",
     "iopub.status.idle": "2022-10-02T14:30:07.922038Z",
     "shell.execute_reply": "2022-10-02T14:30:07.920781Z"
    },
    "papermill": {
     "duration": 0.045958,
     "end_time": "2022-10-02T14:30:07.924985",
     "exception": false,
     "start_time": "2022-10-02T14:30:07.879027",
     "status": "completed"
    },
    "tags": []
   },
   "outputs": [],
   "source": [
    "# EDA\n",
    "data_train = pd.read_csv('/kaggle/input/titanic/train.csv')\n",
    "data_test = pd.read_csv('/kaggle/input/titanic/test.csv')\n",
    "\n",
    "sub_example = pd.read_csv('/kaggle/input/titanic/gender_submission.csv')"
   ]
  },
  {
   "cell_type": "code",
   "execution_count": 3,
   "id": "8c895933",
   "metadata": {
    "execution": {
     "iopub.execute_input": "2022-10-02T14:30:07.938452Z",
     "iopub.status.busy": "2022-10-02T14:30:07.938016Z",
     "iopub.status.idle": "2022-10-02T14:30:07.953001Z",
     "shell.execute_reply": "2022-10-02T14:30:07.951670Z"
    },
    "papermill": {
     "duration": 0.024436,
     "end_time": "2022-10-02T14:30:07.955323",
     "exception": false,
     "start_time": "2022-10-02T14:30:07.930887",
     "status": "completed"
    },
    "tags": []
   },
   "outputs": [],
   "source": [
    "X_train = data_train.drop('Survived',axis=1)\n",
    "y_train = data_train['Survived']\n",
    "X_test = data_test"
   ]
  },
  {
   "cell_type": "code",
   "execution_count": 4,
   "id": "bcc31961",
   "metadata": {
    "execution": {
     "iopub.execute_input": "2022-10-02T14:30:07.968122Z",
     "iopub.status.busy": "2022-10-02T14:30:07.967396Z",
     "iopub.status.idle": "2022-10-02T14:30:07.980337Z",
     "shell.execute_reply": "2022-10-02T14:30:07.979152Z"
    },
    "papermill": {
     "duration": 0.022207,
     "end_time": "2022-10-02T14:30:07.983220",
     "exception": false,
     "start_time": "2022-10-02T14:30:07.961013",
     "status": "completed"
    },
    "tags": []
   },
   "outputs": [
    {
     "data": {
      "text/plain": [
       "PassengerId      0\n",
       "Pclass           0\n",
       "Name             0\n",
       "Sex              0\n",
       "Age            177\n",
       "SibSp            0\n",
       "Parch            0\n",
       "Ticket           0\n",
       "Fare             0\n",
       "Cabin          687\n",
       "Embarked         2\n",
       "dtype: int64"
      ]
     },
     "execution_count": 4,
     "metadata": {},
     "output_type": "execute_result"
    }
   ],
   "source": [
    "X_train.isnull().sum()"
   ]
  },
  {
   "cell_type": "code",
   "execution_count": 5,
   "id": "bfddc562",
   "metadata": {
    "execution": {
     "iopub.execute_input": "2022-10-02T14:30:07.998373Z",
     "iopub.status.busy": "2022-10-02T14:30:07.997555Z",
     "iopub.status.idle": "2022-10-02T14:30:08.009776Z",
     "shell.execute_reply": "2022-10-02T14:30:08.008642Z"
    },
    "papermill": {
     "duration": 0.022394,
     "end_time": "2022-10-02T14:30:08.012074",
     "exception": false,
     "start_time": "2022-10-02T14:30:07.989680",
     "status": "completed"
    },
    "tags": []
   },
   "outputs": [
    {
     "data": {
      "text/plain": [
       "0.19865319865319866"
      ]
     },
     "execution_count": 5,
     "metadata": {},
     "output_type": "execute_result"
    }
   ],
   "source": [
    "# Ratio of missing age in train data\n",
    "X_train.isnull().sum().loc['Age']/len(X_train)"
   ]
  },
  {
   "cell_type": "code",
   "execution_count": 6,
   "id": "3f191560",
   "metadata": {
    "execution": {
     "iopub.execute_input": "2022-10-02T14:30:08.025839Z",
     "iopub.status.busy": "2022-10-02T14:30:08.024971Z",
     "iopub.status.idle": "2022-10-02T14:30:08.034872Z",
     "shell.execute_reply": "2022-10-02T14:30:08.033857Z"
    },
    "papermill": {
     "duration": 0.019147,
     "end_time": "2022-10-02T14:30:08.037101",
     "exception": false,
     "start_time": "2022-10-02T14:30:08.017954",
     "status": "completed"
    },
    "tags": []
   },
   "outputs": [
    {
     "data": {
      "text/plain": [
       "PassengerId      0\n",
       "Pclass           0\n",
       "Name             0\n",
       "Sex              0\n",
       "Age             86\n",
       "SibSp            0\n",
       "Parch            0\n",
       "Ticket           0\n",
       "Fare             1\n",
       "Cabin          327\n",
       "Embarked         0\n",
       "dtype: int64"
      ]
     },
     "execution_count": 6,
     "metadata": {},
     "output_type": "execute_result"
    }
   ],
   "source": [
    "X_test.isnull().sum()"
   ]
  },
  {
   "cell_type": "code",
   "execution_count": 7,
   "id": "8fcf391f",
   "metadata": {
    "execution": {
     "iopub.execute_input": "2022-10-02T14:30:08.050649Z",
     "iopub.status.busy": "2022-10-02T14:30:08.049935Z",
     "iopub.status.idle": "2022-10-02T14:30:08.059496Z",
     "shell.execute_reply": "2022-10-02T14:30:08.058466Z"
    },
    "papermill": {
     "duration": 0.018967,
     "end_time": "2022-10-02T14:30:08.061927",
     "exception": false,
     "start_time": "2022-10-02T14:30:08.042960",
     "status": "completed"
    },
    "tags": []
   },
   "outputs": [
    {
     "data": {
      "text/plain": [
       "0.20574162679425836"
      ]
     },
     "execution_count": 7,
     "metadata": {},
     "output_type": "execute_result"
    }
   ],
   "source": [
    "# Ratio of missing age in test data\n",
    "X_test.isnull().sum().loc['Age']/len(X_test)"
   ]
  },
  {
   "cell_type": "code",
   "execution_count": 8,
   "id": "d712c989",
   "metadata": {
    "execution": {
     "iopub.execute_input": "2022-10-02T14:30:08.075994Z",
     "iopub.status.busy": "2022-10-02T14:30:08.075194Z",
     "iopub.status.idle": "2022-10-02T14:30:08.095688Z",
     "shell.execute_reply": "2022-10-02T14:30:08.094898Z"
    },
    "papermill": {
     "duration": 0.02986,
     "end_time": "2022-10-02T14:30:08.097808",
     "exception": false,
     "start_time": "2022-10-02T14:30:08.067948",
     "status": "completed"
    },
    "tags": []
   },
   "outputs": [
    {
     "data": {
      "text/html": [
       "<div>\n",
       "<style scoped>\n",
       "    .dataframe tbody tr th:only-of-type {\n",
       "        vertical-align: middle;\n",
       "    }\n",
       "\n",
       "    .dataframe tbody tr th {\n",
       "        vertical-align: top;\n",
       "    }\n",
       "\n",
       "    .dataframe thead th {\n",
       "        text-align: right;\n",
       "    }\n",
       "</style>\n",
       "<table border=\"1\" class=\"dataframe\">\n",
       "  <thead>\n",
       "    <tr style=\"text-align: right;\">\n",
       "      <th></th>\n",
       "      <th>PassengerId</th>\n",
       "      <th>Pclass</th>\n",
       "      <th>Name</th>\n",
       "      <th>Sex</th>\n",
       "      <th>Age</th>\n",
       "      <th>SibSp</th>\n",
       "      <th>Parch</th>\n",
       "      <th>Ticket</th>\n",
       "      <th>Fare</th>\n",
       "      <th>Cabin</th>\n",
       "      <th>Embarked</th>\n",
       "    </tr>\n",
       "  </thead>\n",
       "  <tbody>\n",
       "    <tr>\n",
       "      <th>0</th>\n",
       "      <td>1</td>\n",
       "      <td>3</td>\n",
       "      <td>Braund, Mr. Owen Harris</td>\n",
       "      <td>male</td>\n",
       "      <td>22.0</td>\n",
       "      <td>1</td>\n",
       "      <td>0</td>\n",
       "      <td>A/5 21171</td>\n",
       "      <td>7.2500</td>\n",
       "      <td>NaN</td>\n",
       "      <td>S</td>\n",
       "    </tr>\n",
       "    <tr>\n",
       "      <th>1</th>\n",
       "      <td>2</td>\n",
       "      <td>1</td>\n",
       "      <td>Cumings, Mrs. John Bradley (Florence Briggs Th...</td>\n",
       "      <td>female</td>\n",
       "      <td>38.0</td>\n",
       "      <td>1</td>\n",
       "      <td>0</td>\n",
       "      <td>PC 17599</td>\n",
       "      <td>71.2833</td>\n",
       "      <td>C85</td>\n",
       "      <td>C</td>\n",
       "    </tr>\n",
       "    <tr>\n",
       "      <th>2</th>\n",
       "      <td>3</td>\n",
       "      <td>3</td>\n",
       "      <td>Heikkinen, Miss. Laina</td>\n",
       "      <td>female</td>\n",
       "      <td>26.0</td>\n",
       "      <td>0</td>\n",
       "      <td>0</td>\n",
       "      <td>STON/O2. 3101282</td>\n",
       "      <td>7.9250</td>\n",
       "      <td>NaN</td>\n",
       "      <td>S</td>\n",
       "    </tr>\n",
       "    <tr>\n",
       "      <th>3</th>\n",
       "      <td>4</td>\n",
       "      <td>1</td>\n",
       "      <td>Futrelle, Mrs. Jacques Heath (Lily May Peel)</td>\n",
       "      <td>female</td>\n",
       "      <td>35.0</td>\n",
       "      <td>1</td>\n",
       "      <td>0</td>\n",
       "      <td>113803</td>\n",
       "      <td>53.1000</td>\n",
       "      <td>C123</td>\n",
       "      <td>S</td>\n",
       "    </tr>\n",
       "    <tr>\n",
       "      <th>4</th>\n",
       "      <td>5</td>\n",
       "      <td>3</td>\n",
       "      <td>Allen, Mr. William Henry</td>\n",
       "      <td>male</td>\n",
       "      <td>35.0</td>\n",
       "      <td>0</td>\n",
       "      <td>0</td>\n",
       "      <td>373450</td>\n",
       "      <td>8.0500</td>\n",
       "      <td>NaN</td>\n",
       "      <td>S</td>\n",
       "    </tr>\n",
       "  </tbody>\n",
       "</table>\n",
       "</div>"
      ],
      "text/plain": [
       "   PassengerId  Pclass                                               Name  \\\n",
       "0            1       3                            Braund, Mr. Owen Harris   \n",
       "1            2       1  Cumings, Mrs. John Bradley (Florence Briggs Th...   \n",
       "2            3       3                             Heikkinen, Miss. Laina   \n",
       "3            4       1       Futrelle, Mrs. Jacques Heath (Lily May Peel)   \n",
       "4            5       3                           Allen, Mr. William Henry   \n",
       "\n",
       "      Sex   Age  SibSp  Parch            Ticket     Fare Cabin Embarked  \n",
       "0    male  22.0      1      0         A/5 21171   7.2500   NaN        S  \n",
       "1  female  38.0      1      0          PC 17599  71.2833   C85        C  \n",
       "2  female  26.0      0      0  STON/O2. 3101282   7.9250   NaN        S  \n",
       "3  female  35.0      1      0            113803  53.1000  C123        S  \n",
       "4    male  35.0      0      0            373450   8.0500   NaN        S  "
      ]
     },
     "execution_count": 8,
     "metadata": {},
     "output_type": "execute_result"
    }
   ],
   "source": [
    "X_train.head()"
   ]
  },
  {
   "cell_type": "code",
   "execution_count": 9,
   "id": "7aef412f",
   "metadata": {
    "execution": {
     "iopub.execute_input": "2022-10-02T14:30:08.111687Z",
     "iopub.status.busy": "2022-10-02T14:30:08.111263Z",
     "iopub.status.idle": "2022-10-02T14:30:08.119183Z",
     "shell.execute_reply": "2022-10-02T14:30:08.118093Z"
    },
    "papermill": {
     "duration": 0.017299,
     "end_time": "2022-10-02T14:30:08.121342",
     "exception": false,
     "start_time": "2022-10-02T14:30:08.104043",
     "status": "completed"
    },
    "tags": []
   },
   "outputs": [],
   "source": [
    "# Dropping useless columns \n",
    "X_train = X_train.drop(['Name','Ticket','Cabin','PassengerId'],axis=1)\n",
    "X_test = X_test.drop(['Name','Ticket','Cabin','PassengerId'],axis=1)"
   ]
  },
  {
   "cell_type": "code",
   "execution_count": 10,
   "id": "f35fb357",
   "metadata": {
    "execution": {
     "iopub.execute_input": "2022-10-02T14:30:08.135310Z",
     "iopub.status.busy": "2022-10-02T14:30:08.134908Z",
     "iopub.status.idle": "2022-10-02T14:30:08.148426Z",
     "shell.execute_reply": "2022-10-02T14:30:08.147397Z"
    },
    "papermill": {
     "duration": 0.023225,
     "end_time": "2022-10-02T14:30:08.150741",
     "exception": false,
     "start_time": "2022-10-02T14:30:08.127516",
     "status": "completed"
    },
    "tags": []
   },
   "outputs": [
    {
     "data": {
      "text/html": [
       "<div>\n",
       "<style scoped>\n",
       "    .dataframe tbody tr th:only-of-type {\n",
       "        vertical-align: middle;\n",
       "    }\n",
       "\n",
       "    .dataframe tbody tr th {\n",
       "        vertical-align: top;\n",
       "    }\n",
       "\n",
       "    .dataframe thead th {\n",
       "        text-align: right;\n",
       "    }\n",
       "</style>\n",
       "<table border=\"1\" class=\"dataframe\">\n",
       "  <thead>\n",
       "    <tr style=\"text-align: right;\">\n",
       "      <th></th>\n",
       "      <th>Pclass</th>\n",
       "      <th>Sex</th>\n",
       "      <th>Age</th>\n",
       "      <th>SibSp</th>\n",
       "      <th>Parch</th>\n",
       "      <th>Fare</th>\n",
       "      <th>Embarked</th>\n",
       "    </tr>\n",
       "  </thead>\n",
       "  <tbody>\n",
       "    <tr>\n",
       "      <th>0</th>\n",
       "      <td>3</td>\n",
       "      <td>male</td>\n",
       "      <td>22.0</td>\n",
       "      <td>1</td>\n",
       "      <td>0</td>\n",
       "      <td>7.2500</td>\n",
       "      <td>S</td>\n",
       "    </tr>\n",
       "    <tr>\n",
       "      <th>1</th>\n",
       "      <td>1</td>\n",
       "      <td>female</td>\n",
       "      <td>38.0</td>\n",
       "      <td>1</td>\n",
       "      <td>0</td>\n",
       "      <td>71.2833</td>\n",
       "      <td>C</td>\n",
       "    </tr>\n",
       "    <tr>\n",
       "      <th>2</th>\n",
       "      <td>3</td>\n",
       "      <td>female</td>\n",
       "      <td>26.0</td>\n",
       "      <td>0</td>\n",
       "      <td>0</td>\n",
       "      <td>7.9250</td>\n",
       "      <td>S</td>\n",
       "    </tr>\n",
       "    <tr>\n",
       "      <th>3</th>\n",
       "      <td>1</td>\n",
       "      <td>female</td>\n",
       "      <td>35.0</td>\n",
       "      <td>1</td>\n",
       "      <td>0</td>\n",
       "      <td>53.1000</td>\n",
       "      <td>S</td>\n",
       "    </tr>\n",
       "    <tr>\n",
       "      <th>4</th>\n",
       "      <td>3</td>\n",
       "      <td>male</td>\n",
       "      <td>35.0</td>\n",
       "      <td>0</td>\n",
       "      <td>0</td>\n",
       "      <td>8.0500</td>\n",
       "      <td>S</td>\n",
       "    </tr>\n",
       "  </tbody>\n",
       "</table>\n",
       "</div>"
      ],
      "text/plain": [
       "   Pclass     Sex   Age  SibSp  Parch     Fare Embarked\n",
       "0       3    male  22.0      1      0   7.2500        S\n",
       "1       1  female  38.0      1      0  71.2833        C\n",
       "2       3  female  26.0      0      0   7.9250        S\n",
       "3       1  female  35.0      1      0  53.1000        S\n",
       "4       3    male  35.0      0      0   8.0500        S"
      ]
     },
     "execution_count": 10,
     "metadata": {},
     "output_type": "execute_result"
    }
   ],
   "source": [
    "X_train.head()"
   ]
  },
  {
   "cell_type": "code",
   "execution_count": 11,
   "id": "cd57afb4",
   "metadata": {
    "execution": {
     "iopub.execute_input": "2022-10-02T14:30:08.165349Z",
     "iopub.status.busy": "2022-10-02T14:30:08.164916Z",
     "iopub.status.idle": "2022-10-02T14:30:08.178778Z",
     "shell.execute_reply": "2022-10-02T14:30:08.177731Z"
    },
    "papermill": {
     "duration": 0.02376,
     "end_time": "2022-10-02T14:30:08.181006",
     "exception": false,
     "start_time": "2022-10-02T14:30:08.157246",
     "status": "completed"
    },
    "tags": []
   },
   "outputs": [
    {
     "data": {
      "text/html": [
       "<div>\n",
       "<style scoped>\n",
       "    .dataframe tbody tr th:only-of-type {\n",
       "        vertical-align: middle;\n",
       "    }\n",
       "\n",
       "    .dataframe tbody tr th {\n",
       "        vertical-align: top;\n",
       "    }\n",
       "\n",
       "    .dataframe thead th {\n",
       "        text-align: right;\n",
       "    }\n",
       "</style>\n",
       "<table border=\"1\" class=\"dataframe\">\n",
       "  <thead>\n",
       "    <tr style=\"text-align: right;\">\n",
       "      <th></th>\n",
       "      <th>Pclass</th>\n",
       "      <th>Sex</th>\n",
       "      <th>Age</th>\n",
       "      <th>SibSp</th>\n",
       "      <th>Parch</th>\n",
       "      <th>Fare</th>\n",
       "      <th>Embarked</th>\n",
       "    </tr>\n",
       "  </thead>\n",
       "  <tbody>\n",
       "    <tr>\n",
       "      <th>0</th>\n",
       "      <td>3</td>\n",
       "      <td>male</td>\n",
       "      <td>34.5</td>\n",
       "      <td>0</td>\n",
       "      <td>0</td>\n",
       "      <td>7.8292</td>\n",
       "      <td>Q</td>\n",
       "    </tr>\n",
       "    <tr>\n",
       "      <th>1</th>\n",
       "      <td>3</td>\n",
       "      <td>female</td>\n",
       "      <td>47.0</td>\n",
       "      <td>1</td>\n",
       "      <td>0</td>\n",
       "      <td>7.0000</td>\n",
       "      <td>S</td>\n",
       "    </tr>\n",
       "    <tr>\n",
       "      <th>2</th>\n",
       "      <td>2</td>\n",
       "      <td>male</td>\n",
       "      <td>62.0</td>\n",
       "      <td>0</td>\n",
       "      <td>0</td>\n",
       "      <td>9.6875</td>\n",
       "      <td>Q</td>\n",
       "    </tr>\n",
       "    <tr>\n",
       "      <th>3</th>\n",
       "      <td>3</td>\n",
       "      <td>male</td>\n",
       "      <td>27.0</td>\n",
       "      <td>0</td>\n",
       "      <td>0</td>\n",
       "      <td>8.6625</td>\n",
       "      <td>S</td>\n",
       "    </tr>\n",
       "    <tr>\n",
       "      <th>4</th>\n",
       "      <td>3</td>\n",
       "      <td>female</td>\n",
       "      <td>22.0</td>\n",
       "      <td>1</td>\n",
       "      <td>1</td>\n",
       "      <td>12.2875</td>\n",
       "      <td>S</td>\n",
       "    </tr>\n",
       "  </tbody>\n",
       "</table>\n",
       "</div>"
      ],
      "text/plain": [
       "   Pclass     Sex   Age  SibSp  Parch     Fare Embarked\n",
       "0       3    male  34.5      0      0   7.8292        Q\n",
       "1       3  female  47.0      1      0   7.0000        S\n",
       "2       2    male  62.0      0      0   9.6875        Q\n",
       "3       3    male  27.0      0      0   8.6625        S\n",
       "4       3  female  22.0      1      1  12.2875        S"
      ]
     },
     "execution_count": 11,
     "metadata": {},
     "output_type": "execute_result"
    }
   ],
   "source": [
    "X_test.head()"
   ]
  },
  {
   "cell_type": "code",
   "execution_count": 12,
   "id": "14506b5d",
   "metadata": {
    "execution": {
     "iopub.execute_input": "2022-10-02T14:30:08.196969Z",
     "iopub.status.busy": "2022-10-02T14:30:08.196504Z",
     "iopub.status.idle": "2022-10-02T14:30:08.216596Z",
     "shell.execute_reply": "2022-10-02T14:30:08.215433Z"
    },
    "papermill": {
     "duration": 0.031213,
     "end_time": "2022-10-02T14:30:08.218889",
     "exception": false,
     "start_time": "2022-10-02T14:30:08.187676",
     "status": "completed"
    },
    "tags": []
   },
   "outputs": [],
   "source": [
    "# Converting to numerical data\n",
    "X_train_num = pd.get_dummies(X_train,drop_first=True)\n",
    "X_test_num = pd.get_dummies(X_test,drop_first=True)"
   ]
  },
  {
   "cell_type": "code",
   "execution_count": 13,
   "id": "c1a525ab",
   "metadata": {
    "execution": {
     "iopub.execute_input": "2022-10-02T14:30:08.234306Z",
     "iopub.status.busy": "2022-10-02T14:30:08.233587Z",
     "iopub.status.idle": "2022-10-02T14:30:08.244312Z",
     "shell.execute_reply": "2022-10-02T14:30:08.243385Z"
    },
    "papermill": {
     "duration": 0.020594,
     "end_time": "2022-10-02T14:30:08.246346",
     "exception": false,
     "start_time": "2022-10-02T14:30:08.225752",
     "status": "completed"
    },
    "tags": []
   },
   "outputs": [
    {
     "data": {
      "text/plain": [
       "Pclass          0\n",
       "Age           177\n",
       "SibSp           0\n",
       "Parch           0\n",
       "Fare            0\n",
       "Sex_male        0\n",
       "Embarked_Q      0\n",
       "Embarked_S      0\n",
       "dtype: int64"
      ]
     },
     "execution_count": 13,
     "metadata": {},
     "output_type": "execute_result"
    }
   ],
   "source": [
    "# 177 missing age values\n",
    "X_train_num.isnull().sum()"
   ]
  },
  {
   "cell_type": "code",
   "execution_count": 14,
   "id": "9d8a04c6",
   "metadata": {
    "execution": {
     "iopub.execute_input": "2022-10-02T14:30:08.260995Z",
     "iopub.status.busy": "2022-10-02T14:30:08.260417Z",
     "iopub.status.idle": "2022-10-02T14:30:08.268171Z",
     "shell.execute_reply": "2022-10-02T14:30:08.267442Z"
    },
    "papermill": {
     "duration": 0.017379,
     "end_time": "2022-10-02T14:30:08.270185",
     "exception": false,
     "start_time": "2022-10-02T14:30:08.252806",
     "status": "completed"
    },
    "tags": []
   },
   "outputs": [
    {
     "data": {
      "text/plain": [
       "Pclass         0\n",
       "Age           86\n",
       "SibSp          0\n",
       "Parch          0\n",
       "Fare           1\n",
       "Sex_male       0\n",
       "Embarked_Q     0\n",
       "Embarked_S     0\n",
       "dtype: int64"
      ]
     },
     "execution_count": 14,
     "metadata": {},
     "output_type": "execute_result"
    }
   ],
   "source": [
    "# 86 missing age values, 1 missing fare values\n",
    "X_test_num.isnull().sum()"
   ]
  },
  {
   "cell_type": "code",
   "execution_count": 15,
   "id": "5f6e0774",
   "metadata": {
    "execution": {
     "iopub.execute_input": "2022-10-02T14:30:08.284919Z",
     "iopub.status.busy": "2022-10-02T14:30:08.284361Z",
     "iopub.status.idle": "2022-10-02T14:30:09.593839Z",
     "shell.execute_reply": "2022-10-02T14:30:09.591835Z"
    },
    "papermill": {
     "duration": 1.322131,
     "end_time": "2022-10-02T14:30:09.598875",
     "exception": false,
     "start_time": "2022-10-02T14:30:08.276744",
     "status": "completed"
    },
    "tags": []
   },
   "outputs": [],
   "source": [
    "# Filling out missing values using KNN\n",
    "from sklearn.impute import KNNImputer\n",
    "\n",
    "imputer = KNNImputer(n_neighbors=10)\n",
    "X_train_num_filled = imputer.fit_transform(X_train_num)\n",
    "X_test_num_filled = imputer.fit_transform(X_test_num)"
   ]
  },
  {
   "cell_type": "code",
   "execution_count": 16,
   "id": "6ef02bd6",
   "metadata": {
    "execution": {
     "iopub.execute_input": "2022-10-02T14:30:09.637407Z",
     "iopub.status.busy": "2022-10-02T14:30:09.636658Z",
     "iopub.status.idle": "2022-10-02T14:30:09.762170Z",
     "shell.execute_reply": "2022-10-02T14:30:09.760881Z"
    },
    "papermill": {
     "duration": 0.148797,
     "end_time": "2022-10-02T14:30:09.764893",
     "exception": false,
     "start_time": "2022-10-02T14:30:09.616096",
     "status": "completed"
    },
    "tags": []
   },
   "outputs": [
    {
     "data": {
      "text/plain": [
       "0.6251402918069585"
      ]
     },
     "execution_count": 16,
     "metadata": {},
     "output_type": "execute_result"
    }
   ],
   "source": [
    "# Linear SVC\n",
    "from sklearn.svm import LinearSVC\n",
    "from sklearn.pipeline import make_pipeline\n",
    "from sklearn.preprocessing import StandardScaler\n",
    "\n",
    "pipe = make_pipeline(StandardScaler(),LinearSVC(class_weight='balanced',max_iter=10000))\n",
    "pipe.fit(X_train_num_filled, y_train)\n",
    "pipe.named_steps['linearsvc'].score(X_train_num_filled, y_train)"
   ]
  },
  {
   "cell_type": "code",
   "execution_count": 17,
   "id": "081c0741",
   "metadata": {
    "execution": {
     "iopub.execute_input": "2022-10-02T14:30:09.781712Z",
     "iopub.status.busy": "2022-10-02T14:30:09.781211Z",
     "iopub.status.idle": "2022-10-02T14:30:09.785846Z",
     "shell.execute_reply": "2022-10-02T14:30:09.784681Z"
    },
    "papermill": {
     "duration": 0.015811,
     "end_time": "2022-10-02T14:30:09.788050",
     "exception": false,
     "start_time": "2022-10-02T14:30:09.772239",
     "status": "completed"
    },
    "tags": []
   },
   "outputs": [],
   "source": [
    "# from sklearn.neighbors import KNeighborsClassifier\n",
    "# neigh = KNeighborsClassifier(n_neighbors=1)\n",
    "# neigh.fit(X_train_num_filled, y_train)\n",
    "# neigh.score(X_train_num_filled, y_train)"
   ]
  },
  {
   "cell_type": "code",
   "execution_count": 18,
   "id": "d05531f3",
   "metadata": {
    "execution": {
     "iopub.execute_input": "2022-10-02T14:30:09.804271Z",
     "iopub.status.busy": "2022-10-02T14:30:09.803820Z",
     "iopub.status.idle": "2022-10-02T14:30:09.812673Z",
     "shell.execute_reply": "2022-10-02T14:30:09.811539Z"
    },
    "papermill": {
     "duration": 0.01986,
     "end_time": "2022-10-02T14:30:09.814998",
     "exception": false,
     "start_time": "2022-10-02T14:30:09.795138",
     "status": "completed"
    },
    "tags": []
   },
   "outputs": [
    {
     "data": {
      "text/plain": [
       "array([0, 0, 0, 0, 1, 0, 1, 0, 1, 0, 0, 0, 1, 0, 1, 1, 0, 0, 1, 1, 0, 0,\n",
       "       1, 1, 1, 0, 1, 0, 0, 0, 0, 0, 1, 1, 1, 0, 1, 1, 0, 0, 0, 1, 0, 1,\n",
       "       1, 0, 1, 0, 1, 1, 1, 0, 1, 1, 0, 0, 0, 0, 0, 1, 0, 0, 0, 1, 1, 1,\n",
       "       1, 0, 1, 1, 1, 0, 1, 1, 1, 1, 0, 1, 0, 1, 0, 0, 0, 0, 0, 0, 1, 1,\n",
       "       1, 0, 1, 0, 1, 0, 1, 0, 1, 0, 1, 0, 1, 0, 0, 0, 1, 0, 0, 0, 0, 0,\n",
       "       0, 1, 1, 1, 1, 0, 0, 1, 1, 1, 1, 0, 1, 0, 0, 1, 0, 1, 0, 0, 0, 0,\n",
       "       1, 0, 0, 0, 0, 0, 1, 0, 0, 1, 0, 0, 0, 0, 0, 0, 1, 0, 1, 0, 0, 1,\n",
       "       0, 0, 1, 1, 0, 1, 1, 0, 1, 0, 0, 1, 1, 0, 1, 1, 0, 0, 0, 0, 0, 1,\n",
       "       1, 0, 1, 1, 0, 1, 1, 0, 1, 0, 1, 0, 0, 0, 0, 1, 0, 0, 0, 0, 1, 1,\n",
       "       0, 1, 1, 0, 1, 1, 0, 1, 1, 0, 1, 0, 0, 0, 0, 1, 0, 0, 1, 0, 1, 0,\n",
       "       1, 0, 1, 0, 1, 1, 0, 1, 0, 0, 0, 1, 0, 0, 1, 0, 0, 0, 1, 1, 1, 1,\n",
       "       0, 0, 0, 0, 1, 0, 1, 1, 1, 0, 1, 0, 0, 0, 0, 0, 1, 0, 0, 0, 1, 1,\n",
       "       0, 0, 1, 0, 1, 0, 1, 0, 1, 1, 0, 1, 0, 0, 0, 0, 1, 0, 1, 1, 1, 0,\n",
       "       0, 1, 0, 0, 1, 1, 0, 0, 0, 0, 1, 0, 1, 0, 0, 0, 0, 0, 1, 1, 0, 0,\n",
       "       0, 0, 0, 0, 0, 1, 1, 1, 0, 0, 0, 0, 0, 0, 0, 1, 1, 0, 1, 1, 0, 0,\n",
       "       1, 1, 0, 1, 0, 1, 0, 0, 0, 0, 0, 0, 0, 1, 0, 1, 0, 1, 0, 1, 1, 0,\n",
       "       0, 0, 1, 0, 1, 0, 0, 1, 0, 1, 1, 0, 1, 0, 0, 1, 1, 0, 0, 1, 0, 0,\n",
       "       1, 1, 1, 0, 0, 0, 0, 0, 1, 1, 0, 1, 0, 0, 0, 0, 1, 1, 0, 0, 0, 1,\n",
       "       0, 1, 0, 0, 1, 0, 1, 1, 0, 0, 0, 0, 1, 1, 1, 1, 1, 0, 1, 0, 0, 0])"
      ]
     },
     "execution_count": 18,
     "metadata": {},
     "output_type": "execute_result"
    }
   ],
   "source": [
    "predictions = pipe.predict(X_test_num_filled)\n",
    "predictions"
   ]
  },
  {
   "cell_type": "code",
   "execution_count": 19,
   "id": "a1582cf2",
   "metadata": {
    "execution": {
     "iopub.execute_input": "2022-10-02T14:30:09.832459Z",
     "iopub.status.busy": "2022-10-02T14:30:09.832058Z",
     "iopub.status.idle": "2022-10-02T14:30:09.846091Z",
     "shell.execute_reply": "2022-10-02T14:30:09.844868Z"
    },
    "papermill": {
     "duration": 0.025688,
     "end_time": "2022-10-02T14:30:09.848886",
     "exception": false,
     "start_time": "2022-10-02T14:30:09.823198",
     "status": "completed"
    },
    "tags": []
   },
   "outputs": [
    {
     "data": {
      "text/html": [
       "<div>\n",
       "<style scoped>\n",
       "    .dataframe tbody tr th:only-of-type {\n",
       "        vertical-align: middle;\n",
       "    }\n",
       "\n",
       "    .dataframe tbody tr th {\n",
       "        vertical-align: top;\n",
       "    }\n",
       "\n",
       "    .dataframe thead th {\n",
       "        text-align: right;\n",
       "    }\n",
       "</style>\n",
       "<table border=\"1\" class=\"dataframe\">\n",
       "  <thead>\n",
       "    <tr style=\"text-align: right;\">\n",
       "      <th></th>\n",
       "      <th>PassengerId</th>\n",
       "      <th>Survived</th>\n",
       "    </tr>\n",
       "  </thead>\n",
       "  <tbody>\n",
       "    <tr>\n",
       "      <th>0</th>\n",
       "      <td>892</td>\n",
       "      <td>0</td>\n",
       "    </tr>\n",
       "    <tr>\n",
       "      <th>1</th>\n",
       "      <td>893</td>\n",
       "      <td>0</td>\n",
       "    </tr>\n",
       "    <tr>\n",
       "      <th>2</th>\n",
       "      <td>894</td>\n",
       "      <td>0</td>\n",
       "    </tr>\n",
       "    <tr>\n",
       "      <th>3</th>\n",
       "      <td>895</td>\n",
       "      <td>0</td>\n",
       "    </tr>\n",
       "    <tr>\n",
       "      <th>4</th>\n",
       "      <td>896</td>\n",
       "      <td>1</td>\n",
       "    </tr>\n",
       "    <tr>\n",
       "      <th>...</th>\n",
       "      <td>...</td>\n",
       "      <td>...</td>\n",
       "    </tr>\n",
       "    <tr>\n",
       "      <th>413</th>\n",
       "      <td>1305</td>\n",
       "      <td>0</td>\n",
       "    </tr>\n",
       "    <tr>\n",
       "      <th>414</th>\n",
       "      <td>1306</td>\n",
       "      <td>1</td>\n",
       "    </tr>\n",
       "    <tr>\n",
       "      <th>415</th>\n",
       "      <td>1307</td>\n",
       "      <td>0</td>\n",
       "    </tr>\n",
       "    <tr>\n",
       "      <th>416</th>\n",
       "      <td>1308</td>\n",
       "      <td>0</td>\n",
       "    </tr>\n",
       "    <tr>\n",
       "      <th>417</th>\n",
       "      <td>1309</td>\n",
       "      <td>0</td>\n",
       "    </tr>\n",
       "  </tbody>\n",
       "</table>\n",
       "<p>418 rows × 2 columns</p>\n",
       "</div>"
      ],
      "text/plain": [
       "     PassengerId  Survived\n",
       "0            892         0\n",
       "1            893         0\n",
       "2            894         0\n",
       "3            895         0\n",
       "4            896         1\n",
       "..           ...       ...\n",
       "413         1305         0\n",
       "414         1306         1\n",
       "415         1307         0\n",
       "416         1308         0\n",
       "417         1309         0\n",
       "\n",
       "[418 rows x 2 columns]"
      ]
     },
     "execution_count": 19,
     "metadata": {},
     "output_type": "execute_result"
    }
   ],
   "source": [
    "output = pd.DataFrame({'PassengerId': data_test.PassengerId, 'Survived': predictions})\n",
    "output"
   ]
  },
  {
   "cell_type": "code",
   "execution_count": 20,
   "id": "6714b081",
   "metadata": {
    "execution": {
     "iopub.execute_input": "2022-10-02T14:30:09.866129Z",
     "iopub.status.busy": "2022-10-02T14:30:09.865703Z",
     "iopub.status.idle": "2022-10-02T14:30:09.874208Z",
     "shell.execute_reply": "2022-10-02T14:30:09.873230Z"
    },
    "papermill": {
     "duration": 0.019955,
     "end_time": "2022-10-02T14:30:09.876609",
     "exception": false,
     "start_time": "2022-10-02T14:30:09.856654",
     "status": "completed"
    },
    "tags": []
   },
   "outputs": [],
   "source": [
    "output.to_csv('submission.csv', index=False)"
   ]
  },
  {
   "cell_type": "code",
   "execution_count": null,
   "id": "49e092e9",
   "metadata": {
    "papermill": {
     "duration": 0.007224,
     "end_time": "2022-10-02T14:30:09.891722",
     "exception": false,
     "start_time": "2022-10-02T14:30:09.884498",
     "status": "completed"
    },
    "tags": []
   },
   "outputs": [],
   "source": []
  }
 ],
 "metadata": {
  "kernelspec": {
   "display_name": "Python 3",
   "language": "python",
   "name": "python3"
  },
  "language_info": {
   "codemirror_mode": {
    "name": "ipython",
    "version": 3
   },
   "file_extension": ".py",
   "mimetype": "text/x-python",
   "name": "python",
   "nbconvert_exporter": "python",
   "pygments_lexer": "ipython3",
   "version": "3.7.12"
  },
  "papermill": {
   "default_parameters": {},
   "duration": 12.5239,
   "end_time": "2022-10-02T14:30:10.822150",
   "environment_variables": {},
   "exception": null,
   "input_path": "__notebook__.ipynb",
   "output_path": "__notebook__.ipynb",
   "parameters": {},
   "start_time": "2022-10-02T14:29:58.298250",
   "version": "2.3.4"
  }
 },
 "nbformat": 4,
 "nbformat_minor": 5
}
