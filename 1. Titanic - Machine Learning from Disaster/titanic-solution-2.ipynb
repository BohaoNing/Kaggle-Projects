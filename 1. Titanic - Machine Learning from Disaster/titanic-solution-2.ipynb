{
 "cells": [
  {
   "cell_type": "code",
   "execution_count": 1,
   "id": "cf723716",
   "metadata": {
    "_cell_guid": "b1076dfc-b9ad-4769-8c92-a6c4dae69d19",
    "_uuid": "8f2839f25d086af736a60e9eeb907d3b93b6e0e5",
    "execution": {
     "iopub.execute_input": "2022-09-02T00:58:24.544603Z",
     "iopub.status.busy": "2022-09-02T00:58:24.544002Z",
     "iopub.status.idle": "2022-09-02T00:58:24.561363Z",
     "shell.execute_reply": "2022-09-02T00:58:24.560421Z"
    },
    "papermill": {
     "duration": 0.029359,
     "end_time": "2022-09-02T00:58:24.564036",
     "exception": false,
     "start_time": "2022-09-02T00:58:24.534677",
     "status": "completed"
    },
    "tags": []
   },
   "outputs": [
    {
     "name": "stdout",
     "output_type": "stream",
     "text": [
      "/kaggle/input/titanic/train.csv\n",
      "/kaggle/input/titanic/test.csv\n",
      "/kaggle/input/titanic/gender_submission.csv\n"
     ]
    }
   ],
   "source": [
    "# This Python 3 environment comes with many helpful analytics libraries installed\n",
    "# It is defined by the kaggle/python Docker image: https://github.com/kaggle/docker-python\n",
    "# For example, here's several helpful packages to load\n",
    "\n",
    "import numpy as np # linear algebra\n",
    "import pandas as pd # data processing, CSV file I/O (e.g. pd.read_csv)\n",
    "\n",
    "\n",
    "# Input data files are available in the read-only \"../input/\" directory\n",
    "# For example, running this (by clicking run or pressing Shift+Enter) will list all files under the input directory\n",
    "\n",
    "import os\n",
    "for dirname, _, filenames in os.walk('/kaggle/input'):\n",
    "    for filename in filenames:\n",
    "        print(os.path.join(dirname, filename))\n",
    "\n",
    "# You can write up to 20GB to the current directory (/kaggle/working/) that gets preserved as output when you create a version using \"Save & Run All\" \n",
    "# You can also write temporary files to /kaggle/temp/, but they won't be saved outside of the current session"
   ]
  },
  {
   "cell_type": "code",
   "execution_count": 2,
   "id": "986b511b",
   "metadata": {
    "execution": {
     "iopub.execute_input": "2022-09-02T00:58:24.577904Z",
     "iopub.status.busy": "2022-09-02T00:58:24.577161Z",
     "iopub.status.idle": "2022-09-02T00:58:24.614305Z",
     "shell.execute_reply": "2022-09-02T00:58:24.613290Z"
    },
    "papermill": {
     "duration": 0.046924,
     "end_time": "2022-09-02T00:58:24.616961",
     "exception": false,
     "start_time": "2022-09-02T00:58:24.570037",
     "status": "completed"
    },
    "tags": []
   },
   "outputs": [],
   "source": [
    "# EDA\n",
    "data_train = pd.read_csv('/kaggle/input/titanic/train.csv')\n",
    "data_test = pd.read_csv('/kaggle/input/titanic/test.csv')\n",
    "\n",
    "sub_example = pd.read_csv('/kaggle/input/titanic/gender_submission.csv')"
   ]
  },
  {
   "cell_type": "code",
   "execution_count": 3,
   "id": "73d6116a",
   "metadata": {
    "execution": {
     "iopub.execute_input": "2022-09-02T00:58:24.630439Z",
     "iopub.status.busy": "2022-09-02T00:58:24.629776Z",
     "iopub.status.idle": "2022-09-02T00:58:24.645248Z",
     "shell.execute_reply": "2022-09-02T00:58:24.643822Z"
    },
    "papermill": {
     "duration": 0.025398,
     "end_time": "2022-09-02T00:58:24.648093",
     "exception": false,
     "start_time": "2022-09-02T00:58:24.622695",
     "status": "completed"
    },
    "tags": []
   },
   "outputs": [],
   "source": [
    "X_train = data_train.drop('Survived',axis=1)\n",
    "y_train = data_train['Survived']\n",
    "X_test = data_test"
   ]
  },
  {
   "cell_type": "code",
   "execution_count": 4,
   "id": "7fe05eb0",
   "metadata": {
    "execution": {
     "iopub.execute_input": "2022-09-02T00:58:24.661070Z",
     "iopub.status.busy": "2022-09-02T00:58:24.660651Z",
     "iopub.status.idle": "2022-09-02T00:58:24.673744Z",
     "shell.execute_reply": "2022-09-02T00:58:24.672523Z"
    },
    "papermill": {
     "duration": 0.022482,
     "end_time": "2022-09-02T00:58:24.676332",
     "exception": false,
     "start_time": "2022-09-02T00:58:24.653850",
     "status": "completed"
    },
    "tags": []
   },
   "outputs": [
    {
     "data": {
      "text/plain": [
       "PassengerId      0\n",
       "Pclass           0\n",
       "Name             0\n",
       "Sex              0\n",
       "Age            177\n",
       "SibSp            0\n",
       "Parch            0\n",
       "Ticket           0\n",
       "Fare             0\n",
       "Cabin          687\n",
       "Embarked         2\n",
       "dtype: int64"
      ]
     },
     "execution_count": 4,
     "metadata": {},
     "output_type": "execute_result"
    }
   ],
   "source": [
    "X_train.isnull().sum()"
   ]
  },
  {
   "cell_type": "code",
   "execution_count": 5,
   "id": "cdbd9177",
   "metadata": {
    "execution": {
     "iopub.execute_input": "2022-09-02T00:58:24.689651Z",
     "iopub.status.busy": "2022-09-02T00:58:24.689263Z",
     "iopub.status.idle": "2022-09-02T00:58:24.701420Z",
     "shell.execute_reply": "2022-09-02T00:58:24.700220Z"
    },
    "papermill": {
     "duration": 0.021542,
     "end_time": "2022-09-02T00:58:24.703694",
     "exception": false,
     "start_time": "2022-09-02T00:58:24.682152",
     "status": "completed"
    },
    "tags": []
   },
   "outputs": [
    {
     "data": {
      "text/plain": [
       "0.19865319865319866"
      ]
     },
     "execution_count": 5,
     "metadata": {},
     "output_type": "execute_result"
    }
   ],
   "source": [
    "# Ratio of missing age in train data\n",
    "X_train.isnull().sum().loc['Age']/len(X_train)"
   ]
  },
  {
   "cell_type": "code",
   "execution_count": 6,
   "id": "c752ed16",
   "metadata": {
    "execution": {
     "iopub.execute_input": "2022-09-02T00:58:24.717839Z",
     "iopub.status.busy": "2022-09-02T00:58:24.716704Z",
     "iopub.status.idle": "2022-09-02T00:58:24.726240Z",
     "shell.execute_reply": "2022-09-02T00:58:24.725139Z"
    },
    "papermill": {
     "duration": 0.018834,
     "end_time": "2022-09-02T00:58:24.728466",
     "exception": false,
     "start_time": "2022-09-02T00:58:24.709632",
     "status": "completed"
    },
    "tags": []
   },
   "outputs": [
    {
     "data": {
      "text/plain": [
       "PassengerId      0\n",
       "Pclass           0\n",
       "Name             0\n",
       "Sex              0\n",
       "Age             86\n",
       "SibSp            0\n",
       "Parch            0\n",
       "Ticket           0\n",
       "Fare             1\n",
       "Cabin          327\n",
       "Embarked         0\n",
       "dtype: int64"
      ]
     },
     "execution_count": 6,
     "metadata": {},
     "output_type": "execute_result"
    }
   ],
   "source": [
    "X_test.isnull().sum()"
   ]
  },
  {
   "cell_type": "code",
   "execution_count": 7,
   "id": "bfca2ded",
   "metadata": {
    "execution": {
     "iopub.execute_input": "2022-09-02T00:58:24.742563Z",
     "iopub.status.busy": "2022-09-02T00:58:24.741957Z",
     "iopub.status.idle": "2022-09-02T00:58:24.749733Z",
     "shell.execute_reply": "2022-09-02T00:58:24.748660Z"
    },
    "papermill": {
     "duration": 0.017523,
     "end_time": "2022-09-02T00:58:24.752014",
     "exception": false,
     "start_time": "2022-09-02T00:58:24.734491",
     "status": "completed"
    },
    "tags": []
   },
   "outputs": [
    {
     "data": {
      "text/plain": [
       "0.20574162679425836"
      ]
     },
     "execution_count": 7,
     "metadata": {},
     "output_type": "execute_result"
    }
   ],
   "source": [
    "# Ratio of missing age in test data\n",
    "X_test.isnull().sum().loc['Age']/len(X_test)"
   ]
  },
  {
   "cell_type": "code",
   "execution_count": 8,
   "id": "f3cbc6ac",
   "metadata": {
    "execution": {
     "iopub.execute_input": "2022-09-02T00:58:24.766551Z",
     "iopub.status.busy": "2022-09-02T00:58:24.765365Z",
     "iopub.status.idle": "2022-09-02T00:58:24.786722Z",
     "shell.execute_reply": "2022-09-02T00:58:24.785406Z"
    },
    "papermill": {
     "duration": 0.031068,
     "end_time": "2022-09-02T00:58:24.789148",
     "exception": false,
     "start_time": "2022-09-02T00:58:24.758080",
     "status": "completed"
    },
    "tags": []
   },
   "outputs": [
    {
     "data": {
      "text/html": [
       "<div>\n",
       "<style scoped>\n",
       "    .dataframe tbody tr th:only-of-type {\n",
       "        vertical-align: middle;\n",
       "    }\n",
       "\n",
       "    .dataframe tbody tr th {\n",
       "        vertical-align: top;\n",
       "    }\n",
       "\n",
       "    .dataframe thead th {\n",
       "        text-align: right;\n",
       "    }\n",
       "</style>\n",
       "<table border=\"1\" class=\"dataframe\">\n",
       "  <thead>\n",
       "    <tr style=\"text-align: right;\">\n",
       "      <th></th>\n",
       "      <th>PassengerId</th>\n",
       "      <th>Pclass</th>\n",
       "      <th>Name</th>\n",
       "      <th>Sex</th>\n",
       "      <th>Age</th>\n",
       "      <th>SibSp</th>\n",
       "      <th>Parch</th>\n",
       "      <th>Ticket</th>\n",
       "      <th>Fare</th>\n",
       "      <th>Cabin</th>\n",
       "      <th>Embarked</th>\n",
       "    </tr>\n",
       "  </thead>\n",
       "  <tbody>\n",
       "    <tr>\n",
       "      <th>0</th>\n",
       "      <td>1</td>\n",
       "      <td>3</td>\n",
       "      <td>Braund, Mr. Owen Harris</td>\n",
       "      <td>male</td>\n",
       "      <td>22.0</td>\n",
       "      <td>1</td>\n",
       "      <td>0</td>\n",
       "      <td>A/5 21171</td>\n",
       "      <td>7.2500</td>\n",
       "      <td>NaN</td>\n",
       "      <td>S</td>\n",
       "    </tr>\n",
       "    <tr>\n",
       "      <th>1</th>\n",
       "      <td>2</td>\n",
       "      <td>1</td>\n",
       "      <td>Cumings, Mrs. John Bradley (Florence Briggs Th...</td>\n",
       "      <td>female</td>\n",
       "      <td>38.0</td>\n",
       "      <td>1</td>\n",
       "      <td>0</td>\n",
       "      <td>PC 17599</td>\n",
       "      <td>71.2833</td>\n",
       "      <td>C85</td>\n",
       "      <td>C</td>\n",
       "    </tr>\n",
       "    <tr>\n",
       "      <th>2</th>\n",
       "      <td>3</td>\n",
       "      <td>3</td>\n",
       "      <td>Heikkinen, Miss. Laina</td>\n",
       "      <td>female</td>\n",
       "      <td>26.0</td>\n",
       "      <td>0</td>\n",
       "      <td>0</td>\n",
       "      <td>STON/O2. 3101282</td>\n",
       "      <td>7.9250</td>\n",
       "      <td>NaN</td>\n",
       "      <td>S</td>\n",
       "    </tr>\n",
       "    <tr>\n",
       "      <th>3</th>\n",
       "      <td>4</td>\n",
       "      <td>1</td>\n",
       "      <td>Futrelle, Mrs. Jacques Heath (Lily May Peel)</td>\n",
       "      <td>female</td>\n",
       "      <td>35.0</td>\n",
       "      <td>1</td>\n",
       "      <td>0</td>\n",
       "      <td>113803</td>\n",
       "      <td>53.1000</td>\n",
       "      <td>C123</td>\n",
       "      <td>S</td>\n",
       "    </tr>\n",
       "    <tr>\n",
       "      <th>4</th>\n",
       "      <td>5</td>\n",
       "      <td>3</td>\n",
       "      <td>Allen, Mr. William Henry</td>\n",
       "      <td>male</td>\n",
       "      <td>35.0</td>\n",
       "      <td>0</td>\n",
       "      <td>0</td>\n",
       "      <td>373450</td>\n",
       "      <td>8.0500</td>\n",
       "      <td>NaN</td>\n",
       "      <td>S</td>\n",
       "    </tr>\n",
       "  </tbody>\n",
       "</table>\n",
       "</div>"
      ],
      "text/plain": [
       "   PassengerId  Pclass                                               Name  \\\n",
       "0            1       3                            Braund, Mr. Owen Harris   \n",
       "1            2       1  Cumings, Mrs. John Bradley (Florence Briggs Th...   \n",
       "2            3       3                             Heikkinen, Miss. Laina   \n",
       "3            4       1       Futrelle, Mrs. Jacques Heath (Lily May Peel)   \n",
       "4            5       3                           Allen, Mr. William Henry   \n",
       "\n",
       "      Sex   Age  SibSp  Parch            Ticket     Fare Cabin Embarked  \n",
       "0    male  22.0      1      0         A/5 21171   7.2500   NaN        S  \n",
       "1  female  38.0      1      0          PC 17599  71.2833   C85        C  \n",
       "2  female  26.0      0      0  STON/O2. 3101282   7.9250   NaN        S  \n",
       "3  female  35.0      1      0            113803  53.1000  C123        S  \n",
       "4    male  35.0      0      0            373450   8.0500   NaN        S  "
      ]
     },
     "execution_count": 8,
     "metadata": {},
     "output_type": "execute_result"
    }
   ],
   "source": [
    "X_train.head()"
   ]
  },
  {
   "cell_type": "code",
   "execution_count": 9,
   "id": "aa95162e",
   "metadata": {
    "execution": {
     "iopub.execute_input": "2022-09-02T00:58:24.804489Z",
     "iopub.status.busy": "2022-09-02T00:58:24.803504Z",
     "iopub.status.idle": "2022-09-02T00:58:24.811171Z",
     "shell.execute_reply": "2022-09-02T00:58:24.810136Z"
    },
    "papermill": {
     "duration": 0.017776,
     "end_time": "2022-09-02T00:58:24.813512",
     "exception": false,
     "start_time": "2022-09-02T00:58:24.795736",
     "status": "completed"
    },
    "tags": []
   },
   "outputs": [],
   "source": [
    "# Dropping useless columns \n",
    "X_train = X_train.drop(['Name','Ticket','Cabin','PassengerId'],axis=1)\n",
    "X_test = X_test.drop(['Name','Ticket','Cabin','PassengerId'],axis=1)"
   ]
  },
  {
   "cell_type": "code",
   "execution_count": 10,
   "id": "440743fe",
   "metadata": {
    "execution": {
     "iopub.execute_input": "2022-09-02T00:58:24.828667Z",
     "iopub.status.busy": "2022-09-02T00:58:24.827938Z",
     "iopub.status.idle": "2022-09-02T00:58:24.841047Z",
     "shell.execute_reply": "2022-09-02T00:58:24.839858Z"
    },
    "papermill": {
     "duration": 0.023366,
     "end_time": "2022-09-02T00:58:24.843376",
     "exception": false,
     "start_time": "2022-09-02T00:58:24.820010",
     "status": "completed"
    },
    "tags": []
   },
   "outputs": [
    {
     "data": {
      "text/html": [
       "<div>\n",
       "<style scoped>\n",
       "    .dataframe tbody tr th:only-of-type {\n",
       "        vertical-align: middle;\n",
       "    }\n",
       "\n",
       "    .dataframe tbody tr th {\n",
       "        vertical-align: top;\n",
       "    }\n",
       "\n",
       "    .dataframe thead th {\n",
       "        text-align: right;\n",
       "    }\n",
       "</style>\n",
       "<table border=\"1\" class=\"dataframe\">\n",
       "  <thead>\n",
       "    <tr style=\"text-align: right;\">\n",
       "      <th></th>\n",
       "      <th>Pclass</th>\n",
       "      <th>Sex</th>\n",
       "      <th>Age</th>\n",
       "      <th>SibSp</th>\n",
       "      <th>Parch</th>\n",
       "      <th>Fare</th>\n",
       "      <th>Embarked</th>\n",
       "    </tr>\n",
       "  </thead>\n",
       "  <tbody>\n",
       "    <tr>\n",
       "      <th>0</th>\n",
       "      <td>3</td>\n",
       "      <td>male</td>\n",
       "      <td>22.0</td>\n",
       "      <td>1</td>\n",
       "      <td>0</td>\n",
       "      <td>7.2500</td>\n",
       "      <td>S</td>\n",
       "    </tr>\n",
       "    <tr>\n",
       "      <th>1</th>\n",
       "      <td>1</td>\n",
       "      <td>female</td>\n",
       "      <td>38.0</td>\n",
       "      <td>1</td>\n",
       "      <td>0</td>\n",
       "      <td>71.2833</td>\n",
       "      <td>C</td>\n",
       "    </tr>\n",
       "    <tr>\n",
       "      <th>2</th>\n",
       "      <td>3</td>\n",
       "      <td>female</td>\n",
       "      <td>26.0</td>\n",
       "      <td>0</td>\n",
       "      <td>0</td>\n",
       "      <td>7.9250</td>\n",
       "      <td>S</td>\n",
       "    </tr>\n",
       "    <tr>\n",
       "      <th>3</th>\n",
       "      <td>1</td>\n",
       "      <td>female</td>\n",
       "      <td>35.0</td>\n",
       "      <td>1</td>\n",
       "      <td>0</td>\n",
       "      <td>53.1000</td>\n",
       "      <td>S</td>\n",
       "    </tr>\n",
       "    <tr>\n",
       "      <th>4</th>\n",
       "      <td>3</td>\n",
       "      <td>male</td>\n",
       "      <td>35.0</td>\n",
       "      <td>0</td>\n",
       "      <td>0</td>\n",
       "      <td>8.0500</td>\n",
       "      <td>S</td>\n",
       "    </tr>\n",
       "  </tbody>\n",
       "</table>\n",
       "</div>"
      ],
      "text/plain": [
       "   Pclass     Sex   Age  SibSp  Parch     Fare Embarked\n",
       "0       3    male  22.0      1      0   7.2500        S\n",
       "1       1  female  38.0      1      0  71.2833        C\n",
       "2       3  female  26.0      0      0   7.9250        S\n",
       "3       1  female  35.0      1      0  53.1000        S\n",
       "4       3    male  35.0      0      0   8.0500        S"
      ]
     },
     "execution_count": 10,
     "metadata": {},
     "output_type": "execute_result"
    }
   ],
   "source": [
    "X_train.head()"
   ]
  },
  {
   "cell_type": "code",
   "execution_count": 11,
   "id": "cdaefe2b",
   "metadata": {
    "execution": {
     "iopub.execute_input": "2022-09-02T00:58:24.858742Z",
     "iopub.status.busy": "2022-09-02T00:58:24.858034Z",
     "iopub.status.idle": "2022-09-02T00:58:24.871135Z",
     "shell.execute_reply": "2022-09-02T00:58:24.870275Z"
    },
    "papermill": {
     "duration": 0.023406,
     "end_time": "2022-09-02T00:58:24.873367",
     "exception": false,
     "start_time": "2022-09-02T00:58:24.849961",
     "status": "completed"
    },
    "tags": []
   },
   "outputs": [
    {
     "data": {
      "text/html": [
       "<div>\n",
       "<style scoped>\n",
       "    .dataframe tbody tr th:only-of-type {\n",
       "        vertical-align: middle;\n",
       "    }\n",
       "\n",
       "    .dataframe tbody tr th {\n",
       "        vertical-align: top;\n",
       "    }\n",
       "\n",
       "    .dataframe thead th {\n",
       "        text-align: right;\n",
       "    }\n",
       "</style>\n",
       "<table border=\"1\" class=\"dataframe\">\n",
       "  <thead>\n",
       "    <tr style=\"text-align: right;\">\n",
       "      <th></th>\n",
       "      <th>Pclass</th>\n",
       "      <th>Sex</th>\n",
       "      <th>Age</th>\n",
       "      <th>SibSp</th>\n",
       "      <th>Parch</th>\n",
       "      <th>Fare</th>\n",
       "      <th>Embarked</th>\n",
       "    </tr>\n",
       "  </thead>\n",
       "  <tbody>\n",
       "    <tr>\n",
       "      <th>0</th>\n",
       "      <td>3</td>\n",
       "      <td>male</td>\n",
       "      <td>34.5</td>\n",
       "      <td>0</td>\n",
       "      <td>0</td>\n",
       "      <td>7.8292</td>\n",
       "      <td>Q</td>\n",
       "    </tr>\n",
       "    <tr>\n",
       "      <th>1</th>\n",
       "      <td>3</td>\n",
       "      <td>female</td>\n",
       "      <td>47.0</td>\n",
       "      <td>1</td>\n",
       "      <td>0</td>\n",
       "      <td>7.0000</td>\n",
       "      <td>S</td>\n",
       "    </tr>\n",
       "    <tr>\n",
       "      <th>2</th>\n",
       "      <td>2</td>\n",
       "      <td>male</td>\n",
       "      <td>62.0</td>\n",
       "      <td>0</td>\n",
       "      <td>0</td>\n",
       "      <td>9.6875</td>\n",
       "      <td>Q</td>\n",
       "    </tr>\n",
       "    <tr>\n",
       "      <th>3</th>\n",
       "      <td>3</td>\n",
       "      <td>male</td>\n",
       "      <td>27.0</td>\n",
       "      <td>0</td>\n",
       "      <td>0</td>\n",
       "      <td>8.6625</td>\n",
       "      <td>S</td>\n",
       "    </tr>\n",
       "    <tr>\n",
       "      <th>4</th>\n",
       "      <td>3</td>\n",
       "      <td>female</td>\n",
       "      <td>22.0</td>\n",
       "      <td>1</td>\n",
       "      <td>1</td>\n",
       "      <td>12.2875</td>\n",
       "      <td>S</td>\n",
       "    </tr>\n",
       "  </tbody>\n",
       "</table>\n",
       "</div>"
      ],
      "text/plain": [
       "   Pclass     Sex   Age  SibSp  Parch     Fare Embarked\n",
       "0       3    male  34.5      0      0   7.8292        Q\n",
       "1       3  female  47.0      1      0   7.0000        S\n",
       "2       2    male  62.0      0      0   9.6875        Q\n",
       "3       3    male  27.0      0      0   8.6625        S\n",
       "4       3  female  22.0      1      1  12.2875        S"
      ]
     },
     "execution_count": 11,
     "metadata": {},
     "output_type": "execute_result"
    }
   ],
   "source": [
    "X_test.head()"
   ]
  },
  {
   "cell_type": "code",
   "execution_count": 12,
   "id": "e7f0ce5b",
   "metadata": {
    "execution": {
     "iopub.execute_input": "2022-09-02T00:58:24.888986Z",
     "iopub.status.busy": "2022-09-02T00:58:24.888554Z",
     "iopub.status.idle": "2022-09-02T00:58:24.905571Z",
     "shell.execute_reply": "2022-09-02T00:58:24.904704Z"
    },
    "papermill": {
     "duration": 0.028266,
     "end_time": "2022-09-02T00:58:24.908456",
     "exception": false,
     "start_time": "2022-09-02T00:58:24.880190",
     "status": "completed"
    },
    "tags": []
   },
   "outputs": [],
   "source": [
    "# Converting to numerical data\n",
    "X_train_num = pd.get_dummies(X_train,drop_first=True)\n",
    "X_test_num = pd.get_dummies(X_test,drop_first=True)"
   ]
  },
  {
   "cell_type": "code",
   "execution_count": 13,
   "id": "662c5081",
   "metadata": {
    "execution": {
     "iopub.execute_input": "2022-09-02T00:58:24.924417Z",
     "iopub.status.busy": "2022-09-02T00:58:24.923784Z",
     "iopub.status.idle": "2022-09-02T00:58:24.934043Z",
     "shell.execute_reply": "2022-09-02T00:58:24.933113Z"
    },
    "papermill": {
     "duration": 0.020922,
     "end_time": "2022-09-02T00:58:24.936258",
     "exception": false,
     "start_time": "2022-09-02T00:58:24.915336",
     "status": "completed"
    },
    "tags": []
   },
   "outputs": [
    {
     "data": {
      "text/plain": [
       "Pclass          0\n",
       "Age           177\n",
       "SibSp           0\n",
       "Parch           0\n",
       "Fare            0\n",
       "Sex_male        0\n",
       "Embarked_Q      0\n",
       "Embarked_S      0\n",
       "dtype: int64"
      ]
     },
     "execution_count": 13,
     "metadata": {},
     "output_type": "execute_result"
    }
   ],
   "source": [
    "# 177 missing age values\n",
    "X_train_num.isnull().sum()"
   ]
  },
  {
   "cell_type": "code",
   "execution_count": 14,
   "id": "763c83b1",
   "metadata": {
    "execution": {
     "iopub.execute_input": "2022-09-02T00:58:24.952678Z",
     "iopub.status.busy": "2022-09-02T00:58:24.952065Z",
     "iopub.status.idle": "2022-09-02T00:58:24.960179Z",
     "shell.execute_reply": "2022-09-02T00:58:24.959319Z"
    },
    "papermill": {
     "duration": 0.018826,
     "end_time": "2022-09-02T00:58:24.962352",
     "exception": false,
     "start_time": "2022-09-02T00:58:24.943526",
     "status": "completed"
    },
    "tags": []
   },
   "outputs": [
    {
     "data": {
      "text/plain": [
       "Pclass         0\n",
       "Age           86\n",
       "SibSp          0\n",
       "Parch          0\n",
       "Fare           1\n",
       "Sex_male       0\n",
       "Embarked_Q     0\n",
       "Embarked_S     0\n",
       "dtype: int64"
      ]
     },
     "execution_count": 14,
     "metadata": {},
     "output_type": "execute_result"
    }
   ],
   "source": [
    "# 86 missing age values, 1 missing fare values\n",
    "X_test_num.isnull().sum()"
   ]
  },
  {
   "cell_type": "code",
   "execution_count": 15,
   "id": "36016c84",
   "metadata": {
    "execution": {
     "iopub.execute_input": "2022-09-02T00:58:24.978460Z",
     "iopub.status.busy": "2022-09-02T00:58:24.977856Z",
     "iopub.status.idle": "2022-09-02T00:58:26.314203Z",
     "shell.execute_reply": "2022-09-02T00:58:26.312522Z"
    },
    "papermill": {
     "duration": 1.349431,
     "end_time": "2022-09-02T00:58:26.318791",
     "exception": false,
     "start_time": "2022-09-02T00:58:24.969360",
     "status": "completed"
    },
    "tags": []
   },
   "outputs": [],
   "source": [
    "# Filling out missing values using KNN\n",
    "from sklearn.impute import KNNImputer\n",
    "\n",
    "imputer = KNNImputer(n_neighbors=10)\n",
    "X_train_num_filled = imputer.fit_transform(X_train_num)\n",
    "X_test_num_filled = imputer.fit_transform(X_test_num)"
   ]
  },
  {
   "cell_type": "code",
   "execution_count": 16,
   "id": "7b5e7a70",
   "metadata": {
    "execution": {
     "iopub.execute_input": "2022-09-02T00:58:26.360588Z",
     "iopub.status.busy": "2022-09-02T00:58:26.359880Z",
     "iopub.status.idle": "2022-09-02T00:58:26.475676Z",
     "shell.execute_reply": "2022-09-02T00:58:26.474483Z"
    },
    "papermill": {
     "duration": 0.139083,
     "end_time": "2022-09-02T00:58:26.478214",
     "exception": false,
     "start_time": "2022-09-02T00:58:26.339131",
     "status": "completed"
    },
    "tags": []
   },
   "outputs": [
    {
     "data": {
      "text/plain": [
       "0.6251402918069585"
      ]
     },
     "execution_count": 16,
     "metadata": {},
     "output_type": "execute_result"
    }
   ],
   "source": [
    "# Linear SVC\n",
    "from sklearn.svm import LinearSVC\n",
    "from sklearn.pipeline import make_pipeline\n",
    "from sklearn.preprocessing import StandardScaler\n",
    "\n",
    "pipe = make_pipeline(StandardScaler(),LinearSVC(class_weight='balanced',max_iter=10000))\n",
    "pipe.fit(X_train_num_filled, y_train)\n",
    "pipe.named_steps['linearsvc'].score(X_train_num_filled, y_train)"
   ]
  },
  {
   "cell_type": "code",
   "execution_count": 17,
   "id": "59e22b8c",
   "metadata": {
    "execution": {
     "iopub.execute_input": "2022-09-02T00:58:26.494661Z",
     "iopub.status.busy": "2022-09-02T00:58:26.493963Z",
     "iopub.status.idle": "2022-09-02T00:58:26.498698Z",
     "shell.execute_reply": "2022-09-02T00:58:26.497834Z"
    },
    "papermill": {
     "duration": 0.015777,
     "end_time": "2022-09-02T00:58:26.501150",
     "exception": false,
     "start_time": "2022-09-02T00:58:26.485373",
     "status": "completed"
    },
    "tags": []
   },
   "outputs": [],
   "source": [
    "# from sklearn.neighbors import KNeighborsClassifier\n",
    "# neigh = KNeighborsClassifier(n_neighbors=1)\n",
    "# neigh.fit(X_train_num_filled, y_train)\n",
    "# neigh.score(X_train_num_filled, y_train)"
   ]
  },
  {
   "cell_type": "code",
   "execution_count": 18,
   "id": "5d269f35",
   "metadata": {
    "execution": {
     "iopub.execute_input": "2022-09-02T00:58:26.517830Z",
     "iopub.status.busy": "2022-09-02T00:58:26.517003Z",
     "iopub.status.idle": "2022-09-02T00:58:26.526092Z",
     "shell.execute_reply": "2022-09-02T00:58:26.524997Z"
    },
    "papermill": {
     "duration": 0.019837,
     "end_time": "2022-09-02T00:58:26.528219",
     "exception": false,
     "start_time": "2022-09-02T00:58:26.508382",
     "status": "completed"
    },
    "tags": []
   },
   "outputs": [
    {
     "data": {
      "text/plain": [
       "array([0, 0, 0, 0, 1, 0, 1, 0, 1, 0, 0, 0, 1, 0, 1, 1, 0, 0, 1, 1, 0, 0,\n",
       "       1, 1, 1, 0, 1, 0, 0, 0, 0, 0, 1, 1, 1, 0, 1, 1, 0, 0, 0, 1, 0, 1,\n",
       "       1, 0, 1, 0, 1, 1, 1, 0, 1, 1, 0, 0, 0, 0, 0, 1, 0, 0, 0, 1, 1, 1,\n",
       "       1, 0, 1, 1, 1, 0, 1, 1, 1, 1, 0, 1, 0, 1, 0, 0, 0, 0, 0, 0, 1, 1,\n",
       "       1, 0, 1, 0, 1, 0, 1, 0, 1, 0, 1, 0, 1, 0, 0, 0, 1, 0, 0, 0, 0, 0,\n",
       "       0, 1, 1, 1, 1, 0, 0, 1, 1, 1, 1, 0, 1, 0, 0, 1, 0, 1, 0, 0, 0, 0,\n",
       "       1, 0, 0, 0, 0, 0, 1, 0, 0, 1, 0, 0, 0, 0, 0, 0, 1, 0, 1, 0, 0, 1,\n",
       "       0, 0, 1, 1, 0, 1, 1, 0, 1, 0, 0, 1, 1, 0, 1, 1, 0, 0, 0, 0, 0, 1,\n",
       "       1, 0, 1, 1, 0, 1, 1, 0, 1, 0, 1, 0, 0, 0, 0, 1, 0, 0, 0, 0, 1, 1,\n",
       "       0, 1, 1, 0, 1, 1, 0, 1, 1, 0, 1, 0, 0, 0, 0, 1, 0, 0, 1, 0, 1, 0,\n",
       "       1, 0, 1, 0, 1, 1, 0, 1, 0, 0, 0, 1, 0, 0, 1, 0, 0, 0, 1, 1, 1, 1,\n",
       "       0, 0, 0, 0, 1, 0, 1, 1, 1, 0, 1, 0, 0, 0, 0, 0, 1, 0, 0, 0, 1, 1,\n",
       "       0, 0, 1, 0, 1, 0, 1, 0, 1, 1, 0, 1, 0, 0, 0, 0, 1, 0, 1, 1, 1, 0,\n",
       "       0, 1, 0, 0, 1, 1, 0, 0, 0, 0, 1, 0, 1, 0, 0, 0, 0, 0, 1, 1, 0, 0,\n",
       "       0, 0, 0, 0, 0, 1, 1, 1, 0, 0, 0, 0, 0, 0, 0, 1, 1, 0, 1, 1, 0, 0,\n",
       "       1, 1, 0, 1, 0, 1, 0, 0, 0, 0, 0, 0, 0, 1, 0, 1, 0, 1, 0, 1, 1, 0,\n",
       "       0, 0, 1, 0, 1, 0, 0, 1, 0, 1, 1, 0, 1, 0, 0, 1, 1, 0, 0, 1, 0, 0,\n",
       "       1, 1, 1, 0, 0, 0, 0, 0, 1, 1, 0, 1, 0, 0, 0, 0, 1, 1, 0, 0, 0, 1,\n",
       "       0, 1, 0, 0, 1, 0, 1, 1, 0, 0, 0, 0, 1, 1, 1, 1, 1, 0, 1, 0, 0, 0])"
      ]
     },
     "execution_count": 18,
     "metadata": {},
     "output_type": "execute_result"
    }
   ],
   "source": [
    "predictions = pipe.predict(X_test_num_filled)\n",
    "predictions"
   ]
  },
  {
   "cell_type": "code",
   "execution_count": 19,
   "id": "841d4e3a",
   "metadata": {
    "execution": {
     "iopub.execute_input": "2022-09-02T00:58:26.545024Z",
     "iopub.status.busy": "2022-09-02T00:58:26.544337Z",
     "iopub.status.idle": "2022-09-02T00:58:26.556821Z",
     "shell.execute_reply": "2022-09-02T00:58:26.555961Z"
    },
    "papermill": {
     "duration": 0.023384,
     "end_time": "2022-09-02T00:58:26.559069",
     "exception": false,
     "start_time": "2022-09-02T00:58:26.535685",
     "status": "completed"
    },
    "tags": []
   },
   "outputs": [
    {
     "data": {
      "text/html": [
       "<div>\n",
       "<style scoped>\n",
       "    .dataframe tbody tr th:only-of-type {\n",
       "        vertical-align: middle;\n",
       "    }\n",
       "\n",
       "    .dataframe tbody tr th {\n",
       "        vertical-align: top;\n",
       "    }\n",
       "\n",
       "    .dataframe thead th {\n",
       "        text-align: right;\n",
       "    }\n",
       "</style>\n",
       "<table border=\"1\" class=\"dataframe\">\n",
       "  <thead>\n",
       "    <tr style=\"text-align: right;\">\n",
       "      <th></th>\n",
       "      <th>PassengerId</th>\n",
       "      <th>Survived</th>\n",
       "    </tr>\n",
       "  </thead>\n",
       "  <tbody>\n",
       "    <tr>\n",
       "      <th>0</th>\n",
       "      <td>892</td>\n",
       "      <td>0</td>\n",
       "    </tr>\n",
       "    <tr>\n",
       "      <th>1</th>\n",
       "      <td>893</td>\n",
       "      <td>0</td>\n",
       "    </tr>\n",
       "    <tr>\n",
       "      <th>2</th>\n",
       "      <td>894</td>\n",
       "      <td>0</td>\n",
       "    </tr>\n",
       "    <tr>\n",
       "      <th>3</th>\n",
       "      <td>895</td>\n",
       "      <td>0</td>\n",
       "    </tr>\n",
       "    <tr>\n",
       "      <th>4</th>\n",
       "      <td>896</td>\n",
       "      <td>1</td>\n",
       "    </tr>\n",
       "    <tr>\n",
       "      <th>...</th>\n",
       "      <td>...</td>\n",
       "      <td>...</td>\n",
       "    </tr>\n",
       "    <tr>\n",
       "      <th>413</th>\n",
       "      <td>1305</td>\n",
       "      <td>0</td>\n",
       "    </tr>\n",
       "    <tr>\n",
       "      <th>414</th>\n",
       "      <td>1306</td>\n",
       "      <td>1</td>\n",
       "    </tr>\n",
       "    <tr>\n",
       "      <th>415</th>\n",
       "      <td>1307</td>\n",
       "      <td>0</td>\n",
       "    </tr>\n",
       "    <tr>\n",
       "      <th>416</th>\n",
       "      <td>1308</td>\n",
       "      <td>0</td>\n",
       "    </tr>\n",
       "    <tr>\n",
       "      <th>417</th>\n",
       "      <td>1309</td>\n",
       "      <td>0</td>\n",
       "    </tr>\n",
       "  </tbody>\n",
       "</table>\n",
       "<p>418 rows × 2 columns</p>\n",
       "</div>"
      ],
      "text/plain": [
       "     PassengerId  Survived\n",
       "0            892         0\n",
       "1            893         0\n",
       "2            894         0\n",
       "3            895         0\n",
       "4            896         1\n",
       "..           ...       ...\n",
       "413         1305         0\n",
       "414         1306         1\n",
       "415         1307         0\n",
       "416         1308         0\n",
       "417         1309         0\n",
       "\n",
       "[418 rows x 2 columns]"
      ]
     },
     "execution_count": 19,
     "metadata": {},
     "output_type": "execute_result"
    }
   ],
   "source": [
    "output = pd.DataFrame({'PassengerId': data_test.PassengerId, 'Survived': predictions})\n",
    "output"
   ]
  },
  {
   "cell_type": "code",
   "execution_count": 20,
   "id": "69419462",
   "metadata": {
    "execution": {
     "iopub.execute_input": "2022-09-02T00:58:26.576467Z",
     "iopub.status.busy": "2022-09-02T00:58:26.575695Z",
     "iopub.status.idle": "2022-09-02T00:58:26.584377Z",
     "shell.execute_reply": "2022-09-02T00:58:26.583099Z"
    },
    "papermill": {
     "duration": 0.020412,
     "end_time": "2022-09-02T00:58:26.586994",
     "exception": false,
     "start_time": "2022-09-02T00:58:26.566582",
     "status": "completed"
    },
    "tags": []
   },
   "outputs": [],
   "source": [
    "output.to_csv('submission.csv', index=False)"
   ]
  },
  {
   "cell_type": "code",
   "execution_count": null,
   "id": "e06468ac",
   "metadata": {
    "papermill": {
     "duration": 0.007174,
     "end_time": "2022-09-02T00:58:26.601630",
     "exception": false,
     "start_time": "2022-09-02T00:58:26.594456",
     "status": "completed"
    },
    "tags": []
   },
   "outputs": [],
   "source": []
  }
 ],
 "metadata": {
  "kernelspec": {
   "display_name": "Python 3",
   "language": "python",
   "name": "python3"
  },
  "language_info": {
   "codemirror_mode": {
    "name": "ipython",
    "version": 3
   },
   "file_extension": ".py",
   "mimetype": "text/x-python",
   "name": "python",
   "nbconvert_exporter": "python",
   "pygments_lexer": "ipython3",
   "version": "3.7.12"
  },
  "papermill": {
   "default_parameters": {},
   "duration": 12.846941,
   "end_time": "2022-09-02T00:58:27.432076",
   "environment_variables": {},
   "exception": null,
   "input_path": "__notebook__.ipynb",
   "output_path": "__notebook__.ipynb",
   "parameters": {},
   "start_time": "2022-09-02T00:58:14.585135",
   "version": "2.3.4"
  }
 },
 "nbformat": 4,
 "nbformat_minor": 5
}
